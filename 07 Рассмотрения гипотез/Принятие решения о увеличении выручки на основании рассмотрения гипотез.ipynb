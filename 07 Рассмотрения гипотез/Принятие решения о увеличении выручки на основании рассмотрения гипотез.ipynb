{
 "cells": [
  {
   "cell_type": "markdown",
   "metadata": {
    "id": "KMLXTILXvTdr"
   },
   "source": [
    "# Принятие решения о увеличении выручки на основании рассмотрения гипотез"
   ]
  },
  {
   "cell_type": "markdown",
   "metadata": {
    "id": "E9vX89GLyv0v"
   },
   "source": [
    "Мы осуществляем деятельность аналитика в крупном интернет-магазине. Вместе с отделом маркетинга мы подготовили 9 гипотез для увеличения выручки. \n",
    "\n",
    "**Цель исследования:**\n",
    "\n",
    "Проверка гипотез по увеличению выручки интернет-магазина \n",
    "\n",
    "**Ход исследования**\n",
    "\n",
    "Данные для исследования мы получим тремя файлами:\n",
    "\n",
    "*   /datasets/hypothesis.csv. - информация о гипотезах; \n",
    "*   /datasets/orders.csv - информация о заказах; \n",
    "*   /datasets/visitors.csv - информация о пользователях.\n",
    "\n",
    "Исследование пройдёт в четыре этапа:\n",
    "\n",
    "1.   Обзор данных.\n",
    "2.   Обработка данных.\n",
    "3.   Проверка гипотез:\n",
    "*   Приоритизация гипотез\n",
    "*   Анализ A/B-теста"
   ]
  },
  {
   "cell_type": "markdown",
   "metadata": {
    "id": "IyI8RtTy5mGd"
   },
   "source": [
    "## Обзор данных"
   ]
  },
  {
   "cell_type": "code",
   "execution_count": 1,
   "metadata": {
    "executionInfo": {
     "elapsed": 353,
     "status": "ok",
     "timestamp": 1658933026388,
     "user": {
      "displayName": "Andrey Sokolov",
      "userId": "11877895700433819034"
     },
     "user_tz": -180
    },
    "id": "B70YeJtBvMGy"
   },
   "outputs": [],
   "source": [
    "import pandas as pd\n",
    "import scipy.stats as st\n",
    "import datetime as dt\n",
    "import numpy as np\n",
    "import math as mth\n",
    "import matplotlib.pyplot as plt"
   ]
  },
  {
   "cell_type": "code",
   "execution_count": 2,
   "metadata": {
    "executionInfo": {
     "elapsed": 11,
     "status": "ok",
     "timestamp": 1658933028691,
     "user": {
      "displayName": "Andrey Sokolov",
      "userId": "11877895700433819034"
     },
     "user_tz": -180
    },
    "id": "2OWl49w-D-xC"
   },
   "outputs": [],
   "source": [
    "hypothesis, orders, visitors = (\n",
    "    pd.read_csv('/datasets/hypothesis.csv'),  # информация о гипотезах\n",
    "    pd.read_csv('/datasets/orders.csv'),  # информация о заказах\n",
    "    pd.read_csv('/datasets/visitors.csv'),  # информация о пользователях\n",
    ")"
   ]
  },
  {
   "cell_type": "markdown",
   "metadata": {
    "id": "djlV0oGhE_VK"
   },
   "source": [
    "**Информация о гипотезах**"
   ]
  },
  {
   "cell_type": "code",
   "execution_count": 3,
   "metadata": {
    "colab": {
     "base_uri": "https://localhost:8080/",
     "height": 978
    },
    "executionInfo": {
     "elapsed": 11,
     "status": "ok",
     "timestamp": 1658933028692,
     "user": {
      "displayName": "Andrey Sokolov",
      "userId": "11877895700433819034"
     },
     "user_tz": -180
    },
    "id": "KIqUrXJZFl6f",
    "outputId": "92778945-a7aa-4974-97b8-1dd4e10d2cf2"
   },
   "outputs": [
    {
     "name": "stdout",
     "output_type": "stream",
     "text": [
      "<class 'pandas.core.frame.DataFrame'>\n",
      "RangeIndex: 9 entries, 0 to 8\n",
      "Data columns (total 5 columns):\n",
      " #   Column      Non-Null Count  Dtype \n",
      "---  ------      --------------  ----- \n",
      " 0   Hypothesis  9 non-null      object\n",
      " 1   Reach       9 non-null      int64 \n",
      " 2   Impact      9 non-null      int64 \n",
      " 3   Confidence  9 non-null      int64 \n",
      " 4   Efforts     9 non-null      int64 \n",
      "dtypes: int64(4), object(1)\n",
      "memory usage: 488.0+ bytes\n"
     ]
    },
    {
     "data": {
      "text/html": [
       "<div>\n",
       "<style scoped>\n",
       "    .dataframe tbody tr th:only-of-type {\n",
       "        vertical-align: middle;\n",
       "    }\n",
       "\n",
       "    .dataframe tbody tr th {\n",
       "        vertical-align: top;\n",
       "    }\n",
       "\n",
       "    .dataframe thead th {\n",
       "        text-align: right;\n",
       "    }\n",
       "</style>\n",
       "<table border=\"1\" class=\"dataframe\">\n",
       "  <thead>\n",
       "    <tr style=\"text-align: right;\">\n",
       "      <th></th>\n",
       "      <th>Hypothesis</th>\n",
       "      <th>Reach</th>\n",
       "      <th>Impact</th>\n",
       "      <th>Confidence</th>\n",
       "      <th>Efforts</th>\n",
       "    </tr>\n",
       "  </thead>\n",
       "  <tbody>\n",
       "    <tr>\n",
       "      <th>0</th>\n",
       "      <td>Добавить два новых канала привлечения трафика,...</td>\n",
       "      <td>3</td>\n",
       "      <td>10</td>\n",
       "      <td>8</td>\n",
       "      <td>6</td>\n",
       "    </tr>\n",
       "    <tr>\n",
       "      <th>1</th>\n",
       "      <td>Запустить собственную службу доставки, что сок...</td>\n",
       "      <td>2</td>\n",
       "      <td>5</td>\n",
       "      <td>4</td>\n",
       "      <td>10</td>\n",
       "    </tr>\n",
       "    <tr>\n",
       "      <th>2</th>\n",
       "      <td>Добавить блоки рекомендаций товаров на сайт ин...</td>\n",
       "      <td>8</td>\n",
       "      <td>3</td>\n",
       "      <td>7</td>\n",
       "      <td>3</td>\n",
       "    </tr>\n",
       "    <tr>\n",
       "      <th>3</th>\n",
       "      <td>Изменить структура категорий, что увеличит кон...</td>\n",
       "      <td>8</td>\n",
       "      <td>3</td>\n",
       "      <td>3</td>\n",
       "      <td>8</td>\n",
       "    </tr>\n",
       "    <tr>\n",
       "      <th>4</th>\n",
       "      <td>Изменить цвет фона главной страницы, чтобы уве...</td>\n",
       "      <td>3</td>\n",
       "      <td>1</td>\n",
       "      <td>1</td>\n",
       "      <td>1</td>\n",
       "    </tr>\n",
       "  </tbody>\n",
       "</table>\n",
       "</div>"
      ],
      "text/plain": [
       "                                          Hypothesis  Reach  Impact  \\\n",
       "0  Добавить два новых канала привлечения трафика,...      3      10   \n",
       "1  Запустить собственную службу доставки, что сок...      2       5   \n",
       "2  Добавить блоки рекомендаций товаров на сайт ин...      8       3   \n",
       "3  Изменить структура категорий, что увеличит кон...      8       3   \n",
       "4  Изменить цвет фона главной страницы, чтобы уве...      3       1   \n",
       "\n",
       "   Confidence  Efforts  \n",
       "0           8        6  \n",
       "1           4       10  \n",
       "2           7        3  \n",
       "3           3        8  \n",
       "4           1        1  "
      ]
     },
     "metadata": {},
     "output_type": "display_data"
    },
    {
     "data": {
      "text/plain": [
       "'Наименование столбцов'"
      ]
     },
     "metadata": {},
     "output_type": "display_data"
    },
    {
     "data": {
      "text/plain": [
       "Index(['Hypothesis', 'Reach', 'Impact', 'Confidence', 'Efforts'], dtype='object')"
      ]
     },
     "metadata": {},
     "output_type": "display_data"
    },
    {
     "data": {
      "text/html": [
       "<div>\n",
       "<style scoped>\n",
       "    .dataframe tbody tr th:only-of-type {\n",
       "        vertical-align: middle;\n",
       "    }\n",
       "\n",
       "    .dataframe tbody tr th {\n",
       "        vertical-align: top;\n",
       "    }\n",
       "\n",
       "    .dataframe thead th {\n",
       "        text-align: right;\n",
       "    }\n",
       "</style>\n",
       "<table border=\"1\" class=\"dataframe\">\n",
       "  <thead>\n",
       "    <tr style=\"text-align: right;\">\n",
       "      <th></th>\n",
       "      <th>Reach</th>\n",
       "      <th>Impact</th>\n",
       "      <th>Confidence</th>\n",
       "      <th>Efforts</th>\n",
       "    </tr>\n",
       "  </thead>\n",
       "  <tbody>\n",
       "    <tr>\n",
       "      <th>count</th>\n",
       "      <td>9.000000</td>\n",
       "      <td>9.000000</td>\n",
       "      <td>9.000000</td>\n",
       "      <td>9.000000</td>\n",
       "    </tr>\n",
       "    <tr>\n",
       "      <th>mean</th>\n",
       "      <td>4.777778</td>\n",
       "      <td>4.777778</td>\n",
       "      <td>5.555556</td>\n",
       "      <td>4.888889</td>\n",
       "    </tr>\n",
       "    <tr>\n",
       "      <th>std</th>\n",
       "      <td>3.153481</td>\n",
       "      <td>3.192874</td>\n",
       "      <td>3.045944</td>\n",
       "      <td>2.803767</td>\n",
       "    </tr>\n",
       "    <tr>\n",
       "      <th>min</th>\n",
       "      <td>1.000000</td>\n",
       "      <td>1.000000</td>\n",
       "      <td>1.000000</td>\n",
       "      <td>1.000000</td>\n",
       "    </tr>\n",
       "    <tr>\n",
       "      <th>25%</th>\n",
       "      <td>3.000000</td>\n",
       "      <td>3.000000</td>\n",
       "      <td>3.000000</td>\n",
       "      <td>3.000000</td>\n",
       "    </tr>\n",
       "    <tr>\n",
       "      <th>50%</th>\n",
       "      <td>3.000000</td>\n",
       "      <td>3.000000</td>\n",
       "      <td>7.000000</td>\n",
       "      <td>5.000000</td>\n",
       "    </tr>\n",
       "    <tr>\n",
       "      <th>75%</th>\n",
       "      <td>8.000000</td>\n",
       "      <td>7.000000</td>\n",
       "      <td>8.000000</td>\n",
       "      <td>6.000000</td>\n",
       "    </tr>\n",
       "    <tr>\n",
       "      <th>max</th>\n",
       "      <td>10.000000</td>\n",
       "      <td>10.000000</td>\n",
       "      <td>9.000000</td>\n",
       "      <td>10.000000</td>\n",
       "    </tr>\n",
       "  </tbody>\n",
       "</table>\n",
       "</div>"
      ],
      "text/plain": [
       "           Reach     Impact  Confidence    Efforts\n",
       "count   9.000000   9.000000    9.000000   9.000000\n",
       "mean    4.777778   4.777778    5.555556   4.888889\n",
       "std     3.153481   3.192874    3.045944   2.803767\n",
       "min     1.000000   1.000000    1.000000   1.000000\n",
       "25%     3.000000   3.000000    3.000000   3.000000\n",
       "50%     3.000000   3.000000    7.000000   5.000000\n",
       "75%     8.000000   7.000000    8.000000   6.000000\n",
       "max    10.000000  10.000000    9.000000  10.000000"
      ]
     },
     "metadata": {},
     "output_type": "display_data"
    },
    {
     "data": {
      "text/plain": [
       "'Инофрмация о пропусках'"
      ]
     },
     "metadata": {},
     "output_type": "display_data"
    },
    {
     "data": {
      "text/plain": [
       "Hypothesis    0\n",
       "Reach         0\n",
       "Impact        0\n",
       "Confidence    0\n",
       "Efforts       0\n",
       "dtype: int64"
      ]
     },
     "metadata": {},
     "output_type": "display_data"
    },
    {
     "data": {
      "text/plain": [
       "'Инофрмация о долях пропущенных значений'"
      ]
     },
     "metadata": {},
     "output_type": "display_data"
    },
    {
     "data": {
      "text/plain": [
       "Hypothesis    0.0\n",
       "Reach         0.0\n",
       "Impact        0.0\n",
       "Confidence    0.0\n",
       "Efforts       0.0\n",
       "dtype: float64"
      ]
     },
     "metadata": {},
     "output_type": "display_data"
    }
   ],
   "source": [
    "hypothesis.info()\n",
    "display(hypothesis.head())\n",
    "display('Наименование столбцов')\n",
    "display(hypothesis.columns)\n",
    "display(hypothesis.describe())\n",
    "display('Инофрмация о пропусках')\n",
    "display(hypothesis.isna().sum())\n",
    "display('Инофрмация о долях пропущенных значений')\n",
    "display(hypothesis.isna().mean())"
   ]
  },
  {
   "cell_type": "markdown",
   "metadata": {
    "id": "6nGPILdQ9OIL"
   },
   "source": [
    "Согласно документации к данным:\n",
    "\n",
    "* Hypothesis — краткое описание гипотезы;\n",
    "* Reach — охват пользователей по 10-балльной шкале;\n",
    "* Impact — влияние на пользователей по 10-балльной шкале;\n",
    "* Confidence — уверенность в гипотезе по 10-балльной шкале;\n",
    "* Efforts — затраты ресурсов на проверку гипотезы по 10-балльной шкале. Чем больше значение Efforts, тем дороже проверка гипотезы.\n"
   ]
  },
  {
   "cell_type": "markdown",
   "metadata": {
    "id": "qh9gxiA8FJ-I"
   },
   "source": [
    "**Информация о заказах**"
   ]
  },
  {
   "cell_type": "code",
   "execution_count": 4,
   "metadata": {
    "colab": {
     "base_uri": "https://localhost:8080/",
     "height": 978
    },
    "executionInfo": {
     "elapsed": 9,
     "status": "ok",
     "timestamp": 1658933028692,
     "user": {
      "displayName": "Andrey Sokolov",
      "userId": "11877895700433819034"
     },
     "user_tz": -180
    },
    "id": "4StXzVnmGL4J",
    "outputId": "71f86edd-3a40-45ee-9735-0c7c972bd7ac"
   },
   "outputs": [
    {
     "name": "stdout",
     "output_type": "stream",
     "text": [
      "<class 'pandas.core.frame.DataFrame'>\n",
      "RangeIndex: 1197 entries, 0 to 1196\n",
      "Data columns (total 5 columns):\n",
      " #   Column         Non-Null Count  Dtype \n",
      "---  ------         --------------  ----- \n",
      " 0   transactionId  1197 non-null   int64 \n",
      " 1   visitorId      1197 non-null   int64 \n",
      " 2   date           1197 non-null   object\n",
      " 3   revenue        1197 non-null   int64 \n",
      " 4   group          1197 non-null   object\n",
      "dtypes: int64(3), object(2)\n",
      "memory usage: 46.9+ KB\n"
     ]
    },
    {
     "data": {
      "text/html": [
       "<div>\n",
       "<style scoped>\n",
       "    .dataframe tbody tr th:only-of-type {\n",
       "        vertical-align: middle;\n",
       "    }\n",
       "\n",
       "    .dataframe tbody tr th {\n",
       "        vertical-align: top;\n",
       "    }\n",
       "\n",
       "    .dataframe thead th {\n",
       "        text-align: right;\n",
       "    }\n",
       "</style>\n",
       "<table border=\"1\" class=\"dataframe\">\n",
       "  <thead>\n",
       "    <tr style=\"text-align: right;\">\n",
       "      <th></th>\n",
       "      <th>transactionId</th>\n",
       "      <th>visitorId</th>\n",
       "      <th>date</th>\n",
       "      <th>revenue</th>\n",
       "      <th>group</th>\n",
       "    </tr>\n",
       "  </thead>\n",
       "  <tbody>\n",
       "    <tr>\n",
       "      <th>0</th>\n",
       "      <td>3667963787</td>\n",
       "      <td>3312258926</td>\n",
       "      <td>2019-08-15</td>\n",
       "      <td>1650</td>\n",
       "      <td>B</td>\n",
       "    </tr>\n",
       "    <tr>\n",
       "      <th>1</th>\n",
       "      <td>2804400009</td>\n",
       "      <td>3642806036</td>\n",
       "      <td>2019-08-15</td>\n",
       "      <td>730</td>\n",
       "      <td>B</td>\n",
       "    </tr>\n",
       "    <tr>\n",
       "      <th>2</th>\n",
       "      <td>2961555356</td>\n",
       "      <td>4069496402</td>\n",
       "      <td>2019-08-15</td>\n",
       "      <td>400</td>\n",
       "      <td>A</td>\n",
       "    </tr>\n",
       "    <tr>\n",
       "      <th>3</th>\n",
       "      <td>3797467345</td>\n",
       "      <td>1196621759</td>\n",
       "      <td>2019-08-15</td>\n",
       "      <td>9759</td>\n",
       "      <td>B</td>\n",
       "    </tr>\n",
       "    <tr>\n",
       "      <th>4</th>\n",
       "      <td>2282983706</td>\n",
       "      <td>2322279887</td>\n",
       "      <td>2019-08-15</td>\n",
       "      <td>2308</td>\n",
       "      <td>B</td>\n",
       "    </tr>\n",
       "  </tbody>\n",
       "</table>\n",
       "</div>"
      ],
      "text/plain": [
       "   transactionId   visitorId        date  revenue group\n",
       "0     3667963787  3312258926  2019-08-15     1650     B\n",
       "1     2804400009  3642806036  2019-08-15      730     B\n",
       "2     2961555356  4069496402  2019-08-15      400     A\n",
       "3     3797467345  1196621759  2019-08-15     9759     B\n",
       "4     2282983706  2322279887  2019-08-15     2308     B"
      ]
     },
     "metadata": {},
     "output_type": "display_data"
    },
    {
     "data": {
      "text/plain": [
       "'Наименование столбцов'"
      ]
     },
     "metadata": {},
     "output_type": "display_data"
    },
    {
     "data": {
      "text/plain": [
       "Index(['transactionId', 'visitorId', 'date', 'revenue', 'group'], dtype='object')"
      ]
     },
     "metadata": {},
     "output_type": "display_data"
    },
    {
     "data": {
      "text/html": [
       "<div>\n",
       "<style scoped>\n",
       "    .dataframe tbody tr th:only-of-type {\n",
       "        vertical-align: middle;\n",
       "    }\n",
       "\n",
       "    .dataframe tbody tr th {\n",
       "        vertical-align: top;\n",
       "    }\n",
       "\n",
       "    .dataframe thead th {\n",
       "        text-align: right;\n",
       "    }\n",
       "</style>\n",
       "<table border=\"1\" class=\"dataframe\">\n",
       "  <thead>\n",
       "    <tr style=\"text-align: right;\">\n",
       "      <th></th>\n",
       "      <th>transactionId</th>\n",
       "      <th>visitorId</th>\n",
       "      <th>revenue</th>\n",
       "    </tr>\n",
       "  </thead>\n",
       "  <tbody>\n",
       "    <tr>\n",
       "      <th>count</th>\n",
       "      <td>1.197000e+03</td>\n",
       "      <td>1.197000e+03</td>\n",
       "      <td>1.197000e+03</td>\n",
       "    </tr>\n",
       "    <tr>\n",
       "      <th>mean</th>\n",
       "      <td>2.155621e+09</td>\n",
       "      <td>2.165960e+09</td>\n",
       "      <td>8.348006e+03</td>\n",
       "    </tr>\n",
       "    <tr>\n",
       "      <th>std</th>\n",
       "      <td>1.229085e+09</td>\n",
       "      <td>1.236014e+09</td>\n",
       "      <td>3.919113e+04</td>\n",
       "    </tr>\n",
       "    <tr>\n",
       "      <th>min</th>\n",
       "      <td>1.062393e+06</td>\n",
       "      <td>5.114589e+06</td>\n",
       "      <td>5.000000e+01</td>\n",
       "    </tr>\n",
       "    <tr>\n",
       "      <th>25%</th>\n",
       "      <td>1.166776e+09</td>\n",
       "      <td>1.111826e+09</td>\n",
       "      <td>1.220000e+03</td>\n",
       "    </tr>\n",
       "    <tr>\n",
       "      <th>50%</th>\n",
       "      <td>2.145194e+09</td>\n",
       "      <td>2.217985e+09</td>\n",
       "      <td>2.978000e+03</td>\n",
       "    </tr>\n",
       "    <tr>\n",
       "      <th>75%</th>\n",
       "      <td>3.237740e+09</td>\n",
       "      <td>3.177606e+09</td>\n",
       "      <td>8.290000e+03</td>\n",
       "    </tr>\n",
       "    <tr>\n",
       "      <th>max</th>\n",
       "      <td>4.293856e+09</td>\n",
       "      <td>4.283872e+09</td>\n",
       "      <td>1.294500e+06</td>\n",
       "    </tr>\n",
       "  </tbody>\n",
       "</table>\n",
       "</div>"
      ],
      "text/plain": [
       "       transactionId     visitorId       revenue\n",
       "count   1.197000e+03  1.197000e+03  1.197000e+03\n",
       "mean    2.155621e+09  2.165960e+09  8.348006e+03\n",
       "std     1.229085e+09  1.236014e+09  3.919113e+04\n",
       "min     1.062393e+06  5.114589e+06  5.000000e+01\n",
       "25%     1.166776e+09  1.111826e+09  1.220000e+03\n",
       "50%     2.145194e+09  2.217985e+09  2.978000e+03\n",
       "75%     3.237740e+09  3.177606e+09  8.290000e+03\n",
       "max     4.293856e+09  4.283872e+09  1.294500e+06"
      ]
     },
     "metadata": {},
     "output_type": "display_data"
    },
    {
     "data": {
      "text/plain": [
       "'Инофрмация о пропусках'"
      ]
     },
     "metadata": {},
     "output_type": "display_data"
    },
    {
     "data": {
      "text/plain": [
       "transactionId    0\n",
       "visitorId        0\n",
       "date             0\n",
       "revenue          0\n",
       "group            0\n",
       "dtype: int64"
      ]
     },
     "metadata": {},
     "output_type": "display_data"
    },
    {
     "data": {
      "text/plain": [
       "'Инофрмация о долях пропущенных значений'"
      ]
     },
     "metadata": {},
     "output_type": "display_data"
    },
    {
     "data": {
      "text/plain": [
       "transactionId    0.0\n",
       "visitorId        0.0\n",
       "date             0.0\n",
       "revenue          0.0\n",
       "group            0.0\n",
       "dtype: float64"
      ]
     },
     "metadata": {},
     "output_type": "display_data"
    }
   ],
   "source": [
    "orders.info()\n",
    "display(orders.head())\n",
    "display('Наименование столбцов')\n",
    "display(orders.columns)\n",
    "display(orders.describe())\n",
    "display('Инофрмация о пропусках')\n",
    "display(orders.isna().sum())\n",
    "display('Инофрмация о долях пропущенных значений')\n",
    "display(orders.isna().mean())"
   ]
  },
  {
   "cell_type": "markdown",
   "metadata": {
    "id": "Frn6m9209N_x"
   },
   "source": [
    "Согласно документации к данным:\n",
    "\n",
    "* transactionId — идентификатор заказа;\n",
    "* visitorId — идентификатор пользователя, совершившего заказ;\n",
    "* date — дата, когда был совершён заказ;\n",
    "* revenue — выручка заказа;\n",
    "* group — группа A/B-теста, в которую попал заказ.\n"
   ]
  },
  {
   "cell_type": "markdown",
   "metadata": {
    "id": "W_h0KtkUFaVW"
   },
   "source": [
    "**Информация о пользователях**"
   ]
  },
  {
   "cell_type": "code",
   "execution_count": 5,
   "metadata": {
    "colab": {
     "base_uri": "https://localhost:8080/",
     "height": 874
    },
    "executionInfo": {
     "elapsed": 554,
     "status": "ok",
     "timestamp": 1658933029241,
     "user": {
      "displayName": "Andrey Sokolov",
      "userId": "11877895700433819034"
     },
     "user_tz": -180
    },
    "id": "BTqrPYwxGN1R",
    "outputId": "c44dd2bb-8cf4-4267-d847-9691d971f9c3"
   },
   "outputs": [
    {
     "name": "stdout",
     "output_type": "stream",
     "text": [
      "<class 'pandas.core.frame.DataFrame'>\n",
      "RangeIndex: 62 entries, 0 to 61\n",
      "Data columns (total 3 columns):\n",
      " #   Column    Non-Null Count  Dtype \n",
      "---  ------    --------------  ----- \n",
      " 0   date      62 non-null     object\n",
      " 1   group     62 non-null     object\n",
      " 2   visitors  62 non-null     int64 \n",
      "dtypes: int64(1), object(2)\n",
      "memory usage: 1.6+ KB\n"
     ]
    },
    {
     "data": {
      "text/html": [
       "<div>\n",
       "<style scoped>\n",
       "    .dataframe tbody tr th:only-of-type {\n",
       "        vertical-align: middle;\n",
       "    }\n",
       "\n",
       "    .dataframe tbody tr th {\n",
       "        vertical-align: top;\n",
       "    }\n",
       "\n",
       "    .dataframe thead th {\n",
       "        text-align: right;\n",
       "    }\n",
       "</style>\n",
       "<table border=\"1\" class=\"dataframe\">\n",
       "  <thead>\n",
       "    <tr style=\"text-align: right;\">\n",
       "      <th></th>\n",
       "      <th>date</th>\n",
       "      <th>group</th>\n",
       "      <th>visitors</th>\n",
       "    </tr>\n",
       "  </thead>\n",
       "  <tbody>\n",
       "    <tr>\n",
       "      <th>0</th>\n",
       "      <td>2019-08-01</td>\n",
       "      <td>A</td>\n",
       "      <td>719</td>\n",
       "    </tr>\n",
       "    <tr>\n",
       "      <th>1</th>\n",
       "      <td>2019-08-02</td>\n",
       "      <td>A</td>\n",
       "      <td>619</td>\n",
       "    </tr>\n",
       "    <tr>\n",
       "      <th>2</th>\n",
       "      <td>2019-08-03</td>\n",
       "      <td>A</td>\n",
       "      <td>507</td>\n",
       "    </tr>\n",
       "    <tr>\n",
       "      <th>3</th>\n",
       "      <td>2019-08-04</td>\n",
       "      <td>A</td>\n",
       "      <td>717</td>\n",
       "    </tr>\n",
       "    <tr>\n",
       "      <th>4</th>\n",
       "      <td>2019-08-05</td>\n",
       "      <td>A</td>\n",
       "      <td>756</td>\n",
       "    </tr>\n",
       "  </tbody>\n",
       "</table>\n",
       "</div>"
      ],
      "text/plain": [
       "         date group  visitors\n",
       "0  2019-08-01     A       719\n",
       "1  2019-08-02     A       619\n",
       "2  2019-08-03     A       507\n",
       "3  2019-08-04     A       717\n",
       "4  2019-08-05     A       756"
      ]
     },
     "metadata": {},
     "output_type": "display_data"
    },
    {
     "data": {
      "text/plain": [
       "'Наименование столбцов'"
      ]
     },
     "metadata": {},
     "output_type": "display_data"
    },
    {
     "data": {
      "text/plain": [
       "Index(['date', 'group', 'visitors'], dtype='object')"
      ]
     },
     "metadata": {},
     "output_type": "display_data"
    },
    {
     "data": {
      "text/html": [
       "<div>\n",
       "<style scoped>\n",
       "    .dataframe tbody tr th:only-of-type {\n",
       "        vertical-align: middle;\n",
       "    }\n",
       "\n",
       "    .dataframe tbody tr th {\n",
       "        vertical-align: top;\n",
       "    }\n",
       "\n",
       "    .dataframe thead th {\n",
       "        text-align: right;\n",
       "    }\n",
       "</style>\n",
       "<table border=\"1\" class=\"dataframe\">\n",
       "  <thead>\n",
       "    <tr style=\"text-align: right;\">\n",
       "      <th></th>\n",
       "      <th>visitors</th>\n",
       "    </tr>\n",
       "  </thead>\n",
       "  <tbody>\n",
       "    <tr>\n",
       "      <th>count</th>\n",
       "      <td>62.000000</td>\n",
       "    </tr>\n",
       "    <tr>\n",
       "      <th>mean</th>\n",
       "      <td>607.290323</td>\n",
       "    </tr>\n",
       "    <tr>\n",
       "      <th>std</th>\n",
       "      <td>114.400560</td>\n",
       "    </tr>\n",
       "    <tr>\n",
       "      <th>min</th>\n",
       "      <td>361.000000</td>\n",
       "    </tr>\n",
       "    <tr>\n",
       "      <th>25%</th>\n",
       "      <td>534.000000</td>\n",
       "    </tr>\n",
       "    <tr>\n",
       "      <th>50%</th>\n",
       "      <td>624.500000</td>\n",
       "    </tr>\n",
       "    <tr>\n",
       "      <th>75%</th>\n",
       "      <td>710.500000</td>\n",
       "    </tr>\n",
       "    <tr>\n",
       "      <th>max</th>\n",
       "      <td>770.000000</td>\n",
       "    </tr>\n",
       "  </tbody>\n",
       "</table>\n",
       "</div>"
      ],
      "text/plain": [
       "         visitors\n",
       "count   62.000000\n",
       "mean   607.290323\n",
       "std    114.400560\n",
       "min    361.000000\n",
       "25%    534.000000\n",
       "50%    624.500000\n",
       "75%    710.500000\n",
       "max    770.000000"
      ]
     },
     "metadata": {},
     "output_type": "display_data"
    },
    {
     "data": {
      "text/plain": [
       "'Инофрмация о пропусках'"
      ]
     },
     "metadata": {},
     "output_type": "display_data"
    },
    {
     "data": {
      "text/plain": [
       "date        0\n",
       "group       0\n",
       "visitors    0\n",
       "dtype: int64"
      ]
     },
     "metadata": {},
     "output_type": "display_data"
    },
    {
     "data": {
      "text/plain": [
       "'Инофрмация о долях пропущенных значений'"
      ]
     },
     "metadata": {},
     "output_type": "display_data"
    },
    {
     "data": {
      "text/plain": [
       "date        0.0\n",
       "group       0.0\n",
       "visitors    0.0\n",
       "dtype: float64"
      ]
     },
     "metadata": {},
     "output_type": "display_data"
    }
   ],
   "source": [
    "visitors.info()\n",
    "display(visitors.head())\n",
    "display('Наименование столбцов')\n",
    "display(visitors.columns)\n",
    "display(visitors.describe())\n",
    "display('Инофрмация о пропусках')\n",
    "display(visitors.isna().sum())\n",
    "display('Инофрмация о долях пропущенных значений')\n",
    "display(visitors.isna().mean())"
   ]
  },
  {
   "cell_type": "markdown",
   "metadata": {
    "id": "F3ofsKJ-9Nxp"
   },
   "source": [
    "Согласно документации к данным:\n",
    "\n",
    "* date — дата;\n",
    "* group — группа A/B-теста;\n",
    "* visitors — количество пользователей в указанную дату в указанной группе A/B-теста.\n"
   ]
  },
  {
   "cell_type": "markdown",
   "metadata": {
    "id": "i1uslOWC6NnY"
   },
   "source": [
    "## Обработка данных"
   ]
  },
  {
   "cell_type": "markdown",
   "metadata": {},
   "source": [
    "### Приведение столбцов с указанием времени к формату datetime"
   ]
  },
  {
   "cell_type": "code",
   "execution_count": 6,
   "metadata": {
    "executionInfo": {
     "elapsed": 10,
     "status": "ok",
     "timestamp": 1658933029241,
     "user": {
      "displayName": "Andrey Sokolov",
      "userId": "11877895700433819034"
     },
     "user_tz": -180
    },
    "id": "dDDMrDVt7WN8"
   },
   "outputs": [],
   "source": [
    "orders['date'] = orders['date'].map(lambda x: dt.datetime.strptime(x, '%Y-%m-%d'))\n",
    "visitors['date'] = visitors['date'].map(lambda x: dt.datetime.strptime(x, '%Y-%m-%d'))"
   ]
  },
  {
   "cell_type": "code",
   "execution_count": 7,
   "metadata": {},
   "outputs": [
    {
     "name": "stdout",
     "output_type": "stream",
     "text": [
      "<class 'pandas.core.frame.DataFrame'>\n",
      "RangeIndex: 1197 entries, 0 to 1196\n",
      "Data columns (total 5 columns):\n",
      " #   Column         Non-Null Count  Dtype         \n",
      "---  ------         --------------  -----         \n",
      " 0   transactionId  1197 non-null   int64         \n",
      " 1   visitorId      1197 non-null   int64         \n",
      " 2   date           1197 non-null   datetime64[ns]\n",
      " 3   revenue        1197 non-null   int64         \n",
      " 4   group          1197 non-null   object        \n",
      "dtypes: datetime64[ns](1), int64(3), object(1)\n",
      "memory usage: 46.9+ KB\n"
     ]
    }
   ],
   "source": [
    "orders.info()"
   ]
  },
  {
   "cell_type": "code",
   "execution_count": 8,
   "metadata": {
    "scrolled": false
   },
   "outputs": [
    {
     "name": "stdout",
     "output_type": "stream",
     "text": [
      "<class 'pandas.core.frame.DataFrame'>\n",
      "RangeIndex: 62 entries, 0 to 61\n",
      "Data columns (total 3 columns):\n",
      " #   Column    Non-Null Count  Dtype         \n",
      "---  ------    --------------  -----         \n",
      " 0   date      62 non-null     datetime64[ns]\n",
      " 1   group     62 non-null     object        \n",
      " 2   visitors  62 non-null     int64         \n",
      "dtypes: datetime64[ns](1), int64(1), object(1)\n",
      "memory usage: 1.6+ KB\n"
     ]
    }
   ],
   "source": [
    "visitors.info()"
   ]
  },
  {
   "cell_type": "markdown",
   "metadata": {},
   "source": [
    "### Изменение стиля в наименованиях столбцов"
   ]
  },
  {
   "cell_type": "code",
   "execution_count": 9,
   "metadata": {},
   "outputs": [],
   "source": [
    "hypothesis.columns = hypothesis.columns.str.lower()"
   ]
  },
  {
   "cell_type": "code",
   "execution_count": 10,
   "metadata": {
    "scrolled": false
   },
   "outputs": [
    {
     "data": {
      "text/plain": [
       "'Наименование столбцов'"
      ]
     },
     "metadata": {},
     "output_type": "display_data"
    },
    {
     "data": {
      "text/plain": [
       "Index(['hypothesis', 'reach', 'impact', 'confidence', 'efforts'], dtype='object')"
      ]
     },
     "metadata": {},
     "output_type": "display_data"
    }
   ],
   "source": [
    "display('Наименование столбцов')\n",
    "display(hypothesis.columns)"
   ]
  },
  {
   "cell_type": "markdown",
   "metadata": {},
   "source": [
    "### Анализ на наличие дубликатов"
   ]
  },
  {
   "cell_type": "code",
   "execution_count": 11,
   "metadata": {
    "scrolled": true
   },
   "outputs": [
    {
     "data": {
      "text/plain": [
       "0"
      ]
     },
     "metadata": {},
     "output_type": "display_data"
    },
    {
     "data": {
      "text/plain": [
       "0"
      ]
     },
     "metadata": {},
     "output_type": "display_data"
    },
    {
     "data": {
      "text/plain": [
       "0"
      ]
     },
     "metadata": {},
     "output_type": "display_data"
    }
   ],
   "source": [
    "'Полные дубликаты'\n",
    "display(hypothesis.duplicated().sum())\n",
    "display(orders.duplicated().sum())\n",
    "display(visitors.duplicated().sum())"
   ]
  },
  {
   "cell_type": "code",
   "execution_count": 12,
   "metadata": {},
   "outputs": [
    {
     "data": {
      "text/plain": [
       "hypothesis    object\n",
       "reach          int64\n",
       "impact         int64\n",
       "confidence     int64\n",
       "efforts        int64\n",
       "dtype: object"
      ]
     },
     "metadata": {},
     "output_type": "display_data"
    },
    {
     "data": {
      "text/plain": [
       "transactionId             int64\n",
       "visitorId                 int64\n",
       "date             datetime64[ns]\n",
       "revenue                   int64\n",
       "group                    object\n",
       "dtype: object"
      ]
     },
     "metadata": {},
     "output_type": "display_data"
    },
    {
     "data": {
      "text/plain": [
       "date        datetime64[ns]\n",
       "group               object\n",
       "visitors             int64\n",
       "dtype: object"
      ]
     },
     "metadata": {},
     "output_type": "display_data"
    }
   ],
   "source": [
    "display(hypothesis.dtypes)\n",
    "display(orders.dtypes)\n",
    "display(visitors.dtypes)"
   ]
  },
  {
   "cell_type": "code",
   "execution_count": 13,
   "metadata": {
    "scrolled": true
   },
   "outputs": [
    {
     "data": {
      "text/plain": [
       "'Количество неявных дубликатов: 9'"
      ]
     },
     "metadata": {},
     "output_type": "display_data"
    },
    {
     "data": {
      "text/plain": [
       "array(['Добавить блоки рекомендаций товаров на сайт интернет магазина, чтобы повысить конверсию и средний чек заказа',\n",
       "       'Добавить два новых канала привлечения трафика, что позволит привлекать на 30% больше пользователей',\n",
       "       'Добавить страницу отзывов клиентов о магазине, что позволит увеличить количество заказов',\n",
       "       'Добавить форму подписки на все основные страницы, чтобы собрать базу клиентов для email-рассылок',\n",
       "       'Запустить акцию, дающую скидку на товар в день рождения',\n",
       "       'Запустить собственную службу доставки, что сократит срок доставки заказов',\n",
       "       'Изменить структура категорий, что увеличит конверсию, т.к. пользователи быстрее найдут нужный товар',\n",
       "       'Изменить цвет фона главной страницы, чтобы увеличить вовлеченность пользователей',\n",
       "       'Показать на главной странице баннеры с актуальными акциями и распродажами, чтобы увеличить конверсию'],\n",
       "      dtype=object)"
      ]
     },
     "metadata": {},
     "output_type": "display_data"
    },
    {
     "data": {
      "text/plain": [
       "'Количество неявных дубликатов: 2'"
      ]
     },
     "metadata": {},
     "output_type": "display_data"
    },
    {
     "data": {
      "text/plain": [
       "array(['A', 'B'], dtype=object)"
      ]
     },
     "metadata": {},
     "output_type": "display_data"
    },
    {
     "data": {
      "text/plain": [
       "'Количество неявных дубликатов: 2'"
      ]
     },
     "metadata": {},
     "output_type": "display_data"
    },
    {
     "data": {
      "text/plain": [
       "array(['A', 'B'], dtype=object)"
      ]
     },
     "metadata": {},
     "output_type": "display_data"
    }
   ],
   "source": [
    "'Проверять на неявные дубликаты целесообразно только столбцы с типом данных object'\n",
    "\n",
    "display(f\"Количество неявных дубликатов: {hypothesis['hypothesis'].nunique()}\")\n",
    "display(hypothesis.sort_values(by='hypothesis')['hypothesis'].unique())\n",
    "\n",
    "display(f\"Количество неявных дубликатов: {orders['group'].nunique()}\")\n",
    "display(orders.sort_values(by='group')['group'].unique())\n",
    "\n",
    "display(f\"Количество неявных дубликатов: {visitors['group'].nunique()}\")\n",
    "display(visitors.sort_values(by='group')['group'].unique())"
   ]
  },
  {
   "cell_type": "markdown",
   "metadata": {},
   "source": [
    "### Проверка данных на аномалии"
   ]
  },
  {
   "cell_type": "code",
   "execution_count": 14,
   "metadata": {},
   "outputs": [
    {
     "data": {
      "text/html": [
       "<div>\n",
       "<style scoped>\n",
       "    .dataframe tbody tr th:only-of-type {\n",
       "        vertical-align: middle;\n",
       "    }\n",
       "\n",
       "    .dataframe tbody tr th {\n",
       "        vertical-align: top;\n",
       "    }\n",
       "\n",
       "    .dataframe thead th {\n",
       "        text-align: right;\n",
       "    }\n",
       "</style>\n",
       "<table border=\"1\" class=\"dataframe\">\n",
       "  <thead>\n",
       "    <tr style=\"text-align: right;\">\n",
       "      <th></th>\n",
       "      <th>hypothesis</th>\n",
       "      <th>reach</th>\n",
       "      <th>impact</th>\n",
       "      <th>confidence</th>\n",
       "      <th>efforts</th>\n",
       "    </tr>\n",
       "  </thead>\n",
       "  <tbody>\n",
       "    <tr>\n",
       "      <th>0</th>\n",
       "      <td>Добавить два новых канала привлечения трафика,...</td>\n",
       "      <td>3</td>\n",
       "      <td>10</td>\n",
       "      <td>8</td>\n",
       "      <td>6</td>\n",
       "    </tr>\n",
       "    <tr>\n",
       "      <th>1</th>\n",
       "      <td>Запустить собственную службу доставки, что сок...</td>\n",
       "      <td>2</td>\n",
       "      <td>5</td>\n",
       "      <td>4</td>\n",
       "      <td>10</td>\n",
       "    </tr>\n",
       "    <tr>\n",
       "      <th>2</th>\n",
       "      <td>Добавить блоки рекомендаций товаров на сайт ин...</td>\n",
       "      <td>8</td>\n",
       "      <td>3</td>\n",
       "      <td>7</td>\n",
       "      <td>3</td>\n",
       "    </tr>\n",
       "    <tr>\n",
       "      <th>3</th>\n",
       "      <td>Изменить структура категорий, что увеличит кон...</td>\n",
       "      <td>8</td>\n",
       "      <td>3</td>\n",
       "      <td>3</td>\n",
       "      <td>8</td>\n",
       "    </tr>\n",
       "    <tr>\n",
       "      <th>4</th>\n",
       "      <td>Изменить цвет фона главной страницы, чтобы уве...</td>\n",
       "      <td>3</td>\n",
       "      <td>1</td>\n",
       "      <td>1</td>\n",
       "      <td>1</td>\n",
       "    </tr>\n",
       "  </tbody>\n",
       "</table>\n",
       "</div>"
      ],
      "text/plain": [
       "                                          hypothesis  reach  impact  \\\n",
       "0  Добавить два новых канала привлечения трафика,...      3      10   \n",
       "1  Запустить собственную службу доставки, что сок...      2       5   \n",
       "2  Добавить блоки рекомендаций товаров на сайт ин...      8       3   \n",
       "3  Изменить структура категорий, что увеличит кон...      8       3   \n",
       "4  Изменить цвет фона главной страницы, чтобы уве...      3       1   \n",
       "\n",
       "   confidence  efforts  \n",
       "0           8        6  \n",
       "1           4       10  \n",
       "2           7        3  \n",
       "3           3        8  \n",
       "4           1        1  "
      ]
     },
     "metadata": {},
     "output_type": "display_data"
    },
    {
     "data": {
      "text/html": [
       "<div>\n",
       "<style scoped>\n",
       "    .dataframe tbody tr th:only-of-type {\n",
       "        vertical-align: middle;\n",
       "    }\n",
       "\n",
       "    .dataframe tbody tr th {\n",
       "        vertical-align: top;\n",
       "    }\n",
       "\n",
       "    .dataframe thead th {\n",
       "        text-align: right;\n",
       "    }\n",
       "</style>\n",
       "<table border=\"1\" class=\"dataframe\">\n",
       "  <thead>\n",
       "    <tr style=\"text-align: right;\">\n",
       "      <th></th>\n",
       "      <th>transactionId</th>\n",
       "      <th>visitorId</th>\n",
       "      <th>date</th>\n",
       "      <th>revenue</th>\n",
       "      <th>group</th>\n",
       "    </tr>\n",
       "  </thead>\n",
       "  <tbody>\n",
       "    <tr>\n",
       "      <th>0</th>\n",
       "      <td>3667963787</td>\n",
       "      <td>3312258926</td>\n",
       "      <td>2019-08-15</td>\n",
       "      <td>1650</td>\n",
       "      <td>B</td>\n",
       "    </tr>\n",
       "    <tr>\n",
       "      <th>1</th>\n",
       "      <td>2804400009</td>\n",
       "      <td>3642806036</td>\n",
       "      <td>2019-08-15</td>\n",
       "      <td>730</td>\n",
       "      <td>B</td>\n",
       "    </tr>\n",
       "    <tr>\n",
       "      <th>2</th>\n",
       "      <td>2961555356</td>\n",
       "      <td>4069496402</td>\n",
       "      <td>2019-08-15</td>\n",
       "      <td>400</td>\n",
       "      <td>A</td>\n",
       "    </tr>\n",
       "    <tr>\n",
       "      <th>3</th>\n",
       "      <td>3797467345</td>\n",
       "      <td>1196621759</td>\n",
       "      <td>2019-08-15</td>\n",
       "      <td>9759</td>\n",
       "      <td>B</td>\n",
       "    </tr>\n",
       "    <tr>\n",
       "      <th>4</th>\n",
       "      <td>2282983706</td>\n",
       "      <td>2322279887</td>\n",
       "      <td>2019-08-15</td>\n",
       "      <td>2308</td>\n",
       "      <td>B</td>\n",
       "    </tr>\n",
       "  </tbody>\n",
       "</table>\n",
       "</div>"
      ],
      "text/plain": [
       "   transactionId   visitorId       date  revenue group\n",
       "0     3667963787  3312258926 2019-08-15     1650     B\n",
       "1     2804400009  3642806036 2019-08-15      730     B\n",
       "2     2961555356  4069496402 2019-08-15      400     A\n",
       "3     3797467345  1196621759 2019-08-15     9759     B\n",
       "4     2282983706  2322279887 2019-08-15     2308     B"
      ]
     },
     "metadata": {},
     "output_type": "display_data"
    },
    {
     "data": {
      "text/html": [
       "<div>\n",
       "<style scoped>\n",
       "    .dataframe tbody tr th:only-of-type {\n",
       "        vertical-align: middle;\n",
       "    }\n",
       "\n",
       "    .dataframe tbody tr th {\n",
       "        vertical-align: top;\n",
       "    }\n",
       "\n",
       "    .dataframe thead th {\n",
       "        text-align: right;\n",
       "    }\n",
       "</style>\n",
       "<table border=\"1\" class=\"dataframe\">\n",
       "  <thead>\n",
       "    <tr style=\"text-align: right;\">\n",
       "      <th></th>\n",
       "      <th>date</th>\n",
       "      <th>group</th>\n",
       "      <th>visitors</th>\n",
       "    </tr>\n",
       "  </thead>\n",
       "  <tbody>\n",
       "    <tr>\n",
       "      <th>0</th>\n",
       "      <td>2019-08-01</td>\n",
       "      <td>A</td>\n",
       "      <td>719</td>\n",
       "    </tr>\n",
       "    <tr>\n",
       "      <th>1</th>\n",
       "      <td>2019-08-02</td>\n",
       "      <td>A</td>\n",
       "      <td>619</td>\n",
       "    </tr>\n",
       "    <tr>\n",
       "      <th>2</th>\n",
       "      <td>2019-08-03</td>\n",
       "      <td>A</td>\n",
       "      <td>507</td>\n",
       "    </tr>\n",
       "    <tr>\n",
       "      <th>3</th>\n",
       "      <td>2019-08-04</td>\n",
       "      <td>A</td>\n",
       "      <td>717</td>\n",
       "    </tr>\n",
       "    <tr>\n",
       "      <th>4</th>\n",
       "      <td>2019-08-05</td>\n",
       "      <td>A</td>\n",
       "      <td>756</td>\n",
       "    </tr>\n",
       "  </tbody>\n",
       "</table>\n",
       "</div>"
      ],
      "text/plain": [
       "        date group  visitors\n",
       "0 2019-08-01     A       719\n",
       "1 2019-08-02     A       619\n",
       "2 2019-08-03     A       507\n",
       "3 2019-08-04     A       717\n",
       "4 2019-08-05     A       756"
      ]
     },
     "metadata": {},
     "output_type": "display_data"
    },
    {
     "data": {
      "text/html": [
       "<div>\n",
       "<style scoped>\n",
       "    .dataframe tbody tr th:only-of-type {\n",
       "        vertical-align: middle;\n",
       "    }\n",
       "\n",
       "    .dataframe tbody tr th {\n",
       "        vertical-align: top;\n",
       "    }\n",
       "\n",
       "    .dataframe thead th {\n",
       "        text-align: right;\n",
       "    }\n",
       "</style>\n",
       "<table border=\"1\" class=\"dataframe\">\n",
       "  <thead>\n",
       "    <tr style=\"text-align: right;\">\n",
       "      <th></th>\n",
       "      <th>reach</th>\n",
       "      <th>impact</th>\n",
       "      <th>confidence</th>\n",
       "      <th>efforts</th>\n",
       "    </tr>\n",
       "  </thead>\n",
       "  <tbody>\n",
       "    <tr>\n",
       "      <th>count</th>\n",
       "      <td>9.000000</td>\n",
       "      <td>9.000000</td>\n",
       "      <td>9.000000</td>\n",
       "      <td>9.000000</td>\n",
       "    </tr>\n",
       "    <tr>\n",
       "      <th>mean</th>\n",
       "      <td>4.777778</td>\n",
       "      <td>4.777778</td>\n",
       "      <td>5.555556</td>\n",
       "      <td>4.888889</td>\n",
       "    </tr>\n",
       "    <tr>\n",
       "      <th>std</th>\n",
       "      <td>3.153481</td>\n",
       "      <td>3.192874</td>\n",
       "      <td>3.045944</td>\n",
       "      <td>2.803767</td>\n",
       "    </tr>\n",
       "    <tr>\n",
       "      <th>min</th>\n",
       "      <td>1.000000</td>\n",
       "      <td>1.000000</td>\n",
       "      <td>1.000000</td>\n",
       "      <td>1.000000</td>\n",
       "    </tr>\n",
       "    <tr>\n",
       "      <th>25%</th>\n",
       "      <td>3.000000</td>\n",
       "      <td>3.000000</td>\n",
       "      <td>3.000000</td>\n",
       "      <td>3.000000</td>\n",
       "    </tr>\n",
       "    <tr>\n",
       "      <th>50%</th>\n",
       "      <td>3.000000</td>\n",
       "      <td>3.000000</td>\n",
       "      <td>7.000000</td>\n",
       "      <td>5.000000</td>\n",
       "    </tr>\n",
       "    <tr>\n",
       "      <th>75%</th>\n",
       "      <td>8.000000</td>\n",
       "      <td>7.000000</td>\n",
       "      <td>8.000000</td>\n",
       "      <td>6.000000</td>\n",
       "    </tr>\n",
       "    <tr>\n",
       "      <th>max</th>\n",
       "      <td>10.000000</td>\n",
       "      <td>10.000000</td>\n",
       "      <td>9.000000</td>\n",
       "      <td>10.000000</td>\n",
       "    </tr>\n",
       "  </tbody>\n",
       "</table>\n",
       "</div>"
      ],
      "text/plain": [
       "           reach     impact  confidence    efforts\n",
       "count   9.000000   9.000000    9.000000   9.000000\n",
       "mean    4.777778   4.777778    5.555556   4.888889\n",
       "std     3.153481   3.192874    3.045944   2.803767\n",
       "min     1.000000   1.000000    1.000000   1.000000\n",
       "25%     3.000000   3.000000    3.000000   3.000000\n",
       "50%     3.000000   3.000000    7.000000   5.000000\n",
       "75%     8.000000   7.000000    8.000000   6.000000\n",
       "max    10.000000  10.000000    9.000000  10.000000"
      ]
     },
     "metadata": {},
     "output_type": "display_data"
    },
    {
     "data": {
      "text/html": [
       "<div>\n",
       "<style scoped>\n",
       "    .dataframe tbody tr th:only-of-type {\n",
       "        vertical-align: middle;\n",
       "    }\n",
       "\n",
       "    .dataframe tbody tr th {\n",
       "        vertical-align: top;\n",
       "    }\n",
       "\n",
       "    .dataframe thead th {\n",
       "        text-align: right;\n",
       "    }\n",
       "</style>\n",
       "<table border=\"1\" class=\"dataframe\">\n",
       "  <thead>\n",
       "    <tr style=\"text-align: right;\">\n",
       "      <th></th>\n",
       "      <th>transactionId</th>\n",
       "      <th>visitorId</th>\n",
       "      <th>revenue</th>\n",
       "    </tr>\n",
       "  </thead>\n",
       "  <tbody>\n",
       "    <tr>\n",
       "      <th>count</th>\n",
       "      <td>1.197000e+03</td>\n",
       "      <td>1.197000e+03</td>\n",
       "      <td>1.197000e+03</td>\n",
       "    </tr>\n",
       "    <tr>\n",
       "      <th>mean</th>\n",
       "      <td>2.155621e+09</td>\n",
       "      <td>2.165960e+09</td>\n",
       "      <td>8.348006e+03</td>\n",
       "    </tr>\n",
       "    <tr>\n",
       "      <th>std</th>\n",
       "      <td>1.229085e+09</td>\n",
       "      <td>1.236014e+09</td>\n",
       "      <td>3.919113e+04</td>\n",
       "    </tr>\n",
       "    <tr>\n",
       "      <th>min</th>\n",
       "      <td>1.062393e+06</td>\n",
       "      <td>5.114589e+06</td>\n",
       "      <td>5.000000e+01</td>\n",
       "    </tr>\n",
       "    <tr>\n",
       "      <th>25%</th>\n",
       "      <td>1.166776e+09</td>\n",
       "      <td>1.111826e+09</td>\n",
       "      <td>1.220000e+03</td>\n",
       "    </tr>\n",
       "    <tr>\n",
       "      <th>50%</th>\n",
       "      <td>2.145194e+09</td>\n",
       "      <td>2.217985e+09</td>\n",
       "      <td>2.978000e+03</td>\n",
       "    </tr>\n",
       "    <tr>\n",
       "      <th>75%</th>\n",
       "      <td>3.237740e+09</td>\n",
       "      <td>3.177606e+09</td>\n",
       "      <td>8.290000e+03</td>\n",
       "    </tr>\n",
       "    <tr>\n",
       "      <th>max</th>\n",
       "      <td>4.293856e+09</td>\n",
       "      <td>4.283872e+09</td>\n",
       "      <td>1.294500e+06</td>\n",
       "    </tr>\n",
       "  </tbody>\n",
       "</table>\n",
       "</div>"
      ],
      "text/plain": [
       "       transactionId     visitorId       revenue\n",
       "count   1.197000e+03  1.197000e+03  1.197000e+03\n",
       "mean    2.155621e+09  2.165960e+09  8.348006e+03\n",
       "std     1.229085e+09  1.236014e+09  3.919113e+04\n",
       "min     1.062393e+06  5.114589e+06  5.000000e+01\n",
       "25%     1.166776e+09  1.111826e+09  1.220000e+03\n",
       "50%     2.145194e+09  2.217985e+09  2.978000e+03\n",
       "75%     3.237740e+09  3.177606e+09  8.290000e+03\n",
       "max     4.293856e+09  4.283872e+09  1.294500e+06"
      ]
     },
     "metadata": {},
     "output_type": "display_data"
    },
    {
     "data": {
      "text/html": [
       "<div>\n",
       "<style scoped>\n",
       "    .dataframe tbody tr th:only-of-type {\n",
       "        vertical-align: middle;\n",
       "    }\n",
       "\n",
       "    .dataframe tbody tr th {\n",
       "        vertical-align: top;\n",
       "    }\n",
       "\n",
       "    .dataframe thead th {\n",
       "        text-align: right;\n",
       "    }\n",
       "</style>\n",
       "<table border=\"1\" class=\"dataframe\">\n",
       "  <thead>\n",
       "    <tr style=\"text-align: right;\">\n",
       "      <th></th>\n",
       "      <th>visitors</th>\n",
       "    </tr>\n",
       "  </thead>\n",
       "  <tbody>\n",
       "    <tr>\n",
       "      <th>count</th>\n",
       "      <td>62.000000</td>\n",
       "    </tr>\n",
       "    <tr>\n",
       "      <th>mean</th>\n",
       "      <td>607.290323</td>\n",
       "    </tr>\n",
       "    <tr>\n",
       "      <th>std</th>\n",
       "      <td>114.400560</td>\n",
       "    </tr>\n",
       "    <tr>\n",
       "      <th>min</th>\n",
       "      <td>361.000000</td>\n",
       "    </tr>\n",
       "    <tr>\n",
       "      <th>25%</th>\n",
       "      <td>534.000000</td>\n",
       "    </tr>\n",
       "    <tr>\n",
       "      <th>50%</th>\n",
       "      <td>624.500000</td>\n",
       "    </tr>\n",
       "    <tr>\n",
       "      <th>75%</th>\n",
       "      <td>710.500000</td>\n",
       "    </tr>\n",
       "    <tr>\n",
       "      <th>max</th>\n",
       "      <td>770.000000</td>\n",
       "    </tr>\n",
       "  </tbody>\n",
       "</table>\n",
       "</div>"
      ],
      "text/plain": [
       "         visitors\n",
       "count   62.000000\n",
       "mean   607.290323\n",
       "std    114.400560\n",
       "min    361.000000\n",
       "25%    534.000000\n",
       "50%    624.500000\n",
       "75%    710.500000\n",
       "max    770.000000"
      ]
     },
     "metadata": {},
     "output_type": "display_data"
    }
   ],
   "source": [
    "'Проверка данных на аномалии'\n",
    "display(hypothesis.head())\n",
    "display(orders.head())\n",
    "display(visitors.head())\n",
    "\n",
    "display(hypothesis.describe())\n",
    "display(orders.describe())\n",
    "display(visitors.describe())"
   ]
  },
  {
   "cell_type": "code",
   "execution_count": 15,
   "metadata": {},
   "outputs": [
    {
     "data": {
      "text/plain": [
       "Изменить цвет фона главной страницы, чтобы увеличить вовлеченность пользователей                                1\n",
       "Изменить структура категорий, что увеличит конверсию, т.к. пользователи быстрее найдут нужный товар             1\n",
       "Запустить акцию, дающую скидку на товар в день рождения                                                         1\n",
       "Запустить собственную службу доставки, что сократит срок доставки заказов                                       1\n",
       "Добавить страницу отзывов клиентов о магазине, что позволит увеличить количество заказов                        1\n",
       "Добавить форму подписки на все основные страницы, чтобы собрать базу клиентов для email-рассылок                1\n",
       "Показать на главной странице баннеры с актуальными акциями и распродажами, чтобы увеличить конверсию            1\n",
       "Добавить два новых канала привлечения трафика, что позволит привлекать на 30% больше пользователей              1\n",
       "Добавить блоки рекомендаций товаров на сайт интернет магазина, чтобы повысить конверсию и средний чек заказа    1\n",
       "Name: hypothesis, dtype: int64"
      ]
     },
     "metadata": {},
     "output_type": "display_data"
    },
    {
     "data": {
      "text/plain": [
       "3     3\n",
       "8     2\n",
       "1     1\n",
       "2     1\n",
       "5     1\n",
       "10    1\n",
       "Name: reach, dtype: int64"
      ]
     },
     "metadata": {},
     "output_type": "display_data"
    },
    {
     "data": {
      "text/plain": [
       "3     3\n",
       "1     1\n",
       "2     1\n",
       "5     1\n",
       "7     1\n",
       "9     1\n",
       "10    1\n",
       "Name: impact, dtype: int64"
      ]
     },
     "metadata": {},
     "output_type": "display_data"
    },
    {
     "data": {
      "text/plain": [
       "8    3\n",
       "1    1\n",
       "2    1\n",
       "3    1\n",
       "4    1\n",
       "7    1\n",
       "9    1\n",
       "Name: confidence, dtype: int64"
      ]
     },
     "metadata": {},
     "output_type": "display_data"
    },
    {
     "data": {
      "text/plain": [
       "3     3\n",
       "5     2\n",
       "1     1\n",
       "6     1\n",
       "8     1\n",
       "10    1\n",
       "Name: efforts, dtype: int64"
      ]
     },
     "metadata": {},
     "output_type": "display_data"
    }
   ],
   "source": [
    "display(hypothesis['hypothesis'].value_counts())\n",
    "display(hypothesis['reach'].value_counts())\n",
    "display(hypothesis['impact'].value_counts())\n",
    "display(hypothesis['confidence'].value_counts())\n",
    "display(hypothesis['efforts'].value_counts())"
   ]
  },
  {
   "cell_type": "code",
   "execution_count": 16,
   "metadata": {},
   "outputs": [
    {
     "data": {
      "text/plain": [
       "1658608862    1\n",
       "2211880073    1\n",
       "3913205113    1\n",
       "437656952     1\n",
       "3592105335    1\n",
       "             ..\n",
       "2872509092    1\n",
       "2013919907    1\n",
       "3154167297    1\n",
       "2960804513    1\n",
       "4281129020    1\n",
       "Name: transactionId, Length: 1197, dtype: int64"
      ]
     },
     "metadata": {},
     "output_type": "display_data"
    },
    {
     "data": {
      "text/plain": [
       "4256040402    11\n",
       "2458001652    11\n",
       "2378935119     9\n",
       "2038680547     8\n",
       "199603092      5\n",
       "              ..\n",
       "2406916810     1\n",
       "1255412427     1\n",
       "3866069709     1\n",
       "54447517       1\n",
       "3013339133     1\n",
       "Name: visitorId, Length: 1031, dtype: int64"
      ]
     },
     "metadata": {},
     "output_type": "display_data"
    },
    {
     "data": {
      "text/plain": [
       "2019-08-05    48\n",
       "2019-08-12    47\n",
       "2019-08-14    47\n",
       "2019-08-15    46\n",
       "2019-08-06    46\n",
       "2019-08-01    45\n",
       "2019-08-28    45\n",
       "2019-08-02    44\n",
       "2019-08-27    44\n",
       "2019-08-08    43\n",
       "2019-08-19    43\n",
       "2019-08-29    42\n",
       "2019-08-07    42\n",
       "2019-08-26    41\n",
       "2019-08-22    41\n",
       "2019-08-09    41\n",
       "2019-08-03    40\n",
       "2019-08-23    40\n",
       "2019-08-10    39\n",
       "2019-08-16    38\n",
       "2019-08-21    37\n",
       "2019-08-30    35\n",
       "2019-08-13    35\n",
       "2019-08-04    33\n",
       "2019-08-20    32\n",
       "2019-08-31    32\n",
       "2019-08-24    31\n",
       "2019-08-18    26\n",
       "2019-08-11    26\n",
       "2019-08-17    24\n",
       "2019-08-25    24\n",
       "Name: date, dtype: int64"
      ]
     },
     "metadata": {},
     "output_type": "display_data"
    },
    {
     "data": {
      "text/plain": [
       "990       17\n",
       "890       13\n",
       "390       13\n",
       "1190      10\n",
       "400       10\n",
       "          ..\n",
       "6440       1\n",
       "45780      1\n",
       "725        1\n",
       "9800       1\n",
       "202740     1\n",
       "Name: revenue, Length: 713, dtype: int64"
      ]
     },
     "metadata": {},
     "output_type": "display_data"
    },
    {
     "data": {
      "text/plain": [
       "B    640\n",
       "A    557\n",
       "Name: group, dtype: int64"
      ]
     },
     "metadata": {},
     "output_type": "display_data"
    }
   ],
   "source": [
    "display(orders['transactionId'].value_counts())\n",
    "display(orders['visitorId'].value_counts())\n",
    "display(orders['date'].value_counts())\n",
    "display(orders['revenue'].value_counts())\n",
    "display(orders['group'].value_counts())"
   ]
  },
  {
   "cell_type": "code",
   "execution_count": 17,
   "metadata": {
    "scrolled": true
   },
   "outputs": [
    {
     "data": {
      "text/plain": [
       "2019-08-27    2\n",
       "2019-08-24    2\n",
       "2019-08-08    2\n",
       "2019-08-14    2\n",
       "2019-08-20    2\n",
       "2019-08-26    2\n",
       "2019-08-01    2\n",
       "2019-08-07    2\n",
       "2019-08-13    2\n",
       "2019-08-19    2\n",
       "2019-08-25    2\n",
       "2019-08-31    2\n",
       "2019-08-06    2\n",
       "2019-08-12    2\n",
       "2019-08-18    2\n",
       "2019-08-30    2\n",
       "2019-08-21    2\n",
       "2019-08-05    2\n",
       "2019-08-11    2\n",
       "2019-08-17    2\n",
       "2019-08-23    2\n",
       "2019-08-29    2\n",
       "2019-08-04    2\n",
       "2019-08-10    2\n",
       "2019-08-16    2\n",
       "2019-08-22    2\n",
       "2019-08-28    2\n",
       "2019-08-03    2\n",
       "2019-08-09    2\n",
       "2019-08-15    2\n",
       "2019-08-02    2\n",
       "Name: date, dtype: int64"
      ]
     },
     "metadata": {},
     "output_type": "display_data"
    },
    {
     "data": {
      "text/plain": [
       "B    31\n",
       "A    31\n",
       "Name: group, dtype: int64"
      ]
     },
     "metadata": {},
     "output_type": "display_data"
    },
    {
     "data": {
      "text/plain": [
       "610    2\n",
       "718    2\n",
       "654    2\n",
       "490    2\n",
       "609    1\n",
       "717    1\n",
       "719    1\n",
       "720    1\n",
       "721    1\n",
       "594    1\n",
       "722    1\n",
       "468    1\n",
       "595    1\n",
       "756    1\n",
       "735    1\n",
       "769    1\n",
       "711    1\n",
       "668    1\n",
       "487    1\n",
       "361    1\n",
       "746    1\n",
       "619    1\n",
       "748    1\n",
       "621    1\n",
       "369    1\n",
       "628    1\n",
       "709    1\n",
       "378    1\n",
       "507    1\n",
       "713    1\n",
       "581    1\n",
       "770    1\n",
       "413    1\n",
       "644    1\n",
       "646    1\n",
       "650    1\n",
       "395    1\n",
       "655    1\n",
       "737    1\n",
       "531    1\n",
       "502    1\n",
       "406    1\n",
       "667    1\n",
       "412    1\n",
       "543    1\n",
       "707    1\n",
       "544    1\n",
       "546    1\n",
       "676    1\n",
       "421    1\n",
       "617    1\n",
       "679    1\n",
       "560    1\n",
       "656    1\n",
       "699    1\n",
       "575    1\n",
       "577    1\n",
       "509    1\n",
       "Name: visitors, dtype: int64"
      ]
     },
     "metadata": {},
     "output_type": "display_data"
    }
   ],
   "source": [
    "display(visitors['date'].value_counts())\n",
    "display(visitors['group'].value_counts())\n",
    "display(visitors['visitors'].value_counts())"
   ]
  },
  {
   "cell_type": "markdown",
   "metadata": {},
   "source": [
    "Проверим выручку"
   ]
  },
  {
   "cell_type": "code",
   "execution_count": 18,
   "metadata": {
    "scrolled": true
   },
   "outputs": [
    {
     "data": {
      "text/plain": [
       "count       1197.0\n",
       "mean        8348.0\n",
       "std        39191.0\n",
       "min           50.0\n",
       "25%         1220.0\n",
       "50%         2978.0\n",
       "75%         8290.0\n",
       "max      1294500.0\n",
       "Name: revenue, dtype: float64"
      ]
     },
     "execution_count": 18,
     "metadata": {},
     "output_type": "execute_result"
    }
   ],
   "source": [
    "orders['revenue'].describe().round()"
   ]
  },
  {
   "cell_type": "code",
   "execution_count": 19,
   "metadata": {
    "scrolled": true
   },
   "outputs": [
    {
     "data": {
      "text/plain": [
       "425     1294500\n",
       "1196     202740\n",
       "858       93940\n",
       "1136      92550\n",
       "744       86620\n",
       "682       78990\n",
       "662       78990\n",
       "743       67990\n",
       "1103      66350\n",
       "1099      65710\n",
       "Name: revenue, dtype: int64"
      ]
     },
     "execution_count": 19,
     "metadata": {},
     "output_type": "execute_result"
    }
   ],
   "source": [
    "orders['revenue'].sort_values(ascending=False).head(10)"
   ]
  },
  {
   "cell_type": "markdown",
   "metadata": {},
   "source": [
    "Проверим пользователей"
   ]
  },
  {
   "cell_type": "code",
   "execution_count": 20,
   "metadata": {
    "scrolled": true
   },
   "outputs": [
    {
     "data": {
      "text/html": [
       "<div>\n",
       "<style scoped>\n",
       "    .dataframe tbody tr th:only-of-type {\n",
       "        vertical-align: middle;\n",
       "    }\n",
       "\n",
       "    .dataframe tbody tr th {\n",
       "        vertical-align: top;\n",
       "    }\n",
       "\n",
       "    .dataframe thead th {\n",
       "        text-align: right;\n",
       "    }\n",
       "</style>\n",
       "<table border=\"1\" class=\"dataframe\">\n",
       "  <thead>\n",
       "    <tr style=\"text-align: right;\">\n",
       "      <th></th>\n",
       "      <th>visitors</th>\n",
       "    </tr>\n",
       "    <tr>\n",
       "      <th>group</th>\n",
       "      <th></th>\n",
       "    </tr>\n",
       "  </thead>\n",
       "  <tbody>\n",
       "    <tr>\n",
       "      <th>A</th>\n",
       "      <td>18736</td>\n",
       "    </tr>\n",
       "    <tr>\n",
       "      <th>B</th>\n",
       "      <td>18916</td>\n",
       "    </tr>\n",
       "  </tbody>\n",
       "</table>\n",
       "</div>"
      ],
      "text/plain": [
       "       visitors\n",
       "group          \n",
       "A         18736\n",
       "B         18916"
      ]
     },
     "execution_count": 20,
     "metadata": {},
     "output_type": "execute_result"
    }
   ],
   "source": [
    "visitors.sort_values(by=['group', 'visitors']).groupby('group').agg({'visitors': 'sum'})"
   ]
  },
  {
   "cell_type": "code",
   "execution_count": 21,
   "metadata": {
    "scrolled": false
   },
   "outputs": [
    {
     "data": {
      "text/plain": [
       "37652"
      ]
     },
     "execution_count": 21,
     "metadata": {},
     "output_type": "execute_result"
    }
   ],
   "source": [
    "visitors['visitors'].sum()"
   ]
  },
  {
   "cell_type": "code",
   "execution_count": 22,
   "metadata": {},
   "outputs": [
    {
     "data": {
      "text/plain": [
       "18736"
      ]
     },
     "execution_count": 22,
     "metadata": {},
     "output_type": "execute_result"
    }
   ],
   "source": [
    "visitors_a = visitors[visitors['group']=='A'].sum()['visitors']\n",
    "visitors_a"
   ]
  },
  {
   "cell_type": "code",
   "execution_count": 23,
   "metadata": {},
   "outputs": [
    {
     "data": {
      "text/plain": [
       "18916"
      ]
     },
     "execution_count": 23,
     "metadata": {},
     "output_type": "execute_result"
    }
   ],
   "source": [
    "visitors_b = visitors[visitors['group']=='B'].sum()['visitors']\n",
    "visitors_b"
   ]
  },
  {
   "cell_type": "code",
   "execution_count": 24,
   "metadata": {
    "scrolled": true
   },
   "outputs": [
    {
     "data": {
      "text/plain": [
       "0.4976096887283544"
      ]
     },
     "execution_count": 24,
     "metadata": {},
     "output_type": "execute_result"
    }
   ],
   "source": [
    "visitors[visitors['group']=='A'].sum()['visitors']/visitors['visitors'].sum()"
   ]
  },
  {
   "cell_type": "markdown",
   "metadata": {},
   "source": [
    "Проверим заказы"
   ]
  },
  {
   "cell_type": "code",
   "execution_count": 25,
   "metadata": {},
   "outputs": [
    {
     "data": {
      "text/plain": [
       "A    557\n",
       "B    640\n",
       "Name: group, dtype: int64"
      ]
     },
     "execution_count": 25,
     "metadata": {},
     "output_type": "execute_result"
    }
   ],
   "source": [
    "orders['group'].value_counts().sort_values()"
   ]
  },
  {
   "cell_type": "code",
   "execution_count": 26,
   "metadata": {
    "scrolled": true
   },
   "outputs": [
    {
     "data": {
      "text/plain": [
       "1197"
      ]
     },
     "execution_count": 26,
     "metadata": {},
     "output_type": "execute_result"
    }
   ],
   "source": [
    "orders['group'].count()"
   ]
  },
  {
   "cell_type": "code",
   "execution_count": 27,
   "metadata": {
    "scrolled": true
   },
   "outputs": [
    {
     "data": {
      "text/plain": [
       "557"
      ]
     },
     "execution_count": 27,
     "metadata": {},
     "output_type": "execute_result"
    }
   ],
   "source": [
    "# orders.query('group == \"A\"').value_counts().sum()\n",
    "# np.sum(orders['group'] == 'A')\n",
    "orders_a = orders[orders['group']=='A'].count()['group']\n",
    "orders_a"
   ]
  },
  {
   "cell_type": "code",
   "execution_count": 28,
   "metadata": {},
   "outputs": [
    {
     "data": {
      "text/plain": [
       "640"
      ]
     },
     "execution_count": 28,
     "metadata": {},
     "output_type": "execute_result"
    }
   ],
   "source": [
    "orders_b = orders[orders['group']=='B'].count()['group']\n",
    "orders_b"
   ]
  },
  {
   "cell_type": "code",
   "execution_count": 29,
   "metadata": {
    "scrolled": true
   },
   "outputs": [
    {
     "data": {
      "text/plain": [
       "0.4653299916457811"
      ]
     },
     "execution_count": 29,
     "metadata": {},
     "output_type": "execute_result"
    }
   ],
   "source": [
    "orders[orders['group']=='A'].count()['group']/orders['group'].count()"
   ]
  },
  {
   "cell_type": "markdown",
   "metadata": {},
   "source": [
    "#### Проверка гипотезы о равенстве долей"
   ]
  },
  {
   "cell_type": "code",
   "execution_count": 30,
   "metadata": {},
   "outputs": [
    {
     "name": "stdout",
     "output_type": "stream",
     "text": [
      "p-значение:  0.02320723394441848\n",
      "Отвергаем нулевую гипотезу: между долями есть значимая разница\n"
     ]
    }
   ],
   "source": [
    "alpha = .05 # критический уровень статистической значимости\n",
    "\n",
    "orders_check = np.array([orders_a, orders_b])\n",
    "visitors_check = np.array([visitors_a, visitors_b])\n",
    "\n",
    "# пропорция успехов в первой группе:\n",
    "p1 = orders_check[0]/visitors_check[0]\n",
    "\n",
    "# пропорция успехов во второй группе:\n",
    "p2 = orders_check[1]/visitors_check[1]\n",
    "\n",
    "# пропорция успехов в комбинированном датасете:\n",
    "p_combined = (orders_check[0] + orders_check[1]) / (visitors_check[0] + visitors_check[1])\n",
    "\n",
    "# разница пропорций в датасетах\n",
    "difference = p1 - p2\n",
    "\n",
    "# считаем статистику в ст.отклонениях стандартного нормального распределения\n",
    "z_value = difference / mth.sqrt(p_combined * (1 - p_combined) * (1/visitors_check[0] + 1/visitors_check[1]))\n",
    "\n",
    "# задаем стандартное нормальное распределение (среднее 0, ст.отклонение 1)\n",
    "distr = st.norm(0, 1) \n",
    "\n",
    "# считаем статистику в ст.отклонениях стандартного нормального распределения\n",
    "z_value = difference / mth.sqrt(\n",
    "    p_combined * (1 - p_combined) * (1 / visitors_check[0] + 1 / visitors_check[1])\n",
    ")\n",
    "\n",
    "# задаем стандартное нормальное распределение (среднее 0, ст.отклонение 1)\n",
    "distr = st.norm(0, 1)\n",
    "\n",
    "p_value = (1 - distr.cdf(abs(z_value))) * 2\n",
    "\n",
    "print('p-значение: ', p_value)\n",
    "\n",
    "if p_value < alpha:\n",
    "    print('Отвергаем нулевую гипотезу: между долями есть значимая разница')\n",
    "else:\n",
    "    print(\n",
    "        'Не получилось отвергнуть нулевую гипотезу, нет оснований считать доли разными'\n",
    "    )"
   ]
  },
  {
   "cell_type": "markdown",
   "metadata": {},
   "source": [
    "#### Проверка данных на нормальность. Критерий Шапиро-Уилка"
   ]
  },
  {
   "cell_type": "code",
   "execution_count": 31,
   "metadata": {},
   "outputs": [],
   "source": [
    "visitors_list = visitors['visitors'].tolist()"
   ]
  },
  {
   "cell_type": "code",
   "execution_count": 32,
   "metadata": {},
   "outputs": [
    {
     "name": "stdout",
     "output_type": "stream",
     "text": [
      "p-значение:  0.002020221436396241\n",
      "Отвергаем нулевую гипотезу: распределение не нормально\n"
     ]
    }
   ],
   "source": [
    "sample_1 = visitors_list\n",
    "\n",
    "alpha = 0.05  # критический уровень статистической значимости\n",
    "\n",
    "results = st.shapiro(sample_1)\n",
    "p_value = results[1]  # второе значение в массиве результатов (с индексом 1) - p-value\n",
    "\n",
    "print('p-значение: ', p_value)\n",
    "\n",
    "if p_value < alpha:\n",
    "    print('Отвергаем нулевую гипотезу: распределение не нормально')\n",
    "else:\n",
    "    print('Не получилось отвергнуть нулевую гипотезу, всё нормально')"
   ]
  },
  {
   "cell_type": "code",
   "execution_count": 33,
   "metadata": {},
   "outputs": [],
   "source": [
    "visitors_a = visitors[visitors['group']=='A']\n",
    "visitors_a_list = visitors_a['visitors'].tolist()"
   ]
  },
  {
   "cell_type": "code",
   "execution_count": 34,
   "metadata": {},
   "outputs": [
    {
     "name": "stdout",
     "output_type": "stream",
     "text": [
      "p-значение:  0.029194815084338188\n",
      "Отвергаем нулевую гипотезу: распределение не нормально\n"
     ]
    }
   ],
   "source": [
    "sample_1 = visitors_a_list\n",
    "\n",
    "alpha = 0.05  # критический уровень статистической значимости\n",
    "\n",
    "results = st.shapiro(sample_1)\n",
    "p_value = results[1]  # второе значение в массиве результатов (с индексом 1) - p-value\n",
    "\n",
    "print('p-значение: ', p_value)\n",
    "\n",
    "if p_value < alpha:\n",
    "    print('Отвергаем нулевую гипотезу: распределение не нормально')\n",
    "else:\n",
    "    print('Не получилось отвергнуть нулевую гипотезу, всё нормально')"
   ]
  },
  {
   "cell_type": "code",
   "execution_count": 35,
   "metadata": {},
   "outputs": [],
   "source": [
    "visitors_b = visitors[visitors['group']=='B']\n",
    "visitors_b_list = visitors_b['visitors'].tolist()"
   ]
  },
  {
   "cell_type": "code",
   "execution_count": 36,
   "metadata": {},
   "outputs": [
    {
     "name": "stdout",
     "output_type": "stream",
     "text": [
      "p-значение:  0.036449261009693146\n",
      "Отвергаем нулевую гипотезу: распределение не нормально\n"
     ]
    }
   ],
   "source": [
    "sample_1 = visitors_b_list\n",
    "\n",
    "alpha = 0.05  # критический уровень статистической значимости\n",
    "\n",
    "results = st.shapiro(sample_1)\n",
    "p_value = results[1]  # второе значение в массиве результатов (с индексом 1) - p-value\n",
    "\n",
    "print('p-значение: ', p_value)\n",
    "\n",
    "if p_value < alpha:\n",
    "    print('Отвергаем нулевую гипотезу: распределение не нормально')\n",
    "else:\n",
    "    print('Не получилось отвергнуть нулевую гипотезу, всё нормально')"
   ]
  },
  {
   "cell_type": "markdown",
   "metadata": {
    "id": "gv5wLa0E82G8"
   },
   "source": [
    "### Вывод"
   ]
  },
  {
   "cell_type": "markdown",
   "metadata": {},
   "source": [
    "При обработаке данных: \n",
    "- Произведено изменение стиля в наименованиях столбцов\n",
    "- Произведено приведение столбцов с указанием времени к формату datetime\n",
    "- Выявлено что полные и неявные дубликаты отсутствуют\n",
    "- Выявлена аномальная выручка, max - 1 294 500\n",
    "- Выявлено что пользователей попавших в категорию А - 18 736 (или 49,8 %) , а в котегорию B - 18 916 (или 50,2 %), а заказов попавших в категорию А - 557 (или 47 %) , а в котегорию B - 640 (или 53 %) - между долями есть значимая разница.\n",
    "- Выявлено что распределение пользователей по критерию Шапиро-Уилкане не нормально\n"
   ]
  },
  {
   "cell_type": "markdown",
   "metadata": {
    "id": "yZtpjOS96KsL"
   },
   "source": [
    "## Проверка гипотез"
   ]
  },
  {
   "cell_type": "markdown",
   "metadata": {
    "id": "Rb4t16Pk7Rro"
   },
   "source": [
    "### Приоритизация гипотез"
   ]
  },
  {
   "cell_type": "markdown",
   "metadata": {
    "id": "PZbwq5Ej_WK7"
   },
   "source": [
    "#### Применение фреймворка ICE для приоритизации гипотез"
   ]
  },
  {
   "cell_type": "code",
   "execution_count": 67,
   "metadata": {
    "scrolled": true
   },
   "outputs": [
    {
     "data": {
      "text/html": [
       "<div>\n",
       "<style scoped>\n",
       "    .dataframe tbody tr th:only-of-type {\n",
       "        vertical-align: middle;\n",
       "    }\n",
       "\n",
       "    .dataframe tbody tr th {\n",
       "        vertical-align: top;\n",
       "    }\n",
       "\n",
       "    .dataframe thead th {\n",
       "        text-align: right;\n",
       "    }\n",
       "</style>\n",
       "<table border=\"1\" class=\"dataframe\">\n",
       "  <thead>\n",
       "    <tr style=\"text-align: right;\">\n",
       "      <th></th>\n",
       "      <th>hypothesis</th>\n",
       "      <th>ice</th>\n",
       "    </tr>\n",
       "  </thead>\n",
       "  <tbody>\n",
       "    <tr>\n",
       "      <th>8</th>\n",
       "      <td>Запустить акцию, дающую скидку на товар в день рождения</td>\n",
       "      <td>16.200000</td>\n",
       "    </tr>\n",
       "    <tr>\n",
       "      <th>0</th>\n",
       "      <td>Добавить два новых канала привлечения трафика, что позволит привлекать на 30% больше пользователей</td>\n",
       "      <td>13.333333</td>\n",
       "    </tr>\n",
       "    <tr>\n",
       "      <th>7</th>\n",
       "      <td>Добавить форму подписки на все основные страницы, чтобы собрать базу клиентов для email-рассылок</td>\n",
       "      <td>11.200000</td>\n",
       "    </tr>\n",
       "    <tr>\n",
       "      <th>6</th>\n",
       "      <td>Показать на главной странице баннеры с актуальными акциями и распродажами, чтобы увеличить конверсию</td>\n",
       "      <td>8.000000</td>\n",
       "    </tr>\n",
       "    <tr>\n",
       "      <th>2</th>\n",
       "      <td>Добавить блоки рекомендаций товаров на сайт интернет магазина, чтобы повысить конверсию и средний чек заказа</td>\n",
       "      <td>7.000000</td>\n",
       "    </tr>\n",
       "    <tr>\n",
       "      <th>1</th>\n",
       "      <td>Запустить собственную службу доставки, что сократит срок доставки заказов</td>\n",
       "      <td>2.000000</td>\n",
       "    </tr>\n",
       "    <tr>\n",
       "      <th>5</th>\n",
       "      <td>Добавить страницу отзывов клиентов о магазине, что позволит увеличить количество заказов</td>\n",
       "      <td>1.333333</td>\n",
       "    </tr>\n",
       "    <tr>\n",
       "      <th>3</th>\n",
       "      <td>Изменить структура категорий, что увеличит конверсию, т.к. пользователи быстрее найдут нужный товар</td>\n",
       "      <td>1.125000</td>\n",
       "    </tr>\n",
       "    <tr>\n",
       "      <th>4</th>\n",
       "      <td>Изменить цвет фона главной страницы, чтобы увеличить вовлеченность пользователей</td>\n",
       "      <td>1.000000</td>\n",
       "    </tr>\n",
       "  </tbody>\n",
       "</table>\n",
       "</div>"
      ],
      "text/plain": [
       "                                                                                                     hypothesis  \\\n",
       "8                                                       Запустить акцию, дающую скидку на товар в день рождения   \n",
       "0            Добавить два новых канала привлечения трафика, что позволит привлекать на 30% больше пользователей   \n",
       "7              Добавить форму подписки на все основные страницы, чтобы собрать базу клиентов для email-рассылок   \n",
       "6          Показать на главной странице баннеры с актуальными акциями и распродажами, чтобы увеличить конверсию   \n",
       "2  Добавить блоки рекомендаций товаров на сайт интернет магазина, чтобы повысить конверсию и средний чек заказа   \n",
       "1                                     Запустить собственную службу доставки, что сократит срок доставки заказов   \n",
       "5                      Добавить страницу отзывов клиентов о магазине, что позволит увеличить количество заказов   \n",
       "3           Изменить структура категорий, что увеличит конверсию, т.к. пользователи быстрее найдут нужный товар   \n",
       "4                              Изменить цвет фона главной страницы, чтобы увеличить вовлеченность пользователей   \n",
       "\n",
       "         ice  \n",
       "8  16.200000  \n",
       "0  13.333333  \n",
       "7  11.200000  \n",
       "6   8.000000  \n",
       "2   7.000000  \n",
       "1   2.000000  \n",
       "5   1.333333  \n",
       "3   1.125000  \n",
       "4   1.000000  "
      ]
     },
     "execution_count": 67,
     "metadata": {},
     "output_type": "execute_result"
    }
   ],
   "source": [
    "hypothesis['ice'] = hypothesis['impact']*hypothesis['confidence']/hypothesis['efforts']\n",
    "hypothesis[['hypothesis', 'ice']].sort_values(by='ice', ascending=False)"
   ]
  },
  {
   "cell_type": "code",
   "execution_count": 68,
   "metadata": {},
   "outputs": [],
   "source": [
    "pd.options.display.max_colwidth = 210"
   ]
  },
  {
   "cell_type": "markdown",
   "metadata": {
    "id": "gE1bwOdv_ieU"
   },
   "source": [
    "#### Примение фреймворка RICE для приоритизации гипотез"
   ]
  },
  {
   "cell_type": "code",
   "execution_count": 69,
   "metadata": {},
   "outputs": [
    {
     "data": {
      "text/html": [
       "<div>\n",
       "<style scoped>\n",
       "    .dataframe tbody tr th:only-of-type {\n",
       "        vertical-align: middle;\n",
       "    }\n",
       "\n",
       "    .dataframe tbody tr th {\n",
       "        vertical-align: top;\n",
       "    }\n",
       "\n",
       "    .dataframe thead th {\n",
       "        text-align: right;\n",
       "    }\n",
       "</style>\n",
       "<table border=\"1\" class=\"dataframe\">\n",
       "  <thead>\n",
       "    <tr style=\"text-align: right;\">\n",
       "      <th></th>\n",
       "      <th>hypothesis</th>\n",
       "      <th>reach</th>\n",
       "      <th>impact</th>\n",
       "      <th>confidence</th>\n",
       "      <th>efforts</th>\n",
       "      <th>ice</th>\n",
       "      <th>rice</th>\n",
       "    </tr>\n",
       "  </thead>\n",
       "  <tbody>\n",
       "    <tr>\n",
       "      <th>7</th>\n",
       "      <td>Добавить форму подписки на все основные страницы, чтобы собрать базу клиентов для email-рассылок</td>\n",
       "      <td>10</td>\n",
       "      <td>7</td>\n",
       "      <td>8</td>\n",
       "      <td>5</td>\n",
       "      <td>11.200000</td>\n",
       "      <td>112.0</td>\n",
       "    </tr>\n",
       "    <tr>\n",
       "      <th>2</th>\n",
       "      <td>Добавить блоки рекомендаций товаров на сайт интернет магазина, чтобы повысить конверсию и средний чек заказа</td>\n",
       "      <td>8</td>\n",
       "      <td>3</td>\n",
       "      <td>7</td>\n",
       "      <td>3</td>\n",
       "      <td>7.000000</td>\n",
       "      <td>56.0</td>\n",
       "    </tr>\n",
       "    <tr>\n",
       "      <th>0</th>\n",
       "      <td>Добавить два новых канала привлечения трафика, что позволит привлекать на 30% больше пользователей</td>\n",
       "      <td>3</td>\n",
       "      <td>10</td>\n",
       "      <td>8</td>\n",
       "      <td>6</td>\n",
       "      <td>13.333333</td>\n",
       "      <td>40.0</td>\n",
       "    </tr>\n",
       "    <tr>\n",
       "      <th>6</th>\n",
       "      <td>Показать на главной странице баннеры с актуальными акциями и распродажами, чтобы увеличить конверсию</td>\n",
       "      <td>5</td>\n",
       "      <td>3</td>\n",
       "      <td>8</td>\n",
       "      <td>3</td>\n",
       "      <td>8.000000</td>\n",
       "      <td>40.0</td>\n",
       "    </tr>\n",
       "    <tr>\n",
       "      <th>8</th>\n",
       "      <td>Запустить акцию, дающую скидку на товар в день рождения</td>\n",
       "      <td>1</td>\n",
       "      <td>9</td>\n",
       "      <td>9</td>\n",
       "      <td>5</td>\n",
       "      <td>16.200000</td>\n",
       "      <td>16.2</td>\n",
       "    </tr>\n",
       "    <tr>\n",
       "      <th>3</th>\n",
       "      <td>Изменить структура категорий, что увеличит конверсию, т.к. пользователи быстрее найдут нужный товар</td>\n",
       "      <td>8</td>\n",
       "      <td>3</td>\n",
       "      <td>3</td>\n",
       "      <td>8</td>\n",
       "      <td>1.125000</td>\n",
       "      <td>9.0</td>\n",
       "    </tr>\n",
       "    <tr>\n",
       "      <th>1</th>\n",
       "      <td>Запустить собственную службу доставки, что сократит срок доставки заказов</td>\n",
       "      <td>2</td>\n",
       "      <td>5</td>\n",
       "      <td>4</td>\n",
       "      <td>10</td>\n",
       "      <td>2.000000</td>\n",
       "      <td>4.0</td>\n",
       "    </tr>\n",
       "    <tr>\n",
       "      <th>5</th>\n",
       "      <td>Добавить страницу отзывов клиентов о магазине, что позволит увеличить количество заказов</td>\n",
       "      <td>3</td>\n",
       "      <td>2</td>\n",
       "      <td>2</td>\n",
       "      <td>3</td>\n",
       "      <td>1.333333</td>\n",
       "      <td>4.0</td>\n",
       "    </tr>\n",
       "    <tr>\n",
       "      <th>4</th>\n",
       "      <td>Изменить цвет фона главной страницы, чтобы увеличить вовлеченность пользователей</td>\n",
       "      <td>3</td>\n",
       "      <td>1</td>\n",
       "      <td>1</td>\n",
       "      <td>1</td>\n",
       "      <td>1.000000</td>\n",
       "      <td>3.0</td>\n",
       "    </tr>\n",
       "  </tbody>\n",
       "</table>\n",
       "</div>"
      ],
      "text/plain": [
       "                                                                                                     hypothesis  \\\n",
       "7              Добавить форму подписки на все основные страницы, чтобы собрать базу клиентов для email-рассылок   \n",
       "2  Добавить блоки рекомендаций товаров на сайт интернет магазина, чтобы повысить конверсию и средний чек заказа   \n",
       "0            Добавить два новых канала привлечения трафика, что позволит привлекать на 30% больше пользователей   \n",
       "6          Показать на главной странице баннеры с актуальными акциями и распродажами, чтобы увеличить конверсию   \n",
       "8                                                       Запустить акцию, дающую скидку на товар в день рождения   \n",
       "3           Изменить структура категорий, что увеличит конверсию, т.к. пользователи быстрее найдут нужный товар   \n",
       "1                                     Запустить собственную службу доставки, что сократит срок доставки заказов   \n",
       "5                      Добавить страницу отзывов клиентов о магазине, что позволит увеличить количество заказов   \n",
       "4                              Изменить цвет фона главной страницы, чтобы увеличить вовлеченность пользователей   \n",
       "\n",
       "   reach  impact  confidence  efforts        ice   rice  \n",
       "7     10       7           8        5  11.200000  112.0  \n",
       "2      8       3           7        3   7.000000   56.0  \n",
       "0      3      10           8        6  13.333333   40.0  \n",
       "6      5       3           8        3   8.000000   40.0  \n",
       "8      1       9           9        5  16.200000   16.2  \n",
       "3      8       3           3        8   1.125000    9.0  \n",
       "1      2       5           4       10   2.000000    4.0  \n",
       "5      3       2           2        3   1.333333    4.0  \n",
       "4      3       1           1        1   1.000000    3.0  "
      ]
     },
     "execution_count": 69,
     "metadata": {},
     "output_type": "execute_result"
    }
   ],
   "source": [
    "hypothesis['rice'] = hypothesis['reach']*hypothesis['impact']*hypothesis['confidence']/hypothesis['efforts']\n",
    "hypothesis.sort_values(by='rice', ascending = False)"
   ]
  },
  {
   "cell_type": "markdown",
   "metadata": {
    "id": "Bg_Kno84_rLa"
   },
   "source": [
    "#### Вывод"
   ]
  },
  {
   "cell_type": "markdown",
   "metadata": {},
   "source": [
    "По фреймворку ICE наибольшую оценку имели гипотезы 8,0 и 7. Однако после применения фреймворка RICE перечень изменился на гпиотезы 7,2 и 0. Так получилось, потому что параметр `reach` в гипотезе 7 равен 10, в то время как у других гипотез он меньше.\n",
    "В фреймворка RICE мы учитываем скольких пользователей затронет изменение, которое мы хотим внести это является существенным фактором. Приоритетными гипотезами будут 7, 2, 0."
   ]
  },
  {
   "cell_type": "markdown",
   "metadata": {
    "id": "9Ek0cAtc7VX4"
   },
   "source": [
    "### Анализ A/B-теста"
   ]
  },
  {
   "cell_type": "markdown",
   "metadata": {
    "id": "bBaV0nk0A2Ms"
   },
   "source": [
    "#### График кумулятивной выручки по группам"
   ]
  },
  {
   "cell_type": "code",
   "execution_count": 41,
   "metadata": {},
   "outputs": [
    {
     "name": "stdout",
     "output_type": "stream",
     "text": [
      "        date group  orders  buyers  revenue  visitors\n",
      "0 2019-08-01     A      24      20   148579       719\n",
      "1 2019-08-01     B      21      20   101217       713\n",
      "2 2019-08-02     A      44      38   242401      1338\n",
      "3 2019-08-02     B      45      43   266748      1294\n",
      "4 2019-08-03     A      68      62   354874      1845\n"
     ]
    }
   ],
   "source": [
    "# создаем массив уникальных пар значений дат и групп теста\n",
    "dates_groups = orders[['date','group']].drop_duplicates()\n",
    "\n",
    "# получаем агрегированные кумулятивные по дням данные о заказах \n",
    "orders_aggregated = (\n",
    "    dates_groups.apply(lambda x: orders[np.logical_and(orders['date'] <= x['date'], orders['group'] == x['group'])]\n",
    "    .agg({'date' : 'max', 'group' : 'max', 'transactionId' : 'nunique', 'visitorId' : 'nunique', 'revenue' : 'sum'}), axis=1)\n",
    "    .sort_values(by=['date','group'])\n",
    ")\n",
    "\n",
    "# получаем агрегированные кумулятивные по дням данные о посетителях интернет-магазина \n",
    "visitors_aggregated = (\n",
    "    dates_groups.apply(lambda x: visitors[np.logical_and(visitors['date'] <= x['date'],visitors['group'] == x['group'])]\n",
    "    .agg({'date' : 'max', 'group' : 'max', 'visitors' : 'sum'}),axis=1)\n",
    "    .sort_values(by=['date','group'])\n",
    ")\n",
    "\n",
    "# объединяем кумулятивные данные в одной таблице и присваиваем ее столбцам понятные названия\n",
    "cumulative_data = (\n",
    "    orders_aggregated\n",
    "    .merge(visitors_aggregated, left_on=['date', 'group'],\n",
    "    right_on=['date', 'group'])\n",
    ")\n",
    "\n",
    "cumulative_data.columns = ['date', 'group', 'orders', 'buyers', 'revenue', 'visitors']\n",
    "\n",
    "print(cumulative_data.head(5))"
   ]
  },
  {
   "cell_type": "code",
   "execution_count": 42,
   "metadata": {},
   "outputs": [
    {
     "data": {
      "image/png": "[encoded data removed]",
      "text/plain": [
       "<Figure size 864x432 with 1 Axes>"
      ]
     },
     "metadata": {
      "needs_background": "light"
     },
     "output_type": "display_data"
    }
   ],
   "source": [
    "cumulative_revenue_a= cumulative_data[cumulative_data['group']=='A'][['date','revenue', 'orders']]\n",
    "cumulative_revenue_b = cumulative_data[cumulative_data['group']=='B'][['date','revenue', 'orders']]\n",
    "\n",
    "plt.figure(figsize=(12,6))\n",
    "\n",
    "plt.plot(cumulative_revenue_a['date'], cumulative_revenue_a['revenue'], label='A')\n",
    "plt.plot(cumulative_revenue_b['date'], cumulative_revenue_b['revenue'], label='B')\n",
    "\n",
    "plt.ylabel('Выручка')\n",
    "plt.xlabel('Дата')\n",
    "plt.title('График кумулятивной выручки по группам')\n",
    "plt.legend()\n",
    "plt.show()"
   ]
  },
  {
   "cell_type": "markdown",
   "metadata": {},
   "source": [
    "Кумулятивная выручка по группам увеличивается в течение всего теста.\n",
    "Группа B показывает большую выручку чем группа A. \n",
    "2019-08-19 в  группе B происходит резкий рост - это может сигнализировать о всплесках числа заказов, либо о появлении очень дорогих заказов в выборке."
   ]
  },
  {
   "cell_type": "markdown",
   "metadata": {
    "id": "kw-r6hE8BZ6M"
   },
   "source": [
    "#### График кумулятивного среднего чека по группам"
   ]
  },
  {
   "cell_type": "code",
   "execution_count": 43,
   "metadata": {},
   "outputs": [
    {
     "data": {
      "image/png": "[encoded data removed]",
      "text/plain": [
       "<Figure size 864x432 with 1 Axes>"
      ]
     },
     "metadata": {
      "needs_background": "light"
     },
     "output_type": "display_data"
    }
   ],
   "source": [
    "plt.figure(figsize=(12,6))\n",
    "\n",
    "plt.plot(cumulative_revenue_a['date'], cumulative_revenue_a['revenue']/cumulative_revenue_a['orders'], label='A')\n",
    "plt.plot(cumulative_revenue_b['date'], cumulative_revenue_b['revenue']/cumulative_revenue_b['orders'], label='B')\n",
    "\n",
    "plt.title('График кумулятивного среднего чека по группам')\n",
    "plt.ylabel('Средний чек')\n",
    "plt.xlabel('Дата')\n",
    "plt.legend()\n",
    "plt.show()"
   ]
  },
  {
   "cell_type": "markdown",
   "metadata": {
    "executionInfo": {
     "elapsed": 10,
     "status": "ok",
     "timestamp": 1658933029243,
     "user": {
      "displayName": "Andrey Sokolov",
      "userId": "11877895700433819034"
     },
     "user_tz": -180
    },
    "id": "MLibLOB7BgXu"
   },
   "source": [
    "Кумулятивный средний чек до 2019-08-19 относительно стабилен для всех групп. После 2019-08-19 происходит резкий всплеск в группе B - вероятно это обусловлено аномалией."
   ]
  },
  {
   "cell_type": "markdown",
   "metadata": {
    "id": "ZmJF53o3Bjoe"
   },
   "source": [
    "#### График относительного изменения кумулятивного среднего чека группы B к группе A"
   ]
  },
  {
   "cell_type": "code",
   "execution_count": 44,
   "metadata": {},
   "outputs": [
    {
     "data": {
      "image/png": "[encoded data removed]",
      "text/plain": [
       "<Figure size 864x432 with 1 Axes>"
      ]
     },
     "metadata": {
      "needs_background": "light"
     },
     "output_type": "display_data"
    }
   ],
   "source": [
    "merged_cumulative_revenue = cumulative_revenue_a.merge(cumulative_revenue_b, left_on='date', right_on='date', how='left', suffixes=['A', 'B'])\n",
    "\n",
    "plt.figure(figsize=(12,6))\n",
    "\n",
    "plt.plot(merged_cumulative_revenue['date'], (merged_cumulative_revenue['revenueB']/merged_cumulative_revenue['ordersB'])/(merged_cumulative_revenue['revenueA']/merged_cumulative_revenue['ordersA'])-1)\n",
    "\n",
    "plt.axhline(y=0, color='black', linestyle='--')\n",
    "\n",
    "plt.title('График относительного изменения кумулятивного среднего чека группы B к группе A')\n",
    "plt.xlabel('Дата')\n",
    "plt.show()"
   ]
  },
  {
   "cell_type": "markdown",
   "metadata": {
    "executionInfo": {
     "elapsed": 10,
     "status": "ok",
     "timestamp": 1658933029243,
     "user": {
      "displayName": "Andrey Sokolov",
      "userId": "11877895700433819034"
     },
     "user_tz": -180
    },
    "id": "ufZOttWFBnUG"
   },
   "source": [
    "В нескольких точках график относительного изменения кумулятивного среднего чека резко колеблется. Необходимо проверить данные на наличие аномалий."
   ]
  },
  {
   "cell_type": "markdown",
   "metadata": {
    "id": "-PExEZecBn0M"
   },
   "source": [
    "#### График кумулятивной конверсии по группам"
   ]
  },
  {
   "cell_type": "code",
   "execution_count": 45,
   "metadata": {
    "executionInfo": {
     "elapsed": 10,
     "status": "ok",
     "timestamp": 1658933029243,
     "user": {
      "displayName": "Andrey Sokolov",
      "userId": "11877895700433819034"
     },
     "user_tz": -180
    },
    "id": "gZVkgSZeBwNC"
   },
   "outputs": [
    {
     "data": {
      "image/png": "[encoded data removed]",
      "text/plain": [
       "<Figure size 864x432 with 1 Axes>"
      ]
     },
     "metadata": {
      "needs_background": "light"
     },
     "output_type": "display_data"
    }
   ],
   "source": [
    "cumulative_data['conversion'] = cumulative_data['orders']/cumulative_data['visitors']\n",
    "\n",
    "cumulative_data_a = cumulative_data[cumulative_data['group']=='A']\n",
    "cumulative_data_b = cumulative_data[cumulative_data['group']=='B']\n",
    "\n",
    "plt.figure(figsize=(12,6))\n",
    "\n",
    "plt.plot(cumulative_data_a['date'], cumulative_data_a['conversion'], label='A')\n",
    "plt.plot(cumulative_data_b['date'], cumulative_data_b['conversion'], label='B')\n",
    "\n",
    "plt.title('График кумулятивного среднего чека по группам')\n",
    "plt.ylabel('Средний чек')\n",
    "plt.xlabel('Дата')\n",
    "plt.legend()\n",
    "plt.show()"
   ]
  },
  {
   "cell_type": "markdown",
   "metadata": {},
   "source": [
    "График кумулятивного среднего чека по группам относительно симметричен. С 2019-08-06 гуппа B стабильно показывает большую конверсию чем группа A."
   ]
  },
  {
   "cell_type": "markdown",
   "metadata": {
    "id": "Nh3BIkh2BwkE"
   },
   "source": [
    "#### График относительного изменения кумулятивной конверсии группы B к группе A"
   ]
  },
  {
   "cell_type": "code",
   "execution_count": 46,
   "metadata": {
    "executionInfo": {
     "elapsed": 10,
     "status": "ok",
     "timestamp": 1658933029244,
     "user": {
      "displayName": "Andrey Sokolov",
      "userId": "11877895700433819034"
     },
     "user_tz": -180
    },
    "id": "EfFbof8OB_LL"
   },
   "outputs": [
    {
     "data": {
      "image/png": "[encoded data removed]",
      "text/plain": [
       "<Figure size 864x432 with 1 Axes>"
      ]
     },
     "metadata": {
      "needs_background": "light"
     },
     "output_type": "display_data"
    }
   ],
   "source": [
    "merged_cumulative_conversions = (\n",
    "    cumulative_data_a[['date','conversion']]\n",
    "    .merge(cumulative_data_b[['date','conversion']], left_on='date', right_on='date', how='left', suffixes=['A', 'B'])\n",
    ")\n",
    "\n",
    "plt.figure(figsize=(12,6))\n",
    "\n",
    "plt.plot(merged_cumulative_conversions['date'],\n",
    "         merged_cumulative_conversions['conversionB']/merged_cumulative_conversions['conversionA']-1,\n",
    "         label=\"Относительный прирост конверсии группы B относительно группы A\")\n",
    "\n",
    "plt.legend()\n",
    "\n",
    "plt.axhline(y=0, color='black', linestyle='--')\n",
    "plt.axhline(y=0.10, color='grey', linestyle='--')\n",
    "\n",
    "plt.title('График относительного изменения кумулятивной конверсии группы B к группе A')\n",
    "plt.xlabel('Дата')\n",
    "plt.show()"
   ]
  },
  {
   "cell_type": "markdown",
   "metadata": {},
   "source": [
    "Группа B лидирует относительного изменения кумулятивной конверсии - зафиксировалась свыше 10% относительно группы A."
   ]
  },
  {
   "cell_type": "markdown",
   "metadata": {
    "id": "M-_sTMRzB_bb"
   },
   "source": [
    "#### Точечный график количества заказов по пользователям"
   ]
  },
  {
   "cell_type": "code",
   "execution_count": 47,
   "metadata": {
    "scrolled": true
   },
   "outputs": [
    {
     "name": "stdout",
     "output_type": "stream",
     "text": [
      "          userId  orders\n",
      "1023  4256040402      11\n",
      "591   2458001652      11\n",
      "569   2378935119       9\n",
      "487   2038680547       8\n",
      "44     199603092       5\n",
      "744   3062433592       5\n",
      "55     237748145       5\n",
      "917   3803269165       5\n",
      "299   1230306981       5\n",
      "897   3717692402       5\n"
     ]
    }
   ],
   "source": [
    "orders_users = (\n",
    "    orders.groupby('visitorId', as_index=False)\n",
    "    .agg({'transactionId': 'nunique'})\n",
    ")\n",
    "\n",
    "orders_users.columns = ['userId', 'orders']\n",
    "\n",
    "print(orders_users.sort_values(by='orders', ascending=False).head(10)) "
   ]
  },
  {
   "cell_type": "code",
   "execution_count": 48,
   "metadata": {
    "scrolled": false
   },
   "outputs": [
    {
     "data": {
      "image/png": "[encoded data removed]",
      "text/plain": [
       "<Figure size 864x432 with 1 Axes>"
      ]
     },
     "metadata": {
      "needs_background": "light"
     },
     "output_type": "display_data"
    }
   ],
   "source": [
    "plt.figure(figsize=(12,6))\n",
    "plt.hist(orders_users['orders']) \n",
    "plt.title('Распределение количества заказов на одного пользователя')\n",
    "plt.ylabel('Кол-во пользователей')\n",
    "plt.xlabel('Кол-во заказов')\n",
    "plt.show()"
   ]
  },
  {
   "cell_type": "code",
   "execution_count": 49,
   "metadata": {},
   "outputs": [
    {
     "data": {
      "image/png": "[encoded data removed]",
      "text/plain": [
       "<Figure size 864x432 with 1 Axes>"
      ]
     },
     "metadata": {
      "needs_background": "light"
     },
     "output_type": "display_data"
    }
   ],
   "source": [
    "x_values = pd.Series(range(0,len(orders_users)))\n",
    "plt.figure(figsize=(12,6))\n",
    "plt.scatter(x_values, orders_users['orders']) \n",
    "plt.title('Точечная диаграмма числа заказов на одного пользователя')\n",
    "plt.ylabel('Кол-во заказов')\n",
    "plt.xlabel('Пользователи')\n",
    "plt.show()"
   ]
  },
  {
   "cell_type": "markdown",
   "metadata": {},
   "source": [
    "Большинство пользователей совершают по 1 заказу. Много пользователей с 2-3 заказами. Свыше 2 являются исключениями."
   ]
  },
  {
   "cell_type": "markdown",
   "metadata": {
    "id": "UM2YfRWPCF4Y"
   },
   "source": [
    "#### 95-й и 99-й перцентили количества заказов на пользователя"
   ]
  },
  {
   "cell_type": "code",
   "execution_count": 50,
   "metadata": {
    "scrolled": true
   },
   "outputs": [
    {
     "name": "stdout",
     "output_type": "stream",
     "text": [
      "Перцентили:\n",
      "95: 2.00\n",
      "99: 4.00\n"
     ]
    }
   ],
   "source": [
    "percentiles =  np.percentile(orders_users['orders'], [95, 99])\n",
    "print('Перцентили:\\n95: {:.2f}\\n99: {:.2f}'.format(percentiles[0],percentiles[1]))"
   ]
  },
  {
   "cell_type": "markdown",
   "metadata": {},
   "source": [
    "Не более 5% пользователей оформляли больше чем 2 заказа. 1% пользователей заказывали более 4 раз.\n",
    "Разумно выбрать 3,4 и 5 заказов на одного пользователя за верхнюю границу числа заказов, и отсеять аномальных пользователей по ней, оставив пользователей с 1 до 2 заказов."
   ]
  },
  {
   "cell_type": "markdown",
   "metadata": {
    "id": "LhBDD3irCPzQ"
   },
   "source": [
    "#### Точечный график стоимостей заказов"
   ]
  },
  {
   "cell_type": "code",
   "execution_count": 51,
   "metadata": {},
   "outputs": [],
   "source": [
    "orders_max = orders['revenue'].max()"
   ]
  },
  {
   "cell_type": "code",
   "execution_count": 52,
   "metadata": {
    "scrolled": false
   },
   "outputs": [
    {
     "data": {
      "image/png": "[encoded data removed]",
      "text/plain": [
       "<Figure size 864x432 with 1 Axes>"
      ]
     },
     "metadata": {
      "needs_background": "light"
     },
     "output_type": "display_data"
    }
   ],
   "source": [
    "plt.figure(figsize=(12,6))\n",
    "plt.hist(orders['revenue'], range=(0, orders_max), bins = 100) \n",
    "plt.title('Гистограмма распределения стоимостей заказов')\n",
    "plt.ylabel('Заказы')\n",
    "plt.xlabel('Стоимость')\n",
    "plt.show()"
   ]
  },
  {
   "cell_type": "code",
   "execution_count": 53,
   "metadata": {},
   "outputs": [
    {
     "data": {
      "image/png": "[encoded data removed]",
      "text/plain": [
       "<Figure size 864x432 with 1 Axes>"
      ]
     },
     "metadata": {
      "needs_background": "light"
     },
     "output_type": "display_data"
    }
   ],
   "source": [
    "plt.figure(figsize=(12,6))\n",
    "plt.hist(orders['revenue'], range=(0, 100000), bins = 100) \n",
    "plt.title('Гистограмма распределения стоимостей заказов')\n",
    "plt.ylabel('Заказы')\n",
    "plt.xlabel('Стоимость')\n",
    "plt.show()"
   ]
  },
  {
   "cell_type": "code",
   "execution_count": 54,
   "metadata": {
    "scrolled": false
   },
   "outputs": [
    {
     "data": {
      "image/png": "[encoded data removed]",
      "text/plain": [
       "<Figure size 864x432 with 1 Axes>"
      ]
     },
     "metadata": {
      "needs_background": "light"
     },
     "output_type": "display_data"
    }
   ],
   "source": [
    "plt.figure(figsize=(12,6))\n",
    "x_values = pd.Series(range(0,len(orders['revenue'])))\n",
    "plt.scatter(x_values, orders['revenue']) \n",
    "plt.title('Точечная диаграмма стоимостей заказов')\n",
    "plt.ylabel('Стоимость')\n",
    "plt.xlabel('Заказы')\n",
    "plt.show()"
   ]
  },
  {
   "cell_type": "code",
   "execution_count": 55,
   "metadata": {},
   "outputs": [
    {
     "data": {
      "image/png": "[encoded data removed]",
      "text/plain": [
       "<Figure size 864x432 with 1 Axes>"
      ]
     },
     "metadata": {
      "needs_background": "light"
     },
     "output_type": "display_data"
    }
   ],
   "source": [
    "plt.figure(figsize=(12,6))\n",
    "x_values = pd.Series(range(0,len(orders['revenue'])))\n",
    "plt.scatter(x_values, orders['revenue']) \n",
    "plt.axis([0, 1200, 0, 200000])\n",
    "plt.title('Точечная диаграмма стоимостей заказов')\n",
    "plt.ylabel('Стоимость')\n",
    "plt.xlabel('Заказы')\n",
    "plt.show()"
   ]
  },
  {
   "cell_type": "markdown",
   "metadata": {},
   "source": [
    "Присутствует несколько дорогих заказов. По графику можно выбрать границу аномальных заказов - от 25 000. "
   ]
  },
  {
   "cell_type": "markdown",
   "metadata": {
    "id": "-TNUTRSWCV7d"
   },
   "source": [
    "#### 95-й и 99-й перцентили стоимости заказов"
   ]
  },
  {
   "cell_type": "code",
   "execution_count": 56,
   "metadata": {
    "executionInfo": {
     "elapsed": 11,
     "status": "ok",
     "timestamp": 1658933029245,
     "user": {
      "displayName": "Andrey Sokolov",
      "userId": "11877895700433819034"
     },
     "user_tz": -180
    },
    "id": "8502_6CBCa42"
   },
   "outputs": [
    {
     "name": "stdout",
     "output_type": "stream",
     "text": [
      "Перцентили:\n",
      "95: 28000\n",
      "99: 58233\n"
     ]
    }
   ],
   "source": [
    "percentiles =  np.percentile(orders['revenue'], [95, 99])\n",
    "print('Перцентили:\\n95: {:.0f}\\n99: {:.0f}'.format(percentiles[0],percentiles[1]))"
   ]
  },
  {
   "cell_type": "markdown",
   "metadata": {},
   "source": [
    "Не более 5% заказов дороже 28 000 и не более 1% дороже 58 233."
   ]
  },
  {
   "cell_type": "markdown",
   "metadata": {
    "id": "UMxT5UrPCbMI"
   },
   "source": [
    "#### Статистическая значимость различий в конверсии между группами по «сырым» данным"
   ]
  },
  {
   "cell_type": "code",
   "execution_count": 57,
   "metadata": {},
   "outputs": [
    {
     "data": {
      "text/html": [
       "<div>\n",
       "<style scoped>\n",
       "    .dataframe tbody tr th:only-of-type {\n",
       "        vertical-align: middle;\n",
       "    }\n",
       "\n",
       "    .dataframe tbody tr th {\n",
       "        vertical-align: top;\n",
       "    }\n",
       "\n",
       "    .dataframe thead th {\n",
       "        text-align: right;\n",
       "    }\n",
       "</style>\n",
       "<table border=\"1\" class=\"dataframe\">\n",
       "  <thead>\n",
       "    <tr style=\"text-align: right;\">\n",
       "      <th></th>\n",
       "      <th>date</th>\n",
       "      <th>ordersPerDateA</th>\n",
       "      <th>revenuePerDateA</th>\n",
       "      <th>ordersPerDateB</th>\n",
       "      <th>revenuePerDateB</th>\n",
       "      <th>ordersCummulativeA</th>\n",
       "      <th>revenueCummulativeA</th>\n",
       "      <th>ordersCummulativeB</th>\n",
       "      <th>revenueCummulativeB</th>\n",
       "      <th>visitorsPerDateA</th>\n",
       "      <th>visitorsPerDateB</th>\n",
       "      <th>visitorsCummulativeA</th>\n",
       "      <th>visitorsCummulativeB</th>\n",
       "    </tr>\n",
       "  </thead>\n",
       "  <tbody>\n",
       "    <tr>\n",
       "      <th>0</th>\n",
       "      <td>2019-08-01</td>\n",
       "      <td>24</td>\n",
       "      <td>148579</td>\n",
       "      <td>21</td>\n",
       "      <td>101217</td>\n",
       "      <td>24</td>\n",
       "      <td>148579</td>\n",
       "      <td>21</td>\n",
       "      <td>101217</td>\n",
       "      <td>719</td>\n",
       "      <td>713</td>\n",
       "      <td>719</td>\n",
       "      <td>713</td>\n",
       "    </tr>\n",
       "    <tr>\n",
       "      <th>1</th>\n",
       "      <td>2019-08-02</td>\n",
       "      <td>20</td>\n",
       "      <td>93822</td>\n",
       "      <td>24</td>\n",
       "      <td>165531</td>\n",
       "      <td>44</td>\n",
       "      <td>242401</td>\n",
       "      <td>45</td>\n",
       "      <td>266748</td>\n",
       "      <td>619</td>\n",
       "      <td>581</td>\n",
       "      <td>1338</td>\n",
       "      <td>1294</td>\n",
       "    </tr>\n",
       "    <tr>\n",
       "      <th>2</th>\n",
       "      <td>2019-08-03</td>\n",
       "      <td>24</td>\n",
       "      <td>112473</td>\n",
       "      <td>16</td>\n",
       "      <td>114248</td>\n",
       "      <td>68</td>\n",
       "      <td>354874</td>\n",
       "      <td>61</td>\n",
       "      <td>380996</td>\n",
       "      <td>507</td>\n",
       "      <td>509</td>\n",
       "      <td>1845</td>\n",
       "      <td>1803</td>\n",
       "    </tr>\n",
       "    <tr>\n",
       "      <th>3</th>\n",
       "      <td>2019-08-04</td>\n",
       "      <td>16</td>\n",
       "      <td>70825</td>\n",
       "      <td>17</td>\n",
       "      <td>108571</td>\n",
       "      <td>84</td>\n",
       "      <td>425699</td>\n",
       "      <td>78</td>\n",
       "      <td>489567</td>\n",
       "      <td>717</td>\n",
       "      <td>770</td>\n",
       "      <td>2562</td>\n",
       "      <td>2573</td>\n",
       "    </tr>\n",
       "    <tr>\n",
       "      <th>4</th>\n",
       "      <td>2019-08-05</td>\n",
       "      <td>25</td>\n",
       "      <td>124218</td>\n",
       "      <td>23</td>\n",
       "      <td>92428</td>\n",
       "      <td>109</td>\n",
       "      <td>549917</td>\n",
       "      <td>101</td>\n",
       "      <td>581995</td>\n",
       "      <td>756</td>\n",
       "      <td>707</td>\n",
       "      <td>3318</td>\n",
       "      <td>3280</td>\n",
       "    </tr>\n",
       "  </tbody>\n",
       "</table>\n",
       "</div>"
      ],
      "text/plain": [
       "        date  ordersPerDateA  revenuePerDateA  ordersPerDateB  \\\n",
       "0 2019-08-01              24           148579              21   \n",
       "1 2019-08-02              20            93822              24   \n",
       "2 2019-08-03              24           112473              16   \n",
       "3 2019-08-04              16            70825              17   \n",
       "4 2019-08-05              25           124218              23   \n",
       "\n",
       "   revenuePerDateB  ordersCummulativeA  revenueCummulativeA  \\\n",
       "0           101217                  24               148579   \n",
       "1           165531                  44               242401   \n",
       "2           114248                  68               354874   \n",
       "3           108571                  84               425699   \n",
       "4            92428                 109               549917   \n",
       "\n",
       "   ordersCummulativeB  revenueCummulativeB  visitorsPerDateA  \\\n",
       "0                  21               101217               719   \n",
       "1                  45               266748               619   \n",
       "2                  61               380996               507   \n",
       "3                  78               489567               717   \n",
       "4                 101               581995               756   \n",
       "\n",
       "   visitorsPerDateB  visitorsCummulativeA  visitorsCummulativeB  \n",
       "0               713                   719                   713  \n",
       "1               581                  1338                  1294  \n",
       "2               509                  1845                  1803  \n",
       "3               770                  2562                  2573  \n",
       "4               707                  3318                  3280  "
      ]
     },
     "execution_count": 57,
     "metadata": {},
     "output_type": "execute_result"
    }
   ],
   "source": [
    "visitorsADaily = visitors[visitors['group'] == 'A'][['date', 'visitors']]\n",
    "visitorsADaily.columns = ['date', 'visitorsPerDateA']\n",
    "\n",
    "visitorsACummulative = visitorsADaily.apply(\n",
    "    lambda x: visitorsADaily[visitorsADaily['date'] <= x['date']].agg(\n",
    "        {'date': 'max', 'visitorsPerDateA': 'sum'}\n",
    "    ),\n",
    "    axis=1,\n",
    ")\n",
    "visitorsACummulative.columns = ['date', 'visitorsCummulativeA']\n",
    "\n",
    "visitorsBDaily = visitors[visitors['group'] == 'B'][['date', 'visitors']]\n",
    "visitorsBDaily.columns = ['date', 'visitorsPerDateB']\n",
    "\n",
    "visitorsBCummulative = visitorsBDaily.apply(\n",
    "    lambda x: visitorsBDaily[visitorsBDaily['date'] <= x['date']].agg(\n",
    "        {'date': 'max', 'visitorsPerDateB': 'sum'}\n",
    "    ),\n",
    "    axis=1,\n",
    ")\n",
    "visitorsBCummulative.columns = ['date', 'visitorsCummulativeB']\n",
    "\n",
    "ordersADaily = (\n",
    "    orders[orders['group'] == 'A'][['date', 'transactionId', 'visitorId', 'revenue']]\n",
    "    .groupby('date', as_index=False)\n",
    "    .agg({'transactionId': pd.Series.nunique, 'revenue': 'sum'})\n",
    ")\n",
    "ordersADaily.columns = ['date', 'ordersPerDateA', 'revenuePerDateA']\n",
    "\n",
    "ordersACummulative = ordersADaily.apply(\n",
    "    lambda x: ordersADaily[ordersADaily['date'] <= x['date']].agg(\n",
    "        {'date': 'max', 'ordersPerDateA': 'sum', 'revenuePerDateA': 'sum'}\n",
    "    ),\n",
    "    axis=1,\n",
    ").sort_values(by=['date'])\n",
    "ordersACummulative.columns = [\n",
    "    'date',\n",
    "    'ordersCummulativeA',\n",
    "    'revenueCummulativeA',\n",
    "]\n",
    "\n",
    "ordersBDaily = (\n",
    "    orders[orders['group'] == 'B'][['date', 'transactionId', 'visitorId', 'revenue']]\n",
    "    .groupby('date', as_index=False)\n",
    "    .agg({'transactionId': pd.Series.nunique, 'revenue': 'sum'})\n",
    ")\n",
    "ordersBDaily.columns = ['date', 'ordersPerDateB', 'revenuePerDateB']\n",
    "\n",
    "ordersBCummulative = ordersBDaily.apply(\n",
    "    lambda x: ordersBDaily[ordersBDaily['date'] <= x['date']].agg(\n",
    "        {'date': 'max', 'ordersPerDateB': 'sum', 'revenuePerDateB': 'sum'}\n",
    "    ),\n",
    "    axis=1,\n",
    ").sort_values(by=['date'])\n",
    "ordersBCummulative.columns = [\n",
    "    'date',\n",
    "    'ordersCummulativeB',\n",
    "    'revenueCummulativeB',\n",
    "]\n",
    "\n",
    "data = (\n",
    "    ordersADaily.merge(\n",
    "        ordersBDaily, left_on='date', right_on='date', how='left'\n",
    "    )\n",
    "    .merge(ordersACummulative, left_on='date', right_on='date', how='left')\n",
    "    .merge(ordersBCummulative, left_on='date', right_on='date', how='left')\n",
    "    .merge(visitorsADaily, left_on='date', right_on='date', how='left')\n",
    "    .merge(visitorsBDaily, left_on='date', right_on='date', how='left')\n",
    "    .merge(visitorsACummulative, left_on='date', right_on='date', how='left')\n",
    "    .merge(visitorsBCummulative, left_on='date', right_on='date', how='left')\n",
    ")\n",
    "data.head()"
   ]
  },
  {
   "cell_type": "code",
   "execution_count": 58,
   "metadata": {
    "scrolled": true
   },
   "outputs": [
    {
     "name": "stdout",
     "output_type": "stream",
     "text": [
      "P-value: 0.016792\n",
      "Относительный прирост конверсии группы B по отношению к группе A: 0.138079\n"
     ]
    }
   ],
   "source": [
    "ordersByUsersA = (\n",
    "    orders[orders['group'] == 'A']\n",
    "    .groupby('visitorId', as_index=False)\n",
    "    .agg({'transactionId': pd.Series.nunique})\n",
    ")\n",
    "ordersByUsersA.columns = ['userId', 'orders']\n",
    "\n",
    "ordersByUsersB = (\n",
    "    orders[orders['group'] == 'B']\n",
    "    .groupby('visitorId', as_index=False)\n",
    "    .agg({'transactionId': pd.Series.nunique})\n",
    ")\n",
    "ordersByUsersB.columns = ['userId', 'orders']\n",
    "\n",
    "sampleA = pd.concat(\n",
    "    [\n",
    "        ordersByUsersA['orders'],\n",
    "        pd.Series(\n",
    "            0,\n",
    "            index=np.arange(\n",
    "                data['visitorsPerDateA'].sum() - len(ordersByUsersA['orders'])\n",
    "            ),\n",
    "            name='orders',\n",
    "        ),\n",
    "    ],\n",
    "    axis=0,\n",
    ")\n",
    "\n",
    "sampleB = pd.concat(\n",
    "    [\n",
    "        ordersByUsersB['orders'],\n",
    "        pd.Series(\n",
    "            0,\n",
    "            index=np.arange(\n",
    "                data['visitorsPerDateB'].sum() - len(ordersByUsersB['orders'])\n",
    "            ),\n",
    "            name='orders',\n",
    "        ),\n",
    "    ],\n",
    "    axis=0,\n",
    ")\n",
    "\n",
    "print('P-value: {0:f}'.format(st.mannwhitneyu(sampleA, sampleB)[1]))\n",
    "\n",
    "print('Относительный прирост конверсии группы B по отношению к группе A: {0:f}'.format(sampleB.mean() / sampleA.mean() - 1))\n"
   ]
  },
  {
   "cell_type": "markdown",
   "metadata": {},
   "source": [
    "Нулевая гипотеза -  Конверсия групп А и B по «сырым» данным равна\n",
    "\n",
    "Альтернативная гипотеза - Конверсия групп А и B по «сырым» данным различается\n",
    "\n",
    "Уровень значимости для исследования выбирается до сбора данных и обычно устанавливается на уровне 5% - его и будем использовать."
   ]
  },
  {
   "cell_type": "code",
   "execution_count": 59,
   "metadata": {},
   "outputs": [
    {
     "name": "stdout",
     "output_type": "stream",
     "text": [
      "\n",
      "Относительный прирост конверсии группы B по отношению к группе A: 0.138079\n",
      "P-value: 0.016792355056752608\n",
      "По неочищенным данным в конверсии групп A и B РАЗНИЦА СТАТИСТИЧЕСКИ ЗНАЧИМА!\n"
     ]
    }
   ],
   "source": [
    "print('\\nОтносительный прирост конверсии группы B по отношению к группе A: {:f}'.format(sampleB.mean()/sampleA.mean()-1))\n",
    "alpha = 0.05\n",
    "results = st.mannwhitneyu(sampleA, sampleB)\n",
    "print('P-value: {}'.format(results.pvalue))\n",
    "if results.pvalue < alpha:\n",
    "    print('По неочищенным данным в конверсии групп A и B РАЗНИЦА СТАТИСТИЧЕСКИ ЗНАЧИМА!')\n",
    "else:\n",
    "    print('По неочищенным данным РАЗЛИЧИЙ в конверсии групп A и B НЕТ!')"
   ]
  },
  {
   "cell_type": "markdown",
   "metadata": {},
   "source": [
    "По «сырым» данным различия в конверсии групп A и B значимы. Относительный проигрыш группы B равен 13.8 %."
   ]
  },
  {
   "cell_type": "markdown",
   "metadata": {},
   "source": [
    "Принимаем альтернативную гипотезу - Конверсия групп А и B по «сырым» данным различается\n",
    "\n",
    "Нулевая гипотеза отвергнута"
   ]
  },
  {
   "cell_type": "markdown",
   "metadata": {
    "id": "nt6Tzj1jCoVh"
   },
   "source": [
    "#### Статистическая значимость различий в среднем чеке заказа между группами по «сырым» данным"
   ]
  },
  {
   "cell_type": "markdown",
   "metadata": {},
   "source": [
    "Нулевая гипотеза -  Средний чек групп А и B по «сырым» данным равен\n",
    "\n",
    "Альтернативная гипотеза - Средний чек групп А и B по «сырым» данным различается\n",
    "\n",
    "Уровень значимости для исследования выбирается до сбора данных и обычно устанавливается на уровне 5% - его и будем использовать."
   ]
  },
  {
   "cell_type": "code",
   "execution_count": 60,
   "metadata": {},
   "outputs": [
    {
     "name": "stdout",
     "output_type": "stream",
     "text": [
      "Относительное изменение среднего чека в группе B по отношению группы A: 0.258714\n",
      "P-value: 0.7292909855432458\n",
      "По неочищенным данным РАЗЛИЧИЙ в средних чеках в группах A и B НЕТ!\n"
     ]
    }
   ],
   "source": [
    "print('Относительное изменение среднего чека в группе B по отношению группы A: {0:f}'.format(orders[orders['group']=='B']['revenue'].mean()/orders[orders['group']=='A']['revenue'].mean()-1))\n",
    "alpha = 0.05\n",
    "results = st.mannwhitneyu(orders[orders['group']=='A']['revenue'], orders[orders['group']=='B']['revenue'])\n",
    "print('P-value: {}'.format(results.pvalue))\n",
    "if results.pvalue < alpha:\n",
    "    print('По неочищенным данным РАЗНИЦА в средних чеках в группах A и B СТАТИСТИЧЕСКИ ЗНАЧИМА!')\n",
    "else:\n",
    "    print('По неочищенным данным РАЗЛИЧИЙ в средних чеках в группах A и B НЕТ!')"
   ]
  },
  {
   "cell_type": "markdown",
   "metadata": {
    "executionInfo": {
     "elapsed": 11,
     "status": "ok",
     "timestamp": 1658933029246,
     "user": {
      "displayName": "Andrey Sokolov",
      "userId": "11877895700433819034"
     },
     "user_tz": -180
    },
    "id": "IA2mnNoRCvRW"
   },
   "source": [
    "По «сырым» данным различия в средних чеках в группах A и B НЕТ! Относительный проигрыш группы B равен 25.9 %."
   ]
  },
  {
   "cell_type": "markdown",
   "metadata": {},
   "source": [
    "Подтверждаем нулевую гипотезу - Средний чек групп А и B по «сырым» данным равен\n",
    "\n",
    "Альтернативная гипотеза отвергнута"
   ]
  },
  {
   "cell_type": "markdown",
   "metadata": {
    "id": "n3tHqE75Cvk4"
   },
   "source": [
    "#### Статистическая значимость различий в конверсии между группами по «очищенным» данным"
   ]
  },
  {
   "cell_type": "markdown",
   "metadata": {},
   "source": [
    "Cколько всего аномальных пользователей"
   ]
  },
  {
   "cell_type": "code",
   "execution_count": 61,
   "metadata": {
    "executionInfo": {
     "elapsed": 12,
     "status": "ok",
     "timestamp": 1658933029247,
     "user": {
      "displayName": "Andrey Sokolov",
      "userId": "11877895700433819034"
     },
     "user_tz": -180
    },
    "id": "m5cziSsAC6RJ",
    "scrolled": false
   },
   "outputs": [
    {
     "name": "stdout",
     "output_type": "stream",
     "text": [
      "1099    148427295\n",
      "18      199603092\n",
      "928     204675465\n",
      "23      237748145\n",
      "37      249864742\n",
      "dtype: int64\n",
      "74\n"
     ]
    }
   ],
   "source": [
    "usersWithManyOrders = pd.concat(\n",
    "    [\n",
    "        ordersByUsersA[ordersByUsersA['orders'] > 2]['userId'],\n",
    "        ordersByUsersB[ordersByUsersB['orders'] > 2]['userId'],\n",
    "    ],\n",
    "    axis=0,\n",
    ")\n",
    "usersWithExpensiveOrders = orders[orders['revenue'] > 28000]['visitorId']\n",
    "abnormalUsers = (\n",
    "    pd.concat([usersWithManyOrders, usersWithExpensiveOrders], axis=0)\n",
    "    .drop_duplicates()\n",
    "    .sort_values()\n",
    ")\n",
    "print(abnormalUsers.head(5))\n",
    "print(abnormalUsers.shape[0]) "
   ]
  },
  {
   "cell_type": "code",
   "execution_count": 62,
   "metadata": {},
   "outputs": [],
   "source": [
    "sampleAFiltered = pd.concat(\n",
    "    [\n",
    "        ordersByUsersA[\n",
    "            np.logical_not(ordersByUsersA['userId'].isin(abnormalUsers))\n",
    "        ]['orders'],\n",
    "        pd.Series(\n",
    "            0,\n",
    "            index=np.arange(\n",
    "                data['visitorsPerDateA'].sum() - len(ordersByUsersA['orders'])\n",
    "            ),\n",
    "            name='orders',\n",
    "        ),\n",
    "    ],\n",
    "    axis=0,\n",
    ")\n",
    "\n",
    "sampleBFiltered = pd.concat(\n",
    "    [\n",
    "        ordersByUsersB[\n",
    "            np.logical_not(ordersByUsersB['userId'].isin(abnormalUsers))\n",
    "        ]['orders'],\n",
    "        pd.Series(\n",
    "            0,\n",
    "            index=np.arange(\n",
    "                data['visitorsPerDateB'].sum() - len(ordersByUsersB['orders'])\n",
    "            ),\n",
    "            name='orders',\n",
    "        ),\n",
    "    ],\n",
    "    axis=0,\n",
    ")"
   ]
  },
  {
   "cell_type": "code",
   "execution_count": 63,
   "metadata": {
    "scrolled": false
   },
   "outputs": [
    {
     "name": "stdout",
     "output_type": "stream",
     "text": [
      "P-value: 0.013043\n",
      "Относительный прирост конверсии группы B по отношению к группе A после очистки данных: 0.172701\n"
     ]
    }
   ],
   "source": [
    "print('P-value: {0:f}'.format(st.mannwhitneyu(sampleAFiltered, sampleBFiltered)[1]))\n",
    "print('Относительный прирост конверсии группы B по отношению к группе A после очистки данных: {0:f}'.format(sampleBFiltered.mean()/sampleAFiltered.mean()-1))"
   ]
  },
  {
   "cell_type": "markdown",
   "metadata": {},
   "source": [
    "Нулевая гипотеза -  Конверсия групп А и B по «очищенным» данным равна\n",
    "\n",
    "Альтернативная гипотеза - Конверсия групп А и B по «очищенным» данным различается\n",
    "\n",
    "Уровень значимости для исследования выбирается до сбора данных и обычно устанавливается на уровне 5% - его и будем использовать."
   ]
  },
  {
   "cell_type": "code",
   "execution_count": 64,
   "metadata": {},
   "outputs": [
    {
     "name": "stdout",
     "output_type": "stream",
     "text": [
      "\n",
      "Относительный прирост конверсии группы B по отношению к группе A после очистки данных: 0.172701\n",
      "P-value: 0.013042592743036745\n",
      "По очищенным данным в конверсии групп A и B РАЗНИЦА СТАТИСТИЧЕСКИ ЗНАЧИМА!\n"
     ]
    }
   ],
   "source": [
    "print('\\nОтносительный прирост конверсии группы B по отношению к группе A после очистки данных: {:f}'.format(sampleBFiltered.mean()/sampleAFiltered.mean()-1))\n",
    "results = st.mannwhitneyu(sampleAFiltered, sampleBFiltered)\n",
    "print('P-value: {}'.format(results.pvalue))\n",
    "if results.pvalue < alpha:\n",
    "    print('По очищенным данным в конверсии групп A и B РАЗНИЦА СТАТИСТИЧЕСКИ ЗНАЧИМА!')\n",
    "else:\n",
    "    print('По очищенным данным РАЗЛИЧИЙ в конверсии групп A и B НЕТ!')"
   ]
  },
  {
   "cell_type": "markdown",
   "metadata": {},
   "source": [
    "По «очищенным» данным различия в конверсии групп A и B значимы. Относительный проигрыш группы B равен 17.3 %."
   ]
  },
  {
   "cell_type": "markdown",
   "metadata": {},
   "source": [
    "Принимаем альтернативную гипотезу - Конверсия групп А и B по «очищенным» данным различается\n",
    "\n",
    "Нулевая гипотеза отвергнута"
   ]
  },
  {
   "cell_type": "markdown",
   "metadata": {
    "id": "WpLCENuvC6ir"
   },
   "source": [
    "#### Статистическая значимость различий в среднем чеке заказа между группами по «очищенным» данным"
   ]
  },
  {
   "cell_type": "code",
   "execution_count": 65,
   "metadata": {
    "executionInfo": {
     "elapsed": 12,
     "status": "ok",
     "timestamp": 1658933029247,
     "user": {
      "displayName": "Andrey Sokolov",
      "userId": "11877895700433819034"
     },
     "user_tz": -180
    },
    "id": "bUH2L3Q9DBBZ",
    "scrolled": false
   },
   "outputs": [
    {
     "name": "stdout",
     "output_type": "stream",
     "text": [
      "P-value: 0.738482\n",
      "Относительное изменение среднего чека в группе B по отношению группы A после очистки данных: -0.019624\n"
     ]
    }
   ],
   "source": [
    "print('P-value: {0:f}'.format(\n",
    "        st.mannwhitneyu(\n",
    "            orders[\n",
    "                np.logical_and(\n",
    "                    orders['group'] == 'A',\n",
    "                    np.logical_not(orders['visitorId'].isin(abnormalUsers)),\n",
    "                )\n",
    "            ]['revenue'],\n",
    "            orders[\n",
    "                np.logical_and(\n",
    "                    orders['group'] == 'B',\n",
    "                    np.logical_not(orders['visitorId'].isin(abnormalUsers)),\n",
    "                )\n",
    "            ]['revenue'],\n",
    "        )[1]\n",
    "    )\n",
    ")\n",
    "\n",
    "print('Относительное изменение среднего чека в группе B по отношению группы A после очистки данных: {0:f}'.format(\n",
    "        orders[\n",
    "            np.logical_and(\n",
    "                orders['group'] == 'B',\n",
    "                np.logical_not(orders['visitorId'].isin(abnormalUsers)),\n",
    "            )\n",
    "        ]['revenue'].mean()\n",
    "        / orders[\n",
    "            np.logical_and(\n",
    "                orders['group'] == 'A',\n",
    "                np.logical_not(orders['visitorId'].isin(abnormalUsers)),\n",
    "            )\n",
    "        ]['revenue'].mean()\n",
    "        - 1\n",
    "    )\n",
    ")"
   ]
  },
  {
   "cell_type": "markdown",
   "metadata": {},
   "source": [
    "Нулевая гипотеза -  Средний чек групп А и B по «очищенным» данным равен\n",
    "\n",
    "Альтернативная гипотеза - Средний чек групп А и B по «очищенным» данным различается\n",
    "\n",
    "Уровень значимости для исследования выбирается до сбора данных и обычно устанавливается на уровне 5% - его и будем использовать."
   ]
  },
  {
   "cell_type": "code",
   "execution_count": 66,
   "metadata": {},
   "outputs": [
    {
     "name": "stdout",
     "output_type": "stream",
     "text": [
      "Относительное изменение среднего чека в группе B по отношению группы A после очистки данных: -0.019624\n",
      "P-value: 0.738481751314565\n",
      "По очищенным данным РАЗЛИЧИЙ в средних чеках в группах A и B НЕТ!\n"
     ]
    }
   ],
   "source": [
    "print('Относительное изменение среднего чека в группе B по отношению группы A после очистки данных: {:f}'.format(\n",
    "orders[np.logical_and(orders['group']=='B', np.logical_not(orders['visitorId'].isin(abnormalUsers)))]['revenue'].mean()\\\n",
    "/orders[np.logical_and(orders['group']=='A', np.logical_not(orders['visitorId'].isin(abnormalUsers)))]['revenue'].mean()-1))\n",
    "       \n",
    "       \n",
    "results = st.mannwhitneyu(orders[np.logical_and(orders['group']=='A', np.logical_not(orders['visitorId'].isin(abnormalUsers)))]['revenue'],\n",
    "                             orders[np.logical_and(orders['group']=='B', np.logical_not(orders['visitorId'].isin(abnormalUsers)))]['revenue'])\n",
    "print('P-value: {}'.format(results.pvalue))\n",
    "if results.pvalue < alpha:\n",
    "    print('По очищенным данным РАЗНИЦА в средних чеках в группах A и B СТАТИСТИЧЕСКИ ЗНАЧИМА!')\n",
    "else:\n",
    "    print('По очищенным данным РАЗЛИЧИЙ в средних чеках в группах A и B НЕТ!')"
   ]
  },
  {
   "cell_type": "markdown",
   "metadata": {
    "id": "zWwQJJ-wAbiF"
   },
   "source": [
    "По «очищенным» данным различия в средних чеках в группах A и B НЕТ! Относительный проигрыш группы B равен - 0.02 %."
   ]
  },
  {
   "cell_type": "markdown",
   "metadata": {},
   "source": [
    "Подтверждаем нулевую гипотезу - Средний чек групп А и B по «очищенным» данным равен\n",
    "\n",
    "Альтернативная гипотеза отвергнута"
   ]
  },
  {
   "cell_type": "markdown",
   "metadata": {
    "id": "pMLoc7er7TrI"
   },
   "source": [
    "## Общий вывод"
   ]
  },
  {
   "cell_type": "markdown",
   "metadata": {
    "executionInfo": {
     "elapsed": 12,
     "status": "ok",
     "timestamp": 1658933029248,
     "user": {
      "displayName": "Andrey Sokolov",
      "userId": "11877895700433819034"
     },
     "user_tz": -180
    },
    "id": "q9eOTijj7TWl"
   },
   "source": [
    "По порядку. Выборка данных имеет корректный размер, проблему подглядывания в результате сравнения групп во время проведения теста мы исключили! Кумулятивные метрики по выручке, среднему чеку и конверсии почти все время лидировали в группе B. У нас на некоторое время возникли сомнения из-за резких колебаний на графике кумулятивного среднего чека в группе B до очистки данных от аномальных пользователей. Наши сомнения подтвердились на этот счет, т.к. после очистки разница между средними чеками стала минимальна, но это не даёт нам повода сомневаться в проведении теста и его результатах. До и после очистки данных, показатель конверсии в группе B больше показателя в группе A - сначала на 14% до и на 17% после очистки данных. Данная разница показателей конверсии между группами и до и после очистки данных является СТАТИСТИЧЕСКИ ЗНАЧИМОЙ, что пользволяет нам сделать вывод о том, что мы можем остановить наш A/B тест и зафиксировать победу группы B!"
   ]
  }
 ],
 "metadata": {
  "ExecuteTimeLog": [
   {
    "duration": 779,
    "start_time": "2022-07-28T11:44:05.789Z"
   },
   {
    "duration": 85,
    "start_time": "2022-07-28T11:44:06.570Z"
   },
   {
    "duration": 0,
    "start_time": "2022-07-28T11:44:06.657Z"
   },
   {
    "duration": 0,
    "start_time": "2022-07-28T11:44:06.658Z"
   },
   {
    "duration": 0,
    "start_time": "2022-07-28T11:44:06.659Z"
   },
   {
    "duration": 0,
    "start_time": "2022-07-28T11:44:06.660Z"
   },
   {
    "duration": 15,
    "start_time": "2022-07-28T11:46:46.436Z"
   },
   {
    "duration": 20448,
    "start_time": "2022-07-28T11:48:11.438Z"
   },
   {
    "duration": 64,
    "start_time": "2022-07-28T13:31:44.231Z"
   },
   {
    "duration": 50,
    "start_time": "2022-07-28T13:34:48.899Z"
   },
   {
    "duration": 922,
    "start_time": "2022-07-28T13:35:00.587Z"
   },
   {
    "duration": 101,
    "start_time": "2022-07-28T13:35:01.511Z"
   },
   {
    "duration": 0,
    "start_time": "2022-07-28T13:35:01.613Z"
   },
   {
    "duration": 0,
    "start_time": "2022-07-28T13:35:01.615Z"
   },
   {
    "duration": 0,
    "start_time": "2022-07-28T13:35:01.615Z"
   },
   {
    "duration": 0,
    "start_time": "2022-07-28T13:35:01.616Z"
   },
   {
    "duration": 850,
    "start_time": "2022-07-28T13:35:18.879Z"
   },
   {
    "duration": 258,
    "start_time": "2022-07-28T13:35:19.731Z"
   },
   {
    "duration": 65,
    "start_time": "2022-07-28T13:35:19.991Z"
   },
   {
    "duration": 79,
    "start_time": "2022-07-28T13:35:20.058Z"
   },
   {
    "duration": 74,
    "start_time": "2022-07-28T13:35:20.140Z"
   },
   {
    "duration": 806,
    "start_time": "2022-07-28T13:38:41.940Z"
   },
   {
    "duration": 79,
    "start_time": "2022-07-28T13:38:42.748Z"
   },
   {
    "duration": 65,
    "start_time": "2022-07-28T13:38:42.829Z"
   },
   {
    "duration": 48,
    "start_time": "2022-07-28T13:38:42.897Z"
   },
   {
    "duration": 82,
    "start_time": "2022-07-28T13:38:42.948Z"
   },
   {
    "duration": 847,
    "start_time": "2022-07-28T13:38:58.216Z"
   },
   {
    "duration": 79,
    "start_time": "2022-07-28T13:38:59.065Z"
   },
   {
    "duration": 60,
    "start_time": "2022-07-28T13:38:59.147Z"
   },
   {
    "duration": 47,
    "start_time": "2022-07-28T13:38:59.209Z"
   },
   {
    "duration": 70,
    "start_time": "2022-07-28T13:38:59.259Z"
   },
   {
    "duration": 15,
    "start_time": "2022-07-28T13:44:20.304Z"
   },
   {
    "duration": 527,
    "start_time": "2022-07-28T13:45:08.425Z"
   },
   {
    "duration": 0,
    "start_time": "2022-07-28T13:45:08.954Z"
   },
   {
    "duration": 10,
    "start_time": "2022-07-28T13:45:09.198Z"
   },
   {
    "duration": 797,
    "start_time": "2022-07-28T13:45:15.739Z"
   },
   {
    "duration": 82,
    "start_time": "2022-07-28T13:45:16.538Z"
   },
   {
    "duration": 51,
    "start_time": "2022-07-28T13:45:16.622Z"
   },
   {
    "duration": 49,
    "start_time": "2022-07-28T13:45:16.675Z"
   },
   {
    "duration": 33,
    "start_time": "2022-07-28T13:45:16.726Z"
   },
   {
    "duration": 47,
    "start_time": "2022-07-28T13:45:16.761Z"
   },
   {
    "duration": 15,
    "start_time": "2022-07-28T13:45:16.810Z"
   },
   {
    "duration": 13,
    "start_time": "2022-07-28T13:45:16.827Z"
   },
   {
    "duration": 3,
    "start_time": "2022-07-28T13:47:30.175Z"
   },
   {
    "duration": 6,
    "start_time": "2022-07-28T13:48:02.644Z"
   },
   {
    "duration": 96,
    "start_time": "2022-07-28T13:49:50.669Z"
   },
   {
    "duration": 11,
    "start_time": "2022-07-28T13:50:28.230Z"
   },
   {
    "duration": 4,
    "start_time": "2022-07-28T13:52:24.269Z"
   },
   {
    "duration": 10,
    "start_time": "2022-07-28T13:53:11.915Z"
   },
   {
    "duration": 14,
    "start_time": "2022-07-28T13:56:10.096Z"
   },
   {
    "duration": 4,
    "start_time": "2022-07-28T13:58:38.223Z"
   },
   {
    "duration": 14,
    "start_time": "2022-07-28T13:58:52.089Z"
   },
   {
    "duration": 19,
    "start_time": "2022-07-28T14:00:09.056Z"
   },
   {
    "duration": 41,
    "start_time": "2022-07-28T14:00:48.382Z"
   },
   {
    "duration": 51,
    "start_time": "2022-07-28T14:00:58.404Z"
   },
   {
    "duration": 15,
    "start_time": "2022-07-28T14:03:15.593Z"
   },
   {
    "duration": 17,
    "start_time": "2022-07-28T14:06:39.716Z"
   },
   {
    "duration": 11,
    "start_time": "2022-07-28T14:08:35.472Z"
   },
   {
    "duration": 16,
    "start_time": "2022-07-28T14:19:48.324Z"
   },
   {
    "duration": 6,
    "start_time": "2022-07-28T14:20:05.299Z"
   },
   {
    "duration": 5,
    "start_time": "2022-07-28T14:21:22.680Z"
   },
   {
    "duration": 5,
    "start_time": "2022-07-28T14:21:31.290Z"
   },
   {
    "duration": 11,
    "start_time": "2022-07-28T14:23:27.733Z"
   },
   {
    "duration": 16,
    "start_time": "2022-07-28T14:23:36.128Z"
   },
   {
    "duration": 8,
    "start_time": "2022-07-28T14:23:43.451Z"
   },
   {
    "duration": 15,
    "start_time": "2022-07-28T14:24:02.229Z"
   },
   {
    "duration": 9,
    "start_time": "2022-07-28T14:24:12.661Z"
   },
   {
    "duration": 4,
    "start_time": "2022-07-28T14:30:35.548Z"
   },
   {
    "duration": 4,
    "start_time": "2022-07-28T14:30:42.278Z"
   },
   {
    "duration": 12,
    "start_time": "2022-07-28T14:31:45.725Z"
   },
   {
    "duration": 9,
    "start_time": "2022-07-28T14:32:16.270Z"
   },
   {
    "duration": 14,
    "start_time": "2022-07-28T14:34:52.676Z"
   },
   {
    "duration": 8,
    "start_time": "2022-07-28T14:35:03.163Z"
   },
   {
    "duration": 16,
    "start_time": "2022-07-28T14:35:42.692Z"
   },
   {
    "duration": 9,
    "start_time": "2022-07-28T14:38:38.995Z"
   },
   {
    "duration": 10,
    "start_time": "2022-07-28T14:38:45.216Z"
   },
   {
    "duration": 13,
    "start_time": "2022-07-28T14:39:14.261Z"
   },
   {
    "duration": 7,
    "start_time": "2022-07-28T14:39:21.001Z"
   },
   {
    "duration": 8,
    "start_time": "2022-07-28T14:39:32.356Z"
   },
   {
    "duration": 13,
    "start_time": "2022-07-28T14:39:37.856Z"
   },
   {
    "duration": 9,
    "start_time": "2022-07-28T14:39:44.898Z"
   },
   {
    "duration": 8,
    "start_time": "2022-07-28T14:41:38.079Z"
   },
   {
    "duration": 4,
    "start_time": "2022-07-28T14:42:48.689Z"
   },
   {
    "duration": 5,
    "start_time": "2022-07-28T14:43:03.057Z"
   },
   {
    "duration": 8,
    "start_time": "2022-07-28T14:43:43.643Z"
   },
   {
    "duration": 18,
    "start_time": "2022-07-28T14:44:18.620Z"
   },
   {
    "duration": 5,
    "start_time": "2022-07-28T14:52:56.979Z"
   },
   {
    "duration": 8,
    "start_time": "2022-07-28T14:54:21.770Z"
   },
   {
    "duration": 8,
    "start_time": "2022-07-28T14:55:34.508Z"
   },
   {
    "duration": 8,
    "start_time": "2022-07-28T14:56:06.068Z"
   },
   {
    "duration": 17,
    "start_time": "2022-07-28T15:02:34.939Z"
   },
   {
    "duration": 8,
    "start_time": "2022-07-28T15:03:02.801Z"
   },
   {
    "duration": 8,
    "start_time": "2022-07-28T15:03:19.530Z"
   },
   {
    "duration": 7,
    "start_time": "2022-07-28T15:07:04.586Z"
   },
   {
    "duration": 6,
    "start_time": "2022-07-28T15:07:58.660Z"
   },
   {
    "duration": 6,
    "start_time": "2022-07-28T15:08:58.692Z"
   },
   {
    "duration": 7,
    "start_time": "2022-07-28T15:09:23.576Z"
   },
   {
    "duration": 5,
    "start_time": "2022-07-28T15:09:30.475Z"
   },
   {
    "duration": 824,
    "start_time": "2022-07-28T15:14:25.821Z"
   },
   {
    "duration": 77,
    "start_time": "2022-07-28T15:14:26.647Z"
   },
   {
    "duration": 50,
    "start_time": "2022-07-28T15:14:26.725Z"
   },
   {
    "duration": 45,
    "start_time": "2022-07-28T15:14:26.777Z"
   },
   {
    "duration": 35,
    "start_time": "2022-07-28T15:14:26.824Z"
   },
   {
    "duration": 15,
    "start_time": "2022-07-28T15:14:26.898Z"
   },
   {
    "duration": 32,
    "start_time": "2022-07-28T15:14:26.914Z"
   },
   {
    "duration": 9,
    "start_time": "2022-07-28T15:14:26.949Z"
   },
   {
    "duration": 5,
    "start_time": "2022-07-28T15:14:26.960Z"
   },
   {
    "duration": 14,
    "start_time": "2022-07-28T15:14:26.967Z"
   },
   {
    "duration": 17,
    "start_time": "2022-07-28T15:14:26.982Z"
   },
   {
    "duration": 24,
    "start_time": "2022-07-28T15:14:27.000Z"
   },
   {
    "duration": 20,
    "start_time": "2022-07-28T15:14:27.025Z"
   },
   {
    "duration": 67,
    "start_time": "2022-07-28T15:14:27.047Z"
   },
   {
    "duration": 17,
    "start_time": "2022-07-28T15:14:27.116Z"
   },
   {
    "duration": 23,
    "start_time": "2022-07-28T15:14:27.135Z"
   },
   {
    "duration": 44,
    "start_time": "2022-07-28T15:14:27.160Z"
   },
   {
    "duration": 4,
    "start_time": "2022-07-28T15:14:27.206Z"
   },
   {
    "duration": 26,
    "start_time": "2022-07-28T15:14:27.212Z"
   },
   {
    "duration": 21,
    "start_time": "2022-07-28T15:14:27.240Z"
   },
   {
    "duration": 23,
    "start_time": "2022-07-28T15:14:27.263Z"
   },
   {
    "duration": 24,
    "start_time": "2022-07-28T15:14:27.287Z"
   },
   {
    "duration": 901,
    "start_time": "2022-07-28T15:18:41.939Z"
   },
   {
    "duration": 78,
    "start_time": "2022-07-28T15:18:42.842Z"
   },
   {
    "duration": 59,
    "start_time": "2022-07-28T15:18:42.922Z"
   },
   {
    "duration": 51,
    "start_time": "2022-07-28T15:18:42.983Z"
   },
   {
    "duration": 68,
    "start_time": "2022-07-28T15:18:43.036Z"
   },
   {
    "duration": 14,
    "start_time": "2022-07-28T15:18:43.106Z"
   },
   {
    "duration": 17,
    "start_time": "2022-07-28T15:18:43.122Z"
   },
   {
    "duration": 11,
    "start_time": "2022-07-28T15:18:43.141Z"
   },
   {
    "duration": 4,
    "start_time": "2022-07-28T15:18:43.154Z"
   },
   {
    "duration": 6,
    "start_time": "2022-07-28T15:18:43.160Z"
   },
   {
    "duration": 15,
    "start_time": "2022-07-28T15:18:43.197Z"
   },
   {
    "duration": 11,
    "start_time": "2022-07-28T15:18:43.214Z"
   },
   {
    "duration": 18,
    "start_time": "2022-07-28T15:18:43.227Z"
   },
   {
    "duration": 102,
    "start_time": "2022-07-28T15:18:43.249Z"
   },
   {
    "duration": 16,
    "start_time": "2022-07-28T15:18:43.353Z"
   },
   {
    "duration": 18,
    "start_time": "2022-07-28T15:18:43.398Z"
   },
   {
    "duration": 12,
    "start_time": "2022-07-28T15:18:43.417Z"
   },
   {
    "duration": 11,
    "start_time": "2022-07-28T15:18:43.430Z"
   },
   {
    "duration": 10,
    "start_time": "2022-07-28T15:18:43.443Z"
   },
   {
    "duration": 46,
    "start_time": "2022-07-28T15:18:43.455Z"
   },
   {
    "duration": 9,
    "start_time": "2022-07-28T15:18:43.503Z"
   },
   {
    "duration": 7,
    "start_time": "2022-07-28T15:18:43.514Z"
   },
   {
    "duration": 8,
    "start_time": "2022-07-28T15:24:06.953Z"
   },
   {
    "duration": 4,
    "start_time": "2022-07-28T15:24:42.716Z"
   },
   {
    "duration": 14,
    "start_time": "2022-07-28T15:24:46.729Z"
   },
   {
    "duration": 13,
    "start_time": "2022-07-28T15:27:57.738Z"
   },
   {
    "duration": 12,
    "start_time": "2022-07-28T15:40:29.606Z"
   },
   {
    "duration": 806,
    "start_time": "2022-07-28T15:52:26.932Z"
   },
   {
    "duration": 78,
    "start_time": "2022-07-28T15:52:27.739Z"
   },
   {
    "duration": 50,
    "start_time": "2022-07-28T15:52:27.819Z"
   },
   {
    "duration": 52,
    "start_time": "2022-07-28T15:52:27.872Z"
   },
   {
    "duration": 36,
    "start_time": "2022-07-28T15:52:27.926Z"
   },
   {
    "duration": 44,
    "start_time": "2022-07-28T15:52:27.963Z"
   },
   {
    "duration": 12,
    "start_time": "2022-07-28T15:52:28.009Z"
   },
   {
    "duration": 10,
    "start_time": "2022-07-28T15:52:28.023Z"
   },
   {
    "duration": 5,
    "start_time": "2022-07-28T15:52:28.035Z"
   },
   {
    "duration": 6,
    "start_time": "2022-07-28T15:52:28.042Z"
   },
   {
    "duration": 11,
    "start_time": "2022-07-28T15:52:28.050Z"
   },
   {
    "duration": 43,
    "start_time": "2022-07-28T15:52:28.062Z"
   },
   {
    "duration": 20,
    "start_time": "2022-07-28T15:52:28.106Z"
   },
   {
    "duration": 85,
    "start_time": "2022-07-28T15:52:28.128Z"
   },
   {
    "duration": 16,
    "start_time": "2022-07-28T15:52:28.215Z"
   },
   {
    "duration": 19,
    "start_time": "2022-07-28T15:52:28.233Z"
   },
   {
    "duration": 52,
    "start_time": "2022-07-28T15:52:28.253Z"
   },
   {
    "duration": 4,
    "start_time": "2022-07-28T15:52:28.307Z"
   },
   {
    "duration": 9,
    "start_time": "2022-07-28T15:52:28.313Z"
   },
   {
    "duration": 7,
    "start_time": "2022-07-28T15:52:28.324Z"
   },
   {
    "duration": 9,
    "start_time": "2022-07-28T15:52:28.332Z"
   },
   {
    "duration": 6,
    "start_time": "2022-07-28T15:52:28.343Z"
   },
   {
    "duration": 49,
    "start_time": "2022-07-28T15:52:28.351Z"
   },
   {
    "duration": 12,
    "start_time": "2022-07-28T15:52:28.402Z"
   },
   {
    "duration": 885,
    "start_time": "2022-07-29T07:10:43.790Z"
   },
   {
    "duration": 177,
    "start_time": "2022-07-29T07:10:44.677Z"
   },
   {
    "duration": 51,
    "start_time": "2022-07-29T07:10:44.855Z"
   },
   {
    "duration": 42,
    "start_time": "2022-07-29T07:10:44.907Z"
   },
   {
    "duration": 31,
    "start_time": "2022-07-29T07:10:44.952Z"
   },
   {
    "duration": 50,
    "start_time": "2022-07-29T07:10:44.984Z"
   },
   {
    "duration": 16,
    "start_time": "2022-07-29T07:10:45.035Z"
   },
   {
    "duration": 15,
    "start_time": "2022-07-29T07:10:45.052Z"
   },
   {
    "duration": 9,
    "start_time": "2022-07-29T07:10:45.068Z"
   },
   {
    "duration": 8,
    "start_time": "2022-07-29T07:10:45.078Z"
   },
   {
    "duration": 14,
    "start_time": "2022-07-29T07:10:45.088Z"
   },
   {
    "duration": 26,
    "start_time": "2022-07-29T07:10:45.103Z"
   },
   {
    "duration": 14,
    "start_time": "2022-07-29T07:10:45.131Z"
   },
   {
    "duration": 91,
    "start_time": "2022-07-29T07:10:45.147Z"
   },
   {
    "duration": 15,
    "start_time": "2022-07-29T07:10:45.240Z"
   },
   {
    "duration": 31,
    "start_time": "2022-07-29T07:10:45.257Z"
   },
   {
    "duration": 38,
    "start_time": "2022-07-29T07:10:45.290Z"
   },
   {
    "duration": 4,
    "start_time": "2022-07-29T07:10:45.330Z"
   },
   {
    "duration": 11,
    "start_time": "2022-07-29T07:10:45.336Z"
   },
   {
    "duration": 9,
    "start_time": "2022-07-29T07:10:45.349Z"
   },
   {
    "duration": 9,
    "start_time": "2022-07-29T07:10:45.359Z"
   },
   {
    "duration": 9,
    "start_time": "2022-07-29T07:10:45.370Z"
   },
   {
    "duration": 123,
    "start_time": "2022-07-29T07:10:45.381Z"
   },
   {
    "duration": 0,
    "start_time": "2022-07-29T07:10:45.506Z"
   },
   {
    "duration": 779,
    "start_time": "2022-07-29T07:11:21.186Z"
   },
   {
    "duration": 72,
    "start_time": "2022-07-29T07:11:21.967Z"
   },
   {
    "duration": 54,
    "start_time": "2022-07-29T07:11:22.041Z"
   },
   {
    "duration": 60,
    "start_time": "2022-07-29T07:11:22.097Z"
   },
   {
    "duration": 74,
    "start_time": "2022-07-29T07:11:22.159Z"
   },
   {
    "duration": 16,
    "start_time": "2022-07-29T07:11:22.234Z"
   },
   {
    "duration": 21,
    "start_time": "2022-07-29T07:11:22.252Z"
   },
   {
    "duration": 11,
    "start_time": "2022-07-29T07:11:22.275Z"
   },
   {
    "duration": 5,
    "start_time": "2022-07-29T07:11:22.288Z"
   },
   {
    "duration": 31,
    "start_time": "2022-07-29T07:11:22.296Z"
   },
   {
    "duration": 11,
    "start_time": "2022-07-29T07:11:22.329Z"
   },
   {
    "duration": 16,
    "start_time": "2022-07-29T07:11:22.342Z"
   },
   {
    "duration": 16,
    "start_time": "2022-07-29T07:11:22.360Z"
   },
   {
    "duration": 85,
    "start_time": "2022-07-29T07:11:22.377Z"
   },
   {
    "duration": 12,
    "start_time": "2022-07-29T07:11:22.464Z"
   },
   {
    "duration": 50,
    "start_time": "2022-07-29T07:11:22.478Z"
   },
   {
    "duration": 11,
    "start_time": "2022-07-29T07:11:22.530Z"
   },
   {
    "duration": 4,
    "start_time": "2022-07-29T07:11:22.543Z"
   },
   {
    "duration": 8,
    "start_time": "2022-07-29T07:11:22.549Z"
   },
   {
    "duration": 11,
    "start_time": "2022-07-29T07:11:22.559Z"
   },
   {
    "duration": 14,
    "start_time": "2022-07-29T07:11:22.572Z"
   },
   {
    "duration": 39,
    "start_time": "2022-07-29T07:11:22.588Z"
   },
   {
    "duration": 11,
    "start_time": "2022-07-29T07:11:22.629Z"
   },
   {
    "duration": 20,
    "start_time": "2022-07-29T07:11:22.642Z"
   },
   {
    "duration": 89,
    "start_time": "2022-07-29T07:36:00.737Z"
   },
   {
    "duration": 6,
    "start_time": "2022-07-29T07:36:05.058Z"
   },
   {
    "duration": 92,
    "start_time": "2022-07-29T07:37:04.707Z"
   },
   {
    "duration": 15,
    "start_time": "2022-07-29T07:37:09.789Z"
   },
   {
    "duration": 14,
    "start_time": "2022-07-29T07:37:13.081Z"
   },
   {
    "duration": 14,
    "start_time": "2022-07-29T07:37:42.840Z"
   },
   {
    "duration": 7,
    "start_time": "2022-07-29T07:40:43.657Z"
   },
   {
    "duration": 20,
    "start_time": "2022-07-29T07:41:37.764Z"
   },
   {
    "duration": 14,
    "start_time": "2022-07-29T07:41:44.482Z"
   },
   {
    "duration": 7,
    "start_time": "2022-07-29T07:44:49.041Z"
   },
   {
    "duration": 7,
    "start_time": "2022-07-29T07:44:55.768Z"
   },
   {
    "duration": 5,
    "start_time": "2022-07-29T07:46:31.775Z"
   },
   {
    "duration": 5,
    "start_time": "2022-07-29T07:46:42.735Z"
   },
   {
    "duration": 6,
    "start_time": "2022-07-29T07:48:26.109Z"
   },
   {
    "duration": 4,
    "start_time": "2022-07-29T07:49:29.484Z"
   },
   {
    "duration": 9,
    "start_time": "2022-07-29T07:50:11.465Z"
   },
   {
    "duration": 11,
    "start_time": "2022-07-29T07:50:26.052Z"
   },
   {
    "duration": 17,
    "start_time": "2022-07-29T07:50:53.721Z"
   },
   {
    "duration": 7,
    "start_time": "2022-07-29T07:51:29.105Z"
   },
   {
    "duration": 12,
    "start_time": "2022-07-29T07:52:41.541Z"
   },
   {
    "duration": 10,
    "start_time": "2022-07-29T07:53:25.333Z"
   },
   {
    "duration": 12,
    "start_time": "2022-07-29T07:53:42.895Z"
   },
   {
    "duration": 4,
    "start_time": "2022-07-29T07:55:19.646Z"
   },
   {
    "duration": 10,
    "start_time": "2022-07-29T07:55:24.436Z"
   },
   {
    "duration": 7,
    "start_time": "2022-07-29T07:55:32.213Z"
   },
   {
    "duration": 9,
    "start_time": "2022-07-29T07:55:39.630Z"
   },
   {
    "duration": 13,
    "start_time": "2022-07-29T07:57:24.016Z"
   },
   {
    "duration": 8,
    "start_time": "2022-07-29T07:57:40.582Z"
   },
   {
    "duration": 6,
    "start_time": "2022-07-29T07:57:56.714Z"
   },
   {
    "duration": 8,
    "start_time": "2022-07-29T07:58:04.518Z"
   },
   {
    "duration": 844,
    "start_time": "2022-07-29T07:58:40.895Z"
   },
   {
    "duration": 71,
    "start_time": "2022-07-29T07:58:41.741Z"
   },
   {
    "duration": 54,
    "start_time": "2022-07-29T07:58:41.813Z"
   },
   {
    "duration": 77,
    "start_time": "2022-07-29T07:58:41.869Z"
   },
   {
    "duration": 33,
    "start_time": "2022-07-29T07:58:41.947Z"
   },
   {
    "duration": 12,
    "start_time": "2022-07-29T07:58:41.982Z"
   },
   {
    "duration": 39,
    "start_time": "2022-07-29T07:58:41.996Z"
   },
   {
    "duration": 20,
    "start_time": "2022-07-29T07:58:42.036Z"
   },
   {
    "duration": 5,
    "start_time": "2022-07-29T07:58:42.058Z"
   },
   {
    "duration": 7,
    "start_time": "2022-07-29T07:58:42.066Z"
   },
   {
    "duration": 12,
    "start_time": "2022-07-29T07:58:42.074Z"
   },
   {
    "duration": 9,
    "start_time": "2022-07-29T07:58:42.088Z"
   },
   {
    "duration": 49,
    "start_time": "2022-07-29T07:58:42.099Z"
   },
   {
    "duration": 52,
    "start_time": "2022-07-29T07:58:42.150Z"
   },
   {
    "duration": 44,
    "start_time": "2022-07-29T07:58:42.204Z"
   },
   {
    "duration": 17,
    "start_time": "2022-07-29T07:58:42.250Z"
   },
   {
    "duration": 10,
    "start_time": "2022-07-29T07:58:42.269Z"
   },
   {
    "duration": 10,
    "start_time": "2022-07-29T07:58:42.281Z"
   },
   {
    "duration": 18,
    "start_time": "2022-07-29T07:58:42.323Z"
   },
   {
    "duration": 25,
    "start_time": "2022-07-29T07:58:42.343Z"
   },
   {
    "duration": 9,
    "start_time": "2022-07-29T07:58:42.369Z"
   },
   {
    "duration": 12,
    "start_time": "2022-07-29T07:58:42.379Z"
   },
   {
    "duration": 11,
    "start_time": "2022-07-29T07:58:42.392Z"
   },
   {
    "duration": 9,
    "start_time": "2022-07-29T07:58:42.405Z"
   },
   {
    "duration": 8,
    "start_time": "2022-07-29T07:58:42.416Z"
   },
   {
    "duration": 23,
    "start_time": "2022-07-29T07:58:42.426Z"
   },
   {
    "duration": 17,
    "start_time": "2022-07-29T07:58:42.451Z"
   },
   {
    "duration": 17,
    "start_time": "2022-07-29T07:58:42.470Z"
   },
   {
    "duration": 13,
    "start_time": "2022-07-29T07:58:42.488Z"
   },
   {
    "duration": 4,
    "start_time": "2022-07-29T08:05:18.546Z"
   },
   {
    "duration": 858,
    "start_time": "2022-07-29T08:05:23.038Z"
   },
   {
    "duration": 75,
    "start_time": "2022-07-29T08:05:23.898Z"
   },
   {
    "duration": 53,
    "start_time": "2022-07-29T08:05:23.975Z"
   },
   {
    "duration": 50,
    "start_time": "2022-07-29T08:05:24.035Z"
   },
   {
    "duration": 76,
    "start_time": "2022-07-29T08:05:24.087Z"
   },
   {
    "duration": 12,
    "start_time": "2022-07-29T08:05:24.165Z"
   },
   {
    "duration": 23,
    "start_time": "2022-07-29T08:05:24.180Z"
   },
   {
    "duration": 30,
    "start_time": "2022-07-29T08:05:24.205Z"
   },
   {
    "duration": 21,
    "start_time": "2022-07-29T08:05:24.238Z"
   },
   {
    "duration": 11,
    "start_time": "2022-07-29T08:05:24.261Z"
   },
   {
    "duration": 11,
    "start_time": "2022-07-29T08:05:24.274Z"
   },
   {
    "duration": 9,
    "start_time": "2022-07-29T08:05:24.286Z"
   },
   {
    "duration": 39,
    "start_time": "2022-07-29T08:05:24.298Z"
   },
   {
    "duration": 69,
    "start_time": "2022-07-29T08:05:24.346Z"
   },
   {
    "duration": 34,
    "start_time": "2022-07-29T08:05:24.416Z"
   },
   {
    "duration": 20,
    "start_time": "2022-07-29T08:05:24.455Z"
   },
   {
    "duration": 14,
    "start_time": "2022-07-29T08:05:24.477Z"
   },
   {
    "duration": 16,
    "start_time": "2022-07-29T08:05:24.493Z"
   },
   {
    "duration": 21,
    "start_time": "2022-07-29T08:05:24.511Z"
   },
   {
    "duration": 53,
    "start_time": "2022-07-29T08:05:24.533Z"
   },
   {
    "duration": 5,
    "start_time": "2022-07-29T08:05:24.589Z"
   },
   {
    "duration": 14,
    "start_time": "2022-07-29T08:05:24.596Z"
   },
   {
    "duration": 25,
    "start_time": "2022-07-29T08:05:24.612Z"
   },
   {
    "duration": 42,
    "start_time": "2022-07-29T08:05:24.643Z"
   },
   {
    "duration": 18,
    "start_time": "2022-07-29T08:05:24.686Z"
   },
   {
    "duration": 14,
    "start_time": "2022-07-29T08:05:24.706Z"
   },
   {
    "duration": 42,
    "start_time": "2022-07-29T08:05:24.722Z"
   },
   {
    "duration": 18,
    "start_time": "2022-07-29T08:05:24.766Z"
   },
   {
    "duration": 12,
    "start_time": "2022-07-29T08:05:24.785Z"
   },
   {
    "duration": 8,
    "start_time": "2022-07-29T08:08:55.473Z"
   },
   {
    "duration": 7,
    "start_time": "2022-07-29T08:09:11.572Z"
   },
   {
    "duration": 9,
    "start_time": "2022-07-29T08:09:42.887Z"
   },
   {
    "duration": 11,
    "start_time": "2022-07-29T08:09:57.418Z"
   },
   {
    "duration": 6,
    "start_time": "2022-07-29T08:10:57.848Z"
   },
   {
    "duration": 6,
    "start_time": "2022-07-29T08:11:05.279Z"
   },
   {
    "duration": 110,
    "start_time": "2022-07-29T08:11:53.694Z"
   },
   {
    "duration": 3,
    "start_time": "2022-07-29T08:13:04.880Z"
   },
   {
    "duration": 935,
    "start_time": "2022-07-29T08:13:09.434Z"
   },
   {
    "duration": 85,
    "start_time": "2022-07-29T08:13:10.372Z"
   },
   {
    "duration": 55,
    "start_time": "2022-07-29T08:13:10.459Z"
   },
   {
    "duration": 58,
    "start_time": "2022-07-29T08:13:10.516Z"
   },
   {
    "duration": 79,
    "start_time": "2022-07-29T08:13:10.576Z"
   },
   {
    "duration": 14,
    "start_time": "2022-07-29T08:13:10.657Z"
   },
   {
    "duration": 14,
    "start_time": "2022-07-29T08:13:10.674Z"
   },
   {
    "duration": 12,
    "start_time": "2022-07-29T08:13:10.689Z"
   },
   {
    "duration": 7,
    "start_time": "2022-07-29T08:13:10.703Z"
   },
   {
    "duration": 22,
    "start_time": "2022-07-29T08:13:10.711Z"
   },
   {
    "duration": 38,
    "start_time": "2022-07-29T08:13:10.735Z"
   },
   {
    "duration": 9,
    "start_time": "2022-07-29T08:13:10.774Z"
   },
   {
    "duration": 15,
    "start_time": "2022-07-29T08:13:10.785Z"
   },
   {
    "duration": 85,
    "start_time": "2022-07-29T08:13:10.803Z"
   },
   {
    "duration": 35,
    "start_time": "2022-07-29T08:13:10.890Z"
   },
   {
    "duration": 27,
    "start_time": "2022-07-29T08:13:10.930Z"
   },
   {
    "duration": 14,
    "start_time": "2022-07-29T08:13:10.960Z"
   },
   {
    "duration": 8,
    "start_time": "2022-07-29T08:13:10.976Z"
   },
   {
    "duration": 12,
    "start_time": "2022-07-29T08:13:10.986Z"
   },
   {
    "duration": 36,
    "start_time": "2022-07-29T08:13:10.999Z"
   },
   {
    "duration": 7,
    "start_time": "2022-07-29T08:13:11.037Z"
   },
   {
    "duration": 23,
    "start_time": "2022-07-29T08:13:11.046Z"
   },
   {
    "duration": 9,
    "start_time": "2022-07-29T08:13:11.071Z"
   },
   {
    "duration": 10,
    "start_time": "2022-07-29T08:13:11.082Z"
   },
   {
    "duration": 8,
    "start_time": "2022-07-29T08:13:11.093Z"
   },
   {
    "duration": 8,
    "start_time": "2022-07-29T08:13:11.103Z"
   },
   {
    "duration": 34,
    "start_time": "2022-07-29T08:13:11.113Z"
   },
   {
    "duration": 15,
    "start_time": "2022-07-29T08:13:11.152Z"
   },
   {
    "duration": 16,
    "start_time": "2022-07-29T08:13:11.168Z"
   },
   {
    "duration": 10,
    "start_time": "2022-07-29T08:13:11.185Z"
   },
   {
    "duration": 16,
    "start_time": "2022-07-29T08:13:11.198Z"
   },
   {
    "duration": 23,
    "start_time": "2022-07-29T08:13:11.216Z"
   },
   {
    "duration": 5,
    "start_time": "2022-07-29T08:14:39.316Z"
   },
   {
    "duration": 96,
    "start_time": "2022-07-29T08:14:51.691Z"
   },
   {
    "duration": 11,
    "start_time": "2022-07-29T08:15:21.141Z"
   },
   {
    "duration": 15,
    "start_time": "2022-07-29T08:15:35.618Z"
   },
   {
    "duration": 15,
    "start_time": "2022-07-29T08:15:44.926Z"
   },
   {
    "duration": 8,
    "start_time": "2022-07-29T08:18:52.680Z"
   },
   {
    "duration": 11,
    "start_time": "2022-07-29T08:18:57.587Z"
   },
   {
    "duration": 11,
    "start_time": "2022-07-29T08:19:12.825Z"
   },
   {
    "duration": 9,
    "start_time": "2022-07-29T08:19:20.256Z"
   },
   {
    "duration": 4,
    "start_time": "2022-07-29T08:19:34.906Z"
   },
   {
    "duration": 9,
    "start_time": "2022-07-29T08:21:35.663Z"
   },
   {
    "duration": 8,
    "start_time": "2022-07-29T08:28:06.656Z"
   },
   {
    "duration": 11,
    "start_time": "2022-07-29T08:28:10.451Z"
   },
   {
    "duration": 11,
    "start_time": "2022-07-29T08:28:24.745Z"
   },
   {
    "duration": 848,
    "start_time": "2022-07-29T08:28:30.631Z"
   },
   {
    "duration": 86,
    "start_time": "2022-07-29T08:28:31.481Z"
   },
   {
    "duration": 51,
    "start_time": "2022-07-29T08:28:31.569Z"
   },
   {
    "duration": 48,
    "start_time": "2022-07-29T08:28:31.623Z"
   },
   {
    "duration": 77,
    "start_time": "2022-07-29T08:28:31.673Z"
   },
   {
    "duration": 15,
    "start_time": "2022-07-29T08:28:31.752Z"
   },
   {
    "duration": 16,
    "start_time": "2022-07-29T08:28:31.769Z"
   },
   {
    "duration": 21,
    "start_time": "2022-07-29T08:28:31.787Z"
   },
   {
    "duration": 8,
    "start_time": "2022-07-29T08:28:31.810Z"
   },
   {
    "duration": 32,
    "start_time": "2022-07-29T08:28:31.821Z"
   },
   {
    "duration": 22,
    "start_time": "2022-07-29T08:28:31.855Z"
   },
   {
    "duration": 8,
    "start_time": "2022-07-29T08:28:31.879Z"
   },
   {
    "duration": 22,
    "start_time": "2022-07-29T08:28:31.888Z"
   },
   {
    "duration": 66,
    "start_time": "2022-07-29T08:28:31.912Z"
   },
   {
    "duration": 16,
    "start_time": "2022-07-29T08:28:31.980Z"
   },
   {
    "duration": 53,
    "start_time": "2022-07-29T08:28:31.998Z"
   },
   {
    "duration": 20,
    "start_time": "2022-07-29T08:28:32.056Z"
   },
   {
    "duration": 15,
    "start_time": "2022-07-29T08:28:32.078Z"
   },
   {
    "duration": 15,
    "start_time": "2022-07-29T08:28:32.095Z"
   },
   {
    "duration": 26,
    "start_time": "2022-07-29T08:28:32.112Z"
   },
   {
    "duration": 28,
    "start_time": "2022-07-29T08:28:32.146Z"
   },
   {
    "duration": 11,
    "start_time": "2022-07-29T08:28:32.175Z"
   },
   {
    "duration": 28,
    "start_time": "2022-07-29T08:28:32.188Z"
   },
   {
    "duration": 46,
    "start_time": "2022-07-29T08:28:32.218Z"
   },
   {
    "duration": 10,
    "start_time": "2022-07-29T08:28:32.266Z"
   },
   {
    "duration": 6,
    "start_time": "2022-07-29T08:28:32.278Z"
   },
   {
    "duration": 17,
    "start_time": "2022-07-29T08:28:32.286Z"
   },
   {
    "duration": 12,
    "start_time": "2022-07-29T08:28:32.307Z"
   },
   {
    "duration": 42,
    "start_time": "2022-07-29T08:28:32.321Z"
   },
   {
    "duration": 16,
    "start_time": "2022-07-29T08:28:32.366Z"
   },
   {
    "duration": 26,
    "start_time": "2022-07-29T08:28:32.383Z"
   },
   {
    "duration": 12,
    "start_time": "2022-07-29T08:28:32.411Z"
   },
   {
    "duration": 11,
    "start_time": "2022-07-29T08:28:49.169Z"
   },
   {
    "duration": 9,
    "start_time": "2022-07-29T08:29:09.479Z"
   },
   {
    "duration": 12,
    "start_time": "2022-07-29T08:32:54.350Z"
   },
   {
    "duration": 7,
    "start_time": "2022-07-29T08:33:36.996Z"
   },
   {
    "duration": 864,
    "start_time": "2022-07-29T08:33:51.120Z"
   },
   {
    "duration": 85,
    "start_time": "2022-07-29T08:33:51.986Z"
   },
   {
    "duration": 49,
    "start_time": "2022-07-29T08:33:52.072Z"
   },
   {
    "duration": 48,
    "start_time": "2022-07-29T08:33:52.124Z"
   },
   {
    "duration": 76,
    "start_time": "2022-07-29T08:33:52.173Z"
   },
   {
    "duration": 15,
    "start_time": "2022-07-29T08:33:52.252Z"
   },
   {
    "duration": 23,
    "start_time": "2022-07-29T08:33:52.269Z"
   },
   {
    "duration": 13,
    "start_time": "2022-07-29T08:33:52.294Z"
   },
   {
    "duration": 6,
    "start_time": "2022-07-29T08:33:52.309Z"
   },
   {
    "duration": 23,
    "start_time": "2022-07-29T08:33:52.318Z"
   },
   {
    "duration": 37,
    "start_time": "2022-07-29T08:33:52.343Z"
   },
   {
    "duration": 10,
    "start_time": "2022-07-29T08:33:52.382Z"
   },
   {
    "duration": 18,
    "start_time": "2022-07-29T08:33:52.394Z"
   },
   {
    "duration": 65,
    "start_time": "2022-07-29T08:33:52.414Z"
   },
   {
    "duration": 17,
    "start_time": "2022-07-29T08:33:52.481Z"
   },
   {
    "duration": 48,
    "start_time": "2022-07-29T08:33:52.500Z"
   },
   {
    "duration": 13,
    "start_time": "2022-07-29T08:33:52.551Z"
   },
   {
    "duration": 16,
    "start_time": "2022-07-29T08:33:52.566Z"
   },
   {
    "duration": 8,
    "start_time": "2022-07-29T08:33:52.584Z"
   },
   {
    "duration": 14,
    "start_time": "2022-07-29T08:33:52.594Z"
   },
   {
    "duration": 21,
    "start_time": "2022-07-29T08:33:52.610Z"
   },
   {
    "duration": 32,
    "start_time": "2022-07-29T08:33:52.632Z"
   },
   {
    "duration": 7,
    "start_time": "2022-07-29T08:33:52.666Z"
   },
   {
    "duration": 8,
    "start_time": "2022-07-29T08:33:52.675Z"
   },
   {
    "duration": 10,
    "start_time": "2022-07-29T08:33:52.685Z"
   },
   {
    "duration": 9,
    "start_time": "2022-07-29T08:33:52.696Z"
   },
   {
    "duration": 8,
    "start_time": "2022-07-29T08:33:52.706Z"
   },
   {
    "duration": 11,
    "start_time": "2022-07-29T08:33:52.717Z"
   },
   {
    "duration": 29,
    "start_time": "2022-07-29T08:33:52.731Z"
   },
   {
    "duration": 117,
    "start_time": "2022-07-29T08:33:52.762Z"
   },
   {
    "duration": 0,
    "start_time": "2022-07-29T08:33:52.881Z"
   },
   {
    "duration": 0,
    "start_time": "2022-07-29T08:33:52.883Z"
   },
   {
    "duration": 11,
    "start_time": "2022-07-29T08:34:52.949Z"
   },
   {
    "duration": 855,
    "start_time": "2022-07-29T08:35:01.921Z"
   },
   {
    "duration": 88,
    "start_time": "2022-07-29T08:35:02.778Z"
   },
   {
    "duration": 70,
    "start_time": "2022-07-29T08:35:02.868Z"
   },
   {
    "duration": 51,
    "start_time": "2022-07-29T08:35:02.940Z"
   },
   {
    "duration": 69,
    "start_time": "2022-07-29T08:35:02.994Z"
   },
   {
    "duration": 14,
    "start_time": "2022-07-29T08:35:03.065Z"
   },
   {
    "duration": 17,
    "start_time": "2022-07-29T08:35:03.080Z"
   },
   {
    "duration": 42,
    "start_time": "2022-07-29T08:35:03.099Z"
   },
   {
    "duration": 20,
    "start_time": "2022-07-29T08:35:03.146Z"
   },
   {
    "duration": 11,
    "start_time": "2022-07-29T08:35:03.168Z"
   },
   {
    "duration": 15,
    "start_time": "2022-07-29T08:35:03.181Z"
   },
   {
    "duration": 15,
    "start_time": "2022-07-29T08:35:03.197Z"
   },
   {
    "duration": 30,
    "start_time": "2022-07-29T08:35:03.214Z"
   },
   {
    "duration": 72,
    "start_time": "2022-07-29T08:35:03.249Z"
   },
   {
    "duration": 29,
    "start_time": "2022-07-29T08:35:03.322Z"
   },
   {
    "duration": 28,
    "start_time": "2022-07-29T08:35:03.355Z"
   },
   {
    "duration": 12,
    "start_time": "2022-07-29T08:35:03.385Z"
   },
   {
    "duration": 30,
    "start_time": "2022-07-29T08:35:03.399Z"
   },
   {
    "duration": 29,
    "start_time": "2022-07-29T08:35:03.430Z"
   },
   {
    "duration": 16,
    "start_time": "2022-07-29T08:35:03.461Z"
   },
   {
    "duration": 5,
    "start_time": "2022-07-29T08:35:03.478Z"
   },
   {
    "duration": 8,
    "start_time": "2022-07-29T08:35:03.485Z"
   },
   {
    "duration": 7,
    "start_time": "2022-07-29T08:35:03.495Z"
   },
   {
    "duration": 15,
    "start_time": "2022-07-29T08:35:03.503Z"
   },
   {
    "duration": 44,
    "start_time": "2022-07-29T08:35:03.520Z"
   },
   {
    "duration": 13,
    "start_time": "2022-07-29T08:35:03.566Z"
   },
   {
    "duration": 15,
    "start_time": "2022-07-29T08:35:03.580Z"
   },
   {
    "duration": 13,
    "start_time": "2022-07-29T08:35:03.597Z"
   },
   {
    "duration": 18,
    "start_time": "2022-07-29T08:35:03.612Z"
   },
   {
    "duration": 44,
    "start_time": "2022-07-29T08:35:03.632Z"
   },
   {
    "duration": 19,
    "start_time": "2022-07-29T08:35:03.678Z"
   },
   {
    "duration": 16,
    "start_time": "2022-07-29T08:35:03.700Z"
   },
   {
    "duration": 7,
    "start_time": "2022-07-29T08:36:10.853Z"
   },
   {
    "duration": 14,
    "start_time": "2022-07-29T08:36:45.243Z"
   },
   {
    "duration": 11,
    "start_time": "2022-07-29T08:37:54.746Z"
   },
   {
    "duration": 2,
    "start_time": "2022-07-29T08:38:08.353Z"
   },
   {
    "duration": 6,
    "start_time": "2022-07-29T08:38:12.194Z"
   },
   {
    "duration": 7,
    "start_time": "2022-07-29T08:47:07.422Z"
   },
   {
    "duration": 5,
    "start_time": "2022-07-29T08:47:45.554Z"
   },
   {
    "duration": 3,
    "start_time": "2022-07-29T08:47:54.202Z"
   },
   {
    "duration": 5,
    "start_time": "2022-07-29T08:48:06.845Z"
   },
   {
    "duration": 6,
    "start_time": "2022-07-29T08:48:30.356Z"
   },
   {
    "duration": 851,
    "start_time": "2022-07-29T08:48:56.988Z"
   },
   {
    "duration": 73,
    "start_time": "2022-07-29T08:48:57.841Z"
   },
   {
    "duration": 51,
    "start_time": "2022-07-29T08:48:57.916Z"
   },
   {
    "duration": 75,
    "start_time": "2022-07-29T08:48:57.969Z"
   },
   {
    "duration": 35,
    "start_time": "2022-07-29T08:48:58.046Z"
   },
   {
    "duration": 44,
    "start_time": "2022-07-29T08:48:58.083Z"
   },
   {
    "duration": 13,
    "start_time": "2022-07-29T08:48:58.129Z"
   },
   {
    "duration": 14,
    "start_time": "2022-07-29T08:48:58.144Z"
   },
   {
    "duration": 6,
    "start_time": "2022-07-29T08:48:58.160Z"
   },
   {
    "duration": 8,
    "start_time": "2022-07-29T08:48:58.168Z"
   },
   {
    "duration": 13,
    "start_time": "2022-07-29T08:48:58.178Z"
   },
   {
    "duration": 38,
    "start_time": "2022-07-29T08:48:58.193Z"
   },
   {
    "duration": 16,
    "start_time": "2022-07-29T08:48:58.233Z"
   },
   {
    "duration": 90,
    "start_time": "2022-07-29T08:48:58.250Z"
   },
   {
    "duration": 16,
    "start_time": "2022-07-29T08:48:58.342Z"
   },
   {
    "duration": 17,
    "start_time": "2022-07-29T08:48:58.360Z"
   },
   {
    "duration": 49,
    "start_time": "2022-07-29T08:48:58.379Z"
   },
   {
    "duration": 9,
    "start_time": "2022-07-29T08:48:58.429Z"
   },
   {
    "duration": 8,
    "start_time": "2022-07-29T08:48:58.439Z"
   },
   {
    "duration": 14,
    "start_time": "2022-07-29T08:48:58.448Z"
   },
   {
    "duration": 9,
    "start_time": "2022-07-29T08:48:58.464Z"
   },
   {
    "duration": 8,
    "start_time": "2022-07-29T08:48:58.474Z"
   },
   {
    "duration": 42,
    "start_time": "2022-07-29T08:48:58.484Z"
   },
   {
    "duration": 12,
    "start_time": "2022-07-29T08:48:58.527Z"
   },
   {
    "duration": 14,
    "start_time": "2022-07-29T08:48:58.541Z"
   },
   {
    "duration": 15,
    "start_time": "2022-07-29T08:48:58.556Z"
   },
   {
    "duration": 12,
    "start_time": "2022-07-29T08:48:58.572Z"
   },
   {
    "duration": 8,
    "start_time": "2022-07-29T08:48:58.587Z"
   },
   {
    "duration": 9,
    "start_time": "2022-07-29T08:48:58.596Z"
   },
   {
    "duration": 8,
    "start_time": "2022-07-29T08:48:58.624Z"
   },
   {
    "duration": 24,
    "start_time": "2022-07-29T08:48:58.634Z"
   },
   {
    "duration": 14,
    "start_time": "2022-07-29T08:48:58.660Z"
   },
   {
    "duration": 22,
    "start_time": "2022-07-29T08:48:58.675Z"
   },
   {
    "duration": 12,
    "start_time": "2022-07-29T08:48:58.698Z"
   },
   {
    "duration": 6,
    "start_time": "2022-07-29T08:49:59.374Z"
   },
   {
    "duration": 5,
    "start_time": "2022-07-29T08:50:15.733Z"
   },
   {
    "duration": 6,
    "start_time": "2022-07-29T08:50:39.544Z"
   },
   {
    "duration": 4,
    "start_time": "2022-07-29T08:51:17.342Z"
   },
   {
    "duration": 4,
    "start_time": "2022-07-29T08:51:17.852Z"
   },
   {
    "duration": 11,
    "start_time": "2022-07-29T08:52:22.748Z"
   },
   {
    "duration": 3,
    "start_time": "2022-07-29T08:52:46.765Z"
   },
   {
    "duration": 5,
    "start_time": "2022-07-29T08:52:47.230Z"
   },
   {
    "duration": 12,
    "start_time": "2022-07-29T08:53:04.597Z"
   },
   {
    "duration": 12,
    "start_time": "2022-07-29T08:55:36.819Z"
   },
   {
    "duration": 3,
    "start_time": "2022-07-29T08:56:13.046Z"
   },
   {
    "duration": 4,
    "start_time": "2022-07-29T08:56:14.869Z"
   },
   {
    "duration": 10,
    "start_time": "2022-07-29T08:57:39.719Z"
   },
   {
    "duration": 9,
    "start_time": "2022-07-29T08:58:06.378Z"
   },
   {
    "duration": 866,
    "start_time": "2022-07-29T08:58:53.385Z"
   },
   {
    "duration": 79,
    "start_time": "2022-07-29T08:58:54.253Z"
   },
   {
    "duration": 52,
    "start_time": "2022-07-29T08:58:54.334Z"
   },
   {
    "duration": 62,
    "start_time": "2022-07-29T08:58:54.387Z"
   },
   {
    "duration": 31,
    "start_time": "2022-07-29T08:58:54.452Z"
   },
   {
    "duration": 50,
    "start_time": "2022-07-29T08:58:54.485Z"
   },
   {
    "duration": 16,
    "start_time": "2022-07-29T08:58:54.536Z"
   },
   {
    "duration": 23,
    "start_time": "2022-07-29T08:58:54.554Z"
   },
   {
    "duration": 12,
    "start_time": "2022-07-29T08:58:54.579Z"
   },
   {
    "duration": 10,
    "start_time": "2022-07-29T08:58:54.593Z"
   },
   {
    "duration": 19,
    "start_time": "2022-07-29T08:58:54.605Z"
   },
   {
    "duration": 11,
    "start_time": "2022-07-29T08:58:54.626Z"
   },
   {
    "duration": 17,
    "start_time": "2022-07-29T08:58:54.639Z"
   },
   {
    "duration": 92,
    "start_time": "2022-07-29T08:58:54.660Z"
   },
   {
    "duration": 15,
    "start_time": "2022-07-29T08:58:54.754Z"
   },
   {
    "duration": 53,
    "start_time": "2022-07-29T08:58:54.771Z"
   },
   {
    "duration": 10,
    "start_time": "2022-07-29T08:58:54.827Z"
   },
   {
    "duration": 12,
    "start_time": "2022-07-29T08:58:54.839Z"
   },
   {
    "duration": 12,
    "start_time": "2022-07-29T08:58:54.853Z"
   },
   {
    "duration": 15,
    "start_time": "2022-07-29T08:58:54.866Z"
   },
   {
    "duration": 7,
    "start_time": "2022-07-29T08:58:54.883Z"
   },
   {
    "duration": 32,
    "start_time": "2022-07-29T08:58:54.892Z"
   },
   {
    "duration": 6,
    "start_time": "2022-07-29T08:58:54.926Z"
   },
   {
    "duration": 10,
    "start_time": "2022-07-29T08:58:54.933Z"
   },
   {
    "duration": 8,
    "start_time": "2022-07-29T08:58:54.945Z"
   },
   {
    "duration": 7,
    "start_time": "2022-07-29T08:58:54.955Z"
   },
   {
    "duration": 10,
    "start_time": "2022-07-29T08:58:54.964Z"
   },
   {
    "duration": 12,
    "start_time": "2022-07-29T08:58:54.976Z"
   },
   {
    "duration": 35,
    "start_time": "2022-07-29T08:58:54.989Z"
   },
   {
    "duration": 8,
    "start_time": "2022-07-29T08:58:55.026Z"
   },
   {
    "duration": 14,
    "start_time": "2022-07-29T08:58:55.035Z"
   },
   {
    "duration": 14,
    "start_time": "2022-07-29T08:58:55.051Z"
   },
   {
    "duration": 16,
    "start_time": "2022-07-29T08:58:55.067Z"
   },
   {
    "duration": 18,
    "start_time": "2022-07-29T08:58:55.084Z"
   },
   {
    "duration": 17,
    "start_time": "2022-07-29T08:58:55.104Z"
   },
   {
    "duration": 859,
    "start_time": "2022-07-29T09:01:27.421Z"
   },
   {
    "duration": 79,
    "start_time": "2022-07-29T09:01:28.283Z"
   },
   {
    "duration": 70,
    "start_time": "2022-07-29T09:01:28.364Z"
   },
   {
    "duration": 50,
    "start_time": "2022-07-29T09:01:28.436Z"
   },
   {
    "duration": 78,
    "start_time": "2022-07-29T09:01:28.488Z"
   },
   {
    "duration": 13,
    "start_time": "2022-07-29T09:01:28.568Z"
   },
   {
    "duration": 44,
    "start_time": "2022-07-29T09:01:28.582Z"
   },
   {
    "duration": 30,
    "start_time": "2022-07-29T09:01:28.629Z"
   },
   {
    "duration": 13,
    "start_time": "2022-07-29T09:01:28.661Z"
   },
   {
    "duration": 10,
    "start_time": "2022-07-29T09:01:28.677Z"
   },
   {
    "duration": 26,
    "start_time": "2022-07-29T09:01:28.690Z"
   },
   {
    "duration": 10,
    "start_time": "2022-07-29T09:01:28.718Z"
   },
   {
    "duration": 34,
    "start_time": "2022-07-29T09:01:28.731Z"
   },
   {
    "duration": 98,
    "start_time": "2022-07-29T09:01:28.767Z"
   },
   {
    "duration": 17,
    "start_time": "2022-07-29T09:01:28.868Z"
   },
   {
    "duration": 44,
    "start_time": "2022-07-29T09:01:28.887Z"
   },
   {
    "duration": 12,
    "start_time": "2022-07-29T09:01:28.933Z"
   },
   {
    "duration": 8,
    "start_time": "2022-07-29T09:01:28.948Z"
   },
   {
    "duration": 13,
    "start_time": "2022-07-29T09:01:28.958Z"
   },
   {
    "duration": 17,
    "start_time": "2022-07-29T09:01:28.972Z"
   },
   {
    "duration": 34,
    "start_time": "2022-07-29T09:01:28.990Z"
   },
   {
    "duration": 8,
    "start_time": "2022-07-29T09:01:29.028Z"
   },
   {
    "duration": 21,
    "start_time": "2022-07-29T09:01:29.038Z"
   },
   {
    "duration": 8,
    "start_time": "2022-07-29T09:01:29.061Z"
   },
   {
    "duration": 14,
    "start_time": "2022-07-29T09:01:29.071Z"
   },
   {
    "duration": 12,
    "start_time": "2022-07-29T09:01:29.086Z"
   },
   {
    "duration": 14,
    "start_time": "2022-07-29T09:01:29.100Z"
   },
   {
    "duration": 14,
    "start_time": "2022-07-29T09:01:29.117Z"
   },
   {
    "duration": 37,
    "start_time": "2022-07-29T09:01:29.133Z"
   },
   {
    "duration": 43,
    "start_time": "2022-07-29T09:01:29.172Z"
   },
   {
    "duration": 28,
    "start_time": "2022-07-29T09:01:29.217Z"
   },
   {
    "duration": 15,
    "start_time": "2022-07-29T09:01:29.247Z"
   },
   {
    "duration": 19,
    "start_time": "2022-07-29T09:01:29.264Z"
   },
   {
    "duration": 20,
    "start_time": "2022-07-29T09:01:29.285Z"
   },
   {
    "duration": 19,
    "start_time": "2022-07-29T09:01:29.308Z"
   },
   {
    "duration": 106,
    "start_time": "2022-07-29T09:03:30.060Z"
   },
   {
    "duration": 10,
    "start_time": "2022-07-29T09:05:29.282Z"
   },
   {
    "duration": 4,
    "start_time": "2022-07-29T09:12:30.232Z"
   },
   {
    "duration": 7,
    "start_time": "2022-07-29T09:12:37.427Z"
   },
   {
    "duration": 4,
    "start_time": "2022-07-29T09:12:57.145Z"
   },
   {
    "duration": 4,
    "start_time": "2022-07-29T09:13:06.177Z"
   },
   {
    "duration": 4,
    "start_time": "2022-07-29T09:13:45.748Z"
   },
   {
    "duration": 9,
    "start_time": "2022-07-29T09:13:55.689Z"
   },
   {
    "duration": 9,
    "start_time": "2022-07-29T09:13:58.830Z"
   },
   {
    "duration": 852,
    "start_time": "2022-07-29T09:14:05.301Z"
   },
   {
    "duration": 71,
    "start_time": "2022-07-29T09:14:06.156Z"
   },
   {
    "duration": 46,
    "start_time": "2022-07-29T09:14:06.229Z"
   },
   {
    "duration": 72,
    "start_time": "2022-07-29T09:14:06.276Z"
   },
   {
    "duration": 33,
    "start_time": "2022-07-29T09:14:06.350Z"
   },
   {
    "duration": 45,
    "start_time": "2022-07-29T09:14:06.385Z"
   },
   {
    "duration": 17,
    "start_time": "2022-07-29T09:14:06.432Z"
   },
   {
    "duration": 31,
    "start_time": "2022-07-29T09:14:06.451Z"
   },
   {
    "duration": 14,
    "start_time": "2022-07-29T09:14:06.484Z"
   },
   {
    "duration": 10,
    "start_time": "2022-07-29T09:14:06.500Z"
   },
   {
    "duration": 16,
    "start_time": "2022-07-29T09:14:06.511Z"
   },
   {
    "duration": 10,
    "start_time": "2022-07-29T09:14:06.529Z"
   },
   {
    "duration": 15,
    "start_time": "2022-07-29T09:14:06.541Z"
   },
   {
    "duration": 90,
    "start_time": "2022-07-29T09:14:06.559Z"
   },
   {
    "duration": 14,
    "start_time": "2022-07-29T09:14:06.650Z"
   },
   {
    "duration": 17,
    "start_time": "2022-07-29T09:14:06.666Z"
   },
   {
    "duration": 48,
    "start_time": "2022-07-29T09:14:06.684Z"
   },
   {
    "duration": 8,
    "start_time": "2022-07-29T09:14:06.734Z"
   },
   {
    "duration": 7,
    "start_time": "2022-07-29T09:14:06.743Z"
   },
   {
    "duration": 12,
    "start_time": "2022-07-29T09:14:06.752Z"
   },
   {
    "duration": 7,
    "start_time": "2022-07-29T09:14:06.766Z"
   },
   {
    "duration": 7,
    "start_time": "2022-07-29T09:14:06.775Z"
   },
   {
    "duration": 45,
    "start_time": "2022-07-29T09:14:06.784Z"
   },
   {
    "duration": 10,
    "start_time": "2022-07-29T09:14:06.830Z"
   },
   {
    "duration": 11,
    "start_time": "2022-07-29T09:14:06.842Z"
   },
   {
    "duration": 7,
    "start_time": "2022-07-29T09:14:06.854Z"
   },
   {
    "duration": 10,
    "start_time": "2022-07-29T09:14:06.863Z"
   },
   {
    "duration": 12,
    "start_time": "2022-07-29T09:14:06.874Z"
   },
   {
    "duration": 8,
    "start_time": "2022-07-29T09:14:06.888Z"
   },
   {
    "duration": 33,
    "start_time": "2022-07-29T09:14:06.897Z"
   },
   {
    "duration": 28,
    "start_time": "2022-07-29T09:14:06.931Z"
   },
   {
    "duration": 11,
    "start_time": "2022-07-29T09:14:06.961Z"
   },
   {
    "duration": 13,
    "start_time": "2022-07-29T09:14:06.973Z"
   },
   {
    "duration": 8,
    "start_time": "2022-07-29T09:14:06.987Z"
   },
   {
    "duration": 7,
    "start_time": "2022-07-29T09:14:06.997Z"
   },
   {
    "duration": 8,
    "start_time": "2022-07-29T09:14:07.006Z"
   },
   {
    "duration": 13,
    "start_time": "2022-07-29T09:14:07.015Z"
   },
   {
    "duration": 12,
    "start_time": "2022-07-29T09:14:07.030Z"
   },
   {
    "duration": 18,
    "start_time": "2022-07-29T09:21:59.154Z"
   },
   {
    "duration": 124,
    "start_time": "2022-07-29T09:34:36.185Z"
   },
   {
    "duration": 897,
    "start_time": "2022-07-29T09:35:13.303Z"
   },
   {
    "duration": 90,
    "start_time": "2022-07-29T09:35:14.202Z"
   },
   {
    "duration": 64,
    "start_time": "2022-07-29T09:35:14.294Z"
   },
   {
    "duration": 75,
    "start_time": "2022-07-29T09:35:14.360Z"
   },
   {
    "duration": 40,
    "start_time": "2022-07-29T09:35:14.438Z"
   },
   {
    "duration": 16,
    "start_time": "2022-07-29T09:35:14.480Z"
   },
   {
    "duration": 19,
    "start_time": "2022-07-29T09:35:14.524Z"
   },
   {
    "duration": 20,
    "start_time": "2022-07-29T09:35:14.548Z"
   },
   {
    "duration": 11,
    "start_time": "2022-07-29T09:35:14.570Z"
   },
   {
    "duration": 22,
    "start_time": "2022-07-29T09:35:14.583Z"
   },
   {
    "duration": 14,
    "start_time": "2022-07-29T09:35:14.607Z"
   },
   {
    "duration": 26,
    "start_time": "2022-07-29T09:35:14.625Z"
   },
   {
    "duration": 29,
    "start_time": "2022-07-29T09:35:14.657Z"
   },
   {
    "duration": 78,
    "start_time": "2022-07-29T09:35:14.690Z"
   },
   {
    "duration": 14,
    "start_time": "2022-07-29T09:35:14.769Z"
   },
   {
    "duration": 52,
    "start_time": "2022-07-29T09:35:14.784Z"
   },
   {
    "duration": 16,
    "start_time": "2022-07-29T09:35:14.838Z"
   },
   {
    "duration": 11,
    "start_time": "2022-07-29T09:35:14.856Z"
   },
   {
    "duration": 8,
    "start_time": "2022-07-29T09:35:14.869Z"
   },
   {
    "duration": 20,
    "start_time": "2022-07-29T09:35:14.880Z"
   },
   {
    "duration": 23,
    "start_time": "2022-07-29T09:35:14.902Z"
   },
   {
    "duration": 9,
    "start_time": "2022-07-29T09:35:14.927Z"
   },
   {
    "duration": 24,
    "start_time": "2022-07-29T09:35:14.937Z"
   },
   {
    "duration": 17,
    "start_time": "2022-07-29T09:35:14.963Z"
   },
   {
    "duration": 9,
    "start_time": "2022-07-29T09:35:14.982Z"
   },
   {
    "duration": 13,
    "start_time": "2022-07-29T09:35:14.993Z"
   },
   {
    "duration": 38,
    "start_time": "2022-07-29T09:35:15.008Z"
   },
   {
    "duration": 34,
    "start_time": "2022-07-29T09:35:15.048Z"
   },
   {
    "duration": 11,
    "start_time": "2022-07-29T09:35:15.084Z"
   },
   {
    "duration": 12,
    "start_time": "2022-07-29T09:35:15.097Z"
   },
   {
    "duration": 8,
    "start_time": "2022-07-29T09:35:15.111Z"
   },
   {
    "duration": 9,
    "start_time": "2022-07-29T09:35:15.121Z"
   },
   {
    "duration": 27,
    "start_time": "2022-07-29T09:35:15.132Z"
   },
   {
    "duration": 12,
    "start_time": "2022-07-29T09:35:15.160Z"
   },
   {
    "duration": 14,
    "start_time": "2022-07-29T09:35:15.174Z"
   },
   {
    "duration": 11,
    "start_time": "2022-07-29T09:35:15.190Z"
   },
   {
    "duration": 12,
    "start_time": "2022-07-29T09:35:15.204Z"
   },
   {
    "duration": 15,
    "start_time": "2022-07-29T09:35:15.218Z"
   },
   {
    "duration": 33,
    "start_time": "2022-07-29T09:35:15.234Z"
   },
   {
    "duration": 285,
    "start_time": "2022-07-29T09:35:15.269Z"
   },
   {
    "duration": 174,
    "start_time": "2022-07-29T09:36:06.597Z"
   },
   {
    "duration": 25,
    "start_time": "2022-07-29T09:39:37.012Z"
   },
   {
    "duration": 6,
    "start_time": "2022-07-29T09:40:13.285Z"
   },
   {
    "duration": 856,
    "start_time": "2022-07-29T09:40:18.989Z"
   },
   {
    "duration": 73,
    "start_time": "2022-07-29T09:40:19.847Z"
   },
   {
    "duration": 52,
    "start_time": "2022-07-29T09:40:19.922Z"
   },
   {
    "duration": 71,
    "start_time": "2022-07-29T09:40:19.976Z"
   },
   {
    "duration": 37,
    "start_time": "2022-07-29T09:40:20.049Z"
   },
   {
    "duration": 47,
    "start_time": "2022-07-29T09:40:20.087Z"
   },
   {
    "duration": 14,
    "start_time": "2022-07-29T09:40:20.136Z"
   },
   {
    "duration": 15,
    "start_time": "2022-07-29T09:40:20.152Z"
   },
   {
    "duration": 7,
    "start_time": "2022-07-29T09:40:20.169Z"
   },
   {
    "duration": 8,
    "start_time": "2022-07-29T09:40:20.179Z"
   },
   {
    "duration": 45,
    "start_time": "2022-07-29T09:40:20.188Z"
   },
   {
    "duration": 13,
    "start_time": "2022-07-29T09:40:20.234Z"
   },
   {
    "duration": 23,
    "start_time": "2022-07-29T09:40:20.249Z"
   },
   {
    "duration": 92,
    "start_time": "2022-07-29T09:40:20.273Z"
   },
   {
    "duration": 16,
    "start_time": "2022-07-29T09:40:20.367Z"
   },
   {
    "duration": 52,
    "start_time": "2022-07-29T09:40:20.385Z"
   },
   {
    "duration": 13,
    "start_time": "2022-07-29T09:40:20.439Z"
   },
   {
    "duration": 13,
    "start_time": "2022-07-29T09:40:20.454Z"
   },
   {
    "duration": 9,
    "start_time": "2022-07-29T09:40:20.469Z"
   },
   {
    "duration": 45,
    "start_time": "2022-07-29T09:40:20.480Z"
   },
   {
    "duration": 5,
    "start_time": "2022-07-29T09:40:20.527Z"
   },
   {
    "duration": 12,
    "start_time": "2022-07-29T09:40:20.534Z"
   },
   {
    "duration": 9,
    "start_time": "2022-07-29T09:40:20.548Z"
   },
   {
    "duration": 14,
    "start_time": "2022-07-29T09:40:20.559Z"
   },
   {
    "duration": 13,
    "start_time": "2022-07-29T09:40:20.575Z"
   },
   {
    "duration": 12,
    "start_time": "2022-07-29T09:40:20.589Z"
   },
   {
    "duration": 23,
    "start_time": "2022-07-29T09:40:20.603Z"
   },
   {
    "duration": 10,
    "start_time": "2022-07-29T09:40:20.630Z"
   },
   {
    "duration": 17,
    "start_time": "2022-07-29T09:40:20.642Z"
   },
   {
    "duration": 11,
    "start_time": "2022-07-29T09:40:20.660Z"
   },
   {
    "duration": 9,
    "start_time": "2022-07-29T09:40:20.672Z"
   },
   {
    "duration": 7,
    "start_time": "2022-07-29T09:40:20.682Z"
   },
   {
    "duration": 24,
    "start_time": "2022-07-29T09:40:20.690Z"
   },
   {
    "duration": 13,
    "start_time": "2022-07-29T09:40:20.717Z"
   },
   {
    "duration": 8,
    "start_time": "2022-07-29T09:40:20.732Z"
   },
   {
    "duration": 15,
    "start_time": "2022-07-29T09:40:20.742Z"
   },
   {
    "duration": 17,
    "start_time": "2022-07-29T09:40:20.759Z"
   },
   {
    "duration": 17,
    "start_time": "2022-07-29T09:40:20.778Z"
   },
   {
    "duration": 38,
    "start_time": "2022-07-29T09:40:20.796Z"
   },
   {
    "duration": 7,
    "start_time": "2022-07-29T09:40:20.835Z"
   },
   {
    "duration": 132,
    "start_time": "2022-07-29T09:40:20.844Z"
   },
   {
    "duration": 24,
    "start_time": "2022-07-29T09:40:37.077Z"
   },
   {
    "duration": 166,
    "start_time": "2022-07-29T09:41:25.377Z"
   },
   {
    "duration": 288,
    "start_time": "2022-07-29T09:41:38.830Z"
   },
   {
    "duration": 292,
    "start_time": "2022-07-29T09:42:12.741Z"
   },
   {
    "duration": 311,
    "start_time": "2022-07-29T09:42:18.060Z"
   },
   {
    "duration": 266,
    "start_time": "2022-07-29T09:42:31.770Z"
   },
   {
    "duration": 258,
    "start_time": "2022-07-29T09:42:35.128Z"
   },
   {
    "duration": 292,
    "start_time": "2022-07-29T09:42:50.928Z"
   },
   {
    "duration": 281,
    "start_time": "2022-07-29T09:42:57.884Z"
   },
   {
    "duration": 172,
    "start_time": "2022-07-29T09:43:07.041Z"
   },
   {
    "duration": 328,
    "start_time": "2022-07-29T09:43:14.382Z"
   },
   {
    "duration": 282,
    "start_time": "2022-07-29T09:43:21.920Z"
   },
   {
    "duration": 273,
    "start_time": "2022-07-29T09:43:27.524Z"
   },
   {
    "duration": 296,
    "start_time": "2022-07-29T09:44:31.997Z"
   },
   {
    "duration": 54,
    "start_time": "2022-07-29T09:44:51.573Z"
   },
   {
    "duration": 101,
    "start_time": "2022-07-29T09:45:01.810Z"
   },
   {
    "duration": 70,
    "start_time": "2022-07-29T09:45:05.872Z"
   },
   {
    "duration": 67,
    "start_time": "2022-07-29T09:45:08.437Z"
   },
   {
    "duration": 138,
    "start_time": "2022-07-29T09:45:18.343Z"
   },
   {
    "duration": 5,
    "start_time": "2022-07-29T09:45:44.741Z"
   },
   {
    "duration": 74,
    "start_time": "2022-07-29T09:45:49.793Z"
   },
   {
    "duration": 265,
    "start_time": "2022-07-29T09:46:26.003Z"
   },
   {
    "duration": 264,
    "start_time": "2022-07-29T09:47:37.885Z"
   },
   {
    "duration": 214,
    "start_time": "2022-07-29T09:50:02.411Z"
   },
   {
    "duration": 54,
    "start_time": "2022-07-29T09:50:06.237Z"
   },
   {
    "duration": 292,
    "start_time": "2022-07-29T09:50:13.238Z"
   },
   {
    "duration": 64,
    "start_time": "2022-07-29T09:50:34.145Z"
   },
   {
    "duration": 268,
    "start_time": "2022-07-29T09:50:55.988Z"
   },
   {
    "duration": 280,
    "start_time": "2022-07-29T09:51:02.132Z"
   },
   {
    "duration": 265,
    "start_time": "2022-07-29T09:51:06.230Z"
   },
   {
    "duration": 270,
    "start_time": "2022-07-29T09:51:31.999Z"
   },
   {
    "duration": 261,
    "start_time": "2022-07-29T09:51:47.809Z"
   },
   {
    "duration": 332,
    "start_time": "2022-07-29T09:51:57.110Z"
   },
   {
    "duration": 262,
    "start_time": "2022-07-29T09:52:35.030Z"
   },
   {
    "duration": 265,
    "start_time": "2022-07-29T09:52:48.487Z"
   },
   {
    "duration": 1372,
    "start_time": "2022-07-29T09:53:24.368Z"
   },
   {
    "duration": 134,
    "start_time": "2022-07-29T09:53:25.742Z"
   },
   {
    "duration": 51,
    "start_time": "2022-07-29T09:53:25.878Z"
   },
   {
    "duration": 40,
    "start_time": "2022-07-29T09:53:25.931Z"
   },
   {
    "duration": 65,
    "start_time": "2022-07-29T09:53:25.973Z"
   },
   {
    "duration": 13,
    "start_time": "2022-07-29T09:53:26.039Z"
   },
   {
    "duration": 13,
    "start_time": "2022-07-29T09:53:26.054Z"
   },
   {
    "duration": 13,
    "start_time": "2022-07-29T09:53:26.069Z"
   },
   {
    "duration": 7,
    "start_time": "2022-07-29T09:53:26.083Z"
   },
   {
    "duration": 9,
    "start_time": "2022-07-29T09:53:26.091Z"
   },
   {
    "duration": 32,
    "start_time": "2022-07-29T09:53:26.101Z"
   },
   {
    "duration": 10,
    "start_time": "2022-07-29T09:53:26.135Z"
   },
   {
    "duration": 15,
    "start_time": "2022-07-29T09:53:26.147Z"
   },
   {
    "duration": 103,
    "start_time": "2022-07-29T09:53:26.165Z"
   },
   {
    "duration": 15,
    "start_time": "2022-07-29T09:53:26.270Z"
   },
   {
    "duration": 52,
    "start_time": "2022-07-29T09:53:26.287Z"
   },
   {
    "duration": 11,
    "start_time": "2022-07-29T09:53:26.341Z"
   },
   {
    "duration": 16,
    "start_time": "2022-07-29T09:53:26.354Z"
   },
   {
    "duration": 9,
    "start_time": "2022-07-29T09:53:26.372Z"
   },
   {
    "duration": 13,
    "start_time": "2022-07-29T09:53:26.383Z"
   },
   {
    "duration": 5,
    "start_time": "2022-07-29T09:53:26.425Z"
   },
   {
    "duration": 10,
    "start_time": "2022-07-29T09:53:26.432Z"
   },
   {
    "duration": 12,
    "start_time": "2022-07-29T09:53:26.444Z"
   },
   {
    "duration": 18,
    "start_time": "2022-07-29T09:53:26.458Z"
   },
   {
    "duration": 13,
    "start_time": "2022-07-29T09:53:26.478Z"
   },
   {
    "duration": 9,
    "start_time": "2022-07-29T09:53:26.493Z"
   },
   {
    "duration": 26,
    "start_time": "2022-07-29T09:53:26.503Z"
   },
   {
    "duration": 18,
    "start_time": "2022-07-29T09:53:26.532Z"
   },
   {
    "duration": 10,
    "start_time": "2022-07-29T09:53:26.552Z"
   },
   {
    "duration": 11,
    "start_time": "2022-07-29T09:53:26.564Z"
   },
   {
    "duration": 11,
    "start_time": "2022-07-29T09:53:26.577Z"
   },
   {
    "duration": 12,
    "start_time": "2022-07-29T09:53:26.589Z"
   },
   {
    "duration": 23,
    "start_time": "2022-07-29T09:53:26.602Z"
   },
   {
    "duration": 9,
    "start_time": "2022-07-29T09:53:26.627Z"
   },
   {
    "duration": 8,
    "start_time": "2022-07-29T09:53:26.637Z"
   },
   {
    "duration": 13,
    "start_time": "2022-07-29T09:53:26.647Z"
   },
   {
    "duration": 15,
    "start_time": "2022-07-29T09:53:26.662Z"
   },
   {
    "duration": 12,
    "start_time": "2022-07-29T09:53:26.679Z"
   },
   {
    "duration": 34,
    "start_time": "2022-07-29T09:53:26.693Z"
   },
   {
    "duration": 312,
    "start_time": "2022-07-29T09:53:26.729Z"
   },
   {
    "duration": 272,
    "start_time": "2022-07-29T09:53:41.497Z"
   },
   {
    "duration": 1111,
    "start_time": "2022-07-29T09:55:00.043Z"
   },
   {
    "duration": 136,
    "start_time": "2022-07-29T09:55:01.157Z"
   },
   {
    "duration": 50,
    "start_time": "2022-07-29T09:55:01.295Z"
   },
   {
    "duration": 82,
    "start_time": "2022-07-29T09:55:01.347Z"
   },
   {
    "duration": 43,
    "start_time": "2022-07-29T09:55:01.432Z"
   },
   {
    "duration": 49,
    "start_time": "2022-07-29T09:55:01.477Z"
   },
   {
    "duration": 30,
    "start_time": "2022-07-29T09:55:01.528Z"
   },
   {
    "duration": 25,
    "start_time": "2022-07-29T09:55:01.560Z"
   },
   {
    "duration": 25,
    "start_time": "2022-07-29T09:55:01.587Z"
   },
   {
    "duration": 39,
    "start_time": "2022-07-29T09:55:01.613Z"
   },
   {
    "duration": 31,
    "start_time": "2022-07-29T09:55:01.654Z"
   },
   {
    "duration": 14,
    "start_time": "2022-07-29T09:55:01.687Z"
   },
   {
    "duration": 51,
    "start_time": "2022-07-29T09:55:01.703Z"
   },
   {
    "duration": 68,
    "start_time": "2022-07-29T09:55:01.757Z"
   },
   {
    "duration": 15,
    "start_time": "2022-07-29T09:55:01.826Z"
   },
   {
    "duration": 72,
    "start_time": "2022-07-29T09:55:01.842Z"
   },
   {
    "duration": 10,
    "start_time": "2022-07-29T09:55:01.915Z"
   },
   {
    "duration": 16,
    "start_time": "2022-07-29T09:55:01.927Z"
   },
   {
    "duration": 17,
    "start_time": "2022-07-29T09:55:01.944Z"
   },
   {
    "duration": 18,
    "start_time": "2022-07-29T09:55:01.963Z"
   },
   {
    "duration": 13,
    "start_time": "2022-07-29T09:55:01.982Z"
   },
   {
    "duration": 16,
    "start_time": "2022-07-29T09:55:01.997Z"
   },
   {
    "duration": 38,
    "start_time": "2022-07-29T09:55:02.015Z"
   },
   {
    "duration": 36,
    "start_time": "2022-07-29T09:55:02.055Z"
   },
   {
    "duration": 15,
    "start_time": "2022-07-29T09:55:02.092Z"
   },
   {
    "duration": 35,
    "start_time": "2022-07-29T09:55:02.109Z"
   },
   {
    "duration": 15,
    "start_time": "2022-07-29T09:55:02.146Z"
   },
   {
    "duration": 22,
    "start_time": "2022-07-29T09:55:02.163Z"
   },
   {
    "duration": 12,
    "start_time": "2022-07-29T09:55:02.187Z"
   },
   {
    "duration": 8,
    "start_time": "2022-07-29T09:55:02.201Z"
   },
   {
    "duration": 15,
    "start_time": "2022-07-29T09:55:02.210Z"
   },
   {
    "duration": 28,
    "start_time": "2022-07-29T09:55:02.226Z"
   },
   {
    "duration": 22,
    "start_time": "2022-07-29T09:55:02.256Z"
   },
   {
    "duration": 28,
    "start_time": "2022-07-29T09:55:02.280Z"
   },
   {
    "duration": 18,
    "start_time": "2022-07-29T09:55:02.311Z"
   },
   {
    "duration": 15,
    "start_time": "2022-07-29T09:55:02.331Z"
   },
   {
    "duration": 17,
    "start_time": "2022-07-29T09:55:02.348Z"
   },
   {
    "duration": 12,
    "start_time": "2022-07-29T09:55:02.367Z"
   },
   {
    "duration": 25,
    "start_time": "2022-07-29T09:55:02.380Z"
   },
   {
    "duration": 303,
    "start_time": "2022-07-29T09:55:02.407Z"
   },
   {
    "duration": 266,
    "start_time": "2022-07-29T09:55:02.723Z"
   },
   {
    "duration": 276,
    "start_time": "2022-07-29T09:56:02.913Z"
   },
   {
    "duration": 192,
    "start_time": "2022-07-29T09:56:26.918Z"
   },
   {
    "duration": 1057,
    "start_time": "2022-07-29T09:56:39.071Z"
   },
   {
    "duration": 126,
    "start_time": "2022-07-29T09:56:40.130Z"
   },
   {
    "duration": 47,
    "start_time": "2022-07-29T09:56:40.257Z"
   },
   {
    "duration": 50,
    "start_time": "2022-07-29T09:56:40.306Z"
   },
   {
    "duration": 66,
    "start_time": "2022-07-29T09:56:40.358Z"
   },
   {
    "duration": 15,
    "start_time": "2022-07-29T09:56:40.425Z"
   },
   {
    "duration": 13,
    "start_time": "2022-07-29T09:56:40.442Z"
   },
   {
    "duration": 12,
    "start_time": "2022-07-29T09:56:40.457Z"
   },
   {
    "duration": 6,
    "start_time": "2022-07-29T09:56:40.471Z"
   },
   {
    "duration": 15,
    "start_time": "2022-07-29T09:56:40.479Z"
   },
   {
    "duration": 30,
    "start_time": "2022-07-29T09:56:40.495Z"
   },
   {
    "duration": 9,
    "start_time": "2022-07-29T09:56:40.526Z"
   },
   {
    "duration": 15,
    "start_time": "2022-07-29T09:56:40.537Z"
   },
   {
    "duration": 93,
    "start_time": "2022-07-29T09:56:40.555Z"
   },
   {
    "duration": 16,
    "start_time": "2022-07-29T09:56:40.650Z"
   },
   {
    "duration": 15,
    "start_time": "2022-07-29T09:56:40.668Z"
   },
   {
    "duration": 46,
    "start_time": "2022-07-29T09:56:40.685Z"
   },
   {
    "duration": 8,
    "start_time": "2022-07-29T09:56:40.733Z"
   },
   {
    "duration": 15,
    "start_time": "2022-07-29T09:56:40.743Z"
   },
   {
    "duration": 19,
    "start_time": "2022-07-29T09:56:40.759Z"
   },
   {
    "duration": 8,
    "start_time": "2022-07-29T09:56:40.779Z"
   },
   {
    "duration": 8,
    "start_time": "2022-07-29T09:56:40.788Z"
   },
   {
    "duration": 27,
    "start_time": "2022-07-29T09:56:40.798Z"
   },
   {
    "duration": 11,
    "start_time": "2022-07-29T09:56:40.826Z"
   },
   {
    "duration": 9,
    "start_time": "2022-07-29T09:56:40.838Z"
   },
   {
    "duration": 7,
    "start_time": "2022-07-29T09:56:40.848Z"
   },
   {
    "duration": 11,
    "start_time": "2022-07-29T09:56:40.856Z"
   },
   {
    "duration": 8,
    "start_time": "2022-07-29T09:56:40.868Z"
   },
   {
    "duration": 11,
    "start_time": "2022-07-29T09:56:40.877Z"
   },
   {
    "duration": 37,
    "start_time": "2022-07-29T09:56:40.889Z"
   },
   {
    "duration": 13,
    "start_time": "2022-07-29T09:56:40.927Z"
   },
   {
    "duration": 8,
    "start_time": "2022-07-29T09:56:40.942Z"
   },
   {
    "duration": 14,
    "start_time": "2022-07-29T09:56:40.952Z"
   },
   {
    "duration": 7,
    "start_time": "2022-07-29T09:56:40.967Z"
   },
   {
    "duration": 7,
    "start_time": "2022-07-29T09:56:40.976Z"
   },
   {
    "duration": 9,
    "start_time": "2022-07-29T09:56:40.984Z"
   },
   {
    "duration": 15,
    "start_time": "2022-07-29T09:56:40.994Z"
   },
   {
    "duration": 23,
    "start_time": "2022-07-29T09:56:41.010Z"
   },
   {
    "duration": 21,
    "start_time": "2022-07-29T09:56:41.034Z"
   },
   {
    "duration": 375,
    "start_time": "2022-07-29T09:56:41.056Z"
   },
   {
    "duration": 0,
    "start_time": "2022-07-29T09:56:41.432Z"
   },
   {
    "duration": 299,
    "start_time": "2022-07-29T09:57:08.785Z"
   },
   {
    "duration": 271,
    "start_time": "2022-07-29T09:57:18.354Z"
   },
   {
    "duration": 997,
    "start_time": "2022-07-29T09:57:23.135Z"
   },
   {
    "duration": 123,
    "start_time": "2022-07-29T09:57:24.134Z"
   },
   {
    "duration": 49,
    "start_time": "2022-07-29T09:57:24.258Z"
   },
   {
    "duration": 47,
    "start_time": "2022-07-29T09:57:24.309Z"
   },
   {
    "duration": 70,
    "start_time": "2022-07-29T09:57:24.359Z"
   },
   {
    "duration": 14,
    "start_time": "2022-07-29T09:57:24.430Z"
   },
   {
    "duration": 13,
    "start_time": "2022-07-29T09:57:24.446Z"
   },
   {
    "duration": 12,
    "start_time": "2022-07-29T09:57:24.461Z"
   },
   {
    "duration": 6,
    "start_time": "2022-07-29T09:57:24.474Z"
   },
   {
    "duration": 10,
    "start_time": "2022-07-29T09:57:24.481Z"
   },
   {
    "duration": 44,
    "start_time": "2022-07-29T09:57:24.493Z"
   },
   {
    "duration": 12,
    "start_time": "2022-07-29T09:57:24.539Z"
   },
   {
    "duration": 37,
    "start_time": "2022-07-29T09:57:24.552Z"
   },
   {
    "duration": 87,
    "start_time": "2022-07-29T09:57:24.593Z"
   },
   {
    "duration": 43,
    "start_time": "2022-07-29T09:57:24.682Z"
   },
   {
    "duration": 31,
    "start_time": "2022-07-29T09:57:24.727Z"
   },
   {
    "duration": 12,
    "start_time": "2022-07-29T09:57:24.759Z"
   },
   {
    "duration": 8,
    "start_time": "2022-07-29T09:57:24.773Z"
   },
   {
    "duration": 7,
    "start_time": "2022-07-29T09:57:24.783Z"
   },
   {
    "duration": 40,
    "start_time": "2022-07-29T09:57:24.791Z"
   },
   {
    "duration": 4,
    "start_time": "2022-07-29T09:57:24.832Z"
   },
   {
    "duration": 9,
    "start_time": "2022-07-29T09:57:24.838Z"
   },
   {
    "duration": 8,
    "start_time": "2022-07-29T09:57:24.849Z"
   },
   {
    "duration": 14,
    "start_time": "2022-07-29T09:57:24.858Z"
   },
   {
    "duration": 10,
    "start_time": "2022-07-29T09:57:24.873Z"
   },
   {
    "duration": 9,
    "start_time": "2022-07-29T09:57:24.885Z"
   },
   {
    "duration": 29,
    "start_time": "2022-07-29T09:57:24.896Z"
   },
   {
    "duration": 13,
    "start_time": "2022-07-29T09:57:24.927Z"
   },
   {
    "duration": 10,
    "start_time": "2022-07-29T09:57:24.942Z"
   },
   {
    "duration": 9,
    "start_time": "2022-07-29T09:57:24.954Z"
   },
   {
    "duration": 12,
    "start_time": "2022-07-29T09:57:24.965Z"
   },
   {
    "duration": 13,
    "start_time": "2022-07-29T09:57:24.978Z"
   },
   {
    "duration": 9,
    "start_time": "2022-07-29T09:57:24.993Z"
   },
   {
    "duration": 21,
    "start_time": "2022-07-29T09:57:25.004Z"
   },
   {
    "duration": 8,
    "start_time": "2022-07-29T09:57:25.027Z"
   },
   {
    "duration": 9,
    "start_time": "2022-07-29T09:57:25.037Z"
   },
   {
    "duration": 22,
    "start_time": "2022-07-29T09:57:25.048Z"
   },
   {
    "duration": 15,
    "start_time": "2022-07-29T09:57:25.071Z"
   },
   {
    "duration": 39,
    "start_time": "2022-07-29T09:57:25.088Z"
   },
   {
    "duration": 302,
    "start_time": "2022-07-29T09:57:25.128Z"
   },
   {
    "duration": 102,
    "start_time": "2022-07-29T09:57:25.433Z"
   },
   {
    "duration": 265,
    "start_time": "2022-07-29T09:59:08.499Z"
   },
   {
    "duration": 175,
    "start_time": "2022-07-29T09:59:37.645Z"
   },
   {
    "duration": 274,
    "start_time": "2022-07-29T10:01:16.911Z"
   },
   {
    "duration": 183,
    "start_time": "2022-07-29T10:01:31.735Z"
   },
   {
    "duration": 280,
    "start_time": "2022-07-29T10:01:40.458Z"
   },
   {
    "duration": 213,
    "start_time": "2022-07-29T10:01:48.634Z"
   },
   {
    "duration": 212,
    "start_time": "2022-07-29T10:02:18.984Z"
   },
   {
    "duration": 212,
    "start_time": "2022-07-29T10:02:31.171Z"
   },
   {
    "duration": 218,
    "start_time": "2022-07-29T10:02:43.637Z"
   },
   {
    "duration": 344,
    "start_time": "2022-07-29T10:03:10.068Z"
   },
   {
    "duration": 228,
    "start_time": "2022-07-29T10:03:30.574Z"
   },
   {
    "duration": 195,
    "start_time": "2022-07-29T10:03:48.495Z"
   },
   {
    "duration": 162,
    "start_time": "2022-07-29T10:10:23.140Z"
   },
   {
    "duration": 189,
    "start_time": "2022-07-29T10:11:00.990Z"
   },
   {
    "duration": 209,
    "start_time": "2022-07-29T10:11:36.758Z"
   },
   {
    "duration": 216,
    "start_time": "2022-07-29T10:11:58.235Z"
   },
   {
    "duration": 207,
    "start_time": "2022-07-29T10:12:19.729Z"
   },
   {
    "duration": 12,
    "start_time": "2022-07-29T10:25:22.304Z"
   },
   {
    "duration": 256,
    "start_time": "2022-07-29T10:26:49.745Z"
   },
   {
    "duration": 1095,
    "start_time": "2022-07-29T10:27:02.076Z"
   },
   {
    "duration": 149,
    "start_time": "2022-07-29T10:27:03.173Z"
   },
   {
    "duration": 62,
    "start_time": "2022-07-29T10:27:03.324Z"
   },
   {
    "duration": 77,
    "start_time": "2022-07-29T10:27:03.389Z"
   },
   {
    "duration": 85,
    "start_time": "2022-07-29T10:27:03.468Z"
   },
   {
    "duration": 14,
    "start_time": "2022-07-29T10:27:03.555Z"
   },
   {
    "duration": 18,
    "start_time": "2022-07-29T10:27:03.571Z"
   },
   {
    "duration": 37,
    "start_time": "2022-07-29T10:27:03.591Z"
   },
   {
    "duration": 7,
    "start_time": "2022-07-29T10:27:03.630Z"
   },
   {
    "duration": 8,
    "start_time": "2022-07-29T10:27:03.640Z"
   },
   {
    "duration": 18,
    "start_time": "2022-07-29T10:27:03.650Z"
   },
   {
    "duration": 54,
    "start_time": "2022-07-29T10:27:03.670Z"
   },
   {
    "duration": 19,
    "start_time": "2022-07-29T10:27:03.726Z"
   },
   {
    "duration": 112,
    "start_time": "2022-07-29T10:27:03.747Z"
   },
   {
    "duration": 16,
    "start_time": "2022-07-29T10:27:03.861Z"
   },
   {
    "duration": 53,
    "start_time": "2022-07-29T10:27:03.879Z"
   },
   {
    "duration": 13,
    "start_time": "2022-07-29T10:27:03.934Z"
   },
   {
    "duration": 18,
    "start_time": "2022-07-29T10:27:03.949Z"
   },
   {
    "duration": 11,
    "start_time": "2022-07-29T10:27:03.969Z"
   },
   {
    "duration": 42,
    "start_time": "2022-07-29T10:27:03.982Z"
   },
   {
    "duration": 5,
    "start_time": "2022-07-29T10:27:04.027Z"
   },
   {
    "duration": 21,
    "start_time": "2022-07-29T10:27:04.034Z"
   },
   {
    "duration": 12,
    "start_time": "2022-07-29T10:27:04.058Z"
   },
   {
    "duration": 26,
    "start_time": "2022-07-29T10:27:04.072Z"
   },
   {
    "duration": 18,
    "start_time": "2022-07-29T10:27:04.100Z"
   },
   {
    "duration": 12,
    "start_time": "2022-07-29T10:27:04.120Z"
   },
   {
    "duration": 15,
    "start_time": "2022-07-29T10:27:04.134Z"
   },
   {
    "duration": 10,
    "start_time": "2022-07-29T10:27:04.155Z"
   },
   {
    "duration": 14,
    "start_time": "2022-07-29T10:27:04.167Z"
   },
   {
    "duration": 12,
    "start_time": "2022-07-29T10:27:04.183Z"
   },
   {
    "duration": 3,
    "start_time": "2022-07-29T10:27:04.225Z"
   },
   {
    "duration": 9,
    "start_time": "2022-07-29T10:27:04.231Z"
   },
   {
    "duration": 11,
    "start_time": "2022-07-29T10:27:04.242Z"
   },
   {
    "duration": 23,
    "start_time": "2022-07-29T10:27:04.255Z"
   },
   {
    "duration": 10,
    "start_time": "2022-07-29T10:27:04.281Z"
   },
   {
    "duration": 13,
    "start_time": "2022-07-29T10:27:04.293Z"
   },
   {
    "duration": 37,
    "start_time": "2022-07-29T10:27:04.308Z"
   },
   {
    "duration": 17,
    "start_time": "2022-07-29T10:27:04.346Z"
   },
   {
    "duration": 353,
    "start_time": "2022-07-29T10:27:04.366Z"
   },
   {
    "duration": 325,
    "start_time": "2022-07-29T10:27:04.724Z"
   },
   {
    "duration": 227,
    "start_time": "2022-07-29T10:27:05.051Z"
   },
   {
    "duration": 278,
    "start_time": "2022-07-29T10:27:05.280Z"
   },
   {
    "duration": 1063,
    "start_time": "2022-07-29T10:39:26.238Z"
   },
   {
    "duration": 150,
    "start_time": "2022-07-29T10:39:27.304Z"
   },
   {
    "duration": 65,
    "start_time": "2022-07-29T10:39:27.457Z"
   },
   {
    "duration": 54,
    "start_time": "2022-07-29T10:39:27.525Z"
   },
   {
    "duration": 63,
    "start_time": "2022-07-29T10:39:27.581Z"
   },
   {
    "duration": 20,
    "start_time": "2022-07-29T10:39:27.646Z"
   },
   {
    "duration": 15,
    "start_time": "2022-07-29T10:39:27.668Z"
   },
   {
    "duration": 41,
    "start_time": "2022-07-29T10:39:27.684Z"
   },
   {
    "duration": 8,
    "start_time": "2022-07-29T10:39:27.727Z"
   },
   {
    "duration": 6,
    "start_time": "2022-07-29T10:39:27.738Z"
   },
   {
    "duration": 16,
    "start_time": "2022-07-29T10:39:27.746Z"
   },
   {
    "duration": 10,
    "start_time": "2022-07-29T10:39:27.764Z"
   },
   {
    "duration": 53,
    "start_time": "2022-07-29T10:39:27.776Z"
   },
   {
    "duration": 94,
    "start_time": "2022-07-29T10:39:27.830Z"
   },
   {
    "duration": 18,
    "start_time": "2022-07-29T10:39:27.926Z"
   },
   {
    "duration": 18,
    "start_time": "2022-07-29T10:39:27.946Z"
   },
   {
    "duration": 10,
    "start_time": "2022-07-29T10:39:27.965Z"
   },
   {
    "duration": 48,
    "start_time": "2022-07-29T10:39:27.977Z"
   },
   {
    "duration": 11,
    "start_time": "2022-07-29T10:39:28.027Z"
   },
   {
    "duration": 18,
    "start_time": "2022-07-29T10:39:28.040Z"
   },
   {
    "duration": 4,
    "start_time": "2022-07-29T10:39:28.060Z"
   },
   {
    "duration": 10,
    "start_time": "2022-07-29T10:39:28.065Z"
   },
   {
    "duration": 8,
    "start_time": "2022-07-29T10:39:28.077Z"
   },
   {
    "duration": 42,
    "start_time": "2022-07-29T10:39:28.086Z"
   },
   {
    "duration": 12,
    "start_time": "2022-07-29T10:39:28.130Z"
   },
   {
    "duration": 9,
    "start_time": "2022-07-29T10:39:28.144Z"
   },
   {
    "duration": 14,
    "start_time": "2022-07-29T10:39:28.155Z"
   },
   {
    "duration": 11,
    "start_time": "2022-07-29T10:39:28.172Z"
   },
   {
    "duration": 11,
    "start_time": "2022-07-29T10:39:28.185Z"
   },
   {
    "duration": 27,
    "start_time": "2022-07-29T10:39:28.198Z"
   },
   {
    "duration": 2,
    "start_time": "2022-07-29T10:39:28.227Z"
   },
   {
    "duration": 11,
    "start_time": "2022-07-29T10:39:28.230Z"
   },
   {
    "duration": 19,
    "start_time": "2022-07-29T10:39:28.242Z"
   },
   {
    "duration": 7,
    "start_time": "2022-07-29T10:39:28.263Z"
   },
   {
    "duration": 8,
    "start_time": "2022-07-29T10:39:28.272Z"
   },
   {
    "duration": 8,
    "start_time": "2022-07-29T10:39:28.282Z"
   },
   {
    "duration": 32,
    "start_time": "2022-07-29T10:39:28.292Z"
   },
   {
    "duration": 14,
    "start_time": "2022-07-29T10:39:28.326Z"
   },
   {
    "duration": 285,
    "start_time": "2022-07-29T10:39:28.343Z"
   },
   {
    "duration": 299,
    "start_time": "2022-07-29T10:39:28.631Z"
   },
   {
    "duration": 221,
    "start_time": "2022-07-29T10:39:28.931Z"
   },
   {
    "duration": 261,
    "start_time": "2022-07-29T10:39:29.154Z"
   },
   {
    "duration": 331,
    "start_time": "2022-07-29T10:40:24.100Z"
   },
   {
    "duration": 393,
    "start_time": "2022-07-29T10:40:37.199Z"
   },
   {
    "duration": 339,
    "start_time": "2022-07-29T10:40:44.193Z"
   },
   {
    "duration": 308,
    "start_time": "2022-07-29T10:41:18.433Z"
   },
   {
    "duration": 323,
    "start_time": "2022-07-29T10:41:22.710Z"
   },
   {
    "duration": 100,
    "start_time": "2022-07-29T10:47:50.398Z"
   },
   {
    "duration": 214,
    "start_time": "2022-07-29T10:49:06.903Z"
   },
   {
    "duration": 271,
    "start_time": "2022-07-29T10:49:29.661Z"
   },
   {
    "duration": 216,
    "start_time": "2022-07-29T10:50:49.595Z"
   },
   {
    "duration": 218,
    "start_time": "2022-07-29T10:51:09.457Z"
   },
   {
    "duration": 75,
    "start_time": "2022-07-29T10:58:57.262Z"
   },
   {
    "duration": 16,
    "start_time": "2022-07-29T10:59:00.773Z"
   },
   {
    "duration": 345,
    "start_time": "2022-07-29T11:00:35.106Z"
   },
   {
    "duration": 336,
    "start_time": "2022-07-29T11:00:43.282Z"
   },
   {
    "duration": 350,
    "start_time": "2022-07-29T11:01:06.415Z"
   },
   {
    "duration": 326,
    "start_time": "2022-07-29T11:01:25.241Z"
   },
   {
    "duration": 321,
    "start_time": "2022-07-29T11:01:32.741Z"
   },
   {
    "duration": 352,
    "start_time": "2022-07-29T11:03:06.821Z"
   },
   {
    "duration": 367,
    "start_time": "2022-07-29T11:04:06.417Z"
   },
   {
    "duration": 316,
    "start_time": "2022-07-29T11:06:39.565Z"
   },
   {
    "duration": 11,
    "start_time": "2022-07-29T11:12:28.267Z"
   },
   {
    "duration": 33,
    "start_time": "2022-07-29T11:12:48.012Z"
   },
   {
    "duration": 224,
    "start_time": "2022-07-29T11:13:06.510Z"
   },
   {
    "duration": 138,
    "start_time": "2022-07-29T11:13:54.345Z"
   },
   {
    "duration": 128,
    "start_time": "2022-07-29T11:14:21.746Z"
   },
   {
    "duration": 152,
    "start_time": "2022-07-29T11:14:55.813Z"
   },
   {
    "duration": 11,
    "start_time": "2022-07-29T11:18:05.454Z"
   },
   {
    "duration": 19,
    "start_time": "2022-07-29T11:18:14.037Z"
   },
   {
    "duration": 18,
    "start_time": "2022-07-29T11:18:19.086Z"
   },
   {
    "duration": 127,
    "start_time": "2022-07-29T11:19:26.041Z"
   },
   {
    "duration": 123,
    "start_time": "2022-07-29T11:19:58.408Z"
   },
   {
    "duration": 243,
    "start_time": "2022-07-29T11:20:01.244Z"
   },
   {
    "duration": 13,
    "start_time": "2022-07-29T11:20:13.207Z"
   },
   {
    "duration": 230,
    "start_time": "2022-07-29T11:20:32.987Z"
   },
   {
    "duration": 136,
    "start_time": "2022-07-29T11:20:38.944Z"
   },
   {
    "duration": 247,
    "start_time": "2022-07-29T11:20:42.888Z"
   },
   {
    "duration": 175,
    "start_time": "2022-07-29T11:20:46.801Z"
   },
   {
    "duration": 127,
    "start_time": "2022-07-29T11:21:23.856Z"
   },
   {
    "duration": 130,
    "start_time": "2022-07-29T11:22:18.655Z"
   },
   {
    "duration": 22,
    "start_time": "2022-07-29T11:23:42.971Z"
   },
   {
    "duration": 10,
    "start_time": "2022-07-29T11:26:13.302Z"
   },
   {
    "duration": 15,
    "start_time": "2022-07-29T11:26:28.857Z"
   },
   {
    "duration": 12,
    "start_time": "2022-07-29T11:26:45.416Z"
   },
   {
    "duration": 126,
    "start_time": "2022-07-29T11:26:55.229Z"
   },
   {
    "duration": 1349,
    "start_time": "2022-07-29T11:28:23.015Z"
   },
   {
    "duration": 152,
    "start_time": "2022-07-29T11:28:24.366Z"
   },
   {
    "duration": 67,
    "start_time": "2022-07-29T11:28:24.521Z"
   },
   {
    "duration": 94,
    "start_time": "2022-07-29T11:28:24.591Z"
   },
   {
    "duration": 53,
    "start_time": "2022-07-29T11:28:24.687Z"
   },
   {
    "duration": 21,
    "start_time": "2022-07-29T11:28:24.742Z"
   },
   {
    "duration": 18,
    "start_time": "2022-07-29T11:28:24.764Z"
   },
   {
    "duration": 12,
    "start_time": "2022-07-29T11:28:24.784Z"
   },
   {
    "duration": 35,
    "start_time": "2022-07-29T11:28:24.798Z"
   },
   {
    "duration": 18,
    "start_time": "2022-07-29T11:28:24.835Z"
   },
   {
    "duration": 17,
    "start_time": "2022-07-29T11:28:24.855Z"
   },
   {
    "duration": 15,
    "start_time": "2022-07-29T11:28:24.874Z"
   },
   {
    "duration": 34,
    "start_time": "2022-07-29T11:28:24.891Z"
   },
   {
    "duration": 60,
    "start_time": "2022-07-29T11:28:24.929Z"
   },
   {
    "duration": 54,
    "start_time": "2022-07-29T11:28:24.990Z"
   },
   {
    "duration": 22,
    "start_time": "2022-07-29T11:28:25.046Z"
   },
   {
    "duration": 14,
    "start_time": "2022-07-29T11:28:25.071Z"
   },
   {
    "duration": 43,
    "start_time": "2022-07-29T11:28:25.086Z"
   },
   {
    "duration": 6,
    "start_time": "2022-07-29T11:28:25.131Z"
   },
   {
    "duration": 20,
    "start_time": "2022-07-29T11:28:25.138Z"
   },
   {
    "duration": 11,
    "start_time": "2022-07-29T11:28:25.160Z"
   },
   {
    "duration": 11,
    "start_time": "2022-07-29T11:28:25.173Z"
   },
   {
    "duration": 10,
    "start_time": "2022-07-29T11:28:25.186Z"
   },
   {
    "duration": 27,
    "start_time": "2022-07-29T11:28:25.198Z"
   },
   {
    "duration": 14,
    "start_time": "2022-07-29T11:28:25.229Z"
   },
   {
    "duration": 16,
    "start_time": "2022-07-29T11:28:25.245Z"
   },
   {
    "duration": 12,
    "start_time": "2022-07-29T11:28:25.263Z"
   },
   {
    "duration": 16,
    "start_time": "2022-07-29T11:28:25.277Z"
   },
   {
    "duration": 8,
    "start_time": "2022-07-29T11:28:25.294Z"
   },
   {
    "duration": 11,
    "start_time": "2022-07-29T11:28:25.304Z"
   },
   {
    "duration": 3,
    "start_time": "2022-07-29T11:28:25.324Z"
   },
   {
    "duration": 25,
    "start_time": "2022-07-29T11:28:25.329Z"
   },
   {
    "duration": 16,
    "start_time": "2022-07-29T11:28:25.356Z"
   },
   {
    "duration": 10,
    "start_time": "2022-07-29T11:28:25.374Z"
   },
   {
    "duration": 7,
    "start_time": "2022-07-29T11:28:25.386Z"
   },
   {
    "duration": 8,
    "start_time": "2022-07-29T11:28:25.395Z"
   },
   {
    "duration": 17,
    "start_time": "2022-07-29T11:28:25.405Z"
   },
   {
    "duration": 20,
    "start_time": "2022-07-29T11:28:25.424Z"
   },
   {
    "duration": 326,
    "start_time": "2022-07-29T11:28:25.446Z"
   },
   {
    "duration": 486,
    "start_time": "2022-07-29T11:28:25.774Z"
   },
   {
    "duration": 497,
    "start_time": "2022-07-29T11:28:26.263Z"
   },
   {
    "duration": 579,
    "start_time": "2022-07-29T11:28:26.762Z"
   },
   {
    "duration": 597,
    "start_time": "2022-07-29T11:28:27.344Z"
   },
   {
    "duration": 609,
    "start_time": "2022-07-29T11:28:27.943Z"
   },
   {
    "duration": 9,
    "start_time": "2022-07-29T11:28:28.554Z"
   },
   {
    "duration": 225,
    "start_time": "2022-07-29T11:28:28.565Z"
   },
   {
    "duration": 43,
    "start_time": "2022-07-29T11:28:28.792Z"
   },
   {
    "duration": 181,
    "start_time": "2022-07-29T11:28:44.658Z"
   },
   {
    "duration": 197,
    "start_time": "2022-07-29T11:28:54.456Z"
   },
   {
    "duration": 160,
    "start_time": "2022-07-29T11:29:12.264Z"
   },
   {
    "duration": 234,
    "start_time": "2022-07-29T11:29:18.855Z"
   },
   {
    "duration": 158,
    "start_time": "2022-07-29T11:29:42.808Z"
   },
   {
    "duration": 159,
    "start_time": "2022-07-29T11:30:10.350Z"
   },
   {
    "duration": 188,
    "start_time": "2022-07-29T11:30:48.931Z"
   },
   {
    "duration": 137,
    "start_time": "2022-07-29T11:31:19.379Z"
   },
   {
    "duration": 159,
    "start_time": "2022-07-29T11:32:04.748Z"
   },
   {
    "duration": 100,
    "start_time": "2022-07-29T11:32:22.682Z"
   },
   {
    "duration": 121,
    "start_time": "2022-07-29T11:32:41.006Z"
   },
   {
    "duration": 144,
    "start_time": "2022-07-29T11:32:56.748Z"
   },
   {
    "duration": 186,
    "start_time": "2022-07-29T11:33:05.211Z"
   },
   {
    "duration": 154,
    "start_time": "2022-07-29T11:33:44.354Z"
   },
   {
    "duration": 8,
    "start_time": "2022-07-29T12:27:33.958Z"
   },
   {
    "duration": 990,
    "start_time": "2022-07-29T12:29:18.359Z"
   },
   {
    "duration": 135,
    "start_time": "2022-07-29T12:29:19.352Z"
   },
   {
    "duration": 53,
    "start_time": "2022-07-29T12:29:19.490Z"
   },
   {
    "duration": 83,
    "start_time": "2022-07-29T12:29:19.546Z"
   },
   {
    "duration": 35,
    "start_time": "2022-07-29T12:29:19.631Z"
   },
   {
    "duration": 15,
    "start_time": "2022-07-29T12:29:19.668Z"
   },
   {
    "duration": 44,
    "start_time": "2022-07-29T12:29:19.685Z"
   },
   {
    "duration": 27,
    "start_time": "2022-07-29T12:29:19.731Z"
   },
   {
    "duration": 9,
    "start_time": "2022-07-29T12:29:19.760Z"
   },
   {
    "duration": 9,
    "start_time": "2022-07-29T12:29:19.771Z"
   },
   {
    "duration": 14,
    "start_time": "2022-07-29T12:29:19.782Z"
   },
   {
    "duration": 27,
    "start_time": "2022-07-29T12:29:19.797Z"
   },
   {
    "duration": 18,
    "start_time": "2022-07-29T12:29:19.827Z"
   },
   {
    "duration": 91,
    "start_time": "2022-07-29T12:29:19.846Z"
   },
   {
    "duration": 14,
    "start_time": "2022-07-29T12:29:19.938Z"
   },
   {
    "duration": 15,
    "start_time": "2022-07-29T12:29:19.954Z"
   },
   {
    "duration": 55,
    "start_time": "2022-07-29T12:29:19.971Z"
   },
   {
    "duration": 10,
    "start_time": "2022-07-29T12:29:20.028Z"
   },
   {
    "duration": 9,
    "start_time": "2022-07-29T12:29:20.041Z"
   },
   {
    "duration": 38,
    "start_time": "2022-07-29T12:29:20.052Z"
   },
   {
    "duration": 14,
    "start_time": "2022-07-29T12:29:20.091Z"
   },
   {
    "duration": 14,
    "start_time": "2022-07-29T12:29:20.107Z"
   },
   {
    "duration": 10,
    "start_time": "2022-07-29T12:29:20.124Z"
   },
   {
    "duration": 14,
    "start_time": "2022-07-29T12:29:20.136Z"
   },
   {
    "duration": 28,
    "start_time": "2022-07-29T12:29:20.152Z"
   },
   {
    "duration": 9,
    "start_time": "2022-07-29T12:29:20.182Z"
   },
   {
    "duration": 17,
    "start_time": "2022-07-29T12:29:20.193Z"
   },
   {
    "duration": 20,
    "start_time": "2022-07-29T12:29:20.214Z"
   },
   {
    "duration": 12,
    "start_time": "2022-07-29T12:29:20.236Z"
   },
   {
    "duration": 11,
    "start_time": "2022-07-29T12:29:20.249Z"
   },
   {
    "duration": 13,
    "start_time": "2022-07-29T12:29:20.262Z"
   },
   {
    "duration": 16,
    "start_time": "2022-07-29T12:29:20.277Z"
   },
   {
    "duration": 38,
    "start_time": "2022-07-29T12:29:20.295Z"
   },
   {
    "duration": 27,
    "start_time": "2022-07-29T12:29:20.335Z"
   },
   {
    "duration": 14,
    "start_time": "2022-07-29T12:29:20.364Z"
   },
   {
    "duration": 7,
    "start_time": "2022-07-29T12:29:20.380Z"
   },
   {
    "duration": 14,
    "start_time": "2022-07-29T12:29:20.389Z"
   },
   {
    "duration": 31,
    "start_time": "2022-07-29T12:29:20.405Z"
   },
   {
    "duration": 288,
    "start_time": "2022-07-29T12:29:20.438Z"
   },
   {
    "duration": 317,
    "start_time": "2022-07-29T12:29:20.728Z"
   },
   {
    "duration": 479,
    "start_time": "2022-07-29T12:29:21.047Z"
   },
   {
    "duration": 498,
    "start_time": "2022-07-29T12:29:21.529Z"
   },
   {
    "duration": 433,
    "start_time": "2022-07-29T12:29:22.029Z"
   },
   {
    "duration": 509,
    "start_time": "2022-07-29T12:29:22.464Z"
   },
   {
    "duration": 10,
    "start_time": "2022-07-29T12:29:22.975Z"
   },
   {
    "duration": 157,
    "start_time": "2022-07-29T12:29:22.987Z"
   },
   {
    "duration": 158,
    "start_time": "2022-07-29T12:29:23.145Z"
   },
   {
    "duration": 19,
    "start_time": "2022-07-29T12:29:23.305Z"
   },
   {
    "duration": 21,
    "start_time": "2022-07-29T12:29:23.326Z"
   },
   {
    "duration": 162,
    "start_time": "2022-07-29T12:29:50.490Z"
   },
   {
    "duration": 4,
    "start_time": "2022-07-29T12:33:47.467Z"
   },
   {
    "duration": 5,
    "start_time": "2022-07-29T12:33:51.039Z"
   },
   {
    "duration": 6,
    "start_time": "2022-07-29T12:35:13.205Z"
   },
   {
    "duration": 1075,
    "start_time": "2022-07-29T12:35:19.792Z"
   },
   {
    "duration": 135,
    "start_time": "2022-07-29T12:35:20.869Z"
   },
   {
    "duration": 62,
    "start_time": "2022-07-29T12:35:21.006Z"
   },
   {
    "duration": 71,
    "start_time": "2022-07-29T12:35:21.070Z"
   },
   {
    "duration": 33,
    "start_time": "2022-07-29T12:35:21.142Z"
   },
   {
    "duration": 12,
    "start_time": "2022-07-29T12:35:21.176Z"
   },
   {
    "duration": 44,
    "start_time": "2022-07-29T12:35:21.189Z"
   },
   {
    "duration": 20,
    "start_time": "2022-07-29T12:35:21.235Z"
   },
   {
    "duration": 8,
    "start_time": "2022-07-29T12:35:21.257Z"
   },
   {
    "duration": 9,
    "start_time": "2022-07-29T12:35:21.268Z"
   },
   {
    "duration": 12,
    "start_time": "2022-07-29T12:35:21.278Z"
   },
   {
    "duration": 38,
    "start_time": "2022-07-29T12:35:21.292Z"
   },
   {
    "duration": 18,
    "start_time": "2022-07-29T12:35:21.331Z"
   },
   {
    "duration": 95,
    "start_time": "2022-07-29T12:35:21.351Z"
   },
   {
    "duration": 16,
    "start_time": "2022-07-29T12:35:21.448Z"
   },
   {
    "duration": 36,
    "start_time": "2022-07-29T12:35:21.466Z"
   },
   {
    "duration": 32,
    "start_time": "2022-07-29T12:35:21.504Z"
   },
   {
    "duration": 15,
    "start_time": "2022-07-29T12:35:21.538Z"
   },
   {
    "duration": 5,
    "start_time": "2022-07-29T12:35:21.555Z"
   },
   {
    "duration": 20,
    "start_time": "2022-07-29T12:35:21.562Z"
   },
   {
    "duration": 11,
    "start_time": "2022-07-29T12:35:21.584Z"
   },
   {
    "duration": 31,
    "start_time": "2022-07-29T12:35:21.596Z"
   },
   {
    "duration": 15,
    "start_time": "2022-07-29T12:35:21.629Z"
   },
   {
    "duration": 18,
    "start_time": "2022-07-29T12:35:21.646Z"
   },
   {
    "duration": 23,
    "start_time": "2022-07-29T12:35:21.666Z"
   },
   {
    "duration": 12,
    "start_time": "2022-07-29T12:35:21.691Z"
   },
   {
    "duration": 22,
    "start_time": "2022-07-29T12:35:21.705Z"
   },
   {
    "duration": 31,
    "start_time": "2022-07-29T12:35:21.731Z"
   },
   {
    "duration": 11,
    "start_time": "2022-07-29T12:35:21.764Z"
   },
   {
    "duration": 19,
    "start_time": "2022-07-29T12:35:21.777Z"
   },
   {
    "duration": 19,
    "start_time": "2022-07-29T12:35:21.798Z"
   },
   {
    "duration": 14,
    "start_time": "2022-07-29T12:35:21.819Z"
   },
   {
    "duration": 28,
    "start_time": "2022-07-29T12:35:21.835Z"
   },
   {
    "duration": 8,
    "start_time": "2022-07-29T12:35:21.865Z"
   },
   {
    "duration": 15,
    "start_time": "2022-07-29T12:35:21.877Z"
   },
   {
    "duration": 9,
    "start_time": "2022-07-29T12:35:21.894Z"
   },
   {
    "duration": 38,
    "start_time": "2022-07-29T12:35:21.905Z"
   },
   {
    "duration": 33,
    "start_time": "2022-07-29T12:35:21.945Z"
   },
   {
    "duration": 553,
    "start_time": "2022-07-29T12:35:21.980Z"
   },
   {
    "duration": 630,
    "start_time": "2022-07-29T12:35:22.535Z"
   },
   {
    "duration": 470,
    "start_time": "2022-07-29T12:35:23.167Z"
   },
   {
    "duration": 386,
    "start_time": "2022-07-29T12:35:23.639Z"
   },
   {
    "duration": 232,
    "start_time": "2022-07-29T12:35:24.027Z"
   },
   {
    "duration": 327,
    "start_time": "2022-07-29T12:35:24.261Z"
   },
   {
    "duration": 10,
    "start_time": "2022-07-29T12:35:24.590Z"
   },
   {
    "duration": 186,
    "start_time": "2022-07-29T12:35:24.602Z"
   },
   {
    "duration": 156,
    "start_time": "2022-07-29T12:35:24.790Z"
   },
   {
    "duration": 6,
    "start_time": "2022-07-29T12:35:24.948Z"
   },
   {
    "duration": 29,
    "start_time": "2022-07-29T12:35:24.956Z"
   },
   {
    "duration": 117,
    "start_time": "2022-07-29T12:36:27.640Z"
   },
   {
    "duration": 6,
    "start_time": "2022-07-29T12:37:02.711Z"
   },
   {
    "duration": 5,
    "start_time": "2022-07-29T12:37:12.783Z"
   },
   {
    "duration": 5,
    "start_time": "2022-07-29T12:37:18.190Z"
   },
   {
    "duration": 5,
    "start_time": "2022-07-29T12:38:33.755Z"
   },
   {
    "duration": 12,
    "start_time": "2022-07-29T12:38:58.655Z"
   },
   {
    "duration": 6,
    "start_time": "2022-07-29T12:39:02.810Z"
   },
   {
    "duration": 5,
    "start_time": "2022-07-29T12:40:22.131Z"
   },
   {
    "duration": 4,
    "start_time": "2022-07-29T12:40:27.133Z"
   },
   {
    "duration": 4,
    "start_time": "2022-07-29T12:40:30.585Z"
   },
   {
    "duration": 4,
    "start_time": "2022-07-29T12:42:54.945Z"
   },
   {
    "duration": 5,
    "start_time": "2022-07-29T12:43:01.521Z"
   },
   {
    "duration": 10,
    "start_time": "2022-07-29T12:49:10.637Z"
   },
   {
    "duration": 128,
    "start_time": "2022-07-29T12:49:26.858Z"
   },
   {
    "duration": 306,
    "start_time": "2022-07-29T12:49:46.041Z"
   },
   {
    "duration": 7,
    "start_time": "2022-07-29T12:50:19.843Z"
   },
   {
    "duration": 240,
    "start_time": "2022-07-29T12:51:04.090Z"
   },
   {
    "duration": 268,
    "start_time": "2022-07-29T12:51:14.517Z"
   },
   {
    "duration": 5,
    "start_time": "2022-07-29T12:51:53.640Z"
   },
   {
    "duration": 255,
    "start_time": "2022-07-29T12:52:07.335Z"
   },
   {
    "duration": 10,
    "start_time": "2022-07-29T12:52:23.233Z"
   },
   {
    "duration": 10,
    "start_time": "2022-07-29T12:52:26.791Z"
   },
   {
    "duration": 173,
    "start_time": "2022-07-29T12:52:31.539Z"
   },
   {
    "duration": 247,
    "start_time": "2022-07-29T13:00:19.121Z"
   },
   {
    "duration": 340,
    "start_time": "2022-07-29T13:01:40.942Z"
   },
   {
    "duration": 234,
    "start_time": "2022-07-29T13:02:25.836Z"
   },
   {
    "duration": 293,
    "start_time": "2022-07-29T13:03:06.945Z"
   },
   {
    "duration": 265,
    "start_time": "2022-07-29T13:03:15.892Z"
   },
   {
    "duration": 4,
    "start_time": "2022-07-29T13:03:37.045Z"
   },
   {
    "duration": 260,
    "start_time": "2022-07-29T13:03:44.042Z"
   },
   {
    "duration": 1081,
    "start_time": "2022-07-29T13:03:49.667Z"
   },
   {
    "duration": 147,
    "start_time": "2022-07-29T13:03:50.751Z"
   },
   {
    "duration": 72,
    "start_time": "2022-07-29T13:03:50.900Z"
   },
   {
    "duration": 62,
    "start_time": "2022-07-29T13:03:50.973Z"
   },
   {
    "duration": 47,
    "start_time": "2022-07-29T13:03:51.038Z"
   },
   {
    "duration": 54,
    "start_time": "2022-07-29T13:03:51.087Z"
   },
   {
    "duration": 14,
    "start_time": "2022-07-29T13:03:51.143Z"
   },
   {
    "duration": 19,
    "start_time": "2022-07-29T13:03:51.159Z"
   },
   {
    "duration": 11,
    "start_time": "2022-07-29T13:03:51.180Z"
   },
   {
    "duration": 10,
    "start_time": "2022-07-29T13:03:51.193Z"
   },
   {
    "duration": 29,
    "start_time": "2022-07-29T13:03:51.205Z"
   },
   {
    "duration": 30,
    "start_time": "2022-07-29T13:03:51.235Z"
   },
   {
    "duration": 24,
    "start_time": "2022-07-29T13:03:51.266Z"
   },
   {
    "duration": 73,
    "start_time": "2022-07-29T13:03:51.295Z"
   },
   {
    "duration": 16,
    "start_time": "2022-07-29T13:03:51.370Z"
   },
   {
    "duration": 55,
    "start_time": "2022-07-29T13:03:51.388Z"
   },
   {
    "duration": 12,
    "start_time": "2022-07-29T13:03:51.445Z"
   },
   {
    "duration": 8,
    "start_time": "2022-07-29T13:03:51.458Z"
   },
   {
    "duration": 8,
    "start_time": "2022-07-29T13:03:51.468Z"
   },
   {
    "duration": 14,
    "start_time": "2022-07-29T13:03:51.478Z"
   },
   {
    "duration": 54,
    "start_time": "2022-07-29T13:03:51.494Z"
   },
   {
    "duration": 12,
    "start_time": "2022-07-29T13:03:51.550Z"
   },
   {
    "duration": 12,
    "start_time": "2022-07-29T13:03:51.563Z"
   },
   {
    "duration": 13,
    "start_time": "2022-07-29T13:03:51.577Z"
   },
   {
    "duration": 10,
    "start_time": "2022-07-29T13:03:51.592Z"
   },
   {
    "duration": 8,
    "start_time": "2022-07-29T13:03:51.604Z"
   },
   {
    "duration": 12,
    "start_time": "2022-07-29T13:03:51.614Z"
   },
   {
    "duration": 30,
    "start_time": "2022-07-29T13:03:51.628Z"
   },
   {
    "duration": 14,
    "start_time": "2022-07-29T13:03:51.660Z"
   },
   {
    "duration": 9,
    "start_time": "2022-07-29T13:03:51.675Z"
   },
   {
    "duration": 8,
    "start_time": "2022-07-29T13:03:51.686Z"
   },
   {
    "duration": 9,
    "start_time": "2022-07-29T13:03:51.695Z"
   },
   {
    "duration": 6,
    "start_time": "2022-07-29T13:03:51.706Z"
   },
   {
    "duration": 9,
    "start_time": "2022-07-29T13:03:51.714Z"
   },
   {
    "duration": 18,
    "start_time": "2022-07-29T13:03:51.731Z"
   },
   {
    "duration": 16,
    "start_time": "2022-07-29T13:03:51.751Z"
   },
   {
    "duration": 24,
    "start_time": "2022-07-29T13:03:51.769Z"
   },
   {
    "duration": 12,
    "start_time": "2022-07-29T13:03:51.795Z"
   },
   {
    "duration": 298,
    "start_time": "2022-07-29T13:03:51.809Z"
   },
   {
    "duration": 302,
    "start_time": "2022-07-29T13:03:52.109Z"
   },
   {
    "duration": 324,
    "start_time": "2022-07-29T13:03:52.415Z"
   },
   {
    "duration": 627,
    "start_time": "2022-07-29T13:03:52.741Z"
   },
   {
    "duration": 680,
    "start_time": "2022-07-29T13:03:53.370Z"
   },
   {
    "duration": 674,
    "start_time": "2022-07-29T13:03:54.052Z"
   },
   {
    "duration": 15,
    "start_time": "2022-07-29T13:03:54.728Z"
   },
   {
    "duration": 428,
    "start_time": "2022-07-29T13:03:54.745Z"
   },
   {
    "duration": 348,
    "start_time": "2022-07-29T13:03:55.174Z"
   },
   {
    "duration": 5,
    "start_time": "2022-07-29T13:03:55.524Z"
   },
   {
    "duration": 21,
    "start_time": "2022-07-29T13:03:55.530Z"
   },
   {
    "duration": 263,
    "start_time": "2022-07-29T13:03:55.553Z"
   },
   {
    "duration": 36,
    "start_time": "2022-07-29T13:03:55.817Z"
   },
   {
    "duration": 395,
    "start_time": "2022-07-29T13:04:56.072Z"
   },
   {
    "duration": 315,
    "start_time": "2022-07-29T13:05:07.642Z"
   },
   {
    "duration": 277,
    "start_time": "2022-07-29T13:05:15.217Z"
   },
   {
    "duration": 274,
    "start_time": "2022-07-29T13:05:48.917Z"
   },
   {
    "duration": 144,
    "start_time": "2022-07-29T13:06:47.942Z"
   },
   {
    "duration": 185,
    "start_time": "2022-07-29T13:07:46.286Z"
   },
   {
    "duration": 172,
    "start_time": "2022-07-29T13:09:56.003Z"
   },
   {
    "duration": 274,
    "start_time": "2022-07-29T13:10:31.259Z"
   },
   {
    "duration": 112,
    "start_time": "2022-07-29T13:11:00.258Z"
   },
   {
    "duration": 15,
    "start_time": "2022-07-29T13:11:07.551Z"
   },
   {
    "duration": 205,
    "start_time": "2022-07-29T13:12:10.065Z"
   },
   {
    "duration": 248,
    "start_time": "2022-07-29T13:12:14.250Z"
   },
   {
    "duration": 180,
    "start_time": "2022-07-29T13:15:32.327Z"
   },
   {
    "duration": 6,
    "start_time": "2022-07-29T13:20:04.713Z"
   },
   {
    "duration": 8,
    "start_time": "2022-07-29T13:20:28.739Z"
   },
   {
    "duration": 10,
    "start_time": "2022-07-29T13:20:38.241Z"
   },
   {
    "duration": 5,
    "start_time": "2022-07-29T13:20:43.867Z"
   },
   {
    "duration": 1056,
    "start_time": "2022-07-29T13:22:18.872Z"
   },
   {
    "duration": 137,
    "start_time": "2022-07-29T13:22:19.934Z"
   },
   {
    "duration": 67,
    "start_time": "2022-07-29T13:22:20.073Z"
   },
   {
    "duration": 41,
    "start_time": "2022-07-29T13:22:20.143Z"
   },
   {
    "duration": 54,
    "start_time": "2022-07-29T13:22:20.186Z"
   },
   {
    "duration": 13,
    "start_time": "2022-07-29T13:22:20.245Z"
   },
   {
    "duration": 17,
    "start_time": "2022-07-29T13:22:20.260Z"
   },
   {
    "duration": 17,
    "start_time": "2022-07-29T13:22:20.279Z"
   },
   {
    "duration": 44,
    "start_time": "2022-07-29T13:22:20.298Z"
   },
   {
    "duration": 25,
    "start_time": "2022-07-29T13:22:20.345Z"
   },
   {
    "duration": 14,
    "start_time": "2022-07-29T13:22:20.372Z"
   },
   {
    "duration": 14,
    "start_time": "2022-07-29T13:22:20.388Z"
   },
   {
    "duration": 38,
    "start_time": "2022-07-29T13:22:20.404Z"
   },
   {
    "duration": 95,
    "start_time": "2022-07-29T13:22:20.444Z"
   },
   {
    "duration": 18,
    "start_time": "2022-07-29T13:22:20.541Z"
   },
   {
    "duration": 42,
    "start_time": "2022-07-29T13:22:20.561Z"
   },
   {
    "duration": 31,
    "start_time": "2022-07-29T13:22:20.605Z"
   },
   {
    "duration": 29,
    "start_time": "2022-07-29T13:22:20.638Z"
   },
   {
    "duration": 11,
    "start_time": "2022-07-29T13:22:20.669Z"
   },
   {
    "duration": 17,
    "start_time": "2022-07-29T13:22:20.682Z"
   },
   {
    "duration": 20,
    "start_time": "2022-07-29T13:22:20.701Z"
   },
   {
    "duration": 31,
    "start_time": "2022-07-29T13:22:20.724Z"
   },
   {
    "duration": 10,
    "start_time": "2022-07-29T13:22:20.758Z"
   },
   {
    "duration": 13,
    "start_time": "2022-07-29T13:22:20.770Z"
   },
   {
    "duration": 12,
    "start_time": "2022-07-29T13:22:20.785Z"
   },
   {
    "duration": 22,
    "start_time": "2022-07-29T13:22:20.800Z"
   },
   {
    "duration": 30,
    "start_time": "2022-07-29T13:22:20.827Z"
   },
   {
    "duration": 9,
    "start_time": "2022-07-29T13:22:20.862Z"
   },
   {
    "duration": 14,
    "start_time": "2022-07-29T13:22:20.873Z"
   },
   {
    "duration": 11,
    "start_time": "2022-07-29T13:22:20.889Z"
   },
   {
    "duration": 19,
    "start_time": "2022-07-29T13:22:20.901Z"
   },
   {
    "duration": 21,
    "start_time": "2022-07-29T13:22:20.923Z"
   },
   {
    "duration": 40,
    "start_time": "2022-07-29T13:22:20.946Z"
   },
   {
    "duration": 8,
    "start_time": "2022-07-29T13:22:20.988Z"
   },
   {
    "duration": 12,
    "start_time": "2022-07-29T13:22:20.998Z"
   },
   {
    "duration": 10,
    "start_time": "2022-07-29T13:22:21.011Z"
   },
   {
    "duration": 40,
    "start_time": "2022-07-29T13:22:21.024Z"
   },
   {
    "duration": 14,
    "start_time": "2022-07-29T13:22:21.066Z"
   },
   {
    "duration": 312,
    "start_time": "2022-07-29T13:22:21.082Z"
   },
   {
    "duration": 335,
    "start_time": "2022-07-29T13:22:21.396Z"
   },
   {
    "duration": 240,
    "start_time": "2022-07-29T13:22:21.736Z"
   },
   {
    "duration": 417,
    "start_time": "2022-07-29T13:22:21.980Z"
   },
   {
    "duration": 292,
    "start_time": "2022-07-29T13:22:22.399Z"
   },
   {
    "duration": 382,
    "start_time": "2022-07-29T13:22:22.693Z"
   },
   {
    "duration": 11,
    "start_time": "2022-07-29T13:22:23.076Z"
   },
   {
    "duration": 195,
    "start_time": "2022-07-29T13:22:23.089Z"
   },
   {
    "duration": 225,
    "start_time": "2022-07-29T13:22:23.286Z"
   },
   {
    "duration": 18,
    "start_time": "2022-07-29T13:22:23.513Z"
   },
   {
    "duration": 40,
    "start_time": "2022-07-29T13:22:23.536Z"
   },
   {
    "duration": 291,
    "start_time": "2022-07-29T13:22:23.579Z"
   },
   {
    "duration": 379,
    "start_time": "2022-07-29T13:22:23.872Z"
   },
   {
    "duration": 204,
    "start_time": "2022-07-29T13:22:24.254Z"
   },
   {
    "duration": 234,
    "start_time": "2022-07-29T13:22:24.460Z"
   },
   {
    "duration": 6,
    "start_time": "2022-07-29T13:22:24.697Z"
   },
   {
    "duration": 38,
    "start_time": "2022-07-29T13:22:24.705Z"
   },
   {
    "duration": 170,
    "start_time": "2022-07-29T13:32:50.956Z"
   },
   {
    "duration": 29,
    "start_time": "2022-07-29T13:34:04.861Z"
   },
   {
    "duration": 334,
    "start_time": "2022-07-29T13:36:37.681Z"
   },
   {
    "duration": 123,
    "start_time": "2022-07-29T13:45:49.960Z"
   },
   {
    "duration": 116,
    "start_time": "2022-07-29T13:48:00.653Z"
   },
   {
    "duration": 130,
    "start_time": "2022-07-29T13:48:22.778Z"
   },
   {
    "duration": 2571,
    "start_time": "2022-07-29T13:49:00.376Z"
   },
   {
    "duration": 151,
    "start_time": "2022-07-29T13:49:02.949Z"
   },
   {
    "duration": 75,
    "start_time": "2022-07-29T13:49:03.101Z"
   },
   {
    "duration": 81,
    "start_time": "2022-07-29T13:49:03.179Z"
   },
   {
    "duration": 38,
    "start_time": "2022-07-29T13:49:03.262Z"
   },
   {
    "duration": 31,
    "start_time": "2022-07-29T13:49:03.302Z"
   },
   {
    "duration": 31,
    "start_time": "2022-07-29T13:49:03.336Z"
   },
   {
    "duration": 12,
    "start_time": "2022-07-29T13:49:03.369Z"
   },
   {
    "duration": 8,
    "start_time": "2022-07-29T13:49:03.383Z"
   },
   {
    "duration": 9,
    "start_time": "2022-07-29T13:49:03.394Z"
   },
   {
    "duration": 14,
    "start_time": "2022-07-29T13:49:03.405Z"
   },
   {
    "duration": 43,
    "start_time": "2022-07-29T13:49:03.421Z"
   },
   {
    "duration": 25,
    "start_time": "2022-07-29T13:49:03.466Z"
   },
   {
    "duration": 67,
    "start_time": "2022-07-29T13:49:03.493Z"
   },
   {
    "duration": 18,
    "start_time": "2022-07-29T13:49:03.562Z"
   },
   {
    "duration": 45,
    "start_time": "2022-07-29T13:49:03.582Z"
   },
   {
    "duration": 29,
    "start_time": "2022-07-29T13:49:03.628Z"
   },
   {
    "duration": 25,
    "start_time": "2022-07-29T13:49:03.659Z"
   },
   {
    "duration": 6,
    "start_time": "2022-07-29T13:49:03.686Z"
   },
   {
    "duration": 14,
    "start_time": "2022-07-29T13:49:03.694Z"
   },
   {
    "duration": 8,
    "start_time": "2022-07-29T13:49:03.710Z"
   },
   {
    "duration": 36,
    "start_time": "2022-07-29T13:49:03.724Z"
   },
   {
    "duration": 22,
    "start_time": "2022-07-29T13:49:03.762Z"
   },
   {
    "duration": 25,
    "start_time": "2022-07-29T13:49:03.786Z"
   },
   {
    "duration": 14,
    "start_time": "2022-07-29T13:49:03.813Z"
   },
   {
    "duration": 57,
    "start_time": "2022-07-29T13:49:03.829Z"
   },
   {
    "duration": 28,
    "start_time": "2022-07-29T13:49:03.888Z"
   },
   {
    "duration": 65,
    "start_time": "2022-07-29T13:49:03.921Z"
   },
   {
    "duration": 76,
    "start_time": "2022-07-29T13:49:03.988Z"
   },
   {
    "duration": 91,
    "start_time": "2022-07-29T13:49:04.066Z"
   },
   {
    "duration": 97,
    "start_time": "2022-07-29T13:49:04.159Z"
   },
   {
    "duration": 61,
    "start_time": "2022-07-29T13:49:04.258Z"
   },
   {
    "duration": 59,
    "start_time": "2022-07-29T13:49:04.321Z"
   },
   {
    "duration": 10,
    "start_time": "2022-07-29T13:49:04.383Z"
   },
   {
    "duration": 12,
    "start_time": "2022-07-29T13:49:04.394Z"
   },
   {
    "duration": 8,
    "start_time": "2022-07-29T13:49:04.408Z"
   },
   {
    "duration": 19,
    "start_time": "2022-07-29T13:49:04.417Z"
   },
   {
    "duration": 39,
    "start_time": "2022-07-29T13:49:04.437Z"
   },
   {
    "duration": 337,
    "start_time": "2022-07-29T13:49:04.477Z"
   },
   {
    "duration": 341,
    "start_time": "2022-07-29T13:49:04.816Z"
   },
   {
    "duration": 223,
    "start_time": "2022-07-29T13:49:05.160Z"
   },
   {
    "duration": 328,
    "start_time": "2022-07-29T13:49:05.384Z"
   },
   {
    "duration": 254,
    "start_time": "2022-07-29T13:49:05.713Z"
   },
   {
    "duration": 335,
    "start_time": "2022-07-29T13:49:05.968Z"
   },
   {
    "duration": 30,
    "start_time": "2022-07-29T13:49:06.305Z"
   },
   {
    "duration": 174,
    "start_time": "2022-07-29T13:49:06.344Z"
   },
   {
    "duration": 231,
    "start_time": "2022-07-29T13:49:06.523Z"
   },
   {
    "duration": 5,
    "start_time": "2022-07-29T13:49:06.758Z"
   },
   {
    "duration": 6,
    "start_time": "2022-07-29T13:49:06.765Z"
   },
   {
    "duration": 293,
    "start_time": "2022-07-29T13:49:06.773Z"
   },
   {
    "duration": 401,
    "start_time": "2022-07-29T13:49:07.068Z"
   },
   {
    "duration": 210,
    "start_time": "2022-07-29T13:49:07.473Z"
   },
   {
    "duration": 211,
    "start_time": "2022-07-29T13:49:07.685Z"
   },
   {
    "duration": 5,
    "start_time": "2022-07-29T13:49:07.897Z"
   },
   {
    "duration": 241,
    "start_time": "2022-07-29T13:49:07.903Z"
   },
   {
    "duration": 0,
    "start_time": "2022-07-29T13:49:08.146Z"
   },
   {
    "duration": 0,
    "start_time": "2022-07-29T13:49:08.146Z"
   },
   {
    "duration": 0,
    "start_time": "2022-07-29T13:49:08.147Z"
   },
   {
    "duration": 248,
    "start_time": "2022-07-29T13:49:34.930Z"
   },
   {
    "duration": 31,
    "start_time": "2022-07-29T13:49:40.336Z"
   },
   {
    "duration": 151,
    "start_time": "2022-07-29T13:50:20.153Z"
   },
   {
    "duration": 9,
    "start_time": "2022-07-29T13:50:29.146Z"
   },
   {
    "duration": 15,
    "start_time": "2022-07-29T13:50:39.553Z"
   },
   {
    "duration": 157,
    "start_time": "2022-07-29T13:51:19.123Z"
   },
   {
    "duration": 174,
    "start_time": "2022-07-29T13:51:39.556Z"
   },
   {
    "duration": 186,
    "start_time": "2022-07-29T13:51:49.192Z"
   },
   {
    "duration": 18,
    "start_time": "2022-07-29T13:54:21.622Z"
   },
   {
    "duration": 12,
    "start_time": "2022-07-29T13:54:26.575Z"
   },
   {
    "duration": 23,
    "start_time": "2022-07-29T13:54:31.747Z"
   },
   {
    "duration": 17,
    "start_time": "2022-07-29T13:58:12.117Z"
   },
   {
    "duration": 156,
    "start_time": "2022-07-29T13:58:39.954Z"
   },
   {
    "duration": 22,
    "start_time": "2022-07-29T13:58:40.962Z"
   },
   {
    "duration": 235,
    "start_time": "2022-07-29T14:03:10.648Z"
   },
   {
    "duration": 226,
    "start_time": "2022-07-29T14:03:15.735Z"
   },
   {
    "duration": 13,
    "start_time": "2022-07-29T14:06:45.352Z"
   },
   {
    "duration": 23,
    "start_time": "2022-07-29T14:07:58.892Z"
   },
   {
    "duration": 4,
    "start_time": "2022-07-29T14:08:43.380Z"
   },
   {
    "duration": 1123,
    "start_time": "2022-07-29T14:08:50.443Z"
   },
   {
    "duration": 130,
    "start_time": "2022-07-29T14:08:51.568Z"
   },
   {
    "duration": 67,
    "start_time": "2022-07-29T14:08:51.700Z"
   },
   {
    "duration": 82,
    "start_time": "2022-07-29T14:08:51.769Z"
   },
   {
    "duration": 71,
    "start_time": "2022-07-29T14:08:51.855Z"
   },
   {
    "duration": 22,
    "start_time": "2022-07-29T14:08:51.928Z"
   },
   {
    "duration": 12,
    "start_time": "2022-07-29T14:08:51.952Z"
   },
   {
    "duration": 22,
    "start_time": "2022-07-29T14:08:51.965Z"
   },
   {
    "duration": 6,
    "start_time": "2022-07-29T14:08:51.989Z"
   },
   {
    "duration": 30,
    "start_time": "2022-07-29T14:08:51.997Z"
   },
   {
    "duration": 30,
    "start_time": "2022-07-29T14:08:52.031Z"
   },
   {
    "duration": 12,
    "start_time": "2022-07-29T14:08:52.063Z"
   },
   {
    "duration": 56,
    "start_time": "2022-07-29T14:08:52.078Z"
   },
   {
    "duration": 85,
    "start_time": "2022-07-29T14:08:52.147Z"
   },
   {
    "duration": 23,
    "start_time": "2022-07-29T14:08:52.234Z"
   },
   {
    "duration": 20,
    "start_time": "2022-07-29T14:08:52.259Z"
   },
   {
    "duration": 50,
    "start_time": "2022-07-29T14:08:52.281Z"
   },
   {
    "duration": 24,
    "start_time": "2022-07-29T14:08:52.334Z"
   },
   {
    "duration": 9,
    "start_time": "2022-07-29T14:08:52.360Z"
   },
   {
    "duration": 18,
    "start_time": "2022-07-29T14:08:52.371Z"
   },
   {
    "duration": 4,
    "start_time": "2022-07-29T14:08:52.391Z"
   },
   {
    "duration": 13,
    "start_time": "2022-07-29T14:08:52.397Z"
   },
   {
    "duration": 9,
    "start_time": "2022-07-29T14:08:52.426Z"
   },
   {
    "duration": 43,
    "start_time": "2022-07-29T14:08:52.436Z"
   },
   {
    "duration": 10,
    "start_time": "2022-07-29T14:08:52.482Z"
   },
   {
    "duration": 8,
    "start_time": "2022-07-29T14:08:52.495Z"
   },
   {
    "duration": 14,
    "start_time": "2022-07-29T14:08:52.507Z"
   },
   {
    "duration": 32,
    "start_time": "2022-07-29T14:08:52.523Z"
   },
   {
    "duration": 8,
    "start_time": "2022-07-29T14:08:52.557Z"
   },
   {
    "duration": 11,
    "start_time": "2022-07-29T14:08:52.567Z"
   },
   {
    "duration": 9,
    "start_time": "2022-07-29T14:08:52.580Z"
   },
   {
    "duration": 8,
    "start_time": "2022-07-29T14:08:52.591Z"
   },
   {
    "duration": 20,
    "start_time": "2022-07-29T14:08:52.601Z"
   },
   {
    "duration": 35,
    "start_time": "2022-07-29T14:08:52.625Z"
   },
   {
    "duration": 7,
    "start_time": "2022-07-29T14:08:52.663Z"
   },
   {
    "duration": 9,
    "start_time": "2022-07-29T14:08:52.672Z"
   },
   {
    "duration": 15,
    "start_time": "2022-07-29T14:08:52.684Z"
   },
   {
    "duration": 15,
    "start_time": "2022-07-29T14:08:52.701Z"
   },
   {
    "duration": 329,
    "start_time": "2022-07-29T14:08:52.718Z"
   },
   {
    "duration": 341,
    "start_time": "2022-07-29T14:08:53.050Z"
   },
   {
    "duration": 324,
    "start_time": "2022-07-29T14:08:53.395Z"
   },
   {
    "duration": 400,
    "start_time": "2022-07-29T14:08:53.731Z"
   },
   {
    "duration": 324,
    "start_time": "2022-07-29T14:08:54.133Z"
   },
   {
    "duration": 399,
    "start_time": "2022-07-29T14:08:54.459Z"
   },
   {
    "duration": 13,
    "start_time": "2022-07-29T14:08:54.860Z"
   },
   {
    "duration": 249,
    "start_time": "2022-07-29T14:08:54.875Z"
   },
   {
    "duration": 168,
    "start_time": "2022-07-29T14:08:55.129Z"
   },
   {
    "duration": 5,
    "start_time": "2022-07-29T14:08:55.299Z"
   },
   {
    "duration": 21,
    "start_time": "2022-07-29T14:08:55.306Z"
   },
   {
    "duration": 347,
    "start_time": "2022-07-29T14:08:55.329Z"
   },
   {
    "duration": 398,
    "start_time": "2022-07-29T14:08:55.679Z"
   },
   {
    "duration": 193,
    "start_time": "2022-07-29T14:08:56.079Z"
   },
   {
    "duration": 197,
    "start_time": "2022-07-29T14:08:56.274Z"
   },
   {
    "duration": 5,
    "start_time": "2022-07-29T14:08:56.473Z"
   },
   {
    "duration": 274,
    "start_time": "2022-07-29T14:08:56.480Z"
   },
   {
    "duration": 224,
    "start_time": "2022-07-29T14:08:56.756Z"
   },
   {
    "duration": 49,
    "start_time": "2022-07-29T14:08:56.983Z"
   },
   {
    "duration": 17,
    "start_time": "2022-07-29T14:08:57.037Z"
   },
   {
    "duration": 5,
    "start_time": "2022-07-29T14:08:57.055Z"
   },
   {
    "duration": 30,
    "start_time": "2022-07-29T14:08:57.062Z"
   },
   {
    "duration": 40,
    "start_time": "2022-07-29T14:09:40.845Z"
   },
   {
    "duration": 1239,
    "start_time": "2022-07-29T14:10:23.950Z"
   },
   {
    "duration": 162,
    "start_time": "2022-07-29T14:10:25.191Z"
   },
   {
    "duration": 53,
    "start_time": "2022-07-29T14:10:25.355Z"
   },
   {
    "duration": 74,
    "start_time": "2022-07-29T14:10:25.410Z"
   },
   {
    "duration": 57,
    "start_time": "2022-07-29T14:10:25.487Z"
   },
   {
    "duration": 25,
    "start_time": "2022-07-29T14:10:25.546Z"
   },
   {
    "duration": 22,
    "start_time": "2022-07-29T14:10:25.573Z"
   },
   {
    "duration": 37,
    "start_time": "2022-07-29T14:10:25.598Z"
   },
   {
    "duration": 4,
    "start_time": "2022-07-29T14:10:25.637Z"
   },
   {
    "duration": 31,
    "start_time": "2022-07-29T14:10:25.644Z"
   },
   {
    "duration": 18,
    "start_time": "2022-07-29T14:10:25.676Z"
   },
   {
    "duration": 12,
    "start_time": "2022-07-29T14:10:25.696Z"
   },
   {
    "duration": 33,
    "start_time": "2022-07-29T14:10:25.710Z"
   },
   {
    "duration": 97,
    "start_time": "2022-07-29T14:10:25.748Z"
   },
   {
    "duration": 15,
    "start_time": "2022-07-29T14:10:25.847Z"
   },
   {
    "duration": 23,
    "start_time": "2022-07-29T14:10:25.864Z"
   },
   {
    "duration": 9,
    "start_time": "2022-07-29T14:10:25.889Z"
   },
   {
    "duration": 16,
    "start_time": "2022-07-29T14:10:25.928Z"
   },
   {
    "duration": 27,
    "start_time": "2022-07-29T14:10:25.946Z"
   },
   {
    "duration": 11,
    "start_time": "2022-07-29T14:10:25.976Z"
   },
   {
    "duration": 10,
    "start_time": "2022-07-29T14:10:25.989Z"
   },
   {
    "duration": 10,
    "start_time": "2022-07-29T14:10:26.000Z"
   },
   {
    "duration": 16,
    "start_time": "2022-07-29T14:10:26.012Z"
   },
   {
    "duration": 41,
    "start_time": "2022-07-29T14:10:26.030Z"
   },
   {
    "duration": 11,
    "start_time": "2022-07-29T14:10:26.073Z"
   },
   {
    "duration": 15,
    "start_time": "2022-07-29T14:10:26.085Z"
   },
   {
    "duration": 10,
    "start_time": "2022-07-29T14:10:26.102Z"
   },
   {
    "duration": 32,
    "start_time": "2022-07-29T14:10:26.114Z"
   },
   {
    "duration": 30,
    "start_time": "2022-07-29T14:10:26.147Z"
   },
   {
    "duration": 10,
    "start_time": "2022-07-29T14:10:26.178Z"
   },
   {
    "duration": 11,
    "start_time": "2022-07-29T14:10:26.189Z"
   },
   {
    "duration": 7,
    "start_time": "2022-07-29T14:10:26.202Z"
   },
   {
    "duration": 10,
    "start_time": "2022-07-29T14:10:26.210Z"
   },
   {
    "duration": 29,
    "start_time": "2022-07-29T14:10:26.222Z"
   },
   {
    "duration": 15,
    "start_time": "2022-07-29T14:10:26.260Z"
   },
   {
    "duration": 7,
    "start_time": "2022-07-29T14:10:26.277Z"
   },
   {
    "duration": 13,
    "start_time": "2022-07-29T14:10:26.286Z"
   },
   {
    "duration": 24,
    "start_time": "2022-07-29T14:10:26.301Z"
   },
   {
    "duration": 369,
    "start_time": "2022-07-29T14:10:26.327Z"
   },
   {
    "duration": 380,
    "start_time": "2022-07-29T14:10:26.698Z"
   },
   {
    "duration": 325,
    "start_time": "2022-07-29T14:10:27.083Z"
   },
   {
    "duration": 413,
    "start_time": "2022-07-29T14:10:27.410Z"
   },
   {
    "duration": 290,
    "start_time": "2022-07-29T14:10:27.825Z"
   },
   {
    "duration": 386,
    "start_time": "2022-07-29T14:10:28.123Z"
   },
   {
    "duration": 33,
    "start_time": "2022-07-29T14:10:28.512Z"
   },
   {
    "duration": 173,
    "start_time": "2022-07-29T14:10:28.550Z"
   },
   {
    "duration": 170,
    "start_time": "2022-07-29T14:10:28.726Z"
   },
   {
    "duration": 4,
    "start_time": "2022-07-29T14:10:28.898Z"
   },
   {
    "duration": 10,
    "start_time": "2022-07-29T14:10:28.904Z"
   },
   {
    "duration": 335,
    "start_time": "2022-07-29T14:10:28.916Z"
   },
   {
    "duration": 394,
    "start_time": "2022-07-29T14:10:29.258Z"
   },
   {
    "duration": 209,
    "start_time": "2022-07-29T14:10:29.655Z"
   },
   {
    "duration": 212,
    "start_time": "2022-07-29T14:10:29.866Z"
   },
   {
    "duration": 5,
    "start_time": "2022-07-29T14:10:30.080Z"
   },
   {
    "duration": 303,
    "start_time": "2022-07-29T14:10:30.088Z"
   },
   {
    "duration": 262,
    "start_time": "2022-07-29T14:10:30.393Z"
   },
   {
    "duration": 29,
    "start_time": "2022-07-29T14:10:30.657Z"
   },
   {
    "duration": 17,
    "start_time": "2022-07-29T14:10:30.688Z"
   },
   {
    "duration": 62,
    "start_time": "2022-07-29T14:10:30.707Z"
   },
   {
    "duration": 26,
    "start_time": "2022-07-29T14:10:30.771Z"
   },
   {
    "duration": 13,
    "start_time": "2022-07-29T14:12:46.084Z"
   },
   {
    "duration": 11,
    "start_time": "2022-07-29T14:12:54.799Z"
   },
   {
    "duration": 46,
    "start_time": "2022-07-29T14:13:51.711Z"
   },
   {
    "duration": 26,
    "start_time": "2022-07-29T14:14:09.613Z"
   },
   {
    "duration": 8,
    "start_time": "2022-07-29T14:14:18.914Z"
   },
   {
    "duration": 25,
    "start_time": "2022-07-29T14:14:19.491Z"
   },
   {
    "duration": 61,
    "start_time": "2022-07-29T14:14:50.643Z"
   },
   {
    "duration": 10,
    "start_time": "2022-07-29T14:14:56.980Z"
   },
   {
    "duration": 5,
    "start_time": "2022-07-29T14:16:41.751Z"
   },
   {
    "duration": 5,
    "start_time": "2022-07-29T14:16:45.555Z"
   },
   {
    "duration": 14,
    "start_time": "2022-07-29T14:16:51.099Z"
   },
   {
    "duration": 10,
    "start_time": "2022-07-29T14:17:07.144Z"
   },
   {
    "duration": 16,
    "start_time": "2022-07-29T14:17:14.809Z"
   },
   {
    "duration": 38,
    "start_time": "2022-07-29T14:17:32.007Z"
   },
   {
    "duration": 1055,
    "start_time": "2022-07-29T14:17:51.350Z"
   },
   {
    "duration": 210,
    "start_time": "2022-07-29T14:17:52.407Z"
   },
   {
    "duration": 52,
    "start_time": "2022-07-29T14:17:52.618Z"
   },
   {
    "duration": 71,
    "start_time": "2022-07-29T14:17:52.672Z"
   },
   {
    "duration": 35,
    "start_time": "2022-07-29T14:17:52.748Z"
   },
   {
    "duration": 58,
    "start_time": "2022-07-29T14:17:52.786Z"
   },
   {
    "duration": 12,
    "start_time": "2022-07-29T14:17:52.847Z"
   },
   {
    "duration": 13,
    "start_time": "2022-07-29T14:17:52.861Z"
   },
   {
    "duration": 28,
    "start_time": "2022-07-29T14:17:52.876Z"
   },
   {
    "duration": 11,
    "start_time": "2022-07-29T14:17:52.906Z"
   },
   {
    "duration": 27,
    "start_time": "2022-07-29T14:17:52.918Z"
   },
   {
    "duration": 12,
    "start_time": "2022-07-29T14:17:52.947Z"
   },
   {
    "duration": 18,
    "start_time": "2022-07-29T14:17:52.961Z"
   },
   {
    "duration": 102,
    "start_time": "2022-07-29T14:17:52.984Z"
   },
   {
    "duration": 43,
    "start_time": "2022-07-29T14:17:53.087Z"
   },
   {
    "duration": 21,
    "start_time": "2022-07-29T14:17:53.132Z"
   },
   {
    "duration": 10,
    "start_time": "2022-07-29T14:17:53.155Z"
   },
   {
    "duration": 10,
    "start_time": "2022-07-29T14:17:53.167Z"
   },
   {
    "duration": 48,
    "start_time": "2022-07-29T14:17:53.179Z"
   },
   {
    "duration": 17,
    "start_time": "2022-07-29T14:17:53.228Z"
   },
   {
    "duration": 27,
    "start_time": "2022-07-29T14:17:53.248Z"
   },
   {
    "duration": 10,
    "start_time": "2022-07-29T14:17:53.276Z"
   },
   {
    "duration": 11,
    "start_time": "2022-07-29T14:17:53.288Z"
   },
   {
    "duration": 17,
    "start_time": "2022-07-29T14:17:53.301Z"
   },
   {
    "duration": 18,
    "start_time": "2022-07-29T14:17:53.320Z"
   },
   {
    "duration": 21,
    "start_time": "2022-07-29T14:17:53.339Z"
   },
   {
    "duration": 14,
    "start_time": "2022-07-29T14:17:53.361Z"
   },
   {
    "duration": 7,
    "start_time": "2022-07-29T14:17:53.377Z"
   },
   {
    "duration": 7,
    "start_time": "2022-07-29T14:17:53.385Z"
   },
   {
    "duration": 11,
    "start_time": "2022-07-29T14:17:53.393Z"
   },
   {
    "duration": 15,
    "start_time": "2022-07-29T14:17:53.406Z"
   },
   {
    "duration": 21,
    "start_time": "2022-07-29T14:17:53.427Z"
   },
   {
    "duration": 10,
    "start_time": "2022-07-29T14:17:53.450Z"
   },
   {
    "duration": 8,
    "start_time": "2022-07-29T14:17:53.462Z"
   },
   {
    "duration": 10,
    "start_time": "2022-07-29T14:17:53.472Z"
   },
   {
    "duration": 11,
    "start_time": "2022-07-29T14:17:53.484Z"
   },
   {
    "duration": 16,
    "start_time": "2022-07-29T14:17:53.497Z"
   },
   {
    "duration": 26,
    "start_time": "2022-07-29T14:17:53.515Z"
   },
   {
    "duration": 301,
    "start_time": "2022-07-29T14:17:53.543Z"
   },
   {
    "duration": 322,
    "start_time": "2022-07-29T14:17:53.846Z"
   },
   {
    "duration": 235,
    "start_time": "2022-07-29T14:17:54.172Z"
   },
   {
    "duration": 344,
    "start_time": "2022-07-29T14:17:54.409Z"
   },
   {
    "duration": 250,
    "start_time": "2022-07-29T14:17:54.755Z"
   },
   {
    "duration": 391,
    "start_time": "2022-07-29T14:17:55.007Z"
   },
   {
    "duration": 9,
    "start_time": "2022-07-29T14:17:55.400Z"
   },
   {
    "duration": 166,
    "start_time": "2022-07-29T14:17:55.411Z"
   },
   {
    "duration": 190,
    "start_time": "2022-07-29T14:17:55.580Z"
   },
   {
    "duration": 6,
    "start_time": "2022-07-29T14:17:55.772Z"
   },
   {
    "duration": 9,
    "start_time": "2022-07-29T14:17:55.779Z"
   },
   {
    "duration": 317,
    "start_time": "2022-07-29T14:17:55.790Z"
   },
   {
    "duration": 401,
    "start_time": "2022-07-29T14:17:56.110Z"
   },
   {
    "duration": 194,
    "start_time": "2022-07-29T14:17:56.513Z"
   },
   {
    "duration": 186,
    "start_time": "2022-07-29T14:17:56.709Z"
   },
   {
    "duration": 4,
    "start_time": "2022-07-29T14:17:56.897Z"
   },
   {
    "duration": 276,
    "start_time": "2022-07-29T14:17:56.903Z"
   },
   {
    "duration": 301,
    "start_time": "2022-07-29T14:17:57.181Z"
   },
   {
    "duration": 28,
    "start_time": "2022-07-29T14:17:57.484Z"
   },
   {
    "duration": 69,
    "start_time": "2022-07-29T14:17:57.528Z"
   },
   {
    "duration": 28,
    "start_time": "2022-07-29T14:17:57.599Z"
   },
   {
    "duration": 50,
    "start_time": "2022-07-29T14:18:51.928Z"
   },
   {
    "duration": 1212,
    "start_time": "2022-07-29T14:19:37.376Z"
   },
   {
    "duration": 121,
    "start_time": "2022-07-29T14:19:38.590Z"
   },
   {
    "duration": 58,
    "start_time": "2022-07-29T14:19:38.713Z"
   },
   {
    "duration": 80,
    "start_time": "2022-07-29T14:19:38.772Z"
   },
   {
    "duration": 86,
    "start_time": "2022-07-29T14:19:38.854Z"
   },
   {
    "duration": 15,
    "start_time": "2022-07-29T14:19:38.942Z"
   },
   {
    "duration": 16,
    "start_time": "2022-07-29T14:19:38.959Z"
   },
   {
    "duration": 14,
    "start_time": "2022-07-29T14:19:38.977Z"
   },
   {
    "duration": 9,
    "start_time": "2022-07-29T14:19:38.993Z"
   },
   {
    "duration": 18,
    "start_time": "2022-07-29T14:19:39.003Z"
   },
   {
    "duration": 30,
    "start_time": "2022-07-29T14:19:39.023Z"
   },
   {
    "duration": 12,
    "start_time": "2022-07-29T14:19:39.055Z"
   },
   {
    "duration": 21,
    "start_time": "2022-07-29T14:19:39.068Z"
   },
   {
    "duration": 101,
    "start_time": "2022-07-29T14:19:39.093Z"
   },
   {
    "duration": 40,
    "start_time": "2022-07-29T14:19:39.196Z"
   },
   {
    "duration": 19,
    "start_time": "2022-07-29T14:19:39.238Z"
   },
   {
    "duration": 11,
    "start_time": "2022-07-29T14:19:39.258Z"
   },
   {
    "duration": 8,
    "start_time": "2022-07-29T14:19:39.271Z"
   },
   {
    "duration": 55,
    "start_time": "2022-07-29T14:19:39.280Z"
   },
   {
    "duration": 14,
    "start_time": "2022-07-29T14:19:39.339Z"
   },
   {
    "duration": 5,
    "start_time": "2022-07-29T14:19:39.355Z"
   },
   {
    "duration": 11,
    "start_time": "2022-07-29T14:19:39.362Z"
   },
   {
    "duration": 8,
    "start_time": "2022-07-29T14:19:39.375Z"
   },
   {
    "duration": 12,
    "start_time": "2022-07-29T14:19:39.385Z"
   },
   {
    "duration": 27,
    "start_time": "2022-07-29T14:19:39.398Z"
   },
   {
    "duration": 16,
    "start_time": "2022-07-29T14:19:39.427Z"
   },
   {
    "duration": 9,
    "start_time": "2022-07-29T14:19:39.445Z"
   },
   {
    "duration": 9,
    "start_time": "2022-07-29T14:19:39.456Z"
   },
   {
    "duration": 9,
    "start_time": "2022-07-29T14:19:39.467Z"
   },
   {
    "duration": 13,
    "start_time": "2022-07-29T14:19:39.478Z"
   },
   {
    "duration": 7,
    "start_time": "2022-07-29T14:19:39.493Z"
   },
   {
    "duration": 29,
    "start_time": "2022-07-29T14:19:39.502Z"
   },
   {
    "duration": 23,
    "start_time": "2022-07-29T14:19:39.534Z"
   },
   {
    "duration": 12,
    "start_time": "2022-07-29T14:19:39.559Z"
   },
   {
    "duration": 9,
    "start_time": "2022-07-29T14:19:39.572Z"
   },
   {
    "duration": 8,
    "start_time": "2022-07-29T14:19:39.583Z"
   },
   {
    "duration": 17,
    "start_time": "2022-07-29T14:19:39.593Z"
   },
   {
    "duration": 25,
    "start_time": "2022-07-29T14:19:39.613Z"
   },
   {
    "duration": 301,
    "start_time": "2022-07-29T14:19:39.646Z"
   },
   {
    "duration": 335,
    "start_time": "2022-07-29T14:19:39.950Z"
   },
   {
    "duration": 240,
    "start_time": "2022-07-29T14:19:40.290Z"
   },
   {
    "duration": 335,
    "start_time": "2022-07-29T14:19:40.531Z"
   },
   {
    "duration": 268,
    "start_time": "2022-07-29T14:19:40.869Z"
   },
   {
    "duration": 363,
    "start_time": "2022-07-29T14:19:41.144Z"
   },
   {
    "duration": 28,
    "start_time": "2022-07-29T14:19:41.509Z"
   },
   {
    "duration": 163,
    "start_time": "2022-07-29T14:19:41.539Z"
   },
   {
    "duration": 159,
    "start_time": "2022-07-29T14:19:41.704Z"
   },
   {
    "duration": 4,
    "start_time": "2022-07-29T14:19:41.865Z"
   },
   {
    "duration": 8,
    "start_time": "2022-07-29T14:19:41.871Z"
   },
   {
    "duration": 300,
    "start_time": "2022-07-29T14:19:41.880Z"
   },
   {
    "duration": 394,
    "start_time": "2022-07-29T14:19:42.182Z"
   },
   {
    "duration": 190,
    "start_time": "2022-07-29T14:19:42.578Z"
   },
   {
    "duration": 188,
    "start_time": "2022-07-29T14:19:42.770Z"
   },
   {
    "duration": 6,
    "start_time": "2022-07-29T14:19:42.960Z"
   },
   {
    "duration": 260,
    "start_time": "2022-07-29T14:19:42.968Z"
   },
   {
    "duration": 227,
    "start_time": "2022-07-29T14:19:43.232Z"
   },
   {
    "duration": 25,
    "start_time": "2022-07-29T14:19:43.461Z"
   },
   {
    "duration": 63,
    "start_time": "2022-07-29T14:19:43.488Z"
   },
   {
    "duration": 22,
    "start_time": "2022-07-29T14:19:43.553Z"
   },
   {
    "duration": 22,
    "start_time": "2022-07-29T14:20:32.307Z"
   },
   {
    "duration": 132,
    "start_time": "2022-07-29T14:20:38.822Z"
   },
   {
    "duration": 1099,
    "start_time": "2022-07-29T14:20:48.828Z"
   },
   {
    "duration": 147,
    "start_time": "2022-07-29T14:20:49.931Z"
   },
   {
    "duration": 64,
    "start_time": "2022-07-29T14:20:50.079Z"
   },
   {
    "duration": 48,
    "start_time": "2022-07-29T14:20:50.146Z"
   },
   {
    "duration": 64,
    "start_time": "2022-07-29T14:20:50.197Z"
   },
   {
    "duration": 14,
    "start_time": "2022-07-29T14:20:50.262Z"
   },
   {
    "duration": 19,
    "start_time": "2022-07-29T14:20:50.278Z"
   },
   {
    "duration": 41,
    "start_time": "2022-07-29T14:20:50.299Z"
   },
   {
    "duration": 14,
    "start_time": "2022-07-29T14:20:50.344Z"
   },
   {
    "duration": 10,
    "start_time": "2022-07-29T14:20:50.362Z"
   },
   {
    "duration": 14,
    "start_time": "2022-07-29T14:20:50.374Z"
   },
   {
    "duration": 9,
    "start_time": "2022-07-29T14:20:50.390Z"
   },
   {
    "duration": 43,
    "start_time": "2022-07-29T14:20:50.401Z"
   },
   {
    "duration": 84,
    "start_time": "2022-07-29T14:20:50.446Z"
   },
   {
    "duration": 22,
    "start_time": "2022-07-29T14:20:50.533Z"
   },
   {
    "duration": 23,
    "start_time": "2022-07-29T14:20:50.557Z"
   },
   {
    "duration": 45,
    "start_time": "2022-07-29T14:20:50.582Z"
   },
   {
    "duration": 25,
    "start_time": "2022-07-29T14:20:50.629Z"
   },
   {
    "duration": 21,
    "start_time": "2022-07-29T14:20:50.657Z"
   },
   {
    "duration": 23,
    "start_time": "2022-07-29T14:20:50.679Z"
   },
   {
    "duration": 5,
    "start_time": "2022-07-29T14:20:50.703Z"
   },
   {
    "duration": 12,
    "start_time": "2022-07-29T14:20:50.709Z"
   },
   {
    "duration": 33,
    "start_time": "2022-07-29T14:20:50.723Z"
   },
   {
    "duration": 9,
    "start_time": "2022-07-29T14:20:50.758Z"
   },
   {
    "duration": 10,
    "start_time": "2022-07-29T14:20:50.768Z"
   },
   {
    "duration": 8,
    "start_time": "2022-07-29T14:20:50.780Z"
   },
   {
    "duration": 11,
    "start_time": "2022-07-29T14:20:50.789Z"
   },
   {
    "duration": 17,
    "start_time": "2022-07-29T14:20:50.804Z"
   },
   {
    "duration": 27,
    "start_time": "2022-07-29T14:20:50.823Z"
   },
   {
    "duration": 12,
    "start_time": "2022-07-29T14:20:50.851Z"
   },
   {
    "duration": 11,
    "start_time": "2022-07-29T14:20:50.865Z"
   },
   {
    "duration": 14,
    "start_time": "2022-07-29T14:20:50.878Z"
   },
   {
    "duration": 16,
    "start_time": "2022-07-29T14:20:50.893Z"
   },
   {
    "duration": 15,
    "start_time": "2022-07-29T14:20:50.911Z"
   },
   {
    "duration": 22,
    "start_time": "2022-07-29T14:20:50.927Z"
   },
   {
    "duration": 8,
    "start_time": "2022-07-29T14:20:50.951Z"
   },
   {
    "duration": 17,
    "start_time": "2022-07-29T14:20:50.961Z"
   },
   {
    "duration": 18,
    "start_time": "2022-07-29T14:20:50.979Z"
   },
   {
    "duration": 336,
    "start_time": "2022-07-29T14:20:50.999Z"
   },
   {
    "duration": 313,
    "start_time": "2022-07-29T14:20:51.337Z"
   },
   {
    "duration": 233,
    "start_time": "2022-07-29T14:20:51.651Z"
   },
   {
    "duration": 383,
    "start_time": "2022-07-29T14:20:51.886Z"
   },
   {
    "duration": 240,
    "start_time": "2022-07-29T14:20:52.272Z"
   },
   {
    "duration": 377,
    "start_time": "2022-07-29T14:20:52.514Z"
   },
   {
    "duration": 12,
    "start_time": "2022-07-29T14:20:52.893Z"
   },
   {
    "duration": 187,
    "start_time": "2022-07-29T14:20:52.907Z"
   },
   {
    "duration": 167,
    "start_time": "2022-07-29T14:20:53.096Z"
   },
   {
    "duration": 5,
    "start_time": "2022-07-29T14:20:53.265Z"
   },
   {
    "duration": 7,
    "start_time": "2022-07-29T14:20:53.271Z"
   },
   {
    "duration": 323,
    "start_time": "2022-07-29T14:20:53.280Z"
   },
   {
    "duration": 374,
    "start_time": "2022-07-29T14:20:53.604Z"
   },
   {
    "duration": 177,
    "start_time": "2022-07-29T14:20:53.980Z"
   },
   {
    "duration": 199,
    "start_time": "2022-07-29T14:20:54.159Z"
   },
   {
    "duration": 5,
    "start_time": "2022-07-29T14:20:54.360Z"
   },
   {
    "duration": 311,
    "start_time": "2022-07-29T14:20:54.366Z"
   },
   {
    "duration": 185,
    "start_time": "2022-07-29T14:20:54.679Z"
   },
   {
    "duration": 25,
    "start_time": "2022-07-29T14:20:54.866Z"
   },
   {
    "duration": 134,
    "start_time": "2022-07-29T14:20:54.893Z"
   },
   {
    "duration": 0,
    "start_time": "2022-07-29T14:20:55.033Z"
   },
   {
    "duration": 14,
    "start_time": "2022-07-29T14:21:03.688Z"
   },
   {
    "duration": 6,
    "start_time": "2022-07-29T14:21:40.940Z"
   },
   {
    "duration": 18,
    "start_time": "2022-07-29T14:21:55.654Z"
   },
   {
    "duration": 28,
    "start_time": "2022-07-29T14:22:17.634Z"
   },
   {
    "duration": 18,
    "start_time": "2022-07-29T14:22:24.121Z"
   },
   {
    "duration": 21,
    "start_time": "2022-07-29T14:22:59.351Z"
   },
   {
    "duration": 17,
    "start_time": "2022-07-29T14:23:04.567Z"
   },
   {
    "duration": 16,
    "start_time": "2022-07-29T14:23:09.476Z"
   },
   {
    "duration": 13,
    "start_time": "2022-07-29T14:23:15.586Z"
   },
   {
    "duration": 17,
    "start_time": "2022-07-29T14:23:41.942Z"
   },
   {
    "duration": 13,
    "start_time": "2022-07-29T14:23:48.802Z"
   },
   {
    "duration": 16,
    "start_time": "2022-07-29T14:24:11.535Z"
   },
   {
    "duration": 11,
    "start_time": "2022-07-29T14:24:45.266Z"
   },
   {
    "duration": 13,
    "start_time": "2022-07-29T14:24:52.564Z"
   },
   {
    "duration": 12,
    "start_time": "2022-07-29T14:24:52.888Z"
   },
   {
    "duration": 16,
    "start_time": "2022-07-29T14:24:59.939Z"
   },
   {
    "duration": 68,
    "start_time": "2022-07-29T14:25:06.133Z"
   },
   {
    "duration": 12,
    "start_time": "2022-07-29T14:25:09.585Z"
   },
   {
    "duration": 1085,
    "start_time": "2022-07-29T14:25:40.297Z"
   },
   {
    "duration": 127,
    "start_time": "2022-07-29T14:25:41.384Z"
   },
   {
    "duration": 45,
    "start_time": "2022-07-29T14:25:41.513Z"
   },
   {
    "duration": 82,
    "start_time": "2022-07-29T14:25:41.560Z"
   },
   {
    "duration": 36,
    "start_time": "2022-07-29T14:25:41.644Z"
   },
   {
    "duration": 13,
    "start_time": "2022-07-29T14:25:41.682Z"
   },
   {
    "duration": 32,
    "start_time": "2022-07-29T14:25:41.724Z"
   },
   {
    "duration": 19,
    "start_time": "2022-07-29T14:25:41.759Z"
   },
   {
    "duration": 6,
    "start_time": "2022-07-29T14:25:41.780Z"
   },
   {
    "duration": 8,
    "start_time": "2022-07-29T14:25:41.789Z"
   },
   {
    "duration": 14,
    "start_time": "2022-07-29T14:25:41.799Z"
   },
   {
    "duration": 29,
    "start_time": "2022-07-29T14:25:41.814Z"
   },
   {
    "duration": 15,
    "start_time": "2022-07-29T14:25:41.845Z"
   },
   {
    "duration": 83,
    "start_time": "2022-07-29T14:25:41.861Z"
   },
   {
    "duration": 15,
    "start_time": "2022-07-29T14:25:41.946Z"
   },
   {
    "duration": 16,
    "start_time": "2022-07-29T14:25:41.962Z"
   },
   {
    "duration": 49,
    "start_time": "2022-07-29T14:25:41.979Z"
   },
   {
    "duration": 10,
    "start_time": "2022-07-29T14:25:42.036Z"
   },
   {
    "duration": 6,
    "start_time": "2022-07-29T14:25:42.047Z"
   },
   {
    "duration": 11,
    "start_time": "2022-07-29T14:25:42.054Z"
   },
   {
    "duration": 7,
    "start_time": "2022-07-29T14:25:42.067Z"
   },
   {
    "duration": 10,
    "start_time": "2022-07-29T14:25:42.076Z"
   },
   {
    "duration": 13,
    "start_time": "2022-07-29T14:25:42.088Z"
   },
   {
    "duration": 37,
    "start_time": "2022-07-29T14:25:42.103Z"
   },
   {
    "duration": 6,
    "start_time": "2022-07-29T14:25:42.141Z"
   },
   {
    "duration": 9,
    "start_time": "2022-07-29T14:25:42.148Z"
   },
   {
    "duration": 12,
    "start_time": "2022-07-29T14:25:42.159Z"
   },
   {
    "duration": 13,
    "start_time": "2022-07-29T14:25:42.174Z"
   },
   {
    "duration": 9,
    "start_time": "2022-07-29T14:25:42.189Z"
   },
   {
    "duration": 9,
    "start_time": "2022-07-29T14:25:42.200Z"
   },
   {
    "duration": 26,
    "start_time": "2022-07-29T14:25:42.210Z"
   },
   {
    "duration": 8,
    "start_time": "2022-07-29T14:25:42.238Z"
   },
   {
    "duration": 9,
    "start_time": "2022-07-29T14:25:42.248Z"
   },
   {
    "duration": 8,
    "start_time": "2022-07-29T14:25:42.258Z"
   },
   {
    "duration": 5,
    "start_time": "2022-07-29T14:25:42.268Z"
   },
   {
    "duration": 6,
    "start_time": "2022-07-29T14:25:42.275Z"
   },
   {
    "duration": 14,
    "start_time": "2022-07-29T14:25:42.283Z"
   },
   {
    "duration": 16,
    "start_time": "2022-07-29T14:25:42.299Z"
   },
   {
    "duration": 295,
    "start_time": "2022-07-29T14:25:42.323Z"
   },
   {
    "duration": 527,
    "start_time": "2022-07-29T14:25:42.619Z"
   },
   {
    "duration": 488,
    "start_time": "2022-07-29T14:25:43.150Z"
   },
   {
    "duration": 495,
    "start_time": "2022-07-29T14:25:43.643Z"
   },
   {
    "duration": 621,
    "start_time": "2022-07-29T14:25:44.141Z"
   },
   {
    "duration": 415,
    "start_time": "2022-07-29T14:25:44.764Z"
   },
   {
    "duration": 12,
    "start_time": "2022-07-29T14:25:45.181Z"
   },
   {
    "duration": 182,
    "start_time": "2022-07-29T14:25:45.195Z"
   },
   {
    "duration": 197,
    "start_time": "2022-07-29T14:25:45.380Z"
   },
   {
    "duration": 5,
    "start_time": "2022-07-29T14:25:45.579Z"
   },
   {
    "duration": 8,
    "start_time": "2022-07-29T14:25:45.585Z"
   },
   {
    "duration": 294,
    "start_time": "2022-07-29T14:25:45.594Z"
   },
   {
    "duration": 375,
    "start_time": "2022-07-29T14:25:45.889Z"
   },
   {
    "duration": 179,
    "start_time": "2022-07-29T14:25:46.266Z"
   },
   {
    "duration": 190,
    "start_time": "2022-07-29T14:25:46.448Z"
   },
   {
    "duration": 5,
    "start_time": "2022-07-29T14:25:46.642Z"
   },
   {
    "duration": 256,
    "start_time": "2022-07-29T14:25:46.650Z"
   },
   {
    "duration": 193,
    "start_time": "2022-07-29T14:25:46.908Z"
   },
   {
    "duration": 48,
    "start_time": "2022-07-29T14:25:47.103Z"
   },
   {
    "duration": 16,
    "start_time": "2022-07-29T14:25:47.154Z"
   },
   {
    "duration": 14,
    "start_time": "2022-07-29T14:25:47.172Z"
   },
   {
    "duration": 55,
    "start_time": "2022-07-29T14:25:47.189Z"
   },
   {
    "duration": 1861,
    "start_time": "2022-07-29T14:32:13.382Z"
   },
   {
    "duration": 13,
    "start_time": "2022-07-29T14:32:54.426Z"
   },
   {
    "duration": 14,
    "start_time": "2022-07-29T14:33:16.331Z"
   },
   {
    "duration": 996,
    "start_time": "2022-07-29T14:33:33.375Z"
   },
   {
    "duration": 123,
    "start_time": "2022-07-29T14:33:34.373Z"
   },
   {
    "duration": 64,
    "start_time": "2022-07-29T14:33:34.498Z"
   },
   {
    "duration": 77,
    "start_time": "2022-07-29T14:33:34.564Z"
   },
   {
    "duration": 43,
    "start_time": "2022-07-29T14:33:34.643Z"
   },
   {
    "duration": 40,
    "start_time": "2022-07-29T14:33:34.688Z"
   },
   {
    "duration": 20,
    "start_time": "2022-07-29T14:33:34.731Z"
   },
   {
    "duration": 14,
    "start_time": "2022-07-29T14:33:34.753Z"
   },
   {
    "duration": 6,
    "start_time": "2022-07-29T14:33:34.768Z"
   },
   {
    "duration": 8,
    "start_time": "2022-07-29T14:33:34.776Z"
   },
   {
    "duration": 13,
    "start_time": "2022-07-29T14:33:34.786Z"
   },
   {
    "duration": 42,
    "start_time": "2022-07-29T14:33:34.801Z"
   },
   {
    "duration": 15,
    "start_time": "2022-07-29T14:33:34.845Z"
   },
   {
    "duration": 73,
    "start_time": "2022-07-29T14:33:34.862Z"
   },
   {
    "duration": 19,
    "start_time": "2022-07-29T14:33:34.937Z"
   },
   {
    "duration": 17,
    "start_time": "2022-07-29T14:33:34.957Z"
   },
   {
    "duration": 10,
    "start_time": "2022-07-29T14:33:34.975Z"
   },
   {
    "duration": 46,
    "start_time": "2022-07-29T14:33:34.987Z"
   },
   {
    "duration": 14,
    "start_time": "2022-07-29T14:33:35.036Z"
   },
   {
    "duration": 13,
    "start_time": "2022-07-29T14:33:35.051Z"
   },
   {
    "duration": 14,
    "start_time": "2022-07-29T14:33:35.066Z"
   },
   {
    "duration": 17,
    "start_time": "2022-07-29T14:33:35.082Z"
   },
   {
    "duration": 10,
    "start_time": "2022-07-29T14:33:35.101Z"
   },
   {
    "duration": 12,
    "start_time": "2022-07-29T14:33:35.112Z"
   },
   {
    "duration": 21,
    "start_time": "2022-07-29T14:33:35.126Z"
   },
   {
    "duration": 8,
    "start_time": "2022-07-29T14:33:35.148Z"
   },
   {
    "duration": 13,
    "start_time": "2022-07-29T14:33:35.157Z"
   },
   {
    "duration": 12,
    "start_time": "2022-07-29T14:33:35.174Z"
   },
   {
    "duration": 16,
    "start_time": "2022-07-29T14:33:35.188Z"
   },
   {
    "duration": 9,
    "start_time": "2022-07-29T14:33:35.206Z"
   },
   {
    "duration": 15,
    "start_time": "2022-07-29T14:33:35.223Z"
   },
   {
    "duration": 8,
    "start_time": "2022-07-29T14:33:35.240Z"
   },
   {
    "duration": 9,
    "start_time": "2022-07-29T14:33:35.250Z"
   },
   {
    "duration": 8,
    "start_time": "2022-07-29T14:33:35.261Z"
   },
   {
    "duration": 8,
    "start_time": "2022-07-29T14:33:35.271Z"
   },
   {
    "duration": 8,
    "start_time": "2022-07-29T14:33:35.281Z"
   },
   {
    "duration": 14,
    "start_time": "2022-07-29T14:33:35.291Z"
   },
   {
    "duration": 12,
    "start_time": "2022-07-29T14:33:35.306Z"
   },
   {
    "duration": 292,
    "start_time": "2022-07-29T14:33:35.327Z"
   },
   {
    "duration": 295,
    "start_time": "2022-07-29T14:33:35.623Z"
   },
   {
    "duration": 219,
    "start_time": "2022-07-29T14:33:35.923Z"
   },
   {
    "duration": 318,
    "start_time": "2022-07-29T14:33:36.144Z"
   },
   {
    "duration": 244,
    "start_time": "2022-07-29T14:33:36.463Z"
   },
   {
    "duration": 362,
    "start_time": "2022-07-29T14:33:36.709Z"
   },
   {
    "duration": 9,
    "start_time": "2022-07-29T14:33:37.073Z"
   },
   {
    "duration": 180,
    "start_time": "2022-07-29T14:33:37.084Z"
   },
   {
    "duration": 232,
    "start_time": "2022-07-29T14:33:37.266Z"
   },
   {
    "duration": 6,
    "start_time": "2022-07-29T14:33:37.501Z"
   },
   {
    "duration": 20,
    "start_time": "2022-07-29T14:33:37.510Z"
   },
   {
    "duration": 314,
    "start_time": "2022-07-29T14:33:37.532Z"
   },
   {
    "duration": 345,
    "start_time": "2022-07-29T14:33:37.848Z"
   },
   {
    "duration": 185,
    "start_time": "2022-07-29T14:33:38.195Z"
   },
   {
    "duration": 184,
    "start_time": "2022-07-29T14:33:38.382Z"
   },
   {
    "duration": 6,
    "start_time": "2022-07-29T14:33:38.569Z"
   },
   {
    "duration": 286,
    "start_time": "2022-07-29T14:33:38.576Z"
   },
   {
    "duration": 224,
    "start_time": "2022-07-29T14:33:38.864Z"
   },
   {
    "duration": 49,
    "start_time": "2022-07-29T14:33:39.090Z"
   },
   {
    "duration": 13,
    "start_time": "2022-07-29T14:33:39.145Z"
   },
   {
    "duration": 103,
    "start_time": "2022-07-29T14:33:39.160Z"
   },
   {
    "duration": 0,
    "start_time": "2022-07-29T14:33:39.265Z"
   },
   {
    "duration": 966,
    "start_time": "2022-07-29T14:34:06.918Z"
   },
   {
    "duration": 914,
    "start_time": "2022-07-29T14:34:42.403Z"
   },
   {
    "duration": 1229,
    "start_time": "2022-07-29T14:35:42.036Z"
   },
   {
    "duration": 10,
    "start_time": "2022-07-29T14:35:50.901Z"
   },
   {
    "duration": 894,
    "start_time": "2022-07-29T14:35:57.409Z"
   },
   {
    "duration": 1270,
    "start_time": "2022-07-29T14:36:21.471Z"
   },
   {
    "duration": 1138,
    "start_time": "2022-07-29T14:36:53.924Z"
   },
   {
    "duration": 1026,
    "start_time": "2022-07-29T14:37:02.272Z"
   },
   {
    "duration": 134,
    "start_time": "2022-07-29T14:37:03.299Z"
   },
   {
    "duration": 49,
    "start_time": "2022-07-29T14:37:03.435Z"
   },
   {
    "duration": 73,
    "start_time": "2022-07-29T14:37:03.486Z"
   },
   {
    "duration": 78,
    "start_time": "2022-07-29T14:37:03.561Z"
   },
   {
    "duration": 14,
    "start_time": "2022-07-29T14:37:03.641Z"
   },
   {
    "duration": 12,
    "start_time": "2022-07-29T14:37:03.657Z"
   },
   {
    "duration": 35,
    "start_time": "2022-07-29T14:37:03.671Z"
   },
   {
    "duration": 8,
    "start_time": "2022-07-29T14:37:03.708Z"
   },
   {
    "duration": 14,
    "start_time": "2022-07-29T14:37:03.719Z"
   },
   {
    "duration": 28,
    "start_time": "2022-07-29T14:37:03.738Z"
   },
   {
    "duration": 9,
    "start_time": "2022-07-29T14:37:03.767Z"
   },
   {
    "duration": 13,
    "start_time": "2022-07-29T14:37:03.778Z"
   },
   {
    "duration": 74,
    "start_time": "2022-07-29T14:37:03.793Z"
   },
   {
    "duration": 15,
    "start_time": "2022-07-29T14:37:03.868Z"
   },
   {
    "duration": 55,
    "start_time": "2022-07-29T14:37:03.886Z"
   },
   {
    "duration": 14,
    "start_time": "2022-07-29T14:37:03.943Z"
   },
   {
    "duration": 11,
    "start_time": "2022-07-29T14:37:03.959Z"
   },
   {
    "duration": 7,
    "start_time": "2022-07-29T14:37:03.972Z"
   },
   {
    "duration": 14,
    "start_time": "2022-07-29T14:37:03.981Z"
   },
   {
    "duration": 11,
    "start_time": "2022-07-29T14:37:04.026Z"
   },
   {
    "duration": 7,
    "start_time": "2022-07-29T14:37:04.045Z"
   },
   {
    "duration": 9,
    "start_time": "2022-07-29T14:37:04.054Z"
   },
   {
    "duration": 10,
    "start_time": "2022-07-29T14:37:04.064Z"
   },
   {
    "duration": 10,
    "start_time": "2022-07-29T14:37:04.075Z"
   },
   {
    "duration": 7,
    "start_time": "2022-07-29T14:37:04.087Z"
   },
   {
    "duration": 13,
    "start_time": "2022-07-29T14:37:04.095Z"
   },
   {
    "duration": 33,
    "start_time": "2022-07-29T14:37:04.128Z"
   },
   {
    "duration": 9,
    "start_time": "2022-07-29T14:37:04.162Z"
   },
   {
    "duration": 17,
    "start_time": "2022-07-29T14:37:04.173Z"
   },
   {
    "duration": 10,
    "start_time": "2022-07-29T14:37:04.192Z"
   },
   {
    "duration": 6,
    "start_time": "2022-07-29T14:37:04.203Z"
   },
   {
    "duration": 8,
    "start_time": "2022-07-29T14:37:04.211Z"
   },
   {
    "duration": 15,
    "start_time": "2022-07-29T14:37:04.220Z"
   },
   {
    "duration": 9,
    "start_time": "2022-07-29T14:37:04.236Z"
   },
   {
    "duration": 8,
    "start_time": "2022-07-29T14:37:04.247Z"
   },
   {
    "duration": 12,
    "start_time": "2022-07-29T14:37:04.256Z"
   },
   {
    "duration": 11,
    "start_time": "2022-07-29T14:37:04.270Z"
   },
   {
    "duration": 331,
    "start_time": "2022-07-29T14:37:04.283Z"
   },
   {
    "duration": 310,
    "start_time": "2022-07-29T14:37:04.617Z"
   },
   {
    "duration": 219,
    "start_time": "2022-07-29T14:37:04.933Z"
   },
   {
    "duration": 298,
    "start_time": "2022-07-29T14:37:05.155Z"
   },
   {
    "duration": 228,
    "start_time": "2022-07-29T14:37:05.455Z"
   },
   {
    "duration": 382,
    "start_time": "2022-07-29T14:37:05.684Z"
   },
   {
    "duration": 10,
    "start_time": "2022-07-29T14:37:06.068Z"
   },
   {
    "duration": 171,
    "start_time": "2022-07-29T14:37:06.079Z"
   },
   {
    "duration": 156,
    "start_time": "2022-07-29T14:37:06.252Z"
   },
   {
    "duration": 5,
    "start_time": "2022-07-29T14:37:06.410Z"
   },
   {
    "duration": 5,
    "start_time": "2022-07-29T14:37:06.424Z"
   },
   {
    "duration": 274,
    "start_time": "2022-07-29T14:37:06.431Z"
   },
   {
    "duration": 348,
    "start_time": "2022-07-29T14:37:06.707Z"
   },
   {
    "duration": 212,
    "start_time": "2022-07-29T14:37:07.057Z"
   },
   {
    "duration": 233,
    "start_time": "2022-07-29T14:37:07.270Z"
   },
   {
    "duration": 23,
    "start_time": "2022-07-29T14:37:07.504Z"
   },
   {
    "duration": 255,
    "start_time": "2022-07-29T14:37:07.531Z"
   },
   {
    "duration": 191,
    "start_time": "2022-07-29T14:37:07.788Z"
   },
   {
    "duration": 43,
    "start_time": "2022-07-29T14:37:07.982Z"
   },
   {
    "duration": 19,
    "start_time": "2022-07-29T14:37:08.027Z"
   },
   {
    "duration": 16,
    "start_time": "2022-07-29T14:37:08.048Z"
   },
   {
    "duration": 1129,
    "start_time": "2022-07-29T14:37:08.066Z"
   },
   {
    "duration": 0,
    "start_time": "2022-07-29T14:37:09.197Z"
   },
   {
    "duration": 9,
    "start_time": "2022-07-29T14:40:04.873Z"
   },
   {
    "duration": 1271,
    "start_time": "2022-07-29T14:40:11.685Z"
   },
   {
    "duration": 12,
    "start_time": "2022-07-29T14:41:09.149Z"
   },
   {
    "duration": 10,
    "start_time": "2022-07-29T14:41:19.114Z"
   },
   {
    "duration": 4,
    "start_time": "2022-07-29T14:42:25.501Z"
   },
   {
    "duration": 9,
    "start_time": "2022-07-29T14:43:07.964Z"
   },
   {
    "duration": 11,
    "start_time": "2022-07-29T14:43:17.415Z"
   },
   {
    "duration": 21,
    "start_time": "2022-07-29T14:43:29.438Z"
   },
   {
    "duration": 10,
    "start_time": "2022-07-29T14:44:21.295Z"
   },
   {
    "duration": 933,
    "start_time": "2022-07-29T14:44:33.640Z"
   },
   {
    "duration": 12,
    "start_time": "2022-07-29T14:45:08.474Z"
   },
   {
    "duration": 9,
    "start_time": "2022-07-29T14:51:01.893Z"
   },
   {
    "duration": 9,
    "start_time": "2022-07-29T14:51:05.450Z"
   },
   {
    "duration": 919,
    "start_time": "2022-07-29T14:51:34.461Z"
   },
   {
    "duration": 8,
    "start_time": "2022-07-29T14:52:08.732Z"
   },
   {
    "duration": 12,
    "start_time": "2022-07-29T14:52:20.476Z"
   },
   {
    "duration": 1111,
    "start_time": "2022-07-29T14:52:36.754Z"
   },
   {
    "duration": 123,
    "start_time": "2022-07-29T14:52:37.867Z"
   },
   {
    "duration": 54,
    "start_time": "2022-07-29T14:52:37.992Z"
   },
   {
    "duration": 41,
    "start_time": "2022-07-29T14:52:38.048Z"
   },
   {
    "duration": 67,
    "start_time": "2022-07-29T14:52:38.091Z"
   },
   {
    "duration": 13,
    "start_time": "2022-07-29T14:52:38.159Z"
   },
   {
    "duration": 18,
    "start_time": "2022-07-29T14:52:38.174Z"
   },
   {
    "duration": 41,
    "start_time": "2022-07-29T14:52:38.193Z"
   },
   {
    "duration": 8,
    "start_time": "2022-07-29T14:52:38.236Z"
   },
   {
    "duration": 8,
    "start_time": "2022-07-29T14:52:38.246Z"
   },
   {
    "duration": 11,
    "start_time": "2022-07-29T14:52:38.256Z"
   },
   {
    "duration": 9,
    "start_time": "2022-07-29T14:52:38.269Z"
   },
   {
    "duration": 18,
    "start_time": "2022-07-29T14:52:38.324Z"
   },
   {
    "duration": 101,
    "start_time": "2022-07-29T14:52:38.344Z"
   },
   {
    "duration": 15,
    "start_time": "2022-07-29T14:52:38.446Z"
   },
   {
    "duration": 16,
    "start_time": "2022-07-29T14:52:38.463Z"
   },
   {
    "duration": 53,
    "start_time": "2022-07-29T14:52:38.482Z"
   },
   {
    "duration": 12,
    "start_time": "2022-07-29T14:52:38.537Z"
   },
   {
    "duration": 9,
    "start_time": "2022-07-29T14:52:38.551Z"
   },
   {
    "duration": 25,
    "start_time": "2022-07-29T14:52:38.562Z"
   },
   {
    "duration": 5,
    "start_time": "2022-07-29T14:52:38.589Z"
   },
   {
    "duration": 32,
    "start_time": "2022-07-29T14:52:38.596Z"
   },
   {
    "duration": 17,
    "start_time": "2022-07-29T14:52:38.630Z"
   },
   {
    "duration": 10,
    "start_time": "2022-07-29T14:52:38.649Z"
   },
   {
    "duration": 13,
    "start_time": "2022-07-29T14:52:38.661Z"
   },
   {
    "duration": 9,
    "start_time": "2022-07-29T14:52:38.676Z"
   },
   {
    "duration": 10,
    "start_time": "2022-07-29T14:52:38.687Z"
   },
   {
    "duration": 8,
    "start_time": "2022-07-29T14:52:38.702Z"
   },
   {
    "duration": 10,
    "start_time": "2022-07-29T14:52:38.725Z"
   },
   {
    "duration": 11,
    "start_time": "2022-07-29T14:52:38.737Z"
   },
   {
    "duration": 7,
    "start_time": "2022-07-29T14:52:38.750Z"
   },
   {
    "duration": 6,
    "start_time": "2022-07-29T14:52:38.760Z"
   },
   {
    "duration": 11,
    "start_time": "2022-07-29T14:52:38.768Z"
   },
   {
    "duration": 10,
    "start_time": "2022-07-29T14:52:38.780Z"
   },
   {
    "duration": 12,
    "start_time": "2022-07-29T14:52:38.791Z"
   },
   {
    "duration": 33,
    "start_time": "2022-07-29T14:52:38.805Z"
   },
   {
    "duration": 21,
    "start_time": "2022-07-29T14:52:38.840Z"
   },
   {
    "duration": 23,
    "start_time": "2022-07-29T14:52:38.863Z"
   },
   {
    "duration": 293,
    "start_time": "2022-07-29T14:52:38.888Z"
   },
   {
    "duration": 285,
    "start_time": "2022-07-29T14:52:39.183Z"
   },
   {
    "duration": 211,
    "start_time": "2022-07-29T14:52:39.470Z"
   },
   {
    "duration": 376,
    "start_time": "2022-07-29T14:52:39.683Z"
   },
   {
    "duration": 475,
    "start_time": "2022-07-29T14:52:40.061Z"
   },
   {
    "duration": 524,
    "start_time": "2022-07-29T14:52:40.538Z"
   },
   {
    "duration": 62,
    "start_time": "2022-07-29T14:52:41.064Z"
   },
   {
    "duration": 302,
    "start_time": "2022-07-29T14:52:41.128Z"
   },
   {
    "duration": 324,
    "start_time": "2022-07-29T14:52:41.432Z"
   },
   {
    "duration": 5,
    "start_time": "2022-07-29T14:52:41.758Z"
   },
   {
    "duration": 8,
    "start_time": "2022-07-29T14:52:41.764Z"
   },
   {
    "duration": 352,
    "start_time": "2022-07-29T14:52:41.774Z"
   },
   {
    "duration": 353,
    "start_time": "2022-07-29T14:52:42.128Z"
   },
   {
    "duration": 164,
    "start_time": "2022-07-29T14:52:42.483Z"
   },
   {
    "duration": 197,
    "start_time": "2022-07-29T14:52:42.650Z"
   },
   {
    "duration": 4,
    "start_time": "2022-07-29T14:52:42.849Z"
   },
   {
    "duration": 271,
    "start_time": "2022-07-29T14:52:42.855Z"
   },
   {
    "duration": 157,
    "start_time": "2022-07-29T14:52:43.128Z"
   },
   {
    "duration": 21,
    "start_time": "2022-07-29T14:52:43.287Z"
   },
   {
    "duration": 10,
    "start_time": "2022-07-29T14:52:43.323Z"
   },
   {
    "duration": 8,
    "start_time": "2022-07-29T14:52:43.335Z"
   },
   {
    "duration": 26,
    "start_time": "2022-07-29T14:52:43.344Z"
   },
   {
    "duration": 29,
    "start_time": "2022-07-29T14:52:43.372Z"
   },
   {
    "duration": 28,
    "start_time": "2022-07-29T14:52:43.402Z"
   },
   {
    "duration": 7,
    "start_time": "2022-07-29T14:52:43.431Z"
   },
   {
    "duration": 108,
    "start_time": "2022-07-29T14:52:43.440Z"
   },
   {
    "duration": 0,
    "start_time": "2022-07-29T14:52:43.550Z"
   },
   {
    "duration": 12,
    "start_time": "2022-07-29T14:55:17.084Z"
   },
   {
    "duration": 23,
    "start_time": "2022-07-29T14:55:23.961Z"
   },
   {
    "duration": 4,
    "start_time": "2022-07-29T14:56:34.090Z"
   },
   {
    "duration": 1020,
    "start_time": "2022-07-29T14:57:09.913Z"
   },
   {
    "duration": 129,
    "start_time": "2022-07-29T14:57:10.934Z"
   },
   {
    "duration": 44,
    "start_time": "2022-07-29T14:57:11.064Z"
   },
   {
    "duration": 41,
    "start_time": "2022-07-29T14:57:11.110Z"
   },
   {
    "duration": 31,
    "start_time": "2022-07-29T14:57:11.152Z"
   },
   {
    "duration": 13,
    "start_time": "2022-07-29T14:57:11.223Z"
   },
   {
    "duration": 14,
    "start_time": "2022-07-29T14:57:11.238Z"
   },
   {
    "duration": 13,
    "start_time": "2022-07-29T14:57:11.254Z"
   },
   {
    "duration": 7,
    "start_time": "2022-07-29T14:57:11.268Z"
   },
   {
    "duration": 9,
    "start_time": "2022-07-29T14:57:11.277Z"
   },
   {
    "duration": 12,
    "start_time": "2022-07-29T14:57:11.287Z"
   },
   {
    "duration": 10,
    "start_time": "2022-07-29T14:57:11.324Z"
   },
   {
    "duration": 16,
    "start_time": "2022-07-29T14:57:11.335Z"
   },
   {
    "duration": 87,
    "start_time": "2022-07-29T14:57:11.353Z"
   },
   {
    "duration": 13,
    "start_time": "2022-07-29T14:57:11.442Z"
   },
   {
    "duration": 14,
    "start_time": "2022-07-29T14:57:11.457Z"
   },
   {
    "duration": 9,
    "start_time": "2022-07-29T14:57:11.473Z"
   },
   {
    "duration": 45,
    "start_time": "2022-07-29T14:57:11.484Z"
   },
   {
    "duration": 8,
    "start_time": "2022-07-29T14:57:11.531Z"
   },
   {
    "duration": 15,
    "start_time": "2022-07-29T14:57:11.541Z"
   },
   {
    "duration": 7,
    "start_time": "2022-07-29T14:57:11.558Z"
   },
   {
    "duration": 11,
    "start_time": "2022-07-29T14:57:11.566Z"
   },
   {
    "duration": 8,
    "start_time": "2022-07-29T14:57:11.578Z"
   },
   {
    "duration": 8,
    "start_time": "2022-07-29T14:57:11.587Z"
   },
   {
    "duration": 27,
    "start_time": "2022-07-29T14:57:11.597Z"
   },
   {
    "duration": 4,
    "start_time": "2022-07-29T14:57:11.625Z"
   },
   {
    "duration": 10,
    "start_time": "2022-07-29T14:57:11.631Z"
   },
   {
    "duration": 7,
    "start_time": "2022-07-29T14:57:11.645Z"
   },
   {
    "duration": 10,
    "start_time": "2022-07-29T14:57:11.654Z"
   },
   {
    "duration": 8,
    "start_time": "2022-07-29T14:57:11.666Z"
   },
   {
    "duration": 10,
    "start_time": "2022-07-29T14:57:11.676Z"
   },
   {
    "duration": 7,
    "start_time": "2022-07-29T14:57:11.688Z"
   },
   {
    "duration": 27,
    "start_time": "2022-07-29T14:57:11.697Z"
   },
   {
    "duration": 4,
    "start_time": "2022-07-29T14:57:11.726Z"
   },
   {
    "duration": 8,
    "start_time": "2022-07-29T14:57:11.731Z"
   },
   {
    "duration": 7,
    "start_time": "2022-07-29T14:57:11.741Z"
   },
   {
    "duration": 18,
    "start_time": "2022-07-29T14:57:11.750Z"
   },
   {
    "duration": 15,
    "start_time": "2022-07-29T14:57:11.770Z"
   },
   {
    "duration": 293,
    "start_time": "2022-07-29T14:57:11.787Z"
   },
   {
    "duration": 296,
    "start_time": "2022-07-29T14:57:12.082Z"
   },
   {
    "duration": 205,
    "start_time": "2022-07-29T14:57:12.380Z"
   },
   {
    "duration": 324,
    "start_time": "2022-07-29T14:57:12.587Z"
   },
   {
    "duration": 230,
    "start_time": "2022-07-29T14:57:12.913Z"
   },
   {
    "duration": 325,
    "start_time": "2022-07-29T14:57:13.145Z"
   },
   {
    "duration": 11,
    "start_time": "2022-07-29T14:57:13.471Z"
   },
   {
    "duration": 159,
    "start_time": "2022-07-29T14:57:13.484Z"
   },
   {
    "duration": 155,
    "start_time": "2022-07-29T14:57:13.645Z"
   },
   {
    "duration": 4,
    "start_time": "2022-07-29T14:57:13.802Z"
   },
   {
    "duration": 18,
    "start_time": "2022-07-29T14:57:13.808Z"
   },
   {
    "duration": 273,
    "start_time": "2022-07-29T14:57:13.828Z"
   },
   {
    "duration": 333,
    "start_time": "2022-07-29T14:57:14.103Z"
   },
   {
    "duration": 171,
    "start_time": "2022-07-29T14:57:14.437Z"
   },
   {
    "duration": 164,
    "start_time": "2022-07-29T14:57:14.610Z"
   },
   {
    "duration": 5,
    "start_time": "2022-07-29T14:57:14.776Z"
   },
   {
    "duration": 243,
    "start_time": "2022-07-29T14:57:14.783Z"
   },
   {
    "duration": 167,
    "start_time": "2022-07-29T14:57:15.028Z"
   },
   {
    "duration": 30,
    "start_time": "2022-07-29T14:57:15.197Z"
   },
   {
    "duration": 10,
    "start_time": "2022-07-29T14:57:15.229Z"
   },
   {
    "duration": 9,
    "start_time": "2022-07-29T14:57:15.240Z"
   },
   {
    "duration": 8,
    "start_time": "2022-07-29T14:57:15.251Z"
   },
   {
    "duration": 25,
    "start_time": "2022-07-29T14:57:15.261Z"
   },
   {
    "duration": 46,
    "start_time": "2022-07-29T14:57:15.288Z"
   },
   {
    "duration": 18,
    "start_time": "2022-07-29T14:57:15.336Z"
   },
   {
    "duration": 93,
    "start_time": "2022-07-29T14:57:48.589Z"
   },
   {
    "duration": 893,
    "start_time": "2022-07-29T14:57:57.455Z"
   },
   {
    "duration": 13,
    "start_time": "2022-07-29T14:58:22.464Z"
   },
   {
    "duration": 11,
    "start_time": "2022-07-29T14:59:37.355Z"
   },
   {
    "duration": 20,
    "start_time": "2022-07-29T15:00:07.227Z"
   },
   {
    "duration": 15,
    "start_time": "2022-07-29T15:00:15.864Z"
   },
   {
    "duration": 14,
    "start_time": "2022-07-29T15:00:19.551Z"
   },
   {
    "duration": 1071,
    "start_time": "2022-07-29T15:02:43.105Z"
   },
   {
    "duration": 124,
    "start_time": "2022-07-29T15:02:44.177Z"
   },
   {
    "duration": 45,
    "start_time": "2022-07-29T15:02:44.302Z"
   },
   {
    "duration": 36,
    "start_time": "2022-07-29T15:02:44.349Z"
   },
   {
    "duration": 64,
    "start_time": "2022-07-29T15:02:44.386Z"
   },
   {
    "duration": 13,
    "start_time": "2022-07-29T15:02:44.452Z"
   },
   {
    "duration": 11,
    "start_time": "2022-07-29T15:02:44.467Z"
   },
   {
    "duration": 44,
    "start_time": "2022-07-29T15:02:44.480Z"
   },
   {
    "duration": 4,
    "start_time": "2022-07-29T15:02:44.526Z"
   },
   {
    "duration": 13,
    "start_time": "2022-07-29T15:02:44.531Z"
   },
   {
    "duration": 17,
    "start_time": "2022-07-29T15:02:44.545Z"
   },
   {
    "duration": 11,
    "start_time": "2022-07-29T15:02:44.564Z"
   },
   {
    "duration": 51,
    "start_time": "2022-07-29T15:02:44.579Z"
   },
   {
    "duration": 56,
    "start_time": "2022-07-29T15:02:44.632Z"
   },
   {
    "duration": 49,
    "start_time": "2022-07-29T15:02:44.690Z"
   },
   {
    "duration": 18,
    "start_time": "2022-07-29T15:02:44.740Z"
   },
   {
    "duration": 11,
    "start_time": "2022-07-29T15:02:44.760Z"
   },
   {
    "duration": 53,
    "start_time": "2022-07-29T15:02:44.773Z"
   },
   {
    "duration": 5,
    "start_time": "2022-07-29T15:02:44.828Z"
   },
   {
    "duration": 14,
    "start_time": "2022-07-29T15:02:44.835Z"
   },
   {
    "duration": 4,
    "start_time": "2022-07-29T15:02:44.850Z"
   },
   {
    "duration": 9,
    "start_time": "2022-07-29T15:02:44.855Z"
   },
   {
    "duration": 8,
    "start_time": "2022-07-29T15:02:44.865Z"
   },
   {
    "duration": 11,
    "start_time": "2022-07-29T15:02:44.874Z"
   },
   {
    "duration": 9,
    "start_time": "2022-07-29T15:02:44.887Z"
   },
   {
    "duration": 28,
    "start_time": "2022-07-29T15:02:44.897Z"
   },
   {
    "duration": 19,
    "start_time": "2022-07-29T15:02:44.926Z"
   },
   {
    "duration": 11,
    "start_time": "2022-07-29T15:02:44.947Z"
   },
   {
    "duration": 10,
    "start_time": "2022-07-29T15:02:44.959Z"
   },
   {
    "duration": 8,
    "start_time": "2022-07-29T15:02:44.971Z"
   },
   {
    "duration": 13,
    "start_time": "2022-07-29T15:02:44.981Z"
   },
   {
    "duration": 9,
    "start_time": "2022-07-29T15:02:44.996Z"
   },
   {
    "duration": 23,
    "start_time": "2022-07-29T15:02:45.007Z"
   },
   {
    "duration": 8,
    "start_time": "2022-07-29T15:02:45.031Z"
   },
   {
    "duration": 7,
    "start_time": "2022-07-29T15:02:45.041Z"
   },
   {
    "duration": 8,
    "start_time": "2022-07-29T15:02:45.050Z"
   },
   {
    "duration": 16,
    "start_time": "2022-07-29T15:02:45.060Z"
   },
   {
    "duration": 14,
    "start_time": "2022-07-29T15:02:45.078Z"
   },
   {
    "duration": 295,
    "start_time": "2022-07-29T15:02:45.094Z"
   },
   {
    "duration": 297,
    "start_time": "2022-07-29T15:02:45.394Z"
   },
   {
    "duration": 209,
    "start_time": "2022-07-29T15:02:45.693Z"
   },
   {
    "duration": 325,
    "start_time": "2022-07-29T15:02:45.904Z"
   },
   {
    "duration": 225,
    "start_time": "2022-07-29T15:02:46.231Z"
   },
   {
    "duration": 306,
    "start_time": "2022-07-29T15:02:46.458Z"
   },
   {
    "duration": 9,
    "start_time": "2022-07-29T15:02:46.766Z"
   },
   {
    "duration": 150,
    "start_time": "2022-07-29T15:02:46.776Z"
   },
   {
    "duration": 140,
    "start_time": "2022-07-29T15:02:46.927Z"
   },
   {
    "duration": 4,
    "start_time": "2022-07-29T15:02:47.069Z"
   },
   {
    "duration": 11,
    "start_time": "2022-07-29T15:02:47.075Z"
   },
   {
    "duration": 348,
    "start_time": "2022-07-29T15:02:47.088Z"
   },
   {
    "duration": 314,
    "start_time": "2022-07-29T15:02:47.438Z"
   },
   {
    "duration": 159,
    "start_time": "2022-07-29T15:02:47.754Z"
   },
   {
    "duration": 158,
    "start_time": "2022-07-29T15:02:47.914Z"
   },
   {
    "duration": 4,
    "start_time": "2022-07-29T15:02:48.074Z"
   },
   {
    "duration": 234,
    "start_time": "2022-07-29T15:02:48.080Z"
   },
   {
    "duration": 172,
    "start_time": "2022-07-29T15:02:48.315Z"
   },
   {
    "duration": 23,
    "start_time": "2022-07-29T15:02:48.489Z"
   },
   {
    "duration": 20,
    "start_time": "2022-07-29T15:02:48.514Z"
   },
   {
    "duration": 9,
    "start_time": "2022-07-29T15:02:48.536Z"
   },
   {
    "duration": 17,
    "start_time": "2022-07-29T15:02:48.546Z"
   },
   {
    "duration": 26,
    "start_time": "2022-07-29T15:02:48.564Z"
   },
   {
    "duration": 43,
    "start_time": "2022-07-29T15:02:48.592Z"
   },
   {
    "duration": 13,
    "start_time": "2022-07-29T15:02:48.637Z"
   },
   {
    "duration": 13,
    "start_time": "2022-07-29T15:02:48.652Z"
   },
   {
    "duration": 976,
    "start_time": "2022-07-29T21:27:44.401Z"
   },
   {
    "duration": 121,
    "start_time": "2022-07-29T21:27:45.379Z"
   },
   {
    "duration": 42,
    "start_time": "2022-07-29T21:27:45.501Z"
   },
   {
    "duration": 35,
    "start_time": "2022-07-29T21:27:45.544Z"
   },
   {
    "duration": 66,
    "start_time": "2022-07-29T21:27:45.580Z"
   },
   {
    "duration": 12,
    "start_time": "2022-07-29T21:27:45.647Z"
   },
   {
    "duration": 12,
    "start_time": "2022-07-29T21:27:45.660Z"
   },
   {
    "duration": 9,
    "start_time": "2022-07-29T21:27:45.673Z"
   },
   {
    "duration": 4,
    "start_time": "2022-07-29T21:27:45.684Z"
   },
   {
    "duration": 6,
    "start_time": "2022-07-29T21:27:45.690Z"
   },
   {
    "duration": 38,
    "start_time": "2022-07-29T21:27:45.698Z"
   },
   {
    "duration": 9,
    "start_time": "2022-07-29T21:27:45.737Z"
   },
   {
    "duration": 13,
    "start_time": "2022-07-29T21:27:45.747Z"
   },
   {
    "duration": 81,
    "start_time": "2022-07-29T21:27:45.761Z"
   },
   {
    "duration": 12,
    "start_time": "2022-07-29T21:27:45.843Z"
   },
   {
    "duration": 14,
    "start_time": "2022-07-29T21:27:45.856Z"
   },
   {
    "duration": 9,
    "start_time": "2022-07-29T21:27:45.871Z"
   },
   {
    "duration": 49,
    "start_time": "2022-07-29T21:27:45.881Z"
   },
   {
    "duration": 5,
    "start_time": "2022-07-29T21:27:45.932Z"
   },
   {
    "duration": 9,
    "start_time": "2022-07-29T21:27:45.939Z"
   },
   {
    "duration": 3,
    "start_time": "2022-07-29T21:27:45.950Z"
   },
   {
    "duration": 6,
    "start_time": "2022-07-29T21:27:45.954Z"
   },
   {
    "duration": 6,
    "start_time": "2022-07-29T21:27:45.962Z"
   },
   {
    "duration": 7,
    "start_time": "2022-07-29T21:27:45.969Z"
   },
   {
    "duration": 7,
    "start_time": "2022-07-29T21:27:45.977Z"
   },
   {
    "duration": 6,
    "start_time": "2022-07-29T21:27:45.985Z"
   },
   {
    "duration": 39,
    "start_time": "2022-07-29T21:27:45.992Z"
   },
   {
    "duration": 6,
    "start_time": "2022-07-29T21:27:46.034Z"
   },
   {
    "duration": 8,
    "start_time": "2022-07-29T21:27:46.042Z"
   },
   {
    "duration": 7,
    "start_time": "2022-07-29T21:27:46.051Z"
   },
   {
    "duration": 6,
    "start_time": "2022-07-29T21:27:46.059Z"
   },
   {
    "duration": 6,
    "start_time": "2022-07-29T21:27:46.066Z"
   },
   {
    "duration": 7,
    "start_time": "2022-07-29T21:27:46.073Z"
   },
   {
    "duration": 5,
    "start_time": "2022-07-29T21:27:46.082Z"
   },
   {
    "duration": 5,
    "start_time": "2022-07-29T21:27:46.088Z"
   },
   {
    "duration": 6,
    "start_time": "2022-07-29T21:27:46.094Z"
   },
   {
    "duration": 37,
    "start_time": "2022-07-29T21:27:46.101Z"
   },
   {
    "duration": 11,
    "start_time": "2022-07-29T21:27:46.139Z"
   },
   {
    "duration": 255,
    "start_time": "2022-07-29T21:27:46.151Z"
   },
   {
    "duration": 256,
    "start_time": "2022-07-29T21:27:46.407Z"
   },
   {
    "duration": 183,
    "start_time": "2022-07-29T21:27:46.664Z"
   },
   {
    "duration": 284,
    "start_time": "2022-07-29T21:27:46.849Z"
   },
   {
    "duration": 204,
    "start_time": "2022-07-29T21:27:47.135Z"
   },
   {
    "duration": 338,
    "start_time": "2022-07-29T21:27:47.341Z"
   },
   {
    "duration": 10,
    "start_time": "2022-07-29T21:27:47.681Z"
   },
   {
    "duration": 162,
    "start_time": "2022-07-29T21:27:47.692Z"
   },
   {
    "duration": 131,
    "start_time": "2022-07-29T21:27:47.855Z"
   },
   {
    "duration": 4,
    "start_time": "2022-07-29T21:27:47.987Z"
   },
   {
    "duration": 5,
    "start_time": "2022-07-29T21:27:47.992Z"
   },
   {
    "duration": 249,
    "start_time": "2022-07-29T21:27:47.998Z"
   },
   {
    "duration": 292,
    "start_time": "2022-07-29T21:27:48.249Z"
   },
   {
    "duration": 147,
    "start_time": "2022-07-29T21:27:48.542Z"
   },
   {
    "duration": 147,
    "start_time": "2022-07-29T21:27:48.691Z"
   },
   {
    "duration": 4,
    "start_time": "2022-07-29T21:27:48.840Z"
   },
   {
    "duration": 214,
    "start_time": "2022-07-29T21:27:48.845Z"
   },
   {
    "duration": 171,
    "start_time": "2022-07-29T21:27:49.061Z"
   },
   {
    "duration": 20,
    "start_time": "2022-07-29T21:27:49.234Z"
   },
   {
    "duration": 10,
    "start_time": "2022-07-29T21:27:49.256Z"
   },
   {
    "duration": 8,
    "start_time": "2022-07-29T21:27:49.267Z"
   },
   {
    "duration": 7,
    "start_time": "2022-07-29T21:27:49.277Z"
   },
   {
    "duration": 22,
    "start_time": "2022-07-29T21:27:49.285Z"
   },
   {
    "duration": 19,
    "start_time": "2022-07-29T21:27:49.331Z"
   },
   {
    "duration": 12,
    "start_time": "2022-07-29T21:27:49.352Z"
   },
   {
    "duration": 11,
    "start_time": "2022-07-29T21:27:49.366Z"
   },
   {
    "duration": 81,
    "start_time": "2022-07-30T12:20:36.533Z"
   },
   {
    "duration": 49,
    "start_time": "2022-07-30T12:20:49.850Z"
   },
   {
    "duration": 7,
    "start_time": "2022-07-30T12:21:18.943Z"
   },
   {
    "duration": 1290,
    "start_time": "2022-07-30T12:21:34.862Z"
   },
   {
    "duration": 249,
    "start_time": "2022-07-30T12:21:36.154Z"
   },
   {
    "duration": 53,
    "start_time": "2022-07-30T12:21:36.405Z"
   },
   {
    "duration": 59,
    "start_time": "2022-07-30T12:21:36.460Z"
   },
   {
    "duration": 35,
    "start_time": "2022-07-30T12:21:36.521Z"
   },
   {
    "duration": 15,
    "start_time": "2022-07-30T12:21:36.558Z"
   },
   {
    "duration": 16,
    "start_time": "2022-07-30T12:21:36.575Z"
   },
   {
    "duration": 25,
    "start_time": "2022-07-30T12:21:36.593Z"
   },
   {
    "duration": 6,
    "start_time": "2022-07-30T12:21:36.620Z"
   },
   {
    "duration": 7,
    "start_time": "2022-07-30T12:21:36.628Z"
   },
   {
    "duration": 12,
    "start_time": "2022-07-30T12:21:36.637Z"
   },
   {
    "duration": 10,
    "start_time": "2022-07-30T12:21:36.651Z"
   },
   {
    "duration": 23,
    "start_time": "2022-07-30T12:21:36.663Z"
   },
   {
    "duration": 73,
    "start_time": "2022-07-30T12:21:36.688Z"
   },
   {
    "duration": 16,
    "start_time": "2022-07-30T12:21:36.762Z"
   },
   {
    "duration": 52,
    "start_time": "2022-07-30T12:21:36.779Z"
   },
   {
    "duration": 10,
    "start_time": "2022-07-30T12:21:36.833Z"
   },
   {
    "duration": 11,
    "start_time": "2022-07-30T12:21:36.845Z"
   },
   {
    "duration": 5,
    "start_time": "2022-07-30T12:21:36.911Z"
   },
   {
    "duration": 12,
    "start_time": "2022-07-30T12:21:36.918Z"
   },
   {
    "duration": 6,
    "start_time": "2022-07-30T12:21:36.932Z"
   },
   {
    "duration": 8,
    "start_time": "2022-07-30T12:21:36.939Z"
   },
   {
    "duration": 7,
    "start_time": "2022-07-30T12:21:36.949Z"
   },
   {
    "duration": 8,
    "start_time": "2022-07-30T12:21:36.957Z"
   },
   {
    "duration": 11,
    "start_time": "2022-07-30T12:21:36.967Z"
   },
   {
    "duration": 5,
    "start_time": "2022-07-30T12:21:36.979Z"
   },
   {
    "duration": 13,
    "start_time": "2022-07-30T12:21:37.010Z"
   },
   {
    "duration": 7,
    "start_time": "2022-07-30T12:21:37.027Z"
   },
   {
    "duration": 10,
    "start_time": "2022-07-30T12:21:37.036Z"
   },
   {
    "duration": 12,
    "start_time": "2022-07-30T12:21:37.047Z"
   },
   {
    "duration": 10,
    "start_time": "2022-07-30T12:21:37.109Z"
   },
   {
    "duration": 6,
    "start_time": "2022-07-30T12:21:37.121Z"
   },
   {
    "duration": 9,
    "start_time": "2022-07-30T12:21:37.128Z"
   },
   {
    "duration": 5,
    "start_time": "2022-07-30T12:21:37.139Z"
   },
   {
    "duration": 6,
    "start_time": "2022-07-30T12:21:37.146Z"
   },
   {
    "duration": 6,
    "start_time": "2022-07-30T12:21:37.154Z"
   },
   {
    "duration": 156,
    "start_time": "2022-07-30T12:21:37.210Z"
   },
   {
    "duration": 0,
    "start_time": "2022-07-30T12:21:37.368Z"
   },
   {
    "duration": 0,
    "start_time": "2022-07-30T12:21:37.411Z"
   },
   {
    "duration": 0,
    "start_time": "2022-07-30T12:21:37.412Z"
   },
   {
    "duration": 0,
    "start_time": "2022-07-30T12:21:37.413Z"
   },
   {
    "duration": 0,
    "start_time": "2022-07-30T12:21:37.415Z"
   },
   {
    "duration": 0,
    "start_time": "2022-07-30T12:21:37.416Z"
   },
   {
    "duration": 0,
    "start_time": "2022-07-30T12:21:37.417Z"
   },
   {
    "duration": 0,
    "start_time": "2022-07-30T12:21:37.418Z"
   },
   {
    "duration": 0,
    "start_time": "2022-07-30T12:21:37.419Z"
   },
   {
    "duration": 0,
    "start_time": "2022-07-30T12:21:37.420Z"
   },
   {
    "duration": 0,
    "start_time": "2022-07-30T12:21:37.421Z"
   },
   {
    "duration": 0,
    "start_time": "2022-07-30T12:21:37.423Z"
   },
   {
    "duration": 0,
    "start_time": "2022-07-30T12:21:37.424Z"
   },
   {
    "duration": 0,
    "start_time": "2022-07-30T12:21:37.425Z"
   },
   {
    "duration": 0,
    "start_time": "2022-07-30T12:21:37.426Z"
   },
   {
    "duration": 0,
    "start_time": "2022-07-30T12:21:37.427Z"
   },
   {
    "duration": 0,
    "start_time": "2022-07-30T12:21:37.428Z"
   },
   {
    "duration": 0,
    "start_time": "2022-07-30T12:21:37.429Z"
   },
   {
    "duration": 0,
    "start_time": "2022-07-30T12:21:37.430Z"
   },
   {
    "duration": 0,
    "start_time": "2022-07-30T12:21:37.431Z"
   },
   {
    "duration": 0,
    "start_time": "2022-07-30T12:21:37.432Z"
   },
   {
    "duration": 0,
    "start_time": "2022-07-30T12:21:37.433Z"
   },
   {
    "duration": 0,
    "start_time": "2022-07-30T12:21:37.435Z"
   },
   {
    "duration": 0,
    "start_time": "2022-07-30T12:21:37.436Z"
   },
   {
    "duration": 0,
    "start_time": "2022-07-30T12:21:37.437Z"
   },
   {
    "duration": 0,
    "start_time": "2022-07-30T12:21:37.438Z"
   },
   {
    "duration": 0,
    "start_time": "2022-07-30T12:21:37.439Z"
   },
   {
    "duration": 3,
    "start_time": "2022-07-30T12:21:43.591Z"
   },
   {
    "duration": 76,
    "start_time": "2022-07-30T12:21:43.597Z"
   },
   {
    "duration": 44,
    "start_time": "2022-07-30T12:21:43.675Z"
   },
   {
    "duration": 44,
    "start_time": "2022-07-30T12:21:43.721Z"
   },
   {
    "duration": 72,
    "start_time": "2022-07-30T12:21:43.767Z"
   },
   {
    "duration": 14,
    "start_time": "2022-07-30T12:21:43.840Z"
   },
   {
    "duration": 24,
    "start_time": "2022-07-30T12:21:43.856Z"
   },
   {
    "duration": 35,
    "start_time": "2022-07-30T12:21:43.882Z"
   },
   {
    "duration": 4,
    "start_time": "2022-07-30T12:21:43.920Z"
   },
   {
    "duration": 30,
    "start_time": "2022-07-30T12:21:43.925Z"
   },
   {
    "duration": 32,
    "start_time": "2022-07-30T12:21:43.957Z"
   },
   {
    "duration": 10,
    "start_time": "2022-07-30T12:21:43.991Z"
   },
   {
    "duration": 28,
    "start_time": "2022-07-30T12:21:44.002Z"
   },
   {
    "duration": 84,
    "start_time": "2022-07-30T12:21:44.032Z"
   },
   {
    "duration": 16,
    "start_time": "2022-07-30T12:21:44.118Z"
   },
   {
    "duration": 17,
    "start_time": "2022-07-30T12:21:44.136Z"
   },
   {
    "duration": 11,
    "start_time": "2022-07-30T12:21:44.155Z"
   },
   {
    "duration": 48,
    "start_time": "2022-07-30T12:21:44.167Z"
   },
   {
    "duration": 6,
    "start_time": "2022-07-30T12:21:44.216Z"
   },
   {
    "duration": 14,
    "start_time": "2022-07-30T12:21:44.224Z"
   },
   {
    "duration": 8,
    "start_time": "2022-07-30T12:21:44.240Z"
   },
   {
    "duration": 12,
    "start_time": "2022-07-30T12:21:44.249Z"
   },
   {
    "duration": 11,
    "start_time": "2022-07-30T12:21:44.263Z"
   },
   {
    "duration": 36,
    "start_time": "2022-07-30T12:21:44.278Z"
   },
   {
    "duration": 8,
    "start_time": "2022-07-30T12:21:44.315Z"
   },
   {
    "duration": 6,
    "start_time": "2022-07-30T12:21:44.324Z"
   },
   {
    "duration": 8,
    "start_time": "2022-07-30T12:21:44.332Z"
   },
   {
    "duration": 8,
    "start_time": "2022-07-30T12:21:44.342Z"
   },
   {
    "duration": 10,
    "start_time": "2022-07-30T12:21:44.351Z"
   },
   {
    "duration": 9,
    "start_time": "2022-07-30T12:21:44.363Z"
   },
   {
    "duration": 38,
    "start_time": "2022-07-30T12:21:44.373Z"
   },
   {
    "duration": 9,
    "start_time": "2022-07-30T12:21:44.413Z"
   },
   {
    "duration": 9,
    "start_time": "2022-07-30T12:21:44.424Z"
   },
   {
    "duration": 7,
    "start_time": "2022-07-30T12:21:44.435Z"
   },
   {
    "duration": 6,
    "start_time": "2022-07-30T12:21:44.443Z"
   },
   {
    "duration": 11,
    "start_time": "2022-07-30T12:21:44.451Z"
   },
   {
    "duration": 20,
    "start_time": "2022-07-30T12:21:44.464Z"
   },
   {
    "duration": 0,
    "start_time": "2022-07-30T12:21:44.485Z"
   },
   {
    "duration": 0,
    "start_time": "2022-07-30T12:21:44.487Z"
   },
   {
    "duration": 0,
    "start_time": "2022-07-30T12:21:44.489Z"
   },
   {
    "duration": 0,
    "start_time": "2022-07-30T12:21:44.490Z"
   },
   {
    "duration": 0,
    "start_time": "2022-07-30T12:21:44.491Z"
   },
   {
    "duration": 0,
    "start_time": "2022-07-30T12:21:44.492Z"
   },
   {
    "duration": 0,
    "start_time": "2022-07-30T12:21:44.493Z"
   },
   {
    "duration": 0,
    "start_time": "2022-07-30T12:21:44.494Z"
   },
   {
    "duration": 0,
    "start_time": "2022-07-30T12:21:44.494Z"
   },
   {
    "duration": 0,
    "start_time": "2022-07-30T12:21:44.495Z"
   },
   {
    "duration": 1,
    "start_time": "2022-07-30T12:21:44.510Z"
   },
   {
    "duration": 0,
    "start_time": "2022-07-30T12:21:44.512Z"
   },
   {
    "duration": 0,
    "start_time": "2022-07-30T12:21:44.513Z"
   },
   {
    "duration": 0,
    "start_time": "2022-07-30T12:21:44.515Z"
   },
   {
    "duration": 0,
    "start_time": "2022-07-30T12:21:44.515Z"
   },
   {
    "duration": 0,
    "start_time": "2022-07-30T12:21:44.517Z"
   },
   {
    "duration": 0,
    "start_time": "2022-07-30T12:21:44.518Z"
   },
   {
    "duration": 0,
    "start_time": "2022-07-30T12:21:44.519Z"
   },
   {
    "duration": 0,
    "start_time": "2022-07-30T12:21:44.520Z"
   },
   {
    "duration": 0,
    "start_time": "2022-07-30T12:21:44.521Z"
   },
   {
    "duration": 0,
    "start_time": "2022-07-30T12:21:44.522Z"
   },
   {
    "duration": 0,
    "start_time": "2022-07-30T12:21:44.523Z"
   },
   {
    "duration": 0,
    "start_time": "2022-07-30T12:21:44.525Z"
   },
   {
    "duration": 0,
    "start_time": "2022-07-30T12:21:44.525Z"
   },
   {
    "duration": 0,
    "start_time": "2022-07-30T12:21:44.526Z"
   },
   {
    "duration": 0,
    "start_time": "2022-07-30T12:21:44.527Z"
   },
   {
    "duration": 0,
    "start_time": "2022-07-30T12:21:44.528Z"
   },
   {
    "duration": 13,
    "start_time": "2022-07-30T12:22:08.539Z"
   },
   {
    "duration": 69,
    "start_time": "2022-07-30T12:22:14.442Z"
   },
   {
    "duration": 4,
    "start_time": "2022-07-30T12:22:24.731Z"
   },
   {
    "duration": 76,
    "start_time": "2022-07-30T12:22:27.002Z"
   },
   {
    "duration": 11,
    "start_time": "2022-07-30T12:22:31.495Z"
   },
   {
    "duration": 6,
    "start_time": "2022-07-30T12:22:39.190Z"
   },
   {
    "duration": 7,
    "start_time": "2022-07-30T12:22:42.723Z"
   },
   {
    "duration": 13,
    "start_time": "2022-07-30T12:22:55.822Z"
   },
   {
    "duration": 12,
    "start_time": "2022-07-30T12:23:03.112Z"
   },
   {
    "duration": 14,
    "start_time": "2022-07-30T12:23:12.767Z"
   },
   {
    "duration": 11,
    "start_time": "2022-07-30T12:23:19.539Z"
   },
   {
    "duration": 6,
    "start_time": "2022-07-30T12:23:44.001Z"
   },
   {
    "duration": 6,
    "start_time": "2022-07-30T12:23:49.192Z"
   },
   {
    "duration": 14,
    "start_time": "2022-07-30T12:24:30.034Z"
   },
   {
    "duration": 81,
    "start_time": "2022-07-30T12:24:53.669Z"
   },
   {
    "duration": 9,
    "start_time": "2022-07-30T12:25:07.973Z"
   },
   {
    "duration": 8,
    "start_time": "2022-07-30T12:25:16.554Z"
   },
   {
    "duration": 269,
    "start_time": "2022-07-30T12:25:38.142Z"
   },
   {
    "duration": 73,
    "start_time": "2022-07-30T12:25:49.943Z"
   },
   {
    "duration": 8,
    "start_time": "2022-07-30T12:25:57.643Z"
   },
   {
    "duration": 10,
    "start_time": "2022-07-30T12:26:53.325Z"
   },
   {
    "duration": 8,
    "start_time": "2022-07-30T12:29:00.114Z"
   },
   {
    "duration": 8,
    "start_time": "2022-07-30T12:29:02.783Z"
   },
   {
    "duration": 8,
    "start_time": "2022-07-30T12:29:09.098Z"
   },
   {
    "duration": 13,
    "start_time": "2022-07-30T12:29:22.761Z"
   },
   {
    "duration": 12,
    "start_time": "2022-07-30T12:30:07.114Z"
   },
   {
    "duration": 11,
    "start_time": "2022-07-30T12:34:49.446Z"
   },
   {
    "duration": 11,
    "start_time": "2022-07-30T12:35:38.673Z"
   },
   {
    "duration": 3,
    "start_time": "2022-07-30T12:36:27.025Z"
   },
   {
    "duration": 3,
    "start_time": "2022-07-30T12:36:41.070Z"
   },
   {
    "duration": 4,
    "start_time": "2022-07-30T12:36:44.376Z"
   },
   {
    "duration": 7,
    "start_time": "2022-07-30T12:39:58.407Z"
   },
   {
    "duration": 12,
    "start_time": "2022-07-30T12:40:10.113Z"
   },
   {
    "duration": 14,
    "start_time": "2022-07-30T12:41:08.911Z"
   },
   {
    "duration": 3,
    "start_time": "2022-07-30T12:41:57.096Z"
   },
   {
    "duration": 4,
    "start_time": "2022-07-30T12:42:02.110Z"
   },
   {
    "duration": 105,
    "start_time": "2022-07-30T12:48:39.857Z"
   },
   {
    "duration": 12,
    "start_time": "2022-07-30T12:51:16.521Z"
   },
   {
    "duration": 10,
    "start_time": "2022-07-30T12:51:16.718Z"
   },
   {
    "duration": 11,
    "start_time": "2022-07-30T12:51:18.006Z"
   },
   {
    "duration": 12,
    "start_time": "2022-07-30T12:51:28.653Z"
   },
   {
    "duration": 9,
    "start_time": "2022-07-30T12:51:29.034Z"
   },
   {
    "duration": 10,
    "start_time": "2022-07-30T12:51:29.485Z"
   },
   {
    "duration": 1097,
    "start_time": "2022-07-30T12:51:34.406Z"
   },
   {
    "duration": 129,
    "start_time": "2022-07-30T12:51:35.505Z"
   },
   {
    "duration": 50,
    "start_time": "2022-07-30T12:51:35.636Z"
   },
   {
    "duration": 48,
    "start_time": "2022-07-30T12:51:35.689Z"
   },
   {
    "duration": 33,
    "start_time": "2022-07-30T12:51:35.738Z"
   },
   {
    "duration": 47,
    "start_time": "2022-07-30T12:51:35.773Z"
   },
   {
    "duration": 16,
    "start_time": "2022-07-30T12:51:35.822Z"
   },
   {
    "duration": 16,
    "start_time": "2022-07-30T12:51:35.839Z"
   },
   {
    "duration": 5,
    "start_time": "2022-07-30T12:51:35.857Z"
   },
   {
    "duration": 7,
    "start_time": "2022-07-30T12:51:35.864Z"
   },
   {
    "duration": 13,
    "start_time": "2022-07-30T12:51:35.873Z"
   },
   {
    "duration": 11,
    "start_time": "2022-07-30T12:51:35.911Z"
   },
   {
    "duration": 25,
    "start_time": "2022-07-30T12:51:35.924Z"
   },
   {
    "duration": 99,
    "start_time": "2022-07-30T12:51:35.951Z"
   },
   {
    "duration": 15,
    "start_time": "2022-07-30T12:51:36.052Z"
   },
   {
    "duration": 49,
    "start_time": "2022-07-30T12:51:36.069Z"
   },
   {
    "duration": 11,
    "start_time": "2022-07-30T12:51:36.119Z"
   },
   {
    "duration": 10,
    "start_time": "2022-07-30T12:51:36.131Z"
   },
   {
    "duration": 9,
    "start_time": "2022-07-30T12:51:36.142Z"
   },
   {
    "duration": 23,
    "start_time": "2022-07-30T12:51:36.152Z"
   },
   {
    "duration": 4,
    "start_time": "2022-07-30T12:51:36.177Z"
   },
   {
    "duration": 38,
    "start_time": "2022-07-30T12:51:36.182Z"
   },
   {
    "duration": 17,
    "start_time": "2022-07-30T12:51:36.222Z"
   },
   {
    "duration": 11,
    "start_time": "2022-07-30T12:51:36.240Z"
   },
   {
    "duration": 11,
    "start_time": "2022-07-30T12:51:36.252Z"
   },
   {
    "duration": 14,
    "start_time": "2022-07-30T12:51:36.264Z"
   },
   {
    "duration": 16,
    "start_time": "2022-07-30T12:51:36.279Z"
   },
   {
    "duration": 27,
    "start_time": "2022-07-30T12:51:36.299Z"
   },
   {
    "duration": 19,
    "start_time": "2022-07-30T12:51:36.327Z"
   },
   {
    "duration": 21,
    "start_time": "2022-07-30T12:51:36.348Z"
   },
   {
    "duration": 19,
    "start_time": "2022-07-30T12:51:36.371Z"
   },
   {
    "duration": 6,
    "start_time": "2022-07-30T12:51:36.393Z"
   },
   {
    "duration": 11,
    "start_time": "2022-07-30T12:51:36.401Z"
   },
   {
    "duration": 14,
    "start_time": "2022-07-30T12:51:36.414Z"
   },
   {
    "duration": 7,
    "start_time": "2022-07-30T12:51:36.430Z"
   },
   {
    "duration": 7,
    "start_time": "2022-07-30T12:51:36.439Z"
   },
   {
    "duration": 13,
    "start_time": "2022-07-30T12:51:36.448Z"
   },
   {
    "duration": 14,
    "start_time": "2022-07-30T12:51:36.462Z"
   },
   {
    "duration": 349,
    "start_time": "2022-07-30T12:51:36.478Z"
   },
   {
    "duration": 434,
    "start_time": "2022-07-30T12:51:36.829Z"
   },
   {
    "duration": 280,
    "start_time": "2022-07-30T12:51:37.264Z"
   },
   {
    "duration": 303,
    "start_time": "2022-07-30T12:51:37.545Z"
   },
   {
    "duration": 250,
    "start_time": "2022-07-30T12:51:37.850Z"
   },
   {
    "duration": 348,
    "start_time": "2022-07-30T12:51:38.102Z"
   },
   {
    "duration": 10,
    "start_time": "2022-07-30T12:51:38.451Z"
   },
   {
    "duration": 353,
    "start_time": "2022-07-30T12:51:38.462Z"
   },
   {
    "duration": 322,
    "start_time": "2022-07-30T12:51:38.816Z"
   },
   {
    "duration": 6,
    "start_time": "2022-07-30T12:51:39.140Z"
   },
   {
    "duration": 66,
    "start_time": "2022-07-30T12:51:39.148Z"
   },
   {
    "duration": 523,
    "start_time": "2022-07-30T12:51:39.215Z"
   },
   {
    "duration": 711,
    "start_time": "2022-07-30T12:51:39.739Z"
   },
   {
    "duration": 187,
    "start_time": "2022-07-30T12:51:40.452Z"
   },
   {
    "duration": 175,
    "start_time": "2022-07-30T12:51:40.640Z"
   },
   {
    "duration": 5,
    "start_time": "2022-07-30T12:51:40.817Z"
   },
   {
    "duration": 249,
    "start_time": "2022-07-30T12:51:40.824Z"
   },
   {
    "duration": 171,
    "start_time": "2022-07-30T12:51:41.075Z"
   },
   {
    "duration": 25,
    "start_time": "2022-07-30T12:51:41.248Z"
   },
   {
    "duration": 12,
    "start_time": "2022-07-30T12:51:41.274Z"
   },
   {
    "duration": 29,
    "start_time": "2022-07-30T12:51:41.288Z"
   },
   {
    "duration": 21,
    "start_time": "2022-07-30T12:51:41.319Z"
   },
   {
    "duration": 40,
    "start_time": "2022-07-30T12:51:41.342Z"
   },
   {
    "duration": 25,
    "start_time": "2022-07-30T12:51:41.384Z"
   },
   {
    "duration": 14,
    "start_time": "2022-07-30T12:51:41.411Z"
   },
   {
    "duration": 17,
    "start_time": "2022-07-30T12:51:41.427Z"
   },
   {
    "duration": 56,
    "start_time": "2022-07-30T15:05:42.047Z"
   },
   {
    "duration": 8,
    "start_time": "2022-07-30T15:05:54.047Z"
   },
   {
    "duration": 1213,
    "start_time": "2022-07-30T15:06:05.647Z"
   },
   {
    "duration": 244,
    "start_time": "2022-07-30T15:06:06.863Z"
   },
   {
    "duration": 45,
    "start_time": "2022-07-30T15:06:07.109Z"
   },
   {
    "duration": 36,
    "start_time": "2022-07-30T15:06:07.155Z"
   },
   {
    "duration": 68,
    "start_time": "2022-07-30T15:06:07.193Z"
   },
   {
    "duration": 14,
    "start_time": "2022-07-30T15:06:07.263Z"
   },
   {
    "duration": 13,
    "start_time": "2022-07-30T15:06:07.279Z"
   },
   {
    "duration": 10,
    "start_time": "2022-07-30T15:06:07.294Z"
   },
   {
    "duration": 28,
    "start_time": "2022-07-30T15:06:07.306Z"
   },
   {
    "duration": 9,
    "start_time": "2022-07-30T15:06:07.342Z"
   },
   {
    "duration": 10,
    "start_time": "2022-07-30T15:06:07.352Z"
   },
   {
    "duration": 8,
    "start_time": "2022-07-30T15:06:07.363Z"
   },
   {
    "duration": 13,
    "start_time": "2022-07-30T15:06:07.373Z"
   },
   {
    "duration": 86,
    "start_time": "2022-07-30T15:06:07.389Z"
   },
   {
    "duration": 14,
    "start_time": "2022-07-30T15:06:07.477Z"
   },
   {
    "duration": 45,
    "start_time": "2022-07-30T15:06:07.492Z"
   },
   {
    "duration": 15,
    "start_time": "2022-07-30T15:06:07.539Z"
   },
   {
    "duration": 10,
    "start_time": "2022-07-30T15:06:07.556Z"
   },
   {
    "duration": 6,
    "start_time": "2022-07-30T15:06:07.568Z"
   },
   {
    "duration": 11,
    "start_time": "2022-07-30T15:06:07.575Z"
   },
   {
    "duration": 4,
    "start_time": "2022-07-30T15:06:07.587Z"
   },
   {
    "duration": 6,
    "start_time": "2022-07-30T15:06:07.592Z"
   },
   {
    "duration": 51,
    "start_time": "2022-07-30T15:06:07.600Z"
   },
   {
    "duration": 9,
    "start_time": "2022-07-30T15:06:07.653Z"
   },
   {
    "duration": 7,
    "start_time": "2022-07-30T15:06:07.663Z"
   },
   {
    "duration": 8,
    "start_time": "2022-07-30T15:06:07.671Z"
   },
   {
    "duration": 9,
    "start_time": "2022-07-30T15:06:07.680Z"
   },
   {
    "duration": 11,
    "start_time": "2022-07-30T15:06:07.691Z"
   },
   {
    "duration": 7,
    "start_time": "2022-07-30T15:06:07.704Z"
   },
   {
    "duration": 7,
    "start_time": "2022-07-30T15:06:07.713Z"
   },
   {
    "duration": 4,
    "start_time": "2022-07-30T15:06:07.745Z"
   },
   {
    "duration": 7,
    "start_time": "2022-07-30T15:06:07.750Z"
   },
   {
    "duration": 7,
    "start_time": "2022-07-30T15:06:07.759Z"
   },
   {
    "duration": 5,
    "start_time": "2022-07-30T15:06:07.767Z"
   },
   {
    "duration": 4,
    "start_time": "2022-07-30T15:06:07.774Z"
   },
   {
    "duration": 5,
    "start_time": "2022-07-30T15:06:07.779Z"
   },
   {
    "duration": 11,
    "start_time": "2022-07-30T15:06:07.786Z"
   },
   {
    "duration": 11,
    "start_time": "2022-07-30T15:06:07.799Z"
   },
   {
    "duration": 306,
    "start_time": "2022-07-30T15:06:07.811Z"
   },
   {
    "duration": 294,
    "start_time": "2022-07-30T15:06:08.119Z"
   },
   {
    "duration": 204,
    "start_time": "2022-07-30T15:06:08.417Z"
   },
   {
    "duration": 362,
    "start_time": "2022-07-30T15:06:08.622Z"
   },
   {
    "duration": 240,
    "start_time": "2022-07-30T15:06:08.986Z"
   },
   {
    "duration": 337,
    "start_time": "2022-07-30T15:06:09.228Z"
   },
   {
    "duration": 9,
    "start_time": "2022-07-30T15:06:09.566Z"
   },
   {
    "duration": 155,
    "start_time": "2022-07-30T15:06:09.577Z"
   },
   {
    "duration": 148,
    "start_time": "2022-07-30T15:06:09.744Z"
   },
   {
    "duration": 4,
    "start_time": "2022-07-30T15:06:09.894Z"
   },
   {
    "duration": 18,
    "start_time": "2022-07-30T15:06:09.899Z"
   },
   {
    "duration": 264,
    "start_time": "2022-07-30T15:06:09.919Z"
   },
   {
    "duration": 307,
    "start_time": "2022-07-30T15:06:10.185Z"
   },
   {
    "duration": 161,
    "start_time": "2022-07-30T15:06:10.494Z"
   },
   {
    "duration": 171,
    "start_time": "2022-07-30T15:06:10.657Z"
   },
   {
    "duration": 19,
    "start_time": "2022-07-30T15:06:10.830Z"
   },
   {
    "duration": 224,
    "start_time": "2022-07-30T15:06:10.851Z"
   },
   {
    "duration": 179,
    "start_time": "2022-07-30T15:06:11.076Z"
   },
   {
    "duration": 21,
    "start_time": "2022-07-30T15:06:11.257Z"
   },
   {
    "duration": 12,
    "start_time": "2022-07-30T15:06:11.279Z"
   },
   {
    "duration": 9,
    "start_time": "2022-07-30T15:06:11.292Z"
   },
   {
    "duration": 44,
    "start_time": "2022-07-30T15:06:11.302Z"
   },
   {
    "duration": 22,
    "start_time": "2022-07-30T15:06:11.348Z"
   },
   {
    "duration": 23,
    "start_time": "2022-07-30T15:06:11.372Z"
   },
   {
    "duration": 14,
    "start_time": "2022-07-30T15:06:11.397Z"
   },
   {
    "duration": 40,
    "start_time": "2022-07-30T15:06:11.414Z"
   },
   {
    "duration": 213,
    "start_time": "2022-07-30T15:24:45.909Z"
   },
   {
    "duration": 219,
    "start_time": "2022-07-30T15:25:46.987Z"
   },
   {
    "duration": 262,
    "start_time": "2022-07-30T15:26:47.147Z"
   },
   {
    "duration": 149,
    "start_time": "2022-07-30T15:27:07.183Z"
   },
   {
    "duration": 156,
    "start_time": "2022-07-30T15:27:36.855Z"
   },
   {
    "duration": 155,
    "start_time": "2022-07-30T15:27:45.342Z"
   },
   {
    "duration": 20,
    "start_time": "2022-07-30T15:28:28.979Z"
   },
   {
    "duration": 22,
    "start_time": "2022-07-30T15:28:41.928Z"
   },
   {
    "duration": 53,
    "start_time": "2022-08-01T06:37:57.207Z"
   },
   {
    "duration": 1277,
    "start_time": "2022-08-01T06:38:06.401Z"
   },
   {
    "duration": 249,
    "start_time": "2022-08-01T06:38:07.680Z"
   },
   {
    "duration": 53,
    "start_time": "2022-08-01T06:38:07.931Z"
   },
   {
    "duration": 58,
    "start_time": "2022-08-01T06:38:07.987Z"
   },
   {
    "duration": 71,
    "start_time": "2022-08-01T06:38:08.047Z"
   },
   {
    "duration": 14,
    "start_time": "2022-08-01T06:38:08.120Z"
   },
   {
    "duration": 13,
    "start_time": "2022-08-01T06:38:08.136Z"
   },
   {
    "duration": 14,
    "start_time": "2022-08-01T06:38:08.151Z"
   },
   {
    "duration": 7,
    "start_time": "2022-08-01T06:38:08.167Z"
   },
   {
    "duration": 35,
    "start_time": "2022-08-01T06:38:08.178Z"
   },
   {
    "duration": 14,
    "start_time": "2022-08-01T06:38:08.215Z"
   },
   {
    "duration": 13,
    "start_time": "2022-08-01T06:38:08.231Z"
   },
   {
    "duration": 18,
    "start_time": "2022-08-01T06:38:08.247Z"
   },
   {
    "duration": 100,
    "start_time": "2022-08-01T06:38:08.267Z"
   },
   {
    "duration": 54,
    "start_time": "2022-08-01T06:38:08.369Z"
   },
   {
    "duration": 25,
    "start_time": "2022-08-01T06:38:08.435Z"
   },
   {
    "duration": 14,
    "start_time": "2022-08-01T06:38:08.462Z"
   },
   {
    "duration": 34,
    "start_time": "2022-08-01T06:38:08.478Z"
   },
   {
    "duration": 13,
    "start_time": "2022-08-01T06:38:08.514Z"
   },
   {
    "duration": 19,
    "start_time": "2022-08-01T06:38:08.529Z"
   },
   {
    "duration": 5,
    "start_time": "2022-08-01T06:38:08.550Z"
   },
   {
    "duration": 13,
    "start_time": "2022-08-01T06:38:08.557Z"
   },
   {
    "duration": 7,
    "start_time": "2022-08-01T06:38:08.572Z"
   },
   {
    "duration": 30,
    "start_time": "2022-08-01T06:38:08.581Z"
   },
   {
    "duration": 6,
    "start_time": "2022-08-01T06:38:08.613Z"
   },
   {
    "duration": 10,
    "start_time": "2022-08-01T06:38:08.621Z"
   },
   {
    "duration": 11,
    "start_time": "2022-08-01T06:38:08.633Z"
   },
   {
    "duration": 8,
    "start_time": "2022-08-01T06:38:08.649Z"
   },
   {
    "duration": 12,
    "start_time": "2022-08-01T06:38:08.658Z"
   },
   {
    "duration": 40,
    "start_time": "2022-08-01T06:38:08.672Z"
   },
   {
    "duration": 3,
    "start_time": "2022-08-01T06:38:08.714Z"
   },
   {
    "duration": 8,
    "start_time": "2022-08-01T06:38:08.719Z"
   },
   {
    "duration": 7,
    "start_time": "2022-08-01T06:38:08.729Z"
   },
   {
    "duration": 14,
    "start_time": "2022-08-01T06:38:08.738Z"
   },
   {
    "duration": 8,
    "start_time": "2022-08-01T06:38:08.753Z"
   },
   {
    "duration": 8,
    "start_time": "2022-08-01T06:38:08.764Z"
   },
   {
    "duration": 40,
    "start_time": "2022-08-01T06:38:08.774Z"
   },
   {
    "duration": 20,
    "start_time": "2022-08-01T06:38:08.816Z"
   },
   {
    "duration": 353,
    "start_time": "2022-08-01T06:38:08.837Z"
   },
   {
    "duration": 320,
    "start_time": "2022-08-01T06:38:09.192Z"
   },
   {
    "duration": 231,
    "start_time": "2022-08-01T06:38:09.514Z"
   },
   {
    "duration": 419,
    "start_time": "2022-08-01T06:38:09.747Z"
   },
   {
    "duration": 265,
    "start_time": "2022-08-01T06:38:10.167Z"
   },
   {
    "duration": 337,
    "start_time": "2022-08-01T06:38:10.434Z"
   },
   {
    "duration": 10,
    "start_time": "2022-08-01T06:38:10.773Z"
   },
   {
    "duration": 180,
    "start_time": "2022-08-01T06:38:10.785Z"
   },
   {
    "duration": 176,
    "start_time": "2022-08-01T06:38:10.967Z"
   },
   {
    "duration": 5,
    "start_time": "2022-08-01T06:38:11.145Z"
   },
   {
    "duration": 5,
    "start_time": "2022-08-01T06:38:11.152Z"
   },
   {
    "duration": 303,
    "start_time": "2022-08-01T06:38:11.159Z"
   },
   {
    "duration": 354,
    "start_time": "2022-08-01T06:38:11.463Z"
   },
   {
    "duration": 227,
    "start_time": "2022-08-01T06:38:11.819Z"
   },
   {
    "duration": 208,
    "start_time": "2022-08-01T06:38:12.049Z"
   },
   {
    "duration": 4,
    "start_time": "2022-08-01T06:38:12.259Z"
   },
   {
    "duration": 266,
    "start_time": "2022-08-01T06:38:12.265Z"
   },
   {
    "duration": 185,
    "start_time": "2022-08-01T06:38:12.533Z"
   },
   {
    "duration": 26,
    "start_time": "2022-08-01T06:38:12.720Z"
   },
   {
    "duration": 12,
    "start_time": "2022-08-01T06:38:12.748Z"
   },
   {
    "duration": 10,
    "start_time": "2022-08-01T06:38:12.762Z"
   },
   {
    "duration": 39,
    "start_time": "2022-08-01T06:38:12.774Z"
   },
   {
    "duration": 26,
    "start_time": "2022-08-01T06:38:12.815Z"
   },
   {
    "duration": 32,
    "start_time": "2022-08-01T06:38:12.843Z"
   },
   {
    "duration": 40,
    "start_time": "2022-08-01T06:38:12.877Z"
   },
   {
    "duration": 17,
    "start_time": "2022-08-01T06:38:12.918Z"
   },
   {
    "duration": 328,
    "start_time": "2022-08-01T06:38:31.734Z"
   },
   {
    "duration": 237,
    "start_time": "2022-08-01T06:38:38.862Z"
   },
   {
    "duration": 27,
    "start_time": "2022-08-01T06:43:53.365Z"
   },
   {
    "duration": 103,
    "start_time": "2022-08-01T06:44:32.650Z"
   },
   {
    "duration": 203,
    "start_time": "2022-08-01T06:44:39.344Z"
   },
   {
    "duration": 13,
    "start_time": "2022-08-01T06:45:13.476Z"
   },
   {
    "duration": 26,
    "start_time": "2022-08-01T06:45:24.222Z"
   },
   {
    "duration": 25,
    "start_time": "2022-08-01T06:46:04.500Z"
   },
   {
    "duration": 27,
    "start_time": "2022-08-01T06:46:26.569Z"
   },
   {
    "duration": 16,
    "start_time": "2022-08-01T06:48:03.816Z"
   },
   {
    "duration": 16,
    "start_time": "2022-08-01T06:48:17.548Z"
   },
   {
    "duration": 20,
    "start_time": "2022-08-01T06:48:21.944Z"
   },
   {
    "duration": 79,
    "start_time": "2022-08-01T06:48:59.274Z"
   },
   {
    "duration": 15,
    "start_time": "2022-08-01T06:49:05.976Z"
   },
   {
    "duration": 15,
    "start_time": "2022-08-01T06:49:39.933Z"
   },
   {
    "duration": 16,
    "start_time": "2022-08-01T06:50:05.182Z"
   },
   {
    "duration": 13,
    "start_time": "2022-08-01T07:35:08.050Z"
   },
   {
    "duration": 1099,
    "start_time": "2022-08-01T07:40:46.569Z"
   },
   {
    "duration": 135,
    "start_time": "2022-08-01T07:40:47.670Z"
   },
   {
    "duration": 66,
    "start_time": "2022-08-01T07:40:47.807Z"
   },
   {
    "duration": 78,
    "start_time": "2022-08-01T07:40:47.876Z"
   },
   {
    "duration": 74,
    "start_time": "2022-08-01T07:40:47.956Z"
   },
   {
    "duration": 14,
    "start_time": "2022-08-01T07:40:48.032Z"
   },
   {
    "duration": 25,
    "start_time": "2022-08-01T07:40:48.048Z"
   },
   {
    "duration": 19,
    "start_time": "2022-08-01T07:40:48.075Z"
   },
   {
    "duration": 4,
    "start_time": "2022-08-01T07:40:48.110Z"
   },
   {
    "duration": 9,
    "start_time": "2022-08-01T07:40:48.117Z"
   },
   {
    "duration": 11,
    "start_time": "2022-08-01T07:40:48.128Z"
   },
   {
    "duration": 10,
    "start_time": "2022-08-01T07:40:48.141Z"
   },
   {
    "duration": 62,
    "start_time": "2022-08-01T07:40:48.153Z"
   },
   {
    "duration": 70,
    "start_time": "2022-08-01T07:40:48.217Z"
   },
   {
    "duration": 19,
    "start_time": "2022-08-01T07:40:48.310Z"
   },
   {
    "duration": 23,
    "start_time": "2022-08-01T07:40:48.331Z"
   },
   {
    "duration": 54,
    "start_time": "2022-08-01T07:40:48.355Z"
   },
   {
    "duration": 11,
    "start_time": "2022-08-01T07:40:48.412Z"
   },
   {
    "duration": 10,
    "start_time": "2022-08-01T07:40:48.425Z"
   },
   {
    "duration": 14,
    "start_time": "2022-08-01T07:40:48.437Z"
   },
   {
    "duration": 10,
    "start_time": "2022-08-01T07:40:48.453Z"
   },
   {
    "duration": 11,
    "start_time": "2022-08-01T07:40:48.465Z"
   },
   {
    "duration": 37,
    "start_time": "2022-08-01T07:40:48.478Z"
   },
   {
    "duration": 14,
    "start_time": "2022-08-01T07:40:48.517Z"
   },
   {
    "duration": 13,
    "start_time": "2022-08-01T07:40:48.533Z"
   },
   {
    "duration": 7,
    "start_time": "2022-08-01T07:40:48.548Z"
   },
   {
    "duration": 15,
    "start_time": "2022-08-01T07:40:48.556Z"
   },
   {
    "duration": 12,
    "start_time": "2022-08-01T07:40:48.575Z"
   },
   {
    "duration": 29,
    "start_time": "2022-08-01T07:40:48.589Z"
   },
   {
    "duration": 10,
    "start_time": "2022-08-01T07:40:48.620Z"
   },
   {
    "duration": 7,
    "start_time": "2022-08-01T07:40:48.632Z"
   },
   {
    "duration": 25,
    "start_time": "2022-08-01T07:40:48.641Z"
   },
   {
    "duration": 21,
    "start_time": "2022-08-01T07:40:48.668Z"
   },
   {
    "duration": 18,
    "start_time": "2022-08-01T07:40:48.691Z"
   },
   {
    "duration": 7,
    "start_time": "2022-08-01T07:40:48.711Z"
   },
   {
    "duration": 19,
    "start_time": "2022-08-01T07:40:48.721Z"
   },
   {
    "duration": 23,
    "start_time": "2022-08-01T07:40:48.743Z"
   },
   {
    "duration": 17,
    "start_time": "2022-08-01T07:40:48.767Z"
   },
   {
    "duration": 327,
    "start_time": "2022-08-01T07:40:48.786Z"
   },
   {
    "duration": 339,
    "start_time": "2022-08-01T07:40:49.115Z"
   },
   {
    "duration": 234,
    "start_time": "2022-08-01T07:40:49.455Z"
   },
   {
    "duration": 342,
    "start_time": "2022-08-01T07:40:49.691Z"
   },
   {
    "duration": 260,
    "start_time": "2022-08-01T07:40:50.035Z"
   },
   {
    "duration": 373,
    "start_time": "2022-08-01T07:40:50.298Z"
   },
   {
    "duration": 11,
    "start_time": "2022-08-01T07:40:50.673Z"
   },
   {
    "duration": 169,
    "start_time": "2022-08-01T07:40:50.686Z"
   },
   {
    "duration": 173,
    "start_time": "2022-08-01T07:40:50.858Z"
   },
   {
    "duration": 4,
    "start_time": "2022-08-01T07:40:51.033Z"
   },
   {
    "duration": 15,
    "start_time": "2022-08-01T07:40:51.039Z"
   },
   {
    "duration": 287,
    "start_time": "2022-08-01T07:40:51.056Z"
   },
   {
    "duration": 366,
    "start_time": "2022-08-01T07:40:51.345Z"
   },
   {
    "duration": 212,
    "start_time": "2022-08-01T07:40:51.713Z"
   },
   {
    "duration": 220,
    "start_time": "2022-08-01T07:40:51.927Z"
   },
   {
    "duration": 5,
    "start_time": "2022-08-01T07:40:52.149Z"
   },
   {
    "duration": 262,
    "start_time": "2022-08-01T07:40:52.156Z"
   },
   {
    "duration": 194,
    "start_time": "2022-08-01T07:40:52.421Z"
   },
   {
    "duration": 27,
    "start_time": "2022-08-01T07:40:52.617Z"
   },
   {
    "duration": 12,
    "start_time": "2022-08-01T07:40:52.646Z"
   },
   {
    "duration": 40,
    "start_time": "2022-08-01T07:40:52.660Z"
   },
   {
    "duration": 17,
    "start_time": "2022-08-01T07:40:52.701Z"
   },
   {
    "duration": 34,
    "start_time": "2022-08-01T07:40:52.720Z"
   },
   {
    "duration": 25,
    "start_time": "2022-08-01T07:40:52.756Z"
   },
   {
    "duration": 15,
    "start_time": "2022-08-01T07:40:52.783Z"
   },
   {
    "duration": 16,
    "start_time": "2022-08-01T07:40:52.810Z"
   },
   {
    "duration": 76,
    "start_time": "2022-08-01T07:40:52.828Z"
   },
   {
    "duration": 1243,
    "start_time": "2022-08-01T07:41:35.712Z"
   },
   {
    "duration": 129,
    "start_time": "2022-08-01T07:41:36.957Z"
   },
   {
    "duration": 55,
    "start_time": "2022-08-01T07:41:37.088Z"
   },
   {
    "duration": 76,
    "start_time": "2022-08-01T07:41:37.146Z"
   },
   {
    "duration": 48,
    "start_time": "2022-08-01T07:41:37.223Z"
   },
   {
    "duration": 51,
    "start_time": "2022-08-01T07:41:37.272Z"
   },
   {
    "duration": 18,
    "start_time": "2022-08-01T07:41:37.325Z"
   },
   {
    "duration": 15,
    "start_time": "2022-08-01T07:41:37.345Z"
   },
   {
    "duration": 6,
    "start_time": "2022-08-01T07:41:37.362Z"
   },
   {
    "duration": 7,
    "start_time": "2022-08-01T07:41:37.371Z"
   },
   {
    "duration": 42,
    "start_time": "2022-08-01T07:41:37.380Z"
   },
   {
    "duration": 11,
    "start_time": "2022-08-01T07:41:37.424Z"
   },
   {
    "duration": 20,
    "start_time": "2022-08-01T07:41:37.437Z"
   },
   {
    "duration": 107,
    "start_time": "2022-08-01T07:41:37.458Z"
   },
   {
    "duration": 15,
    "start_time": "2022-08-01T07:41:37.567Z"
   },
   {
    "duration": 51,
    "start_time": "2022-08-01T07:41:37.584Z"
   },
   {
    "duration": 21,
    "start_time": "2022-08-01T07:41:37.638Z"
   },
   {
    "duration": 16,
    "start_time": "2022-08-01T07:41:37.661Z"
   },
   {
    "duration": 10,
    "start_time": "2022-08-01T07:41:37.679Z"
   },
   {
    "duration": 28,
    "start_time": "2022-08-01T07:41:37.691Z"
   },
   {
    "duration": 23,
    "start_time": "2022-08-01T07:41:37.721Z"
   },
   {
    "duration": 12,
    "start_time": "2022-08-01T07:41:37.746Z"
   },
   {
    "duration": 9,
    "start_time": "2022-08-01T07:41:37.760Z"
   },
   {
    "duration": 11,
    "start_time": "2022-08-01T07:41:37.771Z"
   },
   {
    "duration": 29,
    "start_time": "2022-08-01T07:41:37.783Z"
   },
   {
    "duration": 5,
    "start_time": "2022-08-01T07:41:37.813Z"
   },
   {
    "duration": 14,
    "start_time": "2022-08-01T07:41:37.821Z"
   },
   {
    "duration": 31,
    "start_time": "2022-08-01T07:41:37.841Z"
   },
   {
    "duration": 18,
    "start_time": "2022-08-01T07:41:37.874Z"
   },
   {
    "duration": 13,
    "start_time": "2022-08-01T07:41:37.895Z"
   },
   {
    "duration": 11,
    "start_time": "2022-08-01T07:41:37.910Z"
   },
   {
    "duration": 7,
    "start_time": "2022-08-01T07:41:37.923Z"
   },
   {
    "duration": 12,
    "start_time": "2022-08-01T07:41:37.932Z"
   },
   {
    "duration": 12,
    "start_time": "2022-08-01T07:41:37.946Z"
   },
   {
    "duration": 10,
    "start_time": "2022-08-01T07:41:37.960Z"
   },
   {
    "duration": 9,
    "start_time": "2022-08-01T07:41:37.972Z"
   },
   {
    "duration": 33,
    "start_time": "2022-08-01T07:41:37.983Z"
   },
   {
    "duration": 16,
    "start_time": "2022-08-01T07:41:38.018Z"
   },
   {
    "duration": 345,
    "start_time": "2022-08-01T07:41:38.037Z"
   },
   {
    "duration": 355,
    "start_time": "2022-08-01T07:41:38.384Z"
   },
   {
    "duration": 276,
    "start_time": "2022-08-01T07:41:38.741Z"
   },
   {
    "duration": 345,
    "start_time": "2022-08-01T07:41:39.019Z"
   },
   {
    "duration": 265,
    "start_time": "2022-08-01T07:41:39.366Z"
   },
   {
    "duration": 406,
    "start_time": "2022-08-01T07:41:39.632Z"
   },
   {
    "duration": 13,
    "start_time": "2022-08-01T07:41:40.040Z"
   },
   {
    "duration": 200,
    "start_time": "2022-08-01T07:41:40.055Z"
   },
   {
    "duration": 181,
    "start_time": "2022-08-01T07:41:40.257Z"
   },
   {
    "duration": 5,
    "start_time": "2022-08-01T07:41:40.441Z"
   },
   {
    "duration": 8,
    "start_time": "2022-08-01T07:41:40.449Z"
   },
   {
    "duration": 302,
    "start_time": "2022-08-01T07:41:40.460Z"
   },
   {
    "duration": 365,
    "start_time": "2022-08-01T07:41:40.764Z"
   },
   {
    "duration": 179,
    "start_time": "2022-08-01T07:41:41.131Z"
   },
   {
    "duration": 201,
    "start_time": "2022-08-01T07:41:41.312Z"
   },
   {
    "duration": 5,
    "start_time": "2022-08-01T07:41:41.516Z"
   },
   {
    "duration": 272,
    "start_time": "2022-08-01T07:41:41.523Z"
   },
   {
    "duration": 288,
    "start_time": "2022-08-01T07:41:41.798Z"
   },
   {
    "duration": 47,
    "start_time": "2022-08-01T07:41:42.089Z"
   },
   {
    "duration": 14,
    "start_time": "2022-08-01T07:41:42.138Z"
   },
   {
    "duration": 24,
    "start_time": "2022-08-01T07:41:42.153Z"
   },
   {
    "duration": 16,
    "start_time": "2022-08-01T07:41:42.179Z"
   },
   {
    "duration": 33,
    "start_time": "2022-08-01T07:41:42.197Z"
   },
   {
    "duration": 26,
    "start_time": "2022-08-01T07:41:42.232Z"
   },
   {
    "duration": 16,
    "start_time": "2022-08-01T07:41:42.260Z"
   },
   {
    "duration": 41,
    "start_time": "2022-08-01T07:41:42.278Z"
   },
   {
    "duration": 108,
    "start_time": "2022-08-01T07:48:42.922Z"
   },
   {
    "duration": 1379,
    "start_time": "2022-08-01T07:50:21.179Z"
   },
   {
    "duration": 74,
    "start_time": "2022-08-01T07:50:22.561Z"
   },
   {
    "duration": 69,
    "start_time": "2022-08-01T07:50:22.637Z"
   },
   {
    "duration": 53,
    "start_time": "2022-08-01T07:50:22.711Z"
   },
   {
    "duration": 78,
    "start_time": "2022-08-01T07:50:22.767Z"
   },
   {
    "duration": 18,
    "start_time": "2022-08-01T07:50:22.847Z"
   },
   {
    "duration": 44,
    "start_time": "2022-08-01T07:50:22.866Z"
   },
   {
    "duration": 17,
    "start_time": "2022-08-01T07:50:22.913Z"
   },
   {
    "duration": 19,
    "start_time": "2022-08-01T07:50:22.933Z"
   },
   {
    "duration": 12,
    "start_time": "2022-08-01T07:50:22.956Z"
   },
   {
    "duration": 23,
    "start_time": "2022-08-01T07:50:22.970Z"
   },
   {
    "duration": 25,
    "start_time": "2022-08-01T07:50:22.996Z"
   },
   {
    "duration": 18,
    "start_time": "2022-08-01T07:50:23.023Z"
   },
   {
    "duration": 123,
    "start_time": "2022-08-01T07:50:23.043Z"
   },
   {
    "duration": 17,
    "start_time": "2022-08-01T07:50:23.168Z"
   },
   {
    "duration": 20,
    "start_time": "2022-08-01T07:50:23.211Z"
   },
   {
    "duration": 14,
    "start_time": "2022-08-01T07:50:23.233Z"
   },
   {
    "duration": 17,
    "start_time": "2022-08-01T07:50:23.249Z"
   },
   {
    "duration": 35,
    "start_time": "2022-08-01T07:50:23.267Z"
   },
   {
    "duration": 27,
    "start_time": "2022-08-01T07:50:23.311Z"
   },
   {
    "duration": 4,
    "start_time": "2022-08-01T07:50:23.341Z"
   },
   {
    "duration": 14,
    "start_time": "2022-08-01T07:50:23.347Z"
   },
   {
    "duration": 17,
    "start_time": "2022-08-01T07:50:23.363Z"
   },
   {
    "duration": 11,
    "start_time": "2022-08-01T07:50:23.382Z"
   },
   {
    "duration": 19,
    "start_time": "2022-08-01T07:50:23.395Z"
   },
   {
    "duration": 34,
    "start_time": "2022-08-01T07:50:23.416Z"
   },
   {
    "duration": 28,
    "start_time": "2022-08-01T07:50:23.453Z"
   },
   {
    "duration": 22,
    "start_time": "2022-08-01T07:50:23.486Z"
   },
   {
    "duration": 28,
    "start_time": "2022-08-01T07:50:23.510Z"
   },
   {
    "duration": 19,
    "start_time": "2022-08-01T07:50:23.541Z"
   },
   {
    "duration": 26,
    "start_time": "2022-08-01T07:50:23.562Z"
   },
   {
    "duration": 24,
    "start_time": "2022-08-01T07:50:23.591Z"
   },
   {
    "duration": 23,
    "start_time": "2022-08-01T07:50:23.617Z"
   },
   {
    "duration": 10,
    "start_time": "2022-08-01T07:50:23.642Z"
   },
   {
    "duration": 23,
    "start_time": "2022-08-01T07:50:23.654Z"
   },
   {
    "duration": 41,
    "start_time": "2022-08-01T07:50:23.678Z"
   },
   {
    "duration": 35,
    "start_time": "2022-08-01T07:50:23.721Z"
   },
   {
    "duration": 21,
    "start_time": "2022-08-01T07:50:23.758Z"
   },
   {
    "duration": 302,
    "start_time": "2022-08-01T07:50:23.781Z"
   },
   {
    "duration": 326,
    "start_time": "2022-08-01T07:50:24.085Z"
   },
   {
    "duration": 231,
    "start_time": "2022-08-01T07:50:24.413Z"
   },
   {
    "duration": 322,
    "start_time": "2022-08-01T07:50:24.646Z"
   },
   {
    "duration": 245,
    "start_time": "2022-08-01T07:50:24.970Z"
   },
   {
    "duration": 373,
    "start_time": "2022-08-01T07:50:25.217Z"
   },
   {
    "duration": 23,
    "start_time": "2022-08-01T07:50:25.592Z"
   },
   {
    "duration": 172,
    "start_time": "2022-08-01T07:50:25.617Z"
   },
   {
    "duration": 179,
    "start_time": "2022-08-01T07:50:25.791Z"
   },
   {
    "duration": 4,
    "start_time": "2022-08-01T07:50:25.972Z"
   },
   {
    "duration": 4,
    "start_time": "2022-08-01T07:50:25.978Z"
   },
   {
    "duration": 375,
    "start_time": "2022-08-01T07:50:25.984Z"
   },
   {
    "duration": 290,
    "start_time": "2022-08-01T07:50:26.361Z"
   },
   {
    "duration": 174,
    "start_time": "2022-08-01T07:50:26.652Z"
   },
   {
    "duration": 186,
    "start_time": "2022-08-01T07:50:26.828Z"
   },
   {
    "duration": 5,
    "start_time": "2022-08-01T07:50:27.015Z"
   },
   {
    "duration": 265,
    "start_time": "2022-08-01T07:50:27.022Z"
   },
   {
    "duration": 172,
    "start_time": "2022-08-01T07:50:27.289Z"
   },
   {
    "duration": 26,
    "start_time": "2022-08-01T07:50:27.463Z"
   },
   {
    "duration": 29,
    "start_time": "2022-08-01T07:50:27.492Z"
   },
   {
    "duration": 12,
    "start_time": "2022-08-01T07:50:27.523Z"
   },
   {
    "duration": 132,
    "start_time": "2022-08-01T07:50:27.538Z"
   },
   {
    "duration": 0,
    "start_time": "2022-08-01T07:50:27.672Z"
   },
   {
    "duration": 0,
    "start_time": "2022-08-01T07:50:27.673Z"
   },
   {
    "duration": 0,
    "start_time": "2022-08-01T07:50:27.674Z"
   },
   {
    "duration": 0,
    "start_time": "2022-08-01T07:50:27.675Z"
   },
   {
    "duration": 0,
    "start_time": "2022-08-01T07:50:27.677Z"
   },
   {
    "duration": 10,
    "start_time": "2022-08-01T07:54:10.391Z"
   },
   {
    "duration": 8,
    "start_time": "2022-08-01T07:54:44.159Z"
   },
   {
    "duration": 10,
    "start_time": "2022-08-01T07:58:17.949Z"
   },
   {
    "duration": 24,
    "start_time": "2022-08-01T07:58:44.132Z"
   },
   {
    "duration": 13,
    "start_time": "2022-08-01T07:59:38.266Z"
   },
   {
    "duration": 8,
    "start_time": "2022-08-01T08:01:43.007Z"
   },
   {
    "duration": 17,
    "start_time": "2022-08-01T08:02:53.265Z"
   },
   {
    "duration": 12,
    "start_time": "2022-08-01T08:03:17.974Z"
   },
   {
    "duration": 1237,
    "start_time": "2022-08-01T08:08:16.113Z"
   },
   {
    "duration": 71,
    "start_time": "2022-08-01T08:08:17.353Z"
   },
   {
    "duration": 51,
    "start_time": "2022-08-01T08:08:17.426Z"
   },
   {
    "duration": 58,
    "start_time": "2022-08-01T08:08:17.478Z"
   },
   {
    "duration": 82,
    "start_time": "2022-08-01T08:08:17.539Z"
   },
   {
    "duration": 24,
    "start_time": "2022-08-01T08:08:17.623Z"
   },
   {
    "duration": 15,
    "start_time": "2022-08-01T08:08:17.649Z"
   },
   {
    "duration": 18,
    "start_time": "2022-08-01T08:08:17.666Z"
   },
   {
    "duration": 27,
    "start_time": "2022-08-01T08:08:17.686Z"
   },
   {
    "duration": 6,
    "start_time": "2022-08-01T08:08:17.715Z"
   },
   {
    "duration": 16,
    "start_time": "2022-08-01T08:08:17.723Z"
   },
   {
    "duration": 21,
    "start_time": "2022-08-01T08:08:17.741Z"
   },
   {
    "duration": 52,
    "start_time": "2022-08-01T08:08:17.764Z"
   },
   {
    "duration": 93,
    "start_time": "2022-08-01T08:08:17.820Z"
   },
   {
    "duration": 15,
    "start_time": "2022-08-01T08:08:17.915Z"
   },
   {
    "duration": 16,
    "start_time": "2022-08-01T08:08:17.932Z"
   },
   {
    "duration": 13,
    "start_time": "2022-08-01T08:08:17.949Z"
   },
   {
    "duration": 53,
    "start_time": "2022-08-01T08:08:17.964Z"
   },
   {
    "duration": 6,
    "start_time": "2022-08-01T08:08:18.019Z"
   },
   {
    "duration": 15,
    "start_time": "2022-08-01T08:08:18.027Z"
   },
   {
    "duration": 5,
    "start_time": "2022-08-01T08:08:18.043Z"
   },
   {
    "duration": 7,
    "start_time": "2022-08-01T08:08:18.050Z"
   },
   {
    "duration": 12,
    "start_time": "2022-08-01T08:08:18.058Z"
   },
   {
    "duration": 39,
    "start_time": "2022-08-01T08:08:18.072Z"
   },
   {
    "duration": 8,
    "start_time": "2022-08-01T08:08:18.113Z"
   },
   {
    "duration": 7,
    "start_time": "2022-08-01T08:08:18.123Z"
   },
   {
    "duration": 10,
    "start_time": "2022-08-01T08:08:18.132Z"
   },
   {
    "duration": 9,
    "start_time": "2022-08-01T08:08:18.144Z"
   },
   {
    "duration": 9,
    "start_time": "2022-08-01T08:08:18.155Z"
   },
   {
    "duration": 11,
    "start_time": "2022-08-01T08:08:18.165Z"
   },
   {
    "duration": 3,
    "start_time": "2022-08-01T08:08:18.211Z"
   },
   {
    "duration": 7,
    "start_time": "2022-08-01T08:08:18.216Z"
   },
   {
    "duration": 9,
    "start_time": "2022-08-01T08:08:18.224Z"
   },
   {
    "duration": 7,
    "start_time": "2022-08-01T08:08:18.234Z"
   },
   {
    "duration": 9,
    "start_time": "2022-08-01T08:08:18.243Z"
   },
   {
    "duration": 10,
    "start_time": "2022-08-01T08:08:18.253Z"
   },
   {
    "duration": 14,
    "start_time": "2022-08-01T08:08:18.264Z"
   },
   {
    "duration": 36,
    "start_time": "2022-08-01T08:08:18.279Z"
   },
   {
    "duration": 310,
    "start_time": "2022-08-01T08:08:18.317Z"
   },
   {
    "duration": 333,
    "start_time": "2022-08-01T08:08:18.629Z"
   },
   {
    "duration": 227,
    "start_time": "2022-08-01T08:08:18.966Z"
   },
   {
    "duration": 338,
    "start_time": "2022-08-01T08:08:19.195Z"
   },
   {
    "duration": 256,
    "start_time": "2022-08-01T08:08:19.535Z"
   },
   {
    "duration": 358,
    "start_time": "2022-08-01T08:08:19.793Z"
   },
   {
    "duration": 10,
    "start_time": "2022-08-01T08:08:20.153Z"
   },
   {
    "duration": 174,
    "start_time": "2022-08-01T08:08:20.165Z"
   },
   {
    "duration": 175,
    "start_time": "2022-08-01T08:08:20.341Z"
   },
   {
    "duration": 5,
    "start_time": "2022-08-01T08:08:20.517Z"
   },
   {
    "duration": 6,
    "start_time": "2022-08-01T08:08:20.523Z"
   },
   {
    "duration": 385,
    "start_time": "2022-08-01T08:08:20.531Z"
   },
   {
    "duration": 270,
    "start_time": "2022-08-01T08:08:20.917Z"
   },
   {
    "duration": 176,
    "start_time": "2022-08-01T08:08:21.189Z"
   },
   {
    "duration": 180,
    "start_time": "2022-08-01T08:08:21.367Z"
   },
   {
    "duration": 5,
    "start_time": "2022-08-01T08:08:21.549Z"
   },
   {
    "duration": 245,
    "start_time": "2022-08-01T08:08:21.556Z"
   },
   {
    "duration": 250,
    "start_time": "2022-08-01T08:08:21.803Z"
   },
   {
    "duration": 32,
    "start_time": "2022-08-01T08:08:22.055Z"
   },
   {
    "duration": 32,
    "start_time": "2022-08-01T08:08:22.089Z"
   },
   {
    "duration": 19,
    "start_time": "2022-08-01T08:08:22.123Z"
   },
   {
    "duration": 26,
    "start_time": "2022-08-01T08:08:22.144Z"
   },
   {
    "duration": 33,
    "start_time": "2022-08-01T08:08:22.172Z"
   },
   {
    "duration": 26,
    "start_time": "2022-08-01T08:08:22.207Z"
   },
   {
    "duration": 15,
    "start_time": "2022-08-01T08:08:22.234Z"
   },
   {
    "duration": 15,
    "start_time": "2022-08-01T08:08:22.252Z"
   },
   {
    "duration": 54,
    "start_time": "2022-08-01T20:40:23.726Z"
   },
   {
    "duration": 1529,
    "start_time": "2022-08-01T20:40:30.664Z"
   },
   {
    "duration": 189,
    "start_time": "2022-08-01T20:40:32.195Z"
   },
   {
    "duration": 46,
    "start_time": "2022-08-01T20:40:32.386Z"
   },
   {
    "duration": 43,
    "start_time": "2022-08-01T20:40:32.434Z"
   },
   {
    "duration": 39,
    "start_time": "2022-08-01T20:40:32.478Z"
   },
   {
    "duration": 49,
    "start_time": "2022-08-01T20:40:32.518Z"
   },
   {
    "duration": 15,
    "start_time": "2022-08-01T20:40:32.568Z"
   },
   {
    "duration": 21,
    "start_time": "2022-08-01T20:40:32.584Z"
   },
   {
    "duration": 5,
    "start_time": "2022-08-01T20:40:32.607Z"
   },
   {
    "duration": 7,
    "start_time": "2022-08-01T20:40:32.614Z"
   },
   {
    "duration": 34,
    "start_time": "2022-08-01T20:40:32.623Z"
   },
   {
    "duration": 10,
    "start_time": "2022-08-01T20:40:32.659Z"
   },
   {
    "duration": 13,
    "start_time": "2022-08-01T20:40:32.671Z"
   },
   {
    "duration": 88,
    "start_time": "2022-08-01T20:40:32.686Z"
   },
   {
    "duration": 12,
    "start_time": "2022-08-01T20:40:32.776Z"
   },
   {
    "duration": 16,
    "start_time": "2022-08-01T20:40:32.790Z"
   },
   {
    "duration": 46,
    "start_time": "2022-08-01T20:40:32.808Z"
   },
   {
    "duration": 19,
    "start_time": "2022-08-01T20:40:32.856Z"
   },
   {
    "duration": 6,
    "start_time": "2022-08-01T20:40:32.877Z"
   },
   {
    "duration": 11,
    "start_time": "2022-08-01T20:40:32.885Z"
   },
   {
    "duration": 4,
    "start_time": "2022-08-01T20:40:32.898Z"
   },
   {
    "duration": 6,
    "start_time": "2022-08-01T20:40:32.904Z"
   },
   {
    "duration": 7,
    "start_time": "2022-08-01T20:40:32.911Z"
   },
   {
    "duration": 36,
    "start_time": "2022-08-01T20:40:32.919Z"
   },
   {
    "duration": 16,
    "start_time": "2022-08-01T20:40:32.958Z"
   },
   {
    "duration": 7,
    "start_time": "2022-08-01T20:40:32.975Z"
   },
   {
    "duration": 9,
    "start_time": "2022-08-01T20:40:32.984Z"
   },
   {
    "duration": 8,
    "start_time": "2022-08-01T20:40:32.996Z"
   },
   {
    "duration": 10,
    "start_time": "2022-08-01T20:40:33.005Z"
   },
   {
    "duration": 8,
    "start_time": "2022-08-01T20:40:33.016Z"
   },
   {
    "duration": 6,
    "start_time": "2022-08-01T20:40:33.025Z"
   },
   {
    "duration": 21,
    "start_time": "2022-08-01T20:40:33.032Z"
   },
   {
    "duration": 17,
    "start_time": "2022-08-01T20:40:33.055Z"
   },
   {
    "duration": 8,
    "start_time": "2022-08-01T20:40:33.073Z"
   },
   {
    "duration": 8,
    "start_time": "2022-08-01T20:40:33.082Z"
   },
   {
    "duration": 7,
    "start_time": "2022-08-01T20:40:33.091Z"
   },
   {
    "duration": 14,
    "start_time": "2022-08-01T20:40:33.100Z"
   },
   {
    "duration": 2,
    "start_time": "2022-08-01T20:40:33.116Z"
   },
   {
    "duration": 14,
    "start_time": "2022-08-01T20:40:33.120Z"
   },
   {
    "duration": 280,
    "start_time": "2022-08-01T20:40:33.136Z"
   },
   {
    "duration": 285,
    "start_time": "2022-08-01T20:40:33.418Z"
   },
   {
    "duration": 194,
    "start_time": "2022-08-01T20:40:33.705Z"
   },
   {
    "duration": 346,
    "start_time": "2022-08-01T20:40:33.901Z"
   },
   {
    "duration": 226,
    "start_time": "2022-08-01T20:40:34.249Z"
   },
   {
    "duration": 335,
    "start_time": "2022-08-01T20:40:34.476Z"
   },
   {
    "duration": 9,
    "start_time": "2022-08-01T20:40:34.812Z"
   },
   {
    "duration": 150,
    "start_time": "2022-08-01T20:40:34.823Z"
   },
   {
    "duration": 156,
    "start_time": "2022-08-01T20:40:34.975Z"
   },
   {
    "duration": 3,
    "start_time": "2022-08-01T20:40:35.133Z"
   },
   {
    "duration": 4,
    "start_time": "2022-08-01T20:40:35.151Z"
   },
   {
    "duration": 340,
    "start_time": "2022-08-01T20:40:35.158Z"
   },
   {
    "duration": 249,
    "start_time": "2022-08-01T20:40:35.500Z"
   },
   {
    "duration": 154,
    "start_time": "2022-08-01T20:40:35.751Z"
   },
   {
    "duration": 189,
    "start_time": "2022-08-01T20:40:35.907Z"
   },
   {
    "duration": 5,
    "start_time": "2022-08-01T20:40:36.098Z"
   },
   {
    "duration": 261,
    "start_time": "2022-08-01T20:40:36.104Z"
   },
   {
    "duration": 184,
    "start_time": "2022-08-01T20:40:36.366Z"
   },
   {
    "duration": 30,
    "start_time": "2022-08-01T20:40:36.552Z"
   },
   {
    "duration": 13,
    "start_time": "2022-08-01T20:40:36.584Z"
   },
   {
    "duration": 10,
    "start_time": "2022-08-01T20:40:36.599Z"
   },
   {
    "duration": 11,
    "start_time": "2022-08-01T20:40:36.611Z"
   },
   {
    "duration": 56,
    "start_time": "2022-08-01T20:40:36.623Z"
   },
   {
    "duration": 21,
    "start_time": "2022-08-01T20:40:36.681Z"
   },
   {
    "duration": 12,
    "start_time": "2022-08-01T20:40:36.704Z"
   },
   {
    "duration": 35,
    "start_time": "2022-08-01T20:40:36.718Z"
   },
   {
    "duration": 48,
    "start_time": "2022-08-02T09:55:23.832Z"
   },
   {
    "duration": 6,
    "start_time": "2022-08-02T09:55:24.186Z"
   },
   {
    "duration": 1293,
    "start_time": "2022-08-02T09:55:29.877Z"
   },
   {
    "duration": 189,
    "start_time": "2022-08-02T09:55:31.171Z"
   },
   {
    "duration": 42,
    "start_time": "2022-08-02T09:55:31.362Z"
   },
   {
    "duration": 36,
    "start_time": "2022-08-02T09:55:31.406Z"
   },
   {
    "duration": 76,
    "start_time": "2022-08-02T09:55:31.444Z"
   },
   {
    "duration": 20,
    "start_time": "2022-08-02T09:55:31.522Z"
   },
   {
    "duration": 35,
    "start_time": "2022-08-02T09:55:31.544Z"
   },
   {
    "duration": 58,
    "start_time": "2022-08-02T09:55:31.581Z"
   },
   {
    "duration": 22,
    "start_time": "2022-08-02T09:55:31.641Z"
   },
   {
    "duration": 24,
    "start_time": "2022-08-02T09:55:31.666Z"
   },
   {
    "duration": 19,
    "start_time": "2022-08-02T09:55:31.692Z"
   },
   {
    "duration": 15,
    "start_time": "2022-08-02T09:55:31.712Z"
   },
   {
    "duration": 14,
    "start_time": "2022-08-02T09:55:31.728Z"
   },
   {
    "duration": 72,
    "start_time": "2022-08-02T09:55:31.744Z"
   },
   {
    "duration": 14,
    "start_time": "2022-08-02T09:55:31.817Z"
   },
   {
    "duration": 16,
    "start_time": "2022-08-02T09:55:31.832Z"
   },
   {
    "duration": 10,
    "start_time": "2022-08-02T09:55:31.850Z"
   },
   {
    "duration": 10,
    "start_time": "2022-08-02T09:55:31.861Z"
   },
   {
    "duration": 41,
    "start_time": "2022-08-02T09:55:31.873Z"
   },
   {
    "duration": 18,
    "start_time": "2022-08-02T09:55:31.916Z"
   },
   {
    "duration": 13,
    "start_time": "2022-08-02T09:55:31.935Z"
   },
   {
    "duration": 18,
    "start_time": "2022-08-02T09:55:31.949Z"
   },
   {
    "duration": 10,
    "start_time": "2022-08-02T09:55:31.969Z"
   },
   {
    "duration": 19,
    "start_time": "2022-08-02T09:55:31.981Z"
   },
   {
    "duration": 10,
    "start_time": "2022-08-02T09:55:32.002Z"
   },
   {
    "duration": 21,
    "start_time": "2022-08-02T09:55:32.014Z"
   },
   {
    "duration": 9,
    "start_time": "2022-08-02T09:55:32.038Z"
   },
   {
    "duration": 7,
    "start_time": "2022-08-02T09:55:32.052Z"
   },
   {
    "duration": 19,
    "start_time": "2022-08-02T09:55:32.060Z"
   },
   {
    "duration": 13,
    "start_time": "2022-08-02T09:55:32.080Z"
   },
   {
    "duration": 19,
    "start_time": "2022-08-02T09:55:32.095Z"
   },
   {
    "duration": 11,
    "start_time": "2022-08-02T09:55:32.115Z"
   },
   {
    "duration": 11,
    "start_time": "2022-08-02T09:55:32.127Z"
   },
   {
    "duration": 8,
    "start_time": "2022-08-02T09:55:32.139Z"
   },
   {
    "duration": 5,
    "start_time": "2022-08-02T09:55:32.148Z"
   },
   {
    "duration": 19,
    "start_time": "2022-08-02T09:55:32.154Z"
   },
   {
    "duration": 5,
    "start_time": "2022-08-02T09:55:32.174Z"
   },
   {
    "duration": 26,
    "start_time": "2022-08-02T09:55:32.180Z"
   },
   {
    "duration": 3,
    "start_time": "2022-08-02T09:55:32.207Z"
   },
   {
    "duration": 19,
    "start_time": "2022-08-02T09:55:32.212Z"
   },
   {
    "duration": 279,
    "start_time": "2022-08-02T09:55:32.233Z"
   },
   {
    "duration": 314,
    "start_time": "2022-08-02T09:55:32.514Z"
   },
   {
    "duration": 195,
    "start_time": "2022-08-02T09:55:32.830Z"
   },
   {
    "duration": 323,
    "start_time": "2022-08-02T09:55:33.027Z"
   },
   {
    "duration": 201,
    "start_time": "2022-08-02T09:55:33.352Z"
   },
   {
    "duration": 291,
    "start_time": "2022-08-02T09:55:33.555Z"
   },
   {
    "duration": 8,
    "start_time": "2022-08-02T09:55:33.848Z"
   },
   {
    "duration": 142,
    "start_time": "2022-08-02T09:55:33.857Z"
   },
   {
    "duration": 138,
    "start_time": "2022-08-02T09:55:34.001Z"
   },
   {
    "duration": 4,
    "start_time": "2022-08-02T09:55:34.140Z"
   },
   {
    "duration": 6,
    "start_time": "2022-08-02T09:55:34.145Z"
   },
   {
    "duration": 293,
    "start_time": "2022-08-02T09:55:34.152Z"
   },
   {
    "duration": 226,
    "start_time": "2022-08-02T09:55:34.447Z"
   },
   {
    "duration": 146,
    "start_time": "2022-08-02T09:55:34.675Z"
   },
   {
    "duration": 154,
    "start_time": "2022-08-02T09:55:34.823Z"
   },
   {
    "duration": 4,
    "start_time": "2022-08-02T09:55:34.979Z"
   },
   {
    "duration": 208,
    "start_time": "2022-08-02T09:55:34.984Z"
   },
   {
    "duration": 167,
    "start_time": "2022-08-02T09:55:35.194Z"
   },
   {
    "duration": 19,
    "start_time": "2022-08-02T09:55:35.363Z"
   },
   {
    "duration": 28,
    "start_time": "2022-08-02T09:55:35.383Z"
   },
   {
    "duration": 9,
    "start_time": "2022-08-02T09:55:35.413Z"
   },
   {
    "duration": 7,
    "start_time": "2022-08-02T09:55:35.423Z"
   },
   {
    "duration": 25,
    "start_time": "2022-08-02T09:55:35.431Z"
   },
   {
    "duration": 20,
    "start_time": "2022-08-02T09:55:35.458Z"
   },
   {
    "duration": 34,
    "start_time": "2022-08-02T09:55:35.480Z"
   },
   {
    "duration": 13,
    "start_time": "2022-08-02T09:55:35.515Z"
   },
   {
    "duration": 9,
    "start_time": "2022-08-02T09:55:56.728Z"
   },
   {
    "duration": 3,
    "start_time": "2022-08-02T09:56:01.238Z"
   },
   {
    "duration": 11,
    "start_time": "2022-08-02T09:56:02.241Z"
   }
  ],
  "colab": {
   "authorship_tag": "ABX9TyPsChi95rOdz9K49LfHHQ1C",
   "collapsed_sections": [],
   "name": "sokolovav_48_2022_p8.ipynb",
   "provenance": []
  },
  "kernelspec": {
   "display_name": "Python 3 (ipykernel)",
   "language": "python",
   "name": "python3"
  },
  "language_info": {
   "codemirror_mode": {
    "name": "ipython",
    "version": 3
   },
   "file_extension": ".py",
   "mimetype": "text/x-python",
   "name": "python",
   "nbconvert_exporter": "python",
   "pygments_lexer": "ipython3",
   "version": "3.9.7"
  },
  "toc": {
   "base_numbering": 1,
   "nav_menu": {},
   "number_sections": true,
   "sideBar": true,
   "skip_h1_title": true,
   "title_cell": "Table of Contents",
   "title_sidebar": "Contents",
   "toc_cell": false,
   "toc_position": {
    "height": "calc(100% - 180px)",
    "left": "10px",
    "top": "150px",
    "width": "331.441px"
   },
   "toc_section_display": true,
   "toc_window_display": true
  }
 },
 "nbformat": 4,
 "nbformat_minor": 1
}
