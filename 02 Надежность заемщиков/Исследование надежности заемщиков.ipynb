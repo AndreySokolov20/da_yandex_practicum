{
 "cells": [
  {
   "cell_type": "markdown",
   "id": "dddef2a2",
   "metadata": {},
   "source": [
    "# Исследование надежности заемщиков."
   ]
  },
  {
   "cell_type": "markdown",
   "id": "d0fca840",
   "metadata": {},
   "source": [
    "В целях оценки способности потенциального заёмщика вернуть кредит банку (при построении модели кредитного скоринга), проводим исследование влияния семейного положения и количества детей клиента на факт погашения кредита в срок."
   ]
  },
  {
   "cell_type": "markdown",
   "id": "3fbbb998",
   "metadata": {},
   "source": [
    "## Обзор данных"
   ]
  },
  {
   "cell_type": "code",
   "execution_count": 1,
   "id": "07b05699",
   "metadata": {},
   "outputs": [],
   "source": [
    "import pandas as pd\n",
    "import seaborn as sns"
   ]
  },
  {
   "cell_type": "code",
   "execution_count": 2,
   "id": "4bf05b6e",
   "metadata": {},
   "outputs": [],
   "source": [
    "df = pd.read_csv('/datasets/data.csv')"
   ]
  },
  {
   "cell_type": "code",
   "execution_count": 3,
   "id": "aab749ae",
   "metadata": {},
   "outputs": [
    {
     "name": "stdout",
     "output_type": "stream",
     "text": [
      "<class 'pandas.core.frame.DataFrame'>\n",
      "RangeIndex: 21525 entries, 0 to 21524\n",
      "Data columns (total 12 columns):\n",
      " #   Column            Non-Null Count  Dtype  \n",
      "---  ------            --------------  -----  \n",
      " 0   children          21525 non-null  int64  \n",
      " 1   days_employed     19351 non-null  float64\n",
      " 2   dob_years         21525 non-null  int64  \n",
      " 3   education         21525 non-null  object \n",
      " 4   education_id      21525 non-null  int64  \n",
      " 5   family_status     21525 non-null  object \n",
      " 6   family_status_id  21525 non-null  int64  \n",
      " 7   gender            21525 non-null  object \n",
      " 8   income_type       21525 non-null  object \n",
      " 9   debt              21525 non-null  int64  \n",
      " 10  total_income      19351 non-null  float64\n",
      " 11  purpose           21525 non-null  object \n",
      "dtypes: float64(2), int64(5), object(5)\n",
      "memory usage: 2.0+ MB\n"
     ]
    }
   ],
   "source": [
    "df.info()"
   ]
  },
  {
   "cell_type": "code",
   "execution_count": 4,
   "id": "13538cf3",
   "metadata": {},
   "outputs": [
    {
     "name": "stdout",
     "output_type": "stream",
     "text": [
      "В таблице двенадцать столбцов: ['children', 'days_employed', 'dob_years', 'education', 'education_id', 'family_status', 'family_status_id', 'gender', 'income_type', 'debt', 'total_income', 'purpose']\n"
     ]
    }
   ],
   "source": [
    "print(f'В таблице двенадцать столбцов: {list(df.columns)}')"
   ]
  },
  {
   "cell_type": "markdown",
   "id": "fb0732cd",
   "metadata": {},
   "source": [
    "В названиях колонок отсутствует нарушение стиля.\n",
    "\n",
    "Столбцы включают в себя все типы данных.\n",
    "\n",
    "Согласно документации к данным:\n",
    "* `children` — количество детей в семье;\n",
    "* `days_employed` — общий трудовой стаж в днях; \n",
    "* `dob_years` — возраст клиента в годах; \n",
    "* `education` — уровень образования клиента; \n",
    "* `education_id` — идентификатор уровня образования;\n",
    "* `family_status` — семейное положение; \n",
    "* `family_status_id` — идентификатор семейного положения; \n",
    "* `gender` — пол клиента;\n",
    "* `income_type` — тип занятости; \n",
    "* `debt` — имел ли задолженность по возврату кредитов; \n",
    "* `total_income` — ежемесячный доход; \n",
    "* `purpose` — цель получения кредита.\n",
    "\n",
    "Количество значений в столбцах `days_employed` и `total_income` различаются — в данных есть пропущенные значения."
   ]
  },
  {
   "cell_type": "code",
   "execution_count": 5,
   "id": "d97b858f",
   "metadata": {},
   "outputs": [
    {
     "data": {
      "text/plain": [
       "children               0\n",
       "days_employed       2174\n",
       "dob_years              0\n",
       "education              0\n",
       "education_id           0\n",
       "family_status          0\n",
       "family_status_id       0\n",
       "gender                 0\n",
       "income_type            0\n",
       "debt                   0\n",
       "total_income        2174\n",
       "purpose                0\n",
       "dtype: int64"
      ]
     },
     "execution_count": 5,
     "metadata": {},
     "output_type": "execute_result"
    }
   ],
   "source": [
    "'Инофрмация о пропусках'\n",
    "df.isna().sum()"
   ]
  },
  {
   "cell_type": "code",
   "execution_count": 6,
   "id": "1c2a8d03",
   "metadata": {},
   "outputs": [
    {
     "data": {
      "text/html": [
       "<div>\n",
       "<style scoped>\n",
       "    .dataframe tbody tr th:only-of-type {\n",
       "        vertical-align: middle;\n",
       "    }\n",
       "\n",
       "    .dataframe tbody tr th {\n",
       "        vertical-align: top;\n",
       "    }\n",
       "\n",
       "    .dataframe thead th {\n",
       "        text-align: right;\n",
       "    }\n",
       "</style>\n",
       "<table border=\"1\" class=\"dataframe\">\n",
       "  <thead>\n",
       "    <tr style=\"text-align: right;\">\n",
       "      <th></th>\n",
       "      <th>children</th>\n",
       "      <th>days_employed</th>\n",
       "      <th>dob_years</th>\n",
       "      <th>education</th>\n",
       "      <th>education_id</th>\n",
       "      <th>family_status</th>\n",
       "      <th>family_status_id</th>\n",
       "      <th>gender</th>\n",
       "      <th>income_type</th>\n",
       "      <th>debt</th>\n",
       "      <th>total_income</th>\n",
       "      <th>purpose</th>\n",
       "    </tr>\n",
       "  </thead>\n",
       "  <tbody>\n",
       "    <tr>\n",
       "      <th>0</th>\n",
       "      <td>1</td>\n",
       "      <td>-8437.673028</td>\n",
       "      <td>42</td>\n",
       "      <td>высшее</td>\n",
       "      <td>0</td>\n",
       "      <td>женат / замужем</td>\n",
       "      <td>0</td>\n",
       "      <td>F</td>\n",
       "      <td>сотрудник</td>\n",
       "      <td>0</td>\n",
       "      <td>253875.639453</td>\n",
       "      <td>покупка жилья</td>\n",
       "    </tr>\n",
       "    <tr>\n",
       "      <th>1</th>\n",
       "      <td>1</td>\n",
       "      <td>-4024.803754</td>\n",
       "      <td>36</td>\n",
       "      <td>среднее</td>\n",
       "      <td>1</td>\n",
       "      <td>женат / замужем</td>\n",
       "      <td>0</td>\n",
       "      <td>F</td>\n",
       "      <td>сотрудник</td>\n",
       "      <td>0</td>\n",
       "      <td>112080.014102</td>\n",
       "      <td>приобретение автомобиля</td>\n",
       "    </tr>\n",
       "    <tr>\n",
       "      <th>2</th>\n",
       "      <td>0</td>\n",
       "      <td>-5623.422610</td>\n",
       "      <td>33</td>\n",
       "      <td>Среднее</td>\n",
       "      <td>1</td>\n",
       "      <td>женат / замужем</td>\n",
       "      <td>0</td>\n",
       "      <td>M</td>\n",
       "      <td>сотрудник</td>\n",
       "      <td>0</td>\n",
       "      <td>145885.952297</td>\n",
       "      <td>покупка жилья</td>\n",
       "    </tr>\n",
       "    <tr>\n",
       "      <th>3</th>\n",
       "      <td>3</td>\n",
       "      <td>-4124.747207</td>\n",
       "      <td>32</td>\n",
       "      <td>среднее</td>\n",
       "      <td>1</td>\n",
       "      <td>женат / замужем</td>\n",
       "      <td>0</td>\n",
       "      <td>M</td>\n",
       "      <td>сотрудник</td>\n",
       "      <td>0</td>\n",
       "      <td>267628.550329</td>\n",
       "      <td>дополнительное образование</td>\n",
       "    </tr>\n",
       "    <tr>\n",
       "      <th>4</th>\n",
       "      <td>0</td>\n",
       "      <td>340266.072047</td>\n",
       "      <td>53</td>\n",
       "      <td>среднее</td>\n",
       "      <td>1</td>\n",
       "      <td>гражданский брак</td>\n",
       "      <td>1</td>\n",
       "      <td>F</td>\n",
       "      <td>пенсионер</td>\n",
       "      <td>0</td>\n",
       "      <td>158616.077870</td>\n",
       "      <td>сыграть свадьбу</td>\n",
       "    </tr>\n",
       "    <tr>\n",
       "      <th>5</th>\n",
       "      <td>0</td>\n",
       "      <td>-926.185831</td>\n",
       "      <td>27</td>\n",
       "      <td>высшее</td>\n",
       "      <td>0</td>\n",
       "      <td>гражданский брак</td>\n",
       "      <td>1</td>\n",
       "      <td>M</td>\n",
       "      <td>компаньон</td>\n",
       "      <td>0</td>\n",
       "      <td>255763.565419</td>\n",
       "      <td>покупка жилья</td>\n",
       "    </tr>\n",
       "    <tr>\n",
       "      <th>6</th>\n",
       "      <td>0</td>\n",
       "      <td>-2879.202052</td>\n",
       "      <td>43</td>\n",
       "      <td>высшее</td>\n",
       "      <td>0</td>\n",
       "      <td>женат / замужем</td>\n",
       "      <td>0</td>\n",
       "      <td>F</td>\n",
       "      <td>компаньон</td>\n",
       "      <td>0</td>\n",
       "      <td>240525.971920</td>\n",
       "      <td>операции с жильем</td>\n",
       "    </tr>\n",
       "    <tr>\n",
       "      <th>7</th>\n",
       "      <td>0</td>\n",
       "      <td>-152.779569</td>\n",
       "      <td>50</td>\n",
       "      <td>СРЕДНЕЕ</td>\n",
       "      <td>1</td>\n",
       "      <td>женат / замужем</td>\n",
       "      <td>0</td>\n",
       "      <td>M</td>\n",
       "      <td>сотрудник</td>\n",
       "      <td>0</td>\n",
       "      <td>135823.934197</td>\n",
       "      <td>образование</td>\n",
       "    </tr>\n",
       "    <tr>\n",
       "      <th>8</th>\n",
       "      <td>2</td>\n",
       "      <td>-6929.865299</td>\n",
       "      <td>35</td>\n",
       "      <td>ВЫСШЕЕ</td>\n",
       "      <td>0</td>\n",
       "      <td>гражданский брак</td>\n",
       "      <td>1</td>\n",
       "      <td>F</td>\n",
       "      <td>сотрудник</td>\n",
       "      <td>0</td>\n",
       "      <td>95856.832424</td>\n",
       "      <td>на проведение свадьбы</td>\n",
       "    </tr>\n",
       "    <tr>\n",
       "      <th>9</th>\n",
       "      <td>0</td>\n",
       "      <td>-2188.756445</td>\n",
       "      <td>41</td>\n",
       "      <td>среднее</td>\n",
       "      <td>1</td>\n",
       "      <td>женат / замужем</td>\n",
       "      <td>0</td>\n",
       "      <td>M</td>\n",
       "      <td>сотрудник</td>\n",
       "      <td>0</td>\n",
       "      <td>144425.938277</td>\n",
       "      <td>покупка жилья для семьи</td>\n",
       "    </tr>\n",
       "  </tbody>\n",
       "</table>\n",
       "</div>"
      ],
      "text/plain": [
       "   children  days_employed  dob_years education  education_id  \\\n",
       "0         1   -8437.673028         42    высшее             0   \n",
       "1         1   -4024.803754         36   среднее             1   \n",
       "2         0   -5623.422610         33   Среднее             1   \n",
       "3         3   -4124.747207         32   среднее             1   \n",
       "4         0  340266.072047         53   среднее             1   \n",
       "5         0    -926.185831         27    высшее             0   \n",
       "6         0   -2879.202052         43    высшее             0   \n",
       "7         0    -152.779569         50   СРЕДНЕЕ             1   \n",
       "8         2   -6929.865299         35    ВЫСШЕЕ             0   \n",
       "9         0   -2188.756445         41   среднее             1   \n",
       "\n",
       "      family_status  family_status_id gender income_type  debt   total_income  \\\n",
       "0   женат / замужем                 0      F   сотрудник     0  253875.639453   \n",
       "1   женат / замужем                 0      F   сотрудник     0  112080.014102   \n",
       "2   женат / замужем                 0      M   сотрудник     0  145885.952297   \n",
       "3   женат / замужем                 0      M   сотрудник     0  267628.550329   \n",
       "4  гражданский брак                 1      F   пенсионер     0  158616.077870   \n",
       "5  гражданский брак                 1      M   компаньон     0  255763.565419   \n",
       "6   женат / замужем                 0      F   компаньон     0  240525.971920   \n",
       "7   женат / замужем                 0      M   сотрудник     0  135823.934197   \n",
       "8  гражданский брак                 1      F   сотрудник     0   95856.832424   \n",
       "9   женат / замужем                 0      M   сотрудник     0  144425.938277   \n",
       "\n",
       "                      purpose  \n",
       "0               покупка жилья  \n",
       "1     приобретение автомобиля  \n",
       "2               покупка жилья  \n",
       "3  дополнительное образование  \n",
       "4             сыграть свадьбу  \n",
       "5               покупка жилья  \n",
       "6           операции с жильем  \n",
       "7                 образование  \n",
       "8       на проведение свадьбы  \n",
       "9     покупка жилья для семьи  "
      ]
     },
     "execution_count": 6,
     "metadata": {},
     "output_type": "execute_result"
    }
   ],
   "source": [
    "df.head(10)"
   ]
  },
  {
   "cell_type": "code",
   "execution_count": 7,
   "id": "369f83cf",
   "metadata": {},
   "outputs": [
    {
     "data": {
      "text/plain": [
       "54"
      ]
     },
     "execution_count": 7,
     "metadata": {},
     "output_type": "execute_result"
    }
   ],
   "source": [
    "'Полные дубликаты'\n",
    "df.duplicated().sum()\n"
   ]
  },
  {
   "cell_type": "markdown",
   "id": "4204eb72",
   "metadata": {},
   "source": [
    "**Выводы**\n",
    "\n",
    "В каждой строке таблицы — данные о заемщике. Колонки включают в себя описание заемщика: его социальный статус, взаимоотношение с кредитными учреждениями и цель займа.\n",
    "\n",
    "Предварительно:\n",
    "\n",
    "В колонках `days_employed` и `total_income` встречаются пропуски.\n",
    "\n",
    "Столбец `total_income` состоит из вещественных типов данных - целесообразно, в целях проведения расчета, перевести  в целочисленный.\n",
    "\n",
    "В столбце `days_employed` присутствуют отрицательные значения.\t\n",
    "\n",
    "В столбце `education` присутствуют строчные и прописные значения.\n",
    "\n",
    "В столбце `purpose` присутствуют большое многообразие целей получения кредита.\t\n",
    "\n",
    "В таблице присутсвуют 54 полных дубликатов.\n",
    "\n",
    "Требуется устранить проблемы в данных."
   ]
  },
  {
   "cell_type": "markdown",
   "id": "3f20b1be",
   "metadata": {},
   "source": [
    "## Обработка данных"
   ]
  },
  {
   "cell_type": "markdown",
   "id": "8077f59b",
   "metadata": {},
   "source": [
    "### Заполнение пропусков"
   ]
  },
  {
   "cell_type": "markdown",
   "id": "1c4ab5e3",
   "metadata": {},
   "source": [
    "Проведем анализ пропусков в столбцах `days_employed` и `total_income`."
   ]
  },
  {
   "cell_type": "code",
   "execution_count": 8,
   "id": "fcd67b31",
   "metadata": {},
   "outputs": [
    {
     "data": {
      "text/html": [
       "<div>\n",
       "<style scoped>\n",
       "    .dataframe tbody tr th:only-of-type {\n",
       "        vertical-align: middle;\n",
       "    }\n",
       "\n",
       "    .dataframe tbody tr th {\n",
       "        vertical-align: top;\n",
       "    }\n",
       "\n",
       "    .dataframe thead th {\n",
       "        text-align: right;\n",
       "    }\n",
       "</style>\n",
       "<table border=\"1\" class=\"dataframe\">\n",
       "  <thead>\n",
       "    <tr style=\"text-align: right;\">\n",
       "      <th></th>\n",
       "      <th>children</th>\n",
       "      <th>days_employed</th>\n",
       "      <th>dob_years</th>\n",
       "      <th>education</th>\n",
       "      <th>education_id</th>\n",
       "      <th>family_status</th>\n",
       "      <th>family_status_id</th>\n",
       "      <th>gender</th>\n",
       "      <th>income_type</th>\n",
       "      <th>debt</th>\n",
       "      <th>total_income</th>\n",
       "      <th>purpose</th>\n",
       "    </tr>\n",
       "  </thead>\n",
       "  <tbody>\n",
       "    <tr>\n",
       "      <th>12</th>\n",
       "      <td>0</td>\n",
       "      <td>NaN</td>\n",
       "      <td>65</td>\n",
       "      <td>среднее</td>\n",
       "      <td>1</td>\n",
       "      <td>гражданский брак</td>\n",
       "      <td>1</td>\n",
       "      <td>M</td>\n",
       "      <td>пенсионер</td>\n",
       "      <td>0</td>\n",
       "      <td>NaN</td>\n",
       "      <td>сыграть свадьбу</td>\n",
       "    </tr>\n",
       "    <tr>\n",
       "      <th>26</th>\n",
       "      <td>0</td>\n",
       "      <td>NaN</td>\n",
       "      <td>41</td>\n",
       "      <td>среднее</td>\n",
       "      <td>1</td>\n",
       "      <td>женат / замужем</td>\n",
       "      <td>0</td>\n",
       "      <td>M</td>\n",
       "      <td>госслужащий</td>\n",
       "      <td>0</td>\n",
       "      <td>NaN</td>\n",
       "      <td>образование</td>\n",
       "    </tr>\n",
       "    <tr>\n",
       "      <th>29</th>\n",
       "      <td>0</td>\n",
       "      <td>NaN</td>\n",
       "      <td>63</td>\n",
       "      <td>среднее</td>\n",
       "      <td>1</td>\n",
       "      <td>Не женат / не замужем</td>\n",
       "      <td>4</td>\n",
       "      <td>F</td>\n",
       "      <td>пенсионер</td>\n",
       "      <td>0</td>\n",
       "      <td>NaN</td>\n",
       "      <td>строительство жилой недвижимости</td>\n",
       "    </tr>\n",
       "    <tr>\n",
       "      <th>41</th>\n",
       "      <td>0</td>\n",
       "      <td>NaN</td>\n",
       "      <td>50</td>\n",
       "      <td>среднее</td>\n",
       "      <td>1</td>\n",
       "      <td>женат / замужем</td>\n",
       "      <td>0</td>\n",
       "      <td>F</td>\n",
       "      <td>госслужащий</td>\n",
       "      <td>0</td>\n",
       "      <td>NaN</td>\n",
       "      <td>сделка с подержанным автомобилем</td>\n",
       "    </tr>\n",
       "    <tr>\n",
       "      <th>55</th>\n",
       "      <td>0</td>\n",
       "      <td>NaN</td>\n",
       "      <td>54</td>\n",
       "      <td>среднее</td>\n",
       "      <td>1</td>\n",
       "      <td>гражданский брак</td>\n",
       "      <td>1</td>\n",
       "      <td>F</td>\n",
       "      <td>пенсионер</td>\n",
       "      <td>1</td>\n",
       "      <td>NaN</td>\n",
       "      <td>сыграть свадьбу</td>\n",
       "    </tr>\n",
       "    <tr>\n",
       "      <th>...</th>\n",
       "      <td>...</td>\n",
       "      <td>...</td>\n",
       "      <td>...</td>\n",
       "      <td>...</td>\n",
       "      <td>...</td>\n",
       "      <td>...</td>\n",
       "      <td>...</td>\n",
       "      <td>...</td>\n",
       "      <td>...</td>\n",
       "      <td>...</td>\n",
       "      <td>...</td>\n",
       "      <td>...</td>\n",
       "    </tr>\n",
       "    <tr>\n",
       "      <th>21489</th>\n",
       "      <td>2</td>\n",
       "      <td>NaN</td>\n",
       "      <td>47</td>\n",
       "      <td>Среднее</td>\n",
       "      <td>1</td>\n",
       "      <td>женат / замужем</td>\n",
       "      <td>0</td>\n",
       "      <td>M</td>\n",
       "      <td>компаньон</td>\n",
       "      <td>0</td>\n",
       "      <td>NaN</td>\n",
       "      <td>сделка с автомобилем</td>\n",
       "    </tr>\n",
       "    <tr>\n",
       "      <th>21495</th>\n",
       "      <td>1</td>\n",
       "      <td>NaN</td>\n",
       "      <td>50</td>\n",
       "      <td>среднее</td>\n",
       "      <td>1</td>\n",
       "      <td>гражданский брак</td>\n",
       "      <td>1</td>\n",
       "      <td>F</td>\n",
       "      <td>сотрудник</td>\n",
       "      <td>0</td>\n",
       "      <td>NaN</td>\n",
       "      <td>свадьба</td>\n",
       "    </tr>\n",
       "    <tr>\n",
       "      <th>21497</th>\n",
       "      <td>0</td>\n",
       "      <td>NaN</td>\n",
       "      <td>48</td>\n",
       "      <td>ВЫСШЕЕ</td>\n",
       "      <td>0</td>\n",
       "      <td>женат / замужем</td>\n",
       "      <td>0</td>\n",
       "      <td>F</td>\n",
       "      <td>компаньон</td>\n",
       "      <td>0</td>\n",
       "      <td>NaN</td>\n",
       "      <td>строительство недвижимости</td>\n",
       "    </tr>\n",
       "    <tr>\n",
       "      <th>21502</th>\n",
       "      <td>1</td>\n",
       "      <td>NaN</td>\n",
       "      <td>42</td>\n",
       "      <td>среднее</td>\n",
       "      <td>1</td>\n",
       "      <td>женат / замужем</td>\n",
       "      <td>0</td>\n",
       "      <td>F</td>\n",
       "      <td>сотрудник</td>\n",
       "      <td>0</td>\n",
       "      <td>NaN</td>\n",
       "      <td>строительство жилой недвижимости</td>\n",
       "    </tr>\n",
       "    <tr>\n",
       "      <th>21510</th>\n",
       "      <td>2</td>\n",
       "      <td>NaN</td>\n",
       "      <td>28</td>\n",
       "      <td>среднее</td>\n",
       "      <td>1</td>\n",
       "      <td>женат / замужем</td>\n",
       "      <td>0</td>\n",
       "      <td>F</td>\n",
       "      <td>сотрудник</td>\n",
       "      <td>0</td>\n",
       "      <td>NaN</td>\n",
       "      <td>приобретение автомобиля</td>\n",
       "    </tr>\n",
       "  </tbody>\n",
       "</table>\n",
       "<p>2174 rows × 12 columns</p>\n",
       "</div>"
      ],
      "text/plain": [
       "       children  days_employed  dob_years education  education_id  \\\n",
       "12            0            NaN         65   среднее             1   \n",
       "26            0            NaN         41   среднее             1   \n",
       "29            0            NaN         63   среднее             1   \n",
       "41            0            NaN         50   среднее             1   \n",
       "55            0            NaN         54   среднее             1   \n",
       "...         ...            ...        ...       ...           ...   \n",
       "21489         2            NaN         47   Среднее             1   \n",
       "21495         1            NaN         50   среднее             1   \n",
       "21497         0            NaN         48    ВЫСШЕЕ             0   \n",
       "21502         1            NaN         42   среднее             1   \n",
       "21510         2            NaN         28   среднее             1   \n",
       "\n",
       "               family_status  family_status_id gender  income_type  debt  \\\n",
       "12          гражданский брак                 1      M    пенсионер     0   \n",
       "26           женат / замужем                 0      M  госслужащий     0   \n",
       "29     Не женат / не замужем                 4      F    пенсионер     0   \n",
       "41           женат / замужем                 0      F  госслужащий     0   \n",
       "55          гражданский брак                 1      F    пенсионер     1   \n",
       "...                      ...               ...    ...          ...   ...   \n",
       "21489        женат / замужем                 0      M    компаньон     0   \n",
       "21495       гражданский брак                 1      F    сотрудник     0   \n",
       "21497        женат / замужем                 0      F    компаньон     0   \n",
       "21502        женат / замужем                 0      F    сотрудник     0   \n",
       "21510        женат / замужем                 0      F    сотрудник     0   \n",
       "\n",
       "       total_income                           purpose  \n",
       "12              NaN                   сыграть свадьбу  \n",
       "26              NaN                       образование  \n",
       "29              NaN  строительство жилой недвижимости  \n",
       "41              NaN  сделка с подержанным автомобилем  \n",
       "55              NaN                   сыграть свадьбу  \n",
       "...             ...                               ...  \n",
       "21489           NaN              сделка с автомобилем  \n",
       "21495           NaN                           свадьба  \n",
       "21497           NaN        строительство недвижимости  \n",
       "21502           NaN  строительство жилой недвижимости  \n",
       "21510           NaN           приобретение автомобиля  \n",
       "\n",
       "[2174 rows x 12 columns]"
      ]
     },
     "execution_count": 8,
     "metadata": {},
     "output_type": "execute_result"
    }
   ],
   "source": [
    "df[df['total_income'].isna()]"
   ]
  },
  {
   "cell_type": "code",
   "execution_count": 9,
   "id": "23372f4c",
   "metadata": {},
   "outputs": [
    {
     "data": {
      "text/html": [
       "<div>\n",
       "<style scoped>\n",
       "    .dataframe tbody tr th:only-of-type {\n",
       "        vertical-align: middle;\n",
       "    }\n",
       "\n",
       "    .dataframe tbody tr th {\n",
       "        vertical-align: top;\n",
       "    }\n",
       "\n",
       "    .dataframe thead th {\n",
       "        text-align: right;\n",
       "    }\n",
       "</style>\n",
       "<table border=\"1\" class=\"dataframe\">\n",
       "  <thead>\n",
       "    <tr style=\"text-align: right;\">\n",
       "      <th></th>\n",
       "      <th>children</th>\n",
       "      <th>days_employed</th>\n",
       "      <th>dob_years</th>\n",
       "      <th>education</th>\n",
       "      <th>education_id</th>\n",
       "      <th>family_status</th>\n",
       "      <th>family_status_id</th>\n",
       "      <th>gender</th>\n",
       "      <th>income_type</th>\n",
       "      <th>debt</th>\n",
       "      <th>total_income</th>\n",
       "      <th>purpose</th>\n",
       "    </tr>\n",
       "  </thead>\n",
       "  <tbody>\n",
       "    <tr>\n",
       "      <th>12</th>\n",
       "      <td>0</td>\n",
       "      <td>NaN</td>\n",
       "      <td>65</td>\n",
       "      <td>среднее</td>\n",
       "      <td>1</td>\n",
       "      <td>гражданский брак</td>\n",
       "      <td>1</td>\n",
       "      <td>M</td>\n",
       "      <td>пенсионер</td>\n",
       "      <td>0</td>\n",
       "      <td>NaN</td>\n",
       "      <td>сыграть свадьбу</td>\n",
       "    </tr>\n",
       "    <tr>\n",
       "      <th>26</th>\n",
       "      <td>0</td>\n",
       "      <td>NaN</td>\n",
       "      <td>41</td>\n",
       "      <td>среднее</td>\n",
       "      <td>1</td>\n",
       "      <td>женат / замужем</td>\n",
       "      <td>0</td>\n",
       "      <td>M</td>\n",
       "      <td>госслужащий</td>\n",
       "      <td>0</td>\n",
       "      <td>NaN</td>\n",
       "      <td>образование</td>\n",
       "    </tr>\n",
       "    <tr>\n",
       "      <th>29</th>\n",
       "      <td>0</td>\n",
       "      <td>NaN</td>\n",
       "      <td>63</td>\n",
       "      <td>среднее</td>\n",
       "      <td>1</td>\n",
       "      <td>Не женат / не замужем</td>\n",
       "      <td>4</td>\n",
       "      <td>F</td>\n",
       "      <td>пенсионер</td>\n",
       "      <td>0</td>\n",
       "      <td>NaN</td>\n",
       "      <td>строительство жилой недвижимости</td>\n",
       "    </tr>\n",
       "    <tr>\n",
       "      <th>41</th>\n",
       "      <td>0</td>\n",
       "      <td>NaN</td>\n",
       "      <td>50</td>\n",
       "      <td>среднее</td>\n",
       "      <td>1</td>\n",
       "      <td>женат / замужем</td>\n",
       "      <td>0</td>\n",
       "      <td>F</td>\n",
       "      <td>госслужащий</td>\n",
       "      <td>0</td>\n",
       "      <td>NaN</td>\n",
       "      <td>сделка с подержанным автомобилем</td>\n",
       "    </tr>\n",
       "    <tr>\n",
       "      <th>55</th>\n",
       "      <td>0</td>\n",
       "      <td>NaN</td>\n",
       "      <td>54</td>\n",
       "      <td>среднее</td>\n",
       "      <td>1</td>\n",
       "      <td>гражданский брак</td>\n",
       "      <td>1</td>\n",
       "      <td>F</td>\n",
       "      <td>пенсионер</td>\n",
       "      <td>1</td>\n",
       "      <td>NaN</td>\n",
       "      <td>сыграть свадьбу</td>\n",
       "    </tr>\n",
       "    <tr>\n",
       "      <th>...</th>\n",
       "      <td>...</td>\n",
       "      <td>...</td>\n",
       "      <td>...</td>\n",
       "      <td>...</td>\n",
       "      <td>...</td>\n",
       "      <td>...</td>\n",
       "      <td>...</td>\n",
       "      <td>...</td>\n",
       "      <td>...</td>\n",
       "      <td>...</td>\n",
       "      <td>...</td>\n",
       "      <td>...</td>\n",
       "    </tr>\n",
       "    <tr>\n",
       "      <th>21489</th>\n",
       "      <td>2</td>\n",
       "      <td>NaN</td>\n",
       "      <td>47</td>\n",
       "      <td>Среднее</td>\n",
       "      <td>1</td>\n",
       "      <td>женат / замужем</td>\n",
       "      <td>0</td>\n",
       "      <td>M</td>\n",
       "      <td>компаньон</td>\n",
       "      <td>0</td>\n",
       "      <td>NaN</td>\n",
       "      <td>сделка с автомобилем</td>\n",
       "    </tr>\n",
       "    <tr>\n",
       "      <th>21495</th>\n",
       "      <td>1</td>\n",
       "      <td>NaN</td>\n",
       "      <td>50</td>\n",
       "      <td>среднее</td>\n",
       "      <td>1</td>\n",
       "      <td>гражданский брак</td>\n",
       "      <td>1</td>\n",
       "      <td>F</td>\n",
       "      <td>сотрудник</td>\n",
       "      <td>0</td>\n",
       "      <td>NaN</td>\n",
       "      <td>свадьба</td>\n",
       "    </tr>\n",
       "    <tr>\n",
       "      <th>21497</th>\n",
       "      <td>0</td>\n",
       "      <td>NaN</td>\n",
       "      <td>48</td>\n",
       "      <td>ВЫСШЕЕ</td>\n",
       "      <td>0</td>\n",
       "      <td>женат / замужем</td>\n",
       "      <td>0</td>\n",
       "      <td>F</td>\n",
       "      <td>компаньон</td>\n",
       "      <td>0</td>\n",
       "      <td>NaN</td>\n",
       "      <td>строительство недвижимости</td>\n",
       "    </tr>\n",
       "    <tr>\n",
       "      <th>21502</th>\n",
       "      <td>1</td>\n",
       "      <td>NaN</td>\n",
       "      <td>42</td>\n",
       "      <td>среднее</td>\n",
       "      <td>1</td>\n",
       "      <td>женат / замужем</td>\n",
       "      <td>0</td>\n",
       "      <td>F</td>\n",
       "      <td>сотрудник</td>\n",
       "      <td>0</td>\n",
       "      <td>NaN</td>\n",
       "      <td>строительство жилой недвижимости</td>\n",
       "    </tr>\n",
       "    <tr>\n",
       "      <th>21510</th>\n",
       "      <td>2</td>\n",
       "      <td>NaN</td>\n",
       "      <td>28</td>\n",
       "      <td>среднее</td>\n",
       "      <td>1</td>\n",
       "      <td>женат / замужем</td>\n",
       "      <td>0</td>\n",
       "      <td>F</td>\n",
       "      <td>сотрудник</td>\n",
       "      <td>0</td>\n",
       "      <td>NaN</td>\n",
       "      <td>приобретение автомобиля</td>\n",
       "    </tr>\n",
       "  </tbody>\n",
       "</table>\n",
       "<p>2174 rows × 12 columns</p>\n",
       "</div>"
      ],
      "text/plain": [
       "       children  days_employed  dob_years education  education_id  \\\n",
       "12            0            NaN         65   среднее             1   \n",
       "26            0            NaN         41   среднее             1   \n",
       "29            0            NaN         63   среднее             1   \n",
       "41            0            NaN         50   среднее             1   \n",
       "55            0            NaN         54   среднее             1   \n",
       "...         ...            ...        ...       ...           ...   \n",
       "21489         2            NaN         47   Среднее             1   \n",
       "21495         1            NaN         50   среднее             1   \n",
       "21497         0            NaN         48    ВЫСШЕЕ             0   \n",
       "21502         1            NaN         42   среднее             1   \n",
       "21510         2            NaN         28   среднее             1   \n",
       "\n",
       "               family_status  family_status_id gender  income_type  debt  \\\n",
       "12          гражданский брак                 1      M    пенсионер     0   \n",
       "26           женат / замужем                 0      M  госслужащий     0   \n",
       "29     Не женат / не замужем                 4      F    пенсионер     0   \n",
       "41           женат / замужем                 0      F  госслужащий     0   \n",
       "55          гражданский брак                 1      F    пенсионер     1   \n",
       "...                      ...               ...    ...          ...   ...   \n",
       "21489        женат / замужем                 0      M    компаньон     0   \n",
       "21495       гражданский брак                 1      F    сотрудник     0   \n",
       "21497        женат / замужем                 0      F    компаньон     0   \n",
       "21502        женат / замужем                 0      F    сотрудник     0   \n",
       "21510        женат / замужем                 0      F    сотрудник     0   \n",
       "\n",
       "       total_income                           purpose  \n",
       "12              NaN                   сыграть свадьбу  \n",
       "26              NaN                       образование  \n",
       "29              NaN  строительство жилой недвижимости  \n",
       "41              NaN  сделка с подержанным автомобилем  \n",
       "55              NaN                   сыграть свадьбу  \n",
       "...             ...                               ...  \n",
       "21489           NaN              сделка с автомобилем  \n",
       "21495           NaN                           свадьба  \n",
       "21497           NaN        строительство недвижимости  \n",
       "21502           NaN  строительство жилой недвижимости  \n",
       "21510           NaN           приобретение автомобиля  \n",
       "\n",
       "[2174 rows x 12 columns]"
      ]
     },
     "execution_count": 9,
     "metadata": {},
     "output_type": "execute_result"
    }
   ],
   "source": [
    "df[df['days_employed'].isna()]"
   ]
  },
  {
   "cell_type": "markdown",
   "id": "c4db9b18",
   "metadata": {},
   "source": [
    "NaN замещает отсутствующее в ячейке число и принадлежит к типу float, поэтому с ним можно проводить математические операции."
   ]
  },
  {
   "cell_type": "code",
   "execution_count": 10,
   "id": "df787296",
   "metadata": {
    "scrolled": true
   },
   "outputs": [
    {
     "data": {
      "text/plain": [
       "'Доля пропущенных значений в столбце total_income: 10%'"
      ]
     },
     "metadata": {},
     "output_type": "display_data"
    },
    {
     "data": {
      "text/plain": [
       "'Доля пропущенных значений в столбце days_employed: 10%'"
      ]
     },
     "metadata": {},
     "output_type": "display_data"
    }
   ],
   "source": [
    "total_rows = df.shape[0]\n",
    "missing_rows1 = df['total_income'].isna().sum()\n",
    "missing_rows2 = df['days_employed'].isna().sum()\n",
    "display('Доля пропущенных значений в столбце total_income: {:.0%}'.format(missing_rows1/total_rows))\n",
    "display('Доля пропущенных значений в столбце days_employed: {:.0%}'.format(missing_rows2/total_rows))"
   ]
  },
  {
   "cell_type": "markdown",
   "id": "f756e198",
   "metadata": {},
   "source": [
    "Отсутствие данных в столбцах `days_employed` и `total_income` в одной и той же строчке, в одном и том же объеме может свидетельствовать о нежелании заемщика предоставлять информацию о своем уровне дохода и стаже трудовой деятельности (персональные данные)."
   ]
  },
  {
   "cell_type": "markdown",
   "id": "0d5563c4",
   "metadata": {},
   "source": [
    "Для определения медианы отсортируем список по убыванию."
   ]
  },
  {
   "cell_type": "code",
   "execution_count": 11,
   "id": "7e58491a",
   "metadata": {},
   "outputs": [],
   "source": [
    "df = df.sort_values(by='total_income', ascending=False)"
   ]
  },
  {
   "cell_type": "code",
   "execution_count": 12,
   "id": "98c9fde8",
   "metadata": {},
   "outputs": [
    {
     "name": "stdout",
     "output_type": "stream",
     "text": [
      "Медианное значение ежемесячного дохода: 145017.93753253992\n",
      "СПРАВОЧНО:\n",
      "Среднемесячный доход: 167422.30220817216\n",
      "Минимальный доход: 20667.26379327158\n",
      "Максимальный доход: 2265604.028722744\n"
     ]
    }
   ],
   "source": [
    "total_income_med = df['total_income'].median()\n",
    "print(f'Медианное значение ежемесячного дохода: {total_income_med}')\n",
    "print('СПРАВОЧНО:')\n",
    "print(f\"Среднемесячный доход: {df['total_income'].mean()}\") \n",
    "print(f\"Минимальный доход: {df['total_income'].min()}\")\n",
    "print(f\"Максимальный доход: {df['total_income'].max()}\") "
   ]
  },
  {
   "cell_type": "markdown",
   "id": "bb9c25f7",
   "metadata": {},
   "source": [
    "Меняем пропущенные показатели в столбце `total_income` на медианное значение ежемесячного дохода. \n",
    "\n",
    "Проверяем внесенные изменения."
   ]
  },
  {
   "cell_type": "code",
   "execution_count": 13,
   "id": "315400c2",
   "metadata": {},
   "outputs": [
    {
     "data": {
      "text/plain": [
       "children               0\n",
       "days_employed       2174\n",
       "dob_years              0\n",
       "education              0\n",
       "education_id           0\n",
       "family_status          0\n",
       "family_status_id       0\n",
       "gender                 0\n",
       "income_type            0\n",
       "debt                   0\n",
       "total_income           0\n",
       "purpose                0\n",
       "dtype: int64"
      ]
     },
     "execution_count": 13,
     "metadata": {},
     "output_type": "execute_result"
    }
   ],
   "source": [
    "df['total_income'] = df['total_income']. fillna(total_income_med)\n",
    "df.isna().sum()"
   ]
  },
  {
   "cell_type": "markdown",
   "id": "26de7337",
   "metadata": {},
   "source": [
    "Среднее и медиана оценивают значения в центре выборки. Если заемщиков с высоким доход столько же сколько и заемщиков с низким доходом, то при расчете можно использовать среднею. Но на практике такого нет - всегда есть лидеры их результаты смещают значение среднего показателя. Оценивать большой массив данных лучше медианой."
   ]
  },
  {
   "cell_type": "code",
   "execution_count": 14,
   "id": "c9ce5b8b",
   "metadata": {},
   "outputs": [
    {
     "data": {
      "text/plain": [
       "<AxesSubplot:xlabel='total_income', ylabel='Count'>"
      ]
     },
     "execution_count": 14,
     "metadata": {},
     "output_type": "execute_result"
    },
    {
     "data": {
      "image/png": "[encoded data removed]",
      "text/plain": [
       "<Figure size 432x288 with 1 Axes>"
      ]
     },
     "metadata": {
      "needs_background": "light"
     },
     "output_type": "display_data"
    }
   ],
   "source": [
    "sns.histplot(df['total_income'])"
   ]
  },
  {
   "cell_type": "markdown",
   "id": "7ed9f708",
   "metadata": {},
   "source": [
    "### Проверка данных на аномалии и исправления."
   ]
  },
  {
   "cell_type": "code",
   "execution_count": 15,
   "id": "c932c354",
   "metadata": {
    "scrolled": true
   },
   "outputs": [
    {
     "data": {
      "text/html": [
       "<div>\n",
       "<style scoped>\n",
       "    .dataframe tbody tr th:only-of-type {\n",
       "        vertical-align: middle;\n",
       "    }\n",
       "\n",
       "    .dataframe tbody tr th {\n",
       "        vertical-align: top;\n",
       "    }\n",
       "\n",
       "    .dataframe thead th {\n",
       "        text-align: right;\n",
       "    }\n",
       "</style>\n",
       "<table border=\"1\" class=\"dataframe\">\n",
       "  <thead>\n",
       "    <tr style=\"text-align: right;\">\n",
       "      <th></th>\n",
       "      <th>children</th>\n",
       "      <th>days_employed</th>\n",
       "      <th>dob_years</th>\n",
       "      <th>education</th>\n",
       "      <th>education_id</th>\n",
       "      <th>family_status</th>\n",
       "      <th>family_status_id</th>\n",
       "      <th>gender</th>\n",
       "      <th>income_type</th>\n",
       "      <th>debt</th>\n",
       "      <th>total_income</th>\n",
       "      <th>purpose</th>\n",
       "    </tr>\n",
       "  </thead>\n",
       "  <tbody>\n",
       "    <tr>\n",
       "      <th>12412</th>\n",
       "      <td>0</td>\n",
       "      <td>-1477.438114</td>\n",
       "      <td>44</td>\n",
       "      <td>высшее</td>\n",
       "      <td>0</td>\n",
       "      <td>женат / замужем</td>\n",
       "      <td>0</td>\n",
       "      <td>M</td>\n",
       "      <td>компаньон</td>\n",
       "      <td>0</td>\n",
       "      <td>2.265604e+06</td>\n",
       "      <td>ремонт жилью</td>\n",
       "    </tr>\n",
       "    <tr>\n",
       "      <th>19606</th>\n",
       "      <td>1</td>\n",
       "      <td>-2577.664662</td>\n",
       "      <td>39</td>\n",
       "      <td>высшее</td>\n",
       "      <td>0</td>\n",
       "      <td>женат / замужем</td>\n",
       "      <td>0</td>\n",
       "      <td>M</td>\n",
       "      <td>компаньон</td>\n",
       "      <td>1</td>\n",
       "      <td>2.200852e+06</td>\n",
       "      <td>строительство недвижимости</td>\n",
       "    </tr>\n",
       "    <tr>\n",
       "      <th>9169</th>\n",
       "      <td>1</td>\n",
       "      <td>-5248.554336</td>\n",
       "      <td>35</td>\n",
       "      <td>среднее</td>\n",
       "      <td>1</td>\n",
       "      <td>гражданский брак</td>\n",
       "      <td>1</td>\n",
       "      <td>M</td>\n",
       "      <td>сотрудник</td>\n",
       "      <td>0</td>\n",
       "      <td>1.726276e+06</td>\n",
       "      <td>дополнительное образование</td>\n",
       "    </tr>\n",
       "    <tr>\n",
       "      <th>20809</th>\n",
       "      <td>0</td>\n",
       "      <td>-4719.273476</td>\n",
       "      <td>61</td>\n",
       "      <td>среднее</td>\n",
       "      <td>1</td>\n",
       "      <td>Не женат / не замужем</td>\n",
       "      <td>4</td>\n",
       "      <td>F</td>\n",
       "      <td>сотрудник</td>\n",
       "      <td>0</td>\n",
       "      <td>1.715018e+06</td>\n",
       "      <td>покупка жилья для семьи</td>\n",
       "    </tr>\n",
       "    <tr>\n",
       "      <th>17178</th>\n",
       "      <td>0</td>\n",
       "      <td>-5734.127087</td>\n",
       "      <td>42</td>\n",
       "      <td>высшее</td>\n",
       "      <td>0</td>\n",
       "      <td>гражданский брак</td>\n",
       "      <td>1</td>\n",
       "      <td>M</td>\n",
       "      <td>компаньон</td>\n",
       "      <td>0</td>\n",
       "      <td>1.711309e+06</td>\n",
       "      <td>сыграть свадьбу</td>\n",
       "    </tr>\n",
       "  </tbody>\n",
       "</table>\n",
       "</div>"
      ],
      "text/plain": [
       "       children  days_employed  dob_years education  education_id  \\\n",
       "12412         0   -1477.438114         44    высшее             0   \n",
       "19606         1   -2577.664662         39    высшее             0   \n",
       "9169          1   -5248.554336         35   среднее             1   \n",
       "20809         0   -4719.273476         61   среднее             1   \n",
       "17178         0   -5734.127087         42    высшее             0   \n",
       "\n",
       "               family_status  family_status_id gender income_type  debt  \\\n",
       "12412        женат / замужем                 0      M   компаньон     0   \n",
       "19606        женат / замужем                 0      M   компаньон     1   \n",
       "9169        гражданский брак                 1      M   сотрудник     0   \n",
       "20809  Не женат / не замужем                 4      F   сотрудник     0   \n",
       "17178       гражданский брак                 1      M   компаньон     0   \n",
       "\n",
       "       total_income                     purpose  \n",
       "12412  2.265604e+06                ремонт жилью  \n",
       "19606  2.200852e+06  строительство недвижимости  \n",
       "9169   1.726276e+06  дополнительное образование  \n",
       "20809  1.715018e+06     покупка жилья для семьи  \n",
       "17178  1.711309e+06             сыграть свадьбу  "
      ]
     },
     "execution_count": 15,
     "metadata": {},
     "output_type": "execute_result"
    }
   ],
   "source": [
    "df.head()"
   ]
  },
  {
   "cell_type": "code",
   "execution_count": 16,
   "id": "c7af998e",
   "metadata": {},
   "outputs": [
    {
     "name": "stdout",
     "output_type": "stream",
     "text": [
      "Отрицательные значения: 15906\n",
      "Положительные значения: 3445\n",
      "Всего: 19351\n"
     ]
    }
   ],
   "source": [
    "minus_rows = 0\n",
    "plus_rows = 0\n",
    "for index in df['days_employed']:\n",
    "    if index < 0:\n",
    "        minus_rows += 1\n",
    "    if index >= 0:\n",
    "        plus_rows +=1\n",
    "print(f'Отрицательные значения: {minus_rows}') \n",
    "print(f'Положительные значения: {plus_rows}')\n",
    "print(f'Всего: {minus_rows+plus_rows}')"
   ]
  },
  {
   "cell_type": "code",
   "execution_count": 17,
   "id": "f83edf26",
   "metadata": {},
   "outputs": [
    {
     "data": {
      "text/plain": [
       "19351"
      ]
     },
     "execution_count": 17,
     "metadata": {},
     "output_type": "execute_result"
    }
   ],
   "source": [
    "df['days_employed'].count()"
   ]
  },
  {
   "cell_type": "markdown",
   "id": "1e53bbd7",
   "metadata": {},
   "source": [
    "В столбце `days_employed` доминируют отрицательные значения. Появление данной аномалии возможно связано с техническим сбоем при импорте показателей в столбец `days_employed` или ошибкой ручного ввода при использовании знака тире."
   ]
  },
  {
   "cell_type": "markdown",
   "id": "98e29d01",
   "metadata": {},
   "source": [
    "Переводим отрицательные значения столбца `days_employed` в положительные. "
   ]
  },
  {
   "cell_type": "code",
   "execution_count": 18,
   "id": "05f9ddbc",
   "metadata": {},
   "outputs": [],
   "source": [
    "df['days_employed'] = df['days_employed'].abs()"
   ]
  },
  {
   "cell_type": "markdown",
   "id": "f2a9ddfd",
   "metadata": {},
   "source": [
    "Проверяем внесенные изменения."
   ]
  },
  {
   "cell_type": "code",
   "execution_count": 19,
   "id": "4f157bb1",
   "metadata": {},
   "outputs": [
    {
     "data": {
      "text/html": [
       "<div>\n",
       "<style scoped>\n",
       "    .dataframe tbody tr th:only-of-type {\n",
       "        vertical-align: middle;\n",
       "    }\n",
       "\n",
       "    .dataframe tbody tr th {\n",
       "        vertical-align: top;\n",
       "    }\n",
       "\n",
       "    .dataframe thead th {\n",
       "        text-align: right;\n",
       "    }\n",
       "</style>\n",
       "<table border=\"1\" class=\"dataframe\">\n",
       "  <thead>\n",
       "    <tr style=\"text-align: right;\">\n",
       "      <th></th>\n",
       "      <th>children</th>\n",
       "      <th>days_employed</th>\n",
       "      <th>dob_years</th>\n",
       "      <th>education</th>\n",
       "      <th>education_id</th>\n",
       "      <th>family_status</th>\n",
       "      <th>family_status_id</th>\n",
       "      <th>gender</th>\n",
       "      <th>income_type</th>\n",
       "      <th>debt</th>\n",
       "      <th>total_income</th>\n",
       "      <th>purpose</th>\n",
       "    </tr>\n",
       "  </thead>\n",
       "  <tbody>\n",
       "    <tr>\n",
       "      <th>12412</th>\n",
       "      <td>0</td>\n",
       "      <td>1477.438114</td>\n",
       "      <td>44</td>\n",
       "      <td>высшее</td>\n",
       "      <td>0</td>\n",
       "      <td>женат / замужем</td>\n",
       "      <td>0</td>\n",
       "      <td>M</td>\n",
       "      <td>компаньон</td>\n",
       "      <td>0</td>\n",
       "      <td>2.265604e+06</td>\n",
       "      <td>ремонт жилью</td>\n",
       "    </tr>\n",
       "    <tr>\n",
       "      <th>19606</th>\n",
       "      <td>1</td>\n",
       "      <td>2577.664662</td>\n",
       "      <td>39</td>\n",
       "      <td>высшее</td>\n",
       "      <td>0</td>\n",
       "      <td>женат / замужем</td>\n",
       "      <td>0</td>\n",
       "      <td>M</td>\n",
       "      <td>компаньон</td>\n",
       "      <td>1</td>\n",
       "      <td>2.200852e+06</td>\n",
       "      <td>строительство недвижимости</td>\n",
       "    </tr>\n",
       "    <tr>\n",
       "      <th>9169</th>\n",
       "      <td>1</td>\n",
       "      <td>5248.554336</td>\n",
       "      <td>35</td>\n",
       "      <td>среднее</td>\n",
       "      <td>1</td>\n",
       "      <td>гражданский брак</td>\n",
       "      <td>1</td>\n",
       "      <td>M</td>\n",
       "      <td>сотрудник</td>\n",
       "      <td>0</td>\n",
       "      <td>1.726276e+06</td>\n",
       "      <td>дополнительное образование</td>\n",
       "    </tr>\n",
       "    <tr>\n",
       "      <th>20809</th>\n",
       "      <td>0</td>\n",
       "      <td>4719.273476</td>\n",
       "      <td>61</td>\n",
       "      <td>среднее</td>\n",
       "      <td>1</td>\n",
       "      <td>Не женат / не замужем</td>\n",
       "      <td>4</td>\n",
       "      <td>F</td>\n",
       "      <td>сотрудник</td>\n",
       "      <td>0</td>\n",
       "      <td>1.715018e+06</td>\n",
       "      <td>покупка жилья для семьи</td>\n",
       "    </tr>\n",
       "    <tr>\n",
       "      <th>17178</th>\n",
       "      <td>0</td>\n",
       "      <td>5734.127087</td>\n",
       "      <td>42</td>\n",
       "      <td>высшее</td>\n",
       "      <td>0</td>\n",
       "      <td>гражданский брак</td>\n",
       "      <td>1</td>\n",
       "      <td>M</td>\n",
       "      <td>компаньон</td>\n",
       "      <td>0</td>\n",
       "      <td>1.711309e+06</td>\n",
       "      <td>сыграть свадьбу</td>\n",
       "    </tr>\n",
       "  </tbody>\n",
       "</table>\n",
       "</div>"
      ],
      "text/plain": [
       "       children  days_employed  dob_years education  education_id  \\\n",
       "12412         0    1477.438114         44    высшее             0   \n",
       "19606         1    2577.664662         39    высшее             0   \n",
       "9169          1    5248.554336         35   среднее             1   \n",
       "20809         0    4719.273476         61   среднее             1   \n",
       "17178         0    5734.127087         42    высшее             0   \n",
       "\n",
       "               family_status  family_status_id gender income_type  debt  \\\n",
       "12412        женат / замужем                 0      M   компаньон     0   \n",
       "19606        женат / замужем                 0      M   компаньон     1   \n",
       "9169        гражданский брак                 1      M   сотрудник     0   \n",
       "20809  Не женат / не замужем                 4      F   сотрудник     0   \n",
       "17178       гражданский брак                 1      M   компаньон     0   \n",
       "\n",
       "       total_income                     purpose  \n",
       "12412  2.265604e+06                ремонт жилью  \n",
       "19606  2.200852e+06  строительство недвижимости  \n",
       "9169   1.726276e+06  дополнительное образование  \n",
       "20809  1.715018e+06     покупка жилья для семьи  \n",
       "17178  1.711309e+06             сыграть свадьбу  "
      ]
     },
     "execution_count": 19,
     "metadata": {},
     "output_type": "execute_result"
    }
   ],
   "source": [
    "df.head()"
   ]
  },
  {
   "cell_type": "code",
   "execution_count": 20,
   "id": "812526b1",
   "metadata": {},
   "outputs": [
    {
     "name": "stdout",
     "output_type": "stream",
     "text": [
      "Отрицательные значения: 0\n",
      "Положительные значения: 19351\n",
      "Всего: 19351\n"
     ]
    }
   ],
   "source": [
    "minus_rows = 0\n",
    "plus_rows = 0\n",
    "for index in df['days_employed']:\n",
    "    if index < 0:\n",
    "        minus_rows += 1\n",
    "    if index >= 0:\n",
    "        plus_rows +=1\n",
    "print(f'Отрицательные значения: {minus_rows}') \n",
    "print(f'Положительные значения: {plus_rows}')\n",
    "print(f'Всего: {minus_rows+plus_rows}')"
   ]
  },
  {
   "cell_type": "markdown",
   "id": "651bd40f",
   "metadata": {},
   "source": [
    "Для определения медианы отсортируем список по убыванию."
   ]
  },
  {
   "cell_type": "code",
   "execution_count": 21,
   "id": "0af3c94e",
   "metadata": {},
   "outputs": [],
   "source": [
    "df = df.sort_values(by='days_employed', ascending=False)"
   ]
  },
  {
   "cell_type": "code",
   "execution_count": 22,
   "id": "58075b9f",
   "metadata": {
    "scrolled": true
   },
   "outputs": [
    {
     "name": "stdout",
     "output_type": "stream",
     "text": [
      "Медианное значение трудового стажа в днях: 2194.220566878695\n"
     ]
    }
   ],
   "source": [
    "days_employed_med = df['days_employed'].median()\n",
    "print(f'Медианное значение трудового стажа в днях: {days_employed_med}')"
   ]
  },
  {
   "cell_type": "markdown",
   "id": "8c24343d",
   "metadata": {},
   "source": [
    "Меняем пропущенные показатели в столбце `total_income` на медианное значение ежемесячного дохода.\n",
    "\n",
    "Проверяем внесенные изменения."
   ]
  },
  {
   "cell_type": "code",
   "execution_count": 23,
   "id": "d7c62661",
   "metadata": {
    "scrolled": true
   },
   "outputs": [
    {
     "data": {
      "text/plain": [
       "children            0\n",
       "days_employed       0\n",
       "dob_years           0\n",
       "education           0\n",
       "education_id        0\n",
       "family_status       0\n",
       "family_status_id    0\n",
       "gender              0\n",
       "income_type         0\n",
       "debt                0\n",
       "total_income        0\n",
       "purpose             0\n",
       "dtype: int64"
      ]
     },
     "execution_count": 23,
     "metadata": {},
     "output_type": "execute_result"
    }
   ],
   "source": [
    "df['days_employed'] = df['days_employed']. fillna(days_employed_med)\n",
    "df.isna().sum()"
   ]
  },
  {
   "cell_type": "code",
   "execution_count": 24,
   "id": "94c19a77",
   "metadata": {
    "scrolled": true
   },
   "outputs": [
    {
     "data": {
      "text/plain": [
       " 0     14149\n",
       " 1      4818\n",
       " 2      2055\n",
       " 3       330\n",
       " 20       76\n",
       "-1        47\n",
       " 4        41\n",
       " 5         9\n",
       "Name: children, dtype: int64"
      ]
     },
     "execution_count": 24,
     "metadata": {},
     "output_type": "execute_result"
    }
   ],
   "source": [
    "df['children'].value_counts()"
   ]
  },
  {
   "cell_type": "markdown",
   "id": "8bc3e7ea",
   "metadata": {},
   "source": [
    "В столбце `children` отрицательные значения. Появление данной аномалии возможно связано с ошибкой ручного ввода при использовании знака тире."
   ]
  },
  {
   "cell_type": "markdown",
   "id": "8c2740ad",
   "metadata": {},
   "source": [
    " Анамальное зачание в 20 детей в 76 семей меняем на медианное значение."
   ]
  },
  {
   "cell_type": "code",
   "execution_count": 25,
   "id": "27b6ff5c",
   "metadata": {},
   "outputs": [],
   "source": [
    "child_med = df.loc[df.loc[:, 'children'] != 20]['children'].median()\n",
    "\n",
    "df['children'] = df['children'].replace(20, int(child_med))"
   ]
  },
  {
   "cell_type": "markdown",
   "id": "cb5aca56",
   "metadata": {},
   "source": [
    "Переводим отрицательные значения столбца `children` в положительные."
   ]
  },
  {
   "cell_type": "code",
   "execution_count": 26,
   "id": "96ed3df7",
   "metadata": {},
   "outputs": [],
   "source": [
    "df['children'] = df['children'].abs()"
   ]
  },
  {
   "cell_type": "markdown",
   "id": "ad48e0eb",
   "metadata": {},
   "source": [
    "Проверяем внесенные изменения."
   ]
  },
  {
   "cell_type": "code",
   "execution_count": 27,
   "id": "ec7974c8",
   "metadata": {},
   "outputs": [
    {
     "data": {
      "text/plain": [
       "0    14225\n",
       "1     4865\n",
       "2     2055\n",
       "3      330\n",
       "4       41\n",
       "5        9\n",
       "Name: children, dtype: int64"
      ]
     },
     "execution_count": 27,
     "metadata": {},
     "output_type": "execute_result"
    }
   ],
   "source": [
    "df['children'].value_counts()"
   ]
  },
  {
   "cell_type": "markdown",
   "id": "68cb8b52",
   "metadata": {},
   "source": [
    "### Изменение типов данных."
   ]
  },
  {
   "cell_type": "markdown",
   "id": "a740da4a",
   "metadata": {},
   "source": [
    "Заменим вещественный тип данных в столбце `total_income` на целочисленный с помощью метода astype()."
   ]
  },
  {
   "cell_type": "code",
   "execution_count": 28,
   "id": "bcab9f4b",
   "metadata": {},
   "outputs": [],
   "source": [
    "df['total_income'] = df['total_income'].astype('int')"
   ]
  },
  {
   "cell_type": "markdown",
   "id": "0ea9d2ea",
   "metadata": {},
   "source": [
    "Проверяем внесенные изменения."
   ]
  },
  {
   "cell_type": "code",
   "execution_count": 29,
   "id": "039745f2",
   "metadata": {},
   "outputs": [
    {
     "name": "stdout",
     "output_type": "stream",
     "text": [
      "<class 'pandas.core.frame.DataFrame'>\n",
      "Int64Index: 21525 entries, 6954 to 21510\n",
      "Data columns (total 12 columns):\n",
      " #   Column            Non-Null Count  Dtype  \n",
      "---  ------            --------------  -----  \n",
      " 0   children          21525 non-null  int64  \n",
      " 1   days_employed     21525 non-null  float64\n",
      " 2   dob_years         21525 non-null  int64  \n",
      " 3   education         21525 non-null  object \n",
      " 4   education_id      21525 non-null  int64  \n",
      " 5   family_status     21525 non-null  object \n",
      " 6   family_status_id  21525 non-null  int64  \n",
      " 7   gender            21525 non-null  object \n",
      " 8   income_type       21525 non-null  object \n",
      " 9   debt              21525 non-null  int64  \n",
      " 10  total_income      21525 non-null  int32  \n",
      " 11  purpose           21525 non-null  object \n",
      "dtypes: float64(1), int32(1), int64(5), object(5)\n",
      "memory usage: 2.1+ MB\n"
     ]
    }
   ],
   "source": [
    "df.info()"
   ]
  },
  {
   "cell_type": "markdown",
   "id": "41826d9a",
   "metadata": {},
   "source": [
    "### Удаление дубликатов."
   ]
  },
  {
   "cell_type": "markdown",
   "id": "a506f409",
   "metadata": {},
   "source": [
    "Выявляем неявные дубликаты в столбце`education`."
   ]
  },
  {
   "cell_type": "code",
   "execution_count": 30,
   "id": "65969fc9",
   "metadata": {},
   "outputs": [
    {
     "data": {
      "text/plain": [
       "array(['ВЫСШЕЕ', 'Высшее', 'НАЧАЛЬНОЕ', 'НЕОКОНЧЕННОЕ ВЫСШЕЕ',\n",
       "       'Начальное', 'Неоконченное высшее', 'СРЕДНЕЕ', 'Среднее',\n",
       "       'УЧЕНАЯ СТЕПЕНЬ', 'Ученая степень', 'высшее', 'начальное',\n",
       "       'неоконченное высшее', 'среднее', 'ученая степень'], dtype=object)"
      ]
     },
     "execution_count": 30,
     "metadata": {},
     "output_type": "execute_result"
    }
   ],
   "source": [
    "df.sort_values(by='education')['education'].unique()\n"
   ]
  },
  {
   "cell_type": "code",
   "execution_count": 31,
   "id": "7e689f1b",
   "metadata": {},
   "outputs": [
    {
     "data": {
      "text/plain": [
       "15"
      ]
     },
     "execution_count": 31,
     "metadata": {},
     "output_type": "execute_result"
    }
   ],
   "source": [
    "df['education'].nunique()"
   ]
  },
  {
   "cell_type": "code",
   "execution_count": 32,
   "id": "bfcaa313",
   "metadata": {},
   "outputs": [],
   "source": [
    "df['education'] = df['education'].str.lower()"
   ]
  },
  {
   "cell_type": "markdown",
   "id": "43b71f9e",
   "metadata": {},
   "source": [
    "Проверяем внесенные изменения."
   ]
  },
  {
   "cell_type": "code",
   "execution_count": 33,
   "id": "627692bd",
   "metadata": {},
   "outputs": [
    {
     "data": {
      "text/plain": [
       "array(['высшее', 'начальное', 'неоконченное высшее', 'среднее',\n",
       "       'ученая степень'], dtype=object)"
      ]
     },
     "execution_count": 33,
     "metadata": {},
     "output_type": "execute_result"
    }
   ],
   "source": [
    "df.sort_values(by='education')['education'].unique()"
   ]
  },
  {
   "cell_type": "code",
   "execution_count": 34,
   "id": "d9e5e0e0",
   "metadata": {},
   "outputs": [
    {
     "data": {
      "text/plain": [
       "5"
      ]
     },
     "execution_count": 34,
     "metadata": {},
     "output_type": "execute_result"
    }
   ],
   "source": [
    "df['education'].nunique()"
   ]
  },
  {
   "cell_type": "markdown",
   "id": "b8d833fd",
   "metadata": {},
   "source": [
    "Количество неявных дубликатов в столбце `education` уменьшилось в три раза с 15 до 5."
   ]
  },
  {
   "cell_type": "markdown",
   "id": "47931183",
   "metadata": {},
   "source": [
    "Проверяем остальные столбцы с типом данных `object` на неявные дубликаты. Проверять на неявные дубликаты целесообразно только столбцы с типом данных `object`. В столбцах с типом данных `int` и `float` неявные дубликаты не выделишь."
   ]
  },
  {
   "cell_type": "code",
   "execution_count": 35,
   "id": "35d264dd",
   "metadata": {
    "scrolled": true
   },
   "outputs": [
    {
     "name": "stdout",
     "output_type": "stream",
     "text": [
      "<class 'pandas.core.frame.DataFrame'>\n",
      "Int64Index: 21525 entries, 6954 to 21510\n",
      "Data columns (total 12 columns):\n",
      " #   Column            Non-Null Count  Dtype  \n",
      "---  ------            --------------  -----  \n",
      " 0   children          21525 non-null  int64  \n",
      " 1   days_employed     21525 non-null  float64\n",
      " 2   dob_years         21525 non-null  int64  \n",
      " 3   education         21525 non-null  object \n",
      " 4   education_id      21525 non-null  int64  \n",
      " 5   family_status     21525 non-null  object \n",
      " 6   family_status_id  21525 non-null  int64  \n",
      " 7   gender            21525 non-null  object \n",
      " 8   income_type       21525 non-null  object \n",
      " 9   debt              21525 non-null  int64  \n",
      " 10  total_income      21525 non-null  int32  \n",
      " 11  purpose           21525 non-null  object \n",
      "dtypes: float64(1), int32(1), int64(5), object(5)\n",
      "memory usage: 2.1+ MB\n"
     ]
    }
   ],
   "source": [
    "df.info()"
   ]
  },
  {
   "cell_type": "markdown",
   "id": "c463176e",
   "metadata": {},
   "source": [
    "Приводим в строчные значения `Не женат / не замужем`"
   ]
  },
  {
   "cell_type": "code",
   "execution_count": 36,
   "id": "45485926",
   "metadata": {
    "scrolled": true
   },
   "outputs": [
    {
     "data": {
      "text/plain": [
       "array(['Не женат / не замужем', 'в разводе', 'вдовец / вдова',\n",
       "       'гражданский брак', 'женат / замужем'], dtype=object)"
      ]
     },
     "execution_count": 36,
     "metadata": {},
     "output_type": "execute_result"
    }
   ],
   "source": [
    "df.sort_values(by='family_status')['family_status'].unique()"
   ]
  },
  {
   "cell_type": "code",
   "execution_count": 37,
   "id": "1e4b0a7d",
   "metadata": {},
   "outputs": [],
   "source": [
    "df['family_status'] = df['family_status'].replace('Не женат / не замужем', 'не женат / не замужем') "
   ]
  },
  {
   "cell_type": "markdown",
   "id": "efe7938a",
   "metadata": {},
   "source": [
    "Проверяем внесенные изменения."
   ]
  },
  {
   "cell_type": "code",
   "execution_count": 38,
   "id": "ae42fc0c",
   "metadata": {
    "scrolled": true
   },
   "outputs": [
    {
     "data": {
      "text/plain": [
       "array(['в разводе', 'вдовец / вдова', 'гражданский брак',\n",
       "       'женат / замужем', 'не женат / не замужем'], dtype=object)"
      ]
     },
     "execution_count": 38,
     "metadata": {},
     "output_type": "execute_result"
    }
   ],
   "source": [
    "df.sort_values(by='family_status')['family_status'].unique()"
   ]
  },
  {
   "cell_type": "code",
   "execution_count": 39,
   "id": "a973d75b",
   "metadata": {
    "scrolled": false
   },
   "outputs": [
    {
     "data": {
      "text/plain": [
       "array(['F', 'M', 'XNA'], dtype=object)"
      ]
     },
     "execution_count": 39,
     "metadata": {},
     "output_type": "execute_result"
    }
   ],
   "source": [
    "df.sort_values(by='gender')['gender'].unique()"
   ]
  },
  {
   "cell_type": "code",
   "execution_count": 40,
   "id": "236e836b",
   "metadata": {},
   "outputs": [
    {
     "data": {
      "text/plain": [
       "F      14236\n",
       "M       7288\n",
       "XNA        1\n",
       "Name: gender, dtype: int64"
      ]
     },
     "execution_count": 40,
     "metadata": {},
     "output_type": "execute_result"
    }
   ],
   "source": [
    "df['gender'].value_counts()"
   ]
  },
  {
   "cell_type": "code",
   "execution_count": 41,
   "id": "71888b19",
   "metadata": {
    "scrolled": true
   },
   "outputs": [
    {
     "data": {
      "text/html": [
       "<div>\n",
       "<style scoped>\n",
       "    .dataframe tbody tr th:only-of-type {\n",
       "        vertical-align: middle;\n",
       "    }\n",
       "\n",
       "    .dataframe tbody tr th {\n",
       "        vertical-align: top;\n",
       "    }\n",
       "\n",
       "    .dataframe thead th {\n",
       "        text-align: right;\n",
       "    }\n",
       "</style>\n",
       "<table border=\"1\" class=\"dataframe\">\n",
       "  <thead>\n",
       "    <tr style=\"text-align: right;\">\n",
       "      <th></th>\n",
       "      <th>children</th>\n",
       "      <th>days_employed</th>\n",
       "      <th>dob_years</th>\n",
       "      <th>education_id</th>\n",
       "      <th>family_status_id</th>\n",
       "      <th>debt</th>\n",
       "      <th>total_income</th>\n",
       "    </tr>\n",
       "    <tr>\n",
       "      <th>gender</th>\n",
       "      <th></th>\n",
       "      <th></th>\n",
       "      <th></th>\n",
       "      <th></th>\n",
       "      <th></th>\n",
       "      <th></th>\n",
       "      <th></th>\n",
       "    </tr>\n",
       "  </thead>\n",
       "  <tbody>\n",
       "    <tr>\n",
       "      <th>F</th>\n",
       "      <td>6382</td>\n",
       "      <td>1.053993e+09</td>\n",
       "      <td>633103</td>\n",
       "      <td>11481</td>\n",
       "      <td>14414</td>\n",
       "      <td>994</td>\n",
       "      <td>2.180251e+09</td>\n",
       "    </tr>\n",
       "    <tr>\n",
       "      <th>M</th>\n",
       "      <td>3792</td>\n",
       "      <td>2.456422e+08</td>\n",
       "      <td>298763</td>\n",
       "      <td>6108</td>\n",
       "      <td>6519</td>\n",
       "      <td>747</td>\n",
       "      <td>1.374592e+09</td>\n",
       "    </tr>\n",
       "    <tr>\n",
       "      <th>XNA</th>\n",
       "      <td>0</td>\n",
       "      <td>2.358601e+03</td>\n",
       "      <td>24</td>\n",
       "      <td>2</td>\n",
       "      <td>1</td>\n",
       "      <td>0</td>\n",
       "      <td>2.039050e+05</td>\n",
       "    </tr>\n",
       "  </tbody>\n",
       "</table>\n",
       "</div>"
      ],
      "text/plain": [
       "        children  days_employed  dob_years  education_id  family_status_id  \\\n",
       "gender                                                                       \n",
       "F           6382   1.053993e+09     633103         11481             14414   \n",
       "M           3792   2.456422e+08     298763          6108              6519   \n",
       "XNA            0   2.358601e+03         24             2                 1   \n",
       "\n",
       "        debt  total_income  \n",
       "gender                      \n",
       "F        994  2.180251e+09  \n",
       "M        747  1.374592e+09  \n",
       "XNA        0  2.039050e+05  "
      ]
     },
     "execution_count": 41,
     "metadata": {},
     "output_type": "execute_result"
    }
   ],
   "source": [
    "df.groupby('gender').sum()"
   ]
  },
  {
   "cell_type": "markdown",
   "id": "6dcbcb63",
   "metadata": {},
   "source": [
    "Данные по строке `XNA` не оказывают существенного влияния на расчет. Приводим  `gender` к `F`- наибольшей величине."
   ]
  },
  {
   "cell_type": "code",
   "execution_count": 42,
   "id": "0bc657e6",
   "metadata": {},
   "outputs": [],
   "source": [
    "df['gender'] = df['gender'].replace('XNA', 'F') "
   ]
  },
  {
   "cell_type": "markdown",
   "id": "ef570eec",
   "metadata": {},
   "source": [
    "Проверяем внесенные изменения."
   ]
  },
  {
   "cell_type": "code",
   "execution_count": 43,
   "id": "af39a2ea",
   "metadata": {},
   "outputs": [
    {
     "data": {
      "text/plain": [
       "array(['F', 'M'], dtype=object)"
      ]
     },
     "execution_count": 43,
     "metadata": {},
     "output_type": "execute_result"
    }
   ],
   "source": [
    "df.sort_values(by='gender')['gender'].unique()"
   ]
  },
  {
   "cell_type": "code",
   "execution_count": 44,
   "id": "bc5b7574",
   "metadata": {
    "scrolled": true
   },
   "outputs": [
    {
     "data": {
      "text/plain": [
       "array(['безработный', 'в декрете', 'госслужащий', 'компаньон',\n",
       "       'пенсионер', 'предприниматель', 'сотрудник', 'студент'],\n",
       "      dtype=object)"
      ]
     },
     "execution_count": 44,
     "metadata": {},
     "output_type": "execute_result"
    }
   ],
   "source": [
    "df.sort_values(by='income_type')['income_type'].unique()"
   ]
  },
  {
   "cell_type": "markdown",
   "id": "6f748d93",
   "metadata": {},
   "source": [
    "В столбце `income_type` правок не требуется."
   ]
  },
  {
   "cell_type": "code",
   "execution_count": 45,
   "id": "f6d01296",
   "metadata": {
    "scrolled": true
   },
   "outputs": [
    {
     "data": {
      "text/plain": [
       "array(['автомобили', 'автомобиль', 'высшее образование',\n",
       "       'дополнительное образование', 'жилье',\n",
       "       'заняться высшим образованием', 'заняться образованием',\n",
       "       'на покупку автомобиля', 'на покупку подержанного автомобиля',\n",
       "       'на покупку своего автомобиля', 'на проведение свадьбы',\n",
       "       'недвижимость', 'образование', 'операции с жильем',\n",
       "       'операции с коммерческой недвижимостью',\n",
       "       'операции с недвижимостью', 'операции со своей недвижимостью',\n",
       "       'покупка жилой недвижимости', 'покупка жилья',\n",
       "       'покупка жилья для сдачи', 'покупка жилья для семьи',\n",
       "       'покупка коммерческой недвижимости', 'покупка недвижимости',\n",
       "       'покупка своего жилья', 'получение высшего образования',\n",
       "       'получение дополнительного образования', 'получение образования',\n",
       "       'приобретение автомобиля', 'профильное образование',\n",
       "       'ремонт жилью', 'свадьба', 'свой автомобиль',\n",
       "       'сделка с автомобилем', 'сделка с подержанным автомобилем',\n",
       "       'строительство жилой недвижимости', 'строительство недвижимости',\n",
       "       'строительство собственной недвижимости', 'сыграть свадьбу'],\n",
       "      dtype=object)"
      ]
     },
     "execution_count": 45,
     "metadata": {},
     "output_type": "execute_result"
    }
   ],
   "source": [
    "df.sort_values(by='purpose')['purpose'].unique()"
   ]
  },
  {
   "cell_type": "markdown",
   "id": "b254ac8d",
   "metadata": {},
   "source": [
    "В столбце `purpose` присутствуют большое многообразие целей получения кредита. Удаляем неявные дубликаты."
   ]
  },
  {
   "cell_type": "code",
   "execution_count": 46,
   "id": "d372c944",
   "metadata": {},
   "outputs": [],
   "source": [
    "def replace_wrong_purpose (wrong_purpose, correct_purpose): \n",
    "    for wrong_purpose in wrong_purpose: \n",
    "        df['purpose'] = df['purpose'].replace(wrong_purpose, correct_purpose) \n",
    "replace_wrong_purpose(['автомобили',\n",
    "                       'автомобиль',\n",
    "                       'на покупку подержанного автомобиля',\n",
    "                       'на покупку своего автомобиля',\n",
    "                       'свой автомобиль',\n",
    "                       'сделка с автомобилем',\n",
    "                       'сделка с подержанным автомобилем',\n",
    "                       'на покупку автомобиля'],\n",
    "                      'приобретение автомобиля'\n",
    "                     )\n",
    "replace_wrong_purpose(['высшее образование',\n",
    "                       'дополнительное образование',\n",
    "                       'заняться высшим образованием',\n",
    "                       'заняться образованием',\n",
    "                       'образование',\n",
    "                       'получение высшего образования',\n",
    "                       'получение дополнительного образования',\n",
    "                       'профильное образование'],\n",
    "                      'получение образования'\n",
    "                     )\n",
    "replace_wrong_purpose(['жилье',\n",
    "                       'недвижимость',\n",
    "                       'операции с жильем',\n",
    "                       'операции с коммерческой недвижимостью',\n",
    "                       'операции со своей недвижимостью',\n",
    "                       'покупка жилой недвижимости',\n",
    "                       'покупка жилья',\n",
    "                       'покупка жилья для сдачи',\n",
    "                       'покупка жилья для семьи',\n",
    "                       'покупка коммерческой недвижимости',\n",
    "                       'покупка недвижимости',\n",
    "                       'покупка своего жилья',\n",
    "                       'ремонт жилью','строительство жилой недвижимости',\n",
    "                       'строительство недвижимости',\n",
    "                       'строительство собственной недвижимости'],\n",
    "                      'операции с недвижимостью'\n",
    "                     )\n",
    "replace_wrong_purpose(['свадьба',\n",
    "                       'сыграть свадьбу'],\n",
    "                      'на проведение свадьбы'\n",
    "                     )"
   ]
  },
  {
   "cell_type": "markdown",
   "id": "8389fd82",
   "metadata": {},
   "source": [
    "Проверяем внесенные изменения."
   ]
  },
  {
   "cell_type": "code",
   "execution_count": 47,
   "id": "2cfdce1e",
   "metadata": {},
   "outputs": [
    {
     "data": {
      "text/plain": [
       "array(['на проведение свадьбы', 'операции с недвижимостью',\n",
       "       'получение образования', 'приобретение автомобиля'], dtype=object)"
      ]
     },
     "execution_count": 47,
     "metadata": {},
     "output_type": "execute_result"
    }
   ],
   "source": [
    "df.sort_values(by='purpose')['purpose'].unique()"
   ]
  },
  {
   "cell_type": "markdown",
   "id": "f655b705",
   "metadata": {},
   "source": [
    "Появление неявных дубликатов обусловлено человеческим фактором - ручным вводом информации."
   ]
  },
  {
   "cell_type": "code",
   "execution_count": 48,
   "id": "73f30ff7",
   "metadata": {},
   "outputs": [
    {
     "name": "stdout",
     "output_type": "stream",
     "text": [
      "<class 'pandas.core.frame.DataFrame'>\n",
      "Int64Index: 21525 entries, 6954 to 21510\n",
      "Data columns (total 12 columns):\n",
      " #   Column            Non-Null Count  Dtype  \n",
      "---  ------            --------------  -----  \n",
      " 0   children          21525 non-null  int64  \n",
      " 1   days_employed     21525 non-null  float64\n",
      " 2   dob_years         21525 non-null  int64  \n",
      " 3   education         21525 non-null  object \n",
      " 4   education_id      21525 non-null  int64  \n",
      " 5   family_status     21525 non-null  object \n",
      " 6   family_status_id  21525 non-null  int64  \n",
      " 7   gender            21525 non-null  object \n",
      " 8   income_type       21525 non-null  object \n",
      " 9   debt              21525 non-null  int64  \n",
      " 10  total_income      21525 non-null  int32  \n",
      " 11  purpose           21525 non-null  object \n",
      "dtypes: float64(1), int32(1), int64(5), object(5)\n",
      "memory usage: 2.1+ MB\n"
     ]
    }
   ],
   "source": [
    "df.info()"
   ]
  },
  {
   "cell_type": "code",
   "execution_count": 49,
   "id": "1d677c09",
   "metadata": {},
   "outputs": [
    {
     "data": {
      "text/plain": [
       "407"
      ]
     },
     "execution_count": 49,
     "metadata": {},
     "output_type": "execute_result"
    }
   ],
   "source": [
    "'Полные дубликаты'\n",
    "df.duplicated().sum()"
   ]
  },
  {
   "cell_type": "markdown",
   "id": "e1e513ea",
   "metadata": {},
   "source": [
    "Удаляем полные дубликаты."
   ]
  },
  {
   "cell_type": "code",
   "execution_count": 50,
   "id": "aefb044b",
   "metadata": {},
   "outputs": [],
   "source": [
    "df = df.drop_duplicates().reset_index(drop=True)"
   ]
  },
  {
   "cell_type": "markdown",
   "id": "f1b0e867",
   "metadata": {},
   "source": [
    "Проверяем внесенные изменения."
   ]
  },
  {
   "cell_type": "code",
   "execution_count": 51,
   "id": "07f65385",
   "metadata": {},
   "outputs": [
    {
     "data": {
      "text/plain": [
       "0"
      ]
     },
     "execution_count": 51,
     "metadata": {},
     "output_type": "execute_result"
    }
   ],
   "source": [
    "'Полные дубликаты'\n",
    "df.duplicated().sum()"
   ]
  },
  {
   "cell_type": "code",
   "execution_count": 52,
   "id": "4d0136a3",
   "metadata": {},
   "outputs": [
    {
     "name": "stdout",
     "output_type": "stream",
     "text": [
      "<class 'pandas.core.frame.DataFrame'>\n",
      "RangeIndex: 21118 entries, 0 to 21117\n",
      "Data columns (total 12 columns):\n",
      " #   Column            Non-Null Count  Dtype  \n",
      "---  ------            --------------  -----  \n",
      " 0   children          21118 non-null  int64  \n",
      " 1   days_employed     21118 non-null  float64\n",
      " 2   dob_years         21118 non-null  int64  \n",
      " 3   education         21118 non-null  object \n",
      " 4   education_id      21118 non-null  int64  \n",
      " 5   family_status     21118 non-null  object \n",
      " 6   family_status_id  21118 non-null  int64  \n",
      " 7   gender            21118 non-null  object \n",
      " 8   income_type       21118 non-null  object \n",
      " 9   debt              21118 non-null  int64  \n",
      " 10  total_income      21118 non-null  int32  \n",
      " 11  purpose           21118 non-null  object \n",
      "dtypes: float64(1), int32(1), int64(5), object(5)\n",
      "memory usage: 1.9+ MB\n"
     ]
    }
   ],
   "source": [
    "df.info()"
   ]
  },
  {
   "cell_type": "markdown",
   "id": "3f0cb4f2",
   "metadata": {},
   "source": [
    "Количество строк уменьшилось на 407(было 21525) - удалены полные дубликаты. Появление полных дубликатов возможно связано с объединением нескольких таблиц без проверки на дубликаты."
   ]
  },
  {
   "cell_type": "markdown",
   "id": "5833a239",
   "metadata": {},
   "source": [
    "### Формирование дополнительных датафреймов словарей, декомпозиция исходного датафрейма."
   ]
  },
  {
   "cell_type": "markdown",
   "id": "2926e143",
   "metadata": {},
   "source": [
    "Создаем новый датафрейм `df_education` - словарь где `education` (уровень образования клиента) соотвествует `education_id` ( идентификатор уровня образования)."
   ]
  },
  {
   "cell_type": "code",
   "execution_count": 53,
   "id": "df77b5d9",
   "metadata": {
    "scrolled": true
   },
   "outputs": [
    {
     "data": {
      "text/html": [
       "<div>\n",
       "<style scoped>\n",
       "    .dataframe tbody tr th:only-of-type {\n",
       "        vertical-align: middle;\n",
       "    }\n",
       "\n",
       "    .dataframe tbody tr th {\n",
       "        vertical-align: top;\n",
       "    }\n",
       "\n",
       "    .dataframe thead th {\n",
       "        text-align: right;\n",
       "    }\n",
       "</style>\n",
       "<table border=\"1\" class=\"dataframe\">\n",
       "  <thead>\n",
       "    <tr style=\"text-align: right;\">\n",
       "      <th></th>\n",
       "      <th>education</th>\n",
       "      <th>education_id</th>\n",
       "    </tr>\n",
       "  </thead>\n",
       "  <tbody>\n",
       "    <tr>\n",
       "      <th>0</th>\n",
       "      <td>среднее</td>\n",
       "      <td>1</td>\n",
       "    </tr>\n",
       "    <tr>\n",
       "      <th>1</th>\n",
       "      <td>высшее</td>\n",
       "      <td>0</td>\n",
       "    </tr>\n",
       "    <tr>\n",
       "      <th>2</th>\n",
       "      <td>среднее</td>\n",
       "      <td>1</td>\n",
       "    </tr>\n",
       "    <tr>\n",
       "      <th>3</th>\n",
       "      <td>среднее</td>\n",
       "      <td>1</td>\n",
       "    </tr>\n",
       "    <tr>\n",
       "      <th>4</th>\n",
       "      <td>среднее</td>\n",
       "      <td>1</td>\n",
       "    </tr>\n",
       "    <tr>\n",
       "      <th>5</th>\n",
       "      <td>среднее</td>\n",
       "      <td>1</td>\n",
       "    </tr>\n",
       "    <tr>\n",
       "      <th>6</th>\n",
       "      <td>среднее</td>\n",
       "      <td>1</td>\n",
       "    </tr>\n",
       "    <tr>\n",
       "      <th>7</th>\n",
       "      <td>среднее</td>\n",
       "      <td>1</td>\n",
       "    </tr>\n",
       "    <tr>\n",
       "      <th>8</th>\n",
       "      <td>среднее</td>\n",
       "      <td>1</td>\n",
       "    </tr>\n",
       "    <tr>\n",
       "      <th>9</th>\n",
       "      <td>среднее</td>\n",
       "      <td>1</td>\n",
       "    </tr>\n",
       "  </tbody>\n",
       "</table>\n",
       "</div>"
      ],
      "text/plain": [
       "  education  education_id\n",
       "0   среднее             1\n",
       "1    высшее             0\n",
       "2   среднее             1\n",
       "3   среднее             1\n",
       "4   среднее             1\n",
       "5   среднее             1\n",
       "6   среднее             1\n",
       "7   среднее             1\n",
       "8   среднее             1\n",
       "9   среднее             1"
      ]
     },
     "execution_count": 53,
     "metadata": {},
     "output_type": "execute_result"
    }
   ],
   "source": [
    "df_education = df[['education', 'education_id']]\n",
    "df_education.head(10)"
   ]
  },
  {
   "cell_type": "markdown",
   "id": "113ddd02",
   "metadata": {},
   "source": [
    "Удаляем полные дубликаты."
   ]
  },
  {
   "cell_type": "code",
   "execution_count": 54,
   "id": "bfabfd45",
   "metadata": {},
   "outputs": [
    {
     "data": {
      "text/html": [
       "<div>\n",
       "<style scoped>\n",
       "    .dataframe tbody tr th:only-of-type {\n",
       "        vertical-align: middle;\n",
       "    }\n",
       "\n",
       "    .dataframe tbody tr th {\n",
       "        vertical-align: top;\n",
       "    }\n",
       "\n",
       "    .dataframe thead th {\n",
       "        text-align: right;\n",
       "    }\n",
       "</style>\n",
       "<table border=\"1\" class=\"dataframe\">\n",
       "  <thead>\n",
       "    <tr style=\"text-align: right;\">\n",
       "      <th></th>\n",
       "      <th>education</th>\n",
       "      <th>education_id</th>\n",
       "    </tr>\n",
       "  </thead>\n",
       "  <tbody>\n",
       "    <tr>\n",
       "      <th>0</th>\n",
       "      <td>среднее</td>\n",
       "      <td>1</td>\n",
       "    </tr>\n",
       "    <tr>\n",
       "      <th>1</th>\n",
       "      <td>высшее</td>\n",
       "      <td>0</td>\n",
       "    </tr>\n",
       "    <tr>\n",
       "      <th>2</th>\n",
       "      <td>начальное</td>\n",
       "      <td>3</td>\n",
       "    </tr>\n",
       "    <tr>\n",
       "      <th>3</th>\n",
       "      <td>неоконченное высшее</td>\n",
       "      <td>2</td>\n",
       "    </tr>\n",
       "    <tr>\n",
       "      <th>4</th>\n",
       "      <td>ученая степень</td>\n",
       "      <td>4</td>\n",
       "    </tr>\n",
       "  </tbody>\n",
       "</table>\n",
       "</div>"
      ],
      "text/plain": [
       "             education  education_id\n",
       "0              среднее             1\n",
       "1               высшее             0\n",
       "2            начальное             3\n",
       "3  неоконченное высшее             2\n",
       "4       ученая степень             4"
      ]
     },
     "execution_count": 54,
     "metadata": {},
     "output_type": "execute_result"
    }
   ],
   "source": [
    "df_education = df_education.drop_duplicates().reset_index(drop=True)\n",
    "df_education.head(10)"
   ]
  },
  {
   "cell_type": "markdown",
   "id": "f65149c3",
   "metadata": {},
   "source": [
    "Создаем новый датафрейм `df_family_status` - словарь где  `family_status` (семейное положение) соответствует`family_status_id` (идентификатор семейного положения)."
   ]
  },
  {
   "cell_type": "code",
   "execution_count": 55,
   "id": "0e6f7bf8",
   "metadata": {
    "scrolled": true
   },
   "outputs": [
    {
     "data": {
      "text/html": [
       "<div>\n",
       "<style scoped>\n",
       "    .dataframe tbody tr th:only-of-type {\n",
       "        vertical-align: middle;\n",
       "    }\n",
       "\n",
       "    .dataframe tbody tr th {\n",
       "        vertical-align: top;\n",
       "    }\n",
       "\n",
       "    .dataframe thead th {\n",
       "        text-align: right;\n",
       "    }\n",
       "</style>\n",
       "<table border=\"1\" class=\"dataframe\">\n",
       "  <thead>\n",
       "    <tr style=\"text-align: right;\">\n",
       "      <th></th>\n",
       "      <th>family_status</th>\n",
       "      <th>family_status_id</th>\n",
       "    </tr>\n",
       "  </thead>\n",
       "  <tbody>\n",
       "    <tr>\n",
       "      <th>0</th>\n",
       "      <td>вдовец / вдова</td>\n",
       "      <td>2</td>\n",
       "    </tr>\n",
       "    <tr>\n",
       "      <th>1</th>\n",
       "      <td>не женат / не замужем</td>\n",
       "      <td>4</td>\n",
       "    </tr>\n",
       "    <tr>\n",
       "      <th>2</th>\n",
       "      <td>женат / замужем</td>\n",
       "      <td>0</td>\n",
       "    </tr>\n",
       "    <tr>\n",
       "      <th>3</th>\n",
       "      <td>женат / замужем</td>\n",
       "      <td>0</td>\n",
       "    </tr>\n",
       "    <tr>\n",
       "      <th>4</th>\n",
       "      <td>гражданский брак</td>\n",
       "      <td>1</td>\n",
       "    </tr>\n",
       "    <tr>\n",
       "      <th>5</th>\n",
       "      <td>женат / замужем</td>\n",
       "      <td>0</td>\n",
       "    </tr>\n",
       "    <tr>\n",
       "      <th>6</th>\n",
       "      <td>гражданский брак</td>\n",
       "      <td>1</td>\n",
       "    </tr>\n",
       "    <tr>\n",
       "      <th>7</th>\n",
       "      <td>женат / замужем</td>\n",
       "      <td>0</td>\n",
       "    </tr>\n",
       "    <tr>\n",
       "      <th>8</th>\n",
       "      <td>в разводе</td>\n",
       "      <td>3</td>\n",
       "    </tr>\n",
       "    <tr>\n",
       "      <th>9</th>\n",
       "      <td>женат / замужем</td>\n",
       "      <td>0</td>\n",
       "    </tr>\n",
       "  </tbody>\n",
       "</table>\n",
       "</div>"
      ],
      "text/plain": [
       "           family_status  family_status_id\n",
       "0         вдовец / вдова                 2\n",
       "1  не женат / не замужем                 4\n",
       "2        женат / замужем                 0\n",
       "3        женат / замужем                 0\n",
       "4       гражданский брак                 1\n",
       "5        женат / замужем                 0\n",
       "6       гражданский брак                 1\n",
       "7        женат / замужем                 0\n",
       "8              в разводе                 3\n",
       "9        женат / замужем                 0"
      ]
     },
     "execution_count": 55,
     "metadata": {},
     "output_type": "execute_result"
    }
   ],
   "source": [
    "df_family_status = df[['family_status', 'family_status_id']]\n",
    "df_family_status.head(10)"
   ]
  },
  {
   "cell_type": "markdown",
   "id": "686e8a5b",
   "metadata": {},
   "source": [
    "Удаляем полные дубликаты."
   ]
  },
  {
   "cell_type": "code",
   "execution_count": 56,
   "id": "5e636b58",
   "metadata": {},
   "outputs": [
    {
     "data": {
      "text/html": [
       "<div>\n",
       "<style scoped>\n",
       "    .dataframe tbody tr th:only-of-type {\n",
       "        vertical-align: middle;\n",
       "    }\n",
       "\n",
       "    .dataframe tbody tr th {\n",
       "        vertical-align: top;\n",
       "    }\n",
       "\n",
       "    .dataframe thead th {\n",
       "        text-align: right;\n",
       "    }\n",
       "</style>\n",
       "<table border=\"1\" class=\"dataframe\">\n",
       "  <thead>\n",
       "    <tr style=\"text-align: right;\">\n",
       "      <th></th>\n",
       "      <th>family_status</th>\n",
       "      <th>family_status_id</th>\n",
       "    </tr>\n",
       "  </thead>\n",
       "  <tbody>\n",
       "    <tr>\n",
       "      <th>0</th>\n",
       "      <td>вдовец / вдова</td>\n",
       "      <td>2</td>\n",
       "    </tr>\n",
       "    <tr>\n",
       "      <th>1</th>\n",
       "      <td>не женат / не замужем</td>\n",
       "      <td>4</td>\n",
       "    </tr>\n",
       "    <tr>\n",
       "      <th>2</th>\n",
       "      <td>женат / замужем</td>\n",
       "      <td>0</td>\n",
       "    </tr>\n",
       "    <tr>\n",
       "      <th>3</th>\n",
       "      <td>гражданский брак</td>\n",
       "      <td>1</td>\n",
       "    </tr>\n",
       "    <tr>\n",
       "      <th>4</th>\n",
       "      <td>в разводе</td>\n",
       "      <td>3</td>\n",
       "    </tr>\n",
       "  </tbody>\n",
       "</table>\n",
       "</div>"
      ],
      "text/plain": [
       "           family_status  family_status_id\n",
       "0         вдовец / вдова                 2\n",
       "1  не женат / не замужем                 4\n",
       "2        женат / замужем                 0\n",
       "3       гражданский брак                 1\n",
       "4              в разводе                 3"
      ]
     },
     "execution_count": 56,
     "metadata": {},
     "output_type": "execute_result"
    }
   ],
   "source": [
    "df_family_status = df_family_status.drop_duplicates().reset_index(drop=True)\n",
    "df_family_status.head(10)"
   ]
  },
  {
   "cell_type": "markdown",
   "id": "d8e9905c",
   "metadata": {},
   "source": [
    "Удаляем из исходного датафрейма столбцы `education` и `family_status`. Оставляем только их идентификаторы: `education_id` и `family_status_id`, так как ранее сформировали справочники."
   ]
  },
  {
   "cell_type": "code",
   "execution_count": 57,
   "id": "cf6c8b4f",
   "metadata": {},
   "outputs": [
    {
     "data": {
      "text/html": [
       "<div>\n",
       "<style scoped>\n",
       "    .dataframe tbody tr th:only-of-type {\n",
       "        vertical-align: middle;\n",
       "    }\n",
       "\n",
       "    .dataframe tbody tr th {\n",
       "        vertical-align: top;\n",
       "    }\n",
       "\n",
       "    .dataframe thead th {\n",
       "        text-align: right;\n",
       "    }\n",
       "</style>\n",
       "<table border=\"1\" class=\"dataframe\">\n",
       "  <thead>\n",
       "    <tr style=\"text-align: right;\">\n",
       "      <th></th>\n",
       "      <th>children</th>\n",
       "      <th>days_employed</th>\n",
       "      <th>dob_years</th>\n",
       "      <th>education_id</th>\n",
       "      <th>family_status_id</th>\n",
       "      <th>gender</th>\n",
       "      <th>income_type</th>\n",
       "      <th>debt</th>\n",
       "      <th>total_income</th>\n",
       "      <th>purpose</th>\n",
       "    </tr>\n",
       "  </thead>\n",
       "  <tbody>\n",
       "    <tr>\n",
       "      <th>0</th>\n",
       "      <td>0</td>\n",
       "      <td>401755.400475</td>\n",
       "      <td>56</td>\n",
       "      <td>1</td>\n",
       "      <td>2</td>\n",
       "      <td>F</td>\n",
       "      <td>пенсионер</td>\n",
       "      <td>0</td>\n",
       "      <td>176278</td>\n",
       "      <td>операции с недвижимостью</td>\n",
       "    </tr>\n",
       "    <tr>\n",
       "      <th>1</th>\n",
       "      <td>0</td>\n",
       "      <td>401715.811749</td>\n",
       "      <td>69</td>\n",
       "      <td>0</td>\n",
       "      <td>4</td>\n",
       "      <td>F</td>\n",
       "      <td>пенсионер</td>\n",
       "      <td>0</td>\n",
       "      <td>57390</td>\n",
       "      <td>получение образования</td>\n",
       "    </tr>\n",
       "    <tr>\n",
       "      <th>2</th>\n",
       "      <td>1</td>\n",
       "      <td>401675.093434</td>\n",
       "      <td>61</td>\n",
       "      <td>1</td>\n",
       "      <td>0</td>\n",
       "      <td>F</td>\n",
       "      <td>пенсионер</td>\n",
       "      <td>0</td>\n",
       "      <td>126214</td>\n",
       "      <td>операции с недвижимостью</td>\n",
       "    </tr>\n",
       "    <tr>\n",
       "      <th>3</th>\n",
       "      <td>0</td>\n",
       "      <td>401674.466633</td>\n",
       "      <td>60</td>\n",
       "      <td>1</td>\n",
       "      <td>0</td>\n",
       "      <td>M</td>\n",
       "      <td>пенсионер</td>\n",
       "      <td>0</td>\n",
       "      <td>325395</td>\n",
       "      <td>приобретение автомобиля</td>\n",
       "    </tr>\n",
       "    <tr>\n",
       "      <th>4</th>\n",
       "      <td>0</td>\n",
       "      <td>401663.850046</td>\n",
       "      <td>61</td>\n",
       "      <td>1</td>\n",
       "      <td>1</td>\n",
       "      <td>F</td>\n",
       "      <td>пенсионер</td>\n",
       "      <td>0</td>\n",
       "      <td>48286</td>\n",
       "      <td>на проведение свадьбы</td>\n",
       "    </tr>\n",
       "    <tr>\n",
       "      <th>5</th>\n",
       "      <td>0</td>\n",
       "      <td>401635.032697</td>\n",
       "      <td>56</td>\n",
       "      <td>1</td>\n",
       "      <td>0</td>\n",
       "      <td>F</td>\n",
       "      <td>пенсионер</td>\n",
       "      <td>0</td>\n",
       "      <td>48242</td>\n",
       "      <td>операции с недвижимостью</td>\n",
       "    </tr>\n",
       "    <tr>\n",
       "      <th>6</th>\n",
       "      <td>0</td>\n",
       "      <td>401619.633298</td>\n",
       "      <td>63</td>\n",
       "      <td>1</td>\n",
       "      <td>1</td>\n",
       "      <td>F</td>\n",
       "      <td>пенсионер</td>\n",
       "      <td>0</td>\n",
       "      <td>51449</td>\n",
       "      <td>на проведение свадьбы</td>\n",
       "    </tr>\n",
       "    <tr>\n",
       "      <th>7</th>\n",
       "      <td>0</td>\n",
       "      <td>401614.475622</td>\n",
       "      <td>59</td>\n",
       "      <td>1</td>\n",
       "      <td>0</td>\n",
       "      <td>F</td>\n",
       "      <td>пенсионер</td>\n",
       "      <td>0</td>\n",
       "      <td>152769</td>\n",
       "      <td>операции с недвижимостью</td>\n",
       "    </tr>\n",
       "    <tr>\n",
       "      <th>8</th>\n",
       "      <td>0</td>\n",
       "      <td>401591.828457</td>\n",
       "      <td>56</td>\n",
       "      <td>1</td>\n",
       "      <td>3</td>\n",
       "      <td>F</td>\n",
       "      <td>пенсионер</td>\n",
       "      <td>0</td>\n",
       "      <td>39513</td>\n",
       "      <td>получение образования</td>\n",
       "    </tr>\n",
       "    <tr>\n",
       "      <th>9</th>\n",
       "      <td>0</td>\n",
       "      <td>401590.452231</td>\n",
       "      <td>58</td>\n",
       "      <td>1</td>\n",
       "      <td>0</td>\n",
       "      <td>F</td>\n",
       "      <td>пенсионер</td>\n",
       "      <td>0</td>\n",
       "      <td>175306</td>\n",
       "      <td>получение образования</td>\n",
       "    </tr>\n",
       "  </tbody>\n",
       "</table>\n",
       "</div>"
      ],
      "text/plain": [
       "   children  days_employed  dob_years  education_id  family_status_id gender  \\\n",
       "0         0  401755.400475         56             1                 2      F   \n",
       "1         0  401715.811749         69             0                 4      F   \n",
       "2         1  401675.093434         61             1                 0      F   \n",
       "3         0  401674.466633         60             1                 0      M   \n",
       "4         0  401663.850046         61             1                 1      F   \n",
       "5         0  401635.032697         56             1                 0      F   \n",
       "6         0  401619.633298         63             1                 1      F   \n",
       "7         0  401614.475622         59             1                 0      F   \n",
       "8         0  401591.828457         56             1                 3      F   \n",
       "9         0  401590.452231         58             1                 0      F   \n",
       "\n",
       "  income_type  debt  total_income                   purpose  \n",
       "0   пенсионер     0        176278  операции с недвижимостью  \n",
       "1   пенсионер     0         57390     получение образования  \n",
       "2   пенсионер     0        126214  операции с недвижимостью  \n",
       "3   пенсионер     0        325395   приобретение автомобиля  \n",
       "4   пенсионер     0         48286     на проведение свадьбы  \n",
       "5   пенсионер     0         48242  операции с недвижимостью  \n",
       "6   пенсионер     0         51449     на проведение свадьбы  \n",
       "7   пенсионер     0        152769  операции с недвижимостью  \n",
       "8   пенсионер     0         39513     получение образования  \n",
       "9   пенсионер     0        175306     получение образования  "
      ]
     },
     "execution_count": 57,
     "metadata": {},
     "output_type": "execute_result"
    }
   ],
   "source": [
    "df = df.drop(['education', 'family_status'], axis=1)\n",
    "df.head(10)"
   ]
  },
  {
   "cell_type": "markdown",
   "id": "1bef3f4b",
   "metadata": {},
   "source": [
    "### Категоризация дохода."
   ]
  },
  {
   "cell_type": "markdown",
   "id": "2eb8a233",
   "metadata": {},
   "source": [
    "Создаем столбец `total_income_category` с категориями:\n",
    "* 0–30000 — 'E';\n",
    "* 30001–50000 — 'D';\n",
    "* 50001–200000 — 'C';\n",
    "* 200001–1000000 — 'B';\n",
    "* 1000001 и выше — 'A'."
   ]
  },
  {
   "cell_type": "code",
   "execution_count": 58,
   "id": "7921a647",
   "metadata": {},
   "outputs": [
    {
     "data": {
      "text/html": [
       "<div>\n",
       "<style scoped>\n",
       "    .dataframe tbody tr th:only-of-type {\n",
       "        vertical-align: middle;\n",
       "    }\n",
       "\n",
       "    .dataframe tbody tr th {\n",
       "        vertical-align: top;\n",
       "    }\n",
       "\n",
       "    .dataframe thead th {\n",
       "        text-align: right;\n",
       "    }\n",
       "</style>\n",
       "<table border=\"1\" class=\"dataframe\">\n",
       "  <thead>\n",
       "    <tr style=\"text-align: right;\">\n",
       "      <th></th>\n",
       "      <th>children</th>\n",
       "      <th>days_employed</th>\n",
       "      <th>dob_years</th>\n",
       "      <th>education_id</th>\n",
       "      <th>family_status_id</th>\n",
       "      <th>gender</th>\n",
       "      <th>income_type</th>\n",
       "      <th>debt</th>\n",
       "      <th>total_income</th>\n",
       "      <th>purpose</th>\n",
       "      <th>total_income_category</th>\n",
       "    </tr>\n",
       "  </thead>\n",
       "  <tbody>\n",
       "    <tr>\n",
       "      <th>0</th>\n",
       "      <td>0</td>\n",
       "      <td>401755.400475</td>\n",
       "      <td>56</td>\n",
       "      <td>1</td>\n",
       "      <td>2</td>\n",
       "      <td>F</td>\n",
       "      <td>пенсионер</td>\n",
       "      <td>0</td>\n",
       "      <td>176278</td>\n",
       "      <td>операции с недвижимостью</td>\n",
       "      <td>C</td>\n",
       "    </tr>\n",
       "    <tr>\n",
       "      <th>1</th>\n",
       "      <td>0</td>\n",
       "      <td>401715.811749</td>\n",
       "      <td>69</td>\n",
       "      <td>0</td>\n",
       "      <td>4</td>\n",
       "      <td>F</td>\n",
       "      <td>пенсионер</td>\n",
       "      <td>0</td>\n",
       "      <td>57390</td>\n",
       "      <td>получение образования</td>\n",
       "      <td>C</td>\n",
       "    </tr>\n",
       "    <tr>\n",
       "      <th>2</th>\n",
       "      <td>1</td>\n",
       "      <td>401675.093434</td>\n",
       "      <td>61</td>\n",
       "      <td>1</td>\n",
       "      <td>0</td>\n",
       "      <td>F</td>\n",
       "      <td>пенсионер</td>\n",
       "      <td>0</td>\n",
       "      <td>126214</td>\n",
       "      <td>операции с недвижимостью</td>\n",
       "      <td>C</td>\n",
       "    </tr>\n",
       "    <tr>\n",
       "      <th>3</th>\n",
       "      <td>0</td>\n",
       "      <td>401674.466633</td>\n",
       "      <td>60</td>\n",
       "      <td>1</td>\n",
       "      <td>0</td>\n",
       "      <td>M</td>\n",
       "      <td>пенсионер</td>\n",
       "      <td>0</td>\n",
       "      <td>325395</td>\n",
       "      <td>приобретение автомобиля</td>\n",
       "      <td>B</td>\n",
       "    </tr>\n",
       "    <tr>\n",
       "      <th>4</th>\n",
       "      <td>0</td>\n",
       "      <td>401663.850046</td>\n",
       "      <td>61</td>\n",
       "      <td>1</td>\n",
       "      <td>1</td>\n",
       "      <td>F</td>\n",
       "      <td>пенсионер</td>\n",
       "      <td>0</td>\n",
       "      <td>48286</td>\n",
       "      <td>на проведение свадьбы</td>\n",
       "      <td>D</td>\n",
       "    </tr>\n",
       "    <tr>\n",
       "      <th>5</th>\n",
       "      <td>0</td>\n",
       "      <td>401635.032697</td>\n",
       "      <td>56</td>\n",
       "      <td>1</td>\n",
       "      <td>0</td>\n",
       "      <td>F</td>\n",
       "      <td>пенсионер</td>\n",
       "      <td>0</td>\n",
       "      <td>48242</td>\n",
       "      <td>операции с недвижимостью</td>\n",
       "      <td>D</td>\n",
       "    </tr>\n",
       "    <tr>\n",
       "      <th>6</th>\n",
       "      <td>0</td>\n",
       "      <td>401619.633298</td>\n",
       "      <td>63</td>\n",
       "      <td>1</td>\n",
       "      <td>1</td>\n",
       "      <td>F</td>\n",
       "      <td>пенсионер</td>\n",
       "      <td>0</td>\n",
       "      <td>51449</td>\n",
       "      <td>на проведение свадьбы</td>\n",
       "      <td>C</td>\n",
       "    </tr>\n",
       "    <tr>\n",
       "      <th>7</th>\n",
       "      <td>0</td>\n",
       "      <td>401614.475622</td>\n",
       "      <td>59</td>\n",
       "      <td>1</td>\n",
       "      <td>0</td>\n",
       "      <td>F</td>\n",
       "      <td>пенсионер</td>\n",
       "      <td>0</td>\n",
       "      <td>152769</td>\n",
       "      <td>операции с недвижимостью</td>\n",
       "      <td>C</td>\n",
       "    </tr>\n",
       "    <tr>\n",
       "      <th>8</th>\n",
       "      <td>0</td>\n",
       "      <td>401591.828457</td>\n",
       "      <td>56</td>\n",
       "      <td>1</td>\n",
       "      <td>3</td>\n",
       "      <td>F</td>\n",
       "      <td>пенсионер</td>\n",
       "      <td>0</td>\n",
       "      <td>39513</td>\n",
       "      <td>получение образования</td>\n",
       "      <td>D</td>\n",
       "    </tr>\n",
       "    <tr>\n",
       "      <th>9</th>\n",
       "      <td>0</td>\n",
       "      <td>401590.452231</td>\n",
       "      <td>58</td>\n",
       "      <td>1</td>\n",
       "      <td>0</td>\n",
       "      <td>F</td>\n",
       "      <td>пенсионер</td>\n",
       "      <td>0</td>\n",
       "      <td>175306</td>\n",
       "      <td>получение образования</td>\n",
       "      <td>C</td>\n",
       "    </tr>\n",
       "    <tr>\n",
       "      <th>10</th>\n",
       "      <td>0</td>\n",
       "      <td>401575.196728</td>\n",
       "      <td>55</td>\n",
       "      <td>1</td>\n",
       "      <td>1</td>\n",
       "      <td>M</td>\n",
       "      <td>пенсионер</td>\n",
       "      <td>0</td>\n",
       "      <td>29749</td>\n",
       "      <td>на проведение свадьбы</td>\n",
       "      <td>E</td>\n",
       "    </tr>\n",
       "    <tr>\n",
       "      <th>11</th>\n",
       "      <td>0</td>\n",
       "      <td>401573.905288</td>\n",
       "      <td>54</td>\n",
       "      <td>1</td>\n",
       "      <td>0</td>\n",
       "      <td>F</td>\n",
       "      <td>пенсионер</td>\n",
       "      <td>0</td>\n",
       "      <td>52927</td>\n",
       "      <td>операции с недвижимостью</td>\n",
       "      <td>C</td>\n",
       "    </tr>\n",
       "    <tr>\n",
       "      <th>12</th>\n",
       "      <td>0</td>\n",
       "      <td>401556.753550</td>\n",
       "      <td>68</td>\n",
       "      <td>0</td>\n",
       "      <td>1</td>\n",
       "      <td>F</td>\n",
       "      <td>пенсионер</td>\n",
       "      <td>0</td>\n",
       "      <td>231820</td>\n",
       "      <td>на проведение свадьбы</td>\n",
       "      <td>B</td>\n",
       "    </tr>\n",
       "    <tr>\n",
       "      <th>13</th>\n",
       "      <td>0</td>\n",
       "      <td>401524.259153</td>\n",
       "      <td>57</td>\n",
       "      <td>1</td>\n",
       "      <td>2</td>\n",
       "      <td>F</td>\n",
       "      <td>пенсионер</td>\n",
       "      <td>0</td>\n",
       "      <td>143342</td>\n",
       "      <td>приобретение автомобиля</td>\n",
       "      <td>C</td>\n",
       "    </tr>\n",
       "    <tr>\n",
       "      <th>14</th>\n",
       "      <td>0</td>\n",
       "      <td>401517.276388</td>\n",
       "      <td>68</td>\n",
       "      <td>1</td>\n",
       "      <td>0</td>\n",
       "      <td>F</td>\n",
       "      <td>пенсионер</td>\n",
       "      <td>0</td>\n",
       "      <td>304295</td>\n",
       "      <td>операции с недвижимостью</td>\n",
       "      <td>B</td>\n",
       "    </tr>\n",
       "  </tbody>\n",
       "</table>\n",
       "</div>"
      ],
      "text/plain": [
       "    children  days_employed  dob_years  education_id  family_status_id gender  \\\n",
       "0          0  401755.400475         56             1                 2      F   \n",
       "1          0  401715.811749         69             0                 4      F   \n",
       "2          1  401675.093434         61             1                 0      F   \n",
       "3          0  401674.466633         60             1                 0      M   \n",
       "4          0  401663.850046         61             1                 1      F   \n",
       "5          0  401635.032697         56             1                 0      F   \n",
       "6          0  401619.633298         63             1                 1      F   \n",
       "7          0  401614.475622         59             1                 0      F   \n",
       "8          0  401591.828457         56             1                 3      F   \n",
       "9          0  401590.452231         58             1                 0      F   \n",
       "10         0  401575.196728         55             1                 1      M   \n",
       "11         0  401573.905288         54             1                 0      F   \n",
       "12         0  401556.753550         68             0                 1      F   \n",
       "13         0  401524.259153         57             1                 2      F   \n",
       "14         0  401517.276388         68             1                 0      F   \n",
       "\n",
       "   income_type  debt  total_income                   purpose  \\\n",
       "0    пенсионер     0        176278  операции с недвижимостью   \n",
       "1    пенсионер     0         57390     получение образования   \n",
       "2    пенсионер     0        126214  операции с недвижимостью   \n",
       "3    пенсионер     0        325395   приобретение автомобиля   \n",
       "4    пенсионер     0         48286     на проведение свадьбы   \n",
       "5    пенсионер     0         48242  операции с недвижимостью   \n",
       "6    пенсионер     0         51449     на проведение свадьбы   \n",
       "7    пенсионер     0        152769  операции с недвижимостью   \n",
       "8    пенсионер     0         39513     получение образования   \n",
       "9    пенсионер     0        175306     получение образования   \n",
       "10   пенсионер     0         29749     на проведение свадьбы   \n",
       "11   пенсионер     0         52927  операции с недвижимостью   \n",
       "12   пенсионер     0        231820     на проведение свадьбы   \n",
       "13   пенсионер     0        143342   приобретение автомобиля   \n",
       "14   пенсионер     0        304295  операции с недвижимостью   \n",
       "\n",
       "   total_income_category  \n",
       "0                      C  \n",
       "1                      C  \n",
       "2                      C  \n",
       "3                      B  \n",
       "4                      D  \n",
       "5                      D  \n",
       "6                      C  \n",
       "7                      C  \n",
       "8                      D  \n",
       "9                      C  \n",
       "10                     E  \n",
       "11                     C  \n",
       "12                     B  \n",
       "13                     C  \n",
       "14                     B  "
      ]
     },
     "execution_count": 58,
     "metadata": {},
     "output_type": "execute_result"
    }
   ],
   "source": [
    "def total_income_range(income):\n",
    "    if income <= 30000:\n",
    "        return 'E'\n",
    "    if income <= 50000:\n",
    "        return 'D'\n",
    "    if income <= 200000:\n",
    "        return 'C'\n",
    "    if income <= 1000000:\n",
    "        return 'B'    \n",
    "    return 'A'\n",
    "df['total_income_category'] = df['total_income'].apply(total_income_range)\n",
    "df.head(15)"
   ]
  },
  {
   "cell_type": "markdown",
   "id": "562a97ee",
   "metadata": {},
   "source": [
    "### Категоризация целей кредита."
   ]
  },
  {
   "cell_type": "markdown",
   "id": "8802a5de",
   "metadata": {},
   "source": [
    "Создаем функцию, которая на основании данных из столбца `purpose` сформирует новый столбец `purpose_category`, в который войдут следующие категории:\n",
    "* 'операции с автомобилем',\n",
    "* 'операции с недвижимостью',\n",
    "* 'проведение свадьбы',\n",
    "* 'получение образования'.\n",
    "\n",
    "Задача упрощается так как ранее в столбце `purpose`присутствуют большое многообразие целей получения кредита и мы очистели его от неявных дубликатов. \n",
    "Остались следующие значения: \n",
    "* 'на проведение свадьбы', \n",
    "* 'операции с недвижимостью',\n",
    "* 'получение образования',\n",
    "* 'приобретение автомобиля'. "
   ]
  },
  {
   "cell_type": "code",
   "execution_count": 59,
   "id": "cc694da0",
   "metadata": {},
   "outputs": [],
   "source": [
    "def purpose_category_group(row):\n",
    "    purpose = row['purpose']\n",
    "    if purpose in ['приобретение автомобиля']:\n",
    "        return 'операции с автомобилем'\n",
    "    elif purpose in ['операции с недвижимостью']:\n",
    "        return 'операции с недвижимостью'\n",
    "    elif purpose in ['на проведение свадьбы']:\n",
    "        return 'проведение свадьбы'\n",
    "    elif purpose in ['получение образования']:\n",
    "        return 'получение образования'\n",
    "df['purpose_category'] = df.apply(purpose_category_group, axis=1)"
   ]
  },
  {
   "cell_type": "markdown",
   "id": "4f200f82",
   "metadata": {},
   "source": [
    "Проверяем внесенные изменения."
   ]
  },
  {
   "cell_type": "code",
   "execution_count": 60,
   "id": "25bfa31a",
   "metadata": {},
   "outputs": [
    {
     "data": {
      "text/plain": [
       "array(['операции с автомобилем', 'операции с недвижимостью',\n",
       "       'получение образования', 'проведение свадьбы'], dtype=object)"
      ]
     },
     "execution_count": 60,
     "metadata": {},
     "output_type": "execute_result"
    }
   ],
   "source": [
    "df.sort_values(by='purpose_category')['purpose_category'].unique()"
   ]
  },
  {
   "cell_type": "code",
   "execution_count": 61,
   "id": "272e62f0",
   "metadata": {},
   "outputs": [
    {
     "data": {
      "text/html": [
       "<div>\n",
       "<style scoped>\n",
       "    .dataframe tbody tr th:only-of-type {\n",
       "        vertical-align: middle;\n",
       "    }\n",
       "\n",
       "    .dataframe tbody tr th {\n",
       "        vertical-align: top;\n",
       "    }\n",
       "\n",
       "    .dataframe thead th {\n",
       "        text-align: right;\n",
       "    }\n",
       "</style>\n",
       "<table border=\"1\" class=\"dataframe\">\n",
       "  <thead>\n",
       "    <tr style=\"text-align: right;\">\n",
       "      <th></th>\n",
       "      <th>children</th>\n",
       "      <th>days_employed</th>\n",
       "      <th>dob_years</th>\n",
       "      <th>education_id</th>\n",
       "      <th>family_status_id</th>\n",
       "      <th>gender</th>\n",
       "      <th>income_type</th>\n",
       "      <th>debt</th>\n",
       "      <th>total_income</th>\n",
       "      <th>purpose</th>\n",
       "      <th>total_income_category</th>\n",
       "      <th>purpose_category</th>\n",
       "    </tr>\n",
       "  </thead>\n",
       "  <tbody>\n",
       "    <tr>\n",
       "      <th>0</th>\n",
       "      <td>0</td>\n",
       "      <td>401755.400475</td>\n",
       "      <td>56</td>\n",
       "      <td>1</td>\n",
       "      <td>2</td>\n",
       "      <td>F</td>\n",
       "      <td>пенсионер</td>\n",
       "      <td>0</td>\n",
       "      <td>176278</td>\n",
       "      <td>операции с недвижимостью</td>\n",
       "      <td>C</td>\n",
       "      <td>операции с недвижимостью</td>\n",
       "    </tr>\n",
       "    <tr>\n",
       "      <th>1</th>\n",
       "      <td>0</td>\n",
       "      <td>401715.811749</td>\n",
       "      <td>69</td>\n",
       "      <td>0</td>\n",
       "      <td>4</td>\n",
       "      <td>F</td>\n",
       "      <td>пенсионер</td>\n",
       "      <td>0</td>\n",
       "      <td>57390</td>\n",
       "      <td>получение образования</td>\n",
       "      <td>C</td>\n",
       "      <td>получение образования</td>\n",
       "    </tr>\n",
       "    <tr>\n",
       "      <th>2</th>\n",
       "      <td>1</td>\n",
       "      <td>401675.093434</td>\n",
       "      <td>61</td>\n",
       "      <td>1</td>\n",
       "      <td>0</td>\n",
       "      <td>F</td>\n",
       "      <td>пенсионер</td>\n",
       "      <td>0</td>\n",
       "      <td>126214</td>\n",
       "      <td>операции с недвижимостью</td>\n",
       "      <td>C</td>\n",
       "      <td>операции с недвижимостью</td>\n",
       "    </tr>\n",
       "    <tr>\n",
       "      <th>3</th>\n",
       "      <td>0</td>\n",
       "      <td>401674.466633</td>\n",
       "      <td>60</td>\n",
       "      <td>1</td>\n",
       "      <td>0</td>\n",
       "      <td>M</td>\n",
       "      <td>пенсионер</td>\n",
       "      <td>0</td>\n",
       "      <td>325395</td>\n",
       "      <td>приобретение автомобиля</td>\n",
       "      <td>B</td>\n",
       "      <td>операции с автомобилем</td>\n",
       "    </tr>\n",
       "    <tr>\n",
       "      <th>4</th>\n",
       "      <td>0</td>\n",
       "      <td>401663.850046</td>\n",
       "      <td>61</td>\n",
       "      <td>1</td>\n",
       "      <td>1</td>\n",
       "      <td>F</td>\n",
       "      <td>пенсионер</td>\n",
       "      <td>0</td>\n",
       "      <td>48286</td>\n",
       "      <td>на проведение свадьбы</td>\n",
       "      <td>D</td>\n",
       "      <td>проведение свадьбы</td>\n",
       "    </tr>\n",
       "    <tr>\n",
       "      <th>5</th>\n",
       "      <td>0</td>\n",
       "      <td>401635.032697</td>\n",
       "      <td>56</td>\n",
       "      <td>1</td>\n",
       "      <td>0</td>\n",
       "      <td>F</td>\n",
       "      <td>пенсионер</td>\n",
       "      <td>0</td>\n",
       "      <td>48242</td>\n",
       "      <td>операции с недвижимостью</td>\n",
       "      <td>D</td>\n",
       "      <td>операции с недвижимостью</td>\n",
       "    </tr>\n",
       "    <tr>\n",
       "      <th>6</th>\n",
       "      <td>0</td>\n",
       "      <td>401619.633298</td>\n",
       "      <td>63</td>\n",
       "      <td>1</td>\n",
       "      <td>1</td>\n",
       "      <td>F</td>\n",
       "      <td>пенсионер</td>\n",
       "      <td>0</td>\n",
       "      <td>51449</td>\n",
       "      <td>на проведение свадьбы</td>\n",
       "      <td>C</td>\n",
       "      <td>проведение свадьбы</td>\n",
       "    </tr>\n",
       "    <tr>\n",
       "      <th>7</th>\n",
       "      <td>0</td>\n",
       "      <td>401614.475622</td>\n",
       "      <td>59</td>\n",
       "      <td>1</td>\n",
       "      <td>0</td>\n",
       "      <td>F</td>\n",
       "      <td>пенсионер</td>\n",
       "      <td>0</td>\n",
       "      <td>152769</td>\n",
       "      <td>операции с недвижимостью</td>\n",
       "      <td>C</td>\n",
       "      <td>операции с недвижимостью</td>\n",
       "    </tr>\n",
       "    <tr>\n",
       "      <th>8</th>\n",
       "      <td>0</td>\n",
       "      <td>401591.828457</td>\n",
       "      <td>56</td>\n",
       "      <td>1</td>\n",
       "      <td>3</td>\n",
       "      <td>F</td>\n",
       "      <td>пенсионер</td>\n",
       "      <td>0</td>\n",
       "      <td>39513</td>\n",
       "      <td>получение образования</td>\n",
       "      <td>D</td>\n",
       "      <td>получение образования</td>\n",
       "    </tr>\n",
       "    <tr>\n",
       "      <th>9</th>\n",
       "      <td>0</td>\n",
       "      <td>401590.452231</td>\n",
       "      <td>58</td>\n",
       "      <td>1</td>\n",
       "      <td>0</td>\n",
       "      <td>F</td>\n",
       "      <td>пенсионер</td>\n",
       "      <td>0</td>\n",
       "      <td>175306</td>\n",
       "      <td>получение образования</td>\n",
       "      <td>C</td>\n",
       "      <td>получение образования</td>\n",
       "    </tr>\n",
       "    <tr>\n",
       "      <th>10</th>\n",
       "      <td>0</td>\n",
       "      <td>401575.196728</td>\n",
       "      <td>55</td>\n",
       "      <td>1</td>\n",
       "      <td>1</td>\n",
       "      <td>M</td>\n",
       "      <td>пенсионер</td>\n",
       "      <td>0</td>\n",
       "      <td>29749</td>\n",
       "      <td>на проведение свадьбы</td>\n",
       "      <td>E</td>\n",
       "      <td>проведение свадьбы</td>\n",
       "    </tr>\n",
       "    <tr>\n",
       "      <th>11</th>\n",
       "      <td>0</td>\n",
       "      <td>401573.905288</td>\n",
       "      <td>54</td>\n",
       "      <td>1</td>\n",
       "      <td>0</td>\n",
       "      <td>F</td>\n",
       "      <td>пенсионер</td>\n",
       "      <td>0</td>\n",
       "      <td>52927</td>\n",
       "      <td>операции с недвижимостью</td>\n",
       "      <td>C</td>\n",
       "      <td>операции с недвижимостью</td>\n",
       "    </tr>\n",
       "    <tr>\n",
       "      <th>12</th>\n",
       "      <td>0</td>\n",
       "      <td>401556.753550</td>\n",
       "      <td>68</td>\n",
       "      <td>0</td>\n",
       "      <td>1</td>\n",
       "      <td>F</td>\n",
       "      <td>пенсионер</td>\n",
       "      <td>0</td>\n",
       "      <td>231820</td>\n",
       "      <td>на проведение свадьбы</td>\n",
       "      <td>B</td>\n",
       "      <td>проведение свадьбы</td>\n",
       "    </tr>\n",
       "    <tr>\n",
       "      <th>13</th>\n",
       "      <td>0</td>\n",
       "      <td>401524.259153</td>\n",
       "      <td>57</td>\n",
       "      <td>1</td>\n",
       "      <td>2</td>\n",
       "      <td>F</td>\n",
       "      <td>пенсионер</td>\n",
       "      <td>0</td>\n",
       "      <td>143342</td>\n",
       "      <td>приобретение автомобиля</td>\n",
       "      <td>C</td>\n",
       "      <td>операции с автомобилем</td>\n",
       "    </tr>\n",
       "    <tr>\n",
       "      <th>14</th>\n",
       "      <td>0</td>\n",
       "      <td>401517.276388</td>\n",
       "      <td>68</td>\n",
       "      <td>1</td>\n",
       "      <td>0</td>\n",
       "      <td>F</td>\n",
       "      <td>пенсионер</td>\n",
       "      <td>0</td>\n",
       "      <td>304295</td>\n",
       "      <td>операции с недвижимостью</td>\n",
       "      <td>B</td>\n",
       "      <td>операции с недвижимостью</td>\n",
       "    </tr>\n",
       "  </tbody>\n",
       "</table>\n",
       "</div>"
      ],
      "text/plain": [
       "    children  days_employed  dob_years  education_id  family_status_id gender  \\\n",
       "0          0  401755.400475         56             1                 2      F   \n",
       "1          0  401715.811749         69             0                 4      F   \n",
       "2          1  401675.093434         61             1                 0      F   \n",
       "3          0  401674.466633         60             1                 0      M   \n",
       "4          0  401663.850046         61             1                 1      F   \n",
       "5          0  401635.032697         56             1                 0      F   \n",
       "6          0  401619.633298         63             1                 1      F   \n",
       "7          0  401614.475622         59             1                 0      F   \n",
       "8          0  401591.828457         56             1                 3      F   \n",
       "9          0  401590.452231         58             1                 0      F   \n",
       "10         0  401575.196728         55             1                 1      M   \n",
       "11         0  401573.905288         54             1                 0      F   \n",
       "12         0  401556.753550         68             0                 1      F   \n",
       "13         0  401524.259153         57             1                 2      F   \n",
       "14         0  401517.276388         68             1                 0      F   \n",
       "\n",
       "   income_type  debt  total_income                   purpose  \\\n",
       "0    пенсионер     0        176278  операции с недвижимостью   \n",
       "1    пенсионер     0         57390     получение образования   \n",
       "2    пенсионер     0        126214  операции с недвижимостью   \n",
       "3    пенсионер     0        325395   приобретение автомобиля   \n",
       "4    пенсионер     0         48286     на проведение свадьбы   \n",
       "5    пенсионер     0         48242  операции с недвижимостью   \n",
       "6    пенсионер     0         51449     на проведение свадьбы   \n",
       "7    пенсионер     0        152769  операции с недвижимостью   \n",
       "8    пенсионер     0         39513     получение образования   \n",
       "9    пенсионер     0        175306     получение образования   \n",
       "10   пенсионер     0         29749     на проведение свадьбы   \n",
       "11   пенсионер     0         52927  операции с недвижимостью   \n",
       "12   пенсионер     0        231820     на проведение свадьбы   \n",
       "13   пенсионер     0        143342   приобретение автомобиля   \n",
       "14   пенсионер     0        304295  операции с недвижимостью   \n",
       "\n",
       "   total_income_category          purpose_category  \n",
       "0                      C  операции с недвижимостью  \n",
       "1                      C     получение образования  \n",
       "2                      C  операции с недвижимостью  \n",
       "3                      B    операции с автомобилем  \n",
       "4                      D        проведение свадьбы  \n",
       "5                      D  операции с недвижимостью  \n",
       "6                      C        проведение свадьбы  \n",
       "7                      C  операции с недвижимостью  \n",
       "8                      D     получение образования  \n",
       "9                      C     получение образования  \n",
       "10                     E        проведение свадьбы  \n",
       "11                     C  операции с недвижимостью  \n",
       "12                     B        проведение свадьбы  \n",
       "13                     C    операции с автомобилем  \n",
       "14                     B  операции с недвижимостью  "
      ]
     },
     "execution_count": 61,
     "metadata": {},
     "output_type": "execute_result"
    }
   ],
   "source": [
    "df.head(15)"
   ]
  },
  {
   "cell_type": "code",
   "execution_count": 62,
   "id": "47ca697c",
   "metadata": {},
   "outputs": [
    {
     "data": {
      "text/plain": [
       "операции с недвижимостью    10576\n",
       "операции с автомобилем       4272\n",
       "получение образования        3964\n",
       "проведение свадьбы           2306\n",
       "Name: purpose_category, dtype: int64"
      ]
     },
     "execution_count": 62,
     "metadata": {},
     "output_type": "execute_result"
    }
   ],
   "source": [
    "df['purpose_category'].value_counts()"
   ]
  },
  {
   "cell_type": "markdown",
   "id": "17706ce1",
   "metadata": {},
   "source": [
    "## Проверка гипотез"
   ]
  },
  {
   "cell_type": "markdown",
   "id": "5b8ed078",
   "metadata": {},
   "source": [
    "1. Зависимость между количеством детей и возвратом кредита в срок.\n",
    "2. Зависимость между семейным положением и возвратом кредита в срок.\n",
    "3. Зависимость между уровнем дохода и возвратом кредита в срок.\n",
    "4. Разные цели кредита влияют на его возврат в срок."
   ]
  },
  {
   "cell_type": "markdown",
   "id": "d2aba694",
   "metadata": {},
   "source": [
    "### Зависимость между количеством детей и возвратом кредита в срок."
   ]
  },
  {
   "cell_type": "markdown",
   "id": "9ad38ae7",
   "metadata": {},
   "source": [
    "Рассмотрим столбец`children`- количество детей в семье."
   ]
  },
  {
   "cell_type": "code",
   "execution_count": 63,
   "id": "03b06e49",
   "metadata": {
    "scrolled": true
   },
   "outputs": [
    {
     "data": {
      "text/plain": [
       "0    13903\n",
       "1     4798\n",
       "2     2039\n",
       "3      329\n",
       "4       40\n",
       "5        9\n",
       "Name: children, dtype: int64"
      ]
     },
     "execution_count": 63,
     "metadata": {},
     "output_type": "execute_result"
    }
   ],
   "source": [
    "df['children'].value_counts()"
   ]
  },
  {
   "cell_type": "markdown",
   "id": "2a11d71f",
   "metadata": {},
   "source": [
    "Рассимотрим столбец `debt`- задолженность по возврату кредитов, где: 0 - нет задолженности, 1 - имеется задолженность."
   ]
  },
  {
   "cell_type": "code",
   "execution_count": 64,
   "id": "d0da9c42",
   "metadata": {
    "scrolled": true
   },
   "outputs": [
    {
     "data": {
      "text/plain": [
       "0    19379\n",
       "1     1739\n",
       "Name: debt, dtype: int64"
      ]
     },
     "execution_count": 64,
     "metadata": {},
     "output_type": "execute_result"
    }
   ],
   "source": [
    "df['debt'].value_counts()"
   ]
  },
  {
   "cell_type": "markdown",
   "id": "d7f4bae3",
   "metadata": {},
   "source": [
    "Создаем пустой новый фрейм данных `debt_children` для выполнения расчетов и ответа на поставленный вопрос, где:\n",
    "* `children`- количество детей в семье,\n",
    "* `count_children_debt` - количество семей,\n",
    "* `sum_children_debt`- количество семей с задолженностью,\n",
    "* `result_children_debt` - доля семей с задолженностью."
   ]
  },
  {
   "cell_type": "code",
   "execution_count": 65,
   "id": "d8b81090",
   "metadata": {
    "scrolled": true
   },
   "outputs": [
    {
     "data": {
      "text/html": [
       "<div>\n",
       "<style scoped>\n",
       "    .dataframe tbody tr th:only-of-type {\n",
       "        vertical-align: middle;\n",
       "    }\n",
       "\n",
       "    .dataframe tbody tr th {\n",
       "        vertical-align: top;\n",
       "    }\n",
       "\n",
       "    .dataframe thead th {\n",
       "        text-align: right;\n",
       "    }\n",
       "</style>\n",
       "<table border=\"1\" class=\"dataframe\">\n",
       "  <thead>\n",
       "    <tr style=\"text-align: right;\">\n",
       "      <th></th>\n",
       "      <th>count_children_debt</th>\n",
       "      <th>sum_children_debt</th>\n",
       "      <th>result_children_debt</th>\n",
       "    </tr>\n",
       "    <tr>\n",
       "      <th>children</th>\n",
       "      <th></th>\n",
       "      <th></th>\n",
       "      <th></th>\n",
       "    </tr>\n",
       "  </thead>\n",
       "  <tbody>\n",
       "    <tr>\n",
       "      <th>4</th>\n",
       "      <td>40</td>\n",
       "      <td>4</td>\n",
       "      <td>0.100000</td>\n",
       "    </tr>\n",
       "    <tr>\n",
       "      <th>2</th>\n",
       "      <td>2039</td>\n",
       "      <td>194</td>\n",
       "      <td>0.095145</td>\n",
       "    </tr>\n",
       "    <tr>\n",
       "      <th>1</th>\n",
       "      <td>4798</td>\n",
       "      <td>445</td>\n",
       "      <td>0.092747</td>\n",
       "    </tr>\n",
       "    <tr>\n",
       "      <th>3</th>\n",
       "      <td>329</td>\n",
       "      <td>27</td>\n",
       "      <td>0.082067</td>\n",
       "    </tr>\n",
       "    <tr>\n",
       "      <th>0</th>\n",
       "      <td>13903</td>\n",
       "      <td>1069</td>\n",
       "      <td>0.076890</td>\n",
       "    </tr>\n",
       "    <tr>\n",
       "      <th>5</th>\n",
       "      <td>9</td>\n",
       "      <td>0</td>\n",
       "      <td>0.000000</td>\n",
       "    </tr>\n",
       "  </tbody>\n",
       "</table>\n",
       "</div>"
      ],
      "text/plain": [
       "          count_children_debt  sum_children_debt  result_children_debt\n",
       "children                                                              \n",
       "4                          40                  4              0.100000\n",
       "2                        2039                194              0.095145\n",
       "1                        4798                445              0.092747\n",
       "3                         329                 27              0.082067\n",
       "0                       13903               1069              0.076890\n",
       "5                           9                  0              0.000000"
      ]
     },
     "execution_count": 65,
     "metadata": {},
     "output_type": "execute_result"
    }
   ],
   "source": [
    "debt_children = pd.DataFrame()\n",
    "debt_children['count_children_debt'] = df.groupby('children')['debt'].count()\n",
    "debt_children['sum_children_debt'] = df.groupby('children')['debt'].sum()\n",
    "debt_children['result_children_debt'] = debt_children['sum_children_debt'] / debt_children['count_children_debt'] \n",
    "debt_children.sort_values('result_children_debt', ascending = False)"
   ]
  },
  {
   "cell_type": "markdown",
   "id": "244c960e",
   "metadata": {},
   "source": [
    "Выявлена следующая зависимость:\n",
    "* Семьи с 5 детьми имеют больше ответственности и как результат отсутствие задолженность, \n",
    "* Бездетные семьи наиболее широкая группа заемщиков с наименьшей задолженность,\n",
    "* Семьи с 3 детьми более подвержены риску просрочки задолженности,\n",
    "* Наибольшая группа риска просрочки задолженности семьи с 1 и 2 ребенком,\n",
    "* Семьи с 4 детьми самая высокая и самая малочисленная группа риска просрочки задолженности."
   ]
  },
  {
   "cell_type": "markdown",
   "id": "33a47630",
   "metadata": {},
   "source": [
    "### Зависимость между семейным положением и возвратом кредита в срок."
   ]
  },
  {
   "cell_type": "markdown",
   "id": "c9ebc1cf",
   "metadata": {},
   "source": [
    "Рассмотрим столбец `family_status_id`- количество детей в семье."
   ]
  },
  {
   "cell_type": "code",
   "execution_count": 66,
   "id": "42946827",
   "metadata": {
    "scrolled": false
   },
   "outputs": [
    {
     "data": {
      "text/plain": [
       "0    12075\n",
       "1     4124\n",
       "4     2784\n",
       "3     1193\n",
       "2      942\n",
       "Name: family_status_id, dtype: int64"
      ]
     },
     "execution_count": 66,
     "metadata": {},
     "output_type": "execute_result"
    }
   ],
   "source": [
    "df['family_status_id'].value_counts()"
   ]
  },
  {
   "cell_type": "markdown",
   "id": "73b41551",
   "metadata": {},
   "source": [
    "Используем словарь `family_status` (семейное положение) "
   ]
  },
  {
   "cell_type": "code",
   "execution_count": 67,
   "id": "abfd7512",
   "metadata": {},
   "outputs": [
    {
     "data": {
      "text/html": [
       "<div>\n",
       "<style scoped>\n",
       "    .dataframe tbody tr th:only-of-type {\n",
       "        vertical-align: middle;\n",
       "    }\n",
       "\n",
       "    .dataframe tbody tr th {\n",
       "        vertical-align: top;\n",
       "    }\n",
       "\n",
       "    .dataframe thead th {\n",
       "        text-align: right;\n",
       "    }\n",
       "</style>\n",
       "<table border=\"1\" class=\"dataframe\">\n",
       "  <thead>\n",
       "    <tr style=\"text-align: right;\">\n",
       "      <th></th>\n",
       "      <th>family_status</th>\n",
       "      <th>family_status_id</th>\n",
       "    </tr>\n",
       "  </thead>\n",
       "  <tbody>\n",
       "    <tr>\n",
       "      <th>0</th>\n",
       "      <td>вдовец / вдова</td>\n",
       "      <td>2</td>\n",
       "    </tr>\n",
       "    <tr>\n",
       "      <th>1</th>\n",
       "      <td>не женат / не замужем</td>\n",
       "      <td>4</td>\n",
       "    </tr>\n",
       "    <tr>\n",
       "      <th>2</th>\n",
       "      <td>женат / замужем</td>\n",
       "      <td>0</td>\n",
       "    </tr>\n",
       "    <tr>\n",
       "      <th>3</th>\n",
       "      <td>гражданский брак</td>\n",
       "      <td>1</td>\n",
       "    </tr>\n",
       "    <tr>\n",
       "      <th>4</th>\n",
       "      <td>в разводе</td>\n",
       "      <td>3</td>\n",
       "    </tr>\n",
       "  </tbody>\n",
       "</table>\n",
       "</div>"
      ],
      "text/plain": [
       "           family_status  family_status_id\n",
       "0         вдовец / вдова                 2\n",
       "1  не женат / не замужем                 4\n",
       "2        женат / замужем                 0\n",
       "3       гражданский брак                 1\n",
       "4              в разводе                 3"
      ]
     },
     "execution_count": 67,
     "metadata": {},
     "output_type": "execute_result"
    }
   ],
   "source": [
    "df_family_status.head(10)"
   ]
  },
  {
   "cell_type": "markdown",
   "id": "a63a9f17",
   "metadata": {},
   "source": [
    "Создаем пустой новый фрейм данных `debt_family_status` для выполнения расчетов и ответа на поставленный вопрос, где:\n",
    "\n",
    "* `family_status_id` и `family_status`- семейное положение,\n",
    "* `count_family_status` - количество семей,\n",
    "* `sum_family_status`- количество семей с задолженностью,\n",
    "* `result_family_status` - доля семей с задолженностью."
   ]
  },
  {
   "cell_type": "code",
   "execution_count": 68,
   "id": "9e043b2f",
   "metadata": {
    "scrolled": true
   },
   "outputs": [
    {
     "data": {
      "text/html": [
       "<div>\n",
       "<style scoped>\n",
       "    .dataframe tbody tr th:only-of-type {\n",
       "        vertical-align: middle;\n",
       "    }\n",
       "\n",
       "    .dataframe tbody tr th {\n",
       "        vertical-align: top;\n",
       "    }\n",
       "\n",
       "    .dataframe thead th {\n",
       "        text-align: right;\n",
       "    }\n",
       "</style>\n",
       "<table border=\"1\" class=\"dataframe\">\n",
       "  <thead>\n",
       "    <tr style=\"text-align: right;\">\n",
       "      <th></th>\n",
       "      <th>family_status</th>\n",
       "      <th>count_family_status</th>\n",
       "      <th>sum_family_status</th>\n",
       "      <th>result_family_status</th>\n",
       "    </tr>\n",
       "  </thead>\n",
       "  <tbody>\n",
       "    <tr>\n",
       "      <th>4</th>\n",
       "      <td>в разводе</td>\n",
       "      <td>2784</td>\n",
       "      <td>274</td>\n",
       "      <td>0.098420</td>\n",
       "    </tr>\n",
       "    <tr>\n",
       "      <th>1</th>\n",
       "      <td>не женат / не замужем</td>\n",
       "      <td>4124</td>\n",
       "      <td>388</td>\n",
       "      <td>0.094083</td>\n",
       "    </tr>\n",
       "    <tr>\n",
       "      <th>0</th>\n",
       "      <td>вдовец / вдова</td>\n",
       "      <td>12075</td>\n",
       "      <td>929</td>\n",
       "      <td>0.076936</td>\n",
       "    </tr>\n",
       "    <tr>\n",
       "      <th>3</th>\n",
       "      <td>гражданский брак</td>\n",
       "      <td>1193</td>\n",
       "      <td>85</td>\n",
       "      <td>0.071249</td>\n",
       "    </tr>\n",
       "    <tr>\n",
       "      <th>2</th>\n",
       "      <td>женат / замужем</td>\n",
       "      <td>942</td>\n",
       "      <td>63</td>\n",
       "      <td>0.066879</td>\n",
       "    </tr>\n",
       "  </tbody>\n",
       "</table>\n",
       "</div>"
      ],
      "text/plain": [
       "           family_status  count_family_status  sum_family_status  \\\n",
       "4              в разводе                 2784                274   \n",
       "1  не женат / не замужем                 4124                388   \n",
       "0         вдовец / вдова                12075                929   \n",
       "3       гражданский брак                 1193                 85   \n",
       "2        женат / замужем                  942                 63   \n",
       "\n",
       "   result_family_status  \n",
       "4              0.098420  \n",
       "1              0.094083  \n",
       "0              0.076936  \n",
       "3              0.071249  \n",
       "2              0.066879  "
      ]
     },
     "execution_count": 68,
     "metadata": {},
     "output_type": "execute_result"
    }
   ],
   "source": [
    "debt_family_status = pd.DataFrame()\n",
    "debt_family_status['family_status'] = df_family_status['family_status']\n",
    "debt_family_status['count_family_status'] = df.groupby('family_status_id')['debt'].count()\n",
    "debt_family_status['sum_family_status'] = df.groupby('family_status_id')['debt'].sum()\n",
    "debt_family_status['result_family_status'] = debt_family_status['sum_family_status'] / debt_family_status['count_family_status']\n",
    "debt_family_status.sort_values('result_family_status', ascending = False)"
   ]
  },
  {
   "cell_type": "markdown",
   "id": "08479d9d",
   "metadata": {},
   "source": [
    "Выявлена следующая зависимость:\n",
    "* Находящиеся в браке заемщики осознано подходят к займу и несут солидарную ответственность.\n",
    "* Заёмщики вне брака наиболее рискованная группа по возврату займа."
   ]
  },
  {
   "cell_type": "markdown",
   "id": "3a7f86a8",
   "metadata": {},
   "source": [
    "### Зависимость между уровнем дохода и возвратом кредита в срок."
   ]
  },
  {
   "cell_type": "markdown",
   "id": "cfcc6c90",
   "metadata": {},
   "source": [
    "Используем для анализа данных созданый столбец `total_income_category` где:\n",
    "* 0–30000 — 'E';\n",
    "* 30001–50000 — 'D';\n",
    "* 50001–200000 — 'C';\n",
    "* 200001–1000000 — 'B';\n",
    "* 1000001 и выше — 'A'."
   ]
  },
  {
   "cell_type": "code",
   "execution_count": 69,
   "id": "3ff14ff8",
   "metadata": {},
   "outputs": [
    {
     "data": {
      "text/plain": [
       "C    15680\n",
       "B     5041\n",
       "D      350\n",
       "A       25\n",
       "E       22\n",
       "Name: total_income_category, dtype: int64"
      ]
     },
     "execution_count": 69,
     "metadata": {},
     "output_type": "execute_result"
    }
   ],
   "source": [
    "df['total_income_category'].value_counts()"
   ]
  },
  {
   "cell_type": "markdown",
   "id": "c52b1a24",
   "metadata": {},
   "source": [
    "Создаем пустой новый фрейм данных `debt_family_status` для выполнения расчетов и ответа на поставленный вопрос, где:\n",
    "\n",
    "* `total_income_category` - категория доходов,\n",
    "* `count_income_category` - количество семей,\n",
    "* `sum_income_category`- количество семей с задолженностью,\n",
    "* `result_income_category` - доля семей с задолженностью."
   ]
  },
  {
   "cell_type": "code",
   "execution_count": 70,
   "id": "f742f0ed",
   "metadata": {},
   "outputs": [
    {
     "data": {
      "text/html": [
       "<div>\n",
       "<style scoped>\n",
       "    .dataframe tbody tr th:only-of-type {\n",
       "        vertical-align: middle;\n",
       "    }\n",
       "\n",
       "    .dataframe tbody tr th {\n",
       "        vertical-align: top;\n",
       "    }\n",
       "\n",
       "    .dataframe thead th {\n",
       "        text-align: right;\n",
       "    }\n",
       "</style>\n",
       "<table border=\"1\" class=\"dataframe\">\n",
       "  <thead>\n",
       "    <tr style=\"text-align: right;\">\n",
       "      <th></th>\n",
       "      <th>count_income_category</th>\n",
       "      <th>sum_income_category</th>\n",
       "      <th>result_income_category</th>\n",
       "    </tr>\n",
       "    <tr>\n",
       "      <th>total_income_category</th>\n",
       "      <th></th>\n",
       "      <th></th>\n",
       "      <th></th>\n",
       "    </tr>\n",
       "  </thead>\n",
       "  <tbody>\n",
       "    <tr>\n",
       "      <th>E</th>\n",
       "      <td>22</td>\n",
       "      <td>2</td>\n",
       "      <td>0.090909</td>\n",
       "    </tr>\n",
       "    <tr>\n",
       "      <th>C</th>\n",
       "      <td>15680</td>\n",
       "      <td>1358</td>\n",
       "      <td>0.086607</td>\n",
       "    </tr>\n",
       "    <tr>\n",
       "      <th>A</th>\n",
       "      <td>25</td>\n",
       "      <td>2</td>\n",
       "      <td>0.080000</td>\n",
       "    </tr>\n",
       "    <tr>\n",
       "      <th>B</th>\n",
       "      <td>5041</td>\n",
       "      <td>356</td>\n",
       "      <td>0.070621</td>\n",
       "    </tr>\n",
       "    <tr>\n",
       "      <th>D</th>\n",
       "      <td>350</td>\n",
       "      <td>21</td>\n",
       "      <td>0.060000</td>\n",
       "    </tr>\n",
       "  </tbody>\n",
       "</table>\n",
       "</div>"
      ],
      "text/plain": [
       "                       count_income_category  sum_income_category  \\\n",
       "total_income_category                                               \n",
       "E                                         22                    2   \n",
       "C                                      15680                 1358   \n",
       "A                                         25                    2   \n",
       "B                                       5041                  356   \n",
       "D                                        350                   21   \n",
       "\n",
       "                       result_income_category  \n",
       "total_income_category                          \n",
       "E                                    0.090909  \n",
       "C                                    0.086607  \n",
       "A                                    0.080000  \n",
       "B                                    0.070621  \n",
       "D                                    0.060000  "
      ]
     },
     "execution_count": 70,
     "metadata": {},
     "output_type": "execute_result"
    }
   ],
   "source": [
    "debt_income_category = pd.DataFrame()\n",
    "debt_income_category['count_income_category'] = df.groupby('total_income_category')['debt'].count()\n",
    "debt_income_category['sum_income_category'] = df.groupby('total_income_category')['debt'].sum()\n",
    "debt_income_category['result_income_category'] = debt_income_category['sum_income_category'] / debt_income_category['count_income_category']\n",
    "debt_income_category.sort_values('result_income_category', ascending = False)"
   ]
  },
  {
   "cell_type": "markdown",
   "id": "ddbbf440",
   "metadata": {},
   "source": [
    "Выявлена следующая зависимость:\n",
    "* Заемщики с доходом ниже 30000 наименьшее количество с наибольшей долей прострочки возврата займа. Даже с учетом строгого подхода к решению о выдачи займа данной категории  риск наиболее велик.\n",
    "* Заёмщики с среднем доходом (от 50000 до 200000) и выше среднего (от 200000) доля просрочки ниже но не намного.\n",
    "Зависимость между уровнем дохода и возвратом кредита в срок не подлежит жесткой корреляции."
   ]
  },
  {
   "cell_type": "markdown",
   "id": "916e62ff",
   "metadata": {},
   "source": [
    "### Разные цели кредита влияют на его возврат в срок."
   ]
  },
  {
   "cell_type": "markdown",
   "id": "eac6dffb",
   "metadata": {},
   "source": [
    "Рассмотрим столбец `purpose_category` - количество детей в семье."
   ]
  },
  {
   "cell_type": "code",
   "execution_count": 71,
   "id": "830009e4",
   "metadata": {},
   "outputs": [
    {
     "data": {
      "text/plain": [
       "операции с недвижимостью    10576\n",
       "операции с автомобилем       4272\n",
       "получение образования        3964\n",
       "проведение свадьбы           2306\n",
       "Name: purpose_category, dtype: int64"
      ]
     },
     "execution_count": 71,
     "metadata": {},
     "output_type": "execute_result"
    }
   ],
   "source": [
    "df['purpose_category'].value_counts()"
   ]
  },
  {
   "cell_type": "markdown",
   "id": "601be236",
   "metadata": {},
   "source": [
    "Создаем пустой новый фрейм данных `debt_purpose_category` для выполнения расчетов и ответа на поставленный вопрос, где:\n",
    "\n",
    "* `purpose_category` - цели кредита,\n",
    "* `count_purpose_category` - количество семей,\n",
    "* `sum_purpose_category`- количество семей с задолженностью,\n",
    "* `result_purpose_category` - доля семей с задолженностью."
   ]
  },
  {
   "cell_type": "code",
   "execution_count": 72,
   "id": "d9e5f652",
   "metadata": {
    "scrolled": true
   },
   "outputs": [
    {
     "data": {
      "text/html": [
       "<div>\n",
       "<style scoped>\n",
       "    .dataframe tbody tr th:only-of-type {\n",
       "        vertical-align: middle;\n",
       "    }\n",
       "\n",
       "    .dataframe tbody tr th {\n",
       "        vertical-align: top;\n",
       "    }\n",
       "\n",
       "    .dataframe thead th {\n",
       "        text-align: right;\n",
       "    }\n",
       "</style>\n",
       "<table border=\"1\" class=\"dataframe\">\n",
       "  <thead>\n",
       "    <tr style=\"text-align: right;\">\n",
       "      <th></th>\n",
       "      <th>count_purpose_category</th>\n",
       "      <th>sum_purpose_category</th>\n",
       "      <th>result_purpose_category</th>\n",
       "    </tr>\n",
       "    <tr>\n",
       "      <th>purpose_category</th>\n",
       "      <th></th>\n",
       "      <th></th>\n",
       "      <th></th>\n",
       "    </tr>\n",
       "  </thead>\n",
       "  <tbody>\n",
       "    <tr>\n",
       "      <th>операции с автомобилем</th>\n",
       "      <td>4272</td>\n",
       "      <td>402</td>\n",
       "      <td>0.094101</td>\n",
       "    </tr>\n",
       "    <tr>\n",
       "      <th>получение образования</th>\n",
       "      <td>3964</td>\n",
       "      <td>370</td>\n",
       "      <td>0.093340</td>\n",
       "    </tr>\n",
       "    <tr>\n",
       "      <th>проведение свадьбы</th>\n",
       "      <td>2306</td>\n",
       "      <td>186</td>\n",
       "      <td>0.080659</td>\n",
       "    </tr>\n",
       "    <tr>\n",
       "      <th>операции с недвижимостью</th>\n",
       "      <td>10576</td>\n",
       "      <td>781</td>\n",
       "      <td>0.073846</td>\n",
       "    </tr>\n",
       "  </tbody>\n",
       "</table>\n",
       "</div>"
      ],
      "text/plain": [
       "                          count_purpose_category  sum_purpose_category  \\\n",
       "purpose_category                                                         \n",
       "операции с автомобилем                      4272                   402   \n",
       "получение образования                       3964                   370   \n",
       "проведение свадьбы                          2306                   186   \n",
       "операции с недвижимостью                   10576                   781   \n",
       "\n",
       "                          result_purpose_category  \n",
       "purpose_category                                   \n",
       "операции с автомобилем                   0.094101  \n",
       "получение образования                    0.093340  \n",
       "проведение свадьбы                       0.080659  \n",
       "операции с недвижимостью                 0.073846  "
      ]
     },
     "execution_count": 72,
     "metadata": {},
     "output_type": "execute_result"
    }
   ],
   "source": [
    "debt_purpose_category = pd.DataFrame()\n",
    "debt_purpose_category['count_purpose_category'] = df.groupby('purpose_category')['debt'].count()\n",
    "debt_purpose_category['sum_purpose_category'] = df.groupby('purpose_category')['debt'].sum()\n",
    "debt_purpose_category['result_purpose_category'] = debt_purpose_category['sum_purpose_category'] / debt_purpose_category['count_purpose_category'] \n",
    "debt_purpose_category.sort_values('result_purpose_category', ascending = False)"
   ]
  },
  {
   "cell_type": "markdown",
   "id": "d1b1cfca",
   "metadata": {},
   "source": [
    "Выявлена следующая зависимость:\n",
    "* Высоки риски задолженности по кредитам на автомобили и образование.\n",
    "* Кредит на свадьбу и недвижимость менее рискованные так как в случае со свадьбой частично возмещается за счет подаренных денежных средств, а в случае с недвижимостью кредит как правило является долгосрочным и при принятии решения заёмщик как и банк все тщательно рассчитывает."
   ]
  },
  {
   "cell_type": "markdown",
   "id": "5a686670",
   "metadata": {},
   "source": [
    "## Общий вывод"
   ]
  },
  {
   "cell_type": "markdown",
   "id": "290609af",
   "metadata": {},
   "source": [
    "При подготовке материалов в данные были внесены изменения в целях корректной интерпретации показателей:\n",
    "* Заполнены пропуски и аномальные данные медианными значениями,\n",
    "* Переведены в положительные значения отрицательные аномалии,\n",
    "* Исключены полные и неявные дубликаты."
   ]
  },
  {
   "cell_type": "markdown",
   "id": "c2aa4661",
   "metadata": {},
   "source": [
    "**Зависимость между количеством детей и возвратом кредита в срок.**\n",
    "* Семьи с 5 детьми имеют больше ответственности и как результат отсутствие задолженность, \n",
    "* Бездетные семьи наиболее широкая группа заемщиков с наименьшей задолженность,\n",
    "* Семьи с 3 детьми более подвержены риску просрочки задолженности,\n",
    "* Наибольшая группа риска просрочки задолженности семьи с 1 и 2 ребенком,\n",
    "* Семьи с 4 детьми самая высокая и самая малочисленная группа риска просрочки задолженности."
   ]
  },
  {
   "cell_type": "code",
   "execution_count": 73,
   "id": "1eee968c",
   "metadata": {},
   "outputs": [
    {
     "data": {
      "text/html": [
       "<div>\n",
       "<style scoped>\n",
       "    .dataframe tbody tr th:only-of-type {\n",
       "        vertical-align: middle;\n",
       "    }\n",
       "\n",
       "    .dataframe tbody tr th {\n",
       "        vertical-align: top;\n",
       "    }\n",
       "\n",
       "    .dataframe thead th {\n",
       "        text-align: right;\n",
       "    }\n",
       "</style>\n",
       "<table border=\"1\" class=\"dataframe\">\n",
       "  <thead>\n",
       "    <tr style=\"text-align: right;\">\n",
       "      <th></th>\n",
       "      <th>count_children_debt</th>\n",
       "      <th>sum_children_debt</th>\n",
       "      <th>result_children_debt</th>\n",
       "    </tr>\n",
       "    <tr>\n",
       "      <th>children</th>\n",
       "      <th></th>\n",
       "      <th></th>\n",
       "      <th></th>\n",
       "    </tr>\n",
       "  </thead>\n",
       "  <tbody>\n",
       "    <tr>\n",
       "      <th>4</th>\n",
       "      <td>40</td>\n",
       "      <td>4</td>\n",
       "      <td>0.100000</td>\n",
       "    </tr>\n",
       "    <tr>\n",
       "      <th>2</th>\n",
       "      <td>2039</td>\n",
       "      <td>194</td>\n",
       "      <td>0.095145</td>\n",
       "    </tr>\n",
       "    <tr>\n",
       "      <th>1</th>\n",
       "      <td>4798</td>\n",
       "      <td>445</td>\n",
       "      <td>0.092747</td>\n",
       "    </tr>\n",
       "    <tr>\n",
       "      <th>3</th>\n",
       "      <td>329</td>\n",
       "      <td>27</td>\n",
       "      <td>0.082067</td>\n",
       "    </tr>\n",
       "    <tr>\n",
       "      <th>0</th>\n",
       "      <td>13903</td>\n",
       "      <td>1069</td>\n",
       "      <td>0.076890</td>\n",
       "    </tr>\n",
       "    <tr>\n",
       "      <th>5</th>\n",
       "      <td>9</td>\n",
       "      <td>0</td>\n",
       "      <td>0.000000</td>\n",
       "    </tr>\n",
       "  </tbody>\n",
       "</table>\n",
       "</div>"
      ],
      "text/plain": [
       "          count_children_debt  sum_children_debt  result_children_debt\n",
       "children                                                              \n",
       "4                          40                  4              0.100000\n",
       "2                        2039                194              0.095145\n",
       "1                        4798                445              0.092747\n",
       "3                         329                 27              0.082067\n",
       "0                       13903               1069              0.076890\n",
       "5                           9                  0              0.000000"
      ]
     },
     "execution_count": 73,
     "metadata": {},
     "output_type": "execute_result"
    }
   ],
   "source": [
    "debt_children.sort_values('result_children_debt', ascending = False)"
   ]
  },
  {
   "cell_type": "markdown",
   "id": "26f6c951",
   "metadata": {},
   "source": [
    "**Зависимость между семейным положением и возвратом кредита в срок.**\n",
    "* Находящиеся в браке заемщики осознано подходят к займу и несут солидарную ответственность.\n",
    "* Заёмщики вне брака наиболее рискованная группа по возврату займа."
   ]
  },
  {
   "cell_type": "code",
   "execution_count": 74,
   "id": "2399e5d3",
   "metadata": {},
   "outputs": [
    {
     "data": {
      "text/html": [
       "<div>\n",
       "<style scoped>\n",
       "    .dataframe tbody tr th:only-of-type {\n",
       "        vertical-align: middle;\n",
       "    }\n",
       "\n",
       "    .dataframe tbody tr th {\n",
       "        vertical-align: top;\n",
       "    }\n",
       "\n",
       "    .dataframe thead th {\n",
       "        text-align: right;\n",
       "    }\n",
       "</style>\n",
       "<table border=\"1\" class=\"dataframe\">\n",
       "  <thead>\n",
       "    <tr style=\"text-align: right;\">\n",
       "      <th></th>\n",
       "      <th>family_status</th>\n",
       "      <th>count_family_status</th>\n",
       "      <th>sum_family_status</th>\n",
       "      <th>result_family_status</th>\n",
       "    </tr>\n",
       "  </thead>\n",
       "  <tbody>\n",
       "    <tr>\n",
       "      <th>4</th>\n",
       "      <td>в разводе</td>\n",
       "      <td>2784</td>\n",
       "      <td>274</td>\n",
       "      <td>0.098420</td>\n",
       "    </tr>\n",
       "    <tr>\n",
       "      <th>1</th>\n",
       "      <td>не женат / не замужем</td>\n",
       "      <td>4124</td>\n",
       "      <td>388</td>\n",
       "      <td>0.094083</td>\n",
       "    </tr>\n",
       "    <tr>\n",
       "      <th>0</th>\n",
       "      <td>вдовец / вдова</td>\n",
       "      <td>12075</td>\n",
       "      <td>929</td>\n",
       "      <td>0.076936</td>\n",
       "    </tr>\n",
       "    <tr>\n",
       "      <th>3</th>\n",
       "      <td>гражданский брак</td>\n",
       "      <td>1193</td>\n",
       "      <td>85</td>\n",
       "      <td>0.071249</td>\n",
       "    </tr>\n",
       "    <tr>\n",
       "      <th>2</th>\n",
       "      <td>женат / замужем</td>\n",
       "      <td>942</td>\n",
       "      <td>63</td>\n",
       "      <td>0.066879</td>\n",
       "    </tr>\n",
       "  </tbody>\n",
       "</table>\n",
       "</div>"
      ],
      "text/plain": [
       "           family_status  count_family_status  sum_family_status  \\\n",
       "4              в разводе                 2784                274   \n",
       "1  не женат / не замужем                 4124                388   \n",
       "0         вдовец / вдова                12075                929   \n",
       "3       гражданский брак                 1193                 85   \n",
       "2        женат / замужем                  942                 63   \n",
       "\n",
       "   result_family_status  \n",
       "4              0.098420  \n",
       "1              0.094083  \n",
       "0              0.076936  \n",
       "3              0.071249  \n",
       "2              0.066879  "
      ]
     },
     "execution_count": 74,
     "metadata": {},
     "output_type": "execute_result"
    }
   ],
   "source": [
    "debt_family_status.sort_values('result_family_status', ascending = False)"
   ]
  },
  {
   "cell_type": "markdown",
   "id": "4c9dc4a9",
   "metadata": {},
   "source": [
    "**Зависимость между уровнем дохода и возвратом кредита в срок.**\n",
    "* Заемщики с доходом ниже 30000 наименьшее количество с наибольшей долей прострочки возврата займа. Даже с учетом строгого подхода к решению о выдачи займа данной категории  риск наиболее велик.\n",
    "* Заёмщики с среднем доходом (от 50000 до 200000) и выше среднего (от 200000) доля просрочки ниже но не намного.\n",
    "\n",
    "Зависимость между уровнем дохода и возвратом кредита в срок не подлежит жесткой корреляции."
   ]
  },
  {
   "cell_type": "markdown",
   "id": "cc04e3e9",
   "metadata": {},
   "source": [
    "Категории:\n",
    "0–30000 — 'E';\n",
    "30001–50000 — 'D';\n",
    "50001–200000 — 'C';\n",
    "200001–1000000 — 'B';\n",
    "1000001 и выше — 'A'."
   ]
  },
  {
   "cell_type": "code",
   "execution_count": 75,
   "id": "07485736",
   "metadata": {},
   "outputs": [
    {
     "data": {
      "text/html": [
       "<div>\n",
       "<style scoped>\n",
       "    .dataframe tbody tr th:only-of-type {\n",
       "        vertical-align: middle;\n",
       "    }\n",
       "\n",
       "    .dataframe tbody tr th {\n",
       "        vertical-align: top;\n",
       "    }\n",
       "\n",
       "    .dataframe thead th {\n",
       "        text-align: right;\n",
       "    }\n",
       "</style>\n",
       "<table border=\"1\" class=\"dataframe\">\n",
       "  <thead>\n",
       "    <tr style=\"text-align: right;\">\n",
       "      <th></th>\n",
       "      <th>count_income_category</th>\n",
       "      <th>sum_income_category</th>\n",
       "      <th>result_income_category</th>\n",
       "    </tr>\n",
       "    <tr>\n",
       "      <th>total_income_category</th>\n",
       "      <th></th>\n",
       "      <th></th>\n",
       "      <th></th>\n",
       "    </tr>\n",
       "  </thead>\n",
       "  <tbody>\n",
       "    <tr>\n",
       "      <th>E</th>\n",
       "      <td>22</td>\n",
       "      <td>2</td>\n",
       "      <td>0.090909</td>\n",
       "    </tr>\n",
       "    <tr>\n",
       "      <th>C</th>\n",
       "      <td>15680</td>\n",
       "      <td>1358</td>\n",
       "      <td>0.086607</td>\n",
       "    </tr>\n",
       "    <tr>\n",
       "      <th>A</th>\n",
       "      <td>25</td>\n",
       "      <td>2</td>\n",
       "      <td>0.080000</td>\n",
       "    </tr>\n",
       "    <tr>\n",
       "      <th>B</th>\n",
       "      <td>5041</td>\n",
       "      <td>356</td>\n",
       "      <td>0.070621</td>\n",
       "    </tr>\n",
       "    <tr>\n",
       "      <th>D</th>\n",
       "      <td>350</td>\n",
       "      <td>21</td>\n",
       "      <td>0.060000</td>\n",
       "    </tr>\n",
       "  </tbody>\n",
       "</table>\n",
       "</div>"
      ],
      "text/plain": [
       "                       count_income_category  sum_income_category  \\\n",
       "total_income_category                                               \n",
       "E                                         22                    2   \n",
       "C                                      15680                 1358   \n",
       "A                                         25                    2   \n",
       "B                                       5041                  356   \n",
       "D                                        350                   21   \n",
       "\n",
       "                       result_income_category  \n",
       "total_income_category                          \n",
       "E                                    0.090909  \n",
       "C                                    0.086607  \n",
       "A                                    0.080000  \n",
       "B                                    0.070621  \n",
       "D                                    0.060000  "
      ]
     },
     "execution_count": 75,
     "metadata": {},
     "output_type": "execute_result"
    }
   ],
   "source": [
    "debt_income_category.sort_values('result_income_category', ascending = False)"
   ]
  },
  {
   "cell_type": "markdown",
   "id": "966db0f8",
   "metadata": {},
   "source": [
    "**Разные цели кредита влияют на его возврат в срок.**\n",
    "* Высоки риски задолженности по кредитам на автомобили и образование,\n",
    "* Кредит на свадьбу и недвижимость менее рискованные так как в случае со свадьбой частично возмещается за счет подаренных денежных средств, а в случае с недвижимостью кредит как правило является долгосрочным и при принятии решения заёмщик как и банк все тщательно рассчитывает.\n"
   ]
  },
  {
   "cell_type": "code",
   "execution_count": 76,
   "id": "d66c2e0e",
   "metadata": {},
   "outputs": [
    {
     "data": {
      "text/html": [
       "<div>\n",
       "<style scoped>\n",
       "    .dataframe tbody tr th:only-of-type {\n",
       "        vertical-align: middle;\n",
       "    }\n",
       "\n",
       "    .dataframe tbody tr th {\n",
       "        vertical-align: top;\n",
       "    }\n",
       "\n",
       "    .dataframe thead th {\n",
       "        text-align: right;\n",
       "    }\n",
       "</style>\n",
       "<table border=\"1\" class=\"dataframe\">\n",
       "  <thead>\n",
       "    <tr style=\"text-align: right;\">\n",
       "      <th></th>\n",
       "      <th>count_purpose_category</th>\n",
       "      <th>sum_purpose_category</th>\n",
       "      <th>result_purpose_category</th>\n",
       "    </tr>\n",
       "    <tr>\n",
       "      <th>purpose_category</th>\n",
       "      <th></th>\n",
       "      <th></th>\n",
       "      <th></th>\n",
       "    </tr>\n",
       "  </thead>\n",
       "  <tbody>\n",
       "    <tr>\n",
       "      <th>операции с автомобилем</th>\n",
       "      <td>4272</td>\n",
       "      <td>402</td>\n",
       "      <td>0.094101</td>\n",
       "    </tr>\n",
       "    <tr>\n",
       "      <th>получение образования</th>\n",
       "      <td>3964</td>\n",
       "      <td>370</td>\n",
       "      <td>0.093340</td>\n",
       "    </tr>\n",
       "    <tr>\n",
       "      <th>проведение свадьбы</th>\n",
       "      <td>2306</td>\n",
       "      <td>186</td>\n",
       "      <td>0.080659</td>\n",
       "    </tr>\n",
       "    <tr>\n",
       "      <th>операции с недвижимостью</th>\n",
       "      <td>10576</td>\n",
       "      <td>781</td>\n",
       "      <td>0.073846</td>\n",
       "    </tr>\n",
       "  </tbody>\n",
       "</table>\n",
       "</div>"
      ],
      "text/plain": [
       "                          count_purpose_category  sum_purpose_category  \\\n",
       "purpose_category                                                         \n",
       "операции с автомобилем                      4272                   402   \n",
       "получение образования                       3964                   370   \n",
       "проведение свадьбы                          2306                   186   \n",
       "операции с недвижимостью                   10576                   781   \n",
       "\n",
       "                          result_purpose_category  \n",
       "purpose_category                                   \n",
       "операции с автомобилем                   0.094101  \n",
       "получение образования                    0.093340  \n",
       "проведение свадьбы                       0.080659  \n",
       "операции с недвижимостью                 0.073846  "
      ]
     },
     "execution_count": 76,
     "metadata": {},
     "output_type": "execute_result"
    }
   ],
   "source": [
    "debt_purpose_category.sort_values('result_purpose_category', ascending = False)"
   ]
  },
  {
   "cell_type": "markdown",
   "id": "e4321f48",
   "metadata": {},
   "source": [
    "**Заемщики находящиеся в браке/планирующие брак, с долгосрочным кредитом или кредитом на свадьбу, в не зависимости то уровня дохода - являются лучшими клиентами банка.**"
   ]
  },
  {
   "cell_type": "markdown",
   "id": "9ca77e7d",
   "metadata": {},
   "source": [
    "**Заемщики вне брака, с кредитом на автомобиль или образование, с 1-2 или 4 детьми - - являются худшими клиентами банка.**"
   ]
  }
 ],
 "metadata": {
  "ExecuteTimeLog": [
   {
    "duration": 379,
    "start_time": "2022-05-07T11:49:36.742Z"
   },
   {
    "duration": 3,
    "start_time": "2022-05-07T12:17:38.394Z"
   },
   {
    "duration": 3,
    "start_time": "2022-05-07T12:20:44.100Z"
   },
   {
    "duration": 2,
    "start_time": "2022-05-07T12:33:35.546Z"
   },
   {
    "duration": 424,
    "start_time": "2022-05-07T12:33:43.583Z"
   },
   {
    "duration": 2,
    "start_time": "2022-05-07T12:33:50.720Z"
   },
   {
    "duration": 59,
    "start_time": "2022-05-07T12:34:59.851Z"
   },
   {
    "duration": 66,
    "start_time": "2022-05-07T12:40:36.799Z"
   },
   {
    "duration": 55,
    "start_time": "2022-05-07T12:40:44.514Z"
   },
   {
    "duration": 16,
    "start_time": "2022-05-07T12:40:45.112Z"
   },
   {
    "duration": 22,
    "start_time": "2022-05-07T12:44:55.587Z"
   },
   {
    "duration": 10,
    "start_time": "2022-05-07T12:46:39.383Z"
   },
   {
    "duration": 5,
    "start_time": "2022-05-07T12:46:50.573Z"
   },
   {
    "duration": 4,
    "start_time": "2022-05-07T12:47:11.529Z"
   },
   {
    "duration": 11,
    "start_time": "2022-05-07T12:50:22.080Z"
   },
   {
    "duration": 105,
    "start_time": "2022-05-07T12:51:02.099Z"
   },
   {
    "duration": 11,
    "start_time": "2022-05-07T12:52:11.845Z"
   },
   {
    "duration": 11,
    "start_time": "2022-05-07T12:52:20.273Z"
   },
   {
    "duration": 1025,
    "start_time": "2022-05-07T12:52:21.379Z"
   },
   {
    "duration": 12,
    "start_time": "2022-05-07T12:52:38.998Z"
   },
   {
    "duration": 88,
    "start_time": "2022-05-07T12:52:40.037Z"
   },
   {
    "duration": 10,
    "start_time": "2022-05-07T12:53:02.212Z"
   },
   {
    "duration": 13,
    "start_time": "2022-05-07T12:54:13.658Z"
   },
   {
    "duration": 14,
    "start_time": "2022-05-07T12:54:20.001Z"
   },
   {
    "duration": 11,
    "start_time": "2022-05-07T12:54:53.477Z"
   },
   {
    "duration": 14,
    "start_time": "2022-05-07T12:55:09.841Z"
   },
   {
    "duration": 89,
    "start_time": "2022-05-07T12:55:11.721Z"
   },
   {
    "duration": 11,
    "start_time": "2022-05-07T12:55:41.522Z"
   },
   {
    "duration": 12,
    "start_time": "2022-05-07T12:56:13.154Z"
   },
   {
    "duration": 10,
    "start_time": "2022-05-07T12:56:22.159Z"
   },
   {
    "duration": 86,
    "start_time": "2022-05-07T12:56:25.633Z"
   },
   {
    "duration": 10,
    "start_time": "2022-05-07T12:56:30.480Z"
   },
   {
    "duration": 18,
    "start_time": "2022-05-07T12:57:17.400Z"
   },
   {
    "duration": 5,
    "start_time": "2022-05-07T13:01:27.297Z"
   },
   {
    "duration": 4,
    "start_time": "2022-05-07T13:01:37.454Z"
   },
   {
    "duration": 124,
    "start_time": "2022-05-08T13:29:38.598Z"
   },
   {
    "duration": 61,
    "start_time": "2022-05-08T13:30:09.816Z"
   },
   {
    "duration": 9,
    "start_time": "2022-05-08T13:30:41.167Z"
   },
   {
    "duration": 5,
    "start_time": "2022-05-08T13:33:27.504Z"
   },
   {
    "duration": 9,
    "start_time": "2022-05-08T13:34:34.251Z"
   },
   {
    "duration": 8,
    "start_time": "2022-05-08T13:34:52.500Z"
   },
   {
    "duration": 572,
    "start_time": "2022-05-08T13:35:07.706Z"
   },
   {
    "duration": 21,
    "start_time": "2022-05-08T13:35:08.281Z"
   },
   {
    "duration": 5,
    "start_time": "2022-05-08T13:35:08.305Z"
   },
   {
    "duration": 40,
    "start_time": "2022-05-08T13:35:08.313Z"
   },
   {
    "duration": 32,
    "start_time": "2022-05-08T13:35:08.356Z"
   },
   {
    "duration": 12,
    "start_time": "2022-05-08T13:35:08.391Z"
   },
   {
    "duration": 38,
    "start_time": "2022-05-08T13:35:08.405Z"
   },
   {
    "duration": 63,
    "start_time": "2022-05-08T13:37:28.000Z"
   },
   {
    "duration": 21,
    "start_time": "2022-05-08T13:37:29.057Z"
   },
   {
    "duration": 4,
    "start_time": "2022-05-08T13:37:56.920Z"
   },
   {
    "duration": 4,
    "start_time": "2022-05-08T13:38:10.785Z"
   },
   {
    "duration": 5,
    "start_time": "2022-05-08T13:38:22.850Z"
   },
   {
    "duration": 4,
    "start_time": "2022-05-08T13:38:33.132Z"
   },
   {
    "duration": 4,
    "start_time": "2022-05-08T13:39:02.444Z"
   },
   {
    "duration": 4,
    "start_time": "2022-05-08T13:39:19.578Z"
   },
   {
    "duration": 4,
    "start_time": "2022-05-08T13:39:29.591Z"
   },
   {
    "duration": 4,
    "start_time": "2022-05-08T13:41:00.013Z"
   },
   {
    "duration": 551,
    "start_time": "2022-05-08T14:27:23.885Z"
   },
   {
    "duration": 24,
    "start_time": "2022-05-08T14:27:24.439Z"
   },
   {
    "duration": 5,
    "start_time": "2022-05-08T14:27:24.465Z"
   },
   {
    "duration": 25,
    "start_time": "2022-05-08T14:27:24.473Z"
   },
   {
    "duration": 51,
    "start_time": "2022-05-08T14:27:24.500Z"
   },
   {
    "duration": 26,
    "start_time": "2022-05-08T14:27:24.554Z"
   },
   {
    "duration": 124,
    "start_time": "2022-05-08T14:29:31.980Z"
   },
   {
    "duration": 107,
    "start_time": "2022-05-08T14:37:48.412Z"
   },
   {
    "duration": 80,
    "start_time": "2022-05-09T10:41:34.099Z"
   },
   {
    "duration": 12,
    "start_time": "2022-05-09T10:42:05.602Z"
   },
   {
    "duration": 590,
    "start_time": "2022-05-09T10:42:15.620Z"
   },
   {
    "duration": 23,
    "start_time": "2022-05-09T10:42:16.215Z"
   },
   {
    "duration": 4,
    "start_time": "2022-05-09T10:42:16.240Z"
   },
   {
    "duration": 50,
    "start_time": "2022-05-09T10:42:16.247Z"
   },
   {
    "duration": 25,
    "start_time": "2022-05-09T10:42:16.301Z"
   },
   {
    "duration": 25,
    "start_time": "2022-05-09T10:42:16.329Z"
   },
   {
    "duration": 57,
    "start_time": "2022-05-09T10:42:16.357Z"
   },
   {
    "duration": 113,
    "start_time": "2022-05-09T10:42:16.417Z"
   },
   {
    "duration": 192,
    "start_time": "2022-05-09T10:44:21.430Z"
   },
   {
    "duration": 604,
    "start_time": "2022-05-09T11:05:41.981Z"
   },
   {
    "duration": 29,
    "start_time": "2022-05-09T11:05:42.588Z"
   },
   {
    "duration": 6,
    "start_time": "2022-05-09T11:05:42.620Z"
   },
   {
    "duration": 23,
    "start_time": "2022-05-09T11:05:42.628Z"
   },
   {
    "duration": 55,
    "start_time": "2022-05-09T11:05:42.654Z"
   },
   {
    "duration": 27,
    "start_time": "2022-05-09T11:05:42.712Z"
   },
   {
    "duration": 54,
    "start_time": "2022-05-09T11:05:42.741Z"
   },
   {
    "duration": 6,
    "start_time": "2022-05-09T11:05:42.798Z"
   },
   {
    "duration": 125,
    "start_time": "2022-05-09T11:05:42.807Z"
   },
   {
    "duration": 5,
    "start_time": "2022-05-09T11:06:44.543Z"
   },
   {
    "duration": 645,
    "start_time": "2022-05-09T11:08:10.973Z"
   },
   {
    "duration": 28,
    "start_time": "2022-05-09T11:08:11.620Z"
   },
   {
    "duration": 4,
    "start_time": "2022-05-09T11:08:11.650Z"
   },
   {
    "duration": 57,
    "start_time": "2022-05-09T11:08:11.656Z"
   },
   {
    "duration": 24,
    "start_time": "2022-05-09T11:08:11.717Z"
   },
   {
    "duration": 34,
    "start_time": "2022-05-09T11:08:11.744Z"
   },
   {
    "duration": 49,
    "start_time": "2022-05-09T11:08:11.781Z"
   },
   {
    "duration": 5,
    "start_time": "2022-05-09T11:08:11.833Z"
   },
   {
    "duration": 121,
    "start_time": "2022-05-09T11:08:11.840Z"
   },
   {
    "duration": 10,
    "start_time": "2022-05-09T11:09:05.941Z"
   },
   {
    "duration": 541,
    "start_time": "2022-05-09T11:09:32.734Z"
   },
   {
    "duration": 27,
    "start_time": "2022-05-09T11:09:33.278Z"
   },
   {
    "duration": 10,
    "start_time": "2022-05-09T11:09:33.311Z"
   },
   {
    "duration": 37,
    "start_time": "2022-05-09T11:09:33.324Z"
   },
   {
    "duration": 41,
    "start_time": "2022-05-09T11:09:33.364Z"
   },
   {
    "duration": 33,
    "start_time": "2022-05-09T11:09:33.407Z"
   },
   {
    "duration": 62,
    "start_time": "2022-05-09T11:09:33.443Z"
   },
   {
    "duration": 140,
    "start_time": "2022-05-09T11:09:33.507Z"
   },
   {
    "duration": 0,
    "start_time": "2022-05-09T11:09:33.650Z"
   },
   {
    "duration": 7,
    "start_time": "2022-05-09T11:10:50.488Z"
   },
   {
    "duration": 6,
    "start_time": "2022-05-09T11:11:00.039Z"
   },
   {
    "duration": 7,
    "start_time": "2022-05-09T11:11:09.173Z"
   },
   {
    "duration": 6,
    "start_time": "2022-05-09T11:11:18.179Z"
   },
   {
    "duration": 7,
    "start_time": "2022-05-09T11:12:05.354Z"
   },
   {
    "duration": 5,
    "start_time": "2022-05-09T11:12:15.683Z"
   },
   {
    "duration": 6,
    "start_time": "2022-05-09T11:17:20.642Z"
   },
   {
    "duration": 5,
    "start_time": "2022-05-09T11:18:21.355Z"
   },
   {
    "duration": 5,
    "start_time": "2022-05-09T11:18:29.673Z"
   },
   {
    "duration": 4,
    "start_time": "2022-05-09T11:18:36.587Z"
   },
   {
    "duration": 12,
    "start_time": "2022-05-09T11:20:30.027Z"
   },
   {
    "duration": 17,
    "start_time": "2022-05-09T11:20:37.197Z"
   },
   {
    "duration": 5,
    "start_time": "2022-05-09T11:20:44.555Z"
   },
   {
    "duration": 13,
    "start_time": "2022-05-09T11:21:02.848Z"
   },
   {
    "duration": 5,
    "start_time": "2022-05-09T11:21:31.911Z"
   },
   {
    "duration": 3493,
    "start_time": "2022-05-09T11:26:49.458Z"
   },
   {
    "duration": 13,
    "start_time": "2022-05-09T11:27:08.430Z"
   },
   {
    "duration": 13,
    "start_time": "2022-05-09T11:27:40.172Z"
   },
   {
    "duration": 5,
    "start_time": "2022-05-09T11:28:11.026Z"
   },
   {
    "duration": 38,
    "start_time": "2022-05-09T11:35:33.778Z"
   },
   {
    "duration": 591,
    "start_time": "2022-05-09T11:37:19.556Z"
   },
   {
    "duration": 24,
    "start_time": "2022-05-09T11:37:20.149Z"
   },
   {
    "duration": 19,
    "start_time": "2022-05-09T11:37:20.175Z"
   },
   {
    "duration": 52,
    "start_time": "2022-05-09T11:37:20.202Z"
   },
   {
    "duration": 23,
    "start_time": "2022-05-09T11:37:20.257Z"
   },
   {
    "duration": 38,
    "start_time": "2022-05-09T11:37:20.283Z"
   },
   {
    "duration": 38,
    "start_time": "2022-05-09T11:37:20.325Z"
   },
   {
    "duration": 58,
    "start_time": "2022-05-09T11:37:20.366Z"
   },
   {
    "duration": 20,
    "start_time": "2022-05-09T11:37:20.426Z"
   },
   {
    "duration": 8,
    "start_time": "2022-05-09T11:37:20.449Z"
   },
   {
    "duration": 17,
    "start_time": "2022-05-09T11:37:20.459Z"
   },
   {
    "duration": 123,
    "start_time": "2022-05-09T11:37:20.478Z"
   },
   {
    "duration": 14,
    "start_time": "2022-05-09T12:24:57.890Z"
   },
   {
    "duration": 15,
    "start_time": "2022-05-09T12:25:09.885Z"
   },
   {
    "duration": 18,
    "start_time": "2022-05-09T12:25:35.414Z"
   },
   {
    "duration": 30,
    "start_time": "2022-05-09T12:27:29.849Z"
   },
   {
    "duration": 35,
    "start_time": "2022-05-09T12:27:42.787Z"
   },
   {
    "duration": 12,
    "start_time": "2022-05-09T12:31:42.611Z"
   },
   {
    "duration": 7,
    "start_time": "2022-05-09T12:33:31.456Z"
   },
   {
    "duration": 5,
    "start_time": "2022-05-09T12:33:33.161Z"
   },
   {
    "duration": 24,
    "start_time": "2022-05-09T12:33:34.515Z"
   },
   {
    "duration": 6,
    "start_time": "2022-05-09T12:34:24.851Z"
   },
   {
    "duration": 10,
    "start_time": "2022-05-09T12:34:25.301Z"
   },
   {
    "duration": 13,
    "start_time": "2022-05-09T12:34:26.945Z"
   },
   {
    "duration": 6,
    "start_time": "2022-05-09T12:40:13.535Z"
   },
   {
    "duration": 250,
    "start_time": "2022-05-09T12:41:24.923Z"
   },
   {
    "duration": 228,
    "start_time": "2022-05-09T12:41:30.091Z"
   },
   {
    "duration": 6,
    "start_time": "2022-05-09T12:41:37.884Z"
   },
   {
    "duration": 4,
    "start_time": "2022-05-09T12:53:14.460Z"
   },
   {
    "duration": 13,
    "start_time": "2022-05-09T12:53:20.269Z"
   },
   {
    "duration": 21,
    "start_time": "2022-05-09T12:55:55.824Z"
   },
   {
    "duration": 14,
    "start_time": "2022-05-09T12:56:16.783Z"
   },
   {
    "duration": 568,
    "start_time": "2022-05-09T12:56:22.734Z"
   },
   {
    "duration": 32,
    "start_time": "2022-05-09T12:56:23.304Z"
   },
   {
    "duration": 5,
    "start_time": "2022-05-09T12:56:23.338Z"
   },
   {
    "duration": 23,
    "start_time": "2022-05-09T12:56:23.346Z"
   },
   {
    "duration": 56,
    "start_time": "2022-05-09T12:56:23.372Z"
   },
   {
    "duration": 31,
    "start_time": "2022-05-09T12:56:23.431Z"
   },
   {
    "duration": 62,
    "start_time": "2022-05-09T12:56:23.464Z"
   },
   {
    "duration": 42,
    "start_time": "2022-05-09T12:56:23.529Z"
   },
   {
    "duration": 214,
    "start_time": "2022-05-09T12:56:23.573Z"
   },
   {
    "duration": 0,
    "start_time": "2022-05-09T12:56:23.790Z"
   },
   {
    "duration": 0,
    "start_time": "2022-05-09T12:56:23.791Z"
   },
   {
    "duration": 0,
    "start_time": "2022-05-09T12:56:23.801Z"
   },
   {
    "duration": 0,
    "start_time": "2022-05-09T12:56:23.803Z"
   },
   {
    "duration": 0,
    "start_time": "2022-05-09T12:56:23.805Z"
   },
   {
    "duration": 0,
    "start_time": "2022-05-09T12:56:23.807Z"
   },
   {
    "duration": 8,
    "start_time": "2022-05-09T12:56:58.397Z"
   },
   {
    "duration": 10,
    "start_time": "2022-05-09T12:57:00.189Z"
   },
   {
    "duration": 104,
    "start_time": "2022-05-09T12:57:02.309Z"
   },
   {
    "duration": 16,
    "start_time": "2022-05-09T12:57:12.040Z"
   },
   {
    "duration": 223,
    "start_time": "2022-05-09T12:57:12.813Z"
   },
   {
    "duration": 11,
    "start_time": "2022-05-09T12:57:39.617Z"
   },
   {
    "duration": 14,
    "start_time": "2022-05-09T12:57:42.828Z"
   },
   {
    "duration": 33,
    "start_time": "2022-05-09T12:59:28.517Z"
   },
   {
    "duration": 23,
    "start_time": "2022-05-09T12:59:36.126Z"
   },
   {
    "duration": 7,
    "start_time": "2022-05-09T13:03:39.988Z"
   },
   {
    "duration": 620,
    "start_time": "2022-05-09T13:03:55.479Z"
   },
   {
    "duration": 27,
    "start_time": "2022-05-09T13:03:56.112Z"
   },
   {
    "duration": 4,
    "start_time": "2022-05-09T13:03:56.142Z"
   },
   {
    "duration": 26,
    "start_time": "2022-05-09T13:03:56.148Z"
   },
   {
    "duration": 43,
    "start_time": "2022-05-09T13:03:56.177Z"
   },
   {
    "duration": 30,
    "start_time": "2022-05-09T13:03:56.224Z"
   },
   {
    "duration": 51,
    "start_time": "2022-05-09T13:03:56.256Z"
   },
   {
    "duration": 42,
    "start_time": "2022-05-09T13:03:56.309Z"
   },
   {
    "duration": 6,
    "start_time": "2022-05-09T13:03:56.353Z"
   },
   {
    "duration": 8,
    "start_time": "2022-05-09T13:03:56.360Z"
   },
   {
    "duration": 39,
    "start_time": "2022-05-09T13:03:56.369Z"
   },
   {
    "duration": 17,
    "start_time": "2022-05-09T13:03:56.410Z"
   },
   {
    "duration": 22,
    "start_time": "2022-05-09T13:03:56.430Z"
   },
   {
    "duration": 109,
    "start_time": "2022-05-09T13:03:56.455Z"
   },
   {
    "duration": 16,
    "start_time": "2022-05-09T13:05:45.219Z"
   },
   {
    "duration": 6,
    "start_time": "2022-05-09T13:08:19.115Z"
   },
   {
    "duration": 13,
    "start_time": "2022-05-09T13:09:54.892Z"
   },
   {
    "duration": 599,
    "start_time": "2022-05-09T13:10:04.267Z"
   },
   {
    "duration": 34,
    "start_time": "2022-05-09T13:10:04.868Z"
   },
   {
    "duration": 5,
    "start_time": "2022-05-09T13:10:04.905Z"
   },
   {
    "duration": 42,
    "start_time": "2022-05-09T13:10:04.914Z"
   },
   {
    "duration": 22,
    "start_time": "2022-05-09T13:10:04.958Z"
   },
   {
    "duration": 51,
    "start_time": "2022-05-09T13:10:04.982Z"
   },
   {
    "duration": 32,
    "start_time": "2022-05-09T13:10:05.035Z"
   },
   {
    "duration": 61,
    "start_time": "2022-05-09T13:10:05.069Z"
   },
   {
    "duration": 7,
    "start_time": "2022-05-09T13:10:05.134Z"
   },
   {
    "duration": 6,
    "start_time": "2022-05-09T13:10:05.144Z"
   },
   {
    "duration": 7,
    "start_time": "2022-05-09T13:10:05.152Z"
   },
   {
    "duration": 52,
    "start_time": "2022-05-09T13:10:05.161Z"
   },
   {
    "duration": 20,
    "start_time": "2022-05-09T13:10:05.216Z"
   },
   {
    "duration": 15,
    "start_time": "2022-05-09T13:10:05.239Z"
   },
   {
    "duration": 104,
    "start_time": "2022-05-09T13:10:05.256Z"
   },
   {
    "duration": 7,
    "start_time": "2022-05-09T13:10:22.973Z"
   },
   {
    "duration": 14,
    "start_time": "2022-05-09T13:10:45.129Z"
   },
   {
    "duration": 5,
    "start_time": "2022-05-09T13:11:23.781Z"
   },
   {
    "duration": 70,
    "start_time": "2022-05-09T13:14:12.718Z"
   },
   {
    "duration": 9,
    "start_time": "2022-05-09T13:14:59.544Z"
   },
   {
    "duration": 11,
    "start_time": "2022-05-09T13:18:50.389Z"
   },
   {
    "duration": 565,
    "start_time": "2022-05-09T13:18:56.769Z"
   },
   {
    "duration": 22,
    "start_time": "2022-05-09T13:18:57.336Z"
   },
   {
    "duration": 4,
    "start_time": "2022-05-09T13:18:57.360Z"
   },
   {
    "duration": 50,
    "start_time": "2022-05-09T13:18:57.367Z"
   },
   {
    "duration": 36,
    "start_time": "2022-05-09T13:18:57.420Z"
   },
   {
    "duration": 27,
    "start_time": "2022-05-09T13:18:57.458Z"
   },
   {
    "duration": 37,
    "start_time": "2022-05-09T13:18:57.504Z"
   },
   {
    "duration": 34,
    "start_time": "2022-05-09T13:18:57.543Z"
   },
   {
    "duration": 31,
    "start_time": "2022-05-09T13:18:57.579Z"
   },
   {
    "duration": 29,
    "start_time": "2022-05-09T13:18:57.612Z"
   },
   {
    "duration": 11,
    "start_time": "2022-05-09T13:18:57.643Z"
   },
   {
    "duration": 9,
    "start_time": "2022-05-09T13:18:57.657Z"
   },
   {
    "duration": 5,
    "start_time": "2022-05-09T13:18:57.671Z"
   },
   {
    "duration": 35,
    "start_time": "2022-05-09T13:18:57.678Z"
   },
   {
    "duration": 124,
    "start_time": "2022-05-09T13:18:57.716Z"
   },
   {
    "duration": 6,
    "start_time": "2022-05-09T13:19:16.743Z"
   },
   {
    "duration": 597,
    "start_time": "2022-05-09T13:19:36.791Z"
   },
   {
    "duration": 47,
    "start_time": "2022-05-09T13:19:37.390Z"
   },
   {
    "duration": 4,
    "start_time": "2022-05-09T13:19:37.440Z"
   },
   {
    "duration": 24,
    "start_time": "2022-05-09T13:19:37.447Z"
   },
   {
    "duration": 33,
    "start_time": "2022-05-09T13:19:37.473Z"
   },
   {
    "duration": 31,
    "start_time": "2022-05-09T13:19:37.509Z"
   },
   {
    "duration": 54,
    "start_time": "2022-05-09T13:19:37.543Z"
   },
   {
    "duration": 45,
    "start_time": "2022-05-09T13:19:37.600Z"
   },
   {
    "duration": 6,
    "start_time": "2022-05-09T13:19:37.647Z"
   },
   {
    "duration": 6,
    "start_time": "2022-05-09T13:19:37.656Z"
   },
   {
    "duration": 9,
    "start_time": "2022-05-09T13:19:37.663Z"
   },
   {
    "duration": 7,
    "start_time": "2022-05-09T13:19:37.703Z"
   },
   {
    "duration": 27,
    "start_time": "2022-05-09T13:19:37.712Z"
   },
   {
    "duration": 19,
    "start_time": "2022-05-09T13:19:37.742Z"
   },
   {
    "duration": 126,
    "start_time": "2022-05-09T13:19:37.763Z"
   },
   {
    "duration": 16,
    "start_time": "2022-05-09T13:20:17.823Z"
   },
   {
    "duration": 599,
    "start_time": "2022-05-09T13:20:25.350Z"
   },
   {
    "duration": 22,
    "start_time": "2022-05-09T13:20:25.952Z"
   },
   {
    "duration": 22,
    "start_time": "2022-05-09T13:20:25.977Z"
   },
   {
    "duration": 72,
    "start_time": "2022-05-09T13:20:26.002Z"
   },
   {
    "duration": 34,
    "start_time": "2022-05-09T13:20:26.078Z"
   },
   {
    "duration": 38,
    "start_time": "2022-05-09T13:20:26.114Z"
   },
   {
    "duration": 55,
    "start_time": "2022-05-09T13:20:26.155Z"
   },
   {
    "duration": 42,
    "start_time": "2022-05-09T13:20:26.212Z"
   },
   {
    "duration": 8,
    "start_time": "2022-05-09T13:20:26.256Z"
   },
   {
    "duration": 13,
    "start_time": "2022-05-09T13:20:26.266Z"
   },
   {
    "duration": 36,
    "start_time": "2022-05-09T13:20:26.301Z"
   },
   {
    "duration": 17,
    "start_time": "2022-05-09T13:20:26.341Z"
   },
   {
    "duration": 8,
    "start_time": "2022-05-09T13:20:26.361Z"
   },
   {
    "duration": 6,
    "start_time": "2022-05-09T13:20:26.400Z"
   },
   {
    "duration": 55,
    "start_time": "2022-05-09T13:20:26.409Z"
   },
   {
    "duration": 115,
    "start_time": "2022-05-09T13:20:26.466Z"
   },
   {
    "duration": 4,
    "start_time": "2022-05-09T13:22:06.042Z"
   },
   {
    "duration": 5,
    "start_time": "2022-05-09T13:22:22.087Z"
   },
   {
    "duration": 649,
    "start_time": "2022-05-09T13:22:32.975Z"
   },
   {
    "duration": 31,
    "start_time": "2022-05-09T13:22:33.629Z"
   },
   {
    "duration": 4,
    "start_time": "2022-05-09T13:22:33.662Z"
   },
   {
    "duration": 37,
    "start_time": "2022-05-09T13:22:33.669Z"
   },
   {
    "duration": 29,
    "start_time": "2022-05-09T13:22:33.708Z"
   },
   {
    "duration": 28,
    "start_time": "2022-05-09T13:22:33.739Z"
   },
   {
    "duration": 75,
    "start_time": "2022-05-09T13:22:33.769Z"
   },
   {
    "duration": 38,
    "start_time": "2022-05-09T13:22:33.846Z"
   },
   {
    "duration": 13,
    "start_time": "2022-05-09T13:22:33.894Z"
   },
   {
    "duration": 28,
    "start_time": "2022-05-09T13:22:33.911Z"
   },
   {
    "duration": 8,
    "start_time": "2022-05-09T13:22:33.941Z"
   },
   {
    "duration": 12,
    "start_time": "2022-05-09T13:22:33.951Z"
   },
   {
    "duration": 5,
    "start_time": "2022-05-09T13:22:33.965Z"
   },
   {
    "duration": 9,
    "start_time": "2022-05-09T13:22:33.972Z"
   },
   {
    "duration": 20,
    "start_time": "2022-05-09T13:22:33.983Z"
   },
   {
    "duration": 41,
    "start_time": "2022-05-09T13:22:34.007Z"
   },
   {
    "duration": 109,
    "start_time": "2022-05-09T13:22:34.050Z"
   },
   {
    "duration": 624,
    "start_time": "2022-05-09T13:23:29.465Z"
   },
   {
    "duration": 45,
    "start_time": "2022-05-09T13:23:30.092Z"
   },
   {
    "duration": 12,
    "start_time": "2022-05-09T13:23:30.139Z"
   },
   {
    "duration": 27,
    "start_time": "2022-05-09T13:23:30.153Z"
   },
   {
    "duration": 31,
    "start_time": "2022-05-09T13:23:30.182Z"
   },
   {
    "duration": 43,
    "start_time": "2022-05-09T13:23:30.216Z"
   },
   {
    "duration": 63,
    "start_time": "2022-05-09T13:23:30.261Z"
   },
   {
    "duration": 36,
    "start_time": "2022-05-09T13:23:30.327Z"
   },
   {
    "duration": 4,
    "start_time": "2022-05-09T13:23:30.366Z"
   },
   {
    "duration": 30,
    "start_time": "2022-05-09T13:23:30.373Z"
   },
   {
    "duration": 34,
    "start_time": "2022-05-09T13:23:30.405Z"
   },
   {
    "duration": 11,
    "start_time": "2022-05-09T13:23:30.442Z"
   },
   {
    "duration": 23,
    "start_time": "2022-05-09T13:23:30.455Z"
   },
   {
    "duration": 154,
    "start_time": "2022-05-09T13:23:30.480Z"
   },
   {
    "duration": 5,
    "start_time": "2022-05-09T13:24:26.239Z"
   },
   {
    "duration": 7,
    "start_time": "2022-05-09T13:24:53.155Z"
   },
   {
    "duration": 688,
    "start_time": "2022-05-09T13:25:30.623Z"
   },
   {
    "duration": 37,
    "start_time": "2022-05-09T13:25:31.318Z"
   },
   {
    "duration": 8,
    "start_time": "2022-05-09T13:25:31.358Z"
   },
   {
    "duration": 35,
    "start_time": "2022-05-09T13:25:31.368Z"
   },
   {
    "duration": 28,
    "start_time": "2022-05-09T13:25:31.407Z"
   },
   {
    "duration": 39,
    "start_time": "2022-05-09T13:25:31.438Z"
   },
   {
    "duration": 43,
    "start_time": "2022-05-09T13:25:31.480Z"
   },
   {
    "duration": 40,
    "start_time": "2022-05-09T13:25:31.526Z"
   },
   {
    "duration": 5,
    "start_time": "2022-05-09T13:25:31.569Z"
   },
   {
    "duration": 37,
    "start_time": "2022-05-09T13:25:31.576Z"
   },
   {
    "duration": 21,
    "start_time": "2022-05-09T13:25:31.616Z"
   },
   {
    "duration": 11,
    "start_time": "2022-05-09T13:25:31.640Z"
   },
   {
    "duration": 9,
    "start_time": "2022-05-09T13:25:31.653Z"
   },
   {
    "duration": 6,
    "start_time": "2022-05-09T13:25:31.665Z"
   },
   {
    "duration": 58,
    "start_time": "2022-05-09T13:25:31.674Z"
   },
   {
    "duration": 187,
    "start_time": "2022-05-09T13:25:31.734Z"
   },
   {
    "duration": 14,
    "start_time": "2022-05-09T13:28:54.394Z"
   },
   {
    "duration": 579,
    "start_time": "2022-05-09T13:29:02.831Z"
   },
   {
    "duration": 32,
    "start_time": "2022-05-09T13:29:03.414Z"
   },
   {
    "duration": 4,
    "start_time": "2022-05-09T13:29:03.448Z"
   },
   {
    "duration": 30,
    "start_time": "2022-05-09T13:29:03.454Z"
   },
   {
    "duration": 36,
    "start_time": "2022-05-09T13:29:03.487Z"
   },
   {
    "duration": 38,
    "start_time": "2022-05-09T13:29:03.527Z"
   },
   {
    "duration": 46,
    "start_time": "2022-05-09T13:29:03.568Z"
   },
   {
    "duration": 35,
    "start_time": "2022-05-09T13:29:03.619Z"
   },
   {
    "duration": 5,
    "start_time": "2022-05-09T13:29:03.656Z"
   },
   {
    "duration": 32,
    "start_time": "2022-05-09T13:29:03.663Z"
   },
   {
    "duration": 33,
    "start_time": "2022-05-09T13:29:03.701Z"
   },
   {
    "duration": 8,
    "start_time": "2022-05-09T13:29:03.736Z"
   },
   {
    "duration": 9,
    "start_time": "2022-05-09T13:29:03.747Z"
   },
   {
    "duration": 7,
    "start_time": "2022-05-09T13:29:03.759Z"
   },
   {
    "duration": 5,
    "start_time": "2022-05-09T13:29:03.768Z"
   },
   {
    "duration": 26,
    "start_time": "2022-05-09T13:29:03.776Z"
   },
   {
    "duration": 146,
    "start_time": "2022-05-09T13:29:03.804Z"
   },
   {
    "duration": 16,
    "start_time": "2022-05-09T13:29:51.418Z"
   },
   {
    "duration": 79,
    "start_time": "2022-05-09T13:30:00.024Z"
   },
   {
    "duration": 31,
    "start_time": "2022-05-09T13:30:00.106Z"
   },
   {
    "duration": 5,
    "start_time": "2022-05-09T13:30:00.139Z"
   },
   {
    "duration": 52,
    "start_time": "2022-05-09T13:30:00.147Z"
   },
   {
    "duration": 54,
    "start_time": "2022-05-09T13:30:00.202Z"
   },
   {
    "duration": 32,
    "start_time": "2022-05-09T13:30:00.258Z"
   },
   {
    "duration": 48,
    "start_time": "2022-05-09T13:30:00.292Z"
   },
   {
    "duration": 37,
    "start_time": "2022-05-09T13:30:00.342Z"
   },
   {
    "duration": 5,
    "start_time": "2022-05-09T13:30:00.400Z"
   },
   {
    "duration": 48,
    "start_time": "2022-05-09T13:30:00.408Z"
   },
   {
    "duration": 43,
    "start_time": "2022-05-09T13:30:00.459Z"
   },
   {
    "duration": 55,
    "start_time": "2022-05-09T13:30:00.504Z"
   },
   {
    "duration": 72,
    "start_time": "2022-05-09T13:30:00.562Z"
   },
   {
    "duration": 55,
    "start_time": "2022-05-09T13:30:00.638Z"
   },
   {
    "duration": 52,
    "start_time": "2022-05-09T13:30:00.695Z"
   },
   {
    "duration": 324,
    "start_time": "2022-05-09T13:30:15.678Z"
   },
   {
    "duration": 236,
    "start_time": "2022-05-09T13:30:31.212Z"
   },
   {
    "duration": 241,
    "start_time": "2022-05-09T13:30:35.728Z"
   },
   {
    "duration": 258,
    "start_time": "2022-05-09T13:30:50.024Z"
   },
   {
    "duration": 219,
    "start_time": "2022-05-09T13:33:47.715Z"
   },
   {
    "duration": 223,
    "start_time": "2022-05-09T13:34:43.565Z"
   },
   {
    "duration": 20,
    "start_time": "2022-05-09T13:34:53.194Z"
   },
   {
    "duration": 647,
    "start_time": "2022-05-09T13:34:59.063Z"
   },
   {
    "duration": 27,
    "start_time": "2022-05-09T13:34:59.715Z"
   },
   {
    "duration": 5,
    "start_time": "2022-05-09T13:34:59.744Z"
   },
   {
    "duration": 21,
    "start_time": "2022-05-09T13:34:59.751Z"
   },
   {
    "duration": 53,
    "start_time": "2022-05-09T13:34:59.774Z"
   },
   {
    "duration": 26,
    "start_time": "2022-05-09T13:34:59.830Z"
   },
   {
    "duration": 65,
    "start_time": "2022-05-09T13:34:59.858Z"
   },
   {
    "duration": 33,
    "start_time": "2022-05-09T13:34:59.928Z"
   },
   {
    "duration": 5,
    "start_time": "2022-05-09T13:34:59.964Z"
   },
   {
    "duration": 33,
    "start_time": "2022-05-09T13:34:59.973Z"
   },
   {
    "duration": 42,
    "start_time": "2022-05-09T13:35:00.008Z"
   },
   {
    "duration": 8,
    "start_time": "2022-05-09T13:35:00.052Z"
   },
   {
    "duration": 9,
    "start_time": "2022-05-09T13:35:00.062Z"
   },
   {
    "duration": 15,
    "start_time": "2022-05-09T13:35:00.074Z"
   },
   {
    "duration": 118,
    "start_time": "2022-05-09T13:35:00.091Z"
   },
   {
    "duration": 8,
    "start_time": "2022-05-09T13:45:45.297Z"
   },
   {
    "duration": 629,
    "start_time": "2022-05-09T13:45:51.426Z"
   },
   {
    "duration": 22,
    "start_time": "2022-05-09T13:45:52.059Z"
   },
   {
    "duration": 5,
    "start_time": "2022-05-09T13:45:52.083Z"
   },
   {
    "duration": 61,
    "start_time": "2022-05-09T13:45:52.097Z"
   },
   {
    "duration": 24,
    "start_time": "2022-05-09T13:45:52.161Z"
   },
   {
    "duration": 32,
    "start_time": "2022-05-09T13:45:52.187Z"
   },
   {
    "duration": 44,
    "start_time": "2022-05-09T13:45:52.222Z"
   },
   {
    "duration": 66,
    "start_time": "2022-05-09T13:45:52.268Z"
   },
   {
    "duration": 7,
    "start_time": "2022-05-09T13:45:52.337Z"
   },
   {
    "duration": 12,
    "start_time": "2022-05-09T13:45:52.347Z"
   },
   {
    "duration": 10,
    "start_time": "2022-05-09T13:45:52.361Z"
   },
   {
    "duration": 35,
    "start_time": "2022-05-09T13:45:52.374Z"
   },
   {
    "duration": 27,
    "start_time": "2022-05-09T13:45:52.411Z"
   },
   {
    "duration": 5,
    "start_time": "2022-05-09T13:45:52.441Z"
   },
   {
    "duration": 14,
    "start_time": "2022-05-09T13:45:52.448Z"
   },
   {
    "duration": 107,
    "start_time": "2022-05-09T13:45:52.465Z"
   },
   {
    "duration": 641,
    "start_time": "2022-05-09T13:48:10.840Z"
   },
   {
    "duration": 26,
    "start_time": "2022-05-09T13:48:11.484Z"
   },
   {
    "duration": 32,
    "start_time": "2022-05-09T13:48:11.512Z"
   },
   {
    "duration": 22,
    "start_time": "2022-05-09T13:48:11.549Z"
   },
   {
    "duration": 28,
    "start_time": "2022-05-09T13:48:11.574Z"
   },
   {
    "duration": 33,
    "start_time": "2022-05-09T13:48:11.607Z"
   },
   {
    "duration": 33,
    "start_time": "2022-05-09T13:48:11.642Z"
   },
   {
    "duration": 53,
    "start_time": "2022-05-09T13:48:11.677Z"
   },
   {
    "duration": 11,
    "start_time": "2022-05-09T13:48:11.735Z"
   },
   {
    "duration": 15,
    "start_time": "2022-05-09T13:48:11.749Z"
   },
   {
    "duration": 38,
    "start_time": "2022-05-09T13:48:11.766Z"
   },
   {
    "duration": 16,
    "start_time": "2022-05-09T13:48:11.807Z"
   },
   {
    "duration": 7,
    "start_time": "2022-05-09T13:48:11.840Z"
   },
   {
    "duration": 6,
    "start_time": "2022-05-09T13:48:11.849Z"
   },
   {
    "duration": 16,
    "start_time": "2022-05-09T13:48:11.857Z"
   },
   {
    "duration": 137,
    "start_time": "2022-05-09T13:48:11.875Z"
   },
   {
    "duration": 8,
    "start_time": "2022-05-09T13:48:39.126Z"
   },
   {
    "duration": 7,
    "start_time": "2022-05-09T13:48:49.164Z"
   },
   {
    "duration": 656,
    "start_time": "2022-05-09T13:48:55.480Z"
   },
   {
    "duration": 23,
    "start_time": "2022-05-09T13:48:56.140Z"
   },
   {
    "duration": 5,
    "start_time": "2022-05-09T13:48:56.165Z"
   },
   {
    "duration": 58,
    "start_time": "2022-05-09T13:48:56.173Z"
   },
   {
    "duration": 36,
    "start_time": "2022-05-09T13:48:56.234Z"
   },
   {
    "duration": 32,
    "start_time": "2022-05-09T13:48:56.273Z"
   },
   {
    "duration": 39,
    "start_time": "2022-05-09T13:48:56.308Z"
   },
   {
    "duration": 60,
    "start_time": "2022-05-09T13:48:56.349Z"
   },
   {
    "duration": 5,
    "start_time": "2022-05-09T13:48:56.411Z"
   },
   {
    "duration": 33,
    "start_time": "2022-05-09T13:48:56.420Z"
   },
   {
    "duration": 7,
    "start_time": "2022-05-09T13:48:56.455Z"
   },
   {
    "duration": 10,
    "start_time": "2022-05-09T13:48:56.465Z"
   },
   {
    "duration": 25,
    "start_time": "2022-05-09T13:48:56.477Z"
   },
   {
    "duration": 36,
    "start_time": "2022-05-09T13:48:56.504Z"
   },
   {
    "duration": 16,
    "start_time": "2022-05-09T13:48:56.542Z"
   },
   {
    "duration": 114,
    "start_time": "2022-05-09T13:48:56.561Z"
   },
   {
    "duration": 636,
    "start_time": "2022-05-09T13:49:43.325Z"
   },
   {
    "duration": 21,
    "start_time": "2022-05-09T13:49:43.964Z"
   },
   {
    "duration": 11,
    "start_time": "2022-05-09T13:49:43.987Z"
   },
   {
    "duration": 50,
    "start_time": "2022-05-09T13:49:44.001Z"
   },
   {
    "duration": 22,
    "start_time": "2022-05-09T13:49:44.053Z"
   },
   {
    "duration": 34,
    "start_time": "2022-05-09T13:49:44.077Z"
   },
   {
    "duration": 36,
    "start_time": "2022-05-09T13:49:44.114Z"
   },
   {
    "duration": 51,
    "start_time": "2022-05-09T13:49:44.153Z"
   },
   {
    "duration": 9,
    "start_time": "2022-05-09T13:49:44.207Z"
   },
   {
    "duration": 23,
    "start_time": "2022-05-09T13:49:44.219Z"
   },
   {
    "duration": 8,
    "start_time": "2022-05-09T13:49:44.245Z"
   },
   {
    "duration": 13,
    "start_time": "2022-05-09T13:49:44.255Z"
   },
   {
    "duration": 151,
    "start_time": "2022-05-09T13:49:44.270Z"
   },
   {
    "duration": 194,
    "start_time": "2022-05-09T13:50:34.472Z"
   },
   {
    "duration": 8,
    "start_time": "2022-05-09T13:50:38.753Z"
   },
   {
    "duration": 7,
    "start_time": "2022-05-09T13:51:16.143Z"
   },
   {
    "duration": 6,
    "start_time": "2022-05-09T13:52:15.883Z"
   },
   {
    "duration": 8,
    "start_time": "2022-05-09T13:52:16.508Z"
   },
   {
    "duration": 7,
    "start_time": "2022-05-09T13:52:19.878Z"
   },
   {
    "duration": 5,
    "start_time": "2022-05-09T13:52:20.412Z"
   },
   {
    "duration": 616,
    "start_time": "2022-05-09T13:54:00.071Z"
   },
   {
    "duration": 29,
    "start_time": "2022-05-09T13:54:00.690Z"
   },
   {
    "duration": 31,
    "start_time": "2022-05-09T13:54:00.722Z"
   },
   {
    "duration": 34,
    "start_time": "2022-05-09T13:54:00.756Z"
   },
   {
    "duration": 34,
    "start_time": "2022-05-09T13:54:00.793Z"
   },
   {
    "duration": 48,
    "start_time": "2022-05-09T13:54:00.830Z"
   },
   {
    "duration": 51,
    "start_time": "2022-05-09T13:54:00.881Z"
   },
   {
    "duration": 41,
    "start_time": "2022-05-09T13:54:00.936Z"
   },
   {
    "duration": 6,
    "start_time": "2022-05-09T13:54:00.980Z"
   },
   {
    "duration": 56,
    "start_time": "2022-05-09T13:54:00.989Z"
   },
   {
    "duration": 38,
    "start_time": "2022-05-09T13:54:01.047Z"
   },
   {
    "duration": 53,
    "start_time": "2022-05-09T13:54:01.087Z"
   },
   {
    "duration": 29,
    "start_time": "2022-05-09T13:54:01.142Z"
   },
   {
    "duration": 113,
    "start_time": "2022-05-09T13:54:01.173Z"
   },
   {
    "duration": 580,
    "start_time": "2022-05-09T13:58:14.127Z"
   },
   {
    "duration": 28,
    "start_time": "2022-05-09T13:58:14.710Z"
   },
   {
    "duration": 5,
    "start_time": "2022-05-09T13:58:14.740Z"
   },
   {
    "duration": 20,
    "start_time": "2022-05-09T13:58:14.748Z"
   },
   {
    "duration": 52,
    "start_time": "2022-05-09T13:58:14.770Z"
   },
   {
    "duration": 29,
    "start_time": "2022-05-09T13:58:14.830Z"
   },
   {
    "duration": 56,
    "start_time": "2022-05-09T13:58:14.862Z"
   },
   {
    "duration": 33,
    "start_time": "2022-05-09T13:58:14.921Z"
   },
   {
    "duration": 6,
    "start_time": "2022-05-09T13:58:14.957Z"
   },
   {
    "duration": 38,
    "start_time": "2022-05-09T13:58:14.967Z"
   },
   {
    "duration": 31,
    "start_time": "2022-05-09T13:58:15.010Z"
   },
   {
    "duration": 8,
    "start_time": "2022-05-09T13:58:15.043Z"
   },
   {
    "duration": 16,
    "start_time": "2022-05-09T13:58:15.053Z"
   },
   {
    "duration": 110,
    "start_time": "2022-05-09T13:58:15.071Z"
   },
   {
    "duration": 9,
    "start_time": "2022-05-09T13:59:22.236Z"
   },
   {
    "duration": 582,
    "start_time": "2022-05-09T13:59:33.856Z"
   },
   {
    "duration": 22,
    "start_time": "2022-05-09T13:59:34.440Z"
   },
   {
    "duration": 4,
    "start_time": "2022-05-09T13:59:34.464Z"
   },
   {
    "duration": 44,
    "start_time": "2022-05-09T13:59:34.470Z"
   },
   {
    "duration": 33,
    "start_time": "2022-05-09T13:59:34.520Z"
   },
   {
    "duration": 25,
    "start_time": "2022-05-09T13:59:34.555Z"
   },
   {
    "duration": 37,
    "start_time": "2022-05-09T13:59:34.603Z"
   },
   {
    "duration": 31,
    "start_time": "2022-05-09T13:59:34.643Z"
   },
   {
    "duration": 33,
    "start_time": "2022-05-09T13:59:34.676Z"
   },
   {
    "duration": 32,
    "start_time": "2022-05-09T13:59:34.713Z"
   },
   {
    "duration": 9,
    "start_time": "2022-05-09T13:59:34.747Z"
   },
   {
    "duration": 8,
    "start_time": "2022-05-09T13:59:34.758Z"
   },
   {
    "duration": 6,
    "start_time": "2022-05-09T13:59:34.768Z"
   },
   {
    "duration": 25,
    "start_time": "2022-05-09T13:59:34.777Z"
   },
   {
    "duration": 127,
    "start_time": "2022-05-09T13:59:34.806Z"
   },
   {
    "duration": 680,
    "start_time": "2022-05-09T14:01:30.108Z"
   },
   {
    "duration": 30,
    "start_time": "2022-05-09T14:01:30.790Z"
   },
   {
    "duration": 32,
    "start_time": "2022-05-09T14:01:30.823Z"
   },
   {
    "duration": 117,
    "start_time": "2022-05-09T14:01:30.858Z"
   },
   {
    "duration": 58,
    "start_time": "2022-05-09T14:01:30.978Z"
   },
   {
    "duration": 140,
    "start_time": "2022-05-09T14:01:31.039Z"
   },
   {
    "duration": 48,
    "start_time": "2022-05-09T14:01:31.182Z"
   },
   {
    "duration": 60,
    "start_time": "2022-05-09T14:01:31.233Z"
   },
   {
    "duration": 12,
    "start_time": "2022-05-09T14:01:31.296Z"
   },
   {
    "duration": 46,
    "start_time": "2022-05-09T14:01:31.311Z"
   },
   {
    "duration": 16,
    "start_time": "2022-05-09T14:01:31.359Z"
   },
   {
    "duration": 43,
    "start_time": "2022-05-09T14:01:31.377Z"
   },
   {
    "duration": 139,
    "start_time": "2022-05-09T14:01:31.422Z"
   },
   {
    "duration": 5,
    "start_time": "2022-05-09T14:09:43.970Z"
   },
   {
    "duration": 6,
    "start_time": "2022-05-09T14:10:49.345Z"
   },
   {
    "duration": 5,
    "start_time": "2022-05-09T14:10:50.377Z"
   },
   {
    "duration": 7,
    "start_time": "2022-05-09T14:16:31.670Z"
   },
   {
    "duration": 218,
    "start_time": "2022-05-09T14:17:18.123Z"
   },
   {
    "duration": 243,
    "start_time": "2022-05-09T14:17:55.487Z"
   },
   {
    "duration": 232,
    "start_time": "2022-05-09T14:18:02.735Z"
   },
   {
    "duration": 305,
    "start_time": "2022-05-09T14:18:17.833Z"
   },
   {
    "duration": 356,
    "start_time": "2022-05-09T14:18:50.432Z"
   },
   {
    "duration": 6,
    "start_time": "2022-05-09T14:19:38.282Z"
   },
   {
    "duration": 8,
    "start_time": "2022-05-09T14:19:44.530Z"
   },
   {
    "duration": 8,
    "start_time": "2022-05-09T14:20:00.935Z"
   },
   {
    "duration": 8,
    "start_time": "2022-05-09T14:21:29.549Z"
   },
   {
    "duration": 16,
    "start_time": "2022-05-09T14:21:35.024Z"
   },
   {
    "duration": 7,
    "start_time": "2022-05-09T14:23:45.946Z"
   },
   {
    "duration": 210,
    "start_time": "2022-05-09T14:25:29.074Z"
   },
   {
    "duration": 220,
    "start_time": "2022-05-09T14:26:41.280Z"
   },
   {
    "duration": 10,
    "start_time": "2022-05-09T14:26:46.127Z"
   },
   {
    "duration": 224,
    "start_time": "2022-05-09T14:26:57.647Z"
   },
   {
    "duration": 7,
    "start_time": "2022-05-09T14:27:04.898Z"
   },
   {
    "duration": 5,
    "start_time": "2022-05-09T14:27:16.362Z"
   },
   {
    "duration": 6,
    "start_time": "2022-05-09T14:34:09.175Z"
   },
   {
    "duration": 10,
    "start_time": "2022-05-09T14:34:20.037Z"
   },
   {
    "duration": 12,
    "start_time": "2022-05-09T14:37:53.741Z"
   },
   {
    "duration": 14,
    "start_time": "2022-05-09T14:38:02.862Z"
   },
   {
    "duration": 12,
    "start_time": "2022-05-09T14:38:12.490Z"
   },
   {
    "duration": 9,
    "start_time": "2022-05-09T14:38:30.458Z"
   },
   {
    "duration": 8,
    "start_time": "2022-05-09T14:43:07.328Z"
   },
   {
    "duration": 8,
    "start_time": "2022-05-09T14:43:16.116Z"
   },
   {
    "duration": 7,
    "start_time": "2022-05-09T14:43:31.589Z"
   },
   {
    "duration": 10,
    "start_time": "2022-05-09T14:44:33.285Z"
   },
   {
    "duration": 13,
    "start_time": "2022-05-09T14:52:15.728Z"
   },
   {
    "duration": 6,
    "start_time": "2022-05-09T14:52:16.883Z"
   },
   {
    "duration": 5,
    "start_time": "2022-05-09T14:52:17.526Z"
   },
   {
    "duration": 596,
    "start_time": "2022-05-09T14:52:23.240Z"
   },
   {
    "duration": 23,
    "start_time": "2022-05-09T14:52:23.839Z"
   },
   {
    "duration": 5,
    "start_time": "2022-05-09T14:52:23.864Z"
   },
   {
    "duration": 32,
    "start_time": "2022-05-09T14:52:23.899Z"
   },
   {
    "duration": 25,
    "start_time": "2022-05-09T14:52:23.934Z"
   },
   {
    "duration": 64,
    "start_time": "2022-05-09T14:52:23.962Z"
   },
   {
    "duration": 34,
    "start_time": "2022-05-09T14:52:24.027Z"
   },
   {
    "duration": 50,
    "start_time": "2022-05-09T14:52:24.064Z"
   },
   {
    "duration": 11,
    "start_time": "2022-05-09T14:52:24.120Z"
   },
   {
    "duration": 20,
    "start_time": "2022-05-09T14:52:24.133Z"
   },
   {
    "duration": 6,
    "start_time": "2022-05-09T14:52:24.156Z"
   },
   {
    "duration": 41,
    "start_time": "2022-05-09T14:52:24.165Z"
   },
   {
    "duration": 19,
    "start_time": "2022-05-09T14:52:24.211Z"
   },
   {
    "duration": 10,
    "start_time": "2022-05-09T14:52:24.233Z"
   },
   {
    "duration": 125,
    "start_time": "2022-05-09T14:52:24.245Z"
   },
   {
    "duration": 19,
    "start_time": "2022-05-09T14:53:02.275Z"
   },
   {
    "duration": 20,
    "start_time": "2022-05-09T14:53:46.260Z"
   },
   {
    "duration": 614,
    "start_time": "2022-05-09T14:53:59.057Z"
   },
   {
    "duration": 38,
    "start_time": "2022-05-09T14:53:59.674Z"
   },
   {
    "duration": 24,
    "start_time": "2022-05-09T14:53:59.714Z"
   },
   {
    "duration": 29,
    "start_time": "2022-05-09T14:53:59.740Z"
   },
   {
    "duration": 31,
    "start_time": "2022-05-09T14:53:59.773Z"
   },
   {
    "duration": 35,
    "start_time": "2022-05-09T14:53:59.807Z"
   },
   {
    "duration": 45,
    "start_time": "2022-05-09T14:53:59.845Z"
   },
   {
    "duration": 51,
    "start_time": "2022-05-09T14:53:59.908Z"
   },
   {
    "duration": 9,
    "start_time": "2022-05-09T14:53:59.962Z"
   },
   {
    "duration": 11,
    "start_time": "2022-05-09T14:53:59.973Z"
   },
   {
    "duration": 6,
    "start_time": "2022-05-09T14:53:59.986Z"
   },
   {
    "duration": 51,
    "start_time": "2022-05-09T14:54:00.003Z"
   },
   {
    "duration": 20,
    "start_time": "2022-05-09T14:54:00.056Z"
   },
   {
    "duration": 6,
    "start_time": "2022-05-09T14:54:00.080Z"
   },
   {
    "duration": 145,
    "start_time": "2022-05-09T14:54:00.088Z"
   },
   {
    "duration": 974,
    "start_time": "2022-05-09T14:57:10.181Z"
   },
   {
    "duration": 76,
    "start_time": "2022-05-09T14:57:11.161Z"
   },
   {
    "duration": 53,
    "start_time": "2022-05-09T14:57:11.240Z"
   },
   {
    "duration": 42,
    "start_time": "2022-05-09T14:57:11.297Z"
   },
   {
    "duration": 125,
    "start_time": "2022-05-09T14:57:11.341Z"
   },
   {
    "duration": 96,
    "start_time": "2022-05-09T14:57:11.468Z"
   },
   {
    "duration": 104,
    "start_time": "2022-05-09T14:57:11.597Z"
   },
   {
    "duration": 48,
    "start_time": "2022-05-09T14:57:11.703Z"
   },
   {
    "duration": 56,
    "start_time": "2022-05-09T14:57:11.754Z"
   },
   {
    "duration": 93,
    "start_time": "2022-05-09T14:57:11.813Z"
   },
   {
    "duration": 14,
    "start_time": "2022-05-09T14:57:11.909Z"
   },
   {
    "duration": 75,
    "start_time": "2022-05-09T14:57:11.925Z"
   },
   {
    "duration": 116,
    "start_time": "2022-05-09T14:57:12.006Z"
   },
   {
    "duration": 20,
    "start_time": "2022-05-09T14:57:12.125Z"
   },
   {
    "duration": 350,
    "start_time": "2022-05-09T14:57:12.149Z"
   },
   {
    "duration": 1444,
    "start_time": "2022-05-09T15:01:10.023Z"
   },
   {
    "duration": 72,
    "start_time": "2022-05-09T15:03:46.246Z"
   },
   {
    "duration": 154,
    "start_time": "2022-05-09T15:04:00.689Z"
   },
   {
    "duration": 394,
    "start_time": "2022-05-09T15:05:04.149Z"
   },
   {
    "duration": 0,
    "start_time": "2022-05-09T15:06:16.635Z"
   },
   {
    "duration": 3552,
    "start_time": "2022-05-09T15:06:19.233Z"
   },
   {
    "duration": 621,
    "start_time": "2022-05-09T15:07:15.817Z"
   },
   {
    "duration": 21,
    "start_time": "2022-05-09T15:07:16.441Z"
   },
   {
    "duration": 4,
    "start_time": "2022-05-09T15:07:16.465Z"
   },
   {
    "duration": 41,
    "start_time": "2022-05-09T15:07:16.472Z"
   },
   {
    "duration": 32,
    "start_time": "2022-05-09T15:07:16.519Z"
   },
   {
    "duration": 73,
    "start_time": "2022-05-09T15:07:16.554Z"
   },
   {
    "duration": 92,
    "start_time": "2022-05-09T15:07:16.636Z"
   },
   {
    "duration": 99,
    "start_time": "2022-05-09T15:07:16.731Z"
   },
   {
    "duration": 13,
    "start_time": "2022-05-09T15:07:16.833Z"
   },
   {
    "duration": 283,
    "start_time": "2022-05-09T15:07:16.848Z"
   },
   {
    "duration": 0,
    "start_time": "2022-05-09T15:07:17.134Z"
   },
   {
    "duration": 0,
    "start_time": "2022-05-09T15:07:17.137Z"
   },
   {
    "duration": 0,
    "start_time": "2022-05-09T15:07:17.139Z"
   },
   {
    "duration": 0,
    "start_time": "2022-05-09T15:07:17.143Z"
   },
   {
    "duration": 0,
    "start_time": "2022-05-09T15:07:17.145Z"
   },
   {
    "duration": 0,
    "start_time": "2022-05-09T15:07:17.194Z"
   },
   {
    "duration": 14,
    "start_time": "2022-05-09T15:08:43.512Z"
   },
   {
    "duration": 621,
    "start_time": "2022-05-09T15:08:50.214Z"
   },
   {
    "duration": 22,
    "start_time": "2022-05-09T15:08:50.838Z"
   },
   {
    "duration": 4,
    "start_time": "2022-05-09T15:08:50.862Z"
   },
   {
    "duration": 54,
    "start_time": "2022-05-09T15:08:50.869Z"
   },
   {
    "duration": 31,
    "start_time": "2022-05-09T15:08:50.926Z"
   },
   {
    "duration": 25,
    "start_time": "2022-05-09T15:08:50.960Z"
   },
   {
    "duration": 52,
    "start_time": "2022-05-09T15:08:50.997Z"
   },
   {
    "duration": 57,
    "start_time": "2022-05-09T15:08:51.052Z"
   },
   {
    "duration": 19,
    "start_time": "2022-05-09T15:08:51.112Z"
   },
   {
    "duration": 3003,
    "start_time": "2022-05-09T15:08:51.133Z"
   },
   {
    "duration": 15,
    "start_time": "2022-05-09T15:08:54.138Z"
   },
   {
    "duration": 27,
    "start_time": "2022-05-09T15:08:54.194Z"
   },
   {
    "duration": 31,
    "start_time": "2022-05-09T15:08:54.226Z"
   },
   {
    "duration": 5,
    "start_time": "2022-05-09T15:08:54.260Z"
   },
   {
    "duration": 62,
    "start_time": "2022-05-09T15:08:54.266Z"
   },
   {
    "duration": 570,
    "start_time": "2022-05-09T15:08:54.334Z"
   },
   {
    "duration": 31,
    "start_time": "2022-05-09T15:10:20.199Z"
   },
   {
    "duration": 9,
    "start_time": "2022-05-09T15:11:23.906Z"
   },
   {
    "duration": 591,
    "start_time": "2022-05-09T15:12:29.109Z"
   },
   {
    "duration": 27,
    "start_time": "2022-05-09T15:12:29.703Z"
   },
   {
    "duration": 4,
    "start_time": "2022-05-09T15:12:29.733Z"
   },
   {
    "duration": 25,
    "start_time": "2022-05-09T15:12:29.740Z"
   },
   {
    "duration": 59,
    "start_time": "2022-05-09T15:12:29.766Z"
   },
   {
    "duration": 27,
    "start_time": "2022-05-09T15:12:29.829Z"
   },
   {
    "duration": 53,
    "start_time": "2022-05-09T15:12:29.858Z"
   },
   {
    "duration": 39,
    "start_time": "2022-05-09T15:12:29.913Z"
   },
   {
    "duration": 11,
    "start_time": "2022-05-09T15:12:29.954Z"
   },
   {
    "duration": 42,
    "start_time": "2022-05-09T15:12:29.968Z"
   },
   {
    "duration": 27,
    "start_time": "2022-05-09T15:12:30.013Z"
   },
   {
    "duration": 1860,
    "start_time": "2022-05-09T15:12:30.042Z"
   },
   {
    "duration": 28,
    "start_time": "2022-05-09T15:12:31.905Z"
   },
   {
    "duration": 572,
    "start_time": "2022-05-09T15:12:31.936Z"
   },
   {
    "duration": 11,
    "start_time": "2022-05-09T15:13:35.955Z"
   },
   {
    "duration": 582,
    "start_time": "2022-05-09T15:13:44.784Z"
   },
   {
    "duration": 22,
    "start_time": "2022-05-09T15:13:45.368Z"
   },
   {
    "duration": 10,
    "start_time": "2022-05-09T15:13:45.392Z"
   },
   {
    "duration": 41,
    "start_time": "2022-05-09T15:13:45.408Z"
   },
   {
    "duration": 21,
    "start_time": "2022-05-09T15:13:45.451Z"
   },
   {
    "duration": 40,
    "start_time": "2022-05-09T15:13:45.474Z"
   },
   {
    "duration": 31,
    "start_time": "2022-05-09T15:13:45.517Z"
   },
   {
    "duration": 55,
    "start_time": "2022-05-09T15:13:45.551Z"
   },
   {
    "duration": 12,
    "start_time": "2022-05-09T15:13:45.610Z"
   },
   {
    "duration": 11,
    "start_time": "2022-05-09T15:13:45.624Z"
   },
   {
    "duration": 9,
    "start_time": "2022-05-09T15:13:45.637Z"
   },
   {
    "duration": 2566,
    "start_time": "2022-05-09T15:13:45.649Z"
   },
   {
    "duration": 0,
    "start_time": "2022-05-09T15:13:48.219Z"
   },
   {
    "duration": 0,
    "start_time": "2022-05-09T15:13:48.222Z"
   },
   {
    "duration": 0,
    "start_time": "2022-05-09T15:14:49.790Z"
   },
   {
    "duration": 584,
    "start_time": "2022-05-09T15:14:55.607Z"
   },
   {
    "duration": 32,
    "start_time": "2022-05-09T15:14:56.197Z"
   },
   {
    "duration": 4,
    "start_time": "2022-05-09T15:14:56.231Z"
   },
   {
    "duration": 23,
    "start_time": "2022-05-09T15:14:56.238Z"
   },
   {
    "duration": 49,
    "start_time": "2022-05-09T15:14:56.263Z"
   },
   {
    "duration": 25,
    "start_time": "2022-05-09T15:14:56.314Z"
   },
   {
    "duration": 57,
    "start_time": "2022-05-09T15:14:56.342Z"
   },
   {
    "duration": 95,
    "start_time": "2022-05-09T15:14:56.404Z"
   },
   {
    "duration": 12,
    "start_time": "2022-05-09T15:14:56.502Z"
   },
   {
    "duration": 24,
    "start_time": "2022-05-09T15:14:56.516Z"
   },
   {
    "duration": 63,
    "start_time": "2022-05-09T15:14:56.543Z"
   },
   {
    "duration": 5810,
    "start_time": "2022-05-09T15:14:56.611Z"
   },
   {
    "duration": 0,
    "start_time": "2022-05-09T15:15:02.423Z"
   },
   {
    "duration": 0,
    "start_time": "2022-05-09T15:15:02.426Z"
   },
   {
    "duration": 38,
    "start_time": "2022-05-09T15:17:18.100Z"
   },
   {
    "duration": 695,
    "start_time": "2022-05-09T15:17:23.638Z"
   },
   {
    "duration": 23,
    "start_time": "2022-05-09T15:17:24.335Z"
   },
   {
    "duration": 5,
    "start_time": "2022-05-09T15:17:24.360Z"
   },
   {
    "duration": 54,
    "start_time": "2022-05-09T15:17:24.370Z"
   },
   {
    "duration": 28,
    "start_time": "2022-05-09T15:17:24.426Z"
   },
   {
    "duration": 51,
    "start_time": "2022-05-09T15:17:24.456Z"
   },
   {
    "duration": 36,
    "start_time": "2022-05-09T15:17:24.510Z"
   },
   {
    "duration": 58,
    "start_time": "2022-05-09T15:17:24.548Z"
   },
   {
    "duration": 29,
    "start_time": "2022-05-09T15:17:24.611Z"
   },
   {
    "duration": 12,
    "start_time": "2022-05-09T15:17:24.643Z"
   },
   {
    "duration": 11,
    "start_time": "2022-05-09T15:17:24.658Z"
   },
   {
    "duration": 1292,
    "start_time": "2022-05-09T15:17:24.671Z"
   },
   {
    "duration": 0,
    "start_time": "2022-05-09T15:17:25.965Z"
   },
   {
    "duration": 0,
    "start_time": "2022-05-09T15:17:25.967Z"
   },
   {
    "duration": 30,
    "start_time": "2022-05-09T15:18:06.239Z"
   },
   {
    "duration": 394,
    "start_time": "2022-05-09T15:18:16.978Z"
   },
   {
    "duration": 21,
    "start_time": "2022-05-09T15:18:33.658Z"
   },
   {
    "duration": 38,
    "start_time": "2022-05-09T15:19:46.469Z"
   },
   {
    "duration": 23,
    "start_time": "2022-05-09T15:19:48.662Z"
   },
   {
    "duration": 23,
    "start_time": "2022-05-09T15:19:50.882Z"
   },
   {
    "duration": 12,
    "start_time": "2022-05-09T15:23:10.923Z"
   },
   {
    "duration": 10,
    "start_time": "2022-05-09T15:23:17.370Z"
   },
   {
    "duration": 4453,
    "start_time": "2022-05-09T15:24:19.866Z"
   },
   {
    "duration": 20,
    "start_time": "2022-05-09T15:24:43.741Z"
   },
   {
    "duration": 21,
    "start_time": "2022-05-09T15:24:45.760Z"
   },
   {
    "duration": 232,
    "start_time": "2022-05-09T15:24:59.673Z"
   },
   {
    "duration": 228,
    "start_time": "2022-05-09T15:25:10.247Z"
   },
   {
    "duration": 221,
    "start_time": "2022-05-09T15:26:14.177Z"
   },
   {
    "duration": 21,
    "start_time": "2022-05-09T15:32:20.681Z"
   },
   {
    "duration": 407,
    "start_time": "2022-05-09T15:32:44.650Z"
   },
   {
    "duration": 19,
    "start_time": "2022-05-09T15:32:59.647Z"
   },
   {
    "duration": 23,
    "start_time": "2022-05-09T15:34:00.361Z"
   },
   {
    "duration": 24,
    "start_time": "2022-05-09T15:34:06.316Z"
   },
   {
    "duration": 540,
    "start_time": "2022-05-09T15:34:11.048Z"
   },
   {
    "duration": 31,
    "start_time": "2022-05-09T15:34:11.590Z"
   },
   {
    "duration": 6,
    "start_time": "2022-05-09T15:34:11.624Z"
   },
   {
    "duration": 34,
    "start_time": "2022-05-09T15:34:11.635Z"
   },
   {
    "duration": 47,
    "start_time": "2022-05-09T15:34:11.672Z"
   },
   {
    "duration": 29,
    "start_time": "2022-05-09T15:34:11.723Z"
   },
   {
    "duration": 51,
    "start_time": "2022-05-09T15:34:11.755Z"
   },
   {
    "duration": 34,
    "start_time": "2022-05-09T15:34:11.812Z"
   },
   {
    "duration": 9,
    "start_time": "2022-05-09T15:34:11.848Z"
   },
   {
    "duration": 36,
    "start_time": "2022-05-09T15:34:11.860Z"
   },
   {
    "duration": 18,
    "start_time": "2022-05-09T15:34:11.899Z"
   },
   {
    "duration": 1795,
    "start_time": "2022-05-09T15:34:11.919Z"
   },
   {
    "duration": 0,
    "start_time": "2022-05-09T15:34:13.717Z"
   },
   {
    "duration": 0,
    "start_time": "2022-05-09T15:34:13.719Z"
   },
   {
    "duration": 225,
    "start_time": "2022-05-09T15:34:25.339Z"
   },
   {
    "duration": 635,
    "start_time": "2022-05-09T15:34:41.825Z"
   },
   {
    "duration": 26,
    "start_time": "2022-05-09T15:35:14.086Z"
   },
   {
    "duration": 21,
    "start_time": "2022-05-09T15:35:14.263Z"
   },
   {
    "duration": 11,
    "start_time": "2022-05-09T15:35:45.659Z"
   },
   {
    "duration": 19,
    "start_time": "2022-05-09T15:35:52.830Z"
   },
   {
    "duration": 21,
    "start_time": "2022-05-09T15:35:56.779Z"
   },
   {
    "duration": 20,
    "start_time": "2022-05-09T15:37:21.865Z"
   },
   {
    "duration": 5,
    "start_time": "2022-05-09T15:37:45.059Z"
   },
   {
    "duration": 5,
    "start_time": "2022-05-09T15:38:10.836Z"
   },
   {
    "duration": 534,
    "start_time": "2022-05-09T15:44:36.549Z"
   },
   {
    "duration": 681,
    "start_time": "2022-05-09T15:44:42.734Z"
   },
   {
    "duration": 36,
    "start_time": "2022-05-09T15:44:43.419Z"
   },
   {
    "duration": 5,
    "start_time": "2022-05-09T15:44:43.458Z"
   },
   {
    "duration": 54,
    "start_time": "2022-05-09T15:44:43.467Z"
   },
   {
    "duration": 24,
    "start_time": "2022-05-09T15:44:43.523Z"
   },
   {
    "duration": 62,
    "start_time": "2022-05-09T15:44:43.549Z"
   },
   {
    "duration": 35,
    "start_time": "2022-05-09T15:44:43.614Z"
   },
   {
    "duration": 62,
    "start_time": "2022-05-09T15:44:43.652Z"
   },
   {
    "duration": 11,
    "start_time": "2022-05-09T15:44:43.716Z"
   },
   {
    "duration": 17,
    "start_time": "2022-05-09T15:44:43.730Z"
   },
   {
    "duration": 52,
    "start_time": "2022-05-09T15:44:43.750Z"
   },
   {
    "duration": 3420,
    "start_time": "2022-05-09T15:44:43.805Z"
   },
   {
    "duration": 71,
    "start_time": "2022-05-09T15:44:47.229Z"
   },
   {
    "duration": 299,
    "start_time": "2022-05-09T15:44:47.310Z"
   },
   {
    "duration": 615,
    "start_time": "2022-05-09T15:44:58.015Z"
   },
   {
    "duration": 547,
    "start_time": "2022-05-09T15:47:54.341Z"
   },
   {
    "duration": 28,
    "start_time": "2022-05-09T15:47:54.891Z"
   },
   {
    "duration": 6,
    "start_time": "2022-05-09T15:47:54.922Z"
   },
   {
    "duration": 27,
    "start_time": "2022-05-09T15:47:54.933Z"
   },
   {
    "duration": 62,
    "start_time": "2022-05-09T15:47:54.962Z"
   },
   {
    "duration": 30,
    "start_time": "2022-05-09T15:47:55.027Z"
   },
   {
    "duration": 63,
    "start_time": "2022-05-09T15:47:55.059Z"
   },
   {
    "duration": 47,
    "start_time": "2022-05-09T15:47:55.125Z"
   },
   {
    "duration": 41,
    "start_time": "2022-05-09T15:47:55.175Z"
   },
   {
    "duration": 15,
    "start_time": "2022-05-09T15:47:55.219Z"
   },
   {
    "duration": 11,
    "start_time": "2022-05-09T15:47:55.237Z"
   },
   {
    "duration": 23212,
    "start_time": "2022-05-09T15:47:55.250Z"
   },
   {
    "duration": 16,
    "start_time": "2022-05-09T15:48:18.467Z"
   },
   {
    "duration": 171,
    "start_time": "2022-05-09T15:48:18.493Z"
   },
   {
    "duration": 2989,
    "start_time": "2022-05-09T15:49:13.922Z"
   },
   {
    "duration": 238,
    "start_time": "2022-05-09T15:49:33.827Z"
   },
   {
    "duration": 266,
    "start_time": "2022-05-09T15:50:14.039Z"
   },
   {
    "duration": 1206,
    "start_time": "2022-05-09T15:50:39.581Z"
   },
   {
    "duration": 920,
    "start_time": "2022-05-09T15:51:33.820Z"
   },
   {
    "duration": 647,
    "start_time": "2022-05-09T16:01:52.593Z"
   },
   {
    "duration": 894,
    "start_time": "2022-05-09T16:02:02.912Z"
   },
   {
    "duration": 32,
    "start_time": "2022-05-09T16:38:05.693Z"
   },
   {
    "duration": 6,
    "start_time": "2022-05-09T16:39:01.986Z"
   },
   {
    "duration": 569,
    "start_time": "2022-05-09T16:39:26.643Z"
   },
   {
    "duration": 25,
    "start_time": "2022-05-09T16:39:27.215Z"
   },
   {
    "duration": 5,
    "start_time": "2022-05-09T16:39:27.242Z"
   },
   {
    "duration": 51,
    "start_time": "2022-05-09T16:39:27.250Z"
   },
   {
    "duration": 23,
    "start_time": "2022-05-09T16:39:27.306Z"
   },
   {
    "duration": 27,
    "start_time": "2022-05-09T16:39:27.332Z"
   },
   {
    "duration": 61,
    "start_time": "2022-05-09T16:39:27.362Z"
   },
   {
    "duration": 34,
    "start_time": "2022-05-09T16:39:27.426Z"
   },
   {
    "duration": 11,
    "start_time": "2022-05-09T16:39:27.493Z"
   },
   {
    "duration": 7,
    "start_time": "2022-05-09T16:39:27.506Z"
   },
   {
    "duration": 13,
    "start_time": "2022-05-09T16:39:27.516Z"
   },
   {
    "duration": 10,
    "start_time": "2022-05-09T16:39:27.531Z"
   },
   {
    "duration": 17,
    "start_time": "2022-05-09T16:39:27.593Z"
   },
   {
    "duration": 3005,
    "start_time": "2022-05-09T16:39:27.615Z"
   },
   {
    "duration": 84,
    "start_time": "2022-05-09T16:39:30.622Z"
   },
   {
    "duration": 298,
    "start_time": "2022-05-09T16:39:30.709Z"
   },
   {
    "duration": 16,
    "start_time": "2022-05-09T16:49:22.352Z"
   },
   {
    "duration": 20,
    "start_time": "2022-05-09T16:49:41.241Z"
   },
   {
    "duration": 21,
    "start_time": "2022-05-09T16:50:25.139Z"
   },
   {
    "duration": 6,
    "start_time": "2022-05-09T16:53:23.258Z"
   },
   {
    "duration": 13,
    "start_time": "2022-05-09T17:12:23.283Z"
   },
   {
    "duration": 7,
    "start_time": "2022-05-09T17:12:44.208Z"
   },
   {
    "duration": 13,
    "start_time": "2022-05-09T17:12:51.023Z"
   },
   {
    "duration": 12,
    "start_time": "2022-05-09T17:16:44.577Z"
   },
   {
    "duration": 19,
    "start_time": "2022-05-09T17:17:18.158Z"
   },
   {
    "duration": 157,
    "start_time": "2022-05-09T17:17:27.297Z"
   },
   {
    "duration": 14,
    "start_time": "2022-05-09T17:17:52.286Z"
   },
   {
    "duration": 14,
    "start_time": "2022-05-09T17:18:08.236Z"
   },
   {
    "duration": 8,
    "start_time": "2022-05-09T17:18:11.217Z"
   },
   {
    "duration": 23,
    "start_time": "2022-05-09T17:18:31.408Z"
   },
   {
    "duration": 13,
    "start_time": "2022-05-09T17:18:47.309Z"
   },
   {
    "duration": 13,
    "start_time": "2022-05-09T17:19:00.334Z"
   },
   {
    "duration": 13,
    "start_time": "2022-05-09T17:20:19.189Z"
   },
   {
    "duration": 13,
    "start_time": "2022-05-09T17:21:47.578Z"
   },
   {
    "duration": 12,
    "start_time": "2022-05-09T17:21:56.858Z"
   },
   {
    "duration": 12,
    "start_time": "2022-05-09T17:22:02.279Z"
   },
   {
    "duration": 21,
    "start_time": "2022-05-09T17:22:38.497Z"
   },
   {
    "duration": 20,
    "start_time": "2022-05-09T17:22:49.422Z"
   },
   {
    "duration": 20,
    "start_time": "2022-05-09T17:23:14.408Z"
   },
   {
    "duration": 13,
    "start_time": "2022-05-09T17:23:23.167Z"
   },
   {
    "duration": 13,
    "start_time": "2022-05-09T17:23:30.251Z"
   },
   {
    "duration": 1206,
    "start_time": "2022-05-09T17:34:18.794Z"
   },
   {
    "duration": 171,
    "start_time": "2022-05-09T17:34:21.871Z"
   },
   {
    "duration": 5,
    "start_time": "2022-05-09T17:56:45.414Z"
   },
   {
    "duration": 549,
    "start_time": "2022-05-09T17:56:56.706Z"
   },
   {
    "duration": 22,
    "start_time": "2022-05-09T17:56:57.257Z"
   },
   {
    "duration": 13,
    "start_time": "2022-05-09T17:56:57.281Z"
   },
   {
    "duration": 23,
    "start_time": "2022-05-09T17:56:57.297Z"
   },
   {
    "duration": 22,
    "start_time": "2022-05-09T17:56:57.322Z"
   },
   {
    "duration": 52,
    "start_time": "2022-05-09T17:56:57.346Z"
   },
   {
    "duration": 33,
    "start_time": "2022-05-09T17:56:57.401Z"
   },
   {
    "duration": 35,
    "start_time": "2022-05-09T17:56:57.436Z"
   },
   {
    "duration": 10,
    "start_time": "2022-05-09T17:56:57.493Z"
   },
   {
    "duration": 12,
    "start_time": "2022-05-09T17:56:57.506Z"
   },
   {
    "duration": 9,
    "start_time": "2022-05-09T17:56:57.520Z"
   },
   {
    "duration": 15,
    "start_time": "2022-05-09T17:56:57.530Z"
   },
   {
    "duration": 1948,
    "start_time": "2022-05-09T17:56:57.547Z"
   },
   {
    "duration": 14,
    "start_time": "2022-05-09T17:56:59.497Z"
   },
   {
    "duration": 11,
    "start_time": "2022-05-09T17:56:59.513Z"
   },
   {
    "duration": 4,
    "start_time": "2022-05-09T17:56:59.526Z"
   },
   {
    "duration": 162,
    "start_time": "2022-05-09T17:56:59.532Z"
   },
   {
    "duration": 20,
    "start_time": "2022-05-09T17:57:38.579Z"
   },
   {
    "duration": 21,
    "start_time": "2022-05-09T17:58:04.119Z"
   },
   {
    "duration": 597,
    "start_time": "2022-05-09T17:58:11.259Z"
   },
   {
    "duration": 22,
    "start_time": "2022-05-09T17:58:11.859Z"
   },
   {
    "duration": 10,
    "start_time": "2022-05-09T17:58:11.883Z"
   },
   {
    "duration": 25,
    "start_time": "2022-05-09T17:58:11.896Z"
   },
   {
    "duration": 24,
    "start_time": "2022-05-09T17:58:11.925Z"
   },
   {
    "duration": 60,
    "start_time": "2022-05-09T17:58:11.952Z"
   },
   {
    "duration": 34,
    "start_time": "2022-05-09T17:58:12.015Z"
   },
   {
    "duration": 62,
    "start_time": "2022-05-09T17:58:12.051Z"
   },
   {
    "duration": 11,
    "start_time": "2022-05-09T17:58:12.116Z"
   },
   {
    "duration": 14,
    "start_time": "2022-05-09T17:58:12.129Z"
   },
   {
    "duration": 48,
    "start_time": "2022-05-09T17:58:12.145Z"
   },
   {
    "duration": 16,
    "start_time": "2022-05-09T17:58:12.196Z"
   },
   {
    "duration": 1878,
    "start_time": "2022-05-09T17:58:12.215Z"
   },
   {
    "duration": 14,
    "start_time": "2022-05-09T17:58:14.096Z"
   },
   {
    "duration": 12,
    "start_time": "2022-05-09T17:58:14.112Z"
   },
   {
    "duration": 21,
    "start_time": "2022-05-09T17:58:14.126Z"
   },
   {
    "duration": 7,
    "start_time": "2022-05-09T17:58:14.149Z"
   },
   {
    "duration": 52,
    "start_time": "2022-05-09T17:58:14.157Z"
   },
   {
    "duration": 141,
    "start_time": "2022-05-09T17:58:14.211Z"
   },
   {
    "duration": 18,
    "start_time": "2022-05-09T17:59:23.475Z"
   },
   {
    "duration": 541,
    "start_time": "2022-05-09T18:00:01.034Z"
   },
   {
    "duration": 22,
    "start_time": "2022-05-09T18:00:01.578Z"
   },
   {
    "duration": 19,
    "start_time": "2022-05-09T18:00:01.603Z"
   },
   {
    "duration": 29,
    "start_time": "2022-05-09T18:00:01.624Z"
   },
   {
    "duration": 22,
    "start_time": "2022-05-09T18:00:01.656Z"
   },
   {
    "duration": 28,
    "start_time": "2022-05-09T18:00:01.694Z"
   },
   {
    "duration": 33,
    "start_time": "2022-05-09T18:00:01.724Z"
   },
   {
    "duration": 66,
    "start_time": "2022-05-09T18:00:01.760Z"
   },
   {
    "duration": 35,
    "start_time": "2022-05-09T18:00:01.828Z"
   },
   {
    "duration": 28,
    "start_time": "2022-05-09T18:00:01.865Z"
   },
   {
    "duration": 16,
    "start_time": "2022-05-09T18:00:01.895Z"
   },
   {
    "duration": 23,
    "start_time": "2022-05-09T18:00:01.914Z"
   },
   {
    "duration": 1927,
    "start_time": "2022-05-09T18:00:01.939Z"
   },
   {
    "duration": 25,
    "start_time": "2022-05-09T18:00:03.870Z"
   },
   {
    "duration": 16,
    "start_time": "2022-05-09T18:00:03.898Z"
   },
   {
    "duration": 21,
    "start_time": "2022-05-09T18:00:03.916Z"
   },
   {
    "duration": 12,
    "start_time": "2022-05-09T18:00:03.940Z"
   },
   {
    "duration": 41,
    "start_time": "2022-05-09T18:00:03.954Z"
   },
   {
    "duration": 14,
    "start_time": "2022-05-09T18:00:03.997Z"
   },
   {
    "duration": 169,
    "start_time": "2022-05-09T18:00:04.013Z"
   },
   {
    "duration": 8,
    "start_time": "2022-05-09T18:01:05.738Z"
   },
   {
    "duration": 7,
    "start_time": "2022-05-09T18:07:41.412Z"
   },
   {
    "duration": 575,
    "start_time": "2022-05-09T18:08:59.922Z"
   },
   {
    "duration": 21,
    "start_time": "2022-05-09T18:09:00.500Z"
   },
   {
    "duration": 53,
    "start_time": "2022-05-09T18:09:00.523Z"
   },
   {
    "duration": 64,
    "start_time": "2022-05-09T18:09:00.579Z"
   },
   {
    "duration": 37,
    "start_time": "2022-05-09T18:09:00.645Z"
   },
   {
    "duration": 37,
    "start_time": "2022-05-09T18:09:00.684Z"
   },
   {
    "duration": 35,
    "start_time": "2022-05-09T18:09:00.723Z"
   },
   {
    "duration": 42,
    "start_time": "2022-05-09T18:09:00.760Z"
   },
   {
    "duration": 9,
    "start_time": "2022-05-09T18:09:00.804Z"
   },
   {
    "duration": 32,
    "start_time": "2022-05-09T18:09:00.817Z"
   },
   {
    "duration": 14,
    "start_time": "2022-05-09T18:09:00.852Z"
   },
   {
    "duration": 27,
    "start_time": "2022-05-09T18:09:00.868Z"
   },
   {
    "duration": 2795,
    "start_time": "2022-05-09T18:09:00.898Z"
   },
   {
    "duration": 21,
    "start_time": "2022-05-09T18:09:03.695Z"
   },
   {
    "duration": 78,
    "start_time": "2022-05-09T18:09:03.719Z"
   },
   {
    "duration": 15,
    "start_time": "2022-05-09T18:09:03.799Z"
   },
   {
    "duration": 8,
    "start_time": "2022-05-09T18:09:03.817Z"
   },
   {
    "duration": 79,
    "start_time": "2022-05-09T18:09:03.827Z"
   },
   {
    "duration": 85,
    "start_time": "2022-05-09T18:09:03.909Z"
   },
   {
    "duration": 184,
    "start_time": "2022-05-09T18:09:03.997Z"
   },
   {
    "duration": 0,
    "start_time": "2022-05-09T18:09:04.184Z"
   },
   {
    "duration": 0,
    "start_time": "2022-05-09T18:09:04.193Z"
   },
   {
    "duration": 0,
    "start_time": "2022-05-09T18:09:04.195Z"
   },
   {
    "duration": 0,
    "start_time": "2022-05-09T18:09:04.197Z"
   },
   {
    "duration": 0,
    "start_time": "2022-05-09T18:09:04.199Z"
   },
   {
    "duration": 13,
    "start_time": "2022-05-09T18:09:48.285Z"
   },
   {
    "duration": 12,
    "start_time": "2022-05-09T18:09:50.080Z"
   },
   {
    "duration": 149,
    "start_time": "2022-05-09T18:09:51.067Z"
   },
   {
    "duration": 11,
    "start_time": "2022-05-09T18:09:53.531Z"
   },
   {
    "duration": 6,
    "start_time": "2022-05-09T18:10:44.069Z"
   },
   {
    "duration": 11,
    "start_time": "2022-05-09T18:10:48.247Z"
   },
   {
    "duration": 15,
    "start_time": "2022-05-09T18:11:20.667Z"
   },
   {
    "duration": 580,
    "start_time": "2022-05-09T18:11:30.973Z"
   },
   {
    "duration": 20,
    "start_time": "2022-05-09T18:11:31.556Z"
   },
   {
    "duration": 14,
    "start_time": "2022-05-09T18:11:31.578Z"
   },
   {
    "duration": 23,
    "start_time": "2022-05-09T18:11:31.595Z"
   },
   {
    "duration": 22,
    "start_time": "2022-05-09T18:11:31.622Z"
   },
   {
    "duration": 62,
    "start_time": "2022-05-09T18:11:31.647Z"
   },
   {
    "duration": 31,
    "start_time": "2022-05-09T18:11:31.711Z"
   },
   {
    "duration": 60,
    "start_time": "2022-05-09T18:11:31.744Z"
   },
   {
    "duration": 11,
    "start_time": "2022-05-09T18:11:31.806Z"
   },
   {
    "duration": 22,
    "start_time": "2022-05-09T18:11:31.820Z"
   },
   {
    "duration": 10,
    "start_time": "2022-05-09T18:11:31.844Z"
   },
   {
    "duration": 47,
    "start_time": "2022-05-09T18:11:31.856Z"
   },
   {
    "duration": 2015,
    "start_time": "2022-05-09T18:11:31.905Z"
   },
   {
    "duration": 71,
    "start_time": "2022-05-09T18:11:33.924Z"
   },
   {
    "duration": 14,
    "start_time": "2022-05-09T18:11:33.998Z"
   },
   {
    "duration": 7,
    "start_time": "2022-05-09T18:11:34.014Z"
   },
   {
    "duration": 6,
    "start_time": "2022-05-09T18:11:34.023Z"
   },
   {
    "duration": 72,
    "start_time": "2022-05-09T18:11:34.032Z"
   },
   {
    "duration": 14,
    "start_time": "2022-05-09T18:11:34.106Z"
   },
   {
    "duration": 14,
    "start_time": "2022-05-09T18:11:34.122Z"
   },
   {
    "duration": 6,
    "start_time": "2022-05-09T18:11:34.194Z"
   },
   {
    "duration": 17,
    "start_time": "2022-05-09T18:11:34.202Z"
   },
   {
    "duration": 292,
    "start_time": "2022-05-09T18:11:34.221Z"
   },
   {
    "duration": 593,
    "start_time": "2022-05-09T18:13:20.452Z"
   },
   {
    "duration": 21,
    "start_time": "2022-05-09T18:13:21.047Z"
   },
   {
    "duration": 4,
    "start_time": "2022-05-09T18:13:21.070Z"
   },
   {
    "duration": 34,
    "start_time": "2022-05-09T18:13:21.077Z"
   },
   {
    "duration": 21,
    "start_time": "2022-05-09T18:13:21.113Z"
   },
   {
    "duration": 58,
    "start_time": "2022-05-09T18:13:21.136Z"
   },
   {
    "duration": 31,
    "start_time": "2022-05-09T18:13:21.196Z"
   },
   {
    "duration": 32,
    "start_time": "2022-05-09T18:13:21.229Z"
   },
   {
    "duration": 36,
    "start_time": "2022-05-09T18:13:21.263Z"
   },
   {
    "duration": 12,
    "start_time": "2022-05-09T18:13:21.302Z"
   },
   {
    "duration": 11,
    "start_time": "2022-05-09T18:13:21.316Z"
   },
   {
    "duration": 16,
    "start_time": "2022-05-09T18:13:21.329Z"
   },
   {
    "duration": 3834,
    "start_time": "2022-05-09T18:13:21.394Z"
   },
   {
    "duration": 69,
    "start_time": "2022-05-09T18:13:25.230Z"
   },
   {
    "duration": 14,
    "start_time": "2022-05-09T18:13:25.301Z"
   },
   {
    "duration": 8,
    "start_time": "2022-05-09T18:13:25.317Z"
   },
   {
    "duration": 6,
    "start_time": "2022-05-09T18:13:25.327Z"
   },
   {
    "duration": 74,
    "start_time": "2022-05-09T18:13:25.336Z"
   },
   {
    "duration": 13,
    "start_time": "2022-05-09T18:13:25.412Z"
   },
   {
    "duration": 7,
    "start_time": "2022-05-09T18:13:25.427Z"
   },
   {
    "duration": 66,
    "start_time": "2022-05-09T18:13:25.436Z"
   },
   {
    "duration": 6,
    "start_time": "2022-05-09T18:13:25.505Z"
   },
   {
    "duration": 20,
    "start_time": "2022-05-09T18:13:25.513Z"
   },
   {
    "duration": 210,
    "start_time": "2022-05-09T18:13:25.535Z"
   },
   {
    "duration": 560,
    "start_time": "2022-05-09T18:15:19.624Z"
   },
   {
    "duration": 22,
    "start_time": "2022-05-09T18:15:20.187Z"
   },
   {
    "duration": 6,
    "start_time": "2022-05-09T18:15:20.211Z"
   },
   {
    "duration": 26,
    "start_time": "2022-05-09T18:15:20.219Z"
   },
   {
    "duration": 52,
    "start_time": "2022-05-09T18:15:20.248Z"
   },
   {
    "duration": 28,
    "start_time": "2022-05-09T18:15:20.303Z"
   },
   {
    "duration": 61,
    "start_time": "2022-05-09T18:15:20.334Z"
   },
   {
    "duration": 35,
    "start_time": "2022-05-09T18:15:20.398Z"
   },
   {
    "duration": 11,
    "start_time": "2022-05-09T18:15:20.435Z"
   },
   {
    "duration": 54,
    "start_time": "2022-05-09T18:15:20.448Z"
   },
   {
    "duration": 10,
    "start_time": "2022-05-09T18:15:20.505Z"
   },
   {
    "duration": 23,
    "start_time": "2022-05-09T18:15:20.518Z"
   },
   {
    "duration": 2106,
    "start_time": "2022-05-09T18:15:20.544Z"
   },
   {
    "duration": 19,
    "start_time": "2022-05-09T18:15:22.654Z"
   },
   {
    "duration": 19,
    "start_time": "2022-05-09T18:15:22.674Z"
   },
   {
    "duration": 6,
    "start_time": "2022-05-09T18:15:22.695Z"
   },
   {
    "duration": 5,
    "start_time": "2022-05-09T18:15:22.704Z"
   },
   {
    "duration": 28,
    "start_time": "2022-05-09T18:15:22.712Z"
   },
   {
    "duration": 16,
    "start_time": "2022-05-09T18:15:22.743Z"
   },
   {
    "duration": 12,
    "start_time": "2022-05-09T18:15:22.761Z"
   },
   {
    "duration": 19,
    "start_time": "2022-05-09T18:15:22.775Z"
   },
   {
    "duration": 15,
    "start_time": "2022-05-09T18:15:22.796Z"
   },
   {
    "duration": 206,
    "start_time": "2022-05-09T18:15:22.813Z"
   },
   {
    "duration": 6,
    "start_time": "2022-05-09T18:32:36.459Z"
   },
   {
    "duration": 11,
    "start_time": "2022-05-09T18:33:30.289Z"
   },
   {
    "duration": 25,
    "start_time": "2022-05-09T18:33:34.914Z"
   },
   {
    "duration": 625,
    "start_time": "2022-05-09T18:34:07.872Z"
   },
   {
    "duration": 23,
    "start_time": "2022-05-09T18:34:08.500Z"
   },
   {
    "duration": 5,
    "start_time": "2022-05-09T18:34:08.526Z"
   },
   {
    "duration": 25,
    "start_time": "2022-05-09T18:34:08.534Z"
   },
   {
    "duration": 47,
    "start_time": "2022-05-09T18:34:08.562Z"
   },
   {
    "duration": 27,
    "start_time": "2022-05-09T18:34:08.611Z"
   },
   {
    "duration": 66,
    "start_time": "2022-05-09T18:34:08.640Z"
   },
   {
    "duration": 35,
    "start_time": "2022-05-09T18:34:08.709Z"
   },
   {
    "duration": 10,
    "start_time": "2022-05-09T18:34:08.747Z"
   },
   {
    "duration": 13,
    "start_time": "2022-05-09T18:34:08.794Z"
   },
   {
    "duration": 11,
    "start_time": "2022-05-09T18:34:08.810Z"
   },
   {
    "duration": 14,
    "start_time": "2022-05-09T18:34:08.824Z"
   },
   {
    "duration": 2281,
    "start_time": "2022-05-09T18:34:08.840Z"
   },
   {
    "duration": 71,
    "start_time": "2022-05-09T18:34:11.125Z"
   },
   {
    "duration": 23,
    "start_time": "2022-05-09T18:34:11.198Z"
   },
   {
    "duration": 10,
    "start_time": "2022-05-09T18:34:11.223Z"
   },
   {
    "duration": 7,
    "start_time": "2022-05-09T18:34:11.235Z"
   },
   {
    "duration": 64,
    "start_time": "2022-05-09T18:34:11.244Z"
   },
   {
    "duration": 15,
    "start_time": "2022-05-09T18:34:11.310Z"
   },
   {
    "duration": 14,
    "start_time": "2022-05-09T18:34:11.327Z"
   },
   {
    "duration": 7,
    "start_time": "2022-05-09T18:34:11.394Z"
   },
   {
    "duration": 14,
    "start_time": "2022-05-09T18:34:11.404Z"
   },
   {
    "duration": 5,
    "start_time": "2022-05-09T18:34:11.421Z"
   },
   {
    "duration": 87,
    "start_time": "2022-05-09T18:34:11.428Z"
   },
   {
    "duration": 296,
    "start_time": "2022-05-09T18:34:11.518Z"
   },
   {
    "duration": 36,
    "start_time": "2022-05-09T18:35:16.089Z"
   },
   {
    "duration": 31,
    "start_time": "2022-05-09T18:41:44.667Z"
   },
   {
    "duration": 596,
    "start_time": "2022-05-09T18:42:19.163Z"
   },
   {
    "duration": 21,
    "start_time": "2022-05-09T18:42:19.762Z"
   },
   {
    "duration": 5,
    "start_time": "2022-05-09T18:42:19.793Z"
   },
   {
    "duration": 28,
    "start_time": "2022-05-09T18:42:19.801Z"
   },
   {
    "duration": 34,
    "start_time": "2022-05-09T18:42:19.831Z"
   },
   {
    "duration": 36,
    "start_time": "2022-05-09T18:42:19.892Z"
   },
   {
    "duration": 70,
    "start_time": "2022-05-09T18:42:19.931Z"
   },
   {
    "duration": 51,
    "start_time": "2022-05-09T18:42:20.003Z"
   },
   {
    "duration": 11,
    "start_time": "2022-05-09T18:42:20.057Z"
   },
   {
    "duration": 13,
    "start_time": "2022-05-09T18:42:20.095Z"
   },
   {
    "duration": 10,
    "start_time": "2022-05-09T18:42:20.110Z"
   },
   {
    "duration": 15,
    "start_time": "2022-05-09T18:42:20.122Z"
   },
   {
    "duration": 2854,
    "start_time": "2022-05-09T18:42:20.139Z"
   },
   {
    "duration": 18,
    "start_time": "2022-05-09T18:42:22.996Z"
   },
   {
    "duration": 17,
    "start_time": "2022-05-09T18:42:23.016Z"
   },
   {
    "duration": 59,
    "start_time": "2022-05-09T18:42:23.035Z"
   },
   {
    "duration": 4,
    "start_time": "2022-05-09T18:42:23.097Z"
   },
   {
    "duration": 23,
    "start_time": "2022-05-09T18:42:23.103Z"
   },
   {
    "duration": 67,
    "start_time": "2022-05-09T18:42:23.128Z"
   },
   {
    "duration": 16,
    "start_time": "2022-05-09T18:42:23.198Z"
   },
   {
    "duration": 7,
    "start_time": "2022-05-09T18:42:23.216Z"
   },
   {
    "duration": 15,
    "start_time": "2022-05-09T18:42:23.225Z"
   },
   {
    "duration": 5,
    "start_time": "2022-05-09T18:42:23.294Z"
   },
   {
    "duration": 27,
    "start_time": "2022-05-09T18:42:23.301Z"
   },
   {
    "duration": 75,
    "start_time": "2022-05-09T18:42:23.330Z"
   },
   {
    "duration": 34,
    "start_time": "2022-05-09T18:42:23.407Z"
   },
   {
    "duration": 27,
    "start_time": "2022-05-09T18:42:23.494Z"
   },
   {
    "duration": 3041,
    "start_time": "2022-05-09T18:42:23.525Z"
   },
   {
    "duration": 21,
    "start_time": "2022-05-09T18:42:48.633Z"
   },
   {
    "duration": 2945,
    "start_time": "2022-05-09T18:44:34.544Z"
   },
   {
    "duration": 8,
    "start_time": "2022-05-09T18:45:49.103Z"
   },
   {
    "duration": 10,
    "start_time": "2022-05-09T18:45:51.308Z"
   },
   {
    "duration": 19,
    "start_time": "2022-05-09T19:06:41.990Z"
   },
   {
    "duration": 38,
    "start_time": "2022-05-09T19:07:14.297Z"
   },
   {
    "duration": 5,
    "start_time": "2022-05-09T19:08:37.980Z"
   },
   {
    "duration": 7,
    "start_time": "2022-05-09T19:08:47.715Z"
   },
   {
    "duration": 16,
    "start_time": "2022-05-09T19:19:03.517Z"
   },
   {
    "duration": 11,
    "start_time": "2022-05-09T19:19:16.817Z"
   },
   {
    "duration": 24,
    "start_time": "2022-05-09T19:19:24.967Z"
   },
   {
    "duration": 23,
    "start_time": "2022-05-09T19:31:59.448Z"
   },
   {
    "duration": 40,
    "start_time": "2022-05-09T19:32:01.586Z"
   },
   {
    "duration": 10,
    "start_time": "2022-05-09T19:32:17.736Z"
   },
   {
    "duration": 47,
    "start_time": "2022-05-09T19:36:59.473Z"
   },
   {
    "duration": 6,
    "start_time": "2022-05-09T19:46:58.186Z"
   },
   {
    "duration": 12,
    "start_time": "2022-05-09T19:47:10.044Z"
   },
   {
    "duration": 13,
    "start_time": "2022-05-09T19:47:34.439Z"
   },
   {
    "duration": 11,
    "start_time": "2022-05-09T19:48:29.155Z"
   },
   {
    "duration": 6,
    "start_time": "2022-05-09T19:48:38.767Z"
   },
   {
    "duration": 7,
    "start_time": "2022-05-09T19:51:44.488Z"
   },
   {
    "duration": 5,
    "start_time": "2022-05-09T19:52:44.438Z"
   },
   {
    "duration": 6,
    "start_time": "2022-05-09T19:54:26.220Z"
   },
   {
    "duration": 5,
    "start_time": "2022-05-09T19:54:42.257Z"
   },
   {
    "duration": 614,
    "start_time": "2022-05-09T19:54:48.499Z"
   },
   {
    "duration": 35,
    "start_time": "2022-05-09T19:54:49.116Z"
   },
   {
    "duration": 6,
    "start_time": "2022-05-09T19:54:49.154Z"
   },
   {
    "duration": 49,
    "start_time": "2022-05-09T19:54:49.163Z"
   },
   {
    "duration": 23,
    "start_time": "2022-05-09T19:54:49.214Z"
   },
   {
    "duration": 53,
    "start_time": "2022-05-09T19:54:49.240Z"
   },
   {
    "duration": 36,
    "start_time": "2022-05-09T19:54:49.296Z"
   },
   {
    "duration": 33,
    "start_time": "2022-05-09T19:54:49.334Z"
   },
   {
    "duration": 11,
    "start_time": "2022-05-09T19:54:49.395Z"
   },
   {
    "duration": 10,
    "start_time": "2022-05-09T19:54:49.411Z"
   },
   {
    "duration": 13,
    "start_time": "2022-05-09T19:54:49.424Z"
   },
   {
    "duration": 10,
    "start_time": "2022-05-09T19:54:49.439Z"
   },
   {
    "duration": 16,
    "start_time": "2022-05-09T19:54:49.492Z"
   },
   {
    "duration": 1888,
    "start_time": "2022-05-09T19:54:49.510Z"
   },
   {
    "duration": 18,
    "start_time": "2022-05-09T19:54:51.401Z"
   },
   {
    "duration": 21,
    "start_time": "2022-05-09T19:54:51.422Z"
   },
   {
    "duration": 9,
    "start_time": "2022-05-09T19:54:51.445Z"
   },
   {
    "duration": 6,
    "start_time": "2022-05-09T19:54:51.492Z"
   },
   {
    "duration": 30,
    "start_time": "2022-05-09T19:54:51.501Z"
   },
   {
    "duration": 15,
    "start_time": "2022-05-09T19:54:51.534Z"
   },
   {
    "duration": 44,
    "start_time": "2022-05-09T19:54:51.552Z"
   },
   {
    "duration": 6,
    "start_time": "2022-05-09T19:54:51.599Z"
   },
   {
    "duration": 19,
    "start_time": "2022-05-09T19:54:51.607Z"
   },
   {
    "duration": 5,
    "start_time": "2022-05-09T19:54:51.629Z"
   },
   {
    "duration": 66,
    "start_time": "2022-05-09T19:54:51.636Z"
   },
   {
    "duration": 27,
    "start_time": "2022-05-09T19:54:51.705Z"
   },
   {
    "duration": 70,
    "start_time": "2022-05-09T19:54:51.737Z"
   },
   {
    "duration": 89,
    "start_time": "2022-05-09T19:54:51.815Z"
   },
   {
    "duration": 87,
    "start_time": "2022-05-09T19:54:51.907Z"
   },
   {
    "duration": 34,
    "start_time": "2022-05-09T19:54:51.997Z"
   },
   {
    "duration": 63,
    "start_time": "2022-05-09T19:54:52.034Z"
   },
   {
    "duration": 29,
    "start_time": "2022-05-09T19:54:52.100Z"
   },
   {
    "duration": 86,
    "start_time": "2022-05-09T19:54:52.132Z"
   },
   {
    "duration": 13,
    "start_time": "2022-05-09T19:54:52.221Z"
   },
   {
    "duration": 177,
    "start_time": "2022-05-09T19:54:52.236Z"
   },
   {
    "duration": 0,
    "start_time": "2022-05-09T19:54:52.417Z"
   },
   {
    "duration": 0,
    "start_time": "2022-05-09T19:54:52.419Z"
   },
   {
    "duration": 0,
    "start_time": "2022-05-09T19:54:52.421Z"
   },
   {
    "duration": 7,
    "start_time": "2022-05-09T19:55:50.257Z"
   },
   {
    "duration": 26,
    "start_time": "2022-05-09T19:56:18.441Z"
   },
   {
    "duration": 7,
    "start_time": "2022-05-09T19:56:19.417Z"
   },
   {
    "duration": 7,
    "start_time": "2022-05-09T19:56:20.291Z"
   },
   {
    "duration": 4,
    "start_time": "2022-05-09T19:59:07.983Z"
   },
   {
    "duration": 6,
    "start_time": "2022-05-09T19:59:26.358Z"
   },
   {
    "duration": 25,
    "start_time": "2022-05-09T20:00:22.001Z"
   },
   {
    "duration": 161,
    "start_time": "2022-05-09T20:01:19.636Z"
   },
   {
    "duration": 21,
    "start_time": "2022-05-09T20:02:25.623Z"
   },
   {
    "duration": 19,
    "start_time": "2022-05-09T20:05:57.930Z"
   },
   {
    "duration": 19,
    "start_time": "2022-05-09T20:06:36.413Z"
   },
   {
    "duration": 14,
    "start_time": "2022-05-09T20:06:46.125Z"
   },
   {
    "duration": 42,
    "start_time": "2022-05-09T20:07:02.016Z"
   },
   {
    "duration": 180,
    "start_time": "2022-05-09T20:08:23.097Z"
   },
   {
    "duration": 33,
    "start_time": "2022-05-09T20:13:44.007Z"
   },
   {
    "duration": 72,
    "start_time": "2022-05-10T07:05:24.760Z"
   },
   {
    "duration": 628,
    "start_time": "2022-05-10T07:05:33.375Z"
   },
   {
    "duration": 21,
    "start_time": "2022-05-10T07:05:34.005Z"
   },
   {
    "duration": 3,
    "start_time": "2022-05-10T07:05:34.028Z"
   },
   {
    "duration": 16,
    "start_time": "2022-05-10T07:05:34.034Z"
   },
   {
    "duration": 14,
    "start_time": "2022-05-10T07:05:34.051Z"
   },
   {
    "duration": 38,
    "start_time": "2022-05-10T07:05:34.066Z"
   },
   {
    "duration": 18,
    "start_time": "2022-05-10T07:05:34.106Z"
   },
   {
    "duration": 19,
    "start_time": "2022-05-10T07:05:34.126Z"
   },
   {
    "duration": 7,
    "start_time": "2022-05-10T07:05:34.146Z"
   },
   {
    "duration": 7,
    "start_time": "2022-05-10T07:05:34.156Z"
   },
   {
    "duration": 38,
    "start_time": "2022-05-10T07:05:34.164Z"
   },
   {
    "duration": 11,
    "start_time": "2022-05-10T07:05:34.204Z"
   },
   {
    "duration": 1465,
    "start_time": "2022-05-10T07:05:34.216Z"
   },
   {
    "duration": 12,
    "start_time": "2022-05-10T07:05:35.683Z"
   },
   {
    "duration": 8,
    "start_time": "2022-05-10T07:05:35.700Z"
   },
   {
    "duration": 6,
    "start_time": "2022-05-10T07:05:35.710Z"
   },
   {
    "duration": 4,
    "start_time": "2022-05-10T07:05:35.718Z"
   },
   {
    "duration": 17,
    "start_time": "2022-05-10T07:05:35.723Z"
   },
   {
    "duration": 63,
    "start_time": "2022-05-10T07:05:35.743Z"
   },
   {
    "duration": 13,
    "start_time": "2022-05-10T07:05:35.808Z"
   },
   {
    "duration": 6,
    "start_time": "2022-05-10T07:05:35.823Z"
   },
   {
    "duration": 15,
    "start_time": "2022-05-10T07:05:35.830Z"
   },
   {
    "duration": 5,
    "start_time": "2022-05-10T07:05:35.901Z"
   },
   {
    "duration": 24,
    "start_time": "2022-05-10T07:05:35.908Z"
   },
   {
    "duration": 78,
    "start_time": "2022-05-10T07:05:35.934Z"
   },
   {
    "duration": 21,
    "start_time": "2022-05-10T07:05:36.014Z"
   },
   {
    "duration": 64,
    "start_time": "2022-05-10T07:05:36.037Z"
   },
   {
    "duration": 14,
    "start_time": "2022-05-10T07:05:36.104Z"
   },
   {
    "duration": 16,
    "start_time": "2022-05-10T07:05:36.120Z"
   },
   {
    "duration": 66,
    "start_time": "2022-05-10T07:05:36.137Z"
   },
   {
    "duration": 16,
    "start_time": "2022-05-10T07:05:36.204Z"
   },
   {
    "duration": 16,
    "start_time": "2022-05-10T07:05:36.222Z"
   },
   {
    "duration": 64,
    "start_time": "2022-05-10T07:05:36.240Z"
   },
   {
    "duration": 13,
    "start_time": "2022-05-10T07:05:36.305Z"
   },
   {
    "duration": 153,
    "start_time": "2022-05-10T07:05:36.320Z"
   },
   {
    "duration": 0,
    "start_time": "2022-05-10T07:05:36.475Z"
   },
   {
    "duration": 0,
    "start_time": "2022-05-10T07:05:36.476Z"
   },
   {
    "duration": 0,
    "start_time": "2022-05-10T07:05:36.477Z"
   },
   {
    "duration": 0,
    "start_time": "2022-05-10T07:05:36.478Z"
   },
   {
    "duration": 5,
    "start_time": "2022-05-10T07:05:51.305Z"
   },
   {
    "duration": 166,
    "start_time": "2022-05-10T07:06:55.330Z"
   },
   {
    "duration": 21,
    "start_time": "2022-05-10T07:07:06.321Z"
   },
   {
    "duration": 19,
    "start_time": "2022-05-10T07:07:38.061Z"
   },
   {
    "duration": 5,
    "start_time": "2022-05-10T07:09:19.663Z"
   },
   {
    "duration": 4,
    "start_time": "2022-05-10T07:09:56.018Z"
   },
   {
    "duration": 3,
    "start_time": "2022-05-10T07:13:32.349Z"
   },
   {
    "duration": 3,
    "start_time": "2022-05-10T07:14:11.964Z"
   },
   {
    "duration": 133,
    "start_time": "2022-05-10T07:14:16.486Z"
   },
   {
    "duration": 3,
    "start_time": "2022-05-10T07:14:26.854Z"
   },
   {
    "duration": 3,
    "start_time": "2022-05-10T07:20:20.511Z"
   },
   {
    "duration": 6,
    "start_time": "2022-05-10T07:21:12.304Z"
   },
   {
    "duration": 4,
    "start_time": "2022-05-10T07:21:21.650Z"
   },
   {
    "duration": 8,
    "start_time": "2022-05-10T07:21:37.972Z"
   },
   {
    "duration": 2733,
    "start_time": "2022-05-10T07:23:16.303Z"
   },
   {
    "duration": 4,
    "start_time": "2022-05-10T07:25:20.037Z"
   },
   {
    "duration": 20,
    "start_time": "2022-05-10T07:26:50.157Z"
   },
   {
    "duration": 15,
    "start_time": "2022-05-10T07:27:15.548Z"
   },
   {
    "duration": 26,
    "start_time": "2022-05-10T07:27:26.993Z"
   },
   {
    "duration": 25,
    "start_time": "2022-05-10T07:27:31.016Z"
   },
   {
    "duration": 471,
    "start_time": "2022-05-10T07:27:41.976Z"
   },
   {
    "duration": 15,
    "start_time": "2022-05-10T07:27:42.449Z"
   },
   {
    "duration": 3,
    "start_time": "2022-05-10T07:27:42.465Z"
   },
   {
    "duration": 17,
    "start_time": "2022-05-10T07:27:42.470Z"
   },
   {
    "duration": 14,
    "start_time": "2022-05-10T07:27:42.500Z"
   },
   {
    "duration": 27,
    "start_time": "2022-05-10T07:27:42.515Z"
   },
   {
    "duration": 26,
    "start_time": "2022-05-10T07:27:42.544Z"
   },
   {
    "duration": 46,
    "start_time": "2022-05-10T07:27:42.572Z"
   },
   {
    "duration": 8,
    "start_time": "2022-05-10T07:27:42.620Z"
   },
   {
    "duration": 11,
    "start_time": "2022-05-10T07:27:42.629Z"
   },
   {
    "duration": 7,
    "start_time": "2022-05-10T07:27:42.642Z"
   },
   {
    "duration": 11,
    "start_time": "2022-05-10T07:27:42.651Z"
   },
   {
    "duration": 1195,
    "start_time": "2022-05-10T07:27:42.663Z"
   },
   {
    "duration": 12,
    "start_time": "2022-05-10T07:27:43.860Z"
   },
   {
    "duration": 13,
    "start_time": "2022-05-10T07:27:43.873Z"
   },
   {
    "duration": 5,
    "start_time": "2022-05-10T07:27:43.901Z"
   },
   {
    "duration": 6,
    "start_time": "2022-05-10T07:27:43.908Z"
   },
   {
    "duration": 21,
    "start_time": "2022-05-10T07:27:43.916Z"
   },
   {
    "duration": 13,
    "start_time": "2022-05-10T07:27:43.938Z"
   },
   {
    "duration": 9,
    "start_time": "2022-05-10T07:27:43.952Z"
   },
   {
    "duration": 5,
    "start_time": "2022-05-10T07:27:43.963Z"
   },
   {
    "duration": 36,
    "start_time": "2022-05-10T07:27:43.970Z"
   },
   {
    "duration": 7,
    "start_time": "2022-05-10T07:27:44.008Z"
   },
   {
    "duration": 17,
    "start_time": "2022-05-10T07:27:44.016Z"
   },
   {
    "duration": 16,
    "start_time": "2022-05-10T07:27:44.035Z"
   },
   {
    "duration": 18,
    "start_time": "2022-05-10T07:27:44.052Z"
   },
   {
    "duration": 40,
    "start_time": "2022-05-10T07:27:44.072Z"
   },
   {
    "duration": 19,
    "start_time": "2022-05-10T07:27:44.114Z"
   },
   {
    "duration": 23,
    "start_time": "2022-05-10T07:27:44.135Z"
   },
   {
    "duration": 8,
    "start_time": "2022-05-10T07:27:44.160Z"
   },
   {
    "duration": 44,
    "start_time": "2022-05-10T07:27:44.170Z"
   },
   {
    "duration": 23,
    "start_time": "2022-05-10T07:27:44.216Z"
   },
   {
    "duration": 8,
    "start_time": "2022-05-10T07:27:44.241Z"
   },
   {
    "duration": 7,
    "start_time": "2022-05-10T07:27:44.250Z"
   },
   {
    "duration": 49,
    "start_time": "2022-05-10T07:27:44.259Z"
   },
   {
    "duration": 88,
    "start_time": "2022-05-10T07:28:56.841Z"
   },
   {
    "duration": 14,
    "start_time": "2022-05-10T07:29:01.873Z"
   },
   {
    "duration": 81,
    "start_time": "2022-05-10T07:37:07.114Z"
   },
   {
    "duration": 8,
    "start_time": "2022-05-10T07:48:52.685Z"
   },
   {
    "duration": 8,
    "start_time": "2022-05-10T07:49:04.890Z"
   },
   {
    "duration": 26,
    "start_time": "2022-05-10T07:49:32.349Z"
   },
   {
    "duration": 25,
    "start_time": "2022-05-10T07:50:08.465Z"
   },
   {
    "duration": 15,
    "start_time": "2022-05-10T07:50:38.045Z"
   },
   {
    "duration": 20,
    "start_time": "2022-05-10T07:51:32.699Z"
   },
   {
    "duration": 9,
    "start_time": "2022-05-10T07:51:48.893Z"
   },
   {
    "duration": 4,
    "start_time": "2022-05-10T07:54:55.176Z"
   },
   {
    "duration": 16,
    "start_time": "2022-05-10T07:55:03.351Z"
   },
   {
    "duration": 174,
    "start_time": "2022-05-10T07:57:06.050Z"
   },
   {
    "duration": 6,
    "start_time": "2022-05-10T08:00:10.450Z"
   },
   {
    "duration": 16,
    "start_time": "2022-05-10T08:11:14.539Z"
   },
   {
    "duration": 15,
    "start_time": "2022-05-10T08:11:30.337Z"
   },
   {
    "duration": 12,
    "start_time": "2022-05-10T08:12:22.923Z"
   },
   {
    "duration": 14,
    "start_time": "2022-05-10T08:12:27.490Z"
   },
   {
    "duration": 24,
    "start_time": "2022-05-10T08:13:02.195Z"
   },
   {
    "duration": 14,
    "start_time": "2022-05-10T08:13:06.525Z"
   },
   {
    "duration": 27,
    "start_time": "2022-05-10T08:14:02.115Z"
   },
   {
    "duration": 16,
    "start_time": "2022-05-10T08:14:55.671Z"
   },
   {
    "duration": 5,
    "start_time": "2022-05-10T08:20:28.801Z"
   },
   {
    "duration": 17,
    "start_time": "2022-05-10T08:20:46.519Z"
   },
   {
    "duration": 14,
    "start_time": "2022-05-10T08:21:32.921Z"
   },
   {
    "duration": 454,
    "start_time": "2022-05-10T08:21:45.012Z"
   },
   {
    "duration": 15,
    "start_time": "2022-05-10T08:21:45.467Z"
   },
   {
    "duration": 3,
    "start_time": "2022-05-10T08:21:45.483Z"
   },
   {
    "duration": 15,
    "start_time": "2022-05-10T08:21:45.488Z"
   },
   {
    "duration": 16,
    "start_time": "2022-05-10T08:21:45.504Z"
   },
   {
    "duration": 17,
    "start_time": "2022-05-10T08:21:45.521Z"
   },
   {
    "duration": 16,
    "start_time": "2022-05-10T08:21:45.540Z"
   },
   {
    "duration": 45,
    "start_time": "2022-05-10T08:21:45.558Z"
   },
   {
    "duration": 21,
    "start_time": "2022-05-10T08:21:45.605Z"
   },
   {
    "duration": 7,
    "start_time": "2022-05-10T08:21:45.629Z"
   },
   {
    "duration": 7,
    "start_time": "2022-05-10T08:21:45.637Z"
   },
   {
    "duration": 10,
    "start_time": "2022-05-10T08:21:45.645Z"
   },
   {
    "duration": 1347,
    "start_time": "2022-05-10T08:21:45.656Z"
   },
   {
    "duration": 14,
    "start_time": "2022-05-10T08:21:47.006Z"
   },
   {
    "duration": 8,
    "start_time": "2022-05-10T08:21:47.022Z"
   },
   {
    "duration": 5,
    "start_time": "2022-05-10T08:21:47.032Z"
   },
   {
    "duration": 3,
    "start_time": "2022-05-10T08:21:47.039Z"
   },
   {
    "duration": 66,
    "start_time": "2022-05-10T08:21:47.044Z"
   },
   {
    "duration": 14,
    "start_time": "2022-05-10T08:21:47.114Z"
   },
   {
    "duration": 12,
    "start_time": "2022-05-10T08:21:47.129Z"
   },
   {
    "duration": 4,
    "start_time": "2022-05-10T08:21:47.142Z"
   },
   {
    "duration": 58,
    "start_time": "2022-05-10T08:21:47.148Z"
   },
   {
    "duration": 4,
    "start_time": "2022-05-10T08:21:47.208Z"
   },
   {
    "duration": 26,
    "start_time": "2022-05-10T08:21:47.214Z"
   },
   {
    "duration": 68,
    "start_time": "2022-05-10T08:21:47.241Z"
   },
   {
    "duration": 25,
    "start_time": "2022-05-10T08:21:47.313Z"
   },
   {
    "duration": 66,
    "start_time": "2022-05-10T08:21:47.339Z"
   },
   {
    "duration": 21,
    "start_time": "2022-05-10T08:21:47.408Z"
   },
   {
    "duration": 88,
    "start_time": "2022-05-10T08:21:47.431Z"
   },
   {
    "duration": 10,
    "start_time": "2022-05-10T08:21:47.521Z"
   },
   {
    "duration": 18,
    "start_time": "2022-05-10T08:21:47.532Z"
   },
   {
    "duration": 75,
    "start_time": "2022-05-10T08:21:47.552Z"
   },
   {
    "duration": 7,
    "start_time": "2022-05-10T08:21:47.628Z"
   },
   {
    "duration": 14,
    "start_time": "2022-05-10T08:21:47.637Z"
   },
   {
    "duration": 26,
    "start_time": "2022-05-10T08:21:47.700Z"
   },
   {
    "duration": 10,
    "start_time": "2022-05-10T08:21:47.728Z"
   },
   {
    "duration": 71,
    "start_time": "2022-05-10T08:21:47.740Z"
   },
   {
    "duration": 16,
    "start_time": "2022-05-10T08:21:47.817Z"
   },
   {
    "duration": 70,
    "start_time": "2022-05-10T08:21:47.834Z"
   },
   {
    "duration": 21,
    "start_time": "2022-05-10T08:21:47.909Z"
   },
   {
    "duration": 4,
    "start_time": "2022-05-10T08:21:47.931Z"
   },
   {
    "duration": 70,
    "start_time": "2022-05-10T08:21:47.937Z"
   },
   {
    "duration": 29,
    "start_time": "2022-05-10T08:21:48.010Z"
   },
   {
    "duration": 72,
    "start_time": "2022-05-10T08:21:48.040Z"
   },
   {
    "duration": 19,
    "start_time": "2022-05-10T08:25:42.149Z"
   },
   {
    "duration": 19,
    "start_time": "2022-05-10T08:33:25.874Z"
   },
   {
    "duration": 21,
    "start_time": "2022-05-10T08:33:28.270Z"
   },
   {
    "duration": 18,
    "start_time": "2022-05-10T08:34:01.768Z"
   },
   {
    "duration": 18,
    "start_time": "2022-05-10T08:34:02.885Z"
   },
   {
    "duration": 452,
    "start_time": "2022-05-10T08:36:47.269Z"
   },
   {
    "duration": 21,
    "start_time": "2022-05-10T08:37:18.943Z"
   },
   {
    "duration": 18,
    "start_time": "2022-05-10T08:37:20.724Z"
   },
   {
    "duration": 17,
    "start_time": "2022-05-10T08:40:10.899Z"
   },
   {
    "duration": 26,
    "start_time": "2022-05-10T08:40:12.087Z"
   },
   {
    "duration": 503,
    "start_time": "2022-05-10T08:40:20.586Z"
   },
   {
    "duration": 20,
    "start_time": "2022-05-10T08:40:21.091Z"
   },
   {
    "duration": 9,
    "start_time": "2022-05-10T08:40:21.113Z"
   },
   {
    "duration": 22,
    "start_time": "2022-05-10T08:40:21.124Z"
   },
   {
    "duration": 14,
    "start_time": "2022-05-10T08:40:21.148Z"
   },
   {
    "duration": 17,
    "start_time": "2022-05-10T08:40:21.164Z"
   },
   {
    "duration": 43,
    "start_time": "2022-05-10T08:40:21.182Z"
   },
   {
    "duration": 19,
    "start_time": "2022-05-10T08:40:21.227Z"
   },
   {
    "duration": 7,
    "start_time": "2022-05-10T08:40:21.248Z"
   },
   {
    "duration": 8,
    "start_time": "2022-05-10T08:40:21.258Z"
   },
   {
    "duration": 35,
    "start_time": "2022-05-10T08:40:21.267Z"
   },
   {
    "duration": 33,
    "start_time": "2022-05-10T08:40:21.304Z"
   },
   {
    "duration": 2037,
    "start_time": "2022-05-10T08:40:21.339Z"
   },
   {
    "duration": 12,
    "start_time": "2022-05-10T08:40:23.378Z"
   },
   {
    "duration": 13,
    "start_time": "2022-05-10T08:40:23.400Z"
   },
   {
    "duration": 8,
    "start_time": "2022-05-10T08:40:23.416Z"
   },
   {
    "duration": 4,
    "start_time": "2022-05-10T08:40:23.426Z"
   },
   {
    "duration": 11,
    "start_time": "2022-05-10T08:40:23.434Z"
   },
   {
    "duration": 9,
    "start_time": "2022-05-10T08:40:23.447Z"
   },
   {
    "duration": 9,
    "start_time": "2022-05-10T08:40:23.458Z"
   },
   {
    "duration": 35,
    "start_time": "2022-05-10T08:40:23.468Z"
   },
   {
    "duration": 24,
    "start_time": "2022-05-10T08:40:23.506Z"
   },
   {
    "duration": 4,
    "start_time": "2022-05-10T08:40:23.531Z"
   },
   {
    "duration": 14,
    "start_time": "2022-05-10T08:40:23.537Z"
   },
   {
    "duration": 17,
    "start_time": "2022-05-10T08:40:23.553Z"
   },
   {
    "duration": 53,
    "start_time": "2022-05-10T08:40:23.571Z"
   },
   {
    "duration": 16,
    "start_time": "2022-05-10T08:40:23.626Z"
   },
   {
    "duration": 12,
    "start_time": "2022-05-10T08:40:23.643Z"
   },
   {
    "duration": 18,
    "start_time": "2022-05-10T08:40:23.657Z"
   },
   {
    "duration": 28,
    "start_time": "2022-05-10T08:40:23.676Z"
   },
   {
    "duration": 32,
    "start_time": "2022-05-10T08:40:23.706Z"
   },
   {
    "duration": 25,
    "start_time": "2022-05-10T08:40:23.740Z"
   },
   {
    "duration": 7,
    "start_time": "2022-05-10T08:40:23.767Z"
   },
   {
    "duration": 34,
    "start_time": "2022-05-10T08:40:23.776Z"
   },
   {
    "duration": 18,
    "start_time": "2022-05-10T08:40:23.812Z"
   },
   {
    "duration": 4,
    "start_time": "2022-05-10T08:40:23.832Z"
   },
   {
    "duration": 23,
    "start_time": "2022-05-10T08:40:23.838Z"
   },
   {
    "duration": 15,
    "start_time": "2022-05-10T08:40:23.863Z"
   },
   {
    "duration": 20,
    "start_time": "2022-05-10T08:40:23.900Z"
   },
   {
    "duration": 5,
    "start_time": "2022-05-10T08:40:23.922Z"
   },
   {
    "duration": 18,
    "start_time": "2022-05-10T08:40:23.928Z"
   },
   {
    "duration": 15,
    "start_time": "2022-05-10T08:40:23.948Z"
   },
   {
    "duration": 43,
    "start_time": "2022-05-10T08:40:23.965Z"
   },
   {
    "duration": 16,
    "start_time": "2022-05-10T08:40:24.012Z"
   },
   {
    "duration": 32,
    "start_time": "2022-05-10T08:40:24.030Z"
   },
   {
    "duration": 18,
    "start_time": "2022-05-10T08:43:14.828Z"
   },
   {
    "duration": 19,
    "start_time": "2022-05-10T08:43:16.280Z"
   },
   {
    "duration": 30,
    "start_time": "2022-05-10T08:48:24.207Z"
   },
   {
    "duration": 17,
    "start_time": "2022-05-10T08:48:25.152Z"
   },
   {
    "duration": 31,
    "start_time": "2022-05-10T08:50:07.271Z"
   },
   {
    "duration": 27,
    "start_time": "2022-05-10T08:50:08.089Z"
   },
   {
    "duration": 482,
    "start_time": "2022-05-10T08:52:52.479Z"
   },
   {
    "duration": 14,
    "start_time": "2022-05-10T08:52:52.963Z"
   },
   {
    "duration": 2,
    "start_time": "2022-05-10T08:52:52.979Z"
   },
   {
    "duration": 14,
    "start_time": "2022-05-10T08:52:52.983Z"
   },
   {
    "duration": 18,
    "start_time": "2022-05-10T08:52:52.999Z"
   },
   {
    "duration": 16,
    "start_time": "2022-05-10T08:52:53.019Z"
   },
   {
    "duration": 19,
    "start_time": "2022-05-10T08:52:53.036Z"
   },
   {
    "duration": 18,
    "start_time": "2022-05-10T08:52:53.056Z"
   },
   {
    "duration": 30,
    "start_time": "2022-05-10T08:52:53.075Z"
   },
   {
    "duration": 14,
    "start_time": "2022-05-10T08:52:53.110Z"
   },
   {
    "duration": 8,
    "start_time": "2022-05-10T08:52:53.126Z"
   },
   {
    "duration": 9,
    "start_time": "2022-05-10T08:52:53.136Z"
   },
   {
    "duration": 1223,
    "start_time": "2022-05-10T08:52:53.147Z"
   },
   {
    "duration": 13,
    "start_time": "2022-05-10T08:52:54.372Z"
   },
   {
    "duration": 30,
    "start_time": "2022-05-10T08:52:54.386Z"
   },
   {
    "duration": 6,
    "start_time": "2022-05-10T08:52:54.418Z"
   },
   {
    "duration": 4,
    "start_time": "2022-05-10T08:52:54.425Z"
   },
   {
    "duration": 12,
    "start_time": "2022-05-10T08:52:54.430Z"
   },
   {
    "duration": 9,
    "start_time": "2022-05-10T08:52:54.444Z"
   },
   {
    "duration": 9,
    "start_time": "2022-05-10T08:52:54.454Z"
   },
   {
    "duration": 4,
    "start_time": "2022-05-10T08:52:54.464Z"
   },
   {
    "duration": 48,
    "start_time": "2022-05-10T08:52:54.469Z"
   },
   {
    "duration": 4,
    "start_time": "2022-05-10T08:52:54.518Z"
   },
   {
    "duration": 15,
    "start_time": "2022-05-10T08:52:54.523Z"
   },
   {
    "duration": 15,
    "start_time": "2022-05-10T08:52:54.539Z"
   },
   {
    "duration": 17,
    "start_time": "2022-05-10T08:52:54.556Z"
   },
   {
    "duration": 35,
    "start_time": "2022-05-10T08:52:54.574Z"
   },
   {
    "duration": 13,
    "start_time": "2022-05-10T08:52:54.613Z"
   },
   {
    "duration": 15,
    "start_time": "2022-05-10T08:52:54.628Z"
   },
   {
    "duration": 5,
    "start_time": "2022-05-10T08:52:54.645Z"
   },
   {
    "duration": 14,
    "start_time": "2022-05-10T08:52:54.652Z"
   },
   {
    "duration": 54,
    "start_time": "2022-05-10T08:52:54.667Z"
   },
   {
    "duration": 6,
    "start_time": "2022-05-10T08:52:54.722Z"
   },
   {
    "duration": 15,
    "start_time": "2022-05-10T08:52:54.729Z"
   },
   {
    "duration": 15,
    "start_time": "2022-05-10T08:52:54.745Z"
   },
   {
    "duration": 4,
    "start_time": "2022-05-10T08:52:54.761Z"
   },
   {
    "duration": 48,
    "start_time": "2022-05-10T08:52:54.767Z"
   },
   {
    "duration": 19,
    "start_time": "2022-05-10T08:52:54.817Z"
   },
   {
    "duration": 13,
    "start_time": "2022-05-10T08:52:54.837Z"
   },
   {
    "duration": 3,
    "start_time": "2022-05-10T08:52:54.851Z"
   },
   {
    "duration": 15,
    "start_time": "2022-05-10T08:52:54.856Z"
   },
   {
    "duration": 41,
    "start_time": "2022-05-10T08:52:54.872Z"
   },
   {
    "duration": 17,
    "start_time": "2022-05-10T08:52:54.914Z"
   },
   {
    "duration": 33,
    "start_time": "2022-05-10T08:52:54.932Z"
   },
   {
    "duration": 17,
    "start_time": "2022-05-10T08:52:54.966Z"
   },
   {
    "duration": 95,
    "start_time": "2022-05-10T09:27:36.131Z"
   },
   {
    "duration": 7,
    "start_time": "2022-05-10T09:27:44.869Z"
   },
   {
    "duration": 559,
    "start_time": "2022-05-10T09:28:12.414Z"
   },
   {
    "duration": 19,
    "start_time": "2022-05-10T09:28:12.975Z"
   },
   {
    "duration": 4,
    "start_time": "2022-05-10T09:28:12.996Z"
   },
   {
    "duration": 14,
    "start_time": "2022-05-10T09:28:13.002Z"
   },
   {
    "duration": 13,
    "start_time": "2022-05-10T09:28:13.018Z"
   },
   {
    "duration": 16,
    "start_time": "2022-05-10T09:28:13.032Z"
   },
   {
    "duration": 18,
    "start_time": "2022-05-10T09:28:13.050Z"
   },
   {
    "duration": 50,
    "start_time": "2022-05-10T09:28:13.069Z"
   },
   {
    "duration": 5,
    "start_time": "2022-05-10T09:28:13.121Z"
   },
   {
    "duration": 11,
    "start_time": "2022-05-10T09:28:13.129Z"
   },
   {
    "duration": 6,
    "start_time": "2022-05-10T09:28:13.141Z"
   },
   {
    "duration": 12,
    "start_time": "2022-05-10T09:28:13.149Z"
   },
   {
    "duration": 1326,
    "start_time": "2022-05-10T09:28:13.162Z"
   },
   {
    "duration": 15,
    "start_time": "2022-05-10T09:28:14.490Z"
   },
   {
    "duration": 11,
    "start_time": "2022-05-10T09:28:14.507Z"
   },
   {
    "duration": 5,
    "start_time": "2022-05-10T09:28:14.519Z"
   },
   {
    "duration": 4,
    "start_time": "2022-05-10T09:28:14.526Z"
   },
   {
    "duration": 18,
    "start_time": "2022-05-10T09:28:14.531Z"
   },
   {
    "duration": 16,
    "start_time": "2022-05-10T09:28:14.550Z"
   },
   {
    "duration": 9,
    "start_time": "2022-05-10T09:28:14.567Z"
   },
   {
    "duration": 5,
    "start_time": "2022-05-10T09:28:14.577Z"
   },
   {
    "duration": 24,
    "start_time": "2022-05-10T09:28:14.583Z"
   },
   {
    "duration": 3,
    "start_time": "2022-05-10T09:28:14.609Z"
   },
   {
    "duration": 16,
    "start_time": "2022-05-10T09:28:14.614Z"
   },
   {
    "duration": 18,
    "start_time": "2022-05-10T09:28:14.631Z"
   },
   {
    "duration": 18,
    "start_time": "2022-05-10T09:28:14.650Z"
   },
   {
    "duration": 37,
    "start_time": "2022-05-10T09:28:14.669Z"
   },
   {
    "duration": 13,
    "start_time": "2022-05-10T09:28:14.709Z"
   },
   {
    "duration": 16,
    "start_time": "2022-05-10T09:28:14.724Z"
   },
   {
    "duration": 7,
    "start_time": "2022-05-10T09:28:14.742Z"
   },
   {
    "duration": 16,
    "start_time": "2022-05-10T09:28:14.751Z"
   },
   {
    "duration": 48,
    "start_time": "2022-05-10T09:28:14.768Z"
   },
   {
    "duration": 8,
    "start_time": "2022-05-10T09:28:14.817Z"
   },
   {
    "duration": 16,
    "start_time": "2022-05-10T09:28:14.826Z"
   },
   {
    "duration": 16,
    "start_time": "2022-05-10T09:28:14.843Z"
   },
   {
    "duration": 4,
    "start_time": "2022-05-10T09:28:14.860Z"
   },
   {
    "duration": 16,
    "start_time": "2022-05-10T09:28:14.900Z"
   },
   {
    "duration": 15,
    "start_time": "2022-05-10T09:28:14.918Z"
   },
   {
    "duration": 7,
    "start_time": "2022-05-10T09:28:14.934Z"
   },
   {
    "duration": 15,
    "start_time": "2022-05-10T09:28:14.943Z"
   },
   {
    "duration": 4,
    "start_time": "2022-05-10T09:28:14.960Z"
   },
   {
    "duration": 49,
    "start_time": "2022-05-10T09:28:14.965Z"
   },
   {
    "duration": 18,
    "start_time": "2022-05-10T09:28:15.016Z"
   },
   {
    "duration": 29,
    "start_time": "2022-05-10T09:28:15.035Z"
   },
   {
    "duration": 47,
    "start_time": "2022-05-10T09:28:15.066Z"
   },
   {
    "duration": 18,
    "start_time": "2022-05-10T09:28:15.115Z"
   },
   {
    "duration": 21,
    "start_time": "2022-05-10T09:45:44.889Z"
   },
   {
    "duration": 12,
    "start_time": "2022-05-10T09:49:28.450Z"
   },
   {
    "duration": 8,
    "start_time": "2022-05-10T09:50:21.274Z"
   },
   {
    "duration": 4,
    "start_time": "2022-05-10T09:51:08.665Z"
   },
   {
    "duration": 8,
    "start_time": "2022-05-10T09:51:10.959Z"
   },
   {
    "duration": 8,
    "start_time": "2022-05-10T09:51:16.730Z"
   },
   {
    "duration": 175,
    "start_time": "2022-05-10T09:51:27.401Z"
   },
   {
    "duration": 8,
    "start_time": "2022-05-10T09:51:35.321Z"
   },
   {
    "duration": 12,
    "start_time": "2022-05-10T09:52:12.068Z"
   },
   {
    "duration": 8,
    "start_time": "2022-05-10T09:52:29.243Z"
   },
   {
    "duration": 10,
    "start_time": "2022-05-10T09:53:13.404Z"
   },
   {
    "duration": 6,
    "start_time": "2022-05-10T10:04:22.358Z"
   },
   {
    "duration": 12,
    "start_time": "2022-05-10T10:04:29.075Z"
   },
   {
    "duration": 15,
    "start_time": "2022-05-10T10:06:43.723Z"
   },
   {
    "duration": 4,
    "start_time": "2022-05-10T10:23:55.741Z"
   },
   {
    "duration": 97,
    "start_time": "2022-05-10T10:24:08.816Z"
   },
   {
    "duration": 457,
    "start_time": "2022-05-10T10:24:29.381Z"
   },
   {
    "duration": 15,
    "start_time": "2022-05-10T10:24:29.840Z"
   },
   {
    "duration": 3,
    "start_time": "2022-05-10T10:24:29.856Z"
   },
   {
    "duration": 14,
    "start_time": "2022-05-10T10:24:29.861Z"
   },
   {
    "duration": 31,
    "start_time": "2022-05-10T10:24:29.877Z"
   },
   {
    "duration": 16,
    "start_time": "2022-05-10T10:24:29.910Z"
   },
   {
    "duration": 17,
    "start_time": "2022-05-10T10:24:29.928Z"
   },
   {
    "duration": 19,
    "start_time": "2022-05-10T10:24:29.947Z"
   },
   {
    "duration": 36,
    "start_time": "2022-05-10T10:24:29.968Z"
   },
   {
    "duration": 13,
    "start_time": "2022-05-10T10:24:30.006Z"
   },
   {
    "duration": 6,
    "start_time": "2022-05-10T10:24:30.021Z"
   },
   {
    "duration": 16,
    "start_time": "2022-05-10T10:24:30.029Z"
   },
   {
    "duration": 1202,
    "start_time": "2022-05-10T10:24:30.046Z"
   },
   {
    "duration": 12,
    "start_time": "2022-05-10T10:24:31.251Z"
   },
   {
    "duration": 19,
    "start_time": "2022-05-10T10:24:31.264Z"
   },
   {
    "duration": 10,
    "start_time": "2022-05-10T10:24:31.284Z"
   },
   {
    "duration": 8,
    "start_time": "2022-05-10T10:24:31.295Z"
   },
   {
    "duration": 19,
    "start_time": "2022-05-10T10:24:31.305Z"
   },
   {
    "duration": 17,
    "start_time": "2022-05-10T10:24:31.325Z"
   },
   {
    "duration": 11,
    "start_time": "2022-05-10T10:24:31.344Z"
   },
   {
    "duration": 3,
    "start_time": "2022-05-10T10:24:31.357Z"
   },
   {
    "duration": 10,
    "start_time": "2022-05-10T10:24:31.362Z"
   },
   {
    "duration": 3,
    "start_time": "2022-05-10T10:24:31.373Z"
   },
   {
    "duration": 29,
    "start_time": "2022-05-10T10:24:31.378Z"
   },
   {
    "duration": 15,
    "start_time": "2022-05-10T10:24:31.408Z"
   },
   {
    "duration": 17,
    "start_time": "2022-05-10T10:24:31.425Z"
   },
   {
    "duration": 17,
    "start_time": "2022-05-10T10:24:31.444Z"
   },
   {
    "duration": 38,
    "start_time": "2022-05-10T10:24:31.462Z"
   },
   {
    "duration": 16,
    "start_time": "2022-05-10T10:24:31.501Z"
   },
   {
    "duration": 5,
    "start_time": "2022-05-10T10:24:31.518Z"
   },
   {
    "duration": 13,
    "start_time": "2022-05-10T10:24:31.524Z"
   },
   {
    "duration": 15,
    "start_time": "2022-05-10T10:24:31.538Z"
   },
   {
    "duration": 5,
    "start_time": "2022-05-10T10:24:31.555Z"
   },
   {
    "duration": 45,
    "start_time": "2022-05-10T10:24:31.561Z"
   },
   {
    "duration": 15,
    "start_time": "2022-05-10T10:24:31.607Z"
   },
   {
    "duration": 5,
    "start_time": "2022-05-10T10:24:31.624Z"
   },
   {
    "duration": 21,
    "start_time": "2022-05-10T10:24:31.630Z"
   },
   {
    "duration": 14,
    "start_time": "2022-05-10T10:24:31.653Z"
   },
   {
    "duration": 32,
    "start_time": "2022-05-10T10:24:31.668Z"
   },
   {
    "duration": 13,
    "start_time": "2022-05-10T10:24:31.701Z"
   },
   {
    "duration": 4,
    "start_time": "2022-05-10T10:24:31.717Z"
   },
   {
    "duration": 17,
    "start_time": "2022-05-10T10:24:31.722Z"
   },
   {
    "duration": 23,
    "start_time": "2022-05-10T10:24:31.740Z"
   },
   {
    "duration": 36,
    "start_time": "2022-05-10T10:24:31.765Z"
   },
   {
    "duration": 34,
    "start_time": "2022-05-10T10:24:31.802Z"
   },
   {
    "duration": 18,
    "start_time": "2022-05-10T10:24:31.838Z"
   },
   {
    "duration": 14,
    "start_time": "2022-05-10T10:24:31.857Z"
   },
   {
    "duration": 29,
    "start_time": "2022-05-10T10:24:31.872Z"
   },
   {
    "duration": 6,
    "start_time": "2022-05-10T10:24:31.902Z"
   },
   {
    "duration": 14,
    "start_time": "2022-05-10T10:24:31.909Z"
   },
   {
    "duration": 11,
    "start_time": "2022-05-10T10:24:31.924Z"
   },
   {
    "duration": 99,
    "start_time": "2022-05-10T10:29:08.008Z"
   },
   {
    "duration": 14,
    "start_time": "2022-05-10T10:29:12.060Z"
   },
   {
    "duration": 517,
    "start_time": "2022-05-10T10:29:17.563Z"
   },
   {
    "duration": 15,
    "start_time": "2022-05-10T10:29:18.082Z"
   },
   {
    "duration": 3,
    "start_time": "2022-05-10T10:29:18.098Z"
   },
   {
    "duration": 17,
    "start_time": "2022-05-10T10:29:18.103Z"
   },
   {
    "duration": 13,
    "start_time": "2022-05-10T10:29:18.122Z"
   },
   {
    "duration": 16,
    "start_time": "2022-05-10T10:29:18.137Z"
   },
   {
    "duration": 18,
    "start_time": "2022-05-10T10:29:18.154Z"
   },
   {
    "duration": 44,
    "start_time": "2022-05-10T10:29:18.173Z"
   },
   {
    "duration": 7,
    "start_time": "2022-05-10T10:29:18.218Z"
   },
   {
    "duration": 6,
    "start_time": "2022-05-10T10:29:18.229Z"
   },
   {
    "duration": 6,
    "start_time": "2022-05-10T10:29:18.236Z"
   },
   {
    "duration": 10,
    "start_time": "2022-05-10T10:29:18.243Z"
   },
   {
    "duration": 1262,
    "start_time": "2022-05-10T10:29:18.254Z"
   },
   {
    "duration": 12,
    "start_time": "2022-05-10T10:29:19.518Z"
   },
   {
    "duration": 10,
    "start_time": "2022-05-10T10:29:19.532Z"
   },
   {
    "duration": 7,
    "start_time": "2022-05-10T10:29:19.543Z"
   },
   {
    "duration": 7,
    "start_time": "2022-05-10T10:29:19.551Z"
   },
   {
    "duration": 12,
    "start_time": "2022-05-10T10:29:19.559Z"
   },
   {
    "duration": 33,
    "start_time": "2022-05-10T10:29:19.572Z"
   },
   {
    "duration": 15,
    "start_time": "2022-05-10T10:29:19.607Z"
   },
   {
    "duration": 6,
    "start_time": "2022-05-10T10:29:19.624Z"
   },
   {
    "duration": 14,
    "start_time": "2022-05-10T10:29:19.632Z"
   },
   {
    "duration": 3,
    "start_time": "2022-05-10T10:29:19.648Z"
   },
   {
    "duration": 27,
    "start_time": "2022-05-10T10:29:19.653Z"
   },
   {
    "duration": 34,
    "start_time": "2022-05-10T10:29:19.682Z"
   },
   {
    "duration": 25,
    "start_time": "2022-05-10T10:29:19.718Z"
   },
   {
    "duration": 23,
    "start_time": "2022-05-10T10:29:19.745Z"
   },
   {
    "duration": 35,
    "start_time": "2022-05-10T10:29:19.772Z"
   },
   {
    "duration": 24,
    "start_time": "2022-05-10T10:29:19.809Z"
   },
   {
    "duration": 7,
    "start_time": "2022-05-10T10:29:19.835Z"
   },
   {
    "duration": 20,
    "start_time": "2022-05-10T10:29:19.844Z"
   },
   {
    "duration": 49,
    "start_time": "2022-05-10T10:29:19.865Z"
   },
   {
    "duration": 8,
    "start_time": "2022-05-10T10:29:19.915Z"
   },
   {
    "duration": 19,
    "start_time": "2022-05-10T10:29:19.925Z"
   },
   {
    "duration": 24,
    "start_time": "2022-05-10T10:29:19.945Z"
   },
   {
    "duration": 4,
    "start_time": "2022-05-10T10:29:19.971Z"
   },
   {
    "duration": 25,
    "start_time": "2022-05-10T10:29:20.000Z"
   },
   {
    "duration": 23,
    "start_time": "2022-05-10T10:29:20.027Z"
   },
   {
    "duration": 8,
    "start_time": "2022-05-10T10:29:20.052Z"
   },
   {
    "duration": 39,
    "start_time": "2022-05-10T10:29:20.062Z"
   },
   {
    "duration": 4,
    "start_time": "2022-05-10T10:29:20.103Z"
   },
   {
    "duration": 27,
    "start_time": "2022-05-10T10:29:20.109Z"
   },
   {
    "duration": 23,
    "start_time": "2022-05-10T10:29:20.137Z"
   },
   {
    "duration": 48,
    "start_time": "2022-05-10T10:29:20.162Z"
   },
   {
    "duration": 50,
    "start_time": "2022-05-10T10:29:20.212Z"
   },
   {
    "duration": 37,
    "start_time": "2022-05-10T10:29:20.264Z"
   },
   {
    "duration": 9,
    "start_time": "2022-05-10T10:29:20.302Z"
   },
   {
    "duration": 13,
    "start_time": "2022-05-10T10:29:20.313Z"
   },
   {
    "duration": 9,
    "start_time": "2022-05-10T10:29:20.327Z"
   },
   {
    "duration": 11,
    "start_time": "2022-05-10T10:29:20.337Z"
   },
   {
    "duration": 116,
    "start_time": "2022-05-10T10:29:20.349Z"
   },
   {
    "duration": 12,
    "start_time": "2022-05-10T10:29:27.430Z"
   },
   {
    "duration": 5,
    "start_time": "2022-05-10T11:33:24.452Z"
   },
   {
    "duration": 4,
    "start_time": "2022-05-10T12:13:28.035Z"
   },
   {
    "duration": 728,
    "start_time": "2022-05-10T12:13:37.469Z"
   },
   {
    "duration": 688,
    "start_time": "2022-05-10T12:15:55.713Z"
   },
   {
    "duration": 438,
    "start_time": "2022-05-10T12:16:01.742Z"
   },
   {
    "duration": 14,
    "start_time": "2022-05-10T12:16:02.182Z"
   },
   {
    "duration": 29,
    "start_time": "2022-05-10T12:16:02.198Z"
   },
   {
    "duration": 23,
    "start_time": "2022-05-10T12:16:02.229Z"
   },
   {
    "duration": 13,
    "start_time": "2022-05-10T12:16:02.254Z"
   },
   {
    "duration": 18,
    "start_time": "2022-05-10T12:16:02.269Z"
   },
   {
    "duration": 24,
    "start_time": "2022-05-10T12:16:02.288Z"
   },
   {
    "duration": 20,
    "start_time": "2022-05-10T12:16:02.314Z"
   },
   {
    "duration": 5,
    "start_time": "2022-05-10T12:16:02.336Z"
   },
   {
    "duration": 13,
    "start_time": "2022-05-10T12:16:02.342Z"
   },
   {
    "duration": 18,
    "start_time": "2022-05-10T12:16:02.356Z"
   },
   {
    "duration": 12,
    "start_time": "2022-05-10T12:16:02.375Z"
   },
   {
    "duration": 1290,
    "start_time": "2022-05-10T12:16:02.388Z"
   },
   {
    "duration": 19,
    "start_time": "2022-05-10T12:16:03.681Z"
   },
   {
    "duration": 16,
    "start_time": "2022-05-10T12:16:03.702Z"
   },
   {
    "duration": 17,
    "start_time": "2022-05-10T12:16:03.720Z"
   },
   {
    "duration": 12,
    "start_time": "2022-05-10T12:16:03.738Z"
   },
   {
    "duration": 14,
    "start_time": "2022-05-10T12:16:03.751Z"
   },
   {
    "duration": 15,
    "start_time": "2022-05-10T12:16:03.767Z"
   },
   {
    "duration": 9,
    "start_time": "2022-05-10T12:16:03.784Z"
   },
   {
    "duration": 4,
    "start_time": "2022-05-10T12:16:03.794Z"
   },
   {
    "duration": 27,
    "start_time": "2022-05-10T12:16:03.800Z"
   },
   {
    "duration": 3,
    "start_time": "2022-05-10T12:16:03.829Z"
   },
   {
    "duration": 18,
    "start_time": "2022-05-10T12:16:03.834Z"
   },
   {
    "duration": 16,
    "start_time": "2022-05-10T12:16:03.854Z"
   },
   {
    "duration": 28,
    "start_time": "2022-05-10T12:16:03.872Z"
   },
   {
    "duration": 22,
    "start_time": "2022-05-10T12:16:03.903Z"
   },
   {
    "duration": 13,
    "start_time": "2022-05-10T12:16:03.927Z"
   },
   {
    "duration": 15,
    "start_time": "2022-05-10T12:16:03.941Z"
   },
   {
    "duration": 6,
    "start_time": "2022-05-10T12:16:03.957Z"
   },
   {
    "duration": 45,
    "start_time": "2022-05-10T12:16:03.964Z"
   },
   {
    "duration": 17,
    "start_time": "2022-05-10T12:16:04.011Z"
   },
   {
    "duration": 5,
    "start_time": "2022-05-10T12:16:04.029Z"
   },
   {
    "duration": 13,
    "start_time": "2022-05-10T12:16:04.036Z"
   },
   {
    "duration": 14,
    "start_time": "2022-05-10T12:16:04.050Z"
   },
   {
    "duration": 3,
    "start_time": "2022-05-10T12:16:04.066Z"
   },
   {
    "duration": 50,
    "start_time": "2022-05-10T12:16:04.071Z"
   },
   {
    "duration": 14,
    "start_time": "2022-05-10T12:16:04.122Z"
   },
   {
    "duration": 6,
    "start_time": "2022-05-10T12:16:04.137Z"
   },
   {
    "duration": 14,
    "start_time": "2022-05-10T12:16:04.145Z"
   },
   {
    "duration": 3,
    "start_time": "2022-05-10T12:16:04.163Z"
   },
   {
    "duration": 52,
    "start_time": "2022-05-10T12:16:04.168Z"
   },
   {
    "duration": 16,
    "start_time": "2022-05-10T12:16:04.222Z"
   },
   {
    "duration": 18,
    "start_time": "2022-05-10T12:16:04.239Z"
   },
   {
    "duration": 64,
    "start_time": "2022-05-10T12:16:04.259Z"
   },
   {
    "duration": 18,
    "start_time": "2022-05-10T12:16:04.324Z"
   },
   {
    "duration": 8,
    "start_time": "2022-05-10T12:16:04.343Z"
   },
   {
    "duration": 9,
    "start_time": "2022-05-10T12:16:04.353Z"
   },
   {
    "duration": 7,
    "start_time": "2022-05-10T12:16:04.364Z"
   },
   {
    "duration": 38,
    "start_time": "2022-05-10T12:16:04.372Z"
   },
   {
    "duration": 16,
    "start_time": "2022-05-10T12:16:04.412Z"
   },
   {
    "duration": 795,
    "start_time": "2022-05-10T12:16:04.430Z"
   },
   {
    "duration": 13,
    "start_time": "2022-05-10T12:16:46.045Z"
   },
   {
    "duration": 14,
    "start_time": "2022-05-10T12:16:53.590Z"
   },
   {
    "duration": 538,
    "start_time": "2022-05-10T12:18:20.883Z"
   },
   {
    "duration": 20,
    "start_time": "2022-05-10T12:18:21.423Z"
   },
   {
    "duration": 4,
    "start_time": "2022-05-10T12:18:21.445Z"
   },
   {
    "duration": 25,
    "start_time": "2022-05-10T12:18:21.452Z"
   },
   {
    "duration": 39,
    "start_time": "2022-05-10T12:18:21.479Z"
   },
   {
    "duration": 21,
    "start_time": "2022-05-10T12:18:21.520Z"
   },
   {
    "duration": 20,
    "start_time": "2022-05-10T12:18:21.543Z"
   },
   {
    "duration": 47,
    "start_time": "2022-05-10T12:18:21.565Z"
   },
   {
    "duration": 14,
    "start_time": "2022-05-10T12:18:21.613Z"
   },
   {
    "duration": 8,
    "start_time": "2022-05-10T12:18:21.630Z"
   },
   {
    "duration": 7,
    "start_time": "2022-05-10T12:18:21.640Z"
   },
   {
    "duration": 16,
    "start_time": "2022-05-10T12:18:21.648Z"
   },
   {
    "duration": 1359,
    "start_time": "2022-05-10T12:18:21.666Z"
   },
   {
    "duration": 12,
    "start_time": "2022-05-10T12:18:23.027Z"
   },
   {
    "duration": 11,
    "start_time": "2022-05-10T12:18:23.041Z"
   },
   {
    "duration": 5,
    "start_time": "2022-05-10T12:18:23.054Z"
   },
   {
    "duration": 8,
    "start_time": "2022-05-10T12:18:23.061Z"
   },
   {
    "duration": 31,
    "start_time": "2022-05-10T12:18:23.070Z"
   },
   {
    "duration": 30,
    "start_time": "2022-05-10T12:18:23.102Z"
   },
   {
    "duration": 15,
    "start_time": "2022-05-10T12:18:23.133Z"
   },
   {
    "duration": 4,
    "start_time": "2022-05-10T12:18:23.150Z"
   },
   {
    "duration": 10,
    "start_time": "2022-05-10T12:18:23.155Z"
   },
   {
    "duration": 3,
    "start_time": "2022-05-10T12:18:23.166Z"
   },
   {
    "duration": 18,
    "start_time": "2022-05-10T12:18:23.171Z"
   },
   {
    "duration": 32,
    "start_time": "2022-05-10T12:18:23.191Z"
   },
   {
    "duration": 19,
    "start_time": "2022-05-10T12:18:23.224Z"
   },
   {
    "duration": 24,
    "start_time": "2022-05-10T12:18:23.245Z"
   },
   {
    "duration": 40,
    "start_time": "2022-05-10T12:18:23.274Z"
   },
   {
    "duration": 20,
    "start_time": "2022-05-10T12:18:23.317Z"
   },
   {
    "duration": 8,
    "start_time": "2022-05-10T12:18:23.339Z"
   },
   {
    "duration": 19,
    "start_time": "2022-05-10T12:18:23.349Z"
   },
   {
    "duration": 43,
    "start_time": "2022-05-10T12:18:23.370Z"
   },
   {
    "duration": 7,
    "start_time": "2022-05-10T12:18:23.415Z"
   },
   {
    "duration": 17,
    "start_time": "2022-05-10T12:18:23.424Z"
   },
   {
    "duration": 17,
    "start_time": "2022-05-10T12:18:23.443Z"
   },
   {
    "duration": 6,
    "start_time": "2022-05-10T12:18:23.462Z"
   },
   {
    "duration": 36,
    "start_time": "2022-05-10T12:18:23.470Z"
   },
   {
    "duration": 18,
    "start_time": "2022-05-10T12:18:23.511Z"
   },
   {
    "duration": 6,
    "start_time": "2022-05-10T12:18:23.531Z"
   },
   {
    "duration": 15,
    "start_time": "2022-05-10T12:18:23.538Z"
   },
   {
    "duration": 3,
    "start_time": "2022-05-10T12:18:23.554Z"
   },
   {
    "duration": 42,
    "start_time": "2022-05-10T12:18:23.559Z"
   },
   {
    "duration": 23,
    "start_time": "2022-05-10T12:18:23.602Z"
   },
   {
    "duration": 19,
    "start_time": "2022-05-10T12:18:23.626Z"
   },
   {
    "duration": 54,
    "start_time": "2022-05-10T12:18:23.646Z"
   },
   {
    "duration": 20,
    "start_time": "2022-05-10T12:18:23.702Z"
   },
   {
    "duration": 8,
    "start_time": "2022-05-10T12:18:23.724Z"
   },
   {
    "duration": 11,
    "start_time": "2022-05-10T12:18:23.734Z"
   },
   {
    "duration": 7,
    "start_time": "2022-05-10T12:18:23.746Z"
   },
   {
    "duration": 13,
    "start_time": "2022-05-10T12:18:23.755Z"
   },
   {
    "duration": 44,
    "start_time": "2022-05-10T12:18:23.770Z"
   },
   {
    "duration": 12,
    "start_time": "2022-05-10T12:18:23.817Z"
   },
   {
    "duration": 91,
    "start_time": "2022-05-10T12:20:48.012Z"
   },
   {
    "duration": 17,
    "start_time": "2022-05-10T12:22:04.773Z"
   },
   {
    "duration": 22,
    "start_time": "2022-05-10T12:22:44.744Z"
   },
   {
    "duration": 16,
    "start_time": "2022-05-10T12:22:51.719Z"
   },
   {
    "duration": 16,
    "start_time": "2022-05-10T12:22:57.740Z"
   },
   {
    "duration": 16,
    "start_time": "2022-05-10T12:23:14.738Z"
   },
   {
    "duration": 27,
    "start_time": "2022-05-10T12:23:21.373Z"
   },
   {
    "duration": 522,
    "start_time": "2022-05-10T12:23:29.118Z"
   },
   {
    "duration": 13,
    "start_time": "2022-05-10T12:23:29.642Z"
   },
   {
    "duration": 3,
    "start_time": "2022-05-10T12:23:29.657Z"
   },
   {
    "duration": 14,
    "start_time": "2022-05-10T12:23:29.662Z"
   },
   {
    "duration": 24,
    "start_time": "2022-05-10T12:23:29.678Z"
   },
   {
    "duration": 18,
    "start_time": "2022-05-10T12:23:29.704Z"
   },
   {
    "duration": 18,
    "start_time": "2022-05-10T12:23:29.723Z"
   },
   {
    "duration": 20,
    "start_time": "2022-05-10T12:23:29.742Z"
   },
   {
    "duration": 7,
    "start_time": "2022-05-10T12:23:29.763Z"
   },
   {
    "duration": 8,
    "start_time": "2022-05-10T12:23:29.800Z"
   },
   {
    "duration": 6,
    "start_time": "2022-05-10T12:23:29.809Z"
   },
   {
    "duration": 11,
    "start_time": "2022-05-10T12:23:29.816Z"
   },
   {
    "duration": 1241,
    "start_time": "2022-05-10T12:23:29.828Z"
   },
   {
    "duration": 13,
    "start_time": "2022-05-10T12:23:31.070Z"
   },
   {
    "duration": 21,
    "start_time": "2022-05-10T12:23:31.085Z"
   },
   {
    "duration": 10,
    "start_time": "2022-05-10T12:23:31.108Z"
   },
   {
    "duration": 9,
    "start_time": "2022-05-10T12:23:31.120Z"
   },
   {
    "duration": 19,
    "start_time": "2022-05-10T12:23:31.131Z"
   },
   {
    "duration": 10,
    "start_time": "2022-05-10T12:23:31.152Z"
   },
   {
    "duration": 11,
    "start_time": "2022-05-10T12:23:31.164Z"
   },
   {
    "duration": 5,
    "start_time": "2022-05-10T12:23:31.176Z"
   },
   {
    "duration": 31,
    "start_time": "2022-05-10T12:23:31.183Z"
   },
   {
    "duration": 4,
    "start_time": "2022-05-10T12:23:31.216Z"
   },
   {
    "duration": 23,
    "start_time": "2022-05-10T12:23:31.222Z"
   },
   {
    "duration": 26,
    "start_time": "2022-05-10T12:23:31.247Z"
   },
   {
    "duration": 53,
    "start_time": "2022-05-10T12:23:31.275Z"
   },
   {
    "duration": 24,
    "start_time": "2022-05-10T12:23:31.330Z"
   },
   {
    "duration": 21,
    "start_time": "2022-05-10T12:23:31.359Z"
   },
   {
    "duration": 26,
    "start_time": "2022-05-10T12:23:31.399Z"
   },
   {
    "duration": 9,
    "start_time": "2022-05-10T12:23:31.428Z"
   },
   {
    "duration": 18,
    "start_time": "2022-05-10T12:23:31.439Z"
   },
   {
    "duration": 20,
    "start_time": "2022-05-10T12:23:31.458Z"
   },
   {
    "duration": 25,
    "start_time": "2022-05-10T12:23:31.480Z"
   },
   {
    "duration": 21,
    "start_time": "2022-05-10T12:23:31.506Z"
   },
   {
    "duration": 15,
    "start_time": "2022-05-10T12:23:31.528Z"
   },
   {
    "duration": 4,
    "start_time": "2022-05-10T12:23:31.544Z"
   },
   {
    "duration": 25,
    "start_time": "2022-05-10T12:23:31.550Z"
   },
   {
    "duration": 31,
    "start_time": "2022-05-10T12:23:31.577Z"
   },
   {
    "duration": 11,
    "start_time": "2022-05-10T12:23:31.609Z"
   },
   {
    "duration": 16,
    "start_time": "2022-05-10T12:23:31.621Z"
   },
   {
    "duration": 4,
    "start_time": "2022-05-10T12:23:31.638Z"
   },
   {
    "duration": 19,
    "start_time": "2022-05-10T12:23:31.643Z"
   },
   {
    "duration": 15,
    "start_time": "2022-05-10T12:23:31.663Z"
   },
   {
    "duration": 17,
    "start_time": "2022-05-10T12:23:31.700Z"
   },
   {
    "duration": 34,
    "start_time": "2022-05-10T12:23:31.719Z"
   },
   {
    "duration": 18,
    "start_time": "2022-05-10T12:23:31.754Z"
   },
   {
    "duration": 31,
    "start_time": "2022-05-10T12:23:31.773Z"
   },
   {
    "duration": 13,
    "start_time": "2022-05-10T12:23:31.805Z"
   },
   {
    "duration": 14,
    "start_time": "2022-05-10T12:23:31.819Z"
   },
   {
    "duration": 31,
    "start_time": "2022-05-10T12:23:31.835Z"
   },
   {
    "duration": 22,
    "start_time": "2022-05-10T12:23:31.867Z"
   },
   {
    "duration": 28,
    "start_time": "2022-05-10T12:23:31.890Z"
   },
   {
    "duration": 23,
    "start_time": "2022-05-10T12:23:59.415Z"
   },
   {
    "duration": 30,
    "start_time": "2022-05-10T12:24:16.377Z"
   },
   {
    "duration": 143,
    "start_time": "2022-05-10T12:37:53.202Z"
   },
   {
    "duration": 21,
    "start_time": "2022-05-10T12:38:19.858Z"
   },
   {
    "duration": 13,
    "start_time": "2022-05-10T12:38:40.157Z"
   },
   {
    "duration": 469,
    "start_time": "2022-05-10T12:38:53.949Z"
   },
   {
    "duration": 18,
    "start_time": "2022-05-10T12:38:54.420Z"
   },
   {
    "duration": 4,
    "start_time": "2022-05-10T12:38:54.440Z"
   },
   {
    "duration": 19,
    "start_time": "2022-05-10T12:38:54.446Z"
   },
   {
    "duration": 38,
    "start_time": "2022-05-10T12:38:54.467Z"
   },
   {
    "duration": 24,
    "start_time": "2022-05-10T12:38:54.507Z"
   },
   {
    "duration": 27,
    "start_time": "2022-05-10T12:38:54.533Z"
   },
   {
    "duration": 39,
    "start_time": "2022-05-10T12:38:54.562Z"
   },
   {
    "duration": 9,
    "start_time": "2022-05-10T12:38:54.606Z"
   },
   {
    "duration": 29,
    "start_time": "2022-05-10T12:38:54.617Z"
   },
   {
    "duration": 15,
    "start_time": "2022-05-10T12:38:54.648Z"
   },
   {
    "duration": 18,
    "start_time": "2022-05-10T12:38:54.664Z"
   },
   {
    "duration": 1555,
    "start_time": "2022-05-10T12:38:54.684Z"
   },
   {
    "duration": 12,
    "start_time": "2022-05-10T12:38:56.241Z"
   },
   {
    "duration": 14,
    "start_time": "2022-05-10T12:38:56.255Z"
   },
   {
    "duration": 15,
    "start_time": "2022-05-10T12:38:56.271Z"
   },
   {
    "duration": 14,
    "start_time": "2022-05-10T12:38:56.287Z"
   },
   {
    "duration": 31,
    "start_time": "2022-05-10T12:38:56.305Z"
   },
   {
    "duration": 15,
    "start_time": "2022-05-10T12:38:56.338Z"
   },
   {
    "duration": 14,
    "start_time": "2022-05-10T12:38:56.355Z"
   },
   {
    "duration": 4,
    "start_time": "2022-05-10T12:38:56.371Z"
   },
   {
    "duration": 14,
    "start_time": "2022-05-10T12:38:56.377Z"
   },
   {
    "duration": 4,
    "start_time": "2022-05-10T12:38:56.393Z"
   },
   {
    "duration": 43,
    "start_time": "2022-05-10T12:38:56.399Z"
   },
   {
    "duration": 23,
    "start_time": "2022-05-10T12:38:56.445Z"
   },
   {
    "duration": 20,
    "start_time": "2022-05-10T12:38:56.470Z"
   },
   {
    "duration": 23,
    "start_time": "2022-05-10T12:38:56.492Z"
   },
   {
    "duration": 19,
    "start_time": "2022-05-10T12:38:56.520Z"
   },
   {
    "duration": 19,
    "start_time": "2022-05-10T12:38:56.541Z"
   },
   {
    "duration": 8,
    "start_time": "2022-05-10T12:38:56.562Z"
   },
   {
    "duration": 30,
    "start_time": "2022-05-10T12:38:56.572Z"
   },
   {
    "duration": 24,
    "start_time": "2022-05-10T12:38:56.605Z"
   },
   {
    "duration": 14,
    "start_time": "2022-05-10T12:38:56.630Z"
   },
   {
    "duration": 14,
    "start_time": "2022-05-10T12:38:56.646Z"
   },
   {
    "duration": 16,
    "start_time": "2022-05-10T12:38:56.662Z"
   },
   {
    "duration": 22,
    "start_time": "2022-05-10T12:38:56.680Z"
   },
   {
    "duration": 35,
    "start_time": "2022-05-10T12:38:56.709Z"
   },
   {
    "duration": 15,
    "start_time": "2022-05-10T12:38:56.746Z"
   },
   {
    "duration": 10,
    "start_time": "2022-05-10T12:38:56.762Z"
   },
   {
    "duration": 23,
    "start_time": "2022-05-10T12:38:56.774Z"
   },
   {
    "duration": 9,
    "start_time": "2022-05-10T12:38:56.798Z"
   },
   {
    "duration": 42,
    "start_time": "2022-05-10T12:38:56.809Z"
   },
   {
    "duration": 16,
    "start_time": "2022-05-10T12:38:56.853Z"
   },
   {
    "duration": 18,
    "start_time": "2022-05-10T12:38:56.872Z"
   },
   {
    "duration": 47,
    "start_time": "2022-05-10T12:38:56.892Z"
   },
   {
    "duration": 26,
    "start_time": "2022-05-10T12:38:56.941Z"
   },
   {
    "duration": 9,
    "start_time": "2022-05-10T12:38:56.969Z"
   },
   {
    "duration": 25,
    "start_time": "2022-05-10T12:38:56.980Z"
   },
   {
    "duration": 8,
    "start_time": "2022-05-10T12:38:57.007Z"
   },
   {
    "duration": 21,
    "start_time": "2022-05-10T12:38:57.016Z"
   },
   {
    "duration": 28,
    "start_time": "2022-05-10T12:38:57.039Z"
   },
   {
    "duration": 22,
    "start_time": "2022-05-10T12:38:57.070Z"
   },
   {
    "duration": 161,
    "start_time": "2022-05-10T12:38:57.101Z"
   },
   {
    "duration": 10,
    "start_time": "2022-05-10T12:38:57.264Z"
   },
   {
    "duration": 18,
    "start_time": "2022-05-10T12:39:25.824Z"
   },
   {
    "duration": 134,
    "start_time": "2022-05-10T12:43:37.934Z"
   },
   {
    "duration": 17,
    "start_time": "2022-05-10T12:43:39.323Z"
   },
   {
    "duration": 14,
    "start_time": "2022-05-10T12:43:41.118Z"
   },
   {
    "duration": 247,
    "start_time": "2022-05-10T12:53:37.920Z"
   },
   {
    "duration": 470,
    "start_time": "2022-05-10T13:01:53.025Z"
   },
   {
    "duration": 25,
    "start_time": "2022-05-10T13:01:53.497Z"
   },
   {
    "duration": 3,
    "start_time": "2022-05-10T13:01:53.524Z"
   },
   {
    "duration": 18,
    "start_time": "2022-05-10T13:01:53.529Z"
   },
   {
    "duration": 15,
    "start_time": "2022-05-10T13:01:53.549Z"
   },
   {
    "duration": 41,
    "start_time": "2022-05-10T13:01:53.566Z"
   },
   {
    "duration": 23,
    "start_time": "2022-05-10T13:01:53.609Z"
   },
   {
    "duration": 18,
    "start_time": "2022-05-10T13:01:53.634Z"
   },
   {
    "duration": 7,
    "start_time": "2022-05-10T13:01:53.653Z"
   },
   {
    "duration": 7,
    "start_time": "2022-05-10T13:01:53.663Z"
   },
   {
    "duration": 36,
    "start_time": "2022-05-10T13:01:53.671Z"
   },
   {
    "duration": 20,
    "start_time": "2022-05-10T13:01:53.708Z"
   },
   {
    "duration": 1315,
    "start_time": "2022-05-10T13:01:53.729Z"
   },
   {
    "duration": 12,
    "start_time": "2022-05-10T13:01:55.046Z"
   },
   {
    "duration": 14,
    "start_time": "2022-05-10T13:01:55.059Z"
   },
   {
    "duration": 7,
    "start_time": "2022-05-10T13:01:55.075Z"
   },
   {
    "duration": 17,
    "start_time": "2022-05-10T13:01:55.083Z"
   },
   {
    "duration": 20,
    "start_time": "2022-05-10T13:01:55.102Z"
   },
   {
    "duration": 14,
    "start_time": "2022-05-10T13:01:55.124Z"
   },
   {
    "duration": 13,
    "start_time": "2022-05-10T13:01:55.139Z"
   },
   {
    "duration": 4,
    "start_time": "2022-05-10T13:01:55.153Z"
   },
   {
    "duration": 12,
    "start_time": "2022-05-10T13:01:55.159Z"
   },
   {
    "duration": 4,
    "start_time": "2022-05-10T13:01:55.173Z"
   },
   {
    "duration": 44,
    "start_time": "2022-05-10T13:01:55.178Z"
   },
   {
    "duration": 25,
    "start_time": "2022-05-10T13:01:55.224Z"
   },
   {
    "duration": 18,
    "start_time": "2022-05-10T13:01:55.251Z"
   },
   {
    "duration": 34,
    "start_time": "2022-05-10T13:01:55.270Z"
   },
   {
    "duration": 19,
    "start_time": "2022-05-10T13:01:55.310Z"
   },
   {
    "duration": 19,
    "start_time": "2022-05-10T13:01:55.331Z"
   },
   {
    "duration": 9,
    "start_time": "2022-05-10T13:01:55.352Z"
   },
   {
    "duration": 14,
    "start_time": "2022-05-10T13:01:55.362Z"
   },
   {
    "duration": 24,
    "start_time": "2022-05-10T13:01:55.401Z"
   },
   {
    "duration": 6,
    "start_time": "2022-05-10T13:01:55.427Z"
   },
   {
    "duration": 22,
    "start_time": "2022-05-10T13:01:55.434Z"
   },
   {
    "duration": 16,
    "start_time": "2022-05-10T13:01:55.457Z"
   },
   {
    "duration": 4,
    "start_time": "2022-05-10T13:01:55.474Z"
   },
   {
    "duration": 44,
    "start_time": "2022-05-10T13:01:55.480Z"
   },
   {
    "duration": 15,
    "start_time": "2022-05-10T13:01:55.525Z"
   },
   {
    "duration": 6,
    "start_time": "2022-05-10T13:01:55.542Z"
   },
   {
    "duration": 19,
    "start_time": "2022-05-10T13:01:55.549Z"
   },
   {
    "duration": 33,
    "start_time": "2022-05-10T13:01:55.569Z"
   },
   {
    "duration": 31,
    "start_time": "2022-05-10T13:01:55.604Z"
   },
   {
    "duration": 15,
    "start_time": "2022-05-10T13:01:55.637Z"
   },
   {
    "duration": 24,
    "start_time": "2022-05-10T13:01:55.654Z"
   },
   {
    "duration": 64,
    "start_time": "2022-05-10T13:01:55.680Z"
   },
   {
    "duration": 19,
    "start_time": "2022-05-10T13:01:55.745Z"
   },
   {
    "duration": 7,
    "start_time": "2022-05-10T13:01:55.765Z"
   },
   {
    "duration": 17,
    "start_time": "2022-05-10T13:01:55.774Z"
   },
   {
    "duration": 11,
    "start_time": "2022-05-10T13:01:55.800Z"
   },
   {
    "duration": 17,
    "start_time": "2022-05-10T13:01:55.813Z"
   },
   {
    "duration": 12,
    "start_time": "2022-05-10T13:01:55.831Z"
   },
   {
    "duration": 19,
    "start_time": "2022-05-10T13:01:55.844Z"
   },
   {
    "duration": 165,
    "start_time": "2022-05-10T13:01:55.864Z"
   },
   {
    "duration": 20,
    "start_time": "2022-05-10T13:01:56.030Z"
   },
   {
    "duration": 12,
    "start_time": "2022-05-10T13:01:56.052Z"
   },
   {
    "duration": 3,
    "start_time": "2022-05-10T13:39:49.335Z"
   },
   {
    "duration": 3,
    "start_time": "2022-05-10T13:39:52.735Z"
   },
   {
    "duration": 138,
    "start_time": "2022-05-10T13:50:46.967Z"
   },
   {
    "duration": 7,
    "start_time": "2022-05-10T13:50:56.536Z"
   },
   {
    "duration": 13,
    "start_time": "2022-05-10T14:55:35.261Z"
   },
   {
    "duration": 5,
    "start_time": "2022-05-10T14:58:37.704Z"
   },
   {
    "duration": 5,
    "start_time": "2022-05-10T14:59:26.712Z"
   },
   {
    "duration": 13,
    "start_time": "2022-05-10T15:02:24.823Z"
   },
   {
    "duration": 4,
    "start_time": "2022-05-10T15:04:01.195Z"
   },
   {
    "duration": 559,
    "start_time": "2022-05-10T15:04:07.475Z"
   },
   {
    "duration": 14,
    "start_time": "2022-05-10T15:04:08.036Z"
   },
   {
    "duration": 3,
    "start_time": "2022-05-10T15:04:08.052Z"
   },
   {
    "duration": 19,
    "start_time": "2022-05-10T15:04:08.057Z"
   },
   {
    "duration": 31,
    "start_time": "2022-05-10T15:04:08.077Z"
   },
   {
    "duration": 26,
    "start_time": "2022-05-10T15:04:08.110Z"
   },
   {
    "duration": 19,
    "start_time": "2022-05-10T15:04:08.138Z"
   },
   {
    "duration": 44,
    "start_time": "2022-05-10T15:04:08.159Z"
   },
   {
    "duration": 8,
    "start_time": "2022-05-10T15:04:08.205Z"
   },
   {
    "duration": 16,
    "start_time": "2022-05-10T15:04:08.216Z"
   },
   {
    "duration": 8,
    "start_time": "2022-05-10T15:04:08.234Z"
   },
   {
    "duration": 13,
    "start_time": "2022-05-10T15:04:08.243Z"
   },
   {
    "duration": 1289,
    "start_time": "2022-05-10T15:04:08.257Z"
   },
   {
    "duration": 12,
    "start_time": "2022-05-10T15:04:09.548Z"
   },
   {
    "duration": 22,
    "start_time": "2022-05-10T15:04:09.561Z"
   },
   {
    "duration": 7,
    "start_time": "2022-05-10T15:04:09.584Z"
   },
   {
    "duration": 4,
    "start_time": "2022-05-10T15:04:09.599Z"
   },
   {
    "duration": 14,
    "start_time": "2022-05-10T15:04:09.604Z"
   },
   {
    "duration": 17,
    "start_time": "2022-05-10T15:04:09.620Z"
   },
   {
    "duration": 11,
    "start_time": "2022-05-10T15:04:09.639Z"
   },
   {
    "duration": 4,
    "start_time": "2022-05-10T15:04:09.651Z"
   },
   {
    "duration": 15,
    "start_time": "2022-05-10T15:04:09.657Z"
   },
   {
    "duration": 26,
    "start_time": "2022-05-10T15:04:09.674Z"
   },
   {
    "duration": 5,
    "start_time": "2022-05-10T15:04:09.701Z"
   },
   {
    "duration": 18,
    "start_time": "2022-05-10T15:04:09.707Z"
   },
   {
    "duration": 16,
    "start_time": "2022-05-10T15:04:09.726Z"
   },
   {
    "duration": 19,
    "start_time": "2022-05-10T15:04:09.744Z"
   },
   {
    "duration": 40,
    "start_time": "2022-05-10T15:04:09.766Z"
   },
   {
    "duration": 12,
    "start_time": "2022-05-10T15:04:09.808Z"
   },
   {
    "duration": 14,
    "start_time": "2022-05-10T15:04:09.822Z"
   },
   {
    "duration": 6,
    "start_time": "2022-05-10T15:04:09.837Z"
   },
   {
    "duration": 21,
    "start_time": "2022-05-10T15:04:09.845Z"
   },
   {
    "duration": 49,
    "start_time": "2022-05-10T15:04:09.868Z"
   },
   {
    "duration": 8,
    "start_time": "2022-05-10T15:04:09.919Z"
   },
   {
    "duration": 21,
    "start_time": "2022-05-10T15:04:09.929Z"
   },
   {
    "duration": 24,
    "start_time": "2022-05-10T15:04:09.951Z"
   },
   {
    "duration": 27,
    "start_time": "2022-05-10T15:04:09.977Z"
   },
   {
    "duration": 36,
    "start_time": "2022-05-10T15:04:10.006Z"
   },
   {
    "duration": 24,
    "start_time": "2022-05-10T15:04:10.044Z"
   },
   {
    "duration": 8,
    "start_time": "2022-05-10T15:04:10.070Z"
   },
   {
    "duration": 29,
    "start_time": "2022-05-10T15:04:10.079Z"
   },
   {
    "duration": 4,
    "start_time": "2022-05-10T15:04:10.110Z"
   },
   {
    "duration": 17,
    "start_time": "2022-05-10T15:04:10.115Z"
   },
   {
    "duration": 16,
    "start_time": "2022-05-10T15:04:10.134Z"
   },
   {
    "duration": 17,
    "start_time": "2022-05-10T15:04:10.151Z"
   },
   {
    "duration": 60,
    "start_time": "2022-05-10T15:04:10.171Z"
   },
   {
    "duration": 18,
    "start_time": "2022-05-10T15:04:10.232Z"
   },
   {
    "duration": 8,
    "start_time": "2022-05-10T15:04:10.252Z"
   },
   {
    "duration": 10,
    "start_time": "2022-05-10T15:04:10.262Z"
   },
   {
    "duration": 33,
    "start_time": "2022-05-10T15:04:10.274Z"
   },
   {
    "duration": 11,
    "start_time": "2022-05-10T15:04:10.309Z"
   },
   {
    "duration": 14,
    "start_time": "2022-05-10T15:04:10.322Z"
   },
   {
    "duration": 69,
    "start_time": "2022-05-10T15:04:10.338Z"
   },
   {
    "duration": 237,
    "start_time": "2022-05-10T15:04:10.409Z"
   },
   {
    "duration": 29,
    "start_time": "2022-05-10T15:04:10.700Z"
   },
   {
    "duration": 74,
    "start_time": "2022-05-10T15:04:10.731Z"
   },
   {
    "duration": 12,
    "start_time": "2022-05-10T15:04:10.807Z"
   },
   {
    "duration": 11,
    "start_time": "2022-05-10T15:04:10.821Z"
   },
   {
    "duration": 9,
    "start_time": "2022-05-10T15:04:10.833Z"
   },
   {
    "duration": 61,
    "start_time": "2022-05-10T15:04:10.844Z"
   },
   {
    "duration": 49,
    "start_time": "2022-05-10T18:17:46.253Z"
   },
   {
    "duration": 466,
    "start_time": "2022-05-10T18:17:55.017Z"
   },
   {
    "duration": 17,
    "start_time": "2022-05-10T18:17:55.485Z"
   },
   {
    "duration": 5,
    "start_time": "2022-05-10T18:17:55.503Z"
   },
   {
    "duration": 16,
    "start_time": "2022-05-10T18:17:55.510Z"
   },
   {
    "duration": 15,
    "start_time": "2022-05-10T18:17:55.528Z"
   },
   {
    "duration": 18,
    "start_time": "2022-05-10T18:17:55.544Z"
   },
   {
    "duration": 50,
    "start_time": "2022-05-10T18:17:55.563Z"
   },
   {
    "duration": 20,
    "start_time": "2022-05-10T18:17:55.615Z"
   },
   {
    "duration": 6,
    "start_time": "2022-05-10T18:17:55.637Z"
   },
   {
    "duration": 7,
    "start_time": "2022-05-10T18:17:55.647Z"
   },
   {
    "duration": 6,
    "start_time": "2022-05-10T18:17:55.655Z"
   },
   {
    "duration": 45,
    "start_time": "2022-05-10T18:17:55.663Z"
   },
   {
    "duration": 1531,
    "start_time": "2022-05-10T18:17:55.710Z"
   },
   {
    "duration": 15,
    "start_time": "2022-05-10T18:17:57.243Z"
   },
   {
    "duration": 14,
    "start_time": "2022-05-10T18:17:57.260Z"
   },
   {
    "duration": 9,
    "start_time": "2022-05-10T18:17:57.276Z"
   },
   {
    "duration": 22,
    "start_time": "2022-05-10T18:17:57.286Z"
   },
   {
    "duration": 13,
    "start_time": "2022-05-10T18:17:57.310Z"
   },
   {
    "duration": 11,
    "start_time": "2022-05-10T18:17:57.324Z"
   },
   {
    "duration": 12,
    "start_time": "2022-05-10T18:17:57.337Z"
   },
   {
    "duration": 5,
    "start_time": "2022-05-10T18:17:57.350Z"
   },
   {
    "duration": 11,
    "start_time": "2022-05-10T18:17:57.357Z"
   },
   {
    "duration": 39,
    "start_time": "2022-05-10T18:17:57.370Z"
   },
   {
    "duration": 5,
    "start_time": "2022-05-10T18:17:57.411Z"
   },
   {
    "duration": 5,
    "start_time": "2022-05-10T18:17:57.418Z"
   },
   {
    "duration": 15,
    "start_time": "2022-05-10T18:17:57.425Z"
   },
   {
    "duration": 18,
    "start_time": "2022-05-10T18:17:57.442Z"
   },
   {
    "duration": 56,
    "start_time": "2022-05-10T18:17:57.464Z"
   },
   {
    "duration": 19,
    "start_time": "2022-05-10T18:17:57.522Z"
   },
   {
    "duration": 16,
    "start_time": "2022-05-10T18:17:57.542Z"
   },
   {
    "duration": 17,
    "start_time": "2022-05-10T18:17:57.559Z"
   },
   {
    "duration": 34,
    "start_time": "2022-05-10T18:17:57.578Z"
   },
   {
    "duration": 16,
    "start_time": "2022-05-10T18:17:57.613Z"
   },
   {
    "duration": 20,
    "start_time": "2022-05-10T18:17:57.631Z"
   },
   {
    "duration": 6,
    "start_time": "2022-05-10T18:17:57.652Z"
   },
   {
    "duration": 48,
    "start_time": "2022-05-10T18:17:57.660Z"
   },
   {
    "duration": 17,
    "start_time": "2022-05-10T18:17:57.710Z"
   },
   {
    "duration": 4,
    "start_time": "2022-05-10T18:17:57.729Z"
   },
   {
    "duration": 19,
    "start_time": "2022-05-10T18:17:57.735Z"
   },
   {
    "duration": 17,
    "start_time": "2022-05-10T18:17:57.755Z"
   },
   {
    "duration": 36,
    "start_time": "2022-05-10T18:17:57.773Z"
   },
   {
    "duration": 14,
    "start_time": "2022-05-10T18:17:57.810Z"
   },
   {
    "duration": 4,
    "start_time": "2022-05-10T18:17:57.826Z"
   },
   {
    "duration": 19,
    "start_time": "2022-05-10T18:17:57.831Z"
   },
   {
    "duration": 17,
    "start_time": "2022-05-10T18:17:57.852Z"
   },
   {
    "duration": 49,
    "start_time": "2022-05-10T18:17:57.871Z"
   },
   {
    "duration": 38,
    "start_time": "2022-05-10T18:17:57.923Z"
   },
   {
    "duration": 45,
    "start_time": "2022-05-10T18:17:57.963Z"
   },
   {
    "duration": 9,
    "start_time": "2022-05-10T18:17:58.010Z"
   },
   {
    "duration": 11,
    "start_time": "2022-05-10T18:17:58.021Z"
   },
   {
    "duration": 8,
    "start_time": "2022-05-10T18:17:58.034Z"
   },
   {
    "duration": 11,
    "start_time": "2022-05-10T18:17:58.044Z"
   },
   {
    "duration": 12,
    "start_time": "2022-05-10T18:17:58.057Z"
   },
   {
    "duration": 22,
    "start_time": "2022-05-10T18:17:58.108Z"
   },
   {
    "duration": 162,
    "start_time": "2022-05-10T18:17:58.132Z"
   },
   {
    "duration": 28,
    "start_time": "2022-05-10T18:17:58.296Z"
   },
   {
    "duration": 14,
    "start_time": "2022-05-10T18:17:58.326Z"
   },
   {
    "duration": 8,
    "start_time": "2022-05-10T18:17:58.341Z"
   },
   {
    "duration": 6,
    "start_time": "2022-05-10T18:17:58.351Z"
   },
   {
    "duration": 6,
    "start_time": "2022-05-10T18:17:58.359Z"
   },
   {
    "duration": 48,
    "start_time": "2022-05-10T18:17:58.366Z"
   },
   {
    "duration": 8,
    "start_time": "2022-05-10T18:18:26.782Z"
   },
   {
    "duration": 485,
    "start_time": "2022-05-10T18:18:37.196Z"
   },
   {
    "duration": 17,
    "start_time": "2022-05-10T18:18:37.684Z"
   },
   {
    "duration": 4,
    "start_time": "2022-05-10T18:18:37.707Z"
   },
   {
    "duration": 16,
    "start_time": "2022-05-10T18:18:37.712Z"
   },
   {
    "duration": 15,
    "start_time": "2022-05-10T18:18:37.730Z"
   },
   {
    "duration": 17,
    "start_time": "2022-05-10T18:18:37.746Z"
   },
   {
    "duration": 54,
    "start_time": "2022-05-10T18:18:37.765Z"
   },
   {
    "duration": 22,
    "start_time": "2022-05-10T18:18:37.820Z"
   },
   {
    "duration": 6,
    "start_time": "2022-05-10T18:18:37.844Z"
   },
   {
    "duration": 7,
    "start_time": "2022-05-10T18:18:37.853Z"
   },
   {
    "duration": 6,
    "start_time": "2022-05-10T18:18:37.862Z"
   },
   {
    "duration": 44,
    "start_time": "2022-05-10T18:18:37.870Z"
   },
   {
    "duration": 1376,
    "start_time": "2022-05-10T18:18:37.916Z"
   },
   {
    "duration": 19,
    "start_time": "2022-05-10T18:18:39.293Z"
   },
   {
    "duration": 9,
    "start_time": "2022-05-10T18:18:39.314Z"
   },
   {
    "duration": 6,
    "start_time": "2022-05-10T18:18:39.325Z"
   },
   {
    "duration": 6,
    "start_time": "2022-05-10T18:18:39.332Z"
   },
   {
    "duration": 13,
    "start_time": "2022-05-10T18:18:39.340Z"
   },
   {
    "duration": 9,
    "start_time": "2022-05-10T18:18:39.355Z"
   },
   {
    "duration": 8,
    "start_time": "2022-05-10T18:18:39.366Z"
   },
   {
    "duration": 5,
    "start_time": "2022-05-10T18:18:39.408Z"
   },
   {
    "duration": 12,
    "start_time": "2022-05-10T18:18:39.414Z"
   },
   {
    "duration": 9,
    "start_time": "2022-05-10T18:18:39.427Z"
   },
   {
    "duration": 5,
    "start_time": "2022-05-10T18:18:39.438Z"
   },
   {
    "duration": 4,
    "start_time": "2022-05-10T18:18:39.445Z"
   },
   {
    "duration": 18,
    "start_time": "2022-05-10T18:18:39.450Z"
   },
   {
    "duration": 54,
    "start_time": "2022-05-10T18:18:39.470Z"
   },
   {
    "duration": 22,
    "start_time": "2022-05-10T18:18:39.528Z"
   },
   {
    "duration": 18,
    "start_time": "2022-05-10T18:18:39.551Z"
   },
   {
    "duration": 38,
    "start_time": "2022-05-10T18:18:39.571Z"
   },
   {
    "duration": 18,
    "start_time": "2022-05-10T18:18:39.611Z"
   },
   {
    "duration": 8,
    "start_time": "2022-05-10T18:18:39.630Z"
   },
   {
    "duration": 18,
    "start_time": "2022-05-10T18:18:39.640Z"
   },
   {
    "duration": 53,
    "start_time": "2022-05-10T18:18:39.660Z"
   },
   {
    "duration": 7,
    "start_time": "2022-05-10T18:18:39.714Z"
   },
   {
    "duration": 15,
    "start_time": "2022-05-10T18:18:39.722Z"
   },
   {
    "duration": 17,
    "start_time": "2022-05-10T18:18:39.739Z"
   },
   {
    "duration": 5,
    "start_time": "2022-05-10T18:18:39.757Z"
   },
   {
    "duration": 50,
    "start_time": "2022-05-10T18:18:39.763Z"
   },
   {
    "duration": 17,
    "start_time": "2022-05-10T18:18:39.814Z"
   },
   {
    "duration": 7,
    "start_time": "2022-05-10T18:18:39.833Z"
   },
   {
    "duration": 15,
    "start_time": "2022-05-10T18:18:39.841Z"
   },
   {
    "duration": 4,
    "start_time": "2022-05-10T18:18:39.858Z"
   },
   {
    "duration": 48,
    "start_time": "2022-05-10T18:18:39.863Z"
   },
   {
    "duration": 17,
    "start_time": "2022-05-10T18:18:39.913Z"
   },
   {
    "duration": 20,
    "start_time": "2022-05-10T18:18:39.932Z"
   },
   {
    "duration": 62,
    "start_time": "2022-05-10T18:18:39.953Z"
   },
   {
    "duration": 20,
    "start_time": "2022-05-10T18:18:40.017Z"
   },
   {
    "duration": 8,
    "start_time": "2022-05-10T18:18:40.038Z"
   },
   {
    "duration": 12,
    "start_time": "2022-05-10T18:18:40.048Z"
   },
   {
    "duration": 8,
    "start_time": "2022-05-10T18:18:40.062Z"
   },
   {
    "duration": 37,
    "start_time": "2022-05-10T18:18:40.071Z"
   },
   {
    "duration": 14,
    "start_time": "2022-05-10T18:18:40.110Z"
   },
   {
    "duration": 23,
    "start_time": "2022-05-10T18:18:40.126Z"
   },
   {
    "duration": 167,
    "start_time": "2022-05-10T18:18:40.150Z"
   },
   {
    "duration": 19,
    "start_time": "2022-05-10T18:18:40.319Z"
   },
   {
    "duration": 13,
    "start_time": "2022-05-10T18:18:40.340Z"
   },
   {
    "duration": 8,
    "start_time": "2022-05-10T18:18:40.355Z"
   },
   {
    "duration": 7,
    "start_time": "2022-05-10T18:18:40.364Z"
   },
   {
    "duration": 36,
    "start_time": "2022-05-10T18:18:40.372Z"
   },
   {
    "duration": 14,
    "start_time": "2022-05-10T18:18:40.410Z"
   },
   {
    "duration": 9,
    "start_time": "2022-05-10T18:20:10.392Z"
   },
   {
    "duration": 491,
    "start_time": "2022-05-10T18:20:26.196Z"
   },
   {
    "duration": 17,
    "start_time": "2022-05-10T18:20:26.689Z"
   },
   {
    "duration": 4,
    "start_time": "2022-05-10T18:20:26.707Z"
   },
   {
    "duration": 16,
    "start_time": "2022-05-10T18:20:26.713Z"
   },
   {
    "duration": 16,
    "start_time": "2022-05-10T18:20:26.731Z"
   },
   {
    "duration": 18,
    "start_time": "2022-05-10T18:20:26.749Z"
   },
   {
    "duration": 57,
    "start_time": "2022-05-10T18:20:26.769Z"
   },
   {
    "duration": 22,
    "start_time": "2022-05-10T18:20:26.828Z"
   },
   {
    "duration": 7,
    "start_time": "2022-05-10T18:20:26.852Z"
   },
   {
    "duration": 10,
    "start_time": "2022-05-10T18:20:26.861Z"
   },
   {
    "duration": 40,
    "start_time": "2022-05-10T18:20:26.873Z"
   },
   {
    "duration": 12,
    "start_time": "2022-05-10T18:20:26.915Z"
   },
   {
    "duration": 1368,
    "start_time": "2022-05-10T18:20:26.929Z"
   },
   {
    "duration": 18,
    "start_time": "2022-05-10T18:20:28.299Z"
   },
   {
    "duration": 11,
    "start_time": "2022-05-10T18:20:28.319Z"
   },
   {
    "duration": 11,
    "start_time": "2022-05-10T18:20:28.332Z"
   },
   {
    "duration": 7,
    "start_time": "2022-05-10T18:20:28.345Z"
   },
   {
    "duration": 15,
    "start_time": "2022-05-10T18:20:28.354Z"
   },
   {
    "duration": 37,
    "start_time": "2022-05-10T18:20:28.371Z"
   },
   {
    "duration": 9,
    "start_time": "2022-05-10T18:20:28.411Z"
   },
   {
    "duration": 6,
    "start_time": "2022-05-10T18:20:28.422Z"
   },
   {
    "duration": 13,
    "start_time": "2022-05-10T18:20:28.430Z"
   },
   {
    "duration": 14,
    "start_time": "2022-05-10T18:20:28.445Z"
   },
   {
    "duration": 47,
    "start_time": "2022-05-10T18:20:28.461Z"
   },
   {
    "duration": 4,
    "start_time": "2022-05-10T18:20:28.510Z"
   },
   {
    "duration": 22,
    "start_time": "2022-05-10T18:20:28.515Z"
   },
   {
    "duration": 18,
    "start_time": "2022-05-10T18:20:28.539Z"
   },
   {
    "duration": 57,
    "start_time": "2022-05-10T18:20:28.561Z"
   },
   {
    "duration": 19,
    "start_time": "2022-05-10T18:20:28.619Z"
   },
   {
    "duration": 15,
    "start_time": "2022-05-10T18:20:28.640Z"
   },
   {
    "duration": 18,
    "start_time": "2022-05-10T18:20:28.657Z"
   },
   {
    "duration": 9,
    "start_time": "2022-05-10T18:20:28.706Z"
   },
   {
    "duration": 22,
    "start_time": "2022-05-10T18:20:28.717Z"
   },
   {
    "duration": 26,
    "start_time": "2022-05-10T18:20:28.742Z"
   },
   {
    "duration": 7,
    "start_time": "2022-05-10T18:20:28.770Z"
   },
   {
    "duration": 17,
    "start_time": "2022-05-10T18:20:28.809Z"
   },
   {
    "duration": 19,
    "start_time": "2022-05-10T18:20:28.828Z"
   },
   {
    "duration": 5,
    "start_time": "2022-05-10T18:20:28.849Z"
   },
   {
    "duration": 53,
    "start_time": "2022-05-10T18:20:28.856Z"
   },
   {
    "duration": 17,
    "start_time": "2022-05-10T18:20:28.911Z"
   },
   {
    "duration": 6,
    "start_time": "2022-05-10T18:20:28.931Z"
   },
   {
    "duration": 15,
    "start_time": "2022-05-10T18:20:28.939Z"
   },
   {
    "duration": 5,
    "start_time": "2022-05-10T18:20:28.955Z"
   },
   {
    "duration": 58,
    "start_time": "2022-05-10T18:20:28.962Z"
   },
   {
    "duration": 18,
    "start_time": "2022-05-10T18:20:29.021Z"
   },
   {
    "duration": 24,
    "start_time": "2022-05-10T18:20:29.041Z"
   },
   {
    "duration": 63,
    "start_time": "2022-05-10T18:20:29.067Z"
   },
   {
    "duration": 22,
    "start_time": "2022-05-10T18:20:29.132Z"
   },
   {
    "duration": 9,
    "start_time": "2022-05-10T18:20:29.156Z"
   },
   {
    "duration": 12,
    "start_time": "2022-05-10T18:20:29.166Z"
   },
   {
    "duration": 9,
    "start_time": "2022-05-10T18:20:29.207Z"
   },
   {
    "duration": 11,
    "start_time": "2022-05-10T18:20:29.218Z"
   },
   {
    "duration": 13,
    "start_time": "2022-05-10T18:20:29.231Z"
   },
   {
    "duration": 21,
    "start_time": "2022-05-10T18:20:29.246Z"
   },
   {
    "duration": 187,
    "start_time": "2022-05-10T18:20:29.269Z"
   },
   {
    "duration": 21,
    "start_time": "2022-05-10T18:20:29.458Z"
   },
   {
    "duration": 28,
    "start_time": "2022-05-10T18:20:29.480Z"
   },
   {
    "duration": 9,
    "start_time": "2022-05-10T18:20:29.510Z"
   },
   {
    "duration": 7,
    "start_time": "2022-05-10T18:20:29.520Z"
   },
   {
    "duration": 6,
    "start_time": "2022-05-10T18:20:29.528Z"
   },
   {
    "duration": 14,
    "start_time": "2022-05-10T18:20:29.535Z"
   },
   {
    "duration": 5,
    "start_time": "2022-05-10T18:22:27.776Z"
   },
   {
    "duration": 5,
    "start_time": "2022-05-10T18:22:41.996Z"
   },
   {
    "duration": 9,
    "start_time": "2022-05-10T18:22:42.618Z"
   },
   {
    "duration": 8,
    "start_time": "2022-05-10T18:23:02.765Z"
   },
   {
    "duration": 484,
    "start_time": "2022-05-10T18:23:17.434Z"
   },
   {
    "duration": 19,
    "start_time": "2022-05-10T18:23:17.921Z"
   },
   {
    "duration": 4,
    "start_time": "2022-05-10T18:23:17.942Z"
   },
   {
    "duration": 17,
    "start_time": "2022-05-10T18:23:17.948Z"
   },
   {
    "duration": 42,
    "start_time": "2022-05-10T18:23:17.968Z"
   },
   {
    "duration": 19,
    "start_time": "2022-05-10T18:23:18.012Z"
   },
   {
    "duration": 22,
    "start_time": "2022-05-10T18:23:18.033Z"
   },
   {
    "duration": 51,
    "start_time": "2022-05-10T18:23:18.057Z"
   },
   {
    "duration": 8,
    "start_time": "2022-05-10T18:23:18.111Z"
   },
   {
    "duration": 8,
    "start_time": "2022-05-10T18:23:18.124Z"
   },
   {
    "duration": 9,
    "start_time": "2022-05-10T18:23:18.133Z"
   },
   {
    "duration": 12,
    "start_time": "2022-05-10T18:23:18.144Z"
   },
   {
    "duration": 1398,
    "start_time": "2022-05-10T18:23:18.157Z"
   },
   {
    "duration": 14,
    "start_time": "2022-05-10T18:23:19.557Z"
   },
   {
    "duration": 8,
    "start_time": "2022-05-10T18:23:19.573Z"
   },
   {
    "duration": 27,
    "start_time": "2022-05-10T18:23:19.583Z"
   },
   {
    "duration": 5,
    "start_time": "2022-05-10T18:23:19.612Z"
   },
   {
    "duration": 3,
    "start_time": "2022-05-10T18:23:19.619Z"
   },
   {
    "duration": 14,
    "start_time": "2022-05-10T18:23:19.624Z"
   },
   {
    "duration": 10,
    "start_time": "2022-05-10T18:23:19.639Z"
   },
   {
    "duration": 10,
    "start_time": "2022-05-10T18:23:19.651Z"
   },
   {
    "duration": 5,
    "start_time": "2022-05-10T18:23:19.663Z"
   },
   {
    "duration": 12,
    "start_time": "2022-05-10T18:23:19.708Z"
   },
   {
    "duration": 5,
    "start_time": "2022-05-10T18:23:19.723Z"
   },
   {
    "duration": 10,
    "start_time": "2022-05-10T18:23:19.729Z"
   },
   {
    "duration": 6,
    "start_time": "2022-05-10T18:23:19.740Z"
   },
   {
    "duration": 4,
    "start_time": "2022-05-10T18:23:19.748Z"
   },
   {
    "duration": 52,
    "start_time": "2022-05-10T18:23:19.756Z"
   },
   {
    "duration": 19,
    "start_time": "2022-05-10T18:23:19.810Z"
   },
   {
    "duration": 23,
    "start_time": "2022-05-10T18:23:19.831Z"
   },
   {
    "duration": 18,
    "start_time": "2022-05-10T18:23:19.856Z"
   },
   {
    "duration": 40,
    "start_time": "2022-05-10T18:23:19.875Z"
   },
   {
    "duration": 17,
    "start_time": "2022-05-10T18:23:19.917Z"
   },
   {
    "duration": 6,
    "start_time": "2022-05-10T18:23:19.936Z"
   },
   {
    "duration": 15,
    "start_time": "2022-05-10T18:23:19.944Z"
   },
   {
    "duration": 51,
    "start_time": "2022-05-10T18:23:19.961Z"
   },
   {
    "duration": 6,
    "start_time": "2022-05-10T18:23:20.014Z"
   },
   {
    "duration": 17,
    "start_time": "2022-05-10T18:23:20.022Z"
   },
   {
    "duration": 18,
    "start_time": "2022-05-10T18:23:20.041Z"
   },
   {
    "duration": 4,
    "start_time": "2022-05-10T18:23:20.061Z"
   },
   {
    "duration": 51,
    "start_time": "2022-05-10T18:23:20.066Z"
   },
   {
    "duration": 16,
    "start_time": "2022-05-10T18:23:20.119Z"
   },
   {
    "duration": 7,
    "start_time": "2022-05-10T18:23:20.137Z"
   },
   {
    "duration": 17,
    "start_time": "2022-05-10T18:23:20.146Z"
   },
   {
    "duration": 4,
    "start_time": "2022-05-10T18:23:20.165Z"
   },
   {
    "duration": 45,
    "start_time": "2022-05-10T18:23:20.170Z"
   },
   {
    "duration": 17,
    "start_time": "2022-05-10T18:23:20.217Z"
   },
   {
    "duration": 20,
    "start_time": "2022-05-10T18:23:20.236Z"
   },
   {
    "duration": 58,
    "start_time": "2022-05-10T18:23:20.258Z"
   },
   {
    "duration": 20,
    "start_time": "2022-05-10T18:23:20.317Z"
   },
   {
    "duration": 8,
    "start_time": "2022-05-10T18:23:20.339Z"
   },
   {
    "duration": 11,
    "start_time": "2022-05-10T18:23:20.349Z"
   },
   {
    "duration": 8,
    "start_time": "2022-05-10T18:23:20.362Z"
   },
   {
    "duration": 46,
    "start_time": "2022-05-10T18:23:20.371Z"
   },
   {
    "duration": 13,
    "start_time": "2022-05-10T18:23:20.419Z"
   },
   {
    "duration": 37,
    "start_time": "2022-05-10T18:23:20.434Z"
   },
   {
    "duration": 154,
    "start_time": "2022-05-10T18:23:20.474Z"
   },
   {
    "duration": 20,
    "start_time": "2022-05-10T18:23:20.630Z"
   },
   {
    "duration": 14,
    "start_time": "2022-05-10T18:23:20.652Z"
   },
   {
    "duration": 12,
    "start_time": "2022-05-10T18:23:20.668Z"
   },
   {
    "duration": 25,
    "start_time": "2022-05-10T18:23:20.682Z"
   },
   {
    "duration": 8,
    "start_time": "2022-05-10T18:23:20.709Z"
   },
   {
    "duration": 21,
    "start_time": "2022-05-10T18:23:20.719Z"
   },
   {
    "duration": 98,
    "start_time": "2022-05-10T18:24:34.147Z"
   },
   {
    "duration": 4,
    "start_time": "2022-05-10T18:25:45.728Z"
   },
   {
    "duration": 5,
    "start_time": "2022-05-10T18:25:55.240Z"
   },
   {
    "duration": 504,
    "start_time": "2022-05-10T18:26:08.445Z"
   },
   {
    "duration": 18,
    "start_time": "2022-05-10T18:26:08.950Z"
   },
   {
    "duration": 4,
    "start_time": "2022-05-10T18:26:08.970Z"
   },
   {
    "duration": 34,
    "start_time": "2022-05-10T18:26:08.976Z"
   },
   {
    "duration": 16,
    "start_time": "2022-05-10T18:26:09.012Z"
   },
   {
    "duration": 17,
    "start_time": "2022-05-10T18:26:09.030Z"
   },
   {
    "duration": 22,
    "start_time": "2022-05-10T18:26:09.049Z"
   },
   {
    "duration": 51,
    "start_time": "2022-05-10T18:26:09.073Z"
   },
   {
    "duration": 7,
    "start_time": "2022-05-10T18:26:09.125Z"
   },
   {
    "duration": 12,
    "start_time": "2022-05-10T18:26:09.134Z"
   },
   {
    "duration": 11,
    "start_time": "2022-05-10T18:26:09.147Z"
   },
   {
    "duration": 18,
    "start_time": "2022-05-10T18:26:09.160Z"
   },
   {
    "duration": 1422,
    "start_time": "2022-05-10T18:26:09.181Z"
   },
   {
    "duration": 13,
    "start_time": "2022-05-10T18:26:10.607Z"
   },
   {
    "duration": 11,
    "start_time": "2022-05-10T18:26:10.622Z"
   },
   {
    "duration": 7,
    "start_time": "2022-05-10T18:26:10.634Z"
   },
   {
    "duration": 4,
    "start_time": "2022-05-10T18:26:10.643Z"
   },
   {
    "duration": 17,
    "start_time": "2022-05-10T18:26:10.649Z"
   },
   {
    "duration": 48,
    "start_time": "2022-05-10T18:26:10.668Z"
   },
   {
    "duration": 9,
    "start_time": "2022-05-10T18:26:10.718Z"
   },
   {
    "duration": 6,
    "start_time": "2022-05-10T18:26:10.729Z"
   },
   {
    "duration": 13,
    "start_time": "2022-05-10T18:26:10.736Z"
   },
   {
    "duration": 6,
    "start_time": "2022-05-10T18:26:10.751Z"
   },
   {
    "duration": 48,
    "start_time": "2022-05-10T18:26:10.759Z"
   },
   {
    "duration": 5,
    "start_time": "2022-05-10T18:26:10.809Z"
   },
   {
    "duration": 6,
    "start_time": "2022-05-10T18:26:10.816Z"
   },
   {
    "duration": 7,
    "start_time": "2022-05-10T18:26:10.824Z"
   },
   {
    "duration": 4,
    "start_time": "2022-05-10T18:26:10.834Z"
   },
   {
    "duration": 18,
    "start_time": "2022-05-10T18:26:10.840Z"
   },
   {
    "duration": 62,
    "start_time": "2022-05-10T18:26:10.860Z"
   },
   {
    "duration": 22,
    "start_time": "2022-05-10T18:26:10.924Z"
   },
   {
    "duration": 20,
    "start_time": "2022-05-10T18:26:10.948Z"
   },
   {
    "duration": 41,
    "start_time": "2022-05-10T18:26:10.970Z"
   },
   {
    "duration": 17,
    "start_time": "2022-05-10T18:26:11.012Z"
   },
   {
    "duration": 7,
    "start_time": "2022-05-10T18:26:11.031Z"
   },
   {
    "duration": 16,
    "start_time": "2022-05-10T18:26:11.040Z"
   },
   {
    "duration": 53,
    "start_time": "2022-05-10T18:26:11.058Z"
   },
   {
    "duration": 7,
    "start_time": "2022-05-10T18:26:11.112Z"
   },
   {
    "duration": 15,
    "start_time": "2022-05-10T18:26:11.121Z"
   },
   {
    "duration": 18,
    "start_time": "2022-05-10T18:26:11.141Z"
   },
   {
    "duration": 5,
    "start_time": "2022-05-10T18:26:11.162Z"
   },
   {
    "duration": 66,
    "start_time": "2022-05-10T18:26:11.169Z"
   },
   {
    "duration": 21,
    "start_time": "2022-05-10T18:26:11.238Z"
   },
   {
    "duration": 10,
    "start_time": "2022-05-10T18:26:11.261Z"
   },
   {
    "duration": 44,
    "start_time": "2022-05-10T18:26:11.273Z"
   },
   {
    "duration": 4,
    "start_time": "2022-05-10T18:26:11.320Z"
   },
   {
    "duration": 20,
    "start_time": "2022-05-10T18:26:11.326Z"
   },
   {
    "duration": 26,
    "start_time": "2022-05-10T18:26:11.348Z"
   },
   {
    "duration": 52,
    "start_time": "2022-05-10T18:26:11.376Z"
   },
   {
    "duration": 40,
    "start_time": "2022-05-10T18:26:11.431Z"
   },
   {
    "duration": 41,
    "start_time": "2022-05-10T18:26:11.473Z"
   },
   {
    "duration": 8,
    "start_time": "2022-05-10T18:26:11.515Z"
   },
   {
    "duration": 12,
    "start_time": "2022-05-10T18:26:11.525Z"
   },
   {
    "duration": 9,
    "start_time": "2022-05-10T18:26:11.539Z"
   },
   {
    "duration": 13,
    "start_time": "2022-05-10T18:26:11.549Z"
   },
   {
    "duration": 55,
    "start_time": "2022-05-10T18:26:11.564Z"
   },
   {
    "duration": 34,
    "start_time": "2022-05-10T18:26:11.622Z"
   },
   {
    "duration": 161,
    "start_time": "2022-05-10T18:26:11.658Z"
   },
   {
    "duration": 21,
    "start_time": "2022-05-10T18:26:11.821Z"
   },
   {
    "duration": 16,
    "start_time": "2022-05-10T18:26:11.844Z"
   },
   {
    "duration": 9,
    "start_time": "2022-05-10T18:26:11.862Z"
   },
   {
    "duration": 38,
    "start_time": "2022-05-10T18:26:11.874Z"
   },
   {
    "duration": 6,
    "start_time": "2022-05-10T18:26:11.915Z"
   },
   {
    "duration": 21,
    "start_time": "2022-05-10T18:26:11.923Z"
   },
   {
    "duration": 73,
    "start_time": "2022-05-11T06:42:35.855Z"
   },
   {
    "duration": 10,
    "start_time": "2022-05-11T06:46:31.424Z"
   },
   {
    "duration": 9,
    "start_time": "2022-05-11T06:46:40.071Z"
   },
   {
    "duration": 8,
    "start_time": "2022-05-11T06:46:47.538Z"
   },
   {
    "duration": 609,
    "start_time": "2022-05-11T06:46:54.978Z"
   },
   {
    "duration": 21,
    "start_time": "2022-05-11T06:46:55.591Z"
   },
   {
    "duration": 5,
    "start_time": "2022-05-11T06:46:55.614Z"
   },
   {
    "duration": 22,
    "start_time": "2022-05-11T06:46:55.622Z"
   },
   {
    "duration": 55,
    "start_time": "2022-05-11T06:46:55.646Z"
   },
   {
    "duration": 26,
    "start_time": "2022-05-11T06:46:55.703Z"
   },
   {
    "duration": 55,
    "start_time": "2022-05-11T06:46:55.731Z"
   },
   {
    "duration": 30,
    "start_time": "2022-05-11T06:46:55.788Z"
   },
   {
    "duration": 8,
    "start_time": "2022-05-11T06:46:55.821Z"
   },
   {
    "duration": 11,
    "start_time": "2022-05-11T06:46:55.834Z"
   },
   {
    "duration": 9,
    "start_time": "2022-05-11T06:46:55.882Z"
   },
   {
    "duration": 20,
    "start_time": "2022-05-11T06:46:55.893Z"
   },
   {
    "duration": 2833,
    "start_time": "2022-05-11T06:46:55.916Z"
   },
   {
    "duration": 19,
    "start_time": "2022-05-11T06:46:58.751Z"
   },
   {
    "duration": 14,
    "start_time": "2022-05-11T06:46:58.781Z"
   },
   {
    "duration": 11,
    "start_time": "2022-05-11T06:46:58.797Z"
   },
   {
    "duration": 5,
    "start_time": "2022-05-11T06:46:58.810Z"
   },
   {
    "duration": 21,
    "start_time": "2022-05-11T06:46:58.817Z"
   },
   {
    "duration": 51,
    "start_time": "2022-05-11T06:46:58.840Z"
   },
   {
    "duration": 14,
    "start_time": "2022-05-11T06:46:58.894Z"
   },
   {
    "duration": 7,
    "start_time": "2022-05-11T06:46:58.911Z"
   },
   {
    "duration": 16,
    "start_time": "2022-05-11T06:46:58.921Z"
   },
   {
    "duration": 45,
    "start_time": "2022-05-11T06:46:58.940Z"
   },
   {
    "duration": 14,
    "start_time": "2022-05-11T06:46:58.987Z"
   },
   {
    "duration": 10,
    "start_time": "2022-05-11T06:46:59.004Z"
   },
   {
    "duration": 9,
    "start_time": "2022-05-11T06:46:59.016Z"
   },
   {
    "duration": 9,
    "start_time": "2022-05-11T06:46:59.027Z"
   },
   {
    "duration": 42,
    "start_time": "2022-05-11T06:46:59.043Z"
   },
   {
    "duration": 25,
    "start_time": "2022-05-11T06:46:59.087Z"
   },
   {
    "duration": 27,
    "start_time": "2022-05-11T06:46:59.114Z"
   },
   {
    "duration": 62,
    "start_time": "2022-05-11T06:46:59.143Z"
   },
   {
    "duration": 25,
    "start_time": "2022-05-11T06:46:59.208Z"
   },
   {
    "duration": 20,
    "start_time": "2022-05-11T06:46:59.235Z"
   },
   {
    "duration": 44,
    "start_time": "2022-05-11T06:46:59.257Z"
   },
   {
    "duration": 9,
    "start_time": "2022-05-11T06:46:59.303Z"
   },
   {
    "duration": 21,
    "start_time": "2022-05-11T06:46:59.314Z"
   },
   {
    "duration": 56,
    "start_time": "2022-05-11T06:46:59.337Z"
   },
   {
    "duration": 13,
    "start_time": "2022-05-11T06:46:59.395Z"
   },
   {
    "duration": 31,
    "start_time": "2022-05-11T06:46:59.410Z"
   },
   {
    "duration": 30,
    "start_time": "2022-05-11T06:46:59.443Z"
   },
   {
    "duration": 6,
    "start_time": "2022-05-11T06:46:59.482Z"
   },
   {
    "duration": 25,
    "start_time": "2022-05-11T06:46:59.490Z"
   },
   {
    "duration": 22,
    "start_time": "2022-05-11T06:46:59.517Z"
   },
   {
    "duration": 42,
    "start_time": "2022-05-11T06:46:59.541Z"
   },
   {
    "duration": 25,
    "start_time": "2022-05-11T06:46:59.585Z"
   },
   {
    "duration": 6,
    "start_time": "2022-05-11T06:46:59.612Z"
   },
   {
    "duration": 30,
    "start_time": "2022-05-11T06:46:59.620Z"
   },
   {
    "duration": 43,
    "start_time": "2022-05-11T06:46:59.652Z"
   },
   {
    "duration": 26,
    "start_time": "2022-05-11T06:46:59.697Z"
   },
   {
    "duration": 75,
    "start_time": "2022-05-11T06:46:59.726Z"
   },
   {
    "duration": 26,
    "start_time": "2022-05-11T06:46:59.804Z"
   },
   {
    "duration": 11,
    "start_time": "2022-05-11T06:46:59.832Z"
   },
   {
    "duration": 40,
    "start_time": "2022-05-11T06:46:59.845Z"
   },
   {
    "duration": 11,
    "start_time": "2022-05-11T06:46:59.888Z"
   },
   {
    "duration": 16,
    "start_time": "2022-05-11T06:46:59.901Z"
   },
   {
    "duration": 20,
    "start_time": "2022-05-11T06:46:59.919Z"
   },
   {
    "duration": 63,
    "start_time": "2022-05-11T06:46:59.941Z"
   },
   {
    "duration": 246,
    "start_time": "2022-05-11T06:47:00.007Z"
   },
   {
    "duration": 35,
    "start_time": "2022-05-11T06:47:00.255Z"
   },
   {
    "duration": 20,
    "start_time": "2022-05-11T06:47:00.292Z"
   },
   {
    "duration": 15,
    "start_time": "2022-05-11T06:47:00.314Z"
   },
   {
    "duration": 24,
    "start_time": "2022-05-11T06:47:00.331Z"
   },
   {
    "duration": 28,
    "start_time": "2022-05-11T06:47:00.357Z"
   },
   {
    "duration": 26,
    "start_time": "2022-05-11T06:47:00.387Z"
   },
   {
    "duration": 168,
    "start_time": "2022-05-11T06:47:00.415Z"
   },
   {
    "duration": 10,
    "start_time": "2022-05-11T06:47:29.261Z"
   },
   {
    "duration": 7,
    "start_time": "2022-05-11T06:48:53.014Z"
   },
   {
    "duration": 13,
    "start_time": "2022-05-11T06:49:23.404Z"
   },
   {
    "duration": 10,
    "start_time": "2022-05-11T06:49:37.398Z"
   },
   {
    "duration": 14,
    "start_time": "2022-05-11T06:49:55.815Z"
   },
   {
    "duration": 23,
    "start_time": "2022-05-11T06:51:24.908Z"
   },
   {
    "duration": 21,
    "start_time": "2022-05-11T06:52:11.049Z"
   },
   {
    "duration": 20,
    "start_time": "2022-05-11T07:07:11.750Z"
   },
   {
    "duration": 595,
    "start_time": "2022-05-11T07:07:19.984Z"
   },
   {
    "duration": 24,
    "start_time": "2022-05-11T07:07:20.582Z"
   },
   {
    "duration": 5,
    "start_time": "2022-05-11T07:07:20.608Z"
   },
   {
    "duration": 22,
    "start_time": "2022-05-11T07:07:20.616Z"
   },
   {
    "duration": 55,
    "start_time": "2022-05-11T07:07:20.641Z"
   },
   {
    "duration": 26,
    "start_time": "2022-05-11T07:07:20.698Z"
   },
   {
    "duration": 57,
    "start_time": "2022-05-11T07:07:20.726Z"
   },
   {
    "duration": 35,
    "start_time": "2022-05-11T07:07:20.785Z"
   },
   {
    "duration": 10,
    "start_time": "2022-05-11T07:07:20.822Z"
   },
   {
    "duration": 49,
    "start_time": "2022-05-11T07:07:20.837Z"
   },
   {
    "duration": 12,
    "start_time": "2022-05-11T07:07:20.889Z"
   },
   {
    "duration": 22,
    "start_time": "2022-05-11T07:07:20.904Z"
   },
   {
    "duration": 2236,
    "start_time": "2022-05-11T07:07:20.929Z"
   },
   {
    "duration": 23,
    "start_time": "2022-05-11T07:07:23.167Z"
   },
   {
    "duration": 14,
    "start_time": "2022-05-11T07:07:23.192Z"
   },
   {
    "duration": 15,
    "start_time": "2022-05-11T07:07:23.208Z"
   },
   {
    "duration": 5,
    "start_time": "2022-05-11T07:07:23.226Z"
   },
   {
    "duration": 26,
    "start_time": "2022-05-11T07:07:23.233Z"
   },
   {
    "duration": 15,
    "start_time": "2022-05-11T07:07:23.282Z"
   },
   {
    "duration": 14,
    "start_time": "2022-05-11T07:07:23.299Z"
   },
   {
    "duration": 6,
    "start_time": "2022-05-11T07:07:23.315Z"
   },
   {
    "duration": 21,
    "start_time": "2022-05-11T07:07:23.324Z"
   },
   {
    "duration": 41,
    "start_time": "2022-05-11T07:07:23.347Z"
   },
   {
    "duration": 16,
    "start_time": "2022-05-11T07:07:23.390Z"
   },
   {
    "duration": 16,
    "start_time": "2022-05-11T07:07:23.408Z"
   },
   {
    "duration": 6,
    "start_time": "2022-05-11T07:07:23.426Z"
   },
   {
    "duration": 11,
    "start_time": "2022-05-11T07:07:23.434Z"
   },
   {
    "duration": 31,
    "start_time": "2022-05-11T07:07:23.451Z"
   },
   {
    "duration": 26,
    "start_time": "2022-05-11T07:07:23.484Z"
   },
   {
    "duration": 29,
    "start_time": "2022-05-11T07:07:23.512Z"
   },
   {
    "duration": 65,
    "start_time": "2022-05-11T07:07:23.543Z"
   },
   {
    "duration": 28,
    "start_time": "2022-05-11T07:07:23.610Z"
   },
   {
    "duration": 43,
    "start_time": "2022-05-11T07:07:23.640Z"
   },
   {
    "duration": 25,
    "start_time": "2022-05-11T07:07:23.686Z"
   },
   {
    "duration": 9,
    "start_time": "2022-05-11T07:07:23.713Z"
   },
   {
    "duration": 57,
    "start_time": "2022-05-11T07:07:23.725Z"
   },
   {
    "duration": 24,
    "start_time": "2022-05-11T07:07:23.785Z"
   },
   {
    "duration": 9,
    "start_time": "2022-05-11T07:07:23.811Z"
   },
   {
    "duration": 20,
    "start_time": "2022-05-11T07:07:23.822Z"
   },
   {
    "duration": 58,
    "start_time": "2022-05-11T07:07:23.844Z"
   },
   {
    "duration": 6,
    "start_time": "2022-05-11T07:07:23.904Z"
   },
   {
    "duration": 27,
    "start_time": "2022-05-11T07:07:23.912Z"
   },
   {
    "duration": 47,
    "start_time": "2022-05-11T07:07:23.942Z"
   },
   {
    "duration": 10,
    "start_time": "2022-05-11T07:07:23.991Z"
   },
   {
    "duration": 21,
    "start_time": "2022-05-11T07:07:24.003Z"
   },
   {
    "duration": 5,
    "start_time": "2022-05-11T07:07:24.027Z"
   },
   {
    "duration": 55,
    "start_time": "2022-05-11T07:07:24.034Z"
   },
   {
    "duration": 22,
    "start_time": "2022-05-11T07:07:24.091Z"
   },
   {
    "duration": 26,
    "start_time": "2022-05-11T07:07:24.116Z"
   },
   {
    "duration": 83,
    "start_time": "2022-05-11T07:07:24.145Z"
   },
   {
    "duration": 25,
    "start_time": "2022-05-11T07:07:24.230Z"
   },
   {
    "duration": 33,
    "start_time": "2022-05-11T07:07:24.257Z"
   },
   {
    "duration": 14,
    "start_time": "2022-05-11T07:07:24.292Z"
   },
   {
    "duration": 11,
    "start_time": "2022-05-11T07:07:24.309Z"
   },
   {
    "duration": 19,
    "start_time": "2022-05-11T07:07:24.322Z"
   },
   {
    "duration": 54,
    "start_time": "2022-05-11T07:07:24.344Z"
   },
   {
    "duration": 32,
    "start_time": "2022-05-11T07:07:24.400Z"
   },
   {
    "duration": 256,
    "start_time": "2022-05-11T07:07:24.434Z"
   },
   {
    "duration": 26,
    "start_time": "2022-05-11T07:07:24.692Z"
   },
   {
    "duration": 22,
    "start_time": "2022-05-11T07:07:24.720Z"
   },
   {
    "duration": 44,
    "start_time": "2022-05-11T07:07:24.744Z"
   },
   {
    "duration": 11,
    "start_time": "2022-05-11T07:07:24.791Z"
   },
   {
    "duration": 13,
    "start_time": "2022-05-11T07:07:24.804Z"
   },
   {
    "duration": 18,
    "start_time": "2022-05-11T07:07:24.819Z"
   },
   {
    "duration": 156,
    "start_time": "2022-05-11T07:14:04.037Z"
   },
   {
    "duration": 20,
    "start_time": "2022-05-11T07:14:15.757Z"
   },
   {
    "duration": 123,
    "start_time": "2022-05-11T07:41:24.409Z"
   },
   {
    "duration": 16,
    "start_time": "2022-05-11T07:42:47.491Z"
   },
   {
    "duration": 17,
    "start_time": "2022-05-11T07:42:54.052Z"
   },
   {
    "duration": 17,
    "start_time": "2022-05-11T07:43:02.489Z"
   },
   {
    "duration": 5,
    "start_time": "2022-05-11T07:43:04.946Z"
   },
   {
    "duration": 9,
    "start_time": "2022-05-11T07:43:06.119Z"
   },
   {
    "duration": 8,
    "start_time": "2022-05-11T07:43:21.442Z"
   },
   {
    "duration": 732,
    "start_time": "2022-05-11T07:43:27.737Z"
   },
   {
    "duration": 23,
    "start_time": "2022-05-11T07:43:28.471Z"
   },
   {
    "duration": 4,
    "start_time": "2022-05-11T07:43:28.496Z"
   },
   {
    "duration": 28,
    "start_time": "2022-05-11T07:43:28.503Z"
   },
   {
    "duration": 51,
    "start_time": "2022-05-11T07:43:28.533Z"
   },
   {
    "duration": 26,
    "start_time": "2022-05-11T07:43:28.586Z"
   },
   {
    "duration": 31,
    "start_time": "2022-05-11T07:43:28.614Z"
   },
   {
    "duration": 63,
    "start_time": "2022-05-11T07:43:28.647Z"
   },
   {
    "duration": 12,
    "start_time": "2022-05-11T07:43:28.712Z"
   },
   {
    "duration": 11,
    "start_time": "2022-05-11T07:43:28.728Z"
   },
   {
    "duration": 41,
    "start_time": "2022-05-11T07:43:28.741Z"
   },
   {
    "duration": 15,
    "start_time": "2022-05-11T07:43:28.784Z"
   },
   {
    "duration": 1933,
    "start_time": "2022-05-11T07:43:28.801Z"
   },
   {
    "duration": 19,
    "start_time": "2022-05-11T07:43:30.736Z"
   },
   {
    "duration": 32,
    "start_time": "2022-05-11T07:43:30.757Z"
   },
   {
    "duration": 11,
    "start_time": "2022-05-11T07:43:30.791Z"
   },
   {
    "duration": 17,
    "start_time": "2022-05-11T07:43:30.804Z"
   },
   {
    "duration": 27,
    "start_time": "2022-05-11T07:43:30.824Z"
   },
   {
    "duration": 34,
    "start_time": "2022-05-11T07:43:30.853Z"
   },
   {
    "duration": 24,
    "start_time": "2022-05-11T07:43:30.889Z"
   },
   {
    "duration": 6,
    "start_time": "2022-05-11T07:43:30.915Z"
   },
   {
    "duration": 23,
    "start_time": "2022-05-11T07:43:30.923Z"
   },
   {
    "duration": 12,
    "start_time": "2022-05-11T07:43:30.948Z"
   },
   {
    "duration": 29,
    "start_time": "2022-05-11T07:43:30.963Z"
   },
   {
    "duration": 16,
    "start_time": "2022-05-11T07:43:30.994Z"
   },
   {
    "duration": 32,
    "start_time": "2022-05-11T07:43:31.012Z"
   },
   {
    "duration": 5,
    "start_time": "2022-05-11T07:43:31.046Z"
   },
   {
    "duration": 11,
    "start_time": "2022-05-11T07:43:31.057Z"
   },
   {
    "duration": 11,
    "start_time": "2022-05-11T07:43:31.071Z"
   },
   {
    "duration": 24,
    "start_time": "2022-05-11T07:43:31.085Z"
   },
   {
    "duration": 29,
    "start_time": "2022-05-11T07:43:31.111Z"
   },
   {
    "duration": 58,
    "start_time": "2022-05-11T07:43:31.142Z"
   },
   {
    "duration": 27,
    "start_time": "2022-05-11T07:43:31.202Z"
   },
   {
    "duration": 27,
    "start_time": "2022-05-11T07:43:31.231Z"
   },
   {
    "duration": 62,
    "start_time": "2022-05-11T07:43:31.260Z"
   },
   {
    "duration": 20,
    "start_time": "2022-05-11T07:43:31.324Z"
   },
   {
    "duration": 24,
    "start_time": "2022-05-11T07:43:31.346Z"
   },
   {
    "duration": 25,
    "start_time": "2022-05-11T07:43:31.372Z"
   },
   {
    "duration": 9,
    "start_time": "2022-05-11T07:43:31.399Z"
   },
   {
    "duration": 28,
    "start_time": "2022-05-11T07:43:31.410Z"
   },
   {
    "duration": 55,
    "start_time": "2022-05-11T07:43:31.440Z"
   },
   {
    "duration": 8,
    "start_time": "2022-05-11T07:43:31.497Z"
   },
   {
    "duration": 83,
    "start_time": "2022-05-11T07:43:31.507Z"
   },
   {
    "duration": 21,
    "start_time": "2022-05-11T07:43:31.592Z"
   },
   {
    "duration": 67,
    "start_time": "2022-05-11T07:43:31.616Z"
   },
   {
    "duration": 34,
    "start_time": "2022-05-11T07:43:31.685Z"
   },
   {
    "duration": 6,
    "start_time": "2022-05-11T07:43:31.721Z"
   },
   {
    "duration": 67,
    "start_time": "2022-05-11T07:43:31.729Z"
   },
   {
    "duration": 90,
    "start_time": "2022-05-11T07:43:31.798Z"
   },
   {
    "duration": 30,
    "start_time": "2022-05-11T07:43:31.890Z"
   },
   {
    "duration": 107,
    "start_time": "2022-05-11T07:43:31.923Z"
   },
   {
    "duration": 26,
    "start_time": "2022-05-11T07:43:32.082Z"
   },
   {
    "duration": 11,
    "start_time": "2022-05-11T07:43:32.110Z"
   },
   {
    "duration": 69,
    "start_time": "2022-05-11T07:43:32.123Z"
   },
   {
    "duration": 10,
    "start_time": "2022-05-11T07:43:32.194Z"
   },
   {
    "duration": 18,
    "start_time": "2022-05-11T07:43:32.206Z"
   },
   {
    "duration": 73,
    "start_time": "2022-05-11T07:43:32.226Z"
   },
   {
    "duration": 105,
    "start_time": "2022-05-11T07:43:32.301Z"
   },
   {
    "duration": 809,
    "start_time": "2022-05-11T07:43:32.409Z"
   },
   {
    "duration": 89,
    "start_time": "2022-05-11T07:43:33.221Z"
   },
   {
    "duration": 71,
    "start_time": "2022-05-11T07:43:33.312Z"
   },
   {
    "duration": 15,
    "start_time": "2022-05-11T07:43:33.385Z"
   },
   {
    "duration": 11,
    "start_time": "2022-05-11T07:43:33.402Z"
   },
   {
    "duration": 8,
    "start_time": "2022-05-11T07:43:33.415Z"
   },
   {
    "duration": 73,
    "start_time": "2022-05-11T07:43:33.424Z"
   },
   {
    "duration": 9,
    "start_time": "2022-05-11T07:46:19.483Z"
   },
   {
    "duration": 666,
    "start_time": "2022-05-11T07:46:28.281Z"
   },
   {
    "duration": 31,
    "start_time": "2022-05-11T07:46:28.951Z"
   },
   {
    "duration": 6,
    "start_time": "2022-05-11T07:46:28.985Z"
   },
   {
    "duration": 51,
    "start_time": "2022-05-11T07:46:28.995Z"
   },
   {
    "duration": 46,
    "start_time": "2022-05-11T07:46:29.049Z"
   },
   {
    "duration": 36,
    "start_time": "2022-05-11T07:46:29.098Z"
   },
   {
    "duration": 74,
    "start_time": "2022-05-11T07:46:29.137Z"
   },
   {
    "duration": 50,
    "start_time": "2022-05-11T07:46:29.214Z"
   },
   {
    "duration": 13,
    "start_time": "2022-05-11T07:46:29.282Z"
   },
   {
    "duration": 14,
    "start_time": "2022-05-11T07:46:29.300Z"
   },
   {
    "duration": 14,
    "start_time": "2022-05-11T07:46:29.317Z"
   },
   {
    "duration": 54,
    "start_time": "2022-05-11T07:46:29.336Z"
   },
   {
    "duration": 3534,
    "start_time": "2022-05-11T07:46:29.392Z"
   },
   {
    "duration": 76,
    "start_time": "2022-05-11T07:46:32.928Z"
   },
   {
    "duration": 15,
    "start_time": "2022-05-11T07:46:33.007Z"
   },
   {
    "duration": 61,
    "start_time": "2022-05-11T07:46:33.024Z"
   },
   {
    "duration": 7,
    "start_time": "2022-05-11T07:46:33.088Z"
   },
   {
    "duration": 38,
    "start_time": "2022-05-11T07:46:33.097Z"
   },
   {
    "duration": 55,
    "start_time": "2022-05-11T07:46:33.137Z"
   },
   {
    "duration": 15,
    "start_time": "2022-05-11T07:46:33.194Z"
   },
   {
    "duration": 9,
    "start_time": "2022-05-11T07:46:33.211Z"
   },
   {
    "duration": 69,
    "start_time": "2022-05-11T07:46:33.222Z"
   },
   {
    "duration": 7,
    "start_time": "2022-05-11T07:46:33.294Z"
   },
   {
    "duration": 15,
    "start_time": "2022-05-11T07:46:33.303Z"
   },
   {
    "duration": 64,
    "start_time": "2022-05-11T07:46:33.321Z"
   },
   {
    "duration": 13,
    "start_time": "2022-05-11T07:46:33.387Z"
   },
   {
    "duration": 18,
    "start_time": "2022-05-11T07:46:33.403Z"
   },
   {
    "duration": 6,
    "start_time": "2022-05-11T07:46:33.483Z"
   },
   {
    "duration": 11,
    "start_time": "2022-05-11T07:46:33.491Z"
   },
   {
    "duration": 9,
    "start_time": "2022-05-11T07:46:33.504Z"
   },
   {
    "duration": 85,
    "start_time": "2022-05-11T07:46:33.516Z"
   },
   {
    "duration": 87,
    "start_time": "2022-05-11T07:46:33.604Z"
   },
   {
    "duration": 94,
    "start_time": "2022-05-11T07:46:33.694Z"
   },
   {
    "duration": 27,
    "start_time": "2022-05-11T07:46:33.791Z"
   },
   {
    "duration": 72,
    "start_time": "2022-05-11T07:46:33.820Z"
   },
   {
    "duration": 30,
    "start_time": "2022-05-11T07:46:33.894Z"
   },
   {
    "duration": 57,
    "start_time": "2022-05-11T07:46:33.926Z"
   },
   {
    "duration": 26,
    "start_time": "2022-05-11T07:46:33.985Z"
   },
   {
    "duration": 76,
    "start_time": "2022-05-11T07:46:34.014Z"
   },
   {
    "duration": 9,
    "start_time": "2022-05-11T07:46:34.092Z"
   },
   {
    "duration": 29,
    "start_time": "2022-05-11T07:46:34.103Z"
   },
   {
    "duration": 23,
    "start_time": "2022-05-11T07:46:34.183Z"
   },
   {
    "duration": 6,
    "start_time": "2022-05-11T07:46:34.209Z"
   },
   {
    "duration": 92,
    "start_time": "2022-05-11T07:46:34.218Z"
   },
   {
    "duration": 74,
    "start_time": "2022-05-11T07:46:34.312Z"
   },
   {
    "duration": 11,
    "start_time": "2022-05-11T07:46:34.388Z"
   },
   {
    "duration": 23,
    "start_time": "2022-05-11T07:46:34.402Z"
   },
   {
    "duration": 60,
    "start_time": "2022-05-11T07:46:34.427Z"
   },
   {
    "duration": 37,
    "start_time": "2022-05-11T07:46:34.489Z"
   },
   {
    "duration": 35,
    "start_time": "2022-05-11T07:46:34.583Z"
   },
   {
    "duration": 92,
    "start_time": "2022-05-11T07:46:34.620Z"
   },
   {
    "duration": 182,
    "start_time": "2022-05-11T07:46:34.715Z"
   },
   {
    "duration": 92,
    "start_time": "2022-05-11T07:46:34.900Z"
   },
   {
    "duration": 17,
    "start_time": "2022-05-11T07:46:34.994Z"
   },
   {
    "duration": 73,
    "start_time": "2022-05-11T07:46:35.014Z"
   },
   {
    "duration": 13,
    "start_time": "2022-05-11T07:46:35.090Z"
   },
   {
    "duration": 24,
    "start_time": "2022-05-11T07:46:35.105Z"
   },
   {
    "duration": 22,
    "start_time": "2022-05-11T07:46:35.181Z"
   },
   {
    "duration": 42,
    "start_time": "2022-05-11T07:46:35.206Z"
   },
   {
    "duration": 253,
    "start_time": "2022-05-11T07:46:35.251Z"
   },
   {
    "duration": 26,
    "start_time": "2022-05-11T07:46:35.506Z"
   },
   {
    "duration": 22,
    "start_time": "2022-05-11T07:46:35.534Z"
   },
   {
    "duration": 10,
    "start_time": "2022-05-11T07:46:35.581Z"
   },
   {
    "duration": 15,
    "start_time": "2022-05-11T07:46:35.594Z"
   },
   {
    "duration": 12,
    "start_time": "2022-05-11T07:46:35.611Z"
   },
   {
    "duration": 63,
    "start_time": "2022-05-11T07:46:35.626Z"
   },
   {
    "duration": 8,
    "start_time": "2022-05-11T07:46:56.187Z"
   },
   {
    "duration": 635,
    "start_time": "2022-05-11T07:47:04.129Z"
   },
   {
    "duration": 27,
    "start_time": "2022-05-11T07:47:04.767Z"
   },
   {
    "duration": 5,
    "start_time": "2022-05-11T07:47:04.796Z"
   },
   {
    "duration": 28,
    "start_time": "2022-05-11T07:47:04.804Z"
   },
   {
    "duration": 50,
    "start_time": "2022-05-11T07:47:04.835Z"
   },
   {
    "duration": 26,
    "start_time": "2022-05-11T07:47:04.887Z"
   },
   {
    "duration": 32,
    "start_time": "2022-05-11T07:47:04.915Z"
   },
   {
    "duration": 65,
    "start_time": "2022-05-11T07:47:04.949Z"
   },
   {
    "duration": 11,
    "start_time": "2022-05-11T07:47:05.018Z"
   },
   {
    "duration": 13,
    "start_time": "2022-05-11T07:47:05.033Z"
   },
   {
    "duration": 38,
    "start_time": "2022-05-11T07:47:05.049Z"
   },
   {
    "duration": 28,
    "start_time": "2022-05-11T07:47:05.090Z"
   },
   {
    "duration": 2387,
    "start_time": "2022-05-11T07:47:05.120Z"
   },
   {
    "duration": 73,
    "start_time": "2022-05-11T07:47:07.510Z"
   },
   {
    "duration": 13,
    "start_time": "2022-05-11T07:47:07.585Z"
   },
   {
    "duration": 11,
    "start_time": "2022-05-11T07:47:07.600Z"
   },
   {
    "duration": 5,
    "start_time": "2022-05-11T07:47:07.613Z"
   },
   {
    "duration": 69,
    "start_time": "2022-05-11T07:47:07.620Z"
   },
   {
    "duration": 15,
    "start_time": "2022-05-11T07:47:07.691Z"
   },
   {
    "duration": 13,
    "start_time": "2022-05-11T07:47:07.708Z"
   },
   {
    "duration": 61,
    "start_time": "2022-05-11T07:47:07.723Z"
   },
   {
    "duration": 15,
    "start_time": "2022-05-11T07:47:07.786Z"
   },
   {
    "duration": 7,
    "start_time": "2022-05-11T07:47:07.803Z"
   },
   {
    "duration": 16,
    "start_time": "2022-05-11T07:47:07.812Z"
   },
   {
    "duration": 6,
    "start_time": "2022-05-11T07:47:07.882Z"
   },
   {
    "duration": 14,
    "start_time": "2022-05-11T07:47:07.891Z"
   },
   {
    "duration": 17,
    "start_time": "2022-05-11T07:47:07.907Z"
   },
   {
    "duration": 9,
    "start_time": "2022-05-11T07:47:07.985Z"
   },
   {
    "duration": 17,
    "start_time": "2022-05-11T07:47:07.996Z"
   },
   {
    "duration": 16,
    "start_time": "2022-05-11T07:47:08.016Z"
   },
   {
    "duration": 15,
    "start_time": "2022-05-11T07:47:08.083Z"
   },
   {
    "duration": 28,
    "start_time": "2022-05-11T07:47:08.100Z"
   },
   {
    "duration": 73,
    "start_time": "2022-05-11T07:47:08.130Z"
   },
   {
    "duration": 84,
    "start_time": "2022-05-11T07:47:08.206Z"
   },
   {
    "duration": 27,
    "start_time": "2022-05-11T07:47:08.293Z"
   },
   {
    "duration": 76,
    "start_time": "2022-05-11T07:47:08.322Z"
   },
   {
    "duration": 23,
    "start_time": "2022-05-11T07:47:08.400Z"
   },
   {
    "duration": 63,
    "start_time": "2022-05-11T07:47:08.426Z"
   },
   {
    "duration": 20,
    "start_time": "2022-05-11T07:47:08.491Z"
   },
   {
    "duration": 76,
    "start_time": "2022-05-11T07:47:08.514Z"
   },
   {
    "duration": 9,
    "start_time": "2022-05-11T07:47:08.592Z"
   },
   {
    "duration": 79,
    "start_time": "2022-05-11T07:47:08.603Z"
   },
   {
    "duration": 24,
    "start_time": "2022-05-11T07:47:08.684Z"
   },
   {
    "duration": 5,
    "start_time": "2022-05-11T07:47:08.710Z"
   },
   {
    "duration": 82,
    "start_time": "2022-05-11T07:47:08.717Z"
   },
   {
    "duration": 23,
    "start_time": "2022-05-11T07:47:08.801Z"
   },
   {
    "duration": 9,
    "start_time": "2022-05-11T07:47:08.882Z"
   },
   {
    "duration": 22,
    "start_time": "2022-05-11T07:47:08.894Z"
   },
   {
    "duration": 5,
    "start_time": "2022-05-11T07:47:08.919Z"
   },
   {
    "duration": 22,
    "start_time": "2022-05-11T07:47:08.982Z"
   },
   {
    "duration": 77,
    "start_time": "2022-05-11T07:47:09.006Z"
   },
   {
    "duration": 27,
    "start_time": "2022-05-11T07:47:09.085Z"
   },
   {
    "duration": 106,
    "start_time": "2022-05-11T07:47:09.115Z"
   },
   {
    "duration": 81,
    "start_time": "2022-05-11T07:47:09.223Z"
   },
   {
    "duration": 13,
    "start_time": "2022-05-11T07:47:09.306Z"
   },
   {
    "duration": 67,
    "start_time": "2022-05-11T07:47:09.321Z"
   },
   {
    "duration": 11,
    "start_time": "2022-05-11T07:47:09.390Z"
   },
   {
    "duration": 78,
    "start_time": "2022-05-11T07:47:09.404Z"
   },
   {
    "duration": 31,
    "start_time": "2022-05-11T07:47:09.485Z"
   },
   {
    "duration": 100,
    "start_time": "2022-05-11T07:47:09.518Z"
   },
   {
    "duration": 865,
    "start_time": "2022-05-11T07:47:09.621Z"
   },
   {
    "duration": 29,
    "start_time": "2022-05-11T07:47:10.488Z"
   },
   {
    "duration": 23,
    "start_time": "2022-05-11T07:47:10.520Z"
   },
   {
    "duration": 44,
    "start_time": "2022-05-11T07:47:10.545Z"
   },
   {
    "duration": 10,
    "start_time": "2022-05-11T07:47:10.591Z"
   },
   {
    "duration": 7,
    "start_time": "2022-05-11T07:47:10.603Z"
   },
   {
    "duration": 20,
    "start_time": "2022-05-11T07:47:10.612Z"
   },
   {
    "duration": 71,
    "start_time": "2022-05-11T07:48:48.999Z"
   },
   {
    "duration": 20,
    "start_time": "2022-05-11T07:48:49.081Z"
   },
   {
    "duration": 4,
    "start_time": "2022-05-11T07:48:49.103Z"
   },
   {
    "duration": 16,
    "start_time": "2022-05-11T07:48:49.109Z"
   },
   {
    "duration": 19,
    "start_time": "2022-05-11T07:48:49.127Z"
   },
   {
    "duration": 26,
    "start_time": "2022-05-11T07:48:49.181Z"
   },
   {
    "duration": 29,
    "start_time": "2022-05-11T07:48:49.209Z"
   },
   {
    "duration": 63,
    "start_time": "2022-05-11T07:48:49.241Z"
   },
   {
    "duration": 9,
    "start_time": "2022-05-11T07:48:49.306Z"
   },
   {
    "duration": 15,
    "start_time": "2022-05-11T07:48:49.317Z"
   },
   {
    "duration": 9,
    "start_time": "2022-05-11T07:48:49.334Z"
   },
   {
    "duration": 50,
    "start_time": "2022-05-11T07:48:49.345Z"
   },
   {
    "duration": 894,
    "start_time": "2022-05-11T07:48:49.397Z"
   },
   {
    "duration": 18,
    "start_time": "2022-05-11T07:48:50.294Z"
   },
   {
    "duration": 23,
    "start_time": "2022-05-11T07:48:50.314Z"
   },
   {
    "duration": 16,
    "start_time": "2022-05-11T07:48:50.339Z"
   },
   {
    "duration": 24,
    "start_time": "2022-05-11T07:48:50.358Z"
   },
   {
    "duration": 21,
    "start_time": "2022-05-11T07:48:50.384Z"
   },
   {
    "duration": 16,
    "start_time": "2022-05-11T07:48:50.408Z"
   },
   {
    "duration": 14,
    "start_time": "2022-05-11T07:48:50.427Z"
   },
   {
    "duration": 40,
    "start_time": "2022-05-11T07:48:50.443Z"
   },
   {
    "duration": 17,
    "start_time": "2022-05-11T07:48:50.486Z"
   },
   {
    "duration": 9,
    "start_time": "2022-05-11T07:48:50.506Z"
   },
   {
    "duration": 17,
    "start_time": "2022-05-11T07:48:50.517Z"
   },
   {
    "duration": 50,
    "start_time": "2022-05-11T07:48:50.536Z"
   },
   {
    "duration": 127,
    "start_time": "2022-05-11T07:48:50.588Z"
   },
   {
    "duration": 6,
    "start_time": "2022-05-11T07:48:50.717Z"
   },
   {
    "duration": 12,
    "start_time": "2022-05-11T07:48:50.726Z"
   },
   {
    "duration": 6,
    "start_time": "2022-05-11T07:48:50.741Z"
   },
   {
    "duration": 47,
    "start_time": "2022-05-11T07:48:50.749Z"
   },
   {
    "duration": 30,
    "start_time": "2022-05-11T07:48:50.798Z"
   },
   {
    "duration": 59,
    "start_time": "2022-05-11T07:48:50.830Z"
   },
   {
    "duration": 26,
    "start_time": "2022-05-11T07:48:50.891Z"
   },
   {
    "duration": 21,
    "start_time": "2022-05-11T07:48:50.920Z"
   },
   {
    "duration": 54,
    "start_time": "2022-05-11T07:48:50.944Z"
   },
   {
    "duration": 10,
    "start_time": "2022-05-11T07:48:51.001Z"
   },
   {
    "duration": 32,
    "start_time": "2022-05-11T07:48:51.014Z"
   },
   {
    "duration": 46,
    "start_time": "2022-05-11T07:48:51.049Z"
   },
   {
    "duration": 12,
    "start_time": "2022-05-11T07:48:51.098Z"
   },
   {
    "duration": 22,
    "start_time": "2022-05-11T07:48:51.112Z"
   },
   {
    "duration": 62,
    "start_time": "2022-05-11T07:48:51.136Z"
   },
   {
    "duration": 6,
    "start_time": "2022-05-11T07:48:51.201Z"
   },
   {
    "duration": 29,
    "start_time": "2022-05-11T07:48:51.211Z"
   },
   {
    "duration": 61,
    "start_time": "2022-05-11T07:48:51.243Z"
   },
   {
    "duration": 10,
    "start_time": "2022-05-11T07:48:51.307Z"
   },
   {
    "duration": 27,
    "start_time": "2022-05-11T07:48:51.320Z"
   },
   {
    "duration": 31,
    "start_time": "2022-05-11T07:48:51.351Z"
   },
   {
    "duration": 25,
    "start_time": "2022-05-11T07:48:51.385Z"
   },
   {
    "duration": 25,
    "start_time": "2022-05-11T07:48:51.413Z"
   },
   {
    "duration": 60,
    "start_time": "2022-05-11T07:48:51.441Z"
   },
   {
    "duration": 78,
    "start_time": "2022-05-11T07:48:51.504Z"
   },
   {
    "duration": 25,
    "start_time": "2022-05-11T07:48:51.584Z"
   },
   {
    "duration": 12,
    "start_time": "2022-05-11T07:48:51.611Z"
   },
   {
    "duration": 25,
    "start_time": "2022-05-11T07:48:51.625Z"
   },
   {
    "duration": 31,
    "start_time": "2022-05-11T07:48:51.652Z"
   },
   {
    "duration": 16,
    "start_time": "2022-05-11T07:48:51.685Z"
   },
   {
    "duration": 20,
    "start_time": "2022-05-11T07:48:51.711Z"
   },
   {
    "duration": 65,
    "start_time": "2022-05-11T07:48:51.733Z"
   },
   {
    "duration": 241,
    "start_time": "2022-05-11T07:48:51.800Z"
   },
   {
    "duration": 25,
    "start_time": "2022-05-11T07:48:52.043Z"
   },
   {
    "duration": 22,
    "start_time": "2022-05-11T07:48:52.081Z"
   },
   {
    "duration": 10,
    "start_time": "2022-05-11T07:48:52.105Z"
   },
   {
    "duration": 10,
    "start_time": "2022-05-11T07:48:52.117Z"
   },
   {
    "duration": 8,
    "start_time": "2022-05-11T07:48:52.129Z"
   },
   {
    "duration": 20,
    "start_time": "2022-05-11T07:48:52.181Z"
   },
   {
    "duration": 12,
    "start_time": "2022-05-11T07:50:14.184Z"
   },
   {
    "duration": 8,
    "start_time": "2022-05-11T07:50:22.769Z"
   },
   {
    "duration": 572,
    "start_time": "2022-05-11T07:58:02.014Z"
   },
   {
    "duration": 22,
    "start_time": "2022-05-11T07:58:02.589Z"
   },
   {
    "duration": 4,
    "start_time": "2022-05-11T07:58:02.614Z"
   },
   {
    "duration": 25,
    "start_time": "2022-05-11T07:58:02.621Z"
   },
   {
    "duration": 53,
    "start_time": "2022-05-11T07:58:02.648Z"
   },
   {
    "duration": 26,
    "start_time": "2022-05-11T07:58:02.703Z"
   },
   {
    "duration": 57,
    "start_time": "2022-05-11T07:58:02.731Z"
   },
   {
    "duration": 35,
    "start_time": "2022-05-11T07:58:02.790Z"
   },
   {
    "duration": 10,
    "start_time": "2022-05-11T07:58:02.827Z"
   },
   {
    "duration": 44,
    "start_time": "2022-05-11T07:58:02.841Z"
   },
   {
    "duration": 10,
    "start_time": "2022-05-11T07:58:02.887Z"
   },
   {
    "duration": 15,
    "start_time": "2022-05-11T07:58:02.899Z"
   },
   {
    "duration": 2053,
    "start_time": "2022-05-11T07:58:02.916Z"
   },
   {
    "duration": 18,
    "start_time": "2022-05-11T07:58:04.971Z"
   },
   {
    "duration": 17,
    "start_time": "2022-05-11T07:58:04.991Z"
   },
   {
    "duration": 8,
    "start_time": "2022-05-11T07:58:05.010Z"
   },
   {
    "duration": 7,
    "start_time": "2022-05-11T07:58:05.020Z"
   },
   {
    "duration": 22,
    "start_time": "2022-05-11T07:58:05.029Z"
   },
   {
    "duration": 13,
    "start_time": "2022-05-11T07:58:05.082Z"
   },
   {
    "duration": 15,
    "start_time": "2022-05-11T07:58:05.097Z"
   },
   {
    "duration": 6,
    "start_time": "2022-05-11T07:58:05.114Z"
   },
   {
    "duration": 19,
    "start_time": "2022-05-11T07:58:05.122Z"
   },
   {
    "duration": 40,
    "start_time": "2022-05-11T07:58:05.143Z"
   },
   {
    "duration": 16,
    "start_time": "2022-05-11T07:58:05.185Z"
   },
   {
    "duration": 9,
    "start_time": "2022-05-11T07:58:05.203Z"
   },
   {
    "duration": 19,
    "start_time": "2022-05-11T07:58:05.214Z"
   },
   {
    "duration": 5,
    "start_time": "2022-05-11T07:58:05.235Z"
   },
   {
    "duration": 38,
    "start_time": "2022-05-11T07:58:05.246Z"
   },
   {
    "duration": 5,
    "start_time": "2022-05-11T07:58:05.286Z"
   },
   {
    "duration": 23,
    "start_time": "2022-05-11T07:58:05.293Z"
   },
   {
    "duration": 26,
    "start_time": "2022-05-11T07:58:05.318Z"
   },
   {
    "duration": 64,
    "start_time": "2022-05-11T07:58:05.346Z"
   },
   {
    "duration": 25,
    "start_time": "2022-05-11T07:58:05.412Z"
   },
   {
    "duration": 45,
    "start_time": "2022-05-11T07:58:05.439Z"
   },
   {
    "duration": 23,
    "start_time": "2022-05-11T07:58:05.486Z"
   },
   {
    "duration": 9,
    "start_time": "2022-05-11T07:58:05.511Z"
   },
   {
    "duration": 20,
    "start_time": "2022-05-11T07:58:05.523Z"
   },
   {
    "duration": 56,
    "start_time": "2022-05-11T07:58:05.546Z"
   },
   {
    "duration": 8,
    "start_time": "2022-05-11T07:58:05.604Z"
   },
   {
    "duration": 22,
    "start_time": "2022-05-11T07:58:05.614Z"
   },
   {
    "duration": 47,
    "start_time": "2022-05-11T07:58:05.638Z"
   },
   {
    "duration": 5,
    "start_time": "2022-05-11T07:58:05.687Z"
   },
   {
    "duration": 27,
    "start_time": "2022-05-11T07:58:05.694Z"
   },
   {
    "duration": 22,
    "start_time": "2022-05-11T07:58:05.723Z"
   },
   {
    "duration": 42,
    "start_time": "2022-05-11T07:58:05.747Z"
   },
   {
    "duration": 24,
    "start_time": "2022-05-11T07:58:05.792Z"
   },
   {
    "duration": 6,
    "start_time": "2022-05-11T07:58:05.818Z"
   },
   {
    "duration": 24,
    "start_time": "2022-05-11T07:58:05.826Z"
   },
   {
    "duration": 23,
    "start_time": "2022-05-11T07:58:05.882Z"
   },
   {
    "duration": 27,
    "start_time": "2022-05-11T07:58:05.907Z"
   },
   {
    "duration": 80,
    "start_time": "2022-05-11T07:58:05.937Z"
   },
   {
    "duration": 26,
    "start_time": "2022-05-11T07:58:06.020Z"
   },
   {
    "duration": 33,
    "start_time": "2022-05-11T07:58:06.048Z"
   },
   {
    "duration": 15,
    "start_time": "2022-05-11T07:58:06.084Z"
   },
   {
    "duration": 25,
    "start_time": "2022-05-11T07:58:06.101Z"
   },
   {
    "duration": 23,
    "start_time": "2022-05-11T07:58:06.128Z"
   },
   {
    "duration": 39,
    "start_time": "2022-05-11T07:58:06.153Z"
   },
   {
    "duration": 40,
    "start_time": "2022-05-11T07:58:06.195Z"
   },
   {
    "duration": 264,
    "start_time": "2022-05-11T07:58:06.238Z"
   },
   {
    "duration": 29,
    "start_time": "2022-05-11T07:58:06.505Z"
   },
   {
    "duration": 46,
    "start_time": "2022-05-11T07:58:06.536Z"
   },
   {
    "duration": 10,
    "start_time": "2022-05-11T07:58:06.584Z"
   },
   {
    "duration": 11,
    "start_time": "2022-05-11T07:58:06.597Z"
   },
   {
    "duration": 7,
    "start_time": "2022-05-11T07:58:06.610Z"
   },
   {
    "duration": 20,
    "start_time": "2022-05-11T07:58:06.618Z"
   },
   {
    "duration": 8,
    "start_time": "2022-05-11T07:59:17.949Z"
   },
   {
    "duration": 11,
    "start_time": "2022-05-11T07:59:24.888Z"
   },
   {
    "duration": 1233,
    "start_time": "2022-05-11T07:59:29.966Z"
   },
   {
    "duration": 24,
    "start_time": "2022-05-11T07:59:31.202Z"
   },
   {
    "duration": 4,
    "start_time": "2022-05-11T07:59:31.229Z"
   },
   {
    "duration": 47,
    "start_time": "2022-05-11T07:59:31.236Z"
   },
   {
    "duration": 22,
    "start_time": "2022-05-11T07:59:31.286Z"
   },
   {
    "duration": 28,
    "start_time": "2022-05-11T07:59:31.310Z"
   },
   {
    "duration": 64,
    "start_time": "2022-05-11T07:59:31.340Z"
   },
   {
    "duration": 30,
    "start_time": "2022-05-11T07:59:31.406Z"
   },
   {
    "duration": 9,
    "start_time": "2022-05-11T07:59:31.438Z"
   },
   {
    "duration": 41,
    "start_time": "2022-05-11T07:59:31.452Z"
   },
   {
    "duration": 10,
    "start_time": "2022-05-11T07:59:31.496Z"
   },
   {
    "duration": 17,
    "start_time": "2022-05-11T07:59:31.509Z"
   },
   {
    "duration": 1964,
    "start_time": "2022-05-11T07:59:31.528Z"
   },
   {
    "duration": 19,
    "start_time": "2022-05-11T07:59:33.494Z"
   },
   {
    "duration": 23,
    "start_time": "2022-05-11T07:59:33.516Z"
   },
   {
    "duration": 19,
    "start_time": "2022-05-11T07:59:33.541Z"
   },
   {
    "duration": 23,
    "start_time": "2022-05-11T07:59:33.562Z"
   },
   {
    "duration": 20,
    "start_time": "2022-05-11T07:59:33.587Z"
   },
   {
    "duration": 15,
    "start_time": "2022-05-11T07:59:33.609Z"
   },
   {
    "duration": 18,
    "start_time": "2022-05-11T07:59:33.626Z"
   },
   {
    "duration": 37,
    "start_time": "2022-05-11T07:59:33.646Z"
   },
   {
    "duration": 14,
    "start_time": "2022-05-11T07:59:33.685Z"
   },
   {
    "duration": 7,
    "start_time": "2022-05-11T07:59:33.702Z"
   },
   {
    "duration": 16,
    "start_time": "2022-05-11T07:59:33.711Z"
   },
   {
    "duration": 8,
    "start_time": "2022-05-11T07:59:33.729Z"
   },
   {
    "duration": 48,
    "start_time": "2022-05-11T07:59:33.739Z"
   },
   {
    "duration": 18,
    "start_time": "2022-05-11T07:59:33.789Z"
   },
   {
    "duration": 8,
    "start_time": "2022-05-11T07:59:33.813Z"
   },
   {
    "duration": 4,
    "start_time": "2022-05-11T07:59:33.824Z"
   },
   {
    "duration": 9,
    "start_time": "2022-05-11T07:59:33.830Z"
   },
   {
    "duration": 44,
    "start_time": "2022-05-11T07:59:33.841Z"
   },
   {
    "duration": 24,
    "start_time": "2022-05-11T07:59:33.887Z"
   },
   {
    "duration": 27,
    "start_time": "2022-05-11T07:59:33.913Z"
   },
   {
    "duration": 63,
    "start_time": "2022-05-11T07:59:33.942Z"
   },
   {
    "duration": 27,
    "start_time": "2022-05-11T07:59:34.007Z"
   },
   {
    "duration": 20,
    "start_time": "2022-05-11T07:59:34.037Z"
   },
   {
    "duration": 24,
    "start_time": "2022-05-11T07:59:34.082Z"
   },
   {
    "duration": 11,
    "start_time": "2022-05-11T07:59:34.108Z"
   },
   {
    "duration": 22,
    "start_time": "2022-05-11T07:59:34.122Z"
   },
   {
    "duration": 57,
    "start_time": "2022-05-11T07:59:34.146Z"
   },
   {
    "duration": 9,
    "start_time": "2022-05-11T07:59:34.205Z"
   },
   {
    "duration": 23,
    "start_time": "2022-05-11T07:59:34.217Z"
   },
   {
    "duration": 51,
    "start_time": "2022-05-11T07:59:34.242Z"
   },
   {
    "duration": 6,
    "start_time": "2022-05-11T07:59:34.296Z"
   },
   {
    "duration": 31,
    "start_time": "2022-05-11T07:59:34.305Z"
   },
   {
    "duration": 50,
    "start_time": "2022-05-11T07:59:34.338Z"
   },
   {
    "duration": 11,
    "start_time": "2022-05-11T07:59:34.390Z"
   },
   {
    "duration": 22,
    "start_time": "2022-05-11T07:59:34.404Z"
   },
   {
    "duration": 6,
    "start_time": "2022-05-11T07:59:34.429Z"
   },
   {
    "duration": 63,
    "start_time": "2022-05-11T07:59:34.437Z"
   },
   {
    "duration": 27,
    "start_time": "2022-05-11T07:59:34.503Z"
   },
   {
    "duration": 52,
    "start_time": "2022-05-11T07:59:34.531Z"
   },
   {
    "duration": 61,
    "start_time": "2022-05-11T07:59:34.585Z"
   },
   {
    "duration": 48,
    "start_time": "2022-05-11T07:59:34.648Z"
   },
   {
    "duration": 12,
    "start_time": "2022-05-11T07:59:34.698Z"
   },
   {
    "duration": 19,
    "start_time": "2022-05-11T07:59:34.712Z"
   },
   {
    "duration": 10,
    "start_time": "2022-05-11T07:59:34.733Z"
   },
   {
    "duration": 46,
    "start_time": "2022-05-11T07:59:34.745Z"
   },
   {
    "duration": 21,
    "start_time": "2022-05-11T07:59:34.793Z"
   },
   {
    "duration": 34,
    "start_time": "2022-05-11T07:59:34.816Z"
   },
   {
    "duration": 264,
    "start_time": "2022-05-11T07:59:34.852Z"
   },
   {
    "duration": 31,
    "start_time": "2022-05-11T07:59:35.118Z"
   },
   {
    "duration": 51,
    "start_time": "2022-05-11T07:59:35.152Z"
   },
   {
    "duration": 9,
    "start_time": "2022-05-11T07:59:35.208Z"
   },
   {
    "duration": 19,
    "start_time": "2022-05-11T07:59:35.219Z"
   },
   {
    "duration": 7,
    "start_time": "2022-05-11T07:59:35.240Z"
   },
   {
    "duration": 54,
    "start_time": "2022-05-11T07:59:35.250Z"
   },
   {
    "duration": 148,
    "start_time": "2022-05-11T08:05:50.608Z"
   },
   {
    "duration": 10,
    "start_time": "2022-05-11T08:06:40.872Z"
   },
   {
    "duration": 8,
    "start_time": "2022-05-11T08:06:41.990Z"
   },
   {
    "duration": 9,
    "start_time": "2022-05-11T08:07:44.063Z"
   },
   {
    "duration": 10,
    "start_time": "2022-05-11T08:07:46.947Z"
   },
   {
    "duration": 570,
    "start_time": "2022-05-11T08:07:54.308Z"
   },
   {
    "duration": 22,
    "start_time": "2022-05-11T08:07:54.881Z"
   },
   {
    "duration": 5,
    "start_time": "2022-05-11T08:07:54.906Z"
   },
   {
    "duration": 24,
    "start_time": "2022-05-11T08:07:54.916Z"
   },
   {
    "duration": 52,
    "start_time": "2022-05-11T08:07:54.943Z"
   },
   {
    "duration": 27,
    "start_time": "2022-05-11T08:07:54.997Z"
   },
   {
    "duration": 68,
    "start_time": "2022-05-11T08:07:55.026Z"
   },
   {
    "duration": 32,
    "start_time": "2022-05-11T08:07:55.096Z"
   },
   {
    "duration": 10,
    "start_time": "2022-05-11T08:07:55.130Z"
   },
   {
    "duration": 46,
    "start_time": "2022-05-11T08:07:55.143Z"
   },
   {
    "duration": 13,
    "start_time": "2022-05-11T08:07:55.191Z"
   },
   {
    "duration": 14,
    "start_time": "2022-05-11T08:07:55.207Z"
   },
   {
    "duration": 2282,
    "start_time": "2022-05-11T08:07:55.223Z"
   },
   {
    "duration": 19,
    "start_time": "2022-05-11T08:07:57.508Z"
   },
   {
    "duration": 17,
    "start_time": "2022-05-11T08:07:57.529Z"
   },
   {
    "duration": 35,
    "start_time": "2022-05-11T08:07:57.548Z"
   },
   {
    "duration": 7,
    "start_time": "2022-05-11T08:07:57.586Z"
   },
   {
    "duration": 21,
    "start_time": "2022-05-11T08:07:57.595Z"
   },
   {
    "duration": 13,
    "start_time": "2022-05-11T08:07:57.619Z"
   },
   {
    "duration": 52,
    "start_time": "2022-05-11T08:07:57.635Z"
   },
   {
    "duration": 8,
    "start_time": "2022-05-11T08:07:57.689Z"
   },
   {
    "duration": 16,
    "start_time": "2022-05-11T08:07:57.699Z"
   },
   {
    "duration": 8,
    "start_time": "2022-05-11T08:07:57.718Z"
   },
   {
    "duration": 55,
    "start_time": "2022-05-11T08:07:57.729Z"
   },
   {
    "duration": 7,
    "start_time": "2022-05-11T08:07:57.787Z"
   },
   {
    "duration": 10,
    "start_time": "2022-05-11T08:07:57.797Z"
   },
   {
    "duration": 17,
    "start_time": "2022-05-11T08:07:57.810Z"
   },
   {
    "duration": 4,
    "start_time": "2022-05-11T08:07:57.834Z"
   },
   {
    "duration": 48,
    "start_time": "2022-05-11T08:07:57.841Z"
   },
   {
    "duration": 7,
    "start_time": "2022-05-11T08:07:57.892Z"
   },
   {
    "duration": 23,
    "start_time": "2022-05-11T08:07:57.901Z"
   },
   {
    "duration": 71,
    "start_time": "2022-05-11T08:07:57.927Z"
   },
   {
    "duration": 92,
    "start_time": "2022-05-11T08:07:58.001Z"
   },
   {
    "duration": 89,
    "start_time": "2022-05-11T08:07:58.096Z"
   },
   {
    "duration": 31,
    "start_time": "2022-05-11T08:07:58.188Z"
   },
   {
    "duration": 89,
    "start_time": "2022-05-11T08:07:58.222Z"
   },
   {
    "duration": 9,
    "start_time": "2022-05-11T08:07:58.313Z"
   },
   {
    "duration": 73,
    "start_time": "2022-05-11T08:07:58.325Z"
   },
   {
    "duration": 23,
    "start_time": "2022-05-11T08:07:58.401Z"
   },
   {
    "duration": 10,
    "start_time": "2022-05-11T08:07:58.481Z"
   },
   {
    "duration": 27,
    "start_time": "2022-05-11T08:07:58.493Z"
   },
   {
    "duration": 71,
    "start_time": "2022-05-11T08:07:58.523Z"
   },
   {
    "duration": 5,
    "start_time": "2022-05-11T08:07:58.596Z"
   },
   {
    "duration": 80,
    "start_time": "2022-05-11T08:07:58.603Z"
   },
   {
    "duration": 22,
    "start_time": "2022-05-11T08:07:58.685Z"
   },
   {
    "duration": 9,
    "start_time": "2022-05-11T08:07:58.709Z"
   },
   {
    "duration": 84,
    "start_time": "2022-05-11T08:07:58.720Z"
   },
   {
    "duration": 7,
    "start_time": "2022-05-11T08:07:58.806Z"
   },
   {
    "duration": 87,
    "start_time": "2022-05-11T08:07:58.816Z"
   },
   {
    "duration": 87,
    "start_time": "2022-05-11T08:07:58.906Z"
   },
   {
    "duration": 97,
    "start_time": "2022-05-11T08:07:58.996Z"
   },
   {
    "duration": 134,
    "start_time": "2022-05-11T08:07:59.096Z"
   },
   {
    "duration": 40,
    "start_time": "2022-05-11T08:07:59.283Z"
   },
   {
    "duration": 69,
    "start_time": "2022-05-11T08:07:59.326Z"
   },
   {
    "duration": 23,
    "start_time": "2022-05-11T08:07:59.398Z"
   },
   {
    "duration": 68,
    "start_time": "2022-05-11T08:07:59.424Z"
   },
   {
    "duration": 17,
    "start_time": "2022-05-11T08:07:59.494Z"
   },
   {
    "duration": 73,
    "start_time": "2022-05-11T08:07:59.513Z"
   },
   {
    "duration": 32,
    "start_time": "2022-05-11T08:07:59.589Z"
   },
   {
    "duration": 487,
    "start_time": "2022-05-11T08:07:59.623Z"
   },
   {
    "duration": 79,
    "start_time": "2022-05-11T08:08:00.112Z"
   },
   {
    "duration": 22,
    "start_time": "2022-05-11T08:08:00.193Z"
   },
   {
    "duration": 68,
    "start_time": "2022-05-11T08:08:00.218Z"
   },
   {
    "duration": 32,
    "start_time": "2022-05-11T08:08:00.288Z"
   },
   {
    "duration": 15,
    "start_time": "2022-05-11T08:08:00.323Z"
   },
   {
    "duration": 55,
    "start_time": "2022-05-11T08:08:00.340Z"
   },
   {
    "duration": 634,
    "start_time": "2022-05-11T08:10:41.576Z"
   },
   {
    "duration": 23,
    "start_time": "2022-05-11T08:10:42.212Z"
   },
   {
    "duration": 5,
    "start_time": "2022-05-11T08:10:42.237Z"
   },
   {
    "duration": 47,
    "start_time": "2022-05-11T08:10:42.246Z"
   },
   {
    "duration": 25,
    "start_time": "2022-05-11T08:10:42.295Z"
   },
   {
    "duration": 27,
    "start_time": "2022-05-11T08:10:42.323Z"
   },
   {
    "duration": 58,
    "start_time": "2022-05-11T08:10:42.352Z"
   },
   {
    "duration": 32,
    "start_time": "2022-05-11T08:10:42.412Z"
   },
   {
    "duration": 43,
    "start_time": "2022-05-11T08:10:42.447Z"
   },
   {
    "duration": 12,
    "start_time": "2022-05-11T08:10:42.495Z"
   },
   {
    "duration": 10,
    "start_time": "2022-05-11T08:10:42.510Z"
   },
   {
    "duration": 15,
    "start_time": "2022-05-11T08:10:42.522Z"
   },
   {
    "duration": 2256,
    "start_time": "2022-05-11T08:10:42.540Z"
   },
   {
    "duration": 18,
    "start_time": "2022-05-11T08:10:44.799Z"
   },
   {
    "duration": 71,
    "start_time": "2022-05-11T08:10:44.819Z"
   },
   {
    "duration": 9,
    "start_time": "2022-05-11T08:10:44.892Z"
   },
   {
    "duration": 8,
    "start_time": "2022-05-11T08:10:44.903Z"
   },
   {
    "duration": 71,
    "start_time": "2022-05-11T08:10:44.913Z"
   },
   {
    "duration": 13,
    "start_time": "2022-05-11T08:10:44.986Z"
   },
   {
    "duration": 25,
    "start_time": "2022-05-11T08:10:45.001Z"
   },
   {
    "duration": 56,
    "start_time": "2022-05-11T08:10:45.028Z"
   },
   {
    "duration": 16,
    "start_time": "2022-05-11T08:10:45.086Z"
   },
   {
    "duration": 8,
    "start_time": "2022-05-11T08:10:45.104Z"
   },
   {
    "duration": 69,
    "start_time": "2022-05-11T08:10:45.114Z"
   },
   {
    "duration": 5,
    "start_time": "2022-05-11T08:10:45.185Z"
   },
   {
    "duration": 17,
    "start_time": "2022-05-11T08:10:45.192Z"
   },
   {
    "duration": 5,
    "start_time": "2022-05-11T08:10:45.211Z"
   },
   {
    "duration": 73,
    "start_time": "2022-05-11T08:10:45.223Z"
   },
   {
    "duration": 25,
    "start_time": "2022-05-11T08:10:45.298Z"
   },
   {
    "duration": 83,
    "start_time": "2022-05-11T08:10:45.325Z"
   },
   {
    "duration": 83,
    "start_time": "2022-05-11T08:10:45.410Z"
   },
   {
    "duration": 19,
    "start_time": "2022-05-11T08:10:45.495Z"
   },
   {
    "duration": 74,
    "start_time": "2022-05-11T08:10:45.516Z"
   },
   {
    "duration": 9,
    "start_time": "2022-05-11T08:10:45.592Z"
   },
   {
    "duration": 21,
    "start_time": "2022-05-11T08:10:45.603Z"
   },
   {
    "duration": 24,
    "start_time": "2022-05-11T08:10:45.682Z"
   },
   {
    "duration": 9,
    "start_time": "2022-05-11T08:10:45.708Z"
   },
   {
    "duration": 75,
    "start_time": "2022-05-11T08:10:45.719Z"
   },
   {
    "duration": 22,
    "start_time": "2022-05-11T08:10:45.796Z"
   },
   {
    "duration": 6,
    "start_time": "2022-05-11T08:10:45.820Z"
   },
   {
    "duration": 75,
    "start_time": "2022-05-11T08:10:45.828Z"
   },
   {
    "duration": 77,
    "start_time": "2022-05-11T08:10:45.905Z"
   },
   {
    "duration": 9,
    "start_time": "2022-05-11T08:10:45.984Z"
   },
   {
    "duration": 24,
    "start_time": "2022-05-11T08:10:45.995Z"
   },
   {
    "duration": 61,
    "start_time": "2022-05-11T08:10:46.021Z"
   },
   {
    "duration": 30,
    "start_time": "2022-05-11T08:10:46.084Z"
   },
   {
    "duration": 70,
    "start_time": "2022-05-11T08:10:46.116Z"
   },
   {
    "duration": 48,
    "start_time": "2022-05-11T08:10:46.188Z"
   },
   {
    "duration": 111,
    "start_time": "2022-05-11T08:10:46.282Z"
   },
   {
    "duration": 25,
    "start_time": "2022-05-11T08:10:46.395Z"
   },
   {
    "duration": 62,
    "start_time": "2022-05-11T08:10:46.422Z"
   },
   {
    "duration": 16,
    "start_time": "2022-05-11T08:10:46.486Z"
   },
   {
    "duration": 10,
    "start_time": "2022-05-11T08:10:46.504Z"
   },
   {
    "duration": 67,
    "start_time": "2022-05-11T08:10:46.516Z"
   },
   {
    "duration": 20,
    "start_time": "2022-05-11T08:10:46.585Z"
   },
   {
    "duration": 85,
    "start_time": "2022-05-11T08:10:46.607Z"
   },
   {
    "duration": 428,
    "start_time": "2022-05-11T08:10:46.694Z"
   },
   {
    "duration": 81,
    "start_time": "2022-05-11T08:10:47.124Z"
   },
   {
    "duration": 22,
    "start_time": "2022-05-11T08:10:47.207Z"
   },
   {
    "duration": 9,
    "start_time": "2022-05-11T08:10:47.283Z"
   },
   {
    "duration": 17,
    "start_time": "2022-05-11T08:10:47.294Z"
   },
   {
    "duration": 7,
    "start_time": "2022-05-11T08:10:47.313Z"
   },
   {
    "duration": 73,
    "start_time": "2022-05-11T08:10:47.321Z"
   },
   {
    "duration": 10,
    "start_time": "2022-05-11T08:14:03.923Z"
   },
   {
    "duration": 5,
    "start_time": "2022-05-11T08:14:36.321Z"
   },
   {
    "duration": 136,
    "start_time": "2022-05-11T08:18:36.665Z"
   },
   {
    "duration": 10,
    "start_time": "2022-05-11T08:18:54.782Z"
   },
   {
    "duration": 4,
    "start_time": "2022-05-11T08:18:57.942Z"
   },
   {
    "duration": 5,
    "start_time": "2022-05-11T08:18:58.868Z"
   },
   {
    "duration": 8,
    "start_time": "2022-05-11T08:18:59.696Z"
   },
   {
    "duration": 581,
    "start_time": "2022-05-11T08:19:24.702Z"
   },
   {
    "duration": 22,
    "start_time": "2022-05-11T08:19:25.286Z"
   },
   {
    "duration": 4,
    "start_time": "2022-05-11T08:19:25.310Z"
   },
   {
    "duration": 27,
    "start_time": "2022-05-11T08:19:25.317Z"
   },
   {
    "duration": 46,
    "start_time": "2022-05-11T08:19:25.346Z"
   },
   {
    "duration": 26,
    "start_time": "2022-05-11T08:19:25.394Z"
   },
   {
    "duration": 33,
    "start_time": "2022-05-11T08:19:25.422Z"
   },
   {
    "duration": 31,
    "start_time": "2022-05-11T08:19:25.482Z"
   },
   {
    "duration": 9,
    "start_time": "2022-05-11T08:19:25.515Z"
   },
   {
    "duration": 14,
    "start_time": "2022-05-11T08:19:25.529Z"
   },
   {
    "duration": 41,
    "start_time": "2022-05-11T08:19:25.545Z"
   },
   {
    "duration": 15,
    "start_time": "2022-05-11T08:19:25.588Z"
   },
   {
    "duration": 1916,
    "start_time": "2022-05-11T08:19:25.605Z"
   },
   {
    "duration": 71,
    "start_time": "2022-05-11T08:19:27.523Z"
   },
   {
    "duration": 14,
    "start_time": "2022-05-11T08:19:27.597Z"
   },
   {
    "duration": 6,
    "start_time": "2022-05-11T08:19:27.613Z"
   },
   {
    "duration": 5,
    "start_time": "2022-05-11T08:19:27.621Z"
   },
   {
    "duration": 68,
    "start_time": "2022-05-11T08:19:27.629Z"
   },
   {
    "duration": 14,
    "start_time": "2022-05-11T08:19:27.700Z"
   },
   {
    "duration": 66,
    "start_time": "2022-05-11T08:19:27.716Z"
   },
   {
    "duration": 7,
    "start_time": "2022-05-11T08:19:27.784Z"
   },
   {
    "duration": 19,
    "start_time": "2022-05-11T08:19:27.793Z"
   },
   {
    "duration": 7,
    "start_time": "2022-05-11T08:19:27.814Z"
   },
   {
    "duration": 68,
    "start_time": "2022-05-11T08:19:27.823Z"
   },
   {
    "duration": 5,
    "start_time": "2022-05-11T08:19:27.893Z"
   },
   {
    "duration": 12,
    "start_time": "2022-05-11T08:19:27.900Z"
   },
   {
    "duration": 8,
    "start_time": "2022-05-11T08:19:27.915Z"
   },
   {
    "duration": 34,
    "start_time": "2022-05-11T08:19:27.985Z"
   },
   {
    "duration": 91,
    "start_time": "2022-05-11T08:19:28.021Z"
   },
   {
    "duration": 94,
    "start_time": "2022-05-11T08:19:28.114Z"
   },
   {
    "duration": 90,
    "start_time": "2022-05-11T08:19:28.211Z"
   },
   {
    "duration": 83,
    "start_time": "2022-05-11T08:19:28.304Z"
   },
   {
    "duration": 92,
    "start_time": "2022-05-11T08:19:28.390Z"
   },
   {
    "duration": 13,
    "start_time": "2022-05-11T08:19:28.485Z"
   },
   {
    "duration": 23,
    "start_time": "2022-05-11T08:19:28.500Z"
   },
   {
    "duration": 76,
    "start_time": "2022-05-11T08:19:28.525Z"
   },
   {
    "duration": 9,
    "start_time": "2022-05-11T08:19:28.603Z"
   },
   {
    "duration": 77,
    "start_time": "2022-05-11T08:19:28.614Z"
   },
   {
    "duration": 23,
    "start_time": "2022-05-11T08:19:28.693Z"
   },
   {
    "duration": 5,
    "start_time": "2022-05-11T08:19:28.719Z"
   },
   {
    "duration": 23,
    "start_time": "2022-05-11T08:19:28.782Z"
   },
   {
    "duration": 76,
    "start_time": "2022-05-11T08:19:28.807Z"
   },
   {
    "duration": 9,
    "start_time": "2022-05-11T08:19:28.885Z"
   },
   {
    "duration": 20,
    "start_time": "2022-05-11T08:19:28.896Z"
   },
   {
    "duration": 5,
    "start_time": "2022-05-11T08:19:28.918Z"
   },
   {
    "duration": 76,
    "start_time": "2022-05-11T08:19:28.925Z"
   },
   {
    "duration": 22,
    "start_time": "2022-05-11T08:19:29.003Z"
   },
   {
    "duration": 27,
    "start_time": "2022-05-11T08:19:29.082Z"
   },
   {
    "duration": 109,
    "start_time": "2022-05-11T08:19:29.111Z"
   },
   {
    "duration": 78,
    "start_time": "2022-05-11T08:19:29.222Z"
   },
   {
    "duration": 11,
    "start_time": "2022-05-11T08:19:29.302Z"
   },
   {
    "duration": 68,
    "start_time": "2022-05-11T08:19:29.315Z"
   },
   {
    "duration": 11,
    "start_time": "2022-05-11T08:19:29.385Z"
   },
   {
    "duration": 20,
    "start_time": "2022-05-11T08:19:29.398Z"
   },
   {
    "duration": 74,
    "start_time": "2022-05-11T08:19:29.421Z"
   },
   {
    "duration": 86,
    "start_time": "2022-05-11T08:19:29.497Z"
   },
   {
    "duration": 432,
    "start_time": "2022-05-11T08:19:29.586Z"
   },
   {
    "duration": 79,
    "start_time": "2022-05-11T08:19:30.020Z"
   },
   {
    "duration": 20,
    "start_time": "2022-05-11T08:19:30.101Z"
   },
   {
    "duration": 59,
    "start_time": "2022-05-11T08:19:30.124Z"
   },
   {
    "duration": 29,
    "start_time": "2022-05-11T08:19:30.186Z"
   },
   {
    "duration": 10,
    "start_time": "2022-05-11T08:19:30.218Z"
   },
   {
    "duration": 66,
    "start_time": "2022-05-11T08:19:30.230Z"
   },
   {
    "duration": 576,
    "start_time": "2022-05-11T08:22:51.999Z"
   },
   {
    "duration": 22,
    "start_time": "2022-05-11T08:22:52.578Z"
   },
   {
    "duration": 6,
    "start_time": "2022-05-11T08:22:52.602Z"
   },
   {
    "duration": 27,
    "start_time": "2022-05-11T08:22:52.611Z"
   },
   {
    "duration": 46,
    "start_time": "2022-05-11T08:22:52.641Z"
   },
   {
    "duration": 35,
    "start_time": "2022-05-11T08:22:52.689Z"
   },
   {
    "duration": 71,
    "start_time": "2022-05-11T08:22:52.727Z"
   },
   {
    "duration": 34,
    "start_time": "2022-05-11T08:22:52.801Z"
   },
   {
    "duration": 9,
    "start_time": "2022-05-11T08:22:52.837Z"
   },
   {
    "duration": 11,
    "start_time": "2022-05-11T08:22:52.884Z"
   },
   {
    "duration": 10,
    "start_time": "2022-05-11T08:22:52.897Z"
   },
   {
    "duration": 15,
    "start_time": "2022-05-11T08:22:52.910Z"
   },
   {
    "duration": 2325,
    "start_time": "2022-05-11T08:22:52.928Z"
   },
   {
    "duration": 27,
    "start_time": "2022-05-11T08:22:55.256Z"
   },
   {
    "duration": 22,
    "start_time": "2022-05-11T08:22:55.286Z"
   },
   {
    "duration": 9,
    "start_time": "2022-05-11T08:22:55.311Z"
   },
   {
    "duration": 9,
    "start_time": "2022-05-11T08:22:55.323Z"
   },
   {
    "duration": 55,
    "start_time": "2022-05-11T08:22:55.334Z"
   },
   {
    "duration": 15,
    "start_time": "2022-05-11T08:22:55.391Z"
   },
   {
    "duration": 19,
    "start_time": "2022-05-11T08:22:55.409Z"
   },
   {
    "duration": 15,
    "start_time": "2022-05-11T08:22:55.431Z"
   },
   {
    "duration": 46,
    "start_time": "2022-05-11T08:22:55.448Z"
   },
   {
    "duration": 8,
    "start_time": "2022-05-11T08:22:55.497Z"
   },
   {
    "duration": 13,
    "start_time": "2022-05-11T08:22:55.508Z"
   },
   {
    "duration": 11,
    "start_time": "2022-05-11T08:22:55.523Z"
   },
   {
    "duration": 51,
    "start_time": "2022-05-11T08:22:55.537Z"
   },
   {
    "duration": 5,
    "start_time": "2022-05-11T08:22:55.591Z"
   },
   {
    "duration": 23,
    "start_time": "2022-05-11T08:22:55.607Z"
   },
   {
    "duration": 56,
    "start_time": "2022-05-11T08:22:55.632Z"
   },
   {
    "duration": 33,
    "start_time": "2022-05-11T08:22:55.690Z"
   },
   {
    "duration": 27,
    "start_time": "2022-05-11T08:22:55.725Z"
   },
   {
    "duration": 44,
    "start_time": "2022-05-11T08:22:55.755Z"
   },
   {
    "duration": 23,
    "start_time": "2022-05-11T08:22:55.801Z"
   },
   {
    "duration": 9,
    "start_time": "2022-05-11T08:22:55.827Z"
   },
   {
    "duration": 63,
    "start_time": "2022-05-11T08:22:55.838Z"
   },
   {
    "duration": 27,
    "start_time": "2022-05-11T08:22:55.903Z"
   },
   {
    "duration": 13,
    "start_time": "2022-05-11T08:22:55.932Z"
   },
   {
    "duration": 51,
    "start_time": "2022-05-11T08:22:55.948Z"
   },
   {
    "duration": 24,
    "start_time": "2022-05-11T08:22:56.002Z"
   },
   {
    "duration": 10,
    "start_time": "2022-05-11T08:22:56.028Z"
   },
   {
    "duration": 56,
    "start_time": "2022-05-11T08:22:56.041Z"
   },
   {
    "duration": 22,
    "start_time": "2022-05-11T08:22:56.103Z"
   },
   {
    "duration": 9,
    "start_time": "2022-05-11T08:22:56.127Z"
   },
   {
    "duration": 55,
    "start_time": "2022-05-11T08:22:56.138Z"
   },
   {
    "duration": 6,
    "start_time": "2022-05-11T08:22:56.195Z"
   },
   {
    "duration": 35,
    "start_time": "2022-05-11T08:22:56.203Z"
   },
   {
    "duration": 51,
    "start_time": "2022-05-11T08:22:56.240Z"
   },
   {
    "duration": 29,
    "start_time": "2022-05-11T08:22:56.293Z"
   },
   {
    "duration": 78,
    "start_time": "2022-05-11T08:22:56.325Z"
   },
   {
    "duration": 41,
    "start_time": "2022-05-11T08:22:56.406Z"
   },
   {
    "duration": 33,
    "start_time": "2022-05-11T08:22:56.450Z"
   },
   {
    "duration": 22,
    "start_time": "2022-05-11T08:22:56.486Z"
   },
   {
    "duration": 21,
    "start_time": "2022-05-11T08:22:56.510Z"
   },
   {
    "duration": 40,
    "start_time": "2022-05-11T08:22:56.534Z"
   },
   {
    "duration": 31,
    "start_time": "2022-05-11T08:22:56.576Z"
   },
   {
    "duration": 84,
    "start_time": "2022-05-11T08:22:56.609Z"
   },
   {
    "duration": 617,
    "start_time": "2022-05-11T08:22:56.696Z"
   },
   {
    "duration": 81,
    "start_time": "2022-05-11T08:22:57.315Z"
   },
   {
    "duration": 21,
    "start_time": "2022-05-11T08:22:57.398Z"
   },
   {
    "duration": 65,
    "start_time": "2022-05-11T08:22:57.421Z"
   },
   {
    "duration": 20,
    "start_time": "2022-05-11T08:22:57.488Z"
   },
   {
    "duration": 10,
    "start_time": "2022-05-11T08:22:57.511Z"
   },
   {
    "duration": 77,
    "start_time": "2022-05-11T08:22:57.523Z"
   },
   {
    "duration": 151,
    "start_time": "2022-05-11T08:49:09.896Z"
   },
   {
    "duration": 142,
    "start_time": "2022-05-11T08:53:05.558Z"
   },
   {
    "duration": 638,
    "start_time": "2022-05-11T08:56:53.646Z"
   },
   {
    "duration": 22,
    "start_time": "2022-05-11T08:56:54.287Z"
   },
   {
    "duration": 4,
    "start_time": "2022-05-11T08:56:54.311Z"
   },
   {
    "duration": 25,
    "start_time": "2022-05-11T08:56:54.318Z"
   },
   {
    "duration": 47,
    "start_time": "2022-05-11T08:56:54.345Z"
   },
   {
    "duration": 25,
    "start_time": "2022-05-11T08:56:54.394Z"
   },
   {
    "duration": 60,
    "start_time": "2022-05-11T08:56:54.421Z"
   },
   {
    "duration": 31,
    "start_time": "2022-05-11T08:56:54.483Z"
   },
   {
    "duration": 20,
    "start_time": "2022-05-11T08:56:54.516Z"
   },
   {
    "duration": 10,
    "start_time": "2022-05-11T08:56:54.541Z"
   },
   {
    "duration": 34,
    "start_time": "2022-05-11T08:56:54.554Z"
   },
   {
    "duration": 15,
    "start_time": "2022-05-11T08:56:54.590Z"
   },
   {
    "duration": 2114,
    "start_time": "2022-05-11T08:56:54.607Z"
   },
   {
    "duration": 19,
    "start_time": "2022-05-11T08:56:56.723Z"
   },
   {
    "duration": 15,
    "start_time": "2022-05-11T08:56:56.744Z"
   },
   {
    "duration": 25,
    "start_time": "2022-05-11T08:56:56.761Z"
   },
   {
    "duration": 7,
    "start_time": "2022-05-11T08:56:56.788Z"
   },
   {
    "duration": 19,
    "start_time": "2022-05-11T08:56:56.797Z"
   },
   {
    "duration": 14,
    "start_time": "2022-05-11T08:56:56.819Z"
   },
   {
    "duration": 50,
    "start_time": "2022-05-11T08:56:56.835Z"
   },
   {
    "duration": 8,
    "start_time": "2022-05-11T08:56:56.887Z"
   },
   {
    "duration": 16,
    "start_time": "2022-05-11T08:56:56.898Z"
   },
   {
    "duration": 8,
    "start_time": "2022-05-11T08:56:56.917Z"
   },
   {
    "duration": 13,
    "start_time": "2022-05-11T08:56:56.927Z"
   },
   {
    "duration": 41,
    "start_time": "2022-05-11T08:56:56.942Z"
   },
   {
    "duration": 14,
    "start_time": "2022-05-11T08:56:56.985Z"
   },
   {
    "duration": 5,
    "start_time": "2022-05-11T08:56:57.001Z"
   },
   {
    "duration": 23,
    "start_time": "2022-05-11T08:56:57.011Z"
   },
   {
    "duration": 58,
    "start_time": "2022-05-11T08:56:57.037Z"
   },
   {
    "duration": 31,
    "start_time": "2022-05-11T08:56:57.097Z"
   },
   {
    "duration": 26,
    "start_time": "2022-05-11T08:56:57.130Z"
   },
   {
    "duration": 20,
    "start_time": "2022-05-11T08:56:57.182Z"
   },
   {
    "duration": 37,
    "start_time": "2022-05-11T08:56:57.205Z"
   },
   {
    "duration": 39,
    "start_time": "2022-05-11T08:56:57.244Z"
   },
   {
    "duration": 30,
    "start_time": "2022-05-11T08:56:57.287Z"
   },
   {
    "duration": 62,
    "start_time": "2022-05-11T08:56:57.320Z"
   },
   {
    "duration": 12,
    "start_time": "2022-05-11T08:56:57.385Z"
   },
   {
    "duration": 59,
    "start_time": "2022-05-11T08:56:57.400Z"
   },
   {
    "duration": 36,
    "start_time": "2022-05-11T08:56:57.463Z"
   },
   {
    "duration": 7,
    "start_time": "2022-05-11T08:56:57.502Z"
   },
   {
    "duration": 32,
    "start_time": "2022-05-11T08:56:57.511Z"
   },
   {
    "duration": 42,
    "start_time": "2022-05-11T08:56:57.545Z"
   },
   {
    "duration": 10,
    "start_time": "2022-05-11T08:56:57.589Z"
   },
   {
    "duration": 23,
    "start_time": "2022-05-11T08:56:57.601Z"
   },
   {
    "duration": 5,
    "start_time": "2022-05-11T08:56:57.626Z"
   },
   {
    "duration": 55,
    "start_time": "2022-05-11T08:56:57.633Z"
   },
   {
    "duration": 22,
    "start_time": "2022-05-11T08:56:57.690Z"
   },
   {
    "duration": 25,
    "start_time": "2022-05-11T08:56:57.715Z"
   },
   {
    "duration": 84,
    "start_time": "2022-05-11T08:56:57.742Z"
   },
   {
    "duration": 25,
    "start_time": "2022-05-11T08:56:57.828Z"
   },
   {
    "duration": 26,
    "start_time": "2022-05-11T08:56:57.855Z"
   },
   {
    "duration": 15,
    "start_time": "2022-05-11T08:56:57.883Z"
   },
   {
    "duration": 10,
    "start_time": "2022-05-11T08:56:57.900Z"
   },
   {
    "duration": 17,
    "start_time": "2022-05-11T08:56:57.913Z"
   },
   {
    "duration": 52,
    "start_time": "2022-05-11T08:56:57.932Z"
   },
   {
    "duration": 31,
    "start_time": "2022-05-11T08:56:57.986Z"
   },
   {
    "duration": 257,
    "start_time": "2022-05-11T08:56:58.019Z"
   },
   {
    "duration": 27,
    "start_time": "2022-05-11T08:56:58.281Z"
   },
   {
    "duration": 20,
    "start_time": "2022-05-11T08:56:58.311Z"
   },
   {
    "duration": 12,
    "start_time": "2022-05-11T08:56:58.334Z"
   },
   {
    "duration": 10,
    "start_time": "2022-05-11T08:56:58.382Z"
   },
   {
    "duration": 10,
    "start_time": "2022-05-11T08:56:58.395Z"
   },
   {
    "duration": 29,
    "start_time": "2022-05-11T08:56:58.408Z"
   },
   {
    "duration": 321,
    "start_time": "2022-05-11T08:56:58.440Z"
   },
   {
    "duration": 0,
    "start_time": "2022-05-11T08:56:58.764Z"
   },
   {
    "duration": 0,
    "start_time": "2022-05-11T08:56:58.767Z"
   },
   {
    "duration": 0,
    "start_time": "2022-05-11T08:56:58.769Z"
   },
   {
    "duration": 34,
    "start_time": "2022-05-11T08:57:52.543Z"
   },
   {
    "duration": 18,
    "start_time": "2022-05-11T08:58:27.023Z"
   },
   {
    "duration": 133,
    "start_time": "2022-05-11T09:00:07.576Z"
   },
   {
    "duration": 8,
    "start_time": "2022-05-11T09:00:34.033Z"
   },
   {
    "duration": 11,
    "start_time": "2022-05-11T09:03:27.390Z"
   },
   {
    "duration": 22,
    "start_time": "2022-05-11T09:12:37.160Z"
   },
   {
    "duration": 19,
    "start_time": "2022-05-11T09:13:15.608Z"
   },
   {
    "duration": 20,
    "start_time": "2022-05-11T09:15:55.006Z"
   },
   {
    "duration": 20,
    "start_time": "2022-05-11T09:18:03.250Z"
   },
   {
    "duration": 21,
    "start_time": "2022-05-11T09:31:14.613Z"
   },
   {
    "duration": 627,
    "start_time": "2022-05-11T09:31:25.251Z"
   },
   {
    "duration": 24,
    "start_time": "2022-05-11T09:31:25.880Z"
   },
   {
    "duration": 5,
    "start_time": "2022-05-11T09:31:25.906Z"
   },
   {
    "duration": 24,
    "start_time": "2022-05-11T09:31:25.915Z"
   },
   {
    "duration": 53,
    "start_time": "2022-05-11T09:31:25.942Z"
   },
   {
    "duration": 28,
    "start_time": "2022-05-11T09:31:25.997Z"
   },
   {
    "duration": 69,
    "start_time": "2022-05-11T09:31:26.028Z"
   },
   {
    "duration": 37,
    "start_time": "2022-05-11T09:31:26.100Z"
   },
   {
    "duration": 43,
    "start_time": "2022-05-11T09:31:26.139Z"
   },
   {
    "duration": 12,
    "start_time": "2022-05-11T09:31:26.188Z"
   },
   {
    "duration": 10,
    "start_time": "2022-05-11T09:31:26.203Z"
   },
   {
    "duration": 16,
    "start_time": "2022-05-11T09:31:26.216Z"
   },
   {
    "duration": 2016,
    "start_time": "2022-05-11T09:31:26.234Z"
   },
   {
    "duration": 18,
    "start_time": "2022-05-11T09:31:28.253Z"
   },
   {
    "duration": 14,
    "start_time": "2022-05-11T09:31:28.282Z"
   },
   {
    "duration": 12,
    "start_time": "2022-05-11T09:31:28.298Z"
   },
   {
    "duration": 5,
    "start_time": "2022-05-11T09:31:28.313Z"
   },
   {
    "duration": 21,
    "start_time": "2022-05-11T09:31:28.320Z"
   },
   {
    "duration": 53,
    "start_time": "2022-05-11T09:31:28.343Z"
   },
   {
    "duration": 18,
    "start_time": "2022-05-11T09:31:28.398Z"
   },
   {
    "duration": 6,
    "start_time": "2022-05-11T09:31:28.418Z"
   },
   {
    "duration": 17,
    "start_time": "2022-05-11T09:31:28.426Z"
   },
   {
    "duration": 41,
    "start_time": "2022-05-11T09:31:28.445Z"
   },
   {
    "duration": 17,
    "start_time": "2022-05-11T09:31:28.488Z"
   },
   {
    "duration": 5,
    "start_time": "2022-05-11T09:31:28.509Z"
   },
   {
    "duration": 12,
    "start_time": "2022-05-11T09:31:28.517Z"
   },
   {
    "duration": 6,
    "start_time": "2022-05-11T09:31:28.531Z"
   },
   {
    "duration": 57,
    "start_time": "2022-05-11T09:31:28.543Z"
   },
   {
    "duration": 26,
    "start_time": "2022-05-11T09:31:28.602Z"
   },
   {
    "duration": 54,
    "start_time": "2022-05-11T09:31:28.630Z"
   },
   {
    "duration": 26,
    "start_time": "2022-05-11T09:31:28.686Z"
   },
   {
    "duration": 19,
    "start_time": "2022-05-11T09:31:28.714Z"
   },
   {
    "duration": 52,
    "start_time": "2022-05-11T09:31:28.735Z"
   },
   {
    "duration": 11,
    "start_time": "2022-05-11T09:31:28.789Z"
   },
   {
    "duration": 21,
    "start_time": "2022-05-11T09:31:28.803Z"
   },
   {
    "duration": 54,
    "start_time": "2022-05-11T09:31:28.827Z"
   },
   {
    "duration": 11,
    "start_time": "2022-05-11T09:31:28.884Z"
   },
   {
    "duration": 22,
    "start_time": "2022-05-11T09:31:28.897Z"
   },
   {
    "duration": 60,
    "start_time": "2022-05-11T09:31:28.922Z"
   },
   {
    "duration": 7,
    "start_time": "2022-05-11T09:31:28.985Z"
   },
   {
    "duration": 26,
    "start_time": "2022-05-11T09:31:28.995Z"
   },
   {
    "duration": 21,
    "start_time": "2022-05-11T09:31:29.023Z"
   },
   {
    "duration": 40,
    "start_time": "2022-05-11T09:31:29.046Z"
   },
   {
    "duration": 21,
    "start_time": "2022-05-11T09:31:29.088Z"
   },
   {
    "duration": 6,
    "start_time": "2022-05-11T09:31:29.112Z"
   },
   {
    "duration": 22,
    "start_time": "2022-05-11T09:31:29.120Z"
   },
   {
    "duration": 28,
    "start_time": "2022-05-11T09:31:29.182Z"
   },
   {
    "duration": 29,
    "start_time": "2022-05-11T09:31:29.213Z"
   },
   {
    "duration": 84,
    "start_time": "2022-05-11T09:31:29.245Z"
   },
   {
    "duration": 26,
    "start_time": "2022-05-11T09:31:29.331Z"
   },
   {
    "duration": 30,
    "start_time": "2022-05-11T09:31:29.359Z"
   },
   {
    "duration": 15,
    "start_time": "2022-05-11T09:31:29.391Z"
   },
   {
    "duration": 11,
    "start_time": "2022-05-11T09:31:29.408Z"
   },
   {
    "duration": 14,
    "start_time": "2022-05-11T09:31:29.421Z"
   },
   {
    "duration": 60,
    "start_time": "2022-05-11T09:31:29.438Z"
   },
   {
    "duration": 30,
    "start_time": "2022-05-11T09:31:29.500Z"
   },
   {
    "duration": 258,
    "start_time": "2022-05-11T09:31:29.533Z"
   },
   {
    "duration": 26,
    "start_time": "2022-05-11T09:31:29.793Z"
   },
   {
    "duration": 22,
    "start_time": "2022-05-11T09:31:29.821Z"
   },
   {
    "duration": 40,
    "start_time": "2022-05-11T09:31:29.845Z"
   },
   {
    "duration": 9,
    "start_time": "2022-05-11T09:31:29.887Z"
   },
   {
    "duration": 12,
    "start_time": "2022-05-11T09:31:29.898Z"
   },
   {
    "duration": 22,
    "start_time": "2022-05-11T09:31:29.913Z"
   },
   {
    "duration": 47,
    "start_time": "2022-05-11T09:31:29.937Z"
   },
   {
    "duration": 12,
    "start_time": "2022-05-11T09:31:29.987Z"
   },
   {
    "duration": 172,
    "start_time": "2022-05-11T09:31:30.002Z"
   },
   {
    "duration": 0,
    "start_time": "2022-05-11T09:31:30.181Z"
   },
   {
    "duration": 0,
    "start_time": "2022-05-11T09:31:30.183Z"
   },
   {
    "duration": 0,
    "start_time": "2022-05-11T09:31:30.184Z"
   },
   {
    "duration": 22,
    "start_time": "2022-05-11T09:31:47.765Z"
   },
   {
    "duration": 129,
    "start_time": "2022-05-11T09:32:09.970Z"
   },
   {
    "duration": 117,
    "start_time": "2022-05-11T09:32:26.525Z"
   },
   {
    "duration": 22,
    "start_time": "2022-05-11T09:32:38.418Z"
   },
   {
    "duration": 155,
    "start_time": "2022-05-11T09:38:32.925Z"
   },
   {
    "duration": 640,
    "start_time": "2022-05-11T09:39:21.239Z"
   },
   {
    "duration": 22,
    "start_time": "2022-05-11T09:39:21.882Z"
   },
   {
    "duration": 5,
    "start_time": "2022-05-11T09:39:21.906Z"
   },
   {
    "duration": 24,
    "start_time": "2022-05-11T09:39:21.913Z"
   },
   {
    "duration": 54,
    "start_time": "2022-05-11T09:39:21.939Z"
   },
   {
    "duration": 28,
    "start_time": "2022-05-11T09:39:21.996Z"
   },
   {
    "duration": 56,
    "start_time": "2022-05-11T09:39:22.026Z"
   },
   {
    "duration": 38,
    "start_time": "2022-05-11T09:39:22.085Z"
   },
   {
    "duration": 12,
    "start_time": "2022-05-11T09:39:22.126Z"
   },
   {
    "duration": 44,
    "start_time": "2022-05-11T09:39:22.143Z"
   },
   {
    "duration": 15,
    "start_time": "2022-05-11T09:39:22.189Z"
   },
   {
    "duration": 15,
    "start_time": "2022-05-11T09:39:22.207Z"
   },
   {
    "duration": 1960,
    "start_time": "2022-05-11T09:39:22.225Z"
   },
   {
    "duration": 19,
    "start_time": "2022-05-11T09:39:24.188Z"
   },
   {
    "duration": 16,
    "start_time": "2022-05-11T09:39:24.209Z"
   },
   {
    "duration": 9,
    "start_time": "2022-05-11T09:39:24.227Z"
   },
   {
    "duration": 7,
    "start_time": "2022-05-11T09:39:24.239Z"
   },
   {
    "duration": 53,
    "start_time": "2022-05-11T09:39:24.248Z"
   },
   {
    "duration": 16,
    "start_time": "2022-05-11T09:39:24.304Z"
   },
   {
    "duration": 13,
    "start_time": "2022-05-11T09:39:24.323Z"
   },
   {
    "duration": 41,
    "start_time": "2022-05-11T09:39:24.339Z"
   },
   {
    "duration": 14,
    "start_time": "2022-05-11T09:39:24.383Z"
   },
   {
    "duration": 6,
    "start_time": "2022-05-11T09:39:24.399Z"
   },
   {
    "duration": 11,
    "start_time": "2022-05-11T09:39:24.407Z"
   },
   {
    "duration": 4,
    "start_time": "2022-05-11T09:39:24.420Z"
   },
   {
    "duration": 13,
    "start_time": "2022-05-11T09:39:24.426Z"
   },
   {
    "duration": 43,
    "start_time": "2022-05-11T09:39:24.442Z"
   },
   {
    "duration": 30,
    "start_time": "2022-05-11T09:39:24.492Z"
   },
   {
    "duration": 27,
    "start_time": "2022-05-11T09:39:24.524Z"
   },
   {
    "duration": 31,
    "start_time": "2022-05-11T09:39:24.581Z"
   },
   {
    "duration": 28,
    "start_time": "2022-05-11T09:39:24.614Z"
   },
   {
    "duration": 49,
    "start_time": "2022-05-11T09:39:24.645Z"
   },
   {
    "duration": 24,
    "start_time": "2022-05-11T09:39:24.696Z"
   },
   {
    "duration": 9,
    "start_time": "2022-05-11T09:39:24.722Z"
   },
   {
    "duration": 53,
    "start_time": "2022-05-11T09:39:24.733Z"
   },
   {
    "duration": 23,
    "start_time": "2022-05-11T09:39:24.789Z"
   },
   {
    "duration": 9,
    "start_time": "2022-05-11T09:39:24.814Z"
   },
   {
    "duration": 20,
    "start_time": "2022-05-11T09:39:24.825Z"
   },
   {
    "duration": 55,
    "start_time": "2022-05-11T09:39:24.847Z"
   },
   {
    "duration": 6,
    "start_time": "2022-05-11T09:39:24.905Z"
   },
   {
    "duration": 29,
    "start_time": "2022-05-11T09:39:24.913Z"
   },
   {
    "duration": 46,
    "start_time": "2022-05-11T09:39:24.944Z"
   },
   {
    "duration": 9,
    "start_time": "2022-05-11T09:39:24.991Z"
   },
   {
    "duration": 22,
    "start_time": "2022-05-11T09:39:25.002Z"
   },
   {
    "duration": 5,
    "start_time": "2022-05-11T09:39:25.026Z"
   },
   {
    "duration": 53,
    "start_time": "2022-05-11T09:39:25.033Z"
   },
   {
    "duration": 22,
    "start_time": "2022-05-11T09:39:25.088Z"
   },
   {
    "duration": 27,
    "start_time": "2022-05-11T09:39:25.113Z"
   },
   {
    "duration": 86,
    "start_time": "2022-05-11T09:39:25.142Z"
   },
   {
    "duration": 26,
    "start_time": "2022-05-11T09:39:25.230Z"
   },
   {
    "duration": 28,
    "start_time": "2022-05-11T09:39:25.258Z"
   },
   {
    "duration": 17,
    "start_time": "2022-05-11T09:39:25.288Z"
   },
   {
    "duration": 11,
    "start_time": "2022-05-11T09:39:25.306Z"
   },
   {
    "duration": 17,
    "start_time": "2022-05-11T09:39:25.319Z"
   },
   {
    "duration": 52,
    "start_time": "2022-05-11T09:39:25.338Z"
   },
   {
    "duration": 31,
    "start_time": "2022-05-11T09:39:25.393Z"
   },
   {
    "duration": 261,
    "start_time": "2022-05-11T09:39:25.427Z"
   },
   {
    "duration": 26,
    "start_time": "2022-05-11T09:39:25.691Z"
   },
   {
    "duration": 26,
    "start_time": "2022-05-11T09:39:25.720Z"
   },
   {
    "duration": 35,
    "start_time": "2022-05-11T09:39:25.748Z"
   },
   {
    "duration": 8,
    "start_time": "2022-05-11T09:39:25.785Z"
   },
   {
    "duration": 9,
    "start_time": "2022-05-11T09:39:25.795Z"
   },
   {
    "duration": 18,
    "start_time": "2022-05-11T09:39:25.806Z"
   },
   {
    "duration": 8,
    "start_time": "2022-05-11T09:39:25.826Z"
   },
   {
    "duration": 50,
    "start_time": "2022-05-11T09:39:25.836Z"
   },
   {
    "duration": 23,
    "start_time": "2022-05-11T09:39:25.888Z"
   },
   {
    "duration": 69,
    "start_time": "2022-05-11T09:39:25.914Z"
   },
   {
    "duration": 136,
    "start_time": "2022-05-11T09:39:25.985Z"
   },
   {
    "duration": 0,
    "start_time": "2022-05-11T09:39:26.123Z"
   },
   {
    "duration": 145,
    "start_time": "2022-05-11T09:41:04.489Z"
   },
   {
    "duration": 14,
    "start_time": "2022-05-11T09:43:33.897Z"
   },
   {
    "duration": 17,
    "start_time": "2022-05-11T09:46:55.175Z"
   },
   {
    "duration": 112,
    "start_time": "2022-05-11T09:53:17.225Z"
   },
   {
    "duration": 10,
    "start_time": "2022-05-11T09:54:42.715Z"
   },
   {
    "duration": 24,
    "start_time": "2022-05-11T09:59:52.813Z"
   },
   {
    "duration": 1942,
    "start_time": "2022-05-11T10:00:25.160Z"
   },
   {
    "duration": 2055,
    "start_time": "2022-05-11T10:01:48.533Z"
   },
   {
    "duration": 1905,
    "start_time": "2022-05-11T10:02:15.741Z"
   },
   {
    "duration": 628,
    "start_time": "2022-05-11T10:02:21.736Z"
   },
   {
    "duration": 22,
    "start_time": "2022-05-11T10:02:22.367Z"
   },
   {
    "duration": 4,
    "start_time": "2022-05-11T10:02:22.392Z"
   },
   {
    "duration": 24,
    "start_time": "2022-05-11T10:02:22.399Z"
   },
   {
    "duration": 22,
    "start_time": "2022-05-11T10:02:22.425Z"
   },
   {
    "duration": 27,
    "start_time": "2022-05-11T10:02:22.482Z"
   },
   {
    "duration": 34,
    "start_time": "2022-05-11T10:02:22.511Z"
   },
   {
    "duration": 61,
    "start_time": "2022-05-11T10:02:22.546Z"
   },
   {
    "duration": 9,
    "start_time": "2022-05-11T10:02:22.609Z"
   },
   {
    "duration": 21,
    "start_time": "2022-05-11T10:02:22.622Z"
   },
   {
    "duration": 9,
    "start_time": "2022-05-11T10:02:22.645Z"
   },
   {
    "duration": 15,
    "start_time": "2022-05-11T10:02:22.682Z"
   },
   {
    "duration": 1925,
    "start_time": "2022-05-11T10:02:22.699Z"
   },
   {
    "duration": 19,
    "start_time": "2022-05-11T10:02:24.626Z"
   },
   {
    "duration": 21,
    "start_time": "2022-05-11T10:02:24.647Z"
   },
   {
    "duration": 15,
    "start_time": "2022-05-11T10:02:24.670Z"
   },
   {
    "duration": 7,
    "start_time": "2022-05-11T10:02:24.687Z"
   },
   {
    "duration": 24,
    "start_time": "2022-05-11T10:02:24.696Z"
   },
   {
    "duration": 16,
    "start_time": "2022-05-11T10:02:24.723Z"
   },
   {
    "duration": 41,
    "start_time": "2022-05-11T10:02:24.741Z"
   },
   {
    "duration": 7,
    "start_time": "2022-05-11T10:02:24.784Z"
   },
   {
    "duration": 15,
    "start_time": "2022-05-11T10:02:24.797Z"
   },
   {
    "duration": 9,
    "start_time": "2022-05-11T10:02:24.815Z"
   },
   {
    "duration": 22,
    "start_time": "2022-05-11T10:02:24.826Z"
   },
   {
    "duration": 33,
    "start_time": "2022-05-11T10:02:24.851Z"
   },
   {
    "duration": 17,
    "start_time": "2022-05-11T10:02:24.887Z"
   },
   {
    "duration": 5,
    "start_time": "2022-05-11T10:02:24.906Z"
   },
   {
    "duration": 22,
    "start_time": "2022-05-11T10:02:24.917Z"
   },
   {
    "duration": 55,
    "start_time": "2022-05-11T10:02:24.941Z"
   },
   {
    "duration": 31,
    "start_time": "2022-05-11T10:02:24.998Z"
   },
   {
    "duration": 26,
    "start_time": "2022-05-11T10:02:25.031Z"
   },
   {
    "duration": 39,
    "start_time": "2022-05-11T10:02:25.059Z"
   },
   {
    "duration": 22,
    "start_time": "2022-05-11T10:02:25.101Z"
   },
   {
    "duration": 10,
    "start_time": "2022-05-11T10:02:25.125Z"
   },
   {
    "duration": 61,
    "start_time": "2022-05-11T10:02:25.136Z"
   },
   {
    "duration": 23,
    "start_time": "2022-05-11T10:02:25.199Z"
   },
   {
    "duration": 8,
    "start_time": "2022-05-11T10:02:25.224Z"
   },
   {
    "duration": 21,
    "start_time": "2022-05-11T10:02:25.234Z"
   },
   {
    "duration": 23,
    "start_time": "2022-05-11T10:02:25.282Z"
   },
   {
    "duration": 7,
    "start_time": "2022-05-11T10:02:25.307Z"
   },
   {
    "duration": 28,
    "start_time": "2022-05-11T10:02:25.316Z"
   },
   {
    "duration": 46,
    "start_time": "2022-05-11T10:02:25.346Z"
   },
   {
    "duration": 9,
    "start_time": "2022-05-11T10:02:25.394Z"
   },
   {
    "duration": 22,
    "start_time": "2022-05-11T10:02:25.405Z"
   },
   {
    "duration": 6,
    "start_time": "2022-05-11T10:02:25.429Z"
   },
   {
    "duration": 61,
    "start_time": "2022-05-11T10:02:25.437Z"
   },
   {
    "duration": 22,
    "start_time": "2022-05-11T10:02:25.500Z"
   },
   {
    "duration": 29,
    "start_time": "2022-05-11T10:02:25.524Z"
   },
   {
    "duration": 75,
    "start_time": "2022-05-11T10:02:25.556Z"
   },
   {
    "duration": 25,
    "start_time": "2022-05-11T10:02:25.633Z"
   },
   {
    "duration": 11,
    "start_time": "2022-05-11T10:02:25.681Z"
   },
   {
    "duration": 17,
    "start_time": "2022-05-11T10:02:25.694Z"
   },
   {
    "duration": 11,
    "start_time": "2022-05-11T10:02:25.712Z"
   },
   {
    "duration": 19,
    "start_time": "2022-05-11T10:02:25.725Z"
   },
   {
    "duration": 52,
    "start_time": "2022-05-11T10:02:25.746Z"
   },
   {
    "duration": 31,
    "start_time": "2022-05-11T10:02:25.800Z"
   },
   {
    "duration": 268,
    "start_time": "2022-05-11T10:02:25.833Z"
   },
   {
    "duration": 26,
    "start_time": "2022-05-11T10:02:26.103Z"
   },
   {
    "duration": 20,
    "start_time": "2022-05-11T10:02:26.131Z"
   },
   {
    "duration": 33,
    "start_time": "2022-05-11T10:02:26.153Z"
   },
   {
    "duration": 9,
    "start_time": "2022-05-11T10:02:26.188Z"
   },
   {
    "duration": 7,
    "start_time": "2022-05-11T10:02:26.199Z"
   },
   {
    "duration": 19,
    "start_time": "2022-05-11T10:02:26.209Z"
   },
   {
    "duration": 8,
    "start_time": "2022-05-11T10:02:26.230Z"
   },
   {
    "duration": 13,
    "start_time": "2022-05-11T10:02:26.281Z"
   },
   {
    "duration": 21,
    "start_time": "2022-05-11T10:02:26.296Z"
   },
   {
    "duration": 9,
    "start_time": "2022-05-11T10:02:26.319Z"
   },
   {
    "duration": 2194,
    "start_time": "2022-05-11T10:02:26.331Z"
   },
   {
    "duration": 0,
    "start_time": "2022-05-11T10:02:28.528Z"
   },
   {
    "duration": 0,
    "start_time": "2022-05-11T10:02:28.529Z"
   },
   {
    "duration": 22,
    "start_time": "2022-05-11T10:04:24.504Z"
   },
   {
    "duration": 634,
    "start_time": "2022-05-11T10:20:45.650Z"
   },
   {
    "duration": 34,
    "start_time": "2022-05-11T10:20:46.287Z"
   },
   {
    "duration": 5,
    "start_time": "2022-05-11T10:20:46.324Z"
   },
   {
    "duration": 61,
    "start_time": "2022-05-11T10:20:46.333Z"
   },
   {
    "duration": 32,
    "start_time": "2022-05-11T10:20:46.397Z"
   },
   {
    "duration": 65,
    "start_time": "2022-05-11T10:20:46.432Z"
   },
   {
    "duration": 48,
    "start_time": "2022-05-11T10:20:46.500Z"
   },
   {
    "duration": 54,
    "start_time": "2022-05-11T10:20:46.550Z"
   },
   {
    "duration": 11,
    "start_time": "2022-05-11T10:20:46.607Z"
   },
   {
    "duration": 12,
    "start_time": "2022-05-11T10:20:46.622Z"
   },
   {
    "duration": 49,
    "start_time": "2022-05-11T10:20:46.636Z"
   },
   {
    "duration": 16,
    "start_time": "2022-05-11T10:20:46.688Z"
   },
   {
    "duration": 2329,
    "start_time": "2022-05-11T10:20:46.706Z"
   },
   {
    "duration": 19,
    "start_time": "2022-05-11T10:20:49.038Z"
   },
   {
    "duration": 38,
    "start_time": "2022-05-11T10:20:49.059Z"
   },
   {
    "duration": 7,
    "start_time": "2022-05-11T10:20:49.101Z"
   },
   {
    "duration": 5,
    "start_time": "2022-05-11T10:20:49.111Z"
   },
   {
    "duration": 28,
    "start_time": "2022-05-11T10:20:49.118Z"
   },
   {
    "duration": 35,
    "start_time": "2022-05-11T10:20:49.148Z"
   },
   {
    "duration": 14,
    "start_time": "2022-05-11T10:20:49.186Z"
   },
   {
    "duration": 8,
    "start_time": "2022-05-11T10:20:49.203Z"
   },
   {
    "duration": 15,
    "start_time": "2022-05-11T10:20:49.214Z"
   },
   {
    "duration": 56,
    "start_time": "2022-05-11T10:20:49.232Z"
   },
   {
    "duration": 13,
    "start_time": "2022-05-11T10:20:49.290Z"
   },
   {
    "duration": 6,
    "start_time": "2022-05-11T10:20:49.305Z"
   },
   {
    "duration": 10,
    "start_time": "2022-05-11T10:20:49.313Z"
   },
   {
    "duration": 6,
    "start_time": "2022-05-11T10:20:49.325Z"
   },
   {
    "duration": 22,
    "start_time": "2022-05-11T10:20:49.382Z"
   },
   {
    "duration": 26,
    "start_time": "2022-05-11T10:20:49.406Z"
   },
   {
    "duration": 61,
    "start_time": "2022-05-11T10:20:49.434Z"
   },
   {
    "duration": 27,
    "start_time": "2022-05-11T10:20:49.498Z"
   },
   {
    "duration": 31,
    "start_time": "2022-05-11T10:20:49.528Z"
   },
   {
    "duration": 23,
    "start_time": "2022-05-11T10:20:49.583Z"
   },
   {
    "duration": 11,
    "start_time": "2022-05-11T10:20:49.608Z"
   },
   {
    "duration": 25,
    "start_time": "2022-05-11T10:20:49.621Z"
   },
   {
    "duration": 53,
    "start_time": "2022-05-11T10:20:49.648Z"
   },
   {
    "duration": 9,
    "start_time": "2022-05-11T10:20:49.704Z"
   },
   {
    "duration": 20,
    "start_time": "2022-05-11T10:20:49.715Z"
   },
   {
    "duration": 64,
    "start_time": "2022-05-11T10:20:49.737Z"
   },
   {
    "duration": 6,
    "start_time": "2022-05-11T10:20:49.803Z"
   },
   {
    "duration": 29,
    "start_time": "2022-05-11T10:20:49.811Z"
   },
   {
    "duration": 61,
    "start_time": "2022-05-11T10:20:49.843Z"
   },
   {
    "duration": 12,
    "start_time": "2022-05-11T10:20:49.907Z"
   },
   {
    "duration": 38,
    "start_time": "2022-05-11T10:20:49.921Z"
   },
   {
    "duration": 24,
    "start_time": "2022-05-11T10:20:49.962Z"
   },
   {
    "duration": 49,
    "start_time": "2022-05-11T10:20:49.988Z"
   },
   {
    "duration": 43,
    "start_time": "2022-05-11T10:20:50.040Z"
   },
   {
    "duration": 40,
    "start_time": "2022-05-11T10:20:50.086Z"
   },
   {
    "duration": 100,
    "start_time": "2022-05-11T10:20:50.128Z"
   },
   {
    "duration": 27,
    "start_time": "2022-05-11T10:20:50.231Z"
   },
   {
    "duration": 28,
    "start_time": "2022-05-11T10:20:50.261Z"
   },
   {
    "duration": 16,
    "start_time": "2022-05-11T10:20:50.291Z"
   },
   {
    "duration": 11,
    "start_time": "2022-05-11T10:20:50.310Z"
   },
   {
    "duration": 19,
    "start_time": "2022-05-11T10:20:50.323Z"
   },
   {
    "duration": 20,
    "start_time": "2022-05-11T10:20:50.382Z"
   },
   {
    "duration": 34,
    "start_time": "2022-05-11T10:20:50.404Z"
   },
   {
    "duration": 412,
    "start_time": "2022-05-11T10:20:50.441Z"
   },
   {
    "duration": 48,
    "start_time": "2022-05-11T10:20:50.855Z"
   },
   {
    "duration": 30,
    "start_time": "2022-05-11T10:20:50.906Z"
   },
   {
    "duration": 13,
    "start_time": "2022-05-11T10:20:50.939Z"
   },
   {
    "duration": 9,
    "start_time": "2022-05-11T10:20:50.982Z"
   },
   {
    "duration": 9,
    "start_time": "2022-05-11T10:20:50.993Z"
   },
   {
    "duration": 22,
    "start_time": "2022-05-11T10:20:51.004Z"
   },
   {
    "duration": 7,
    "start_time": "2022-05-11T10:20:51.028Z"
   },
   {
    "duration": 13,
    "start_time": "2022-05-11T10:20:51.087Z"
   },
   {
    "duration": 33,
    "start_time": "2022-05-11T10:20:51.103Z"
   },
   {
    "duration": 10,
    "start_time": "2022-05-11T10:20:51.138Z"
   },
   {
    "duration": 45,
    "start_time": "2022-05-11T10:20:51.150Z"
   },
   {
    "duration": 27,
    "start_time": "2022-05-11T10:20:51.197Z"
   },
   {
    "duration": 117,
    "start_time": "2022-05-11T10:23:13.706Z"
   },
   {
    "duration": 10,
    "start_time": "2022-05-11T10:23:31.024Z"
   },
   {
    "duration": 30,
    "start_time": "2022-05-11T10:43:08.482Z"
   },
   {
    "duration": 26,
    "start_time": "2022-05-11T10:44:46.691Z"
   },
   {
    "duration": 125,
    "start_time": "2022-05-11T10:52:52.953Z"
   },
   {
    "duration": 603,
    "start_time": "2022-05-11T11:03:57.924Z"
   },
   {
    "duration": 23,
    "start_time": "2022-05-11T11:03:58.530Z"
   },
   {
    "duration": 5,
    "start_time": "2022-05-11T11:03:58.555Z"
   },
   {
    "duration": 43,
    "start_time": "2022-05-11T11:03:58.562Z"
   },
   {
    "duration": 34,
    "start_time": "2022-05-11T11:03:58.610Z"
   },
   {
    "duration": 56,
    "start_time": "2022-05-11T11:03:58.647Z"
   },
   {
    "duration": 45,
    "start_time": "2022-05-11T11:03:58.706Z"
   },
   {
    "duration": 71,
    "start_time": "2022-05-11T11:03:58.754Z"
   },
   {
    "duration": 12,
    "start_time": "2022-05-11T11:03:58.828Z"
   },
   {
    "duration": 40,
    "start_time": "2022-05-11T11:03:58.842Z"
   },
   {
    "duration": 10,
    "start_time": "2022-05-11T11:03:58.890Z"
   },
   {
    "duration": 31,
    "start_time": "2022-05-11T11:03:58.903Z"
   },
   {
    "duration": 2145,
    "start_time": "2022-05-11T11:03:58.937Z"
   },
   {
    "duration": 21,
    "start_time": "2022-05-11T11:04:01.087Z"
   },
   {
    "duration": 49,
    "start_time": "2022-05-11T11:04:01.111Z"
   },
   {
    "duration": 17,
    "start_time": "2022-05-11T11:04:01.163Z"
   },
   {
    "duration": 36,
    "start_time": "2022-05-11T11:04:01.183Z"
   },
   {
    "duration": 27,
    "start_time": "2022-05-11T11:04:01.222Z"
   },
   {
    "duration": 19,
    "start_time": "2022-05-11T11:04:01.252Z"
   },
   {
    "duration": 51,
    "start_time": "2022-05-11T11:04:01.275Z"
   },
   {
    "duration": 10,
    "start_time": "2022-05-11T11:04:01.328Z"
   },
   {
    "duration": 36,
    "start_time": "2022-05-11T11:04:01.341Z"
   },
   {
    "duration": 11,
    "start_time": "2022-05-11T11:04:01.380Z"
   },
   {
    "duration": 38,
    "start_time": "2022-05-11T11:04:01.394Z"
   },
   {
    "duration": 9,
    "start_time": "2022-05-11T11:04:01.435Z"
   },
   {
    "duration": 11,
    "start_time": "2022-05-11T11:04:01.447Z"
   },
   {
    "duration": 15,
    "start_time": "2022-05-11T11:04:01.461Z"
   },
   {
    "duration": 48,
    "start_time": "2022-05-11T11:04:01.479Z"
   },
   {
    "duration": 43,
    "start_time": "2022-05-11T11:04:01.529Z"
   },
   {
    "duration": 37,
    "start_time": "2022-05-11T11:04:01.575Z"
   },
   {
    "duration": 42,
    "start_time": "2022-05-11T11:04:01.615Z"
   },
   {
    "duration": 22,
    "start_time": "2022-05-11T11:04:01.660Z"
   },
   {
    "duration": 61,
    "start_time": "2022-05-11T11:04:01.684Z"
   },
   {
    "duration": 11,
    "start_time": "2022-05-11T11:04:01.747Z"
   },
   {
    "duration": 64,
    "start_time": "2022-05-11T11:04:01.761Z"
   },
   {
    "duration": 59,
    "start_time": "2022-05-11T11:04:01.828Z"
   },
   {
    "duration": 12,
    "start_time": "2022-05-11T11:04:01.890Z"
   },
   {
    "duration": 41,
    "start_time": "2022-05-11T11:04:01.905Z"
   },
   {
    "duration": 56,
    "start_time": "2022-05-11T11:04:01.949Z"
   },
   {
    "duration": 28,
    "start_time": "2022-05-11T11:04:02.007Z"
   },
   {
    "duration": 44,
    "start_time": "2022-05-11T11:04:02.045Z"
   },
   {
    "duration": 87,
    "start_time": "2022-05-11T11:04:02.093Z"
   },
   {
    "duration": 22,
    "start_time": "2022-05-11T11:04:02.183Z"
   },
   {
    "duration": 39,
    "start_time": "2022-05-11T11:04:02.209Z"
   },
   {
    "duration": 10,
    "start_time": "2022-05-11T11:04:02.250Z"
   },
   {
    "duration": 48,
    "start_time": "2022-05-11T11:04:02.262Z"
   },
   {
    "duration": 42,
    "start_time": "2022-05-11T11:04:02.313Z"
   },
   {
    "duration": 37,
    "start_time": "2022-05-11T11:04:02.357Z"
   },
   {
    "duration": 83,
    "start_time": "2022-05-11T11:04:02.402Z"
   },
   {
    "duration": 35,
    "start_time": "2022-05-11T11:04:02.488Z"
   },
   {
    "duration": 11,
    "start_time": "2022-05-11T11:04:02.526Z"
   },
   {
    "duration": 37,
    "start_time": "2022-05-11T11:04:02.540Z"
   },
   {
    "duration": 20,
    "start_time": "2022-05-11T11:04:02.580Z"
   },
   {
    "duration": 31,
    "start_time": "2022-05-11T11:04:02.608Z"
   },
   {
    "duration": 43,
    "start_time": "2022-05-11T11:04:02.641Z"
   },
   {
    "duration": 36,
    "start_time": "2022-05-11T11:04:02.691Z"
   },
   {
    "duration": 267,
    "start_time": "2022-05-11T11:04:02.730Z"
   },
   {
    "duration": 32,
    "start_time": "2022-05-11T11:04:02.999Z"
   },
   {
    "duration": 55,
    "start_time": "2022-05-11T11:04:03.034Z"
   },
   {
    "duration": 12,
    "start_time": "2022-05-11T11:04:03.092Z"
   },
   {
    "duration": 30,
    "start_time": "2022-05-11T11:04:03.107Z"
   },
   {
    "duration": 11,
    "start_time": "2022-05-11T11:04:03.140Z"
   },
   {
    "duration": 42,
    "start_time": "2022-05-11T11:04:03.154Z"
   },
   {
    "duration": 8,
    "start_time": "2022-05-11T11:04:03.198Z"
   },
   {
    "duration": 16,
    "start_time": "2022-05-11T11:04:03.208Z"
   },
   {
    "duration": 76,
    "start_time": "2022-05-11T11:04:03.227Z"
   },
   {
    "duration": 10,
    "start_time": "2022-05-11T11:04:03.305Z"
   },
   {
    "duration": 29,
    "start_time": "2022-05-11T11:04:03.317Z"
   },
   {
    "duration": 12,
    "start_time": "2022-05-11T11:04:03.347Z"
   },
   {
    "duration": 48,
    "start_time": "2022-05-11T11:04:03.361Z"
   },
   {
    "duration": 748,
    "start_time": "2022-05-11T15:18:49.641Z"
   },
   {
    "duration": 25,
    "start_time": "2022-05-11T15:18:50.392Z"
   },
   {
    "duration": 7,
    "start_time": "2022-05-11T15:18:50.420Z"
   },
   {
    "duration": 60,
    "start_time": "2022-05-11T15:18:50.432Z"
   },
   {
    "duration": 37,
    "start_time": "2022-05-11T15:18:50.496Z"
   },
   {
    "duration": 71,
    "start_time": "2022-05-11T15:18:50.536Z"
   },
   {
    "duration": 72,
    "start_time": "2022-05-11T15:18:50.610Z"
   },
   {
    "duration": 36,
    "start_time": "2022-05-11T15:18:50.686Z"
   },
   {
    "duration": 14,
    "start_time": "2022-05-11T15:18:50.726Z"
   },
   {
    "duration": 15,
    "start_time": "2022-05-11T15:18:50.781Z"
   },
   {
    "duration": 15,
    "start_time": "2022-05-11T15:18:50.798Z"
   },
   {
    "duration": 33,
    "start_time": "2022-05-11T15:18:50.816Z"
   },
   {
    "duration": 2379,
    "start_time": "2022-05-11T15:18:50.852Z"
   },
   {
    "duration": 21,
    "start_time": "2022-05-11T15:18:53.284Z"
   },
   {
    "duration": 76,
    "start_time": "2022-05-11T15:18:53.308Z"
   },
   {
    "duration": 12,
    "start_time": "2022-05-11T15:18:53.387Z"
   },
   {
    "duration": 7,
    "start_time": "2022-05-11T15:18:53.402Z"
   },
   {
    "duration": 75,
    "start_time": "2022-05-11T15:18:53.412Z"
   },
   {
    "duration": 15,
    "start_time": "2022-05-11T15:18:53.490Z"
   },
   {
    "duration": 16,
    "start_time": "2022-05-11T15:18:53.507Z"
   },
   {
    "duration": 9,
    "start_time": "2022-05-11T15:18:53.582Z"
   },
   {
    "duration": 24,
    "start_time": "2022-05-11T15:18:53.595Z"
   },
   {
    "duration": 61,
    "start_time": "2022-05-11T15:18:53.622Z"
   },
   {
    "duration": 15,
    "start_time": "2022-05-11T15:18:53.686Z"
   },
   {
    "duration": 8,
    "start_time": "2022-05-11T15:18:53.705Z"
   },
   {
    "duration": 66,
    "start_time": "2022-05-11T15:18:53.717Z"
   },
   {
    "duration": 6,
    "start_time": "2022-05-11T15:18:53.786Z"
   },
   {
    "duration": 25,
    "start_time": "2022-05-11T15:18:53.798Z"
   },
   {
    "duration": 94,
    "start_time": "2022-05-11T15:18:53.826Z"
   },
   {
    "duration": 108,
    "start_time": "2022-05-11T15:18:53.923Z"
   },
   {
    "duration": 77,
    "start_time": "2022-05-11T15:18:54.035Z"
   },
   {
    "duration": 84,
    "start_time": "2022-05-11T15:18:54.116Z"
   },
   {
    "duration": 94,
    "start_time": "2022-05-11T15:18:54.203Z"
   },
   {
    "duration": 14,
    "start_time": "2022-05-11T15:18:54.300Z"
   },
   {
    "duration": 105,
    "start_time": "2022-05-11T15:18:54.318Z"
   },
   {
    "duration": 79,
    "start_time": "2022-05-11T15:18:54.427Z"
   },
   {
    "duration": 15,
    "start_time": "2022-05-11T15:18:54.510Z"
   },
   {
    "duration": 46,
    "start_time": "2022-05-11T15:18:54.584Z"
   },
   {
    "duration": 39,
    "start_time": "2022-05-11T15:18:54.682Z"
   },
   {
    "duration": 63,
    "start_time": "2022-05-11T15:18:54.724Z"
   },
   {
    "duration": 95,
    "start_time": "2022-05-11T15:18:54.790Z"
   },
   {
    "duration": 36,
    "start_time": "2022-05-11T15:18:54.889Z"
   },
   {
    "duration": 15,
    "start_time": "2022-05-11T15:18:54.983Z"
   },
   {
    "duration": 83,
    "start_time": "2022-05-11T15:18:55.001Z"
   },
   {
    "duration": 6,
    "start_time": "2022-05-11T15:18:55.087Z"
   },
   {
    "duration": 30,
    "start_time": "2022-05-11T15:18:55.096Z"
   },
   {
    "duration": 80,
    "start_time": "2022-05-11T15:18:55.202Z"
   },
   {
    "duration": 98,
    "start_time": "2022-05-11T15:18:55.286Z"
   },
   {
    "duration": 133,
    "start_time": "2022-05-11T15:18:55.387Z"
   },
   {
    "duration": 95,
    "start_time": "2022-05-11T15:18:55.523Z"
   },
   {
    "duration": 72,
    "start_time": "2022-05-11T15:18:55.622Z"
   },
   {
    "duration": 25,
    "start_time": "2022-05-11T15:18:55.698Z"
   },
   {
    "duration": 71,
    "start_time": "2022-05-11T15:18:55.726Z"
   },
   {
    "duration": 83,
    "start_time": "2022-05-11T15:18:55.800Z"
   },
   {
    "duration": 22,
    "start_time": "2022-05-11T15:18:55.886Z"
   },
   {
    "duration": 124,
    "start_time": "2022-05-11T15:18:55.912Z"
   },
   {
    "duration": 843,
    "start_time": "2022-05-11T15:18:56.082Z"
   },
   {
    "duration": 66,
    "start_time": "2022-05-11T15:18:56.928Z"
   },
   {
    "duration": 35,
    "start_time": "2022-05-11T15:18:56.997Z"
   },
   {
    "duration": 11,
    "start_time": "2022-05-11T15:18:57.035Z"
   },
   {
    "duration": 37,
    "start_time": "2022-05-11T15:18:57.048Z"
   },
   {
    "duration": 8,
    "start_time": "2022-05-11T15:18:57.088Z"
   },
   {
    "duration": 33,
    "start_time": "2022-05-11T15:18:57.099Z"
   },
   {
    "duration": 9,
    "start_time": "2022-05-11T15:18:57.134Z"
   },
   {
    "duration": 11,
    "start_time": "2022-05-11T15:18:57.182Z"
   },
   {
    "duration": 25,
    "start_time": "2022-05-11T15:18:57.196Z"
   },
   {
    "duration": 10,
    "start_time": "2022-05-11T15:18:57.225Z"
   },
   {
    "duration": 67,
    "start_time": "2022-05-11T15:18:57.238Z"
   },
   {
    "duration": 16,
    "start_time": "2022-05-11T15:18:57.307Z"
   },
   {
    "duration": 89,
    "start_time": "2022-05-11T15:18:57.325Z"
   },
   {
    "duration": 158,
    "start_time": "2022-05-12T07:57:35.164Z"
   },
   {
    "duration": 340,
    "start_time": "2022-05-12T07:58:10.442Z"
   },
   {
    "duration": 61,
    "start_time": "2022-05-12T07:58:10.831Z"
   },
   {
    "duration": 145,
    "start_time": "2022-05-12T08:01:29.505Z"
   },
   {
    "duration": 394,
    "start_time": "2022-05-12T08:09:26.042Z"
   },
   {
    "duration": 75,
    "start_time": "2022-05-12T08:09:26.438Z"
   },
   {
    "duration": 21,
    "start_time": "2022-05-12T08:09:26.515Z"
   },
   {
    "duration": 4,
    "start_time": "2022-05-12T08:09:26.537Z"
   },
   {
    "duration": 16,
    "start_time": "2022-05-12T08:09:26.543Z"
   },
   {
    "duration": 13,
    "start_time": "2022-05-12T08:09:26.560Z"
   },
   {
    "duration": 37,
    "start_time": "2022-05-12T08:09:26.574Z"
   },
   {
    "duration": 19,
    "start_time": "2022-05-12T08:09:26.613Z"
   },
   {
    "duration": 16,
    "start_time": "2022-05-12T08:09:26.633Z"
   },
   {
    "duration": 6,
    "start_time": "2022-05-12T08:09:26.651Z"
   },
   {
    "duration": 8,
    "start_time": "2022-05-12T08:09:26.658Z"
   },
   {
    "duration": 36,
    "start_time": "2022-05-12T08:09:26.668Z"
   },
   {
    "duration": 12,
    "start_time": "2022-05-12T08:09:26.705Z"
   },
   {
    "duration": 1397,
    "start_time": "2022-05-12T08:09:26.720Z"
   },
   {
    "duration": 11,
    "start_time": "2022-05-12T08:09:28.118Z"
   },
   {
    "duration": 13,
    "start_time": "2022-05-12T08:09:28.130Z"
   },
   {
    "duration": 6,
    "start_time": "2022-05-12T08:09:28.144Z"
   },
   {
    "duration": 4,
    "start_time": "2022-05-12T08:09:28.151Z"
   },
   {
    "duration": 12,
    "start_time": "2022-05-12T08:09:28.156Z"
   },
   {
    "duration": 9,
    "start_time": "2022-05-12T08:09:28.169Z"
   },
   {
    "duration": 7,
    "start_time": "2022-05-12T08:09:28.200Z"
   },
   {
    "duration": 4,
    "start_time": "2022-05-12T08:09:28.208Z"
   },
   {
    "duration": 11,
    "start_time": "2022-05-12T08:09:28.213Z"
   },
   {
    "duration": 4,
    "start_time": "2022-05-12T08:09:28.225Z"
   },
   {
    "duration": 9,
    "start_time": "2022-05-12T08:09:28.231Z"
   },
   {
    "duration": 4,
    "start_time": "2022-05-12T08:09:28.242Z"
   },
   {
    "duration": 6,
    "start_time": "2022-05-12T08:09:28.248Z"
   },
   {
    "duration": 5,
    "start_time": "2022-05-12T08:09:28.255Z"
   },
   {
    "duration": 48,
    "start_time": "2022-05-12T08:09:28.261Z"
   },
   {
    "duration": 17,
    "start_time": "2022-05-12T08:09:28.310Z"
   },
   {
    "duration": 6,
    "start_time": "2022-05-12T08:09:28.329Z"
   },
   {
    "duration": 14,
    "start_time": "2022-05-12T08:09:28.336Z"
   },
   {
    "duration": 16,
    "start_time": "2022-05-12T08:09:28.352Z"
   },
   {
    "duration": 34,
    "start_time": "2022-05-12T08:09:28.369Z"
   },
   {
    "duration": 19,
    "start_time": "2022-05-12T08:09:28.405Z"
   },
   {
    "duration": 17,
    "start_time": "2022-05-12T08:09:28.425Z"
   },
   {
    "duration": 16,
    "start_time": "2022-05-12T08:09:28.444Z"
   },
   {
    "duration": 45,
    "start_time": "2022-05-12T08:09:28.462Z"
   },
   {
    "duration": 13,
    "start_time": "2022-05-12T08:09:28.509Z"
   },
   {
    "duration": 15,
    "start_time": "2022-05-12T08:09:28.524Z"
   },
   {
    "duration": 4,
    "start_time": "2022-05-12T08:09:28.543Z"
   },
   {
    "duration": 17,
    "start_time": "2022-05-12T08:09:28.548Z"
   },
   {
    "duration": 38,
    "start_time": "2022-05-12T08:09:28.567Z"
   },
   {
    "duration": 6,
    "start_time": "2022-05-12T08:09:28.606Z"
   },
   {
    "duration": 13,
    "start_time": "2022-05-12T08:09:28.613Z"
   },
   {
    "duration": 3,
    "start_time": "2022-05-12T08:09:28.628Z"
   },
   {
    "duration": 19,
    "start_time": "2022-05-12T08:09:28.632Z"
   },
   {
    "duration": 15,
    "start_time": "2022-05-12T08:09:28.652Z"
   },
   {
    "duration": 40,
    "start_time": "2022-05-12T08:09:28.668Z"
   },
   {
    "duration": 32,
    "start_time": "2022-05-12T08:09:28.710Z"
   },
   {
    "duration": 16,
    "start_time": "2022-05-12T08:09:28.743Z"
   },
   {
    "duration": 6,
    "start_time": "2022-05-12T08:09:28.761Z"
   },
   {
    "duration": 31,
    "start_time": "2022-05-12T08:09:28.769Z"
   },
   {
    "duration": 7,
    "start_time": "2022-05-12T08:09:28.802Z"
   },
   {
    "duration": 13,
    "start_time": "2022-05-12T08:09:28.811Z"
   },
   {
    "duration": 11,
    "start_time": "2022-05-12T08:09:28.825Z"
   },
   {
    "duration": 19,
    "start_time": "2022-05-12T08:09:28.837Z"
   },
   {
    "duration": 146,
    "start_time": "2022-05-12T08:09:28.857Z"
   },
   {
    "duration": 17,
    "start_time": "2022-05-12T08:09:29.004Z"
   },
   {
    "duration": 14,
    "start_time": "2022-05-12T08:09:29.022Z"
   },
   {
    "duration": 8,
    "start_time": "2022-05-12T08:09:29.037Z"
   },
   {
    "duration": 7,
    "start_time": "2022-05-12T08:09:29.047Z"
   },
   {
    "duration": 15,
    "start_time": "2022-05-12T08:09:29.056Z"
   },
   {
    "duration": 15,
    "start_time": "2022-05-12T08:09:29.072Z"
   },
   {
    "duration": 13,
    "start_time": "2022-05-12T08:09:29.089Z"
   },
   {
    "duration": 10,
    "start_time": "2022-05-12T08:09:29.103Z"
   },
   {
    "duration": 15,
    "start_time": "2022-05-12T08:09:29.114Z"
   },
   {
    "duration": 5,
    "start_time": "2022-05-12T08:09:29.131Z"
   },
   {
    "duration": 14,
    "start_time": "2022-05-12T08:09:29.138Z"
   },
   {
    "duration": 5,
    "start_time": "2022-05-12T08:09:29.153Z"
   },
   {
    "duration": 16,
    "start_time": "2022-05-12T08:09:29.160Z"
   },
   {
    "duration": 399,
    "start_time": "2022-05-12T08:22:58.718Z"
   },
   {
    "duration": 58,
    "start_time": "2022-05-12T08:22:59.118Z"
   },
   {
    "duration": 14,
    "start_time": "2022-05-12T08:22:59.178Z"
   },
   {
    "duration": 7,
    "start_time": "2022-05-12T08:22:59.193Z"
   },
   {
    "duration": 13,
    "start_time": "2022-05-12T08:22:59.201Z"
   },
   {
    "duration": 12,
    "start_time": "2022-05-12T08:22:59.215Z"
   },
   {
    "duration": 16,
    "start_time": "2022-05-12T08:22:59.228Z"
   },
   {
    "duration": 17,
    "start_time": "2022-05-12T08:22:59.245Z"
   },
   {
    "duration": 47,
    "start_time": "2022-05-12T08:22:59.264Z"
   },
   {
    "duration": 6,
    "start_time": "2022-05-12T08:22:59.313Z"
   },
   {
    "duration": 11,
    "start_time": "2022-05-12T08:22:59.320Z"
   },
   {
    "duration": 5,
    "start_time": "2022-05-12T08:22:59.333Z"
   },
   {
    "duration": 13,
    "start_time": "2022-05-12T08:22:59.340Z"
   },
   {
    "duration": 1214,
    "start_time": "2022-05-12T08:22:59.354Z"
   },
   {
    "duration": 13,
    "start_time": "2022-05-12T08:23:00.569Z"
   },
   {
    "duration": 22,
    "start_time": "2022-05-12T08:23:00.583Z"
   },
   {
    "duration": 15,
    "start_time": "2022-05-12T08:23:00.606Z"
   },
   {
    "duration": 18,
    "start_time": "2022-05-12T08:23:00.622Z"
   },
   {
    "duration": 38,
    "start_time": "2022-05-12T08:23:00.642Z"
   },
   {
    "duration": 15,
    "start_time": "2022-05-12T08:23:00.681Z"
   },
   {
    "duration": 15,
    "start_time": "2022-05-12T08:23:00.698Z"
   },
   {
    "duration": 6,
    "start_time": "2022-05-12T08:23:00.714Z"
   },
   {
    "duration": 18,
    "start_time": "2022-05-12T08:23:00.721Z"
   },
   {
    "duration": 7,
    "start_time": "2022-05-12T08:23:00.741Z"
   },
   {
    "duration": 9,
    "start_time": "2022-05-12T08:23:00.750Z"
   },
   {
    "duration": 5,
    "start_time": "2022-05-12T08:23:00.760Z"
   },
   {
    "duration": 14,
    "start_time": "2022-05-12T08:23:00.766Z"
   },
   {
    "duration": 10,
    "start_time": "2022-05-12T08:23:00.784Z"
   },
   {
    "duration": 18,
    "start_time": "2022-05-12T08:23:00.796Z"
   },
   {
    "duration": 17,
    "start_time": "2022-05-12T08:23:00.816Z"
   },
   {
    "duration": 6,
    "start_time": "2022-05-12T08:23:00.834Z"
   },
   {
    "duration": 22,
    "start_time": "2022-05-12T08:23:00.841Z"
   },
   {
    "duration": 16,
    "start_time": "2022-05-12T08:23:00.865Z"
   },
   {
    "duration": 18,
    "start_time": "2022-05-12T08:23:00.883Z"
   },
   {
    "duration": 13,
    "start_time": "2022-05-12T08:23:00.902Z"
   },
   {
    "duration": 15,
    "start_time": "2022-05-12T08:23:00.917Z"
   },
   {
    "duration": 4,
    "start_time": "2022-05-12T08:23:00.934Z"
   },
   {
    "duration": 18,
    "start_time": "2022-05-12T08:23:00.940Z"
   },
   {
    "duration": 43,
    "start_time": "2022-05-12T08:23:00.960Z"
   },
   {
    "duration": 7,
    "start_time": "2022-05-12T08:23:01.004Z"
   },
   {
    "duration": 15,
    "start_time": "2022-05-12T08:23:01.012Z"
   },
   {
    "duration": 4,
    "start_time": "2022-05-12T08:23:01.028Z"
   },
   {
    "duration": 24,
    "start_time": "2022-05-12T08:23:01.034Z"
   },
   {
    "duration": 20,
    "start_time": "2022-05-12T08:23:01.059Z"
   },
   {
    "duration": 34,
    "start_time": "2022-05-12T08:23:01.081Z"
   },
   {
    "duration": 33,
    "start_time": "2022-05-12T08:23:01.117Z"
   },
   {
    "duration": 19,
    "start_time": "2022-05-12T08:23:01.151Z"
   },
   {
    "duration": 39,
    "start_time": "2022-05-12T08:23:01.171Z"
   },
   {
    "duration": 17,
    "start_time": "2022-05-12T08:23:01.212Z"
   },
   {
    "duration": 17,
    "start_time": "2022-05-12T08:23:01.231Z"
   },
   {
    "duration": 15,
    "start_time": "2022-05-12T08:23:01.250Z"
   },
   {
    "duration": 36,
    "start_time": "2022-05-12T08:23:01.267Z"
   },
   {
    "duration": 13,
    "start_time": "2022-05-12T08:23:01.305Z"
   },
   {
    "duration": 9,
    "start_time": "2022-05-12T08:23:01.320Z"
   },
   {
    "duration": 24,
    "start_time": "2022-05-12T08:23:01.331Z"
   },
   {
    "duration": 14,
    "start_time": "2022-05-12T08:23:01.357Z"
   },
   {
    "duration": 38,
    "start_time": "2022-05-12T08:23:01.373Z"
   },
   {
    "duration": 145,
    "start_time": "2022-05-12T08:23:01.413Z"
   },
   {
    "duration": 20,
    "start_time": "2022-05-12T08:23:01.560Z"
   },
   {
    "duration": 27,
    "start_time": "2022-05-12T08:23:01.582Z"
   },
   {
    "duration": 11,
    "start_time": "2022-05-12T08:23:01.611Z"
   },
   {
    "duration": 15,
    "start_time": "2022-05-12T08:23:01.624Z"
   },
   {
    "duration": 12,
    "start_time": "2022-05-12T08:23:01.641Z"
   },
   {
    "duration": 14,
    "start_time": "2022-05-12T08:23:01.655Z"
   },
   {
    "duration": 5,
    "start_time": "2022-05-12T08:23:01.670Z"
   },
   {
    "duration": 24,
    "start_time": "2022-05-12T08:23:01.677Z"
   },
   {
    "duration": 14,
    "start_time": "2022-05-12T08:23:01.702Z"
   },
   {
    "duration": 8,
    "start_time": "2022-05-12T08:23:01.718Z"
   },
   {
    "duration": 17,
    "start_time": "2022-05-12T08:23:01.727Z"
   },
   {
    "duration": 6,
    "start_time": "2022-05-12T08:23:01.746Z"
   },
   {
    "duration": 22,
    "start_time": "2022-05-12T08:23:01.754Z"
   },
   {
    "duration": 16,
    "start_time": "2022-05-12T08:27:24.507Z"
   },
   {
    "duration": 371,
    "start_time": "2022-05-12T08:27:31.331Z"
   },
   {
    "duration": 59,
    "start_time": "2022-05-12T08:27:31.704Z"
   },
   {
    "duration": 14,
    "start_time": "2022-05-12T08:27:31.764Z"
   },
   {
    "duration": 3,
    "start_time": "2022-05-12T08:27:31.779Z"
   },
   {
    "duration": 24,
    "start_time": "2022-05-12T08:27:31.784Z"
   },
   {
    "duration": 20,
    "start_time": "2022-05-12T08:27:31.810Z"
   },
   {
    "duration": 17,
    "start_time": "2022-05-12T08:27:31.831Z"
   },
   {
    "duration": 22,
    "start_time": "2022-05-12T08:27:31.849Z"
   },
   {
    "duration": 34,
    "start_time": "2022-05-12T08:27:31.872Z"
   },
   {
    "duration": 6,
    "start_time": "2022-05-12T08:27:31.907Z"
   },
   {
    "duration": 20,
    "start_time": "2022-05-12T08:27:31.914Z"
   },
   {
    "duration": 11,
    "start_time": "2022-05-12T08:27:31.936Z"
   },
   {
    "duration": 19,
    "start_time": "2022-05-12T08:27:31.949Z"
   },
   {
    "duration": 1160,
    "start_time": "2022-05-12T08:27:31.971Z"
   },
   {
    "duration": 11,
    "start_time": "2022-05-12T08:27:33.133Z"
   },
   {
    "duration": 9,
    "start_time": "2022-05-12T08:27:33.145Z"
   },
   {
    "duration": 5,
    "start_time": "2022-05-12T08:27:33.156Z"
   },
   {
    "duration": 4,
    "start_time": "2022-05-12T08:27:33.162Z"
   },
   {
    "duration": 33,
    "start_time": "2022-05-12T08:27:33.168Z"
   },
   {
    "duration": 25,
    "start_time": "2022-05-12T08:27:33.203Z"
   },
   {
    "duration": 13,
    "start_time": "2022-05-12T08:27:33.229Z"
   },
   {
    "duration": 5,
    "start_time": "2022-05-12T08:27:33.243Z"
   },
   {
    "duration": 12,
    "start_time": "2022-05-12T08:27:33.249Z"
   },
   {
    "duration": 5,
    "start_time": "2022-05-12T08:27:33.262Z"
   },
   {
    "duration": 7,
    "start_time": "2022-05-12T08:27:33.268Z"
   },
   {
    "duration": 3,
    "start_time": "2022-05-12T08:27:33.277Z"
   },
   {
    "duration": 20,
    "start_time": "2022-05-12T08:27:33.281Z"
   },
   {
    "duration": 3,
    "start_time": "2022-05-12T08:27:33.302Z"
   },
   {
    "duration": 16,
    "start_time": "2022-05-12T08:27:33.306Z"
   },
   {
    "duration": 15,
    "start_time": "2022-05-12T08:27:33.323Z"
   },
   {
    "duration": 6,
    "start_time": "2022-05-12T08:27:33.339Z"
   },
   {
    "duration": 13,
    "start_time": "2022-05-12T08:27:33.346Z"
   },
   {
    "duration": 45,
    "start_time": "2022-05-12T08:27:33.360Z"
   },
   {
    "duration": 6,
    "start_time": "2022-05-12T08:27:33.406Z"
   },
   {
    "duration": 16,
    "start_time": "2022-05-12T08:27:33.413Z"
   },
   {
    "duration": 15,
    "start_time": "2022-05-12T08:27:33.430Z"
   },
   {
    "duration": 4,
    "start_time": "2022-05-12T08:27:33.446Z"
   },
   {
    "duration": 19,
    "start_time": "2022-05-12T08:27:33.451Z"
   },
   {
    "duration": 43,
    "start_time": "2022-05-12T08:27:33.471Z"
   },
   {
    "duration": 6,
    "start_time": "2022-05-12T08:27:33.515Z"
   },
   {
    "duration": 12,
    "start_time": "2022-05-12T08:27:33.525Z"
   },
   {
    "duration": 3,
    "start_time": "2022-05-12T08:27:33.539Z"
   },
   {
    "duration": 17,
    "start_time": "2022-05-12T08:27:33.544Z"
   },
   {
    "duration": 43,
    "start_time": "2022-05-12T08:27:33.563Z"
   },
   {
    "duration": 16,
    "start_time": "2022-05-12T08:27:33.608Z"
   },
   {
    "duration": 32,
    "start_time": "2022-05-12T08:27:33.626Z"
   },
   {
    "duration": 17,
    "start_time": "2022-05-12T08:27:33.659Z"
   },
   {
    "duration": 12,
    "start_time": "2022-05-12T08:27:33.700Z"
   },
   {
    "duration": 15,
    "start_time": "2022-05-12T08:27:33.714Z"
   },
   {
    "duration": 15,
    "start_time": "2022-05-12T08:27:33.730Z"
   },
   {
    "duration": 15,
    "start_time": "2022-05-12T08:27:33.746Z"
   },
   {
    "duration": 41,
    "start_time": "2022-05-12T08:27:33.762Z"
   },
   {
    "duration": 7,
    "start_time": "2022-05-12T08:27:33.804Z"
   },
   {
    "duration": 11,
    "start_time": "2022-05-12T08:27:33.812Z"
   },
   {
    "duration": 6,
    "start_time": "2022-05-12T08:27:33.824Z"
   },
   {
    "duration": 10,
    "start_time": "2022-05-12T08:27:33.832Z"
   },
   {
    "duration": 11,
    "start_time": "2022-05-12T08:27:33.844Z"
   },
   {
    "duration": 45,
    "start_time": "2022-05-12T08:27:33.856Z"
   },
   {
    "duration": 129,
    "start_time": "2022-05-12T08:27:33.903Z"
   },
   {
    "duration": 18,
    "start_time": "2022-05-12T08:27:34.033Z"
   },
   {
    "duration": 12,
    "start_time": "2022-05-12T08:27:34.052Z"
   },
   {
    "duration": 7,
    "start_time": "2022-05-12T08:27:34.065Z"
   },
   {
    "duration": 27,
    "start_time": "2022-05-12T08:27:34.074Z"
   },
   {
    "duration": 7,
    "start_time": "2022-05-12T08:27:34.102Z"
   },
   {
    "duration": 12,
    "start_time": "2022-05-12T08:27:34.110Z"
   },
   {
    "duration": 4,
    "start_time": "2022-05-12T08:27:34.123Z"
   },
   {
    "duration": 7,
    "start_time": "2022-05-12T08:27:34.129Z"
   },
   {
    "duration": 13,
    "start_time": "2022-05-12T08:27:34.138Z"
   },
   {
    "duration": 5,
    "start_time": "2022-05-12T08:27:34.152Z"
   },
   {
    "duration": 43,
    "start_time": "2022-05-12T08:27:34.158Z"
   },
   {
    "duration": 6,
    "start_time": "2022-05-12T08:27:34.202Z"
   },
   {
    "duration": 16,
    "start_time": "2022-05-12T08:27:34.209Z"
   },
   {
    "duration": 401,
    "start_time": "2022-05-12T08:44:11.013Z"
   },
   {
    "duration": 62,
    "start_time": "2022-05-12T08:44:11.416Z"
   },
   {
    "duration": 15,
    "start_time": "2022-05-12T08:44:11.479Z"
   },
   {
    "duration": 4,
    "start_time": "2022-05-12T08:44:11.496Z"
   },
   {
    "duration": 14,
    "start_time": "2022-05-12T08:44:11.502Z"
   },
   {
    "duration": 12,
    "start_time": "2022-05-12T08:44:11.518Z"
   },
   {
    "duration": 16,
    "start_time": "2022-05-12T08:44:11.532Z"
   },
   {
    "duration": 17,
    "start_time": "2022-05-12T08:44:11.549Z"
   },
   {
    "duration": 47,
    "start_time": "2022-05-12T08:44:11.568Z"
   },
   {
    "duration": 7,
    "start_time": "2022-05-12T08:44:11.617Z"
   },
   {
    "duration": 7,
    "start_time": "2022-05-12T08:44:11.625Z"
   },
   {
    "duration": 7,
    "start_time": "2022-05-12T08:44:11.633Z"
   },
   {
    "duration": 12,
    "start_time": "2022-05-12T08:44:11.641Z"
   },
   {
    "duration": 1234,
    "start_time": "2022-05-12T08:44:11.654Z"
   },
   {
    "duration": 17,
    "start_time": "2022-05-12T08:44:12.890Z"
   },
   {
    "duration": 10,
    "start_time": "2022-05-12T08:44:12.908Z"
   },
   {
    "duration": 5,
    "start_time": "2022-05-12T08:44:12.919Z"
   },
   {
    "duration": 4,
    "start_time": "2022-05-12T08:44:12.925Z"
   },
   {
    "duration": 12,
    "start_time": "2022-05-12T08:44:12.930Z"
   },
   {
    "duration": 8,
    "start_time": "2022-05-12T08:44:12.944Z"
   },
   {
    "duration": 10,
    "start_time": "2022-05-12T08:44:12.953Z"
   },
   {
    "duration": 37,
    "start_time": "2022-05-12T08:44:12.965Z"
   },
   {
    "duration": 10,
    "start_time": "2022-05-12T08:44:13.003Z"
   },
   {
    "duration": 5,
    "start_time": "2022-05-12T08:44:13.014Z"
   },
   {
    "duration": 8,
    "start_time": "2022-05-12T08:44:13.020Z"
   },
   {
    "duration": 3,
    "start_time": "2022-05-12T08:44:13.029Z"
   },
   {
    "duration": 6,
    "start_time": "2022-05-12T08:44:13.034Z"
   },
   {
    "duration": 3,
    "start_time": "2022-05-12T08:44:13.043Z"
   },
   {
    "duration": 15,
    "start_time": "2022-05-12T08:44:13.048Z"
   },
   {
    "duration": 17,
    "start_time": "2022-05-12T08:44:13.100Z"
   },
   {
    "duration": 7,
    "start_time": "2022-05-12T08:44:13.118Z"
   },
   {
    "duration": 10,
    "start_time": "2022-05-12T08:44:13.127Z"
   },
   {
    "duration": 20,
    "start_time": "2022-05-12T08:44:13.139Z"
   },
   {
    "duration": 7,
    "start_time": "2022-05-12T08:44:13.160Z"
   },
   {
    "duration": 42,
    "start_time": "2022-05-12T08:44:13.168Z"
   },
   {
    "duration": 14,
    "start_time": "2022-05-12T08:44:13.212Z"
   },
   {
    "duration": 4,
    "start_time": "2022-05-12T08:44:13.228Z"
   },
   {
    "duration": 18,
    "start_time": "2022-05-12T08:44:13.233Z"
   },
   {
    "duration": 14,
    "start_time": "2022-05-12T08:44:13.253Z"
   },
   {
    "duration": 32,
    "start_time": "2022-05-12T08:44:13.268Z"
   },
   {
    "duration": 13,
    "start_time": "2022-05-12T08:44:13.301Z"
   },
   {
    "duration": 4,
    "start_time": "2022-05-12T08:44:13.315Z"
   },
   {
    "duration": 19,
    "start_time": "2022-05-12T08:44:13.320Z"
   },
   {
    "duration": 15,
    "start_time": "2022-05-12T08:44:13.340Z"
   },
   {
    "duration": 16,
    "start_time": "2022-05-12T08:44:13.356Z"
   },
   {
    "duration": 58,
    "start_time": "2022-05-12T08:44:13.374Z"
   },
   {
    "duration": 18,
    "start_time": "2022-05-12T08:44:13.433Z"
   },
   {
    "duration": 15,
    "start_time": "2022-05-12T08:44:13.453Z"
   },
   {
    "duration": 42,
    "start_time": "2022-05-12T08:44:13.469Z"
   },
   {
    "duration": 18,
    "start_time": "2022-05-12T08:44:13.512Z"
   },
   {
    "duration": 15,
    "start_time": "2022-05-12T08:44:13.532Z"
   },
   {
    "duration": 13,
    "start_time": "2022-05-12T08:44:13.548Z"
   },
   {
    "duration": 7,
    "start_time": "2022-05-12T08:44:13.563Z"
   },
   {
    "duration": 37,
    "start_time": "2022-05-12T08:44:13.571Z"
   },
   {
    "duration": 7,
    "start_time": "2022-05-12T08:44:13.610Z"
   },
   {
    "duration": 11,
    "start_time": "2022-05-12T08:44:13.619Z"
   },
   {
    "duration": 11,
    "start_time": "2022-05-12T08:44:13.632Z"
   },
   {
    "duration": 19,
    "start_time": "2022-05-12T08:44:13.645Z"
   },
   {
    "duration": 153,
    "start_time": "2022-05-12T08:44:13.665Z"
   },
   {
    "duration": 18,
    "start_time": "2022-05-12T08:44:13.820Z"
   },
   {
    "duration": 12,
    "start_time": "2022-05-12T08:44:13.839Z"
   },
   {
    "duration": 7,
    "start_time": "2022-05-12T08:44:13.853Z"
   },
   {
    "duration": 6,
    "start_time": "2022-05-12T08:44:13.861Z"
   },
   {
    "duration": 32,
    "start_time": "2022-05-12T08:44:13.869Z"
   },
   {
    "duration": 13,
    "start_time": "2022-05-12T08:44:13.903Z"
   },
   {
    "duration": 5,
    "start_time": "2022-05-12T08:44:13.918Z"
   },
   {
    "duration": 7,
    "start_time": "2022-05-12T08:44:13.924Z"
   },
   {
    "duration": 16,
    "start_time": "2022-05-12T08:44:13.933Z"
   },
   {
    "duration": 6,
    "start_time": "2022-05-12T08:44:13.951Z"
   },
   {
    "duration": 44,
    "start_time": "2022-05-12T08:44:13.958Z"
   },
   {
    "duration": 6,
    "start_time": "2022-05-12T08:44:14.003Z"
   },
   {
    "duration": 15,
    "start_time": "2022-05-12T08:44:14.011Z"
   },
   {
    "duration": 412,
    "start_time": "2022-05-12T08:45:57.399Z"
   },
   {
    "duration": 61,
    "start_time": "2022-05-12T08:45:57.812Z"
   },
   {
    "duration": 15,
    "start_time": "2022-05-12T08:45:57.874Z"
   },
   {
    "duration": 2,
    "start_time": "2022-05-12T08:45:57.892Z"
   },
   {
    "duration": 14,
    "start_time": "2022-05-12T08:45:57.900Z"
   },
   {
    "duration": 14,
    "start_time": "2022-05-12T08:45:57.916Z"
   },
   {
    "duration": 16,
    "start_time": "2022-05-12T08:45:57.931Z"
   },
   {
    "duration": 19,
    "start_time": "2022-05-12T08:45:57.949Z"
   },
   {
    "duration": 47,
    "start_time": "2022-05-12T08:45:57.969Z"
   },
   {
    "duration": 6,
    "start_time": "2022-05-12T08:45:58.018Z"
   },
   {
    "duration": 10,
    "start_time": "2022-05-12T08:45:58.025Z"
   },
   {
    "duration": 6,
    "start_time": "2022-05-12T08:45:58.036Z"
   },
   {
    "duration": 9,
    "start_time": "2022-05-12T08:45:58.043Z"
   },
   {
    "duration": 1173,
    "start_time": "2022-05-12T08:45:58.054Z"
   },
   {
    "duration": 12,
    "start_time": "2022-05-12T08:45:59.228Z"
   },
   {
    "duration": 10,
    "start_time": "2022-05-12T08:45:59.241Z"
   },
   {
    "duration": 10,
    "start_time": "2022-05-12T08:45:59.252Z"
   },
   {
    "duration": 7,
    "start_time": "2022-05-12T08:45:59.264Z"
   },
   {
    "duration": 27,
    "start_time": "2022-05-12T08:45:59.273Z"
   },
   {
    "duration": 8,
    "start_time": "2022-05-12T08:45:59.302Z"
   },
   {
    "duration": 9,
    "start_time": "2022-05-12T08:45:59.312Z"
   },
   {
    "duration": 4,
    "start_time": "2022-05-12T08:45:59.323Z"
   },
   {
    "duration": 15,
    "start_time": "2022-05-12T08:45:59.328Z"
   },
   {
    "duration": 5,
    "start_time": "2022-05-12T08:45:59.344Z"
   },
   {
    "duration": 10,
    "start_time": "2022-05-12T08:45:59.350Z"
   },
   {
    "duration": 2,
    "start_time": "2022-05-12T08:45:59.362Z"
   },
   {
    "duration": 10,
    "start_time": "2022-05-12T08:45:59.365Z"
   },
   {
    "duration": 3,
    "start_time": "2022-05-12T08:45:59.402Z"
   },
   {
    "duration": 19,
    "start_time": "2022-05-12T08:45:59.406Z"
   },
   {
    "duration": 16,
    "start_time": "2022-05-12T08:45:59.426Z"
   },
   {
    "duration": 5,
    "start_time": "2022-05-12T08:45:59.444Z"
   },
   {
    "duration": 18,
    "start_time": "2022-05-12T08:45:59.450Z"
   },
   {
    "duration": 37,
    "start_time": "2022-05-12T08:45:59.470Z"
   },
   {
    "duration": 7,
    "start_time": "2022-05-12T08:45:59.509Z"
   },
   {
    "duration": 16,
    "start_time": "2022-05-12T08:45:59.518Z"
   },
   {
    "duration": 16,
    "start_time": "2022-05-12T08:45:59.536Z"
   },
   {
    "duration": 8,
    "start_time": "2022-05-12T08:45:59.554Z"
   },
   {
    "duration": 43,
    "start_time": "2022-05-12T08:45:59.564Z"
   },
   {
    "duration": 16,
    "start_time": "2022-05-12T08:45:59.608Z"
   },
   {
    "duration": 6,
    "start_time": "2022-05-12T08:45:59.626Z"
   },
   {
    "duration": 16,
    "start_time": "2022-05-12T08:45:59.633Z"
   },
   {
    "duration": 4,
    "start_time": "2022-05-12T08:45:59.650Z"
   },
   {
    "duration": 17,
    "start_time": "2022-05-12T08:45:59.656Z"
   },
   {
    "duration": 38,
    "start_time": "2022-05-12T08:45:59.675Z"
   },
   {
    "duration": 17,
    "start_time": "2022-05-12T08:45:59.714Z"
   },
   {
    "duration": 34,
    "start_time": "2022-05-12T08:45:59.732Z"
   },
   {
    "duration": 38,
    "start_time": "2022-05-12T08:45:59.768Z"
   },
   {
    "duration": 13,
    "start_time": "2022-05-12T08:45:59.808Z"
   },
   {
    "duration": 15,
    "start_time": "2022-05-12T08:45:59.822Z"
   },
   {
    "duration": 18,
    "start_time": "2022-05-12T08:45:59.839Z"
   },
   {
    "duration": 42,
    "start_time": "2022-05-12T08:45:59.858Z"
   },
   {
    "duration": 12,
    "start_time": "2022-05-12T08:45:59.901Z"
   },
   {
    "duration": 7,
    "start_time": "2022-05-12T08:45:59.915Z"
   },
   {
    "duration": 11,
    "start_time": "2022-05-12T08:45:59.923Z"
   },
   {
    "duration": 7,
    "start_time": "2022-05-12T08:45:59.935Z"
   },
   {
    "duration": 10,
    "start_time": "2022-05-12T08:45:59.943Z"
   },
   {
    "duration": 10,
    "start_time": "2022-05-12T08:45:59.955Z"
   },
   {
    "duration": 49,
    "start_time": "2022-05-12T08:45:59.967Z"
   },
   {
    "duration": 129,
    "start_time": "2022-05-12T08:46:00.017Z"
   },
   {
    "duration": 18,
    "start_time": "2022-05-12T08:46:00.148Z"
   },
   {
    "duration": 13,
    "start_time": "2022-05-12T08:46:00.167Z"
   },
   {
    "duration": 22,
    "start_time": "2022-05-12T08:46:00.182Z"
   },
   {
    "duration": 16,
    "start_time": "2022-05-12T08:46:00.205Z"
   },
   {
    "duration": 21,
    "start_time": "2022-05-12T08:46:00.222Z"
   },
   {
    "duration": 17,
    "start_time": "2022-05-12T08:46:00.245Z"
   },
   {
    "duration": 14,
    "start_time": "2022-05-12T08:46:00.264Z"
   },
   {
    "duration": 23,
    "start_time": "2022-05-12T08:46:00.280Z"
   },
   {
    "duration": 20,
    "start_time": "2022-05-12T08:46:00.304Z"
   },
   {
    "duration": 7,
    "start_time": "2022-05-12T08:46:00.325Z"
   },
   {
    "duration": 24,
    "start_time": "2022-05-12T08:46:00.333Z"
   },
   {
    "duration": 6,
    "start_time": "2022-05-12T08:46:00.359Z"
   },
   {
    "duration": 33,
    "start_time": "2022-05-12T08:46:00.367Z"
   },
   {
    "duration": 3,
    "start_time": "2022-05-12T09:30:36.669Z"
   },
   {
    "duration": 80,
    "start_time": "2022-05-12T09:30:37.212Z"
   },
   {
    "duration": 404,
    "start_time": "2022-05-12T09:30:48.396Z"
   },
   {
    "duration": 1117,
    "start_time": "2022-05-12T09:31:06.057Z"
   },
   {
    "duration": 57,
    "start_time": "2022-05-12T09:31:07.177Z"
   },
   {
    "duration": 14,
    "start_time": "2022-05-12T09:31:07.236Z"
   },
   {
    "duration": 3,
    "start_time": "2022-05-12T09:31:07.252Z"
   },
   {
    "duration": 11,
    "start_time": "2022-05-12T09:31:07.257Z"
   },
   {
    "duration": 36,
    "start_time": "2022-05-12T09:31:07.270Z"
   },
   {
    "duration": 17,
    "start_time": "2022-05-12T09:31:07.307Z"
   },
   {
    "duration": 19,
    "start_time": "2022-05-12T09:31:07.325Z"
   },
   {
    "duration": 21,
    "start_time": "2022-05-12T09:31:07.346Z"
   },
   {
    "duration": 37,
    "start_time": "2022-05-12T09:31:07.368Z"
   },
   {
    "duration": 7,
    "start_time": "2022-05-12T09:31:07.407Z"
   },
   {
    "duration": 7,
    "start_time": "2022-05-12T09:31:07.416Z"
   },
   {
    "duration": 12,
    "start_time": "2022-05-12T09:31:07.425Z"
   },
   {
    "duration": 542,
    "start_time": "2022-05-12T09:31:07.440Z"
   },
   {
    "duration": 20,
    "start_time": "2022-05-12T09:31:07.983Z"
   },
   {
    "duration": 10,
    "start_time": "2022-05-12T09:31:08.005Z"
   },
   {
    "duration": 13,
    "start_time": "2022-05-12T09:31:08.016Z"
   },
   {
    "duration": 6,
    "start_time": "2022-05-12T09:31:08.030Z"
   },
   {
    "duration": 18,
    "start_time": "2022-05-12T09:31:08.038Z"
   },
   {
    "duration": 19,
    "start_time": "2022-05-12T09:31:08.058Z"
   },
   {
    "duration": 22,
    "start_time": "2022-05-12T09:31:08.079Z"
   },
   {
    "duration": 4,
    "start_time": "2022-05-12T09:31:08.103Z"
   },
   {
    "duration": 17,
    "start_time": "2022-05-12T09:31:08.109Z"
   },
   {
    "duration": 5,
    "start_time": "2022-05-12T09:31:08.127Z"
   },
   {
    "duration": 11,
    "start_time": "2022-05-12T09:31:08.133Z"
   },
   {
    "duration": 4,
    "start_time": "2022-05-12T09:31:08.145Z"
   },
   {
    "duration": 7,
    "start_time": "2022-05-12T09:31:08.150Z"
   },
   {
    "duration": 4,
    "start_time": "2022-05-12T09:31:08.159Z"
   },
   {
    "duration": 45,
    "start_time": "2022-05-12T09:31:08.164Z"
   },
   {
    "duration": 17,
    "start_time": "2022-05-12T09:31:08.211Z"
   },
   {
    "duration": 6,
    "start_time": "2022-05-12T09:31:08.230Z"
   },
   {
    "duration": 13,
    "start_time": "2022-05-12T09:31:08.238Z"
   },
   {
    "duration": 51,
    "start_time": "2022-05-12T09:31:08.253Z"
   },
   {
    "duration": 7,
    "start_time": "2022-05-12T09:31:08.306Z"
   },
   {
    "duration": 15,
    "start_time": "2022-05-12T09:31:08.314Z"
   },
   {
    "duration": 17,
    "start_time": "2022-05-12T09:31:08.330Z"
   },
   {
    "duration": 4,
    "start_time": "2022-05-12T09:31:08.349Z"
   },
   {
    "duration": 59,
    "start_time": "2022-05-12T09:31:08.354Z"
   },
   {
    "duration": 15,
    "start_time": "2022-05-12T09:31:08.415Z"
   },
   {
    "duration": 7,
    "start_time": "2022-05-12T09:31:08.431Z"
   },
   {
    "duration": 13,
    "start_time": "2022-05-12T09:31:08.442Z"
   },
   {
    "duration": 4,
    "start_time": "2022-05-12T09:31:08.457Z"
   },
   {
    "duration": 51,
    "start_time": "2022-05-12T09:31:08.462Z"
   },
   {
    "duration": 15,
    "start_time": "2022-05-12T09:31:08.515Z"
   },
   {
    "duration": 18,
    "start_time": "2022-05-12T09:31:08.532Z"
   },
   {
    "duration": 55,
    "start_time": "2022-05-12T09:31:08.552Z"
   },
   {
    "duration": 19,
    "start_time": "2022-05-12T09:31:08.609Z"
   },
   {
    "duration": 17,
    "start_time": "2022-05-12T09:31:08.630Z"
   },
   {
    "duration": 17,
    "start_time": "2022-05-12T09:31:08.649Z"
   },
   {
    "duration": 43,
    "start_time": "2022-05-12T09:31:08.668Z"
   },
   {
    "duration": 17,
    "start_time": "2022-05-12T09:31:08.713Z"
   },
   {
    "duration": 14,
    "start_time": "2022-05-12T09:31:08.732Z"
   },
   {
    "duration": 9,
    "start_time": "2022-05-12T09:31:08.747Z"
   },
   {
    "duration": 14,
    "start_time": "2022-05-12T09:31:08.757Z"
   },
   {
    "duration": 35,
    "start_time": "2022-05-12T09:31:08.772Z"
   },
   {
    "duration": 14,
    "start_time": "2022-05-12T09:31:08.809Z"
   },
   {
    "duration": 13,
    "start_time": "2022-05-12T09:31:08.825Z"
   },
   {
    "duration": 19,
    "start_time": "2022-05-12T09:31:08.840Z"
   },
   {
    "duration": 160,
    "start_time": "2022-05-12T09:31:08.861Z"
   },
   {
    "duration": 17,
    "start_time": "2022-05-12T09:31:09.023Z"
   },
   {
    "duration": 12,
    "start_time": "2022-05-12T09:31:09.042Z"
   },
   {
    "duration": 9,
    "start_time": "2022-05-12T09:31:09.055Z"
   },
   {
    "duration": 7,
    "start_time": "2022-05-12T09:31:09.065Z"
   },
   {
    "duration": 28,
    "start_time": "2022-05-12T09:31:09.073Z"
   },
   {
    "duration": 13,
    "start_time": "2022-05-12T09:31:09.103Z"
   },
   {
    "duration": 5,
    "start_time": "2022-05-12T09:31:09.118Z"
   },
   {
    "duration": 13,
    "start_time": "2022-05-12T09:31:09.125Z"
   },
   {
    "duration": 15,
    "start_time": "2022-05-12T09:31:09.139Z"
   },
   {
    "duration": 7,
    "start_time": "2022-05-12T09:31:09.155Z"
   },
   {
    "duration": 48,
    "start_time": "2022-05-12T09:31:09.163Z"
   },
   {
    "duration": 7,
    "start_time": "2022-05-12T09:31:09.213Z"
   },
   {
    "duration": 17,
    "start_time": "2022-05-12T09:31:09.221Z"
   },
   {
    "duration": 196,
    "start_time": "2022-05-12T09:37:50.831Z"
   },
   {
    "duration": 163,
    "start_time": "2022-05-12T10:02:56.710Z"
   },
   {
    "duration": 155,
    "start_time": "2022-05-12T10:05:28.419Z"
   },
   {
    "duration": 169,
    "start_time": "2022-05-12T10:06:41.337Z"
   },
   {
    "duration": 166,
    "start_time": "2022-05-12T10:07:41.107Z"
   },
   {
    "duration": 154,
    "start_time": "2022-05-12T10:07:57.038Z"
   },
   {
    "duration": 152,
    "start_time": "2022-05-12T10:09:36.445Z"
   },
   {
    "duration": 168,
    "start_time": "2022-05-12T10:39:58.708Z"
   },
   {
    "duration": 7,
    "start_time": "2022-05-12T10:58:36.105Z"
   },
   {
    "duration": 10,
    "start_time": "2022-05-12T10:59:27.529Z"
   },
   {
    "duration": 8,
    "start_time": "2022-05-12T11:01:45.214Z"
   },
   {
    "duration": 7,
    "start_time": "2022-05-12T11:02:05.369Z"
   },
   {
    "duration": 1485,
    "start_time": "2022-05-12T11:03:41.715Z"
   },
   {
    "duration": 84,
    "start_time": "2022-05-12T11:03:43.203Z"
   },
   {
    "duration": 22,
    "start_time": "2022-05-12T11:03:43.289Z"
   },
   {
    "duration": 3,
    "start_time": "2022-05-12T11:03:43.314Z"
   },
   {
    "duration": 12,
    "start_time": "2022-05-12T11:03:43.318Z"
   },
   {
    "duration": 12,
    "start_time": "2022-05-12T11:03:43.332Z"
   },
   {
    "duration": 15,
    "start_time": "2022-05-12T11:03:43.346Z"
   },
   {
    "duration": 50,
    "start_time": "2022-05-12T11:03:43.362Z"
   },
   {
    "duration": 17,
    "start_time": "2022-05-12T11:03:43.414Z"
   },
   {
    "duration": 6,
    "start_time": "2022-05-12T11:03:43.433Z"
   },
   {
    "duration": 6,
    "start_time": "2022-05-12T11:03:43.440Z"
   },
   {
    "duration": 5,
    "start_time": "2022-05-12T11:03:43.448Z"
   },
   {
    "duration": 47,
    "start_time": "2022-05-12T11:03:43.454Z"
   },
   {
    "duration": 478,
    "start_time": "2022-05-12T11:03:43.503Z"
   },
   {
    "duration": 20,
    "start_time": "2022-05-12T11:03:43.983Z"
   },
   {
    "duration": 9,
    "start_time": "2022-05-12T11:03:44.005Z"
   },
   {
    "duration": 11,
    "start_time": "2022-05-12T11:03:44.015Z"
   },
   {
    "duration": 5,
    "start_time": "2022-05-12T11:03:44.028Z"
   },
   {
    "duration": 14,
    "start_time": "2022-05-12T11:03:44.035Z"
   },
   {
    "duration": 11,
    "start_time": "2022-05-12T11:03:44.050Z"
   },
   {
    "duration": 10,
    "start_time": "2022-05-12T11:03:44.062Z"
   },
   {
    "duration": 6,
    "start_time": "2022-05-12T11:03:44.073Z"
   },
   {
    "duration": 27,
    "start_time": "2022-05-12T11:03:44.080Z"
   },
   {
    "duration": 5,
    "start_time": "2022-05-12T11:03:44.108Z"
   },
   {
    "duration": 8,
    "start_time": "2022-05-12T11:03:44.115Z"
   },
   {
    "duration": 4,
    "start_time": "2022-05-12T11:03:44.125Z"
   },
   {
    "duration": 6,
    "start_time": "2022-05-12T11:03:44.131Z"
   },
   {
    "duration": 3,
    "start_time": "2022-05-12T11:03:44.141Z"
   },
   {
    "duration": 19,
    "start_time": "2022-05-12T11:03:44.146Z"
   },
   {
    "duration": 45,
    "start_time": "2022-05-12T11:03:44.166Z"
   },
   {
    "duration": 6,
    "start_time": "2022-05-12T11:03:44.213Z"
   },
   {
    "duration": 11,
    "start_time": "2022-05-12T11:03:44.220Z"
   },
   {
    "duration": 20,
    "start_time": "2022-05-12T11:03:44.233Z"
   },
   {
    "duration": 6,
    "start_time": "2022-05-12T11:03:44.254Z"
   },
   {
    "duration": 46,
    "start_time": "2022-05-12T11:03:44.261Z"
   },
   {
    "duration": 16,
    "start_time": "2022-05-12T11:03:44.308Z"
   },
   {
    "duration": 4,
    "start_time": "2022-05-12T11:03:44.325Z"
   },
   {
    "duration": 18,
    "start_time": "2022-05-12T11:03:44.330Z"
   },
   {
    "duration": 23,
    "start_time": "2022-05-12T11:03:44.350Z"
   },
   {
    "duration": 8,
    "start_time": "2022-05-12T11:03:44.401Z"
   },
   {
    "duration": 18,
    "start_time": "2022-05-12T11:03:44.411Z"
   },
   {
    "duration": 5,
    "start_time": "2022-05-12T11:03:44.431Z"
   },
   {
    "duration": 26,
    "start_time": "2022-05-12T11:03:44.437Z"
   },
   {
    "duration": 45,
    "start_time": "2022-05-12T11:03:44.465Z"
   },
   {
    "duration": 28,
    "start_time": "2022-05-12T11:03:44.512Z"
   },
   {
    "duration": 67,
    "start_time": "2022-05-12T11:03:44.542Z"
   },
   {
    "duration": 28,
    "start_time": "2022-05-12T11:03:44.611Z"
   },
   {
    "duration": 21,
    "start_time": "2022-05-12T11:03:44.641Z"
   },
   {
    "duration": 15,
    "start_time": "2022-05-12T11:03:44.663Z"
   },
   {
    "duration": 17,
    "start_time": "2022-05-12T11:03:44.700Z"
   },
   {
    "duration": 16,
    "start_time": "2022-05-12T11:03:44.718Z"
   },
   {
    "duration": 14,
    "start_time": "2022-05-12T11:03:44.736Z"
   },
   {
    "duration": 7,
    "start_time": "2022-05-12T11:03:44.752Z"
   },
   {
    "duration": 40,
    "start_time": "2022-05-12T11:03:44.761Z"
   },
   {
    "duration": 8,
    "start_time": "2022-05-12T11:03:44.803Z"
   },
   {
    "duration": 10,
    "start_time": "2022-05-12T11:03:44.812Z"
   },
   {
    "duration": 11,
    "start_time": "2022-05-12T11:03:44.824Z"
   },
   {
    "duration": 18,
    "start_time": "2022-05-12T11:03:44.837Z"
   },
   {
    "duration": 161,
    "start_time": "2022-05-12T11:03:44.856Z"
   },
   {
    "duration": 19,
    "start_time": "2022-05-12T11:03:45.019Z"
   },
   {
    "duration": 16,
    "start_time": "2022-05-12T11:03:45.039Z"
   },
   {
    "duration": 8,
    "start_time": "2022-05-12T11:03:45.057Z"
   },
   {
    "duration": 7,
    "start_time": "2022-05-12T11:03:45.066Z"
   },
   {
    "duration": 26,
    "start_time": "2022-05-12T11:03:45.075Z"
   },
   {
    "duration": 11,
    "start_time": "2022-05-12T11:03:45.103Z"
   },
   {
    "duration": 4,
    "start_time": "2022-05-12T11:03:45.116Z"
   },
   {
    "duration": 7,
    "start_time": "2022-05-12T11:03:45.122Z"
   },
   {
    "duration": 13,
    "start_time": "2022-05-12T11:03:45.130Z"
   },
   {
    "duration": 5,
    "start_time": "2022-05-12T11:03:45.145Z"
   },
   {
    "duration": 50,
    "start_time": "2022-05-12T11:03:45.152Z"
   },
   {
    "duration": 10,
    "start_time": "2022-05-12T11:03:45.203Z"
   },
   {
    "duration": 24,
    "start_time": "2022-05-12T11:03:45.215Z"
   },
   {
    "duration": 8,
    "start_time": "2022-05-12T11:03:45.241Z"
   },
   {
    "duration": 11,
    "start_time": "2022-05-12T11:03:45.251Z"
   },
   {
    "duration": 9,
    "start_time": "2022-05-12T11:03:45.263Z"
   },
   {
    "duration": 30,
    "start_time": "2022-05-12T11:03:45.274Z"
   },
   {
    "duration": 1771,
    "start_time": "2022-05-12T14:45:21.459Z"
   },
   {
    "duration": 107,
    "start_time": "2022-05-12T14:45:23.233Z"
   },
   {
    "duration": 33,
    "start_time": "2022-05-12T14:45:23.342Z"
   },
   {
    "duration": 5,
    "start_time": "2022-05-12T14:45:23.379Z"
   },
   {
    "duration": 48,
    "start_time": "2022-05-12T14:45:23.387Z"
   },
   {
    "duration": 28,
    "start_time": "2022-05-12T14:45:23.438Z"
   },
   {
    "duration": 28,
    "start_time": "2022-05-12T14:45:23.468Z"
   },
   {
    "duration": 33,
    "start_time": "2022-05-12T14:45:23.526Z"
   },
   {
    "duration": 44,
    "start_time": "2022-05-12T14:45:23.562Z"
   },
   {
    "duration": 9,
    "start_time": "2022-05-12T14:45:23.627Z"
   },
   {
    "duration": 18,
    "start_time": "2022-05-12T14:45:23.638Z"
   },
   {
    "duration": 27,
    "start_time": "2022-05-12T14:45:23.659Z"
   },
   {
    "duration": 41,
    "start_time": "2022-05-12T14:45:23.688Z"
   },
   {
    "duration": 903,
    "start_time": "2022-05-12T14:45:23.731Z"
   },
   {
    "duration": 19,
    "start_time": "2022-05-12T14:45:24.636Z"
   },
   {
    "duration": 16,
    "start_time": "2022-05-12T14:45:24.657Z"
   },
   {
    "duration": 11,
    "start_time": "2022-05-12T14:45:24.675Z"
   },
   {
    "duration": 36,
    "start_time": "2022-05-12T14:45:24.688Z"
   },
   {
    "duration": 18,
    "start_time": "2022-05-12T14:45:24.727Z"
   },
   {
    "duration": 18,
    "start_time": "2022-05-12T14:45:24.748Z"
   },
   {
    "duration": 20,
    "start_time": "2022-05-12T14:45:24.769Z"
   },
   {
    "duration": 35,
    "start_time": "2022-05-12T14:45:24.791Z"
   },
   {
    "duration": 15,
    "start_time": "2022-05-12T14:45:24.829Z"
   },
   {
    "duration": 11,
    "start_time": "2022-05-12T14:45:24.846Z"
   },
   {
    "duration": 15,
    "start_time": "2022-05-12T14:45:24.859Z"
   },
   {
    "duration": 5,
    "start_time": "2022-05-12T14:45:24.876Z"
   },
   {
    "duration": 43,
    "start_time": "2022-05-12T14:45:24.883Z"
   },
   {
    "duration": 6,
    "start_time": "2022-05-12T14:45:24.934Z"
   },
   {
    "duration": 26,
    "start_time": "2022-05-12T14:45:24.943Z"
   },
   {
    "duration": 59,
    "start_time": "2022-05-12T14:45:24.972Z"
   },
   {
    "duration": 11,
    "start_time": "2022-05-12T14:45:25.034Z"
   },
   {
    "duration": 20,
    "start_time": "2022-05-12T14:45:25.047Z"
   },
   {
    "duration": 57,
    "start_time": "2022-05-12T14:45:25.069Z"
   },
   {
    "duration": 9,
    "start_time": "2022-05-12T14:45:25.128Z"
   },
   {
    "duration": 24,
    "start_time": "2022-05-12T14:45:25.139Z"
   },
   {
    "duration": 24,
    "start_time": "2022-05-12T14:45:25.165Z"
   },
   {
    "duration": 6,
    "start_time": "2022-05-12T14:45:25.224Z"
   },
   {
    "duration": 29,
    "start_time": "2022-05-12T14:45:25.232Z"
   },
   {
    "duration": 23,
    "start_time": "2022-05-12T14:45:25.263Z"
   },
   {
    "duration": 9,
    "start_time": "2022-05-12T14:45:25.288Z"
   },
   {
    "duration": 22,
    "start_time": "2022-05-12T14:45:25.325Z"
   },
   {
    "duration": 5,
    "start_time": "2022-05-12T14:45:25.349Z"
   },
   {
    "duration": 26,
    "start_time": "2022-05-12T14:45:25.356Z"
   },
   {
    "duration": 57,
    "start_time": "2022-05-12T14:45:25.384Z"
   },
   {
    "duration": 28,
    "start_time": "2022-05-12T14:45:25.443Z"
   },
   {
    "duration": 87,
    "start_time": "2022-05-12T14:45:25.473Z"
   },
   {
    "duration": 27,
    "start_time": "2022-05-12T14:45:25.562Z"
   },
   {
    "duration": 41,
    "start_time": "2022-05-12T14:45:25.592Z"
   },
   {
    "duration": 36,
    "start_time": "2022-05-12T14:45:25.636Z"
   },
   {
    "duration": 71,
    "start_time": "2022-05-12T14:45:25.674Z"
   },
   {
    "duration": 39,
    "start_time": "2022-05-12T14:45:25.748Z"
   },
   {
    "duration": 51,
    "start_time": "2022-05-12T14:45:25.790Z"
   },
   {
    "duration": 17,
    "start_time": "2022-05-12T14:45:25.844Z"
   },
   {
    "duration": 16,
    "start_time": "2022-05-12T14:45:25.863Z"
   },
   {
    "duration": 44,
    "start_time": "2022-05-12T14:45:25.881Z"
   },
   {
    "duration": 18,
    "start_time": "2022-05-12T14:45:25.927Z"
   },
   {
    "duration": 22,
    "start_time": "2022-05-12T14:45:25.948Z"
   },
   {
    "duration": 71,
    "start_time": "2022-05-12T14:45:25.972Z"
   },
   {
    "duration": 283,
    "start_time": "2022-05-12T14:45:26.046Z"
   },
   {
    "duration": 38,
    "start_time": "2022-05-12T14:45:26.331Z"
   },
   {
    "duration": 52,
    "start_time": "2022-05-12T14:45:26.372Z"
   },
   {
    "duration": 11,
    "start_time": "2022-05-12T14:45:26.427Z"
   },
   {
    "duration": 10,
    "start_time": "2022-05-12T14:45:26.440Z"
   },
   {
    "duration": 9,
    "start_time": "2022-05-12T14:45:26.453Z"
   },
   {
    "duration": 67,
    "start_time": "2022-05-12T14:45:26.465Z"
   },
   {
    "duration": 8,
    "start_time": "2022-05-12T14:45:26.535Z"
   },
   {
    "duration": 14,
    "start_time": "2022-05-12T14:45:26.545Z"
   },
   {
    "duration": 86,
    "start_time": "2022-05-12T14:45:26.562Z"
   },
   {
    "duration": 13,
    "start_time": "2022-05-12T14:45:26.651Z"
   },
   {
    "duration": 93,
    "start_time": "2022-05-12T14:45:26.667Z"
   },
   {
    "duration": 63,
    "start_time": "2022-05-12T14:45:26.763Z"
   },
   {
    "duration": 36,
    "start_time": "2022-05-12T14:45:26.829Z"
   },
   {
    "duration": 69,
    "start_time": "2022-05-12T14:45:26.867Z"
   },
   {
    "duration": 19,
    "start_time": "2022-05-12T14:45:26.938Z"
   },
   {
    "duration": 67,
    "start_time": "2022-05-12T14:45:26.960Z"
   },
   {
    "duration": 13,
    "start_time": "2022-05-12T14:45:27.029Z"
   }
  ],
  "kernelspec": {
   "display_name": "Python 3 (ipykernel)",
   "language": "python",
   "name": "python3"
  },
  "language_info": {
   "codemirror_mode": {
    "name": "ipython",
    "version": 3
   },
   "file_extension": ".py",
   "mimetype": "text/x-python",
   "name": "python",
   "nbconvert_exporter": "python",
   "pygments_lexer": "ipython3",
   "version": "3.9.7"
  },
  "toc": {
   "base_numbering": 1,
   "nav_menu": {},
   "number_sections": true,
   "sideBar": true,
   "skip_h1_title": true,
   "title_cell": "Table of Contents",
   "title_sidebar": "Contents",
   "toc_cell": false,
   "toc_position": {
    "height": "calc(100% - 180px)",
    "left": "10px",
    "top": "150px",
    "width": "418.433px"
   },
   "toc_section_display": true,
   "toc_window_display": true
  }
 },
 "nbformat": 4,
 "nbformat_minor": 5
}
