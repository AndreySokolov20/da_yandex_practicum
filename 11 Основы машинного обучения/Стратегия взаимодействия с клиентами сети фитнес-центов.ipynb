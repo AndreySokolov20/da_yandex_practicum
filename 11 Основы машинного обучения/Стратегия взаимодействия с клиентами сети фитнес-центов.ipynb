{
 "cells": [
  {
   "cell_type": "markdown",
   "metadata": {},
   "source": [
    "# Стратегия взаимодействия с клиентами сети фитнес-центов «Культурист-датасаентист»"
   ]
  },
  {
   "cell_type": "markdown",
   "metadata": {},
   "source": [
    "Сеть фитнес-центров «Культурист-датасаентист» разрабатывает стратегию взаимодействия с клиентами на основе аналитических данных.\n",
    "\n",
    "Распространённая проблема фитнес-клубов и других сервисов — отток клиентов. Как понять, что клиент больше не с вами? Можно записать в отток тех, кто попросил закрыть договор или удалил аккаунт. Однако клиенты не всегда уходят демонстративно: чаще перестают пользоваться сервисом тихо.\n",
    "\n",
    "Для фитнес-центра можно считать, что клиент попал в отток, если за последний месяц ни разу не посетил спортзал. Если клиент начал новую жизнь с понедельника, немного походил в спортзал, а потом пропал — скорее всего, он не вернётся.\n",
    "Чтобы бороться с оттоком, отдел по работе с клиентами «Культуриста-датасаентиста» перевёл в электронный вид множество клиентских анкет. Наша задача — провести анализ и подготовить план действий по удержанию клиентов.\n",
    "\n",
    "**Цель исследования:**\n",
    "\n",
    "Разработать рекомендации по повышению качества работы с клиентами:\n",
    "\n",
    "    выделить целевые группы клиентов;\n",
    "    предложить меры по снижению оттока;\n",
    "    определить другие особенности взаимодействия с клиентами.\n",
    "\n",
    "**Ход исследования**\n",
    "\n",
    "Данные для исследования мы получим из файла:\n",
    "\n",
    "    /datasets/gym_churn.csv\n",
    "\n",
    "Исследование пройдёт в пять этапов:\n",
    "\n",
    "    Обзор данных.\n",
    "    Обработка данных.\n",
    "    Анализ данных.\n",
    "    Построение модели прогнозирования оттока клиентов.\n",
    "    Кластеризацию клиентов.   "
   ]
  },
  {
   "cell_type": "markdown",
   "metadata": {},
   "source": [
    "## Обзор данных"
   ]
  },
  {
   "cell_type": "code",
   "execution_count": 1,
   "metadata": {},
   "outputs": [],
   "source": [
    "import pandas as pd\n",
    "import matplotlib.pyplot as plt\n",
    "import seaborn as sns\n",
    "import itertools \n",
    "import numpy as np\n",
    "\n",
    "from sklearn.model_selection import train_test_split\n",
    "from sklearn.linear_model import LogisticRegression\n",
    "from sklearn.metrics import accuracy_score, precision_score, recall_score, f1_score\n",
    "from sklearn.ensemble import RandomForestRegressor, RandomForestClassifier\n",
    "from sklearn.preprocessing import StandardScaler\n",
    "from sklearn.cluster import KMeans\n",
    "from scipy.cluster.hierarchy import dendrogram, linkage "
   ]
  },
  {
   "cell_type": "code",
   "execution_count": 2,
   "metadata": {},
   "outputs": [],
   "source": [
    "import warnings\n",
    "warnings.simplefilter(action='ignore', category=FutureWarning)"
   ]
  },
  {
   "cell_type": "code",
   "execution_count": 3,
   "metadata": {},
   "outputs": [],
   "source": [
    "df = pd.read_csv('/datasets/gym_churn.csv')"
   ]
  },
  {
   "cell_type": "code",
   "execution_count": 4,
   "metadata": {},
   "outputs": [
    {
     "name": "stdout",
     "output_type": "stream",
     "text": [
      "<class 'pandas.core.frame.DataFrame'>\n",
      "RangeIndex: 4000 entries, 0 to 3999\n",
      "Data columns (total 14 columns):\n",
      " #   Column                             Non-Null Count  Dtype  \n",
      "---  ------                             --------------  -----  \n",
      " 0   gender                             4000 non-null   int64  \n",
      " 1   Near_Location                      4000 non-null   int64  \n",
      " 2   Partner                            4000 non-null   int64  \n",
      " 3   Promo_friends                      4000 non-null   int64  \n",
      " 4   Phone                              4000 non-null   int64  \n",
      " 5   Contract_period                    4000 non-null   int64  \n",
      " 6   Group_visits                       4000 non-null   int64  \n",
      " 7   Age                                4000 non-null   int64  \n",
      " 8   Avg_additional_charges_total       4000 non-null   float64\n",
      " 9   Month_to_end_contract              4000 non-null   float64\n",
      " 10  Lifetime                           4000 non-null   int64  \n",
      " 11  Avg_class_frequency_total          4000 non-null   float64\n",
      " 12  Avg_class_frequency_current_month  4000 non-null   float64\n",
      " 13  Churn                              4000 non-null   int64  \n",
      "dtypes: float64(4), int64(10)\n",
      "memory usage: 437.6 KB\n"
     ]
    },
    {
     "data": {
      "text/html": [
       "<div>\n",
       "<style scoped>\n",
       "    .dataframe tbody tr th:only-of-type {\n",
       "        vertical-align: middle;\n",
       "    }\n",
       "\n",
       "    .dataframe tbody tr th {\n",
       "        vertical-align: top;\n",
       "    }\n",
       "\n",
       "    .dataframe thead th {\n",
       "        text-align: right;\n",
       "    }\n",
       "</style>\n",
       "<table border=\"1\" class=\"dataframe\">\n",
       "  <thead>\n",
       "    <tr style=\"text-align: right;\">\n",
       "      <th></th>\n",
       "      <th>gender</th>\n",
       "      <th>Near_Location</th>\n",
       "      <th>Partner</th>\n",
       "      <th>Promo_friends</th>\n",
       "      <th>Phone</th>\n",
       "      <th>Contract_period</th>\n",
       "      <th>Group_visits</th>\n",
       "      <th>Age</th>\n",
       "      <th>Avg_additional_charges_total</th>\n",
       "      <th>Month_to_end_contract</th>\n",
       "      <th>Lifetime</th>\n",
       "      <th>Avg_class_frequency_total</th>\n",
       "      <th>Avg_class_frequency_current_month</th>\n",
       "      <th>Churn</th>\n",
       "    </tr>\n",
       "  </thead>\n",
       "  <tbody>\n",
       "    <tr>\n",
       "      <th>0</th>\n",
       "      <td>1</td>\n",
       "      <td>1</td>\n",
       "      <td>1</td>\n",
       "      <td>1</td>\n",
       "      <td>0</td>\n",
       "      <td>6</td>\n",
       "      <td>1</td>\n",
       "      <td>29</td>\n",
       "      <td>14.227470</td>\n",
       "      <td>5.0</td>\n",
       "      <td>3</td>\n",
       "      <td>0.020398</td>\n",
       "      <td>0.000000</td>\n",
       "      <td>0</td>\n",
       "    </tr>\n",
       "    <tr>\n",
       "      <th>1</th>\n",
       "      <td>0</td>\n",
       "      <td>1</td>\n",
       "      <td>0</td>\n",
       "      <td>0</td>\n",
       "      <td>1</td>\n",
       "      <td>12</td>\n",
       "      <td>1</td>\n",
       "      <td>31</td>\n",
       "      <td>113.202938</td>\n",
       "      <td>12.0</td>\n",
       "      <td>7</td>\n",
       "      <td>1.922936</td>\n",
       "      <td>1.910244</td>\n",
       "      <td>0</td>\n",
       "    </tr>\n",
       "    <tr>\n",
       "      <th>2</th>\n",
       "      <td>0</td>\n",
       "      <td>1</td>\n",
       "      <td>1</td>\n",
       "      <td>0</td>\n",
       "      <td>1</td>\n",
       "      <td>1</td>\n",
       "      <td>0</td>\n",
       "      <td>28</td>\n",
       "      <td>129.448479</td>\n",
       "      <td>1.0</td>\n",
       "      <td>2</td>\n",
       "      <td>1.859098</td>\n",
       "      <td>1.736502</td>\n",
       "      <td>0</td>\n",
       "    </tr>\n",
       "    <tr>\n",
       "      <th>3</th>\n",
       "      <td>0</td>\n",
       "      <td>1</td>\n",
       "      <td>1</td>\n",
       "      <td>1</td>\n",
       "      <td>1</td>\n",
       "      <td>12</td>\n",
       "      <td>1</td>\n",
       "      <td>33</td>\n",
       "      <td>62.669863</td>\n",
       "      <td>12.0</td>\n",
       "      <td>2</td>\n",
       "      <td>3.205633</td>\n",
       "      <td>3.357215</td>\n",
       "      <td>0</td>\n",
       "    </tr>\n",
       "    <tr>\n",
       "      <th>4</th>\n",
       "      <td>1</td>\n",
       "      <td>1</td>\n",
       "      <td>1</td>\n",
       "      <td>1</td>\n",
       "      <td>1</td>\n",
       "      <td>1</td>\n",
       "      <td>0</td>\n",
       "      <td>26</td>\n",
       "      <td>198.362265</td>\n",
       "      <td>1.0</td>\n",
       "      <td>3</td>\n",
       "      <td>1.113884</td>\n",
       "      <td>1.120078</td>\n",
       "      <td>0</td>\n",
       "    </tr>\n",
       "  </tbody>\n",
       "</table>\n",
       "</div>"
      ],
      "text/plain": [
       "   gender  Near_Location  Partner  Promo_friends  Phone  Contract_period  \\\n",
       "0       1              1        1              1      0                6   \n",
       "1       0              1        0              0      1               12   \n",
       "2       0              1        1              0      1                1   \n",
       "3       0              1        1              1      1               12   \n",
       "4       1              1        1              1      1                1   \n",
       "\n",
       "   Group_visits  Age  Avg_additional_charges_total  Month_to_end_contract  \\\n",
       "0             1   29                     14.227470                    5.0   \n",
       "1             1   31                    113.202938                   12.0   \n",
       "2             0   28                    129.448479                    1.0   \n",
       "3             1   33                     62.669863                   12.0   \n",
       "4             0   26                    198.362265                    1.0   \n",
       "\n",
       "   Lifetime  Avg_class_frequency_total  Avg_class_frequency_current_month  \\\n",
       "0         3                   0.020398                           0.000000   \n",
       "1         7                   1.922936                           1.910244   \n",
       "2         2                   1.859098                           1.736502   \n",
       "3         2                   3.205633                           3.357215   \n",
       "4         3                   1.113884                           1.120078   \n",
       "\n",
       "   Churn  \n",
       "0      0  \n",
       "1      0  \n",
       "2      0  \n",
       "3      0  \n",
       "4      0  "
      ]
     },
     "metadata": {},
     "output_type": "display_data"
    },
    {
     "data": {
      "text/plain": [
       "'Наименование столбцов'"
      ]
     },
     "metadata": {},
     "output_type": "display_data"
    },
    {
     "data": {
      "text/plain": [
       "Index(['gender', 'Near_Location', 'Partner', 'Promo_friends', 'Phone',\n",
       "       'Contract_period', 'Group_visits', 'Age',\n",
       "       'Avg_additional_charges_total', 'Month_to_end_contract', 'Lifetime',\n",
       "       'Avg_class_frequency_total', 'Avg_class_frequency_current_month',\n",
       "       'Churn'],\n",
       "      dtype='object')"
      ]
     },
     "metadata": {},
     "output_type": "display_data"
    },
    {
     "data": {
      "text/html": [
       "<div>\n",
       "<style scoped>\n",
       "    .dataframe tbody tr th:only-of-type {\n",
       "        vertical-align: middle;\n",
       "    }\n",
       "\n",
       "    .dataframe tbody tr th {\n",
       "        vertical-align: top;\n",
       "    }\n",
       "\n",
       "    .dataframe thead th {\n",
       "        text-align: right;\n",
       "    }\n",
       "</style>\n",
       "<table border=\"1\" class=\"dataframe\">\n",
       "  <thead>\n",
       "    <tr style=\"text-align: right;\">\n",
       "      <th></th>\n",
       "      <th>gender</th>\n",
       "      <th>Near_Location</th>\n",
       "      <th>Partner</th>\n",
       "      <th>Promo_friends</th>\n",
       "      <th>Phone</th>\n",
       "      <th>Contract_period</th>\n",
       "      <th>Group_visits</th>\n",
       "      <th>Age</th>\n",
       "      <th>Avg_additional_charges_total</th>\n",
       "      <th>Month_to_end_contract</th>\n",
       "      <th>Lifetime</th>\n",
       "      <th>Avg_class_frequency_total</th>\n",
       "      <th>Avg_class_frequency_current_month</th>\n",
       "      <th>Churn</th>\n",
       "    </tr>\n",
       "  </thead>\n",
       "  <tbody>\n",
       "    <tr>\n",
       "      <th>count</th>\n",
       "      <td>4000.000000</td>\n",
       "      <td>4000.000000</td>\n",
       "      <td>4000.000000</td>\n",
       "      <td>4000.000000</td>\n",
       "      <td>4000.000000</td>\n",
       "      <td>4000.000000</td>\n",
       "      <td>4000.000000</td>\n",
       "      <td>4000.000000</td>\n",
       "      <td>4000.000000</td>\n",
       "      <td>4000.000000</td>\n",
       "      <td>4000.000000</td>\n",
       "      <td>4000.000000</td>\n",
       "      <td>4000.000000</td>\n",
       "      <td>4000.000000</td>\n",
       "    </tr>\n",
       "    <tr>\n",
       "      <th>mean</th>\n",
       "      <td>0.510250</td>\n",
       "      <td>0.845250</td>\n",
       "      <td>0.486750</td>\n",
       "      <td>0.308500</td>\n",
       "      <td>0.903500</td>\n",
       "      <td>4.681250</td>\n",
       "      <td>0.412250</td>\n",
       "      <td>29.184250</td>\n",
       "      <td>146.943728</td>\n",
       "      <td>4.322750</td>\n",
       "      <td>3.724750</td>\n",
       "      <td>1.879020</td>\n",
       "      <td>1.767052</td>\n",
       "      <td>0.265250</td>\n",
       "    </tr>\n",
       "    <tr>\n",
       "      <th>std</th>\n",
       "      <td>0.499957</td>\n",
       "      <td>0.361711</td>\n",
       "      <td>0.499887</td>\n",
       "      <td>0.461932</td>\n",
       "      <td>0.295313</td>\n",
       "      <td>4.549706</td>\n",
       "      <td>0.492301</td>\n",
       "      <td>3.258367</td>\n",
       "      <td>96.355602</td>\n",
       "      <td>4.191297</td>\n",
       "      <td>3.749267</td>\n",
       "      <td>0.972245</td>\n",
       "      <td>1.052906</td>\n",
       "      <td>0.441521</td>\n",
       "    </tr>\n",
       "    <tr>\n",
       "      <th>min</th>\n",
       "      <td>0.000000</td>\n",
       "      <td>0.000000</td>\n",
       "      <td>0.000000</td>\n",
       "      <td>0.000000</td>\n",
       "      <td>0.000000</td>\n",
       "      <td>1.000000</td>\n",
       "      <td>0.000000</td>\n",
       "      <td>18.000000</td>\n",
       "      <td>0.148205</td>\n",
       "      <td>1.000000</td>\n",
       "      <td>0.000000</td>\n",
       "      <td>0.000000</td>\n",
       "      <td>0.000000</td>\n",
       "      <td>0.000000</td>\n",
       "    </tr>\n",
       "    <tr>\n",
       "      <th>25%</th>\n",
       "      <td>0.000000</td>\n",
       "      <td>1.000000</td>\n",
       "      <td>0.000000</td>\n",
       "      <td>0.000000</td>\n",
       "      <td>1.000000</td>\n",
       "      <td>1.000000</td>\n",
       "      <td>0.000000</td>\n",
       "      <td>27.000000</td>\n",
       "      <td>68.868830</td>\n",
       "      <td>1.000000</td>\n",
       "      <td>1.000000</td>\n",
       "      <td>1.180875</td>\n",
       "      <td>0.963003</td>\n",
       "      <td>0.000000</td>\n",
       "    </tr>\n",
       "    <tr>\n",
       "      <th>50%</th>\n",
       "      <td>1.000000</td>\n",
       "      <td>1.000000</td>\n",
       "      <td>0.000000</td>\n",
       "      <td>0.000000</td>\n",
       "      <td>1.000000</td>\n",
       "      <td>1.000000</td>\n",
       "      <td>0.000000</td>\n",
       "      <td>29.000000</td>\n",
       "      <td>136.220159</td>\n",
       "      <td>1.000000</td>\n",
       "      <td>3.000000</td>\n",
       "      <td>1.832768</td>\n",
       "      <td>1.719574</td>\n",
       "      <td>0.000000</td>\n",
       "    </tr>\n",
       "    <tr>\n",
       "      <th>75%</th>\n",
       "      <td>1.000000</td>\n",
       "      <td>1.000000</td>\n",
       "      <td>1.000000</td>\n",
       "      <td>1.000000</td>\n",
       "      <td>1.000000</td>\n",
       "      <td>6.000000</td>\n",
       "      <td>1.000000</td>\n",
       "      <td>31.000000</td>\n",
       "      <td>210.949625</td>\n",
       "      <td>6.000000</td>\n",
       "      <td>5.000000</td>\n",
       "      <td>2.536078</td>\n",
       "      <td>2.510336</td>\n",
       "      <td>1.000000</td>\n",
       "    </tr>\n",
       "    <tr>\n",
       "      <th>max</th>\n",
       "      <td>1.000000</td>\n",
       "      <td>1.000000</td>\n",
       "      <td>1.000000</td>\n",
       "      <td>1.000000</td>\n",
       "      <td>1.000000</td>\n",
       "      <td>12.000000</td>\n",
       "      <td>1.000000</td>\n",
       "      <td>41.000000</td>\n",
       "      <td>552.590740</td>\n",
       "      <td>12.000000</td>\n",
       "      <td>31.000000</td>\n",
       "      <td>6.023668</td>\n",
       "      <td>6.146783</td>\n",
       "      <td>1.000000</td>\n",
       "    </tr>\n",
       "  </tbody>\n",
       "</table>\n",
       "</div>"
      ],
      "text/plain": [
       "            gender  Near_Location      Partner  Promo_friends        Phone  \\\n",
       "count  4000.000000    4000.000000  4000.000000    4000.000000  4000.000000   \n",
       "mean      0.510250       0.845250     0.486750       0.308500     0.903500   \n",
       "std       0.499957       0.361711     0.499887       0.461932     0.295313   \n",
       "min       0.000000       0.000000     0.000000       0.000000     0.000000   \n",
       "25%       0.000000       1.000000     0.000000       0.000000     1.000000   \n",
       "50%       1.000000       1.000000     0.000000       0.000000     1.000000   \n",
       "75%       1.000000       1.000000     1.000000       1.000000     1.000000   \n",
       "max       1.000000       1.000000     1.000000       1.000000     1.000000   \n",
       "\n",
       "       Contract_period  Group_visits          Age  \\\n",
       "count      4000.000000   4000.000000  4000.000000   \n",
       "mean          4.681250      0.412250    29.184250   \n",
       "std           4.549706      0.492301     3.258367   \n",
       "min           1.000000      0.000000    18.000000   \n",
       "25%           1.000000      0.000000    27.000000   \n",
       "50%           1.000000      0.000000    29.000000   \n",
       "75%           6.000000      1.000000    31.000000   \n",
       "max          12.000000      1.000000    41.000000   \n",
       "\n",
       "       Avg_additional_charges_total  Month_to_end_contract     Lifetime  \\\n",
       "count                   4000.000000            4000.000000  4000.000000   \n",
       "mean                     146.943728               4.322750     3.724750   \n",
       "std                       96.355602               4.191297     3.749267   \n",
       "min                        0.148205               1.000000     0.000000   \n",
       "25%                       68.868830               1.000000     1.000000   \n",
       "50%                      136.220159               1.000000     3.000000   \n",
       "75%                      210.949625               6.000000     5.000000   \n",
       "max                      552.590740              12.000000    31.000000   \n",
       "\n",
       "       Avg_class_frequency_total  Avg_class_frequency_current_month  \\\n",
       "count                4000.000000                        4000.000000   \n",
       "mean                    1.879020                           1.767052   \n",
       "std                     0.972245                           1.052906   \n",
       "min                     0.000000                           0.000000   \n",
       "25%                     1.180875                           0.963003   \n",
       "50%                     1.832768                           1.719574   \n",
       "75%                     2.536078                           2.510336   \n",
       "max                     6.023668                           6.146783   \n",
       "\n",
       "             Churn  \n",
       "count  4000.000000  \n",
       "mean      0.265250  \n",
       "std       0.441521  \n",
       "min       0.000000  \n",
       "25%       0.000000  \n",
       "50%       0.000000  \n",
       "75%       1.000000  \n",
       "max       1.000000  "
      ]
     },
     "metadata": {},
     "output_type": "display_data"
    },
    {
     "data": {
      "text/plain": [
       "'Инофрмация о пропусках'"
      ]
     },
     "metadata": {},
     "output_type": "display_data"
    },
    {
     "data": {
      "text/plain": [
       "gender                               0\n",
       "Near_Location                        0\n",
       "Partner                              0\n",
       "Promo_friends                        0\n",
       "Phone                                0\n",
       "Contract_period                      0\n",
       "Group_visits                         0\n",
       "Age                                  0\n",
       "Avg_additional_charges_total         0\n",
       "Month_to_end_contract                0\n",
       "Lifetime                             0\n",
       "Avg_class_frequency_total            0\n",
       "Avg_class_frequency_current_month    0\n",
       "Churn                                0\n",
       "dtype: int64"
      ]
     },
     "metadata": {},
     "output_type": "display_data"
    },
    {
     "data": {
      "text/plain": [
       "'Инофрмация о долях пропущенных значений'"
      ]
     },
     "metadata": {},
     "output_type": "display_data"
    },
    {
     "data": {
      "text/plain": [
       "gender                               0.0\n",
       "Near_Location                        0.0\n",
       "Partner                              0.0\n",
       "Promo_friends                        0.0\n",
       "Phone                                0.0\n",
       "Contract_period                      0.0\n",
       "Group_visits                         0.0\n",
       "Age                                  0.0\n",
       "Avg_additional_charges_total         0.0\n",
       "Month_to_end_contract                0.0\n",
       "Lifetime                             0.0\n",
       "Avg_class_frequency_total            0.0\n",
       "Avg_class_frequency_current_month    0.0\n",
       "Churn                                0.0\n",
       "dtype: float64"
      ]
     },
     "metadata": {},
     "output_type": "display_data"
    }
   ],
   "source": [
    "df.info()\n",
    "display(df.head())\n",
    "display('Наименование столбцов')\n",
    "display(df.columns)\n",
    "display(df.describe())\n",
    "display('Инофрмация о пропусках')\n",
    "display(df.isna().sum())\n",
    "display('Инофрмация о долях пропущенных значений')\n",
    "display(df.isna().mean())"
   ]
  },
  {
   "cell_type": "markdown",
   "metadata": {},
   "source": [
    "Представленные данные содержат информацию на месяц до оттока и факт оттока на определённый месяц. \n",
    "\n",
    "**Набор данных включает следующие поля:**\n",
    "\n",
    "*Данные клиента за предыдущий до проверки факта оттока месяц:*\n",
    "\n",
    "* 'gender' — пол;\n",
    "* 'Near_Location' — проживание или работа в районе, где находится фитнес-центр;\n",
    "* 'Partner' — сотрудник компании-партнёра клуба (сотрудничество с компаниями, чьи сотрудники могут получать скидки на абонемент — в таком случае фитнес-центр хранит информацию о работодателе клиента);\n",
    "* 'Promo_friends' — факт первоначальной записи в рамках акции «приведи друга» (использовал промо-код от знакомого при оплате первого абонемента);\n",
    "* 'Phone' — наличие контактного телефона;\n",
    "* 'Age' — возраст;\n",
    "* 'Lifetime' — время с момента первого обращения в фитнес-центр (в месяцах).\n",
    "\n",
    "*Информация на основе журнала посещений, покупок и информация о текущем статусе абонемента клиента:*\n",
    "\n",
    "* 'Contract_period' — длительность текущего действующего абонемента (месяц, 6 месяцев, год);\n",
    "* 'Month_to_end_contract' — срок до окончания текущего действующего абонемента (в месяцах);\n",
    "* 'Group_visits' — факт посещения групповых занятий;\n",
    "* 'Avg_class_frequency_total' — средняя частота посещений в неделю за все время с начала действия абонемента;\n",
    "* 'Avg_class_frequency_current_month' — средняя частота посещений в неделю за предыдущий месяц;\n",
    "* 'Avg_additional_charges_total' — суммарная выручка от других услуг фитнес-центра: кафе, спорттовары, косметический и массажный салон.\n",
    "* 'Churn' — факт оттока в текущем месяце."
   ]
  },
  {
   "cell_type": "markdown",
   "metadata": {},
   "source": [
    "## Обработка данных"
   ]
  },
  {
   "cell_type": "markdown",
   "metadata": {},
   "source": [
    "### Изменение стиля в наименованиях столбцов"
   ]
  },
  {
   "cell_type": "code",
   "execution_count": 5,
   "metadata": {},
   "outputs": [],
   "source": [
    "df.columns = df.columns.str.lower()"
   ]
  },
  {
   "cell_type": "code",
   "execution_count": 6,
   "metadata": {
    "scrolled": false
   },
   "outputs": [
    {
     "data": {
      "text/plain": [
       "'Наименование столбцов'"
      ]
     },
     "metadata": {},
     "output_type": "display_data"
    },
    {
     "data": {
      "text/plain": [
       "Index(['gender', 'near_location', 'partner', 'promo_friends', 'phone',\n",
       "       'contract_period', 'group_visits', 'age',\n",
       "       'avg_additional_charges_total', 'month_to_end_contract', 'lifetime',\n",
       "       'avg_class_frequency_total', 'avg_class_frequency_current_month',\n",
       "       'churn'],\n",
       "      dtype='object')"
      ]
     },
     "metadata": {},
     "output_type": "display_data"
    }
   ],
   "source": [
    "display('Наименование столбцов')\n",
    "display(df.columns)"
   ]
  },
  {
   "cell_type": "markdown",
   "metadata": {},
   "source": [
    "### Изменение типа данных в столбцах на логические"
   ]
  },
  {
   "cell_type": "code",
   "execution_count": 7,
   "metadata": {},
   "outputs": [
    {
     "data": {
      "text/html": [
       "<div>\n",
       "<style scoped>\n",
       "    .dataframe tbody tr th:only-of-type {\n",
       "        vertical-align: middle;\n",
       "    }\n",
       "\n",
       "    .dataframe tbody tr th {\n",
       "        vertical-align: top;\n",
       "    }\n",
       "\n",
       "    .dataframe thead th {\n",
       "        text-align: right;\n",
       "    }\n",
       "</style>\n",
       "<table border=\"1\" class=\"dataframe\">\n",
       "  <thead>\n",
       "    <tr style=\"text-align: right;\">\n",
       "      <th></th>\n",
       "      <th>min</th>\n",
       "      <th>max</th>\n",
       "    </tr>\n",
       "  </thead>\n",
       "  <tbody>\n",
       "    <tr>\n",
       "      <th>gender</th>\n",
       "      <td>0.000000</td>\n",
       "      <td>1.000000</td>\n",
       "    </tr>\n",
       "    <tr>\n",
       "      <th>near_location</th>\n",
       "      <td>0.000000</td>\n",
       "      <td>1.000000</td>\n",
       "    </tr>\n",
       "    <tr>\n",
       "      <th>partner</th>\n",
       "      <td>0.000000</td>\n",
       "      <td>1.000000</td>\n",
       "    </tr>\n",
       "    <tr>\n",
       "      <th>promo_friends</th>\n",
       "      <td>0.000000</td>\n",
       "      <td>1.000000</td>\n",
       "    </tr>\n",
       "    <tr>\n",
       "      <th>phone</th>\n",
       "      <td>0.000000</td>\n",
       "      <td>1.000000</td>\n",
       "    </tr>\n",
       "    <tr>\n",
       "      <th>contract_period</th>\n",
       "      <td>1.000000</td>\n",
       "      <td>12.000000</td>\n",
       "    </tr>\n",
       "    <tr>\n",
       "      <th>group_visits</th>\n",
       "      <td>0.000000</td>\n",
       "      <td>1.000000</td>\n",
       "    </tr>\n",
       "    <tr>\n",
       "      <th>age</th>\n",
       "      <td>18.000000</td>\n",
       "      <td>41.000000</td>\n",
       "    </tr>\n",
       "    <tr>\n",
       "      <th>avg_additional_charges_total</th>\n",
       "      <td>0.148205</td>\n",
       "      <td>552.590740</td>\n",
       "    </tr>\n",
       "    <tr>\n",
       "      <th>month_to_end_contract</th>\n",
       "      <td>1.000000</td>\n",
       "      <td>12.000000</td>\n",
       "    </tr>\n",
       "    <tr>\n",
       "      <th>lifetime</th>\n",
       "      <td>0.000000</td>\n",
       "      <td>31.000000</td>\n",
       "    </tr>\n",
       "    <tr>\n",
       "      <th>avg_class_frequency_total</th>\n",
       "      <td>0.000000</td>\n",
       "      <td>6.023668</td>\n",
       "    </tr>\n",
       "    <tr>\n",
       "      <th>avg_class_frequency_current_month</th>\n",
       "      <td>0.000000</td>\n",
       "      <td>6.146783</td>\n",
       "    </tr>\n",
       "    <tr>\n",
       "      <th>churn</th>\n",
       "      <td>0.000000</td>\n",
       "      <td>1.000000</td>\n",
       "    </tr>\n",
       "  </tbody>\n",
       "</table>\n",
       "</div>"
      ],
      "text/plain": [
       "                                         min         max\n",
       "gender                              0.000000    1.000000\n",
       "near_location                       0.000000    1.000000\n",
       "partner                             0.000000    1.000000\n",
       "promo_friends                       0.000000    1.000000\n",
       "phone                               0.000000    1.000000\n",
       "contract_period                     1.000000   12.000000\n",
       "group_visits                        0.000000    1.000000\n",
       "age                                18.000000   41.000000\n",
       "avg_additional_charges_total        0.148205  552.590740\n",
       "month_to_end_contract               1.000000   12.000000\n",
       "lifetime                            0.000000   31.000000\n",
       "avg_class_frequency_total           0.000000    6.023668\n",
       "avg_class_frequency_current_month   0.000000    6.146783\n",
       "churn                               0.000000    1.000000"
      ]
     },
     "execution_count": 7,
     "metadata": {},
     "output_type": "execute_result"
    }
   ],
   "source": [
    "df.agg(['min','max']).T"
   ]
  },
  {
   "cell_type": "markdown",
   "metadata": {},
   "source": [
    "Столбцы с логическим типом данных:\n",
    "* 'gender' — пол;\n",
    "* 'near_location' — проживание или работа в районе, где находится фитнес-центр;\n",
    "* 'partner' — сотрудник компании-партнёра клуба (сотрудничество с компаниями, чьи сотрудники могут получать скидки на абонемент — в таком случае фитнес-центр хранит информацию о работодателе клиента);\n",
    "* 'promo_friends' — факт первоначальной записи в рамках акции «приведи друга» (использовал промо-код от знакомого при оплате первого абонемента);\n",
    "* 'phone' — наличие контактного телефона;\n",
    "* 'group_visits' — факт посещения групповых занятий;\n",
    "* 'churn' — факт оттока в текущем месяце."
   ]
  },
  {
   "cell_type": "markdown",
   "metadata": {},
   "source": [
    "Логично произвести изменения на тип данных 'bool', но в дальнейшем это повлияет на возможность построения графика countplot - оставляем без изменений."
   ]
  },
  {
   "cell_type": "markdown",
   "metadata": {},
   "source": [
    "### Изменение типа данных в столбцах на целое значение"
   ]
  },
  {
   "cell_type": "code",
   "execution_count": 8,
   "metadata": {
    "scrolled": false
   },
   "outputs": [
    {
     "name": "stdout",
     "output_type": "stream",
     "text": [
      "<class 'pandas.core.frame.DataFrame'>\n",
      "RangeIndex: 4000 entries, 0 to 3999\n",
      "Data columns (total 14 columns):\n",
      " #   Column                             Non-Null Count  Dtype  \n",
      "---  ------                             --------------  -----  \n",
      " 0   gender                             4000 non-null   int64  \n",
      " 1   near_location                      4000 non-null   int64  \n",
      " 2   partner                            4000 non-null   int64  \n",
      " 3   promo_friends                      4000 non-null   int64  \n",
      " 4   phone                              4000 non-null   int64  \n",
      " 5   contract_period                    4000 non-null   int64  \n",
      " 6   group_visits                       4000 non-null   int64  \n",
      " 7   age                                4000 non-null   int64  \n",
      " 8   avg_additional_charges_total       4000 non-null   float64\n",
      " 9   month_to_end_contract              4000 non-null   float64\n",
      " 10  lifetime                           4000 non-null   int64  \n",
      " 11  avg_class_frequency_total          4000 non-null   float64\n",
      " 12  avg_class_frequency_current_month  4000 non-null   float64\n",
      " 13  churn                              4000 non-null   int64  \n",
      "dtypes: float64(4), int64(10)\n",
      "memory usage: 437.6 KB\n"
     ]
    }
   ],
   "source": [
    "df.info()"
   ]
  },
  {
   "cell_type": "code",
   "execution_count": 9,
   "metadata": {},
   "outputs": [
    {
     "data": {
      "text/plain": [
       "1     2207\n",
       "12     960\n",
       "6      833\n",
       "Name: contract_period, dtype: int64"
      ]
     },
     "execution_count": 9,
     "metadata": {},
     "output_type": "execute_result"
    }
   ],
   "source": [
    "df['contract_period'].value_counts()"
   ]
  },
  {
   "cell_type": "code",
   "execution_count": 10,
   "metadata": {},
   "outputs": [
    {
     "data": {
      "text/plain": [
       "29    468\n",
       "30    457\n",
       "28    447\n",
       "31    434\n",
       "27    378\n",
       "32    364\n",
       "26    300\n",
       "33    253\n",
       "25    231\n",
       "34    174\n",
       "24    148\n",
       "35     98\n",
       "23     82\n",
       "36     48\n",
       "22     33\n",
       "37     29\n",
       "21     24\n",
       "20     14\n",
       "38     10\n",
       "39      3\n",
       "19      2\n",
       "18      2\n",
       "41      1\n",
       "Name: age, dtype: int64"
      ]
     },
     "execution_count": 10,
     "metadata": {},
     "output_type": "execute_result"
    }
   ],
   "source": [
    "df['age'].value_counts()"
   ]
  },
  {
   "cell_type": "code",
   "execution_count": 11,
   "metadata": {},
   "outputs": [
    {
     "data": {
      "text/plain": [
       "1     843\n",
       "2     610\n",
       "3     490\n",
       "0     487\n",
       "4     383\n",
       "5     273\n",
       "6     220\n",
       "7     167\n",
       "8     111\n",
       "9     100\n",
       "10     76\n",
       "12     53\n",
       "11     48\n",
       "13     28\n",
       "15     24\n",
       "14     24\n",
       "16     15\n",
       "17     11\n",
       "20      7\n",
       "19      7\n",
       "18      7\n",
       "21      5\n",
       "23      2\n",
       "24      2\n",
       "26      2\n",
       "22      2\n",
       "31      1\n",
       "27      1\n",
       "29      1\n",
       "Name: lifetime, dtype: int64"
      ]
     },
     "execution_count": 11,
     "metadata": {},
     "output_type": "execute_result"
    }
   ],
   "source": [
    "df['lifetime'].value_counts()"
   ]
  },
  {
   "cell_type": "code",
   "execution_count": 12,
   "metadata": {
    "scrolled": true
   },
   "outputs": [
    {
     "data": {
      "text/plain": [
       "1.0     2207\n",
       "6.0      645\n",
       "12.0     524\n",
       "11.0     181\n",
       "5.0      130\n",
       "10.0      82\n",
       "9.0       73\n",
       "4.0       58\n",
       "8.0       38\n",
       "7.0       25\n",
       "3.0       23\n",
       "2.0       14\n",
       "Name: month_to_end_contract, dtype: int64"
      ]
     },
     "execution_count": 12,
     "metadata": {},
     "output_type": "execute_result"
    }
   ],
   "source": [
    "df['month_to_end_contract'].value_counts()"
   ]
  },
  {
   "cell_type": "code",
   "execution_count": 13,
   "metadata": {},
   "outputs": [],
   "source": [
    "df['month_to_end_contract'] = df['month_to_end_contract'].astype('int')"
   ]
  },
  {
   "cell_type": "markdown",
   "metadata": {},
   "source": [
    "Поменяли типы данных на 'int' в столбце 'Month_to_end_contract' — срок до окончания текущего действующего абонемента выражен в месяцах."
   ]
  },
  {
   "cell_type": "markdown",
   "metadata": {},
   "source": [
    "### Анализ на наличие дубликатов"
   ]
  },
  {
   "cell_type": "code",
   "execution_count": 14,
   "metadata": {},
   "outputs": [
    {
     "name": "stdout",
     "output_type": "stream",
     "text": [
      "Полные дубликаты: 0 или 0.00%\n"
     ]
    }
   ],
   "source": [
    "print('Полные дубликаты:',df.duplicated().sum(),\n",
    "      'или {:.2%}'.format (df.duplicated().sum()/len(df.index)))"
   ]
  },
  {
   "cell_type": "markdown",
   "metadata": {},
   "source": [
    "Проверять на неявные дубликаты целесообразно только столбцы с типом данных object. Такие столбцы отсутствуют."
   ]
  },
  {
   "cell_type": "markdown",
   "metadata": {},
   "source": [
    "### Вывод"
   ]
  },
  {
   "cell_type": "code",
   "execution_count": 15,
   "metadata": {
    "scrolled": false
   },
   "outputs": [
    {
     "name": "stdout",
     "output_type": "stream",
     "text": [
      "<class 'pandas.core.frame.DataFrame'>\n",
      "RangeIndex: 4000 entries, 0 to 3999\n",
      "Data columns (total 14 columns):\n",
      " #   Column                             Non-Null Count  Dtype  \n",
      "---  ------                             --------------  -----  \n",
      " 0   gender                             4000 non-null   int64  \n",
      " 1   near_location                      4000 non-null   int64  \n",
      " 2   partner                            4000 non-null   int64  \n",
      " 3   promo_friends                      4000 non-null   int64  \n",
      " 4   phone                              4000 non-null   int64  \n",
      " 5   contract_period                    4000 non-null   int64  \n",
      " 6   group_visits                       4000 non-null   int64  \n",
      " 7   age                                4000 non-null   int64  \n",
      " 8   avg_additional_charges_total       4000 non-null   float64\n",
      " 9   month_to_end_contract              4000 non-null   int32  \n",
      " 10  lifetime                           4000 non-null   int64  \n",
      " 11  avg_class_frequency_total          4000 non-null   float64\n",
      " 12  avg_class_frequency_current_month  4000 non-null   float64\n",
      " 13  churn                              4000 non-null   int64  \n",
      "dtypes: float64(3), int32(1), int64(10)\n",
      "memory usage: 422.0 KB\n"
     ]
    }
   ],
   "source": [
    "df.info()"
   ]
  },
  {
   "cell_type": "markdown",
   "metadata": {},
   "source": [
    "При обработаке данных: \n",
    "- Произведено изменение стиля в наименованиях столбцов\n",
    "- Произведено изменение типы данных на 'int' \n",
    "- Выявлено что аномалии, а также полные и неявные дубликаты отсутствуют"
   ]
  },
  {
   "cell_type": "markdown",
   "metadata": {},
   "source": [
    "## Анализ данных  (EDA)"
   ]
  },
  {
   "cell_type": "markdown",
   "metadata": {},
   "source": [
    "### Распределение данных, средние значения и стандартные отклонения"
   ]
  },
  {
   "cell_type": "code",
   "execution_count": 16,
   "metadata": {
    "scrolled": false
   },
   "outputs": [
    {
     "data": {
      "image/png": "[encoded data removed]",
      "text/plain": [
       "<Figure size 432x288 with 1 Axes>"
      ]
     },
     "metadata": {
      "needs_background": "light"
     },
     "output_type": "display_data"
    },
    {
     "data": {
      "image/png": "[encoded data removed]",
      "text/plain": [
       "<Figure size 432x288 with 1 Axes>"
      ]
     },
     "metadata": {
      "needs_background": "light"
     },
     "output_type": "display_data"
    },
    {
     "data": {
      "image/png": "[encoded data removed]",
      "text/plain": [
       "<Figure size 432x288 with 1 Axes>"
      ]
     },
     "metadata": {
      "needs_background": "light"
     },
     "output_type": "display_data"
    },
    {
     "data": {
      "image/png": "[encoded data removed]",
      "text/plain": [
       "<Figure size 432x288 with 1 Axes>"
      ]
     },
     "metadata": {
      "needs_background": "light"
     },
     "output_type": "display_data"
    },
    {
     "data": {
      "image/png": "[encoded data removed]",
      "text/plain": [
       "<Figure size 432x288 with 1 Axes>"
      ]
     },
     "metadata": {
      "needs_background": "light"
     },
     "output_type": "display_data"
    },
    {
     "data": {
      "image/png": "[encoded data removed]",
      "text/plain": [
       "<Figure size 432x288 with 1 Axes>"
      ]
     },
     "metadata": {
      "needs_background": "light"
     },
     "output_type": "display_data"
    },
    {
     "data": {
      "image/png": "[encoded data removed]",
      "text/plain": [
       "<Figure size 432x288 with 1 Axes>"
      ]
     },
     "metadata": {
      "needs_background": "light"
     },
     "output_type": "display_data"
    },
    {
     "data": {
      "image/png": "[encoded data removed]",
      "text/plain": [
       "<Figure size 432x288 with 1 Axes>"
      ]
     },
     "metadata": {
      "needs_background": "light"
     },
     "output_type": "display_data"
    },
    {
     "data": {
      "image/png": "[encoded data removed]",
      "text/plain": [
       "<Figure size 432x288 with 1 Axes>"
      ]
     },
     "metadata": {
      "needs_background": "light"
     },
     "output_type": "display_data"
    },
    {
     "data": {
      "image/png": "[encoded data removed]",
      "text/plain": [
       "<Figure size 432x288 with 1 Axes>"
      ]
     },
     "metadata": {
      "needs_background": "light"
     },
     "output_type": "display_data"
    },
    {
     "data": {
      "image/png": "[encoded data removed]",
      "text/plain": [
       "<Figure size 432x288 with 1 Axes>"
      ]
     },
     "metadata": {
      "needs_background": "light"
     },
     "output_type": "display_data"
    },
    {
     "data": {
      "image/png": "[encoded data removed]",
      "text/plain": [
       "<Figure size 432x288 with 1 Axes>"
      ]
     },
     "metadata": {
      "needs_background": "light"
     },
     "output_type": "display_data"
    },
    {
     "data": {
      "image/png": "[encoded data removed]",
      "text/plain": [
       "<Figure size 432x288 with 1 Axes>"
      ]
     },
     "metadata": {
      "needs_background": "light"
     },
     "output_type": "display_data"
    },
    {
     "data": {
      "image/png": "[encoded data removed]",
      "text/plain": [
       "<Figure size 432x288 with 1 Axes>"
      ]
     },
     "metadata": {
      "needs_background": "light"
     },
     "output_type": "display_data"
    }
   ],
   "source": [
    "for column in df.columns:\n",
    "    sns.distplot(df[column])\n",
    "    plt.title(column)\n",
    "    plt.show() "
   ]
  },
  {
   "cell_type": "code",
   "execution_count": 17,
   "metadata": {
    "scrolled": true
   },
   "outputs": [
    {
     "data": {
      "text/html": [
       "<div>\n",
       "<style scoped>\n",
       "    .dataframe tbody tr th:only-of-type {\n",
       "        vertical-align: middle;\n",
       "    }\n",
       "\n",
       "    .dataframe tbody tr th {\n",
       "        vertical-align: top;\n",
       "    }\n",
       "\n",
       "    .dataframe thead th {\n",
       "        text-align: right;\n",
       "    }\n",
       "</style>\n",
       "<table border=\"1\" class=\"dataframe\">\n",
       "  <thead>\n",
       "    <tr style=\"text-align: right;\">\n",
       "      <th></th>\n",
       "      <th>gender</th>\n",
       "      <th>near_location</th>\n",
       "      <th>partner</th>\n",
       "      <th>promo_friends</th>\n",
       "      <th>phone</th>\n",
       "      <th>contract_period</th>\n",
       "      <th>group_visits</th>\n",
       "      <th>age</th>\n",
       "      <th>avg_additional_charges_total</th>\n",
       "      <th>month_to_end_contract</th>\n",
       "      <th>lifetime</th>\n",
       "      <th>avg_class_frequency_total</th>\n",
       "      <th>avg_class_frequency_current_month</th>\n",
       "      <th>churn</th>\n",
       "    </tr>\n",
       "  </thead>\n",
       "  <tbody>\n",
       "    <tr>\n",
       "      <th>count</th>\n",
       "      <td>4000.000000</td>\n",
       "      <td>4000.000000</td>\n",
       "      <td>4000.000000</td>\n",
       "      <td>4000.000000</td>\n",
       "      <td>4000.000000</td>\n",
       "      <td>4000.000000</td>\n",
       "      <td>4000.000000</td>\n",
       "      <td>4000.000000</td>\n",
       "      <td>4000.000000</td>\n",
       "      <td>4000.000000</td>\n",
       "      <td>4000.000000</td>\n",
       "      <td>4000.000000</td>\n",
       "      <td>4000.000000</td>\n",
       "      <td>4000.000000</td>\n",
       "    </tr>\n",
       "    <tr>\n",
       "      <th>mean</th>\n",
       "      <td>0.510250</td>\n",
       "      <td>0.845250</td>\n",
       "      <td>0.486750</td>\n",
       "      <td>0.308500</td>\n",
       "      <td>0.903500</td>\n",
       "      <td>4.681250</td>\n",
       "      <td>0.412250</td>\n",
       "      <td>29.184250</td>\n",
       "      <td>146.943728</td>\n",
       "      <td>4.322750</td>\n",
       "      <td>3.724750</td>\n",
       "      <td>1.879020</td>\n",
       "      <td>1.767052</td>\n",
       "      <td>0.265250</td>\n",
       "    </tr>\n",
       "    <tr>\n",
       "      <th>std</th>\n",
       "      <td>0.499957</td>\n",
       "      <td>0.361711</td>\n",
       "      <td>0.499887</td>\n",
       "      <td>0.461932</td>\n",
       "      <td>0.295313</td>\n",
       "      <td>4.549706</td>\n",
       "      <td>0.492301</td>\n",
       "      <td>3.258367</td>\n",
       "      <td>96.355602</td>\n",
       "      <td>4.191297</td>\n",
       "      <td>3.749267</td>\n",
       "      <td>0.972245</td>\n",
       "      <td>1.052906</td>\n",
       "      <td>0.441521</td>\n",
       "    </tr>\n",
       "    <tr>\n",
       "      <th>min</th>\n",
       "      <td>0.000000</td>\n",
       "      <td>0.000000</td>\n",
       "      <td>0.000000</td>\n",
       "      <td>0.000000</td>\n",
       "      <td>0.000000</td>\n",
       "      <td>1.000000</td>\n",
       "      <td>0.000000</td>\n",
       "      <td>18.000000</td>\n",
       "      <td>0.148205</td>\n",
       "      <td>1.000000</td>\n",
       "      <td>0.000000</td>\n",
       "      <td>0.000000</td>\n",
       "      <td>0.000000</td>\n",
       "      <td>0.000000</td>\n",
       "    </tr>\n",
       "    <tr>\n",
       "      <th>25%</th>\n",
       "      <td>0.000000</td>\n",
       "      <td>1.000000</td>\n",
       "      <td>0.000000</td>\n",
       "      <td>0.000000</td>\n",
       "      <td>1.000000</td>\n",
       "      <td>1.000000</td>\n",
       "      <td>0.000000</td>\n",
       "      <td>27.000000</td>\n",
       "      <td>68.868830</td>\n",
       "      <td>1.000000</td>\n",
       "      <td>1.000000</td>\n",
       "      <td>1.180875</td>\n",
       "      <td>0.963003</td>\n",
       "      <td>0.000000</td>\n",
       "    </tr>\n",
       "    <tr>\n",
       "      <th>50%</th>\n",
       "      <td>1.000000</td>\n",
       "      <td>1.000000</td>\n",
       "      <td>0.000000</td>\n",
       "      <td>0.000000</td>\n",
       "      <td>1.000000</td>\n",
       "      <td>1.000000</td>\n",
       "      <td>0.000000</td>\n",
       "      <td>29.000000</td>\n",
       "      <td>136.220159</td>\n",
       "      <td>1.000000</td>\n",
       "      <td>3.000000</td>\n",
       "      <td>1.832768</td>\n",
       "      <td>1.719574</td>\n",
       "      <td>0.000000</td>\n",
       "    </tr>\n",
       "    <tr>\n",
       "      <th>75%</th>\n",
       "      <td>1.000000</td>\n",
       "      <td>1.000000</td>\n",
       "      <td>1.000000</td>\n",
       "      <td>1.000000</td>\n",
       "      <td>1.000000</td>\n",
       "      <td>6.000000</td>\n",
       "      <td>1.000000</td>\n",
       "      <td>31.000000</td>\n",
       "      <td>210.949625</td>\n",
       "      <td>6.000000</td>\n",
       "      <td>5.000000</td>\n",
       "      <td>2.536078</td>\n",
       "      <td>2.510336</td>\n",
       "      <td>1.000000</td>\n",
       "    </tr>\n",
       "    <tr>\n",
       "      <th>max</th>\n",
       "      <td>1.000000</td>\n",
       "      <td>1.000000</td>\n",
       "      <td>1.000000</td>\n",
       "      <td>1.000000</td>\n",
       "      <td>1.000000</td>\n",
       "      <td>12.000000</td>\n",
       "      <td>1.000000</td>\n",
       "      <td>41.000000</td>\n",
       "      <td>552.590740</td>\n",
       "      <td>12.000000</td>\n",
       "      <td>31.000000</td>\n",
       "      <td>6.023668</td>\n",
       "      <td>6.146783</td>\n",
       "      <td>1.000000</td>\n",
       "    </tr>\n",
       "  </tbody>\n",
       "</table>\n",
       "</div>"
      ],
      "text/plain": [
       "            gender  near_location      partner  promo_friends        phone  \\\n",
       "count  4000.000000    4000.000000  4000.000000    4000.000000  4000.000000   \n",
       "mean      0.510250       0.845250     0.486750       0.308500     0.903500   \n",
       "std       0.499957       0.361711     0.499887       0.461932     0.295313   \n",
       "min       0.000000       0.000000     0.000000       0.000000     0.000000   \n",
       "25%       0.000000       1.000000     0.000000       0.000000     1.000000   \n",
       "50%       1.000000       1.000000     0.000000       0.000000     1.000000   \n",
       "75%       1.000000       1.000000     1.000000       1.000000     1.000000   \n",
       "max       1.000000       1.000000     1.000000       1.000000     1.000000   \n",
       "\n",
       "       contract_period  group_visits          age  \\\n",
       "count      4000.000000   4000.000000  4000.000000   \n",
       "mean          4.681250      0.412250    29.184250   \n",
       "std           4.549706      0.492301     3.258367   \n",
       "min           1.000000      0.000000    18.000000   \n",
       "25%           1.000000      0.000000    27.000000   \n",
       "50%           1.000000      0.000000    29.000000   \n",
       "75%           6.000000      1.000000    31.000000   \n",
       "max          12.000000      1.000000    41.000000   \n",
       "\n",
       "       avg_additional_charges_total  month_to_end_contract     lifetime  \\\n",
       "count                   4000.000000            4000.000000  4000.000000   \n",
       "mean                     146.943728               4.322750     3.724750   \n",
       "std                       96.355602               4.191297     3.749267   \n",
       "min                        0.148205               1.000000     0.000000   \n",
       "25%                       68.868830               1.000000     1.000000   \n",
       "50%                      136.220159               1.000000     3.000000   \n",
       "75%                      210.949625               6.000000     5.000000   \n",
       "max                      552.590740              12.000000    31.000000   \n",
       "\n",
       "       avg_class_frequency_total  avg_class_frequency_current_month  \\\n",
       "count                4000.000000                        4000.000000   \n",
       "mean                    1.879020                           1.767052   \n",
       "std                     0.972245                           1.052906   \n",
       "min                     0.000000                           0.000000   \n",
       "25%                     1.180875                           0.963003   \n",
       "50%                     1.832768                           1.719574   \n",
       "75%                     2.536078                           2.510336   \n",
       "max                     6.023668                           6.146783   \n",
       "\n",
       "             churn  \n",
       "count  4000.000000  \n",
       "mean      0.265250  \n",
       "std       0.441521  \n",
       "min       0.000000  \n",
       "25%       0.000000  \n",
       "50%       0.000000  \n",
       "75%       1.000000  \n",
       "max       1.000000  "
      ]
     },
     "execution_count": 17,
     "metadata": {},
     "output_type": "execute_result"
    }
   ],
   "source": [
    "df.describe()"
   ]
  },
  {
   "cell_type": "code",
   "execution_count": 18,
   "metadata": {
    "scrolled": false
   },
   "outputs": [
    {
     "data": {
      "text/html": [
       "<div>\n",
       "<style scoped>\n",
       "    .dataframe tbody tr th:only-of-type {\n",
       "        vertical-align: middle;\n",
       "    }\n",
       "\n",
       "    .dataframe tbody tr th {\n",
       "        vertical-align: top;\n",
       "    }\n",
       "\n",
       "    .dataframe thead th {\n",
       "        text-align: right;\n",
       "    }\n",
       "</style>\n",
       "<table border=\"1\" class=\"dataframe\">\n",
       "  <thead>\n",
       "    <tr style=\"text-align: right;\">\n",
       "      <th></th>\n",
       "      <th>mean</th>\n",
       "      <th>std</th>\n",
       "    </tr>\n",
       "  </thead>\n",
       "  <tbody>\n",
       "    <tr>\n",
       "      <th>gender</th>\n",
       "      <td>0.510250</td>\n",
       "      <td>0.499957</td>\n",
       "    </tr>\n",
       "    <tr>\n",
       "      <th>near_location</th>\n",
       "      <td>0.845250</td>\n",
       "      <td>0.361711</td>\n",
       "    </tr>\n",
       "    <tr>\n",
       "      <th>partner</th>\n",
       "      <td>0.486750</td>\n",
       "      <td>0.499887</td>\n",
       "    </tr>\n",
       "    <tr>\n",
       "      <th>promo_friends</th>\n",
       "      <td>0.308500</td>\n",
       "      <td>0.461932</td>\n",
       "    </tr>\n",
       "    <tr>\n",
       "      <th>phone</th>\n",
       "      <td>0.903500</td>\n",
       "      <td>0.295313</td>\n",
       "    </tr>\n",
       "    <tr>\n",
       "      <th>contract_period</th>\n",
       "      <td>4.681250</td>\n",
       "      <td>4.549706</td>\n",
       "    </tr>\n",
       "    <tr>\n",
       "      <th>group_visits</th>\n",
       "      <td>0.412250</td>\n",
       "      <td>0.492301</td>\n",
       "    </tr>\n",
       "    <tr>\n",
       "      <th>age</th>\n",
       "      <td>29.184250</td>\n",
       "      <td>3.258367</td>\n",
       "    </tr>\n",
       "    <tr>\n",
       "      <th>avg_additional_charges_total</th>\n",
       "      <td>146.943728</td>\n",
       "      <td>96.355602</td>\n",
       "    </tr>\n",
       "    <tr>\n",
       "      <th>month_to_end_contract</th>\n",
       "      <td>4.322750</td>\n",
       "      <td>4.191297</td>\n",
       "    </tr>\n",
       "    <tr>\n",
       "      <th>lifetime</th>\n",
       "      <td>3.724750</td>\n",
       "      <td>3.749267</td>\n",
       "    </tr>\n",
       "    <tr>\n",
       "      <th>avg_class_frequency_total</th>\n",
       "      <td>1.879020</td>\n",
       "      <td>0.972245</td>\n",
       "    </tr>\n",
       "    <tr>\n",
       "      <th>avg_class_frequency_current_month</th>\n",
       "      <td>1.767052</td>\n",
       "      <td>1.052906</td>\n",
       "    </tr>\n",
       "    <tr>\n",
       "      <th>churn</th>\n",
       "      <td>0.265250</td>\n",
       "      <td>0.441521</td>\n",
       "    </tr>\n",
       "  </tbody>\n",
       "</table>\n",
       "</div>"
      ],
      "text/plain": [
       "                                         mean        std\n",
       "gender                               0.510250   0.499957\n",
       "near_location                        0.845250   0.361711\n",
       "partner                              0.486750   0.499887\n",
       "promo_friends                        0.308500   0.461932\n",
       "phone                                0.903500   0.295313\n",
       "contract_period                      4.681250   4.549706\n",
       "group_visits                         0.412250   0.492301\n",
       "age                                 29.184250   3.258367\n",
       "avg_additional_charges_total       146.943728  96.355602\n",
       "month_to_end_contract                4.322750   4.191297\n",
       "lifetime                             3.724750   3.749267\n",
       "avg_class_frequency_total            1.879020   0.972245\n",
       "avg_class_frequency_current_month    1.767052   1.052906\n",
       "churn                                0.265250   0.441521"
      ]
     },
     "execution_count": 18,
     "metadata": {},
     "output_type": "execute_result"
    }
   ],
   "source": [
    "df.agg(['mean','std']).T"
   ]
  },
  {
   "cell_type": "markdown",
   "metadata": {},
   "source": [
    "#### Вывод"
   ]
  },
  {
   "cell_type": "markdown",
   "metadata": {},
   "source": [
    "**Анализ всех клиентов**\n",
    "\n",
    "* Распределение по полу примерно одинаково - 51 % и 49 %\n",
    "* Большинство клиентов живет или работает рядом с фитнес-клубом - 85 %\n",
    "* Примерно половина клиентов являются сотрудниками партнерских организаций - 49 %\n",
    "* 30 % клиентов пришли по программе \"Приведи друга\"\n",
    "* 90 % клиентов предоставили свои мобильные номера  \n",
    "* Средняя длительность абонементов клиентов - 4.6 месяцев\n",
    "* 41 % клиентов посещают групповые занятия\n",
    "* Средний возраст клиентов 29 лет\n",
    "* Средние дополнительные расходы на клиента - 146\n",
    "* Средний срок до окончания договора - 4.3 месяцев\n",
    "* Среднее время с момента первого обращения в фитнес-центр - 3.7 месяцев\n",
    "* Средняя частота посещений за все время - 1.87 раз в неделю\n",
    "* Средняя частота посещений за последний месяц - 1.76 раз в неделю\n",
    "* Доля оттока - 27 %"
   ]
  },
  {
   "cell_type": "code",
   "execution_count": 19,
   "metadata": {
    "scrolled": false
   },
   "outputs": [
    {
     "data": {
      "text/html": [
       "<div>\n",
       "<style scoped>\n",
       "    .dataframe tbody tr th:only-of-type {\n",
       "        vertical-align: middle;\n",
       "    }\n",
       "\n",
       "    .dataframe tbody tr th {\n",
       "        vertical-align: top;\n",
       "    }\n",
       "\n",
       "    .dataframe thead th {\n",
       "        text-align: right;\n",
       "    }\n",
       "</style>\n",
       "<table border=\"1\" class=\"dataframe\">\n",
       "  <thead>\n",
       "    <tr style=\"text-align: right;\">\n",
       "      <th></th>\n",
       "      <th>churn</th>\n",
       "      <th>0</th>\n",
       "      <th>1</th>\n",
       "    </tr>\n",
       "  </thead>\n",
       "  <tbody>\n",
       "    <tr>\n",
       "      <th rowspan=\"2\" valign=\"top\">gender</th>\n",
       "      <th>mean</th>\n",
       "      <td>0.510037</td>\n",
       "      <td>0.510839</td>\n",
       "    </tr>\n",
       "    <tr>\n",
       "      <th>std</th>\n",
       "      <td>0.499984</td>\n",
       "      <td>0.500118</td>\n",
       "    </tr>\n",
       "    <tr>\n",
       "      <th rowspan=\"2\" valign=\"top\">near_location</th>\n",
       "      <th>mean</th>\n",
       "      <td>0.873086</td>\n",
       "      <td>0.768143</td>\n",
       "    </tr>\n",
       "    <tr>\n",
       "      <th>std</th>\n",
       "      <td>0.332933</td>\n",
       "      <td>0.422217</td>\n",
       "    </tr>\n",
       "    <tr>\n",
       "      <th rowspan=\"2\" valign=\"top\">partner</th>\n",
       "      <th>mean</th>\n",
       "      <td>0.534195</td>\n",
       "      <td>0.355325</td>\n",
       "    </tr>\n",
       "    <tr>\n",
       "      <th>std</th>\n",
       "      <td>0.498914</td>\n",
       "      <td>0.478837</td>\n",
       "    </tr>\n",
       "    <tr>\n",
       "      <th rowspan=\"2\" valign=\"top\">promo_friends</th>\n",
       "      <th>mean</th>\n",
       "      <td>0.353522</td>\n",
       "      <td>0.183789</td>\n",
       "    </tr>\n",
       "    <tr>\n",
       "      <th>std</th>\n",
       "      <td>0.478144</td>\n",
       "      <td>0.387495</td>\n",
       "    </tr>\n",
       "    <tr>\n",
       "      <th rowspan=\"2\" valign=\"top\">phone</th>\n",
       "      <th>mean</th>\n",
       "      <td>0.903709</td>\n",
       "      <td>0.902922</td>\n",
       "    </tr>\n",
       "    <tr>\n",
       "      <th>std</th>\n",
       "      <td>0.295040</td>\n",
       "      <td>0.296204</td>\n",
       "    </tr>\n",
       "    <tr>\n",
       "      <th rowspan=\"2\" valign=\"top\">contract_period</th>\n",
       "      <th>mean</th>\n",
       "      <td>5.747193</td>\n",
       "      <td>1.728558</td>\n",
       "    </tr>\n",
       "    <tr>\n",
       "      <th>std</th>\n",
       "      <td>4.716942</td>\n",
       "      <td>2.132371</td>\n",
       "    </tr>\n",
       "    <tr>\n",
       "      <th rowspan=\"2\" valign=\"top\">group_visits</th>\n",
       "      <th>mean</th>\n",
       "      <td>0.464103</td>\n",
       "      <td>0.268615</td>\n",
       "    </tr>\n",
       "    <tr>\n",
       "      <th>std</th>\n",
       "      <td>0.498795</td>\n",
       "      <td>0.443448</td>\n",
       "    </tr>\n",
       "    <tr>\n",
       "      <th rowspan=\"2\" valign=\"top\">age</th>\n",
       "      <th>mean</th>\n",
       "      <td>29.976523</td>\n",
       "      <td>26.989632</td>\n",
       "    </tr>\n",
       "    <tr>\n",
       "      <th>std</th>\n",
       "      <td>3.009933</td>\n",
       "      <td>2.895163</td>\n",
       "    </tr>\n",
       "    <tr>\n",
       "      <th rowspan=\"2\" valign=\"top\">avg_additional_charges_total</th>\n",
       "      <th>mean</th>\n",
       "      <td>158.445715</td>\n",
       "      <td>115.082899</td>\n",
       "    </tr>\n",
       "    <tr>\n",
       "      <th>std</th>\n",
       "      <td>99.801599</td>\n",
       "      <td>77.696419</td>\n",
       "    </tr>\n",
       "    <tr>\n",
       "      <th rowspan=\"2\" valign=\"top\">month_to_end_contract</th>\n",
       "      <th>mean</th>\n",
       "      <td>5.283089</td>\n",
       "      <td>1.662582</td>\n",
       "    </tr>\n",
       "    <tr>\n",
       "      <th>std</th>\n",
       "      <td>4.363522</td>\n",
       "      <td>1.964593</td>\n",
       "    </tr>\n",
       "    <tr>\n",
       "      <th rowspan=\"2\" valign=\"top\">lifetime</th>\n",
       "      <th>mean</th>\n",
       "      <td>4.711807</td>\n",
       "      <td>0.990575</td>\n",
       "    </tr>\n",
       "    <tr>\n",
       "      <th>std</th>\n",
       "      <td>3.874780</td>\n",
       "      <td>1.110799</td>\n",
       "    </tr>\n",
       "    <tr>\n",
       "      <th rowspan=\"2\" valign=\"top\">avg_class_frequency_total</th>\n",
       "      <th>mean</th>\n",
       "      <td>2.024876</td>\n",
       "      <td>1.474995</td>\n",
       "    </tr>\n",
       "    <tr>\n",
       "      <th>std</th>\n",
       "      <td>1.016006</td>\n",
       "      <td>0.694705</td>\n",
       "    </tr>\n",
       "    <tr>\n",
       "      <th rowspan=\"2\" valign=\"top\">avg_class_frequency_current_month</th>\n",
       "      <th>mean</th>\n",
       "      <td>2.027882</td>\n",
       "      <td>1.044546</td>\n",
       "    </tr>\n",
       "    <tr>\n",
       "      <th>std</th>\n",
       "      <td>1.018994</td>\n",
       "      <td>0.770237</td>\n",
       "    </tr>\n",
       "  </tbody>\n",
       "</table>\n",
       "</div>"
      ],
      "text/plain": [
       "churn                                            0           1\n",
       "gender                            mean    0.510037    0.510839\n",
       "                                  std     0.499984    0.500118\n",
       "near_location                     mean    0.873086    0.768143\n",
       "                                  std     0.332933    0.422217\n",
       "partner                           mean    0.534195    0.355325\n",
       "                                  std     0.498914    0.478837\n",
       "promo_friends                     mean    0.353522    0.183789\n",
       "                                  std     0.478144    0.387495\n",
       "phone                             mean    0.903709    0.902922\n",
       "                                  std     0.295040    0.296204\n",
       "contract_period                   mean    5.747193    1.728558\n",
       "                                  std     4.716942    2.132371\n",
       "group_visits                      mean    0.464103    0.268615\n",
       "                                  std     0.498795    0.443448\n",
       "age                               mean   29.976523   26.989632\n",
       "                                  std     3.009933    2.895163\n",
       "avg_additional_charges_total      mean  158.445715  115.082899\n",
       "                                  std    99.801599   77.696419\n",
       "month_to_end_contract             mean    5.283089    1.662582\n",
       "                                  std     4.363522    1.964593\n",
       "lifetime                          mean    4.711807    0.990575\n",
       "                                  std     3.874780    1.110799\n",
       "avg_class_frequency_total         mean    2.024876    1.474995\n",
       "                                  std     1.016006    0.694705\n",
       "avg_class_frequency_current_month mean    2.027882    1.044546\n",
       "                                  std     1.018994    0.770237"
      ]
     },
     "execution_count": 19,
     "metadata": {},
     "output_type": "execute_result"
    }
   ],
   "source": [
    "df.groupby('churn').agg(['mean','std']).T"
   ]
  },
  {
   "cell_type": "code",
   "execution_count": 20,
   "metadata": {},
   "outputs": [
    {
     "data": {
      "text/plain": [
       "churn\n",
       "0    2939\n",
       "1    1061\n",
       "Name: gender, dtype: int64"
      ]
     },
     "execution_count": 20,
     "metadata": {},
     "output_type": "execute_result"
    }
   ],
   "source": [
    "df.groupby('churn')['gender'].agg('count')"
   ]
  },
  {
   "cell_type": "markdown",
   "metadata": {},
   "source": [
    "Отток в текущем месяце - 1061 человек, осталось - 2939 человек."
   ]
  },
  {
   "cell_type": "code",
   "execution_count": 21,
   "metadata": {
    "scrolled": false
   },
   "outputs": [
    {
     "data": {
      "text/html": [
       "<div>\n",
       "<style scoped>\n",
       "    .dataframe tbody tr th:only-of-type {\n",
       "        vertical-align: middle;\n",
       "    }\n",
       "\n",
       "    .dataframe tbody tr th {\n",
       "        vertical-align: top;\n",
       "    }\n",
       "\n",
       "    .dataframe thead th {\n",
       "        text-align: right;\n",
       "    }\n",
       "</style>\n",
       "<table border=\"1\" class=\"dataframe\">\n",
       "  <thead>\n",
       "    <tr style=\"text-align: right;\">\n",
       "      <th>churn</th>\n",
       "      <th>0</th>\n",
       "      <th>1</th>\n",
       "    </tr>\n",
       "  </thead>\n",
       "  <tbody>\n",
       "    <tr>\n",
       "      <th>gender</th>\n",
       "      <td>0.510037</td>\n",
       "      <td>0.510839</td>\n",
       "    </tr>\n",
       "    <tr>\n",
       "      <th>near_location</th>\n",
       "      <td>0.873086</td>\n",
       "      <td>0.768143</td>\n",
       "    </tr>\n",
       "    <tr>\n",
       "      <th>partner</th>\n",
       "      <td>0.534195</td>\n",
       "      <td>0.355325</td>\n",
       "    </tr>\n",
       "    <tr>\n",
       "      <th>promo_friends</th>\n",
       "      <td>0.353522</td>\n",
       "      <td>0.183789</td>\n",
       "    </tr>\n",
       "    <tr>\n",
       "      <th>phone</th>\n",
       "      <td>0.903709</td>\n",
       "      <td>0.902922</td>\n",
       "    </tr>\n",
       "    <tr>\n",
       "      <th>contract_period</th>\n",
       "      <td>5.747193</td>\n",
       "      <td>1.728558</td>\n",
       "    </tr>\n",
       "    <tr>\n",
       "      <th>group_visits</th>\n",
       "      <td>0.464103</td>\n",
       "      <td>0.268615</td>\n",
       "    </tr>\n",
       "    <tr>\n",
       "      <th>age</th>\n",
       "      <td>29.976523</td>\n",
       "      <td>26.989632</td>\n",
       "    </tr>\n",
       "    <tr>\n",
       "      <th>avg_additional_charges_total</th>\n",
       "      <td>158.445715</td>\n",
       "      <td>115.082899</td>\n",
       "    </tr>\n",
       "    <tr>\n",
       "      <th>month_to_end_contract</th>\n",
       "      <td>5.283089</td>\n",
       "      <td>1.662582</td>\n",
       "    </tr>\n",
       "    <tr>\n",
       "      <th>lifetime</th>\n",
       "      <td>4.711807</td>\n",
       "      <td>0.990575</td>\n",
       "    </tr>\n",
       "    <tr>\n",
       "      <th>avg_class_frequency_total</th>\n",
       "      <td>2.024876</td>\n",
       "      <td>1.474995</td>\n",
       "    </tr>\n",
       "    <tr>\n",
       "      <th>avg_class_frequency_current_month</th>\n",
       "      <td>2.027882</td>\n",
       "      <td>1.044546</td>\n",
       "    </tr>\n",
       "  </tbody>\n",
       "</table>\n",
       "</div>"
      ],
      "text/plain": [
       "churn                                       0           1\n",
       "gender                               0.510037    0.510839\n",
       "near_location                        0.873086    0.768143\n",
       "partner                              0.534195    0.355325\n",
       "promo_friends                        0.353522    0.183789\n",
       "phone                                0.903709    0.902922\n",
       "contract_period                      5.747193    1.728558\n",
       "group_visits                         0.464103    0.268615\n",
       "age                                 29.976523   26.989632\n",
       "avg_additional_charges_total       158.445715  115.082899\n",
       "month_to_end_contract                5.283089    1.662582\n",
       "lifetime                             4.711807    0.990575\n",
       "avg_class_frequency_total            2.024876    1.474995\n",
       "avg_class_frequency_current_month    2.027882    1.044546"
      ]
     },
     "execution_count": 21,
     "metadata": {},
     "output_type": "execute_result"
    }
   ],
   "source": [
    "df.groupby('churn').mean().T"
   ]
  },
  {
   "cell_type": "markdown",
   "metadata": {},
   "source": [
    "#### Вывод"
   ]
  },
  {
   "cell_type": "markdown",
   "metadata": {},
   "source": [
    "**Анализ клиентов с учетом оттока**\n",
    "\n",
    "* Пол не влияет на отток\n",
    "* Ближе живущие или работающие клиенты реже попадают в отток\n",
    "* Среди сотрудников компаний-партнеров отток меньше  \n",
    "* Клиенты, пришедшие по акции \"Приведи друга\" в два раза реже уходят в отток\n",
    "* Наличие мобильного номера клиента не влияет на отток\n",
    "* Средняя длительность договора полне логично больше у оставшихся пользователей, у большей части клиентов в оттоке срок договора составляет 1 месяц\n",
    "* Оставшиеся пользователи чаще ходят на групповые занятия \n",
    "* У групп есть разница в среднем возрасте клиентов\n",
    "* Есть небольшое различие в выручке от других услуг фитнес-центра\n",
    "* Оставшееся время до окончания срока действия договора логично больше у оставшихся клиентов.\n",
    "* У клиентов в оттоке меньше среднее количество посещений в неделю за всё время\n",
    "* Количество посещений в предыдущий месяц в два раза ниже у клиентов в оттоке"
   ]
  },
  {
   "cell_type": "markdown",
   "metadata": {},
   "source": [
    "### Столбчатые гистограммы и распределения признаков для тех, кто ушёл (отток) и тех, кто остался (не попали в отток)"
   ]
  },
  {
   "cell_type": "markdown",
   "metadata": {},
   "source": [
    "Построим отдельно графики для признаков с числовыми и логическими типами данных."
   ]
  },
  {
   "cell_type": "markdown",
   "metadata": {},
   "source": [
    "Признаки с числовым типом данных:\n",
    "\n",
    "* 'contract_period' — длительность текущего действующего абонемента (месяц, 6 месяцев, год);\n",
    "* 'age' — возраст;\n",
    "* 'avg_additional_charges_total' — суммарная выручка от других услуг фитнес-центра: кафе, спорттовары, косметический и массажный салон;\n",
    "* 'month_to_end_contract' — срок до окончания текущего действующего абонемента (в месяцах);\n",
    "* 'lifetime' — время с момента первого обращения в фитнес-центр (в месяцах);\n",
    "* 'avg_class_frequency_total' — средняя частота посещений в неделю за все время с начала действия абонемента;\n",
    "* 'avg_class_frequency_current_month' — средняя частота посещений в неделю за предыдущий месяц."
   ]
  },
  {
   "cell_type": "markdown",
   "metadata": {},
   "source": [
    "Признаки с логическим типом данных:\n",
    "* 'gender' — пол;\n",
    "* 'near_location' — проживание или работа в районе, где находится фитнес-центр;\n",
    "* 'partner' — сотрудник компании-партнёра клуба (сотрудничество с компаниями, чьи сотрудники могут получать скидки на абонемент — в таком случае фитнес-центр хранит информацию о работодателе клиента);\n",
    "* 'promo_friends' — факт первоначальной записи в рамках акции «приведи друга» (использовал промо-код от знакомого при оплате первого абонемента);\n",
    "* 'phone' — наличие контактного телефона;\n",
    "* 'group_visits' — факт посещения групповых занятий;\n",
    "* 'churn' — факт оттока в текущем месяце."
   ]
  },
  {
   "cell_type": "code",
   "execution_count": 22,
   "metadata": {},
   "outputs": [],
   "source": [
    "leave = df[df['churn']==1]\n",
    "stay = df[df['churn']==0]\n",
    "numeric_columns = ['contract_period',\n",
    "                    'age',\n",
    "                    'avg_additional_charges_total',\n",
    "                    'month_to_end_contract',\n",
    "                    'lifetime',\n",
    "                    'avg_class_frequency_total',\n",
    "                    'avg_class_frequency_current_month']"
   ]
  },
  {
   "cell_type": "code",
   "execution_count": 23,
   "metadata": {},
   "outputs": [
    {
     "data": {
      "image/png": "[encoded data removed]",
      "text/plain": [
       "<Figure size 1440x720 with 7 Axes>"
      ]
     },
     "metadata": {
      "needs_background": "light"
     },
     "output_type": "display_data"
    }
   ],
   "source": [
    "fig, axes = plt.subplots(nrows=2, ncols=4, figsize=(20,10))\n",
    "axes_list = [item for sublist in axes for item in sublist]\n",
    "fig.suptitle('Распределение признаков с числовым типом данных', fontsize=14)\n",
    "for column in numeric_columns: \n",
    "  ax = axes_list.pop(0)\n",
    "  sns.histplot(leave[column], kde=True, color = 'orange', ax=ax, label='Отток')\n",
    "  sns.histplot(stay[column], kde=True, color = 'royalblue', ax=ax, label='Оставшиеся')\n",
    "  ax.set_ylabel('Кол-во записей')\n",
    "  ax.legend()\n",
    "fig.delaxes(axes[1][3])  "
   ]
  },
  {
   "cell_type": "markdown",
   "metadata": {},
   "source": [
    "#### Вывод"
   ]
  },
  {
   "cell_type": "markdown",
   "metadata": {},
   "source": [
    "\n",
    "\n",
    "* 'contract_period' - здесь хорошо видно, что чем дольше контракт(абонемент), тем у этих клиентов отток меньше. Вообще основной отток идет среди тех у кого контракт на месяц\n",
    "\n",
    "* 'age' - до возраста 25-26 лет большая часть склонна уйти, но дальше чем старше клиенты тем склонность остаться сильнее\n",
    "\n",
    "* 'avg_additional_charges_total' - здесь можно сказать, что доли ушел/остался мало зависят от трат на доп.услуги. Большая часть клиентов тратин не больше 350.\n",
    "\n",
    "* 'month_to_end_contract' - А здесь отлично видно, что чем больше времени осталось до окончания абонемента, тем желание клиентов продолжать ходить в фитнес сильнее. И вообще основной отток идет среди тех у кого осталься 1 месяц.\n",
    "\n",
    "* 'lifetime' - очень хорошо видно, что среди тех у кого большой \"lifetime\" оттока почти нет. Основной отток идет от тех кто ходил до 2 месяцев\n",
    "\n",
    "* 'avg_class_frequency_total' - единственный признак с распределением похожим на нормальное. Тут интересная ситуация. У тех кто ходит до 2 раз в неделю доли оттока примерно одинаковые, но ситуация резко меняется если клиент ходит 3 раза, а если 4-5 раз(это наверно профессиональные спортсмены), то вообще оттока не видно, но таких клиентов значительно меньше.\n",
    "\n",
    "* 'avg_class_frequency_current_month' - здесь можно сказать, что чем чаще клиент ходил в клуб за последний месяц, тем и отток меньше"
   ]
  },
  {
   "cell_type": "code",
   "execution_count": 24,
   "metadata": {},
   "outputs": [
    {
     "data": {
      "image/png": "[encoded data removed]",
      "text/plain": [
       "<Figure size 1440x720 with 7 Axes>"
      ]
     },
     "metadata": {
      "needs_background": "light"
     },
     "output_type": "display_data"
    }
   ],
   "source": [
    "fig, axes = plt.subplots(nrows=2, ncols=4, figsize=(20,10))\n",
    "axes_list = [item for sublist in axes for item in sublist]\n",
    "fig.suptitle('Распределение признаков с логическим типом данных', fontsize=14)\n",
    "for column in df.columns:\n",
    "  if column not in numeric_columns:\n",
    "    ax = axes_list.pop(0)\n",
    "    sns.countplot(x = df[column], hue='churn', data=df, ax=ax)\n",
    "    ax.set_ylabel('Кол-во записей')\n",
    "    ax.legend(['Оставшиеся', 'Отток'])\n",
    "fig.delaxes(axes[1][3])     "
   ]
  },
  {
   "cell_type": "markdown",
   "metadata": {},
   "source": [
    "#### Вывод"
   ]
  },
  {
   "cell_type": "markdown",
   "metadata": {},
   "source": [
    "* 'gender' - Видно, что мужчин(1) раза в 2,5 больше, чем женщин, но доли оттока у них примерно одинаковые\n",
    "* 'near_location' - Тех, кто живет ближе значительно больше и среди них доля оставшихся тоже значительно больше\n",
    "* 'partner' - Здесь видно, что те кто участвовал в партнерской программе (их примерно поровну с теми, кто не участвовал) - они склонны продолжать ходить в фитнес\n",
    "* 'promo_friends' - Участников промо-акции значительно меньше, но зато доля оставшихся среди них значительно больше \n",
    "* 'phone' - видно, что многие оставили свой телефон, но визуально на отток это не влияет\n",
    "* 'group_visits' - очень большая часть тех кто ходил на групповые занятия склонны остаться"
   ]
  },
  {
   "cell_type": "markdown",
   "metadata": {},
   "source": [
    "### Матрица корреляций"
   ]
  },
  {
   "cell_type": "code",
   "execution_count": 25,
   "metadata": {},
   "outputs": [
    {
     "data": {
      "image/png": "[encoded data removed]",
      "text/plain": [
       "<Figure size 1080x576 with 2 Axes>"
      ]
     },
     "metadata": {
      "needs_background": "light"
     },
     "output_type": "display_data"
    }
   ],
   "source": [
    "corr_m = df.corr()\n",
    "plt.figure(figsize = (15,8))\n",
    "sns.heatmap(corr_m, annot = True, cmap='coolwarm')\n",
    "plt.title('Матрица корреляций признаков', fontsize = 20)\n",
    "plt.xlabel('Признаки', fontsize = 14) \n",
    "plt.ylabel('Признаки', fontsize = 14) \n",
    "plt.show()"
   ]
  },
  {
   "cell_type": "markdown",
   "metadata": {},
   "source": [
    "#### Вывод"
   ]
  },
  {
   "cell_type": "markdown",
   "metadata": {},
   "source": [
    "**Мультиколлинеарные признаки:**\n",
    "\n",
    "* Длительность текущего действующего абонемента (contract_period) коррелирует с сроком до окончания текущего действующего абонемента (month_to_end_contract) с коэффициентом 0.97\n",
    "* Средняя частота посещения в неделю за все время с начала действия абонемента (avg_class_frequency_total) коррелирует с средней частотой посещений в неделю за предыдущий месяц (avg_class_frequency_current_month) с коэффициентом 0.95\n",
    "* Корреляция с коэффициентом 0.45 наблюдается между признаком сотрудник компании-партнёра клуба (partner) и признаком факт первоначальной записи в рамках акции «приведи друга (promo_friends). \n",
    "* Пол (gender) и наличие контактного телефона (phone) имеют почти нулевые признаки корреляции со всеми показателями.\n",
    "\n",
    "Кроме того присутствует дисбаланс классов что может привести при классификации к недообучению модели."
   ]
  },
  {
   "cell_type": "markdown",
   "metadata": {},
   "source": [
    "### Вывод"
   ]
  },
  {
   "cell_type": "markdown",
   "metadata": {},
   "source": [
    "Средний возраст клиента 29-30 лет и возрастной признак сильно коррелирует с оттоком, в отток попадают более молодые клиенты. Так же ключевыми переменными являются: время с момента первого обращения в фитнес-центр, количество псещений в месяц, длительность текущего действующего абонемента, наличие скидок по партнерской программе или факт, что клиента пригласил друг. Похоже, что чаще всего в отток попадают клиенты, которые берут пробный абонемент на месяц, редко посещают спорт-зал, не посещают групповые занятия и которым не были предложены скидки по партнерской программе."
   ]
  },
  {
   "cell_type": "markdown",
   "metadata": {},
   "source": [
    "## Построение модели прогнозирования оттока клиентов"
   ]
  },
  {
   "cell_type": "markdown",
   "metadata": {},
   "source": [
    "**Разделим данные на признаки (матрица X) и целевую переменную (y)**"
   ]
  },
  {
   "cell_type": "code",
   "execution_count": 26,
   "metadata": {},
   "outputs": [],
   "source": [
    "X = df.drop('churn', axis=1)\n",
    "y = df['churn']"
   ]
  },
  {
   "cell_type": "markdown",
   "metadata": {},
   "source": [
    "**Разобьем данные на обучающую и валидационную выборку функцией train_test_split()**"
   ]
  },
  {
   "cell_type": "code",
   "execution_count": 27,
   "metadata": {},
   "outputs": [],
   "source": [
    "X_train, X_test, y_train, y_test = train_test_split(X, y, test_size=0.2, random_state=0)"
   ]
  },
  {
   "cell_type": "markdown",
   "metadata": {},
   "source": [
    "**Обучим модель на train-выборке способом - логистической регрессией**"
   ]
  },
  {
   "cell_type": "code",
   "execution_count": 28,
   "metadata": {},
   "outputs": [],
   "source": [
    "model = LogisticRegression(solver='liblinear', random_state=0)  # зададим алгоритм для модели"
   ]
  },
  {
   "cell_type": "code",
   "execution_count": 29,
   "metadata": {
    "scrolled": true
   },
   "outputs": [
    {
     "data": {
      "text/plain": [
       "LogisticRegression(random_state=0, solver='liblinear')"
      ]
     },
     "execution_count": 29,
     "metadata": {},
     "output_type": "execute_result"
    }
   ],
   "source": [
    "model.fit(X_train, y_train) # обучим модель"
   ]
  },
  {
   "cell_type": "code",
   "execution_count": 30,
   "metadata": {},
   "outputs": [],
   "source": [
    "probabilities = model.predict_proba(X_test)[:, 1] # воспользуемся уже обученной моделью, чтобы сделать прогнозы\n",
    "predictions = model.predict(X_test) # бинарный прогноз"
   ]
  },
  {
   "cell_type": "markdown",
   "metadata": {},
   "source": [
    "**Обучим модель на train-выборке способом - случайный лес**"
   ]
  },
  {
   "cell_type": "code",
   "execution_count": 31,
   "metadata": {},
   "outputs": [],
   "source": [
    "# обучите StandartScaler на обучающей выборке\n",
    "scaler = StandardScaler()\n",
    "scaler.fit(X_train)\n",
    "\n",
    "# Преобразуйте обучающий и валидационные наборы данных\n",
    "X_train_st = scaler.transform(X_train)\n",
    "X_test_st = scaler.transform(X_test)\n",
    "\n",
    "# зададим алгоритм для новой модели на основе алгоритма случайного леса\n",
    "rf_model = RandomForestClassifier(n_estimators=100, random_state=0)\n",
    "\n",
    "# обучим модель случайного леса\n",
    "rf_model.fit(X_train_st, y_train)\n",
    "\n",
    "# воспользуемся уже обученной моделью, чтобы сделать прогнозы\n",
    "rf_predictions = rf_model.predict(X_test_st)\n",
    "rf_probabilities = rf_model.predict_proba(X_test_st)[:, 1]"
   ]
  },
  {
   "cell_type": "markdown",
   "metadata": {},
   "source": [
    "**Оценим метрику accuracy, precision и recall для обеих моделей на валидационной выборке**"
   ]
  },
  {
   "cell_type": "code",
   "execution_count": 32,
   "metadata": {
    "scrolled": false
   },
   "outputs": [
    {
     "name": "stdout",
     "output_type": "stream",
     "text": [
      "Метрики для модели логистической регрессии:\n",
      "Доля правильных ответов - Accuracy: 0.925\n",
      "Точность - Precision: 0.863\n",
      "Полнота - Recall: 0.828 \n",
      "\n",
      "Метрики для модели случайный лес:\n",
      "Доля правильных ответов - Accuracy: 0.915\n",
      "Точность - Precision: 0.839\n",
      "Полнота - Recall: 0.813\n"
     ]
    }
   ],
   "source": [
    "print('Метрики для модели логистической регрессии:')\n",
    "print('Доля правильных ответов - Accuracy: {:.3f}'.format(accuracy_score(y_test, predictions)))\n",
    "print('Точность - Precision: {:.3f}'.format(precision_score(y_test, predictions)))\n",
    "print('Полнота - Recall: {:.3f}'.format(recall_score(y_test, predictions)), '\\n')\n",
    "\n",
    "print('Метрики для модели случайный лес:')\n",
    "print('Доля правильных ответов - Accuracy: {:.3f}'.format(accuracy_score(y_test, rf_predictions)))\n",
    "print('Точность - Precision: {:.3f}'.format(precision_score(y_test, rf_predictions)))\n",
    "print('Полнота - Recall: {:.3f}'.format(recall_score(y_test, rf_predictions)))"
   ]
  },
  {
   "cell_type": "markdown",
   "metadata": {},
   "source": [
    "### Вывод"
   ]
  },
  {
   "cell_type": "markdown",
   "metadata": {},
   "source": [
    "В общем и целом обе модели показали вполне отличные результаты.\n",
    "Доля правильных прогнозов и полнота чуть выше в модели логистической регрессии.\n",
    "Модель логистической регрессии показала себя лучше."
   ]
  },
  {
   "cell_type": "markdown",
   "metadata": {},
   "source": [
    "## Кластеризацию клиентов"
   ]
  },
  {
   "cell_type": "markdown",
   "metadata": {},
   "source": [
    "### Дендрограмма - Кластеризация пользователей"
   ]
  },
  {
   "cell_type": "code",
   "execution_count": 33,
   "metadata": {},
   "outputs": [],
   "source": [
    "# данные стандартизованы ранее\n",
    "# обучим кодировщик по данным X и сразу их закодируем\n",
    "X_sc = scaler.fit_transform(X)"
   ]
  },
  {
   "cell_type": "code",
   "execution_count": 34,
   "metadata": {},
   "outputs": [],
   "source": [
    "# Построим матрицу расстояний функцией linkage() на стандартизованной матрице признаков\n",
    "linked = linkage(X_sc, method = 'ward') "
   ]
  },
  {
   "cell_type": "code",
   "execution_count": 35,
   "metadata": {
    "scrolled": false
   },
   "outputs": [
    {
     "data": {
      "image/png": "[encoded data removed]",
      "text/plain": [
       "<Figure size 1080x720 with 1 Axes>"
      ]
     },
     "metadata": {
      "needs_background": "light"
     },
     "output_type": "display_data"
    }
   ],
   "source": [
    "plt.figure(figsize=(15, 10))  \n",
    "dendrogram(linked, orientation='top')\n",
    "plt.title('Кластеризация пользователей')\n",
    "plt.show() "
   ]
  },
  {
   "cell_type": "markdown",
   "metadata": {},
   "source": [
    "### Кластеры клиентов."
   ]
  },
  {
   "cell_type": "markdown",
   "metadata": {},
   "source": [
    "Обучим модель кластеризации на основании алгоритма K-Means и спрогнозируем кластеры клиентов. Число кластеров примим за 5."
   ]
  },
  {
   "cell_type": "code",
   "execution_count": 36,
   "metadata": {},
   "outputs": [],
   "source": [
    "km = KMeans(n_clusters=5, random_state=0) # задаём число кластеров, равное 5, и фиксируем значение random_state для воспроизводимости результата\n",
    "labels = km.fit_predict(X_sc) # применяем алгоритм к данным и формируем вектор кластеров"
   ]
  },
  {
   "cell_type": "markdown",
   "metadata": {},
   "source": [
    "Добавим столбец с номерами кластеров в первоначальный датафрейм"
   ]
  },
  {
   "cell_type": "code",
   "execution_count": 37,
   "metadata": {},
   "outputs": [
    {
     "data": {
      "text/html": [
       "<div>\n",
       "<style scoped>\n",
       "    .dataframe tbody tr th:only-of-type {\n",
       "        vertical-align: middle;\n",
       "    }\n",
       "\n",
       "    .dataframe tbody tr th {\n",
       "        vertical-align: top;\n",
       "    }\n",
       "\n",
       "    .dataframe thead th {\n",
       "        text-align: right;\n",
       "    }\n",
       "</style>\n",
       "<table border=\"1\" class=\"dataframe\">\n",
       "  <thead>\n",
       "    <tr style=\"text-align: right;\">\n",
       "      <th></th>\n",
       "      <th>gender</th>\n",
       "      <th>near_location</th>\n",
       "      <th>partner</th>\n",
       "      <th>promo_friends</th>\n",
       "      <th>phone</th>\n",
       "      <th>contract_period</th>\n",
       "      <th>group_visits</th>\n",
       "      <th>age</th>\n",
       "      <th>avg_additional_charges_total</th>\n",
       "      <th>month_to_end_contract</th>\n",
       "      <th>lifetime</th>\n",
       "      <th>avg_class_frequency_total</th>\n",
       "      <th>avg_class_frequency_current_month</th>\n",
       "      <th>churn</th>\n",
       "      <th>cluster</th>\n",
       "    </tr>\n",
       "  </thead>\n",
       "  <tbody>\n",
       "    <tr>\n",
       "      <th>0</th>\n",
       "      <td>1</td>\n",
       "      <td>1</td>\n",
       "      <td>1</td>\n",
       "      <td>1</td>\n",
       "      <td>0</td>\n",
       "      <td>6</td>\n",
       "      <td>1</td>\n",
       "      <td>29</td>\n",
       "      <td>14.227470</td>\n",
       "      <td>5</td>\n",
       "      <td>3</td>\n",
       "      <td>0.020398</td>\n",
       "      <td>0.000000</td>\n",
       "      <td>0</td>\n",
       "      <td>1</td>\n",
       "    </tr>\n",
       "    <tr>\n",
       "      <th>1</th>\n",
       "      <td>0</td>\n",
       "      <td>1</td>\n",
       "      <td>0</td>\n",
       "      <td>0</td>\n",
       "      <td>1</td>\n",
       "      <td>12</td>\n",
       "      <td>1</td>\n",
       "      <td>31</td>\n",
       "      <td>113.202938</td>\n",
       "      <td>12</td>\n",
       "      <td>7</td>\n",
       "      <td>1.922936</td>\n",
       "      <td>1.910244</td>\n",
       "      <td>0</td>\n",
       "      <td>0</td>\n",
       "    </tr>\n",
       "    <tr>\n",
       "      <th>2</th>\n",
       "      <td>0</td>\n",
       "      <td>1</td>\n",
       "      <td>1</td>\n",
       "      <td>0</td>\n",
       "      <td>1</td>\n",
       "      <td>1</td>\n",
       "      <td>0</td>\n",
       "      <td>28</td>\n",
       "      <td>129.448479</td>\n",
       "      <td>1</td>\n",
       "      <td>2</td>\n",
       "      <td>1.859098</td>\n",
       "      <td>1.736502</td>\n",
       "      <td>0</td>\n",
       "      <td>3</td>\n",
       "    </tr>\n",
       "    <tr>\n",
       "      <th>3</th>\n",
       "      <td>0</td>\n",
       "      <td>1</td>\n",
       "      <td>1</td>\n",
       "      <td>1</td>\n",
       "      <td>1</td>\n",
       "      <td>12</td>\n",
       "      <td>1</td>\n",
       "      <td>33</td>\n",
       "      <td>62.669863</td>\n",
       "      <td>12</td>\n",
       "      <td>2</td>\n",
       "      <td>3.205633</td>\n",
       "      <td>3.357215</td>\n",
       "      <td>0</td>\n",
       "      <td>0</td>\n",
       "    </tr>\n",
       "    <tr>\n",
       "      <th>4</th>\n",
       "      <td>1</td>\n",
       "      <td>1</td>\n",
       "      <td>1</td>\n",
       "      <td>1</td>\n",
       "      <td>1</td>\n",
       "      <td>1</td>\n",
       "      <td>0</td>\n",
       "      <td>26</td>\n",
       "      <td>198.362265</td>\n",
       "      <td>1</td>\n",
       "      <td>3</td>\n",
       "      <td>1.113884</td>\n",
       "      <td>1.120078</td>\n",
       "      <td>0</td>\n",
       "      <td>3</td>\n",
       "    </tr>\n",
       "  </tbody>\n",
       "</table>\n",
       "</div>"
      ],
      "text/plain": [
       "   gender  near_location  partner  promo_friends  phone  contract_period  \\\n",
       "0       1              1        1              1      0                6   \n",
       "1       0              1        0              0      1               12   \n",
       "2       0              1        1              0      1                1   \n",
       "3       0              1        1              1      1               12   \n",
       "4       1              1        1              1      1                1   \n",
       "\n",
       "   group_visits  age  avg_additional_charges_total  month_to_end_contract  \\\n",
       "0             1   29                     14.227470                      5   \n",
       "1             1   31                    113.202938                     12   \n",
       "2             0   28                    129.448479                      1   \n",
       "3             1   33                     62.669863                     12   \n",
       "4             0   26                    198.362265                      1   \n",
       "\n",
       "   lifetime  avg_class_frequency_total  avg_class_frequency_current_month  \\\n",
       "0         3                   0.020398                           0.000000   \n",
       "1         7                   1.922936                           1.910244   \n",
       "2         2                   1.859098                           1.736502   \n",
       "3         2                   3.205633                           3.357215   \n",
       "4         3                   1.113884                           1.120078   \n",
       "\n",
       "   churn  cluster  \n",
       "0      0        1  \n",
       "1      0        0  \n",
       "2      0        3  \n",
       "3      0        0  \n",
       "4      0        3  "
      ]
     },
     "execution_count": 37,
     "metadata": {},
     "output_type": "execute_result"
    }
   ],
   "source": [
    "df['cluster'] = labels\n",
    "df.head()"
   ]
  },
  {
   "cell_type": "code",
   "execution_count": 38,
   "metadata": {},
   "outputs": [
    {
     "data": {
      "text/plain": [
       "3    1262\n",
       "0    1010\n",
       "4     838\n",
       "2     505\n",
       "1     385\n",
       "Name: cluster, dtype: int64"
      ]
     },
     "execution_count": 38,
     "metadata": {},
     "output_type": "execute_result"
    }
   ],
   "source": [
    "df['cluster'].value_counts() "
   ]
  },
  {
   "cell_type": "markdown",
   "metadata": {},
   "source": [
    "### Cредние значения признаков для кластеров"
   ]
  },
  {
   "cell_type": "code",
   "execution_count": 39,
   "metadata": {
    "scrolled": true
   },
   "outputs": [
    {
     "data": {
      "text/html": [
       "<div>\n",
       "<style scoped>\n",
       "    .dataframe tbody tr th:only-of-type {\n",
       "        vertical-align: middle;\n",
       "    }\n",
       "\n",
       "    .dataframe tbody tr th {\n",
       "        vertical-align: top;\n",
       "    }\n",
       "\n",
       "    .dataframe thead th {\n",
       "        text-align: right;\n",
       "    }\n",
       "</style>\n",
       "<table border=\"1\" class=\"dataframe\">\n",
       "  <thead>\n",
       "    <tr style=\"text-align: right;\">\n",
       "      <th>cluster</th>\n",
       "      <th>0</th>\n",
       "      <th>1</th>\n",
       "      <th>2</th>\n",
       "      <th>3</th>\n",
       "      <th>4</th>\n",
       "    </tr>\n",
       "  </thead>\n",
       "  <tbody>\n",
       "    <tr>\n",
       "      <th>gender</th>\n",
       "      <td>0.502970</td>\n",
       "      <td>0.522078</td>\n",
       "      <td>0.495050</td>\n",
       "      <td>0.485737</td>\n",
       "      <td>0.559666</td>\n",
       "    </tr>\n",
       "    <tr>\n",
       "      <th>near_location</th>\n",
       "      <td>0.959406</td>\n",
       "      <td>0.862338</td>\n",
       "      <td>0.000000</td>\n",
       "      <td>1.000000</td>\n",
       "      <td>0.976134</td>\n",
       "    </tr>\n",
       "    <tr>\n",
       "      <th>partner</th>\n",
       "      <td>0.783168</td>\n",
       "      <td>0.470130</td>\n",
       "      <td>0.463366</td>\n",
       "      <td>0.350238</td>\n",
       "      <td>0.356802</td>\n",
       "    </tr>\n",
       "    <tr>\n",
       "      <th>promo_friends</th>\n",
       "      <td>0.574257</td>\n",
       "      <td>0.306494</td>\n",
       "      <td>0.079208</td>\n",
       "      <td>0.240095</td>\n",
       "      <td>0.230310</td>\n",
       "    </tr>\n",
       "    <tr>\n",
       "      <th>phone</th>\n",
       "      <td>1.000000</td>\n",
       "      <td>0.000000</td>\n",
       "      <td>1.000000</td>\n",
       "      <td>1.000000</td>\n",
       "      <td>0.998807</td>\n",
       "    </tr>\n",
       "    <tr>\n",
       "      <th>contract_period</th>\n",
       "      <td>10.889109</td>\n",
       "      <td>4.787013</td>\n",
       "      <td>2.352475</td>\n",
       "      <td>1.948494</td>\n",
       "      <td>2.669451</td>\n",
       "    </tr>\n",
       "    <tr>\n",
       "      <th>group_visits</th>\n",
       "      <td>0.542574</td>\n",
       "      <td>0.425974</td>\n",
       "      <td>0.215842</td>\n",
       "      <td>0.341521</td>\n",
       "      <td>0.473747</td>\n",
       "    </tr>\n",
       "    <tr>\n",
       "      <th>age</th>\n",
       "      <td>29.982178</td>\n",
       "      <td>29.301299</td>\n",
       "      <td>28.477228</td>\n",
       "      <td>28.167987</td>\n",
       "      <td>30.125298</td>\n",
       "    </tr>\n",
       "    <tr>\n",
       "      <th>avg_additional_charges_total</th>\n",
       "      <td>160.761016</td>\n",
       "      <td>143.957664</td>\n",
       "      <td>135.457501</td>\n",
       "      <td>131.622204</td>\n",
       "      <td>161.657905</td>\n",
       "    </tr>\n",
       "    <tr>\n",
       "      <th>month_to_end_contract</th>\n",
       "      <td>9.954455</td>\n",
       "      <td>4.475325</td>\n",
       "      <td>2.198020</td>\n",
       "      <td>1.856577</td>\n",
       "      <td>2.459427</td>\n",
       "    </tr>\n",
       "    <tr>\n",
       "      <th>lifetime</th>\n",
       "      <td>4.736634</td>\n",
       "      <td>3.924675</td>\n",
       "      <td>2.809901</td>\n",
       "      <td>2.440571</td>\n",
       "      <td>4.898568</td>\n",
       "    </tr>\n",
       "    <tr>\n",
       "      <th>avg_class_frequency_total</th>\n",
       "      <td>1.982055</td>\n",
       "      <td>1.847220</td>\n",
       "      <td>1.660461</td>\n",
       "      <td>1.247634</td>\n",
       "      <td>2.852002</td>\n",
       "    </tr>\n",
       "    <tr>\n",
       "      <th>avg_class_frequency_current_month</th>\n",
       "      <td>1.974789</td>\n",
       "      <td>1.716369</td>\n",
       "      <td>1.477324</td>\n",
       "      <td>1.012983</td>\n",
       "      <td>2.850161</td>\n",
       "    </tr>\n",
       "    <tr>\n",
       "      <th>churn</th>\n",
       "      <td>0.027723</td>\n",
       "      <td>0.267532</td>\n",
       "      <td>0.443564</td>\n",
       "      <td>0.514263</td>\n",
       "      <td>0.068019</td>\n",
       "    </tr>\n",
       "  </tbody>\n",
       "</table>\n",
       "</div>"
      ],
      "text/plain": [
       "cluster                                     0           1           2  \\\n",
       "gender                               0.502970    0.522078    0.495050   \n",
       "near_location                        0.959406    0.862338    0.000000   \n",
       "partner                              0.783168    0.470130    0.463366   \n",
       "promo_friends                        0.574257    0.306494    0.079208   \n",
       "phone                                1.000000    0.000000    1.000000   \n",
       "contract_period                     10.889109    4.787013    2.352475   \n",
       "group_visits                         0.542574    0.425974    0.215842   \n",
       "age                                 29.982178   29.301299   28.477228   \n",
       "avg_additional_charges_total       160.761016  143.957664  135.457501   \n",
       "month_to_end_contract                9.954455    4.475325    2.198020   \n",
       "lifetime                             4.736634    3.924675    2.809901   \n",
       "avg_class_frequency_total            1.982055    1.847220    1.660461   \n",
       "avg_class_frequency_current_month    1.974789    1.716369    1.477324   \n",
       "churn                                0.027723    0.267532    0.443564   \n",
       "\n",
       "cluster                                     3           4  \n",
       "gender                               0.485737    0.559666  \n",
       "near_location                        1.000000    0.976134  \n",
       "partner                              0.350238    0.356802  \n",
       "promo_friends                        0.240095    0.230310  \n",
       "phone                                1.000000    0.998807  \n",
       "contract_period                      1.948494    2.669451  \n",
       "group_visits                         0.341521    0.473747  \n",
       "age                                 28.167987   30.125298  \n",
       "avg_additional_charges_total       131.622204  161.657905  \n",
       "month_to_end_contract                1.856577    2.459427  \n",
       "lifetime                             2.440571    4.898568  \n",
       "avg_class_frequency_total            1.247634    2.852002  \n",
       "avg_class_frequency_current_month    1.012983    2.850161  \n",
       "churn                                0.514263    0.068019  "
      ]
     },
     "execution_count": 39,
     "metadata": {},
     "output_type": "execute_result"
    }
   ],
   "source": [
    "df.groupby('cluster').mean().T"
   ]
  },
  {
   "cell_type": "code",
   "execution_count": 40,
   "metadata": {
    "scrolled": true
   },
   "outputs": [],
   "source": [
    "cluster_features = df.groupby('cluster').mean().reset_index()"
   ]
  },
  {
   "cell_type": "code",
   "execution_count": 41,
   "metadata": {},
   "outputs": [
    {
     "data": {
      "text/html": [
       "<style type=\"text/css\">\n",
       "#T_2a3ca_row0_col0, #T_2a3ca_row1_col3, #T_2a3ca_row2_col2, #T_2a3ca_row3_col3, #T_2a3ca_row4_col2, #T_2a3ca_row5_col1, #T_2a3ca_row6_col3, #T_2a3ca_row7_col2, #T_2a3ca_row8_col3, #T_2a3ca_row9_col3, #T_2a3ca_row10_col3, #T_2a3ca_row11_col3, #T_2a3ca_row12_col3, #T_2a3ca_row13_col3, #T_2a3ca_row14_col0 {\n",
       "  background-color: #3b4cc0;\n",
       "  color: #f1f1f1;\n",
       "}\n",
       "#T_2a3ca_row0_col1, #T_2a3ca_row13_col2 {\n",
       "  background-color: #8db0fe;\n",
       "  color: #000000;\n",
       "}\n",
       "#T_2a3ca_row0_col2 {\n",
       "  background-color: #dddcdc;\n",
       "  color: #000000;\n",
       "}\n",
       "#T_2a3ca_row0_col3 {\n",
       "  background-color: #f4987a;\n",
       "  color: #000000;\n",
       "}\n",
       "#T_2a3ca_row0_col4, #T_2a3ca_row1_col4, #T_2a3ca_row2_col3, #T_2a3ca_row3_col0, #T_2a3ca_row4_col0, #T_2a3ca_row5_col0, #T_2a3ca_row5_col2, #T_2a3ca_row5_col3, #T_2a3ca_row5_col4, #T_2a3ca_row6_col0, #T_2a3ca_row7_col0, #T_2a3ca_row8_col4, #T_2a3ca_row9_col4, #T_2a3ca_row10_col0, #T_2a3ca_row11_col4, #T_2a3ca_row12_col4, #T_2a3ca_row13_col4, #T_2a3ca_row14_col3 {\n",
       "  background-color: #b40426;\n",
       "  color: #f1f1f1;\n",
       "}\n",
       "#T_2a3ca_row1_col0 {\n",
       "  background-color: #86a9fc;\n",
       "  color: #f1f1f1;\n",
       "}\n",
       "#T_2a3ca_row1_col1 {\n",
       "  background-color: #dadce0;\n",
       "  color: #000000;\n",
       "}\n",
       "#T_2a3ca_row1_col2, #T_2a3ca_row9_col2 {\n",
       "  background-color: #6282ea;\n",
       "  color: #f1f1f1;\n",
       "}\n",
       "#T_2a3ca_row2_col0 {\n",
       "  background-color: #c32e31;\n",
       "  color: #f1f1f1;\n",
       "}\n",
       "#T_2a3ca_row2_col1 {\n",
       "  background-color: #e16751;\n",
       "  color: #f1f1f1;\n",
       "}\n",
       "#T_2a3ca_row2_col4 {\n",
       "  background-color: #bd1f2d;\n",
       "  color: #f1f1f1;\n",
       "}\n",
       "#T_2a3ca_row3_col1 {\n",
       "  background-color: #96b7ff;\n",
       "  color: #000000;\n",
       "}\n",
       "#T_2a3ca_row3_col2 {\n",
       "  background-color: #90b2fe;\n",
       "  color: #000000;\n",
       "}\n",
       "#T_2a3ca_row3_col4 {\n",
       "  background-color: #3e51c5;\n",
       "  color: #f1f1f1;\n",
       "}\n",
       "#T_2a3ca_row4_col1, #T_2a3ca_row12_col0 {\n",
       "  background-color: #d2dbe8;\n",
       "  color: #000000;\n",
       "}\n",
       "#T_2a3ca_row4_col3 {\n",
       "  background-color: #a7c5fe;\n",
       "  color: #000000;\n",
       "}\n",
       "#T_2a3ca_row4_col4 {\n",
       "  background-color: #a1c0ff;\n",
       "  color: #000000;\n",
       "}\n",
       "#T_2a3ca_row6_col1 {\n",
       "  background-color: #a5c3fe;\n",
       "  color: #000000;\n",
       "}\n",
       "#T_2a3ca_row6_col2 {\n",
       "  background-color: #485fd1;\n",
       "  color: #f1f1f1;\n",
       "}\n",
       "#T_2a3ca_row6_col4 {\n",
       "  background-color: #536edd;\n",
       "  color: #f1f1f1;\n",
       "}\n",
       "#T_2a3ca_row7_col1 {\n",
       "  background-color: #f6bfa6;\n",
       "  color: #000000;\n",
       "}\n",
       "#T_2a3ca_row7_col3, #T_2a3ca_row13_col1 {\n",
       "  background-color: #bbd1f8;\n",
       "  color: #000000;\n",
       "}\n",
       "#T_2a3ca_row7_col4 {\n",
       "  background-color: #ef886b;\n",
       "  color: #f1f1f1;\n",
       "}\n",
       "#T_2a3ca_row8_col0 {\n",
       "  background-color: #cd423b;\n",
       "  color: #f1f1f1;\n",
       "}\n",
       "#T_2a3ca_row8_col1 {\n",
       "  background-color: #efcfbf;\n",
       "  color: #000000;\n",
       "}\n",
       "#T_2a3ca_row8_col2 {\n",
       "  background-color: #6c8ff1;\n",
       "  color: #f1f1f1;\n",
       "}\n",
       "#T_2a3ca_row9_col0 {\n",
       "  background-color: #be242e;\n",
       "  color: #f1f1f1;\n",
       "}\n",
       "#T_2a3ca_row9_col1 {\n",
       "  background-color: #c4d5f3;\n",
       "  color: #000000;\n",
       "}\n",
       "#T_2a3ca_row10_col1 {\n",
       "  background-color: #a6c4fe;\n",
       "  color: #000000;\n",
       "}\n",
       "#T_2a3ca_row10_col2 {\n",
       "  background-color: #465ecf;\n",
       "  color: #f1f1f1;\n",
       "}\n",
       "#T_2a3ca_row10_col4 {\n",
       "  background-color: #516ddb;\n",
       "  color: #f1f1f1;\n",
       "}\n",
       "#T_2a3ca_row11_col0 {\n",
       "  background-color: #cb3e38;\n",
       "  color: #f1f1f1;\n",
       "}\n",
       "#T_2a3ca_row11_col1 {\n",
       "  background-color: #f2cab5;\n",
       "  color: #000000;\n",
       "}\n",
       "#T_2a3ca_row11_col2 {\n",
       "  background-color: #6a8bef;\n",
       "  color: #f1f1f1;\n",
       "}\n",
       "#T_2a3ca_row12_col1 {\n",
       "  background-color: #b7cff9;\n",
       "  color: #000000;\n",
       "}\n",
       "#T_2a3ca_row12_col2 {\n",
       "  background-color: #8fb1fe;\n",
       "  color: #000000;\n",
       "}\n",
       "#T_2a3ca_row13_col0 {\n",
       "  background-color: #e3d9d3;\n",
       "  color: #000000;\n",
       "}\n",
       "#T_2a3ca_row14_col1 {\n",
       "  background-color: #dbdcde;\n",
       "  color: #000000;\n",
       "}\n",
       "#T_2a3ca_row14_col2 {\n",
       "  background-color: #e36b54;\n",
       "  color: #f1f1f1;\n",
       "}\n",
       "#T_2a3ca_row14_col4 {\n",
       "  background-color: #5470de;\n",
       "  color: #f1f1f1;\n",
       "}\n",
       "</style>\n",
       "<table id=\"T_2a3ca_\">\n",
       "  <thead>\n",
       "    <tr>\n",
       "      <th class=\"blank level0\" >&nbsp;</th>\n",
       "      <th class=\"col_heading level0 col0\" >0</th>\n",
       "      <th class=\"col_heading level0 col1\" >1</th>\n",
       "      <th class=\"col_heading level0 col2\" >2</th>\n",
       "      <th class=\"col_heading level0 col3\" >3</th>\n",
       "      <th class=\"col_heading level0 col4\" >4</th>\n",
       "    </tr>\n",
       "  </thead>\n",
       "  <tbody>\n",
       "    <tr>\n",
       "      <th id=\"T_2a3ca_level0_row0\" class=\"row_heading level0 row0\" >cluster</th>\n",
       "      <td id=\"T_2a3ca_row0_col0\" class=\"data row0 col0\" >0.00</td>\n",
       "      <td id=\"T_2a3ca_row0_col1\" class=\"data row0 col1\" >1.00</td>\n",
       "      <td id=\"T_2a3ca_row0_col2\" class=\"data row0 col2\" >2.00</td>\n",
       "      <td id=\"T_2a3ca_row0_col3\" class=\"data row0 col3\" >3.00</td>\n",
       "      <td id=\"T_2a3ca_row0_col4\" class=\"data row0 col4\" >4.00</td>\n",
       "    </tr>\n",
       "    <tr>\n",
       "      <th id=\"T_2a3ca_level0_row1\" class=\"row_heading level0 row1\" >gender</th>\n",
       "      <td id=\"T_2a3ca_row1_col0\" class=\"data row1 col0\" >0.50</td>\n",
       "      <td id=\"T_2a3ca_row1_col1\" class=\"data row1 col1\" >0.52</td>\n",
       "      <td id=\"T_2a3ca_row1_col2\" class=\"data row1 col2\" >0.50</td>\n",
       "      <td id=\"T_2a3ca_row1_col3\" class=\"data row1 col3\" >0.49</td>\n",
       "      <td id=\"T_2a3ca_row1_col4\" class=\"data row1 col4\" >0.56</td>\n",
       "    </tr>\n",
       "    <tr>\n",
       "      <th id=\"T_2a3ca_level0_row2\" class=\"row_heading level0 row2\" >near_location</th>\n",
       "      <td id=\"T_2a3ca_row2_col0\" class=\"data row2 col0\" >0.96</td>\n",
       "      <td id=\"T_2a3ca_row2_col1\" class=\"data row2 col1\" >0.86</td>\n",
       "      <td id=\"T_2a3ca_row2_col2\" class=\"data row2 col2\" >0.00</td>\n",
       "      <td id=\"T_2a3ca_row2_col3\" class=\"data row2 col3\" >1.00</td>\n",
       "      <td id=\"T_2a3ca_row2_col4\" class=\"data row2 col4\" >0.98</td>\n",
       "    </tr>\n",
       "    <tr>\n",
       "      <th id=\"T_2a3ca_level0_row3\" class=\"row_heading level0 row3\" >partner</th>\n",
       "      <td id=\"T_2a3ca_row3_col0\" class=\"data row3 col0\" >0.78</td>\n",
       "      <td id=\"T_2a3ca_row3_col1\" class=\"data row3 col1\" >0.47</td>\n",
       "      <td id=\"T_2a3ca_row3_col2\" class=\"data row3 col2\" >0.46</td>\n",
       "      <td id=\"T_2a3ca_row3_col3\" class=\"data row3 col3\" >0.35</td>\n",
       "      <td id=\"T_2a3ca_row3_col4\" class=\"data row3 col4\" >0.36</td>\n",
       "    </tr>\n",
       "    <tr>\n",
       "      <th id=\"T_2a3ca_level0_row4\" class=\"row_heading level0 row4\" >promo_friends</th>\n",
       "      <td id=\"T_2a3ca_row4_col0\" class=\"data row4 col0\" >0.57</td>\n",
       "      <td id=\"T_2a3ca_row4_col1\" class=\"data row4 col1\" >0.31</td>\n",
       "      <td id=\"T_2a3ca_row4_col2\" class=\"data row4 col2\" >0.08</td>\n",
       "      <td id=\"T_2a3ca_row4_col3\" class=\"data row4 col3\" >0.24</td>\n",
       "      <td id=\"T_2a3ca_row4_col4\" class=\"data row4 col4\" >0.23</td>\n",
       "    </tr>\n",
       "    <tr>\n",
       "      <th id=\"T_2a3ca_level0_row5\" class=\"row_heading level0 row5\" >phone</th>\n",
       "      <td id=\"T_2a3ca_row5_col0\" class=\"data row5 col0\" >1.00</td>\n",
       "      <td id=\"T_2a3ca_row5_col1\" class=\"data row5 col1\" >0.00</td>\n",
       "      <td id=\"T_2a3ca_row5_col2\" class=\"data row5 col2\" >1.00</td>\n",
       "      <td id=\"T_2a3ca_row5_col3\" class=\"data row5 col3\" >1.00</td>\n",
       "      <td id=\"T_2a3ca_row5_col4\" class=\"data row5 col4\" >1.00</td>\n",
       "    </tr>\n",
       "    <tr>\n",
       "      <th id=\"T_2a3ca_level0_row6\" class=\"row_heading level0 row6\" >contract_period</th>\n",
       "      <td id=\"T_2a3ca_row6_col0\" class=\"data row6 col0\" >10.89</td>\n",
       "      <td id=\"T_2a3ca_row6_col1\" class=\"data row6 col1\" >4.79</td>\n",
       "      <td id=\"T_2a3ca_row6_col2\" class=\"data row6 col2\" >2.35</td>\n",
       "      <td id=\"T_2a3ca_row6_col3\" class=\"data row6 col3\" >1.95</td>\n",
       "      <td id=\"T_2a3ca_row6_col4\" class=\"data row6 col4\" >2.67</td>\n",
       "    </tr>\n",
       "    <tr>\n",
       "      <th id=\"T_2a3ca_level0_row7\" class=\"row_heading level0 row7\" >group_visits</th>\n",
       "      <td id=\"T_2a3ca_row7_col0\" class=\"data row7 col0\" >0.54</td>\n",
       "      <td id=\"T_2a3ca_row7_col1\" class=\"data row7 col1\" >0.43</td>\n",
       "      <td id=\"T_2a3ca_row7_col2\" class=\"data row7 col2\" >0.22</td>\n",
       "      <td id=\"T_2a3ca_row7_col3\" class=\"data row7 col3\" >0.34</td>\n",
       "      <td id=\"T_2a3ca_row7_col4\" class=\"data row7 col4\" >0.47</td>\n",
       "    </tr>\n",
       "    <tr>\n",
       "      <th id=\"T_2a3ca_level0_row8\" class=\"row_heading level0 row8\" >age</th>\n",
       "      <td id=\"T_2a3ca_row8_col0\" class=\"data row8 col0\" >29.98</td>\n",
       "      <td id=\"T_2a3ca_row8_col1\" class=\"data row8 col1\" >29.30</td>\n",
       "      <td id=\"T_2a3ca_row8_col2\" class=\"data row8 col2\" >28.48</td>\n",
       "      <td id=\"T_2a3ca_row8_col3\" class=\"data row8 col3\" >28.17</td>\n",
       "      <td id=\"T_2a3ca_row8_col4\" class=\"data row8 col4\" >30.13</td>\n",
       "    </tr>\n",
       "    <tr>\n",
       "      <th id=\"T_2a3ca_level0_row9\" class=\"row_heading level0 row9\" >avg_additional_charges_total</th>\n",
       "      <td id=\"T_2a3ca_row9_col0\" class=\"data row9 col0\" >160.76</td>\n",
       "      <td id=\"T_2a3ca_row9_col1\" class=\"data row9 col1\" >143.96</td>\n",
       "      <td id=\"T_2a3ca_row9_col2\" class=\"data row9 col2\" >135.46</td>\n",
       "      <td id=\"T_2a3ca_row9_col3\" class=\"data row9 col3\" >131.62</td>\n",
       "      <td id=\"T_2a3ca_row9_col4\" class=\"data row9 col4\" >161.66</td>\n",
       "    </tr>\n",
       "    <tr>\n",
       "      <th id=\"T_2a3ca_level0_row10\" class=\"row_heading level0 row10\" >month_to_end_contract</th>\n",
       "      <td id=\"T_2a3ca_row10_col0\" class=\"data row10 col0\" >9.95</td>\n",
       "      <td id=\"T_2a3ca_row10_col1\" class=\"data row10 col1\" >4.48</td>\n",
       "      <td id=\"T_2a3ca_row10_col2\" class=\"data row10 col2\" >2.20</td>\n",
       "      <td id=\"T_2a3ca_row10_col3\" class=\"data row10 col3\" >1.86</td>\n",
       "      <td id=\"T_2a3ca_row10_col4\" class=\"data row10 col4\" >2.46</td>\n",
       "    </tr>\n",
       "    <tr>\n",
       "      <th id=\"T_2a3ca_level0_row11\" class=\"row_heading level0 row11\" >lifetime</th>\n",
       "      <td id=\"T_2a3ca_row11_col0\" class=\"data row11 col0\" >4.74</td>\n",
       "      <td id=\"T_2a3ca_row11_col1\" class=\"data row11 col1\" >3.92</td>\n",
       "      <td id=\"T_2a3ca_row11_col2\" class=\"data row11 col2\" >2.81</td>\n",
       "      <td id=\"T_2a3ca_row11_col3\" class=\"data row11 col3\" >2.44</td>\n",
       "      <td id=\"T_2a3ca_row11_col4\" class=\"data row11 col4\" >4.90</td>\n",
       "    </tr>\n",
       "    <tr>\n",
       "      <th id=\"T_2a3ca_level0_row12\" class=\"row_heading level0 row12\" >avg_class_frequency_total</th>\n",
       "      <td id=\"T_2a3ca_row12_col0\" class=\"data row12 col0\" >1.98</td>\n",
       "      <td id=\"T_2a3ca_row12_col1\" class=\"data row12 col1\" >1.85</td>\n",
       "      <td id=\"T_2a3ca_row12_col2\" class=\"data row12 col2\" >1.66</td>\n",
       "      <td id=\"T_2a3ca_row12_col3\" class=\"data row12 col3\" >1.25</td>\n",
       "      <td id=\"T_2a3ca_row12_col4\" class=\"data row12 col4\" >2.85</td>\n",
       "    </tr>\n",
       "    <tr>\n",
       "      <th id=\"T_2a3ca_level0_row13\" class=\"row_heading level0 row13\" >avg_class_frequency_current_month</th>\n",
       "      <td id=\"T_2a3ca_row13_col0\" class=\"data row13 col0\" >1.97</td>\n",
       "      <td id=\"T_2a3ca_row13_col1\" class=\"data row13 col1\" >1.72</td>\n",
       "      <td id=\"T_2a3ca_row13_col2\" class=\"data row13 col2\" >1.48</td>\n",
       "      <td id=\"T_2a3ca_row13_col3\" class=\"data row13 col3\" >1.01</td>\n",
       "      <td id=\"T_2a3ca_row13_col4\" class=\"data row13 col4\" >2.85</td>\n",
       "    </tr>\n",
       "    <tr>\n",
       "      <th id=\"T_2a3ca_level0_row14\" class=\"row_heading level0 row14\" >churn</th>\n",
       "      <td id=\"T_2a3ca_row14_col0\" class=\"data row14 col0\" >0.03</td>\n",
       "      <td id=\"T_2a3ca_row14_col1\" class=\"data row14 col1\" >0.27</td>\n",
       "      <td id=\"T_2a3ca_row14_col2\" class=\"data row14 col2\" >0.44</td>\n",
       "      <td id=\"T_2a3ca_row14_col3\" class=\"data row14 col3\" >0.51</td>\n",
       "      <td id=\"T_2a3ca_row14_col4\" class=\"data row14 col4\" >0.07</td>\n",
       "    </tr>\n",
       "  </tbody>\n",
       "</table>\n"
      ],
      "text/plain": [
       "<pandas.io.formats.style.Styler at 0x29166563640>"
      ]
     },
     "execution_count": 41,
     "metadata": {},
     "output_type": "execute_result"
    }
   ],
   "source": [
    "cluster_features.T.style.background_gradient(cmap='coolwarm', axis=1).set_precision(2)"
   ]
  },
  {
   "cell_type": "markdown",
   "metadata": {},
   "source": [
    "Описание кластеров:\n",
    "\n",
    "1. **Кластер 0**\n",
    "* Отток - 3% - самый низкий\n",
    "* Живут или работают недалеко от фитнес-центра\n",
    "* Большинство - это сотрудники компании-партнёра клуба и те кто пришли по акции друзей\n",
    "* Обладатели долгосрочных абонементов свыше 10 месяцев - лидеры\n",
    "* В клуб они ходят около 5 месяцев - второй показатель по сроку \n",
    "* На дополнительные услуги тратят довольно много свыше 161 ед. - вторые по сумме трат\n",
    "* До прекращения контракта осталось почти 10 месяцев - самый длительный срок использования\n",
    "* Средняя частота посещений в неделю за все время с начала действия абонемента ~ 2 раза в неделю - вторый по посещаемости \n",
    "\n",
    "2. **Кластер 1**\n",
    "* Отток - 28%\n",
    "* Живут или работают недалеко от фитнес-центра\n",
    "* Отсутствует информация о наличие контактного телефона\n",
    "* Обладатели абонементов с сроком почти в 5 месяцев - вторый           \n",
    "* На дополнительные услуги тратят довольно много свыше 144 ед.            \n",
    "* Средняя частота посещений в неделю за все время с начала действия абонемента ~ 2 раза в неделю\n",
    "\n",
    "3. **Кластер 2**\n",
    "* Отток - 44% - вторые по доле\n",
    "* Живут или работают в другом районе\n",
    "* Преобладают сотрудники компаний-партнеров 79% - лидеры\n",
    "\n",
    "4. **Кластер 3**\n",
    "* Отток - 51% - лидеры\n",
    "* Преобладает женский пол\n",
    "* Живут или работают непосредственно в здании фитнес-центра\n",
    "* Наименьший показатель привлечения от партнеров или промо акции\n",
    "* Мало тратят на услуги в клубе 132 ед. - самый низкий показатель\n",
    "* Самые молодые\n",
    "* До прекращения контракта осталось менее 2 месяцев - самый короткий срок использования\n",
    "* Средняя частота посещений в неделю за все время с начала действия абонемента ~ 1 раза в неделю - самый низкий показатель \n",
    "\n",
    "5. **Кластер 4**\n",
    "* Отток - 7%\n",
    "* Преобладает мужской пол\n",
    "* Живут или работают недалеко от фитнес-центра\n",
    "* Частично не предоставили номер телефона\n",
    "* Самые возрастные\n",
    "* Лидеры по дополнительным тратам\n",
    "* В клуб они ходят около 5 месяцев - лидеры \n",
    "* Средняя частота посещений в неделю за все время с начала действия абонемента ~ 3 раза в неделю - лидеры по посещаемости "
   ]
  },
  {
   "cell_type": "markdown",
   "metadata": {},
   "source": [
    "### Распределения признаков для кластеров"
   ]
  },
  {
   "cell_type": "markdown",
   "metadata": {},
   "source": [
    "Построим отдельно графики для признаков с числовыми и логическими типами данных.\n",
    "\n",
    "Признаки с числовым типом данных:\n",
    "\n",
    "* 'contract_period' — длительность текущего действующего абонемента (месяц, 6 месяцев, год);\n",
    "* 'age' — возраст;\n",
    "* 'avg_additional_charges_total' — суммарная выручка от других услуг фитнес-центра: кафе, спорттовары, косметический и массажный салон;\n",
    "* 'month_to_end_contract' — срок до окончания текущего действующего абонемента (в месяцах);\n",
    "* 'lifetime' — время с момента первого обращения в фитнес-центр (в месяцах);\n",
    "* 'avg_class_frequency_total' — средняя частота посещений в неделю за все время с начала действия абонемента;\n",
    "* 'avg_class_frequency_current_month' — средняя частота посещений в неделю за предыдущий месяц.\n",
    "\n",
    "Признаки с логическим типом данных:\n",
    "* 'gender' — пол;\n",
    "* 'near_location' — проживание или работа в районе, где находится фитнес-центр;\n",
    "* 'partner' — сотрудник компании-партнёра клуба (сотрудничество с компаниями, чьи сотрудники могут получать скидки на абонемент — в таком случае фитнес-центр хранит информацию о работодателе клиента);\n",
    "* 'promo_friends' — факт первоначальной записи в рамках акции «приведи друга» (использовал промо-код от знакомого при оплате первого абонемента);\n",
    "* 'phone' — наличие контактного телефона;\n",
    "* 'group_visits' — факт посещения групповых занятий;\n",
    "* 'churn' — факт оттока в текущем месяце."
   ]
  },
  {
   "cell_type": "code",
   "execution_count": 42,
   "metadata": {
    "scrolled": false
   },
   "outputs": [
    {
     "data": {
      "image/png": "[encoded data removed]",
      "text/plain": [
       "<Figure size 1440x720 with 7 Axes>"
      ]
     },
     "metadata": {
      "needs_background": "light"
     },
     "output_type": "display_data"
    }
   ],
   "source": [
    "fig, axes = plt.subplots(nrows=2, ncols=4, figsize=(20,10))\n",
    "axes_list = [item for sublist in axes for item in sublist]\n",
    "fig.suptitle('Распределение признаков с числовым типом данных для кластеров', fontsize=14)\n",
    "for column in numeric_columns: \n",
    "  ax = axes_list.pop(0)\n",
    "  sns.boxplot (x = 'cluster', y = df[column], data = df, ax=ax)\n",
    "fig.delaxes(axes[1][3])     "
   ]
  },
  {
   "cell_type": "code",
   "execution_count": 43,
   "metadata": {},
   "outputs": [
    {
     "data": {
      "image/png": "[encoded data removed]",
      "text/plain": [
       "<Figure size 1440x720 with 8 Axes>"
      ]
     },
     "metadata": {
      "needs_background": "light"
     },
     "output_type": "display_data"
    }
   ],
   "source": [
    "fig, axes = plt.subplots(nrows=2, ncols=4, figsize=(20,10))\n",
    "axes_list = [item for sublist in axes for item in sublist]\n",
    "fig.suptitle('Распределение признаков с логическим типом данных для кластеров', fontsize=14)\n",
    "for column in df.columns:\n",
    "  if column not in numeric_columns:\n",
    "    ax = axes_list.pop(0)\n",
    "    sns.countplot(x = df[column], hue='cluster', data=df, ax=ax)\n",
    "    ax.set_ylabel('Кол-во записей')\n",
    "    "
   ]
  },
  {
   "cell_type": "markdown",
   "metadata": {},
   "source": [
    "Графики подтверждают выводы по кластерам"
   ]
  },
  {
   "cell_type": "markdown",
   "metadata": {},
   "source": [
    "### Доля оттока для каждого полученного кластера"
   ]
  },
  {
   "cell_type": "code",
   "execution_count": 44,
   "metadata": {},
   "outputs": [
    {
     "data": {
      "text/plain": [
       "cluster\n",
       "0    0.027723\n",
       "1    0.267532\n",
       "2    0.443564\n",
       "3    0.514263\n",
       "4    0.068019\n",
       "Name: churn, dtype: float64"
      ]
     },
     "execution_count": 44,
     "metadata": {},
     "output_type": "execute_result"
    }
   ],
   "source": [
    "churn_share = df.groupby('cluster')['churn'].agg('sum') / df.groupby('cluster')['churn'].count()\n",
    "churn_share"
   ]
  },
  {
   "cell_type": "markdown",
   "metadata": {},
   "source": [
    "Кластеры 2 и 3 склонны к оттоку, кластеры 0 и 4 более надёжны."
   ]
  },
  {
   "cell_type": "markdown",
   "metadata": {},
   "source": [
    "### Вывод"
   ]
  },
  {
   "cell_type": "markdown",
   "metadata": {},
   "source": [
    "Кластеры 2 и 3 склонны к оттоку, кластеры 0 и 4 более надёжны.\n",
    "\n",
    "Описание кластеров:\n",
    "\n",
    "1. **Кластер 0**\n",
    "* Отток - 3% - самый низкий\n",
    "* Живут или работают недалеко от фитнес-центра\n",
    "* Большинство - это сотрудники компании-партнёра клуба и те кто пришли по акции друзей\n",
    "* Обладатели долгосрочных абонементов свыше 10 месяцев - лидеры\n",
    "* В клуб они ходят около 5 месяцев - второй показатель по сроку \n",
    "* На дополнительные услуги тратят довольно много свыше 161 ед. - вторые по сумме трат\n",
    "* До прекращения контракта осталось почти 10 месяцев - самый длительный срок использования\n",
    "* Средняя частота посещений в неделю за все время с начала действия абонемента ~ 2 раза в неделю - вторый по посещаемости \n",
    "\n",
    "2. **Кластер 1**\n",
    "* Отток - 28%\n",
    "* Живут или работают недалеко от фитнес-центра\n",
    "* Отсутствует информация о наличие контактного телефона\n",
    "* Обладатели абонементов с сроком почти в 5 месяцев - вторый           \n",
    "* На дополнительные услуги тратят довольно много свыше 144 ед.            \n",
    "* Средняя частота посещений в неделю за все время с начала действия абонемента ~ 2 раза в неделю\n",
    "\n",
    "3. **Кластер 2**\n",
    "* Отток - 44% - вторые по доле\n",
    "* Живут или работают в другом районе\n",
    "* Преобладают сотрудники компаний-партнеров 79% - лидеры\n",
    "\n",
    "4. **Кластер 3**\n",
    "* Отток - 51% - лидеры\n",
    "* Преобладает женский пол\n",
    "* Живут или работают непосредственно в здании фитнес-центра\n",
    "* Наименьший показатель привлечения от партнеров или промо акции\n",
    "* Мало тратят на услуги в клубе 132 ед. - самый низкий показатель\n",
    "* Самые молодые\n",
    "* До прекращения контракта осталось менее 2 месяцев - самый короткий срок использования\n",
    "* Средняя частота посещений в неделю за все время с начала действия абонемента ~ 1 раза в неделю - самый низкий показатель \n",
    "\n",
    "5. **Кластер 4**\n",
    "* Отток - 7%\n",
    "* Преобладает мужской пол\n",
    "* Живут или работают недалеко от фитнес-центра\n",
    "* Частично не предоставили номер телефона\n",
    "* Самые возрастные\n",
    "* Лидеры по дополнительным тратам\n",
    "* В клуб они ходят около 5 месяцев - лидеры \n",
    "* Средняя частота посещений в неделю за все время с начала действия абонемента ~ 3 раза в неделю - лидеры по посещаемости "
   ]
  },
  {
   "cell_type": "markdown",
   "metadata": {},
   "source": [
    "## Вывод"
   ]
  },
  {
   "cell_type": "markdown",
   "metadata": {},
   "source": [
    "В проекте был проведен анализ данных о клиентах сети фитнес-центров «Культурист-датасаентист».\n",
    "\n",
    "\n",
    "**1) Обработка данных:**\n",
    "\n",
    "Произведено изменение стиля в наименованиях столбцов\n",
    "Произведено изменение типы данных на 'int'\n",
    "Выявлено что аномалии, а также полные и неявные дубликаты отсутствуют\n",
    "\n",
    "**2) EDA:**\n",
    "\n",
    "Средний возраст клиента 29-30 лет и возрастной признак сильно коррелирует с оттоком, в отток попадают более молодые клиенты. Так же ключевыми переменными являются: время с момента первого обращения в фитнес-центр, количество псещений в месяц, длительность текущего действующего абонемента, наличие скидок по партнерской программе или факт, что клиента пригласил друг. Похоже, что чаще всего в отток попадают клиенты, которые берут пробный абонемент на месяц, редко посещают спорт-зал, не посещают групповые занятия и которым не были предложены скидки по партнерской программе.\n",
    "\n",
    "**3) Построение модели прогнозирования оттока клиентов (случайный лес и логистической регрессии):**\n",
    "\n",
    "В общем и целом обе модели показали вполне отличные результаты.\n",
    "Доля правильных прогнозов и полнота чуть выше в модели логистической регрессии.\n",
    "Модель логистической регрессии показала себя лучше.\n",
    "\n",
    "**4) Кластеризация:**\n",
    "\n",
    "Сформированы типичные портреты клиентов:\n",
    "\n",
    "*Кластер 0 - самый лучший:*\n",
    "* Отток - 3% - самый низкий\n",
    "* Живут или работают недалеко от фитнес-центра\n",
    "* Большинство - это сотрудники компании-партнёра клуба и те кто пришли по акции друзей\n",
    "* Обладатели долгосрочных абонементов свыше 10 месяцев - лидеры\n",
    "* В клуб они ходят около 5 месяцев - второй показатель по сроку\n",
    "* На дополнительные услуги тратят довольно много свыше 161 ед. - вторые по сумме трат\n",
    "* До прекращения контракта осталось почти 10 месяцев - самый длительный срок использования\n",
    "* Средняя частота посещений в неделю за все время с начала действия абонемента ~ 2 раза в неделю - вторый по посещаемости\n",
    "\n",
    "*Кластер 1 – средний:*\n",
    "* Отток - 28%\n",
    "* Живут или работают недалеко от фитнес-центра\n",
    "* Отсутствует информация о наличие контактного телефона\n",
    "* Обладатели абонементов с сроком почти в 5 месяцев - вторый\n",
    "* На дополнительные услуги тратят довольно много свыше 144 ед.\n",
    "* Средняя частота посещений в неделю за все время с начала действия абонемента ~ 2 раза в неделю\n",
    "\n",
    "*Кластер 2 - плохой:*\n",
    "* Отток - 44% - вторые по доле\n",
    "* Живут или работают в другом районе\n",
    "* Преобладают сотрудники компаний-партнеров 79% - лидеры\n",
    "\n",
    "*Кластер 3 - самый плохой:*\n",
    "* Отток - 51% - лидеры\n",
    "* Преобладает женский пол\n",
    "* Живут или работают непосредственно в здании фитнес-центра\n",
    "* Наименьший показатель привлечения от партнеров или промо акции\n",
    "* Мало тратят на услуги в клубе 132 ед. - самый низкий показатель\n",
    "* Самые молодые\n",
    "* До прекращения контракта осталось менее 2 месяцев - самый короткий срок использования\n",
    "* Средняя частота посещений в неделю за все время с начала действия абонемента ~ 1 раза в неделю - самый низкий показатель\n",
    "\n",
    "Кластер 4 - очень хороший кластер:\n",
    "* Отток - 7%\n",
    "* Преобладает мужской пол\n",
    "* Живут или работают недалеко от фитнес-центра\n",
    "* Частично не предоставили номер телефона\n",
    "* Самые возрастные\n",
    "* Лидеры по дополнительным тратам\n",
    "* В клуб они ходят около 5 месяцев - лидеры\n",
    "* Средняя частота посещений в неделю за все время с начала действия абонемента ~ 3 раза в неделю - лидеры по посещаемости"
   ]
  },
  {
   "cell_type": "markdown",
   "metadata": {},
   "source": [
    "Проанализированы основные признаки, наиболее сильно влияющие на отток. Это признак проживание или работа в районе, где находится фитнес-центр, признак факт первоначальной записи в рамках акции «приведи друга», признак факт не посещения групповых занятий, признак время с момента первого обращения в фитнес-центр, молодость, наименьшие дополнительные траты и низкая посещаемость."
   ]
  },
  {
   "cell_type": "markdown",
   "metadata": {},
   "source": [
    "**Выводы на основании этих признаков:**\n",
    "1.\tЕсли клиент стал реже ходить на групповые тренировки, то есть большой шанс на отток клиента. \n",
    "2.\tЕсли клиент живет далеко, и ему требуется время на дорогу, то вероятность оттока выше, на удержание таких клиентов следует направить больше усилий.\n",
    "3.\tЕсли клиент пришел сам по себе, не по акции \"Приведи друга\", то есть шанс, что он уйдет. Таких клиентов следует заинтересовать групповыми занятиями, так как коллективный спорт и новые знакомства стимулируют клиентов чаще и дольше ходить в фитнес-клубы, так как происходит завязывание и укрепление новых социальных связей.\n",
    "4.\tТе, кто в клуб пришел недавно, могут остаться незаинтересованными и в скором времени покинуть клуб, поэтому на \"свежих\" клиентов нужно направить больше усилий по удержанию, так как атмосфера клуба, обстановка и персонал для них новы, нужно в первое время окружить их бОльшим вниманием и заботой, чтобы клиент почувствовал себя комфортно и привык к новому месту.\n",
    "\n",
    "**Примеры реализации принципов взаимодействия с клиентами и их удержания в виде маркетинговых действий:**\n",
    "1.\tВзаимодействие в соцсетях: активное ведение страниц клуба в соцсетях и продвижение. Создать атмосферу, чтобы клиенты ощущали чувство принадлежности к сообществу клуба. \n",
    "2.\tУлучшение и поддержание интерьера клуба и работоспособности тренажеров, чтобы клиентам было так же комфортно заниматься в нем, как раньше.\n",
    "3.\tПроведение коллективных активностей в клубе (бесплатные тренировки по субботам, различные мероприятия после занятий или по вечерам; организация специальных фитнес-мероприятий).\n",
    "4.\tИндивидуальный подход к клиентам (заинтересованность их успехами, предложение советов и помощи, чтобы их поддержать). Так клиенты будут знать, что они нам небезразличны.\n"
   ]
  }
 ],
 "metadata": {
  "ExecuteTimeLog": [
   {
    "duration": 399,
    "start_time": "2022-09-26T09:01:48.704Z"
   },
   {
    "duration": 69,
    "start_time": "2022-09-26T09:02:41.128Z"
   },
   {
    "duration": 101,
    "start_time": "2022-09-26T09:03:01.700Z"
   },
   {
    "duration": 3,
    "start_time": "2022-09-26T09:19:19.426Z"
   },
   {
    "duration": 5,
    "start_time": "2022-09-26T09:19:30.886Z"
   },
   {
    "duration": 9,
    "start_time": "2022-09-26T09:51:48.412Z"
   },
   {
    "duration": 57,
    "start_time": "2022-09-26T10:29:07.878Z"
   },
   {
    "duration": 26,
    "start_time": "2022-09-26T10:29:13.580Z"
   },
   {
    "duration": 26,
    "start_time": "2022-09-26T10:29:28.555Z"
   },
   {
    "duration": 19,
    "start_time": "2022-09-26T10:29:42.160Z"
   },
   {
    "duration": 488,
    "start_time": "2022-09-26T10:50:59.676Z"
   },
   {
    "duration": 6,
    "start_time": "2022-09-26T10:53:42.691Z"
   },
   {
    "duration": 12,
    "start_time": "2022-09-26T10:53:53.662Z"
   },
   {
    "duration": 5,
    "start_time": "2022-09-26T10:55:27.273Z"
   },
   {
    "duration": 5,
    "start_time": "2022-09-26T10:56:38.060Z"
   },
   {
    "duration": 5,
    "start_time": "2022-09-26T10:58:28.168Z"
   },
   {
    "duration": 7,
    "start_time": "2022-09-26T10:58:29.426Z"
   },
   {
    "duration": 17,
    "start_time": "2022-09-26T11:02:25.116Z"
   },
   {
    "duration": 6,
    "start_time": "2022-09-26T11:02:26.251Z"
   },
   {
    "duration": 192,
    "start_time": "2022-09-26T11:03:30.322Z"
   },
   {
    "duration": 10,
    "start_time": "2022-09-26T11:03:43.463Z"
   },
   {
    "duration": 6,
    "start_time": "2022-09-26T11:03:43.813Z"
   },
   {
    "duration": 6,
    "start_time": "2022-09-26T11:03:44.561Z"
   },
   {
    "duration": 5,
    "start_time": "2022-09-26T11:03:45.056Z"
   },
   {
    "duration": 6,
    "start_time": "2022-09-26T11:03:45.387Z"
   },
   {
    "duration": 3,
    "start_time": "2022-09-26T11:04:13.871Z"
   },
   {
    "duration": 10,
    "start_time": "2022-09-26T11:05:57.878Z"
   },
   {
    "duration": 29,
    "start_time": "2022-09-26T11:12:16.583Z"
   },
   {
    "duration": 17,
    "start_time": "2022-09-26T11:15:09.868Z"
   },
   {
    "duration": 1062,
    "start_time": "2022-09-26T11:15:15.821Z"
   },
   {
    "duration": 32,
    "start_time": "2022-09-26T11:15:16.885Z"
   },
   {
    "duration": 72,
    "start_time": "2022-09-26T11:15:16.918Z"
   },
   {
    "duration": 9,
    "start_time": "2022-09-26T11:15:16.992Z"
   },
   {
    "duration": 6,
    "start_time": "2022-09-26T11:15:17.003Z"
   },
   {
    "duration": 46,
    "start_time": "2022-09-26T11:15:17.011Z"
   },
   {
    "duration": 6,
    "start_time": "2022-09-26T11:15:17.059Z"
   },
   {
    "duration": 38,
    "start_time": "2022-09-26T11:15:17.066Z"
   },
   {
    "duration": 5,
    "start_time": "2022-09-26T11:15:17.105Z"
   },
   {
    "duration": 5,
    "start_time": "2022-09-26T11:15:17.112Z"
   },
   {
    "duration": 5,
    "start_time": "2022-09-26T11:15:17.119Z"
   },
   {
    "duration": 6,
    "start_time": "2022-09-26T11:15:17.125Z"
   },
   {
    "duration": 4,
    "start_time": "2022-09-26T11:15:17.133Z"
   },
   {
    "duration": 12,
    "start_time": "2022-09-26T11:15:17.139Z"
   },
   {
    "duration": 9,
    "start_time": "2022-09-26T11:15:17.152Z"
   },
   {
    "duration": 53,
    "start_time": "2022-09-26T11:15:17.163Z"
   },
   {
    "duration": 101,
    "start_time": "2022-09-26T11:15:17.218Z"
   },
   {
    "duration": 1298,
    "start_time": "2022-09-26T12:34:16.085Z"
   },
   {
    "duration": 83,
    "start_time": "2022-09-26T12:34:17.385Z"
   },
   {
    "duration": 71,
    "start_time": "2022-09-26T12:34:17.470Z"
   },
   {
    "duration": 3,
    "start_time": "2022-09-26T12:34:17.542Z"
   },
   {
    "duration": 48,
    "start_time": "2022-09-26T12:34:17.547Z"
   },
   {
    "duration": 51,
    "start_time": "2022-09-26T12:34:17.596Z"
   },
   {
    "duration": 7,
    "start_time": "2022-09-26T12:34:17.648Z"
   },
   {
    "duration": 21,
    "start_time": "2022-09-26T12:34:17.656Z"
   },
   {
    "duration": 11,
    "start_time": "2022-09-26T12:34:17.679Z"
   },
   {
    "duration": 24,
    "start_time": "2022-09-26T12:34:17.691Z"
   },
   {
    "duration": 48,
    "start_time": "2022-09-26T12:34:17.716Z"
   },
   {
    "duration": 17,
    "start_time": "2022-09-26T12:34:17.765Z"
   },
   {
    "duration": 16,
    "start_time": "2022-09-26T12:34:17.783Z"
   },
   {
    "duration": 13,
    "start_time": "2022-09-26T12:34:17.801Z"
   },
   {
    "duration": 13,
    "start_time": "2022-09-26T12:34:17.815Z"
   },
   {
    "duration": 26,
    "start_time": "2022-09-26T12:34:17.830Z"
   },
   {
    "duration": 95,
    "start_time": "2022-09-26T12:34:17.857Z"
   },
   {
    "duration": 0,
    "start_time": "2022-09-26T12:34:17.954Z"
   },
   {
    "duration": 12,
    "start_time": "2022-09-26T12:34:40.389Z"
   },
   {
    "duration": 18,
    "start_time": "2022-09-26T12:43:51.917Z"
   },
   {
    "duration": 12,
    "start_time": "2022-09-26T12:43:58.451Z"
   },
   {
    "duration": 255,
    "start_time": "2022-09-26T12:44:48.912Z"
   },
   {
    "duration": 211,
    "start_time": "2022-09-26T12:45:23.236Z"
   },
   {
    "duration": 212,
    "start_time": "2022-09-26T12:47:06.393Z"
   },
   {
    "duration": 244,
    "start_time": "2022-09-26T12:47:14.153Z"
   },
   {
    "duration": 19,
    "start_time": "2022-09-26T12:48:14.229Z"
   },
   {
    "duration": 15,
    "start_time": "2022-09-26T12:53:20.623Z"
   },
   {
    "duration": 10,
    "start_time": "2022-09-26T12:53:33.185Z"
   },
   {
    "duration": 11,
    "start_time": "2022-09-26T12:54:26.897Z"
   },
   {
    "duration": 19,
    "start_time": "2022-09-26T12:54:29.833Z"
   },
   {
    "duration": 12,
    "start_time": "2022-09-26T12:54:30.039Z"
   },
   {
    "duration": 29,
    "start_time": "2022-09-26T13:13:30.888Z"
   },
   {
    "duration": 1378,
    "start_time": "2022-09-26T13:25:21.663Z"
   },
   {
    "duration": 1205,
    "start_time": "2022-09-26T13:35:20.785Z"
   },
   {
    "duration": 1183,
    "start_time": "2022-09-26T13:40:37.693Z"
   },
   {
    "duration": 39,
    "start_time": "2022-09-26T13:40:38.878Z"
   },
   {
    "duration": 89,
    "start_time": "2022-09-26T13:40:38.919Z"
   },
   {
    "duration": 5,
    "start_time": "2022-09-26T13:40:39.012Z"
   },
   {
    "duration": 19,
    "start_time": "2022-09-26T13:40:39.022Z"
   },
   {
    "duration": 88,
    "start_time": "2022-09-26T13:40:39.042Z"
   },
   {
    "duration": 6,
    "start_time": "2022-09-26T13:40:39.133Z"
   },
   {
    "duration": 27,
    "start_time": "2022-09-26T13:40:39.140Z"
   },
   {
    "duration": 5,
    "start_time": "2022-09-26T13:40:39.169Z"
   },
   {
    "duration": 12,
    "start_time": "2022-09-26T13:40:39.175Z"
   },
   {
    "duration": 15,
    "start_time": "2022-09-26T13:40:39.188Z"
   },
   {
    "duration": 14,
    "start_time": "2022-09-26T13:40:39.205Z"
   },
   {
    "duration": 15,
    "start_time": "2022-09-26T13:40:39.221Z"
   },
   {
    "duration": 24,
    "start_time": "2022-09-26T13:40:39.239Z"
   },
   {
    "duration": 22,
    "start_time": "2022-09-26T13:40:39.264Z"
   },
   {
    "duration": 258,
    "start_time": "2022-09-26T13:40:39.287Z"
   },
   {
    "duration": 232,
    "start_time": "2022-09-26T13:40:39.547Z"
   },
   {
    "duration": 32,
    "start_time": "2022-09-26T13:40:39.781Z"
   },
   {
    "duration": 23,
    "start_time": "2022-09-26T13:40:39.814Z"
   },
   {
    "duration": 33,
    "start_time": "2022-09-26T13:40:39.838Z"
   },
   {
    "duration": 9,
    "start_time": "2022-09-26T13:40:39.872Z"
   },
   {
    "duration": 4031,
    "start_time": "2022-09-26T13:40:39.882Z"
   },
   {
    "duration": 2158,
    "start_time": "2022-09-26T13:40:43.915Z"
   },
   {
    "duration": 1262,
    "start_time": "2022-09-26T13:40:46.074Z"
   },
   {
    "duration": 220,
    "start_time": "2022-09-26T13:43:42.884Z"
   },
   {
    "duration": 2146,
    "start_time": "2022-09-26T13:44:12.699Z"
   },
   {
    "duration": 3573,
    "start_time": "2022-09-26T13:44:27.167Z"
   },
   {
    "duration": 2395,
    "start_time": "2022-09-26T13:44:39.911Z"
   },
   {
    "duration": 2285,
    "start_time": "2022-09-26T13:45:09.176Z"
   },
   {
    "duration": 2334,
    "start_time": "2022-09-26T13:45:26.042Z"
   },
   {
    "duration": 2364,
    "start_time": "2022-09-26T13:45:55.889Z"
   },
   {
    "duration": 4256,
    "start_time": "2022-09-26T13:47:10.456Z"
   },
   {
    "duration": 2481,
    "start_time": "2022-09-26T13:47:27.645Z"
   },
   {
    "duration": 2221,
    "start_time": "2022-09-26T13:47:49.597Z"
   },
   {
    "duration": 2448,
    "start_time": "2022-09-26T13:47:59.157Z"
   },
   {
    "duration": 1063,
    "start_time": "2022-09-26T13:49:04.606Z"
   },
   {
    "duration": 2,
    "start_time": "2022-09-26T13:49:05.672Z"
   },
   {
    "duration": 38,
    "start_time": "2022-09-26T13:49:05.675Z"
   },
   {
    "duration": 68,
    "start_time": "2022-09-26T13:49:05.715Z"
   },
   {
    "duration": 14,
    "start_time": "2022-09-26T13:49:05.786Z"
   },
   {
    "duration": 8,
    "start_time": "2022-09-26T13:49:05.802Z"
   },
   {
    "duration": 47,
    "start_time": "2022-09-26T13:49:05.811Z"
   },
   {
    "duration": 5,
    "start_time": "2022-09-26T13:49:05.859Z"
   },
   {
    "duration": 12,
    "start_time": "2022-09-26T13:49:05.866Z"
   },
   {
    "duration": 23,
    "start_time": "2022-09-26T13:49:05.879Z"
   },
   {
    "duration": 7,
    "start_time": "2022-09-26T13:49:05.904Z"
   },
   {
    "duration": 7,
    "start_time": "2022-09-26T13:49:05.913Z"
   },
   {
    "duration": 6,
    "start_time": "2022-09-26T13:49:05.922Z"
   },
   {
    "duration": 10,
    "start_time": "2022-09-26T13:49:05.930Z"
   },
   {
    "duration": 10,
    "start_time": "2022-09-26T13:49:05.941Z"
   },
   {
    "duration": 11,
    "start_time": "2022-09-26T13:49:05.952Z"
   },
   {
    "duration": 244,
    "start_time": "2022-09-26T13:49:05.964Z"
   },
   {
    "duration": 223,
    "start_time": "2022-09-26T13:49:06.209Z"
   },
   {
    "duration": 24,
    "start_time": "2022-09-26T13:49:06.433Z"
   },
   {
    "duration": 16,
    "start_time": "2022-09-26T13:49:06.459Z"
   },
   {
    "duration": 43,
    "start_time": "2022-09-26T13:49:06.476Z"
   },
   {
    "duration": 8,
    "start_time": "2022-09-26T13:49:06.521Z"
   },
   {
    "duration": 3093,
    "start_time": "2022-09-26T13:49:06.531Z"
   },
   {
    "duration": 1314,
    "start_time": "2022-09-26T13:49:09.626Z"
   },
   {
    "duration": 1203,
    "start_time": "2022-09-26T13:49:10.942Z"
   },
   {
    "duration": 2287,
    "start_time": "2022-09-26T13:49:20.871Z"
   },
   {
    "duration": 1403,
    "start_time": "2022-09-26T13:56:25.082Z"
   },
   {
    "duration": 1366,
    "start_time": "2022-09-26T13:56:45.252Z"
   },
   {
    "duration": 1265,
    "start_time": "2022-09-26T13:56:50.968Z"
   },
   {
    "duration": 1228,
    "start_time": "2022-09-26T13:57:21.722Z"
   },
   {
    "duration": 1363,
    "start_time": "2022-09-26T13:57:28.118Z"
   },
   {
    "duration": 1366,
    "start_time": "2022-09-26T13:58:28.136Z"
   },
   {
    "duration": 88,
    "start_time": "2022-09-26T14:03:30.969Z"
   },
   {
    "duration": 10,
    "start_time": "2022-09-26T14:04:39.672Z"
   },
   {
    "duration": 9,
    "start_time": "2022-09-26T14:04:40.157Z"
   },
   {
    "duration": 1100,
    "start_time": "2022-09-26T14:26:35.590Z"
   },
   {
    "duration": 9,
    "start_time": "2022-09-26T14:26:36.692Z"
   },
   {
    "duration": 36,
    "start_time": "2022-09-26T14:26:36.702Z"
   },
   {
    "duration": 69,
    "start_time": "2022-09-26T14:26:36.740Z"
   },
   {
    "duration": 3,
    "start_time": "2022-09-26T14:26:36.810Z"
   },
   {
    "duration": 11,
    "start_time": "2022-09-26T14:26:36.815Z"
   },
   {
    "duration": 51,
    "start_time": "2022-09-26T14:26:36.827Z"
   },
   {
    "duration": 21,
    "start_time": "2022-09-26T14:26:36.880Z"
   },
   {
    "duration": 13,
    "start_time": "2022-09-26T14:26:36.903Z"
   },
   {
    "duration": 6,
    "start_time": "2022-09-26T14:26:36.919Z"
   },
   {
    "duration": 6,
    "start_time": "2022-09-26T14:26:36.927Z"
   },
   {
    "duration": 9,
    "start_time": "2022-09-26T14:26:36.935Z"
   },
   {
    "duration": 5,
    "start_time": "2022-09-26T14:26:36.946Z"
   },
   {
    "duration": 4,
    "start_time": "2022-09-26T14:26:36.953Z"
   },
   {
    "duration": 12,
    "start_time": "2022-09-26T14:26:36.958Z"
   },
   {
    "duration": 11,
    "start_time": "2022-09-26T14:26:37.000Z"
   },
   {
    "duration": 237,
    "start_time": "2022-09-26T14:26:37.013Z"
   },
   {
    "duration": 244,
    "start_time": "2022-09-26T14:26:37.251Z"
   },
   {
    "duration": 3234,
    "start_time": "2022-09-26T14:26:37.496Z"
   },
   {
    "duration": 26,
    "start_time": "2022-09-26T14:26:40.732Z"
   },
   {
    "duration": 18,
    "start_time": "2022-09-26T14:26:40.760Z"
   },
   {
    "duration": 131,
    "start_time": "2022-09-26T14:26:40.779Z"
   },
   {
    "duration": 10,
    "start_time": "2022-09-26T14:26:40.912Z"
   },
   {
    "duration": 5,
    "start_time": "2022-09-26T14:26:40.923Z"
   },
   {
    "duration": 106,
    "start_time": "2022-09-26T14:26:40.929Z"
   },
   {
    "duration": 0,
    "start_time": "2022-09-26T14:26:41.037Z"
   },
   {
    "duration": 0,
    "start_time": "2022-09-26T14:26:41.038Z"
   },
   {
    "duration": 13,
    "start_time": "2022-09-26T14:38:47.067Z"
   },
   {
    "duration": 1438,
    "start_time": "2022-09-26T15:00:17.766Z"
   },
   {
    "duration": 245,
    "start_time": "2022-09-26T15:05:23.870Z"
   },
   {
    "duration": 270,
    "start_time": "2022-09-26T15:05:24.118Z"
   },
   {
    "duration": 2396,
    "start_time": "2022-09-26T15:05:24.580Z"
   },
   {
    "duration": 37,
    "start_time": "2022-09-26T15:05:26.978Z"
   },
   {
    "duration": 19,
    "start_time": "2022-09-26T15:05:27.016Z"
   },
   {
    "duration": 28,
    "start_time": "2022-09-26T15:05:27.037Z"
   },
   {
    "duration": 1097,
    "start_time": "2022-09-26T16:42:28.398Z"
   },
   {
    "duration": 3,
    "start_time": "2022-09-26T16:42:29.497Z"
   },
   {
    "duration": 40,
    "start_time": "2022-09-26T16:42:29.502Z"
   },
   {
    "duration": 75,
    "start_time": "2022-09-26T16:42:29.544Z"
   },
   {
    "duration": 2,
    "start_time": "2022-09-26T16:42:29.621Z"
   },
   {
    "duration": 12,
    "start_time": "2022-09-26T16:42:29.625Z"
   },
   {
    "duration": 88,
    "start_time": "2022-09-26T16:42:29.639Z"
   },
   {
    "duration": 6,
    "start_time": "2022-09-26T16:42:29.728Z"
   },
   {
    "duration": 14,
    "start_time": "2022-09-26T16:42:29.736Z"
   },
   {
    "duration": 5,
    "start_time": "2022-09-26T16:42:29.751Z"
   },
   {
    "duration": 6,
    "start_time": "2022-09-26T16:42:29.758Z"
   },
   {
    "duration": 8,
    "start_time": "2022-09-26T16:42:29.766Z"
   },
   {
    "duration": 12,
    "start_time": "2022-09-26T16:42:29.776Z"
   },
   {
    "duration": 4,
    "start_time": "2022-09-26T16:42:29.801Z"
   },
   {
    "duration": 13,
    "start_time": "2022-09-26T16:42:29.806Z"
   },
   {
    "duration": 11,
    "start_time": "2022-09-26T16:42:29.820Z"
   },
   {
    "duration": 243,
    "start_time": "2022-09-26T16:42:29.832Z"
   },
   {
    "duration": 230,
    "start_time": "2022-09-26T16:42:30.077Z"
   },
   {
    "duration": 2385,
    "start_time": "2022-09-26T16:42:30.309Z"
   },
   {
    "duration": 27,
    "start_time": "2022-09-26T16:42:32.695Z"
   },
   {
    "duration": 20,
    "start_time": "2022-09-26T16:42:32.723Z"
   },
   {
    "duration": 159,
    "start_time": "2022-09-26T16:42:32.744Z"
   },
   {
    "duration": 6,
    "start_time": "2022-09-26T16:42:32.905Z"
   },
   {
    "duration": 25,
    "start_time": "2022-09-26T16:42:32.912Z"
   },
   {
    "duration": 144,
    "start_time": "2022-09-26T16:42:32.939Z"
   },
   {
    "duration": 0,
    "start_time": "2022-09-26T16:42:33.085Z"
   },
   {
    "duration": 11,
    "start_time": "2022-09-26T16:45:02.674Z"
   },
   {
    "duration": 60,
    "start_time": "2022-09-26T16:49:31.410Z"
   },
   {
    "duration": 26,
    "start_time": "2022-09-26T16:49:37.764Z"
   },
   {
    "duration": 1869,
    "start_time": "2022-09-26T16:52:40.589Z"
   },
   {
    "duration": 303,
    "start_time": "2022-09-26T16:53:02.810Z"
   },
   {
    "duration": 9,
    "start_time": "2022-09-26T16:54:35.109Z"
   },
   {
    "duration": 9,
    "start_time": "2022-09-26T16:54:41.201Z"
   },
   {
    "duration": 233,
    "start_time": "2022-09-26T16:54:49.227Z"
   },
   {
    "duration": 214,
    "start_time": "2022-09-26T16:56:54.655Z"
   },
   {
    "duration": 1127,
    "start_time": "2022-09-26T16:57:15.566Z"
   },
   {
    "duration": 2,
    "start_time": "2022-09-26T16:57:16.695Z"
   },
   {
    "duration": 41,
    "start_time": "2022-09-26T16:57:16.700Z"
   },
   {
    "duration": 77,
    "start_time": "2022-09-26T16:57:16.743Z"
   },
   {
    "duration": 2,
    "start_time": "2022-09-26T16:57:16.823Z"
   },
   {
    "duration": 18,
    "start_time": "2022-09-26T16:57:16.827Z"
   },
   {
    "duration": 62,
    "start_time": "2022-09-26T16:57:16.846Z"
   },
   {
    "duration": 5,
    "start_time": "2022-09-26T16:57:16.910Z"
   },
   {
    "duration": 23,
    "start_time": "2022-09-26T16:57:16.917Z"
   },
   {
    "duration": 5,
    "start_time": "2022-09-26T16:57:16.942Z"
   },
   {
    "duration": 10,
    "start_time": "2022-09-26T16:57:16.949Z"
   },
   {
    "duration": 11,
    "start_time": "2022-09-26T16:57:16.961Z"
   },
   {
    "duration": 9,
    "start_time": "2022-09-26T16:57:16.974Z"
   },
   {
    "duration": 14,
    "start_time": "2022-09-26T16:57:16.986Z"
   },
   {
    "duration": 17,
    "start_time": "2022-09-26T16:57:17.001Z"
   },
   {
    "duration": 10,
    "start_time": "2022-09-26T16:57:17.020Z"
   },
   {
    "duration": 237,
    "start_time": "2022-09-26T16:57:17.032Z"
   },
   {
    "duration": 244,
    "start_time": "2022-09-26T16:57:17.271Z"
   },
   {
    "duration": 2297,
    "start_time": "2022-09-26T16:57:17.516Z"
   },
   {
    "duration": 31,
    "start_time": "2022-09-26T16:57:19.814Z"
   },
   {
    "duration": 20,
    "start_time": "2022-09-26T16:57:19.846Z"
   },
   {
    "duration": 148,
    "start_time": "2022-09-26T16:57:19.868Z"
   },
   {
    "duration": 6,
    "start_time": "2022-09-26T16:57:20.018Z"
   },
   {
    "duration": 43,
    "start_time": "2022-09-26T16:57:20.026Z"
   },
   {
    "duration": 30,
    "start_time": "2022-09-26T16:57:20.070Z"
   },
   {
    "duration": 1836,
    "start_time": "2022-09-26T16:57:20.101Z"
   },
   {
    "duration": 1413,
    "start_time": "2022-09-26T16:57:21.938Z"
   },
   {
    "duration": 128,
    "start_time": "2022-09-26T16:57:47.213Z"
   },
   {
    "duration": 56,
    "start_time": "2022-09-26T16:58:14.265Z"
   },
   {
    "duration": 154,
    "start_time": "2022-09-26T16:58:36.057Z"
   },
   {
    "duration": 353,
    "start_time": "2022-09-26T16:58:43.822Z"
   },
   {
    "duration": 74,
    "start_time": "2022-09-26T17:00:54.415Z"
   },
   {
    "duration": 1869,
    "start_time": "2022-09-26T17:00:57.868Z"
   },
   {
    "duration": 64,
    "start_time": "2022-09-26T17:01:07.189Z"
   },
   {
    "duration": 276,
    "start_time": "2022-09-26T17:02:14.314Z"
   },
   {
    "duration": 20,
    "start_time": "2022-09-26T17:07:53.969Z"
   },
   {
    "duration": 1138,
    "start_time": "2022-09-26T17:08:18.862Z"
   },
   {
    "duration": 3,
    "start_time": "2022-09-26T17:08:20.002Z"
   },
   {
    "duration": 46,
    "start_time": "2022-09-26T17:08:20.006Z"
   },
   {
    "duration": 75,
    "start_time": "2022-09-26T17:08:20.054Z"
   },
   {
    "duration": 4,
    "start_time": "2022-09-26T17:08:20.132Z"
   },
   {
    "duration": 11,
    "start_time": "2022-09-26T17:08:20.137Z"
   },
   {
    "duration": 83,
    "start_time": "2022-09-26T17:08:20.150Z"
   },
   {
    "duration": 7,
    "start_time": "2022-09-26T17:08:20.235Z"
   },
   {
    "duration": 17,
    "start_time": "2022-09-26T17:08:20.243Z"
   },
   {
    "duration": 5,
    "start_time": "2022-09-26T17:08:20.262Z"
   },
   {
    "duration": 8,
    "start_time": "2022-09-26T17:08:20.269Z"
   },
   {
    "duration": 6,
    "start_time": "2022-09-26T17:08:20.300Z"
   },
   {
    "duration": 9,
    "start_time": "2022-09-26T17:08:20.308Z"
   },
   {
    "duration": 7,
    "start_time": "2022-09-26T17:08:20.320Z"
   },
   {
    "duration": 20,
    "start_time": "2022-09-26T17:08:20.329Z"
   },
   {
    "duration": 12,
    "start_time": "2022-09-26T17:08:20.350Z"
   },
   {
    "duration": 253,
    "start_time": "2022-09-26T17:08:20.363Z"
   },
   {
    "duration": 245,
    "start_time": "2022-09-26T17:08:20.617Z"
   },
   {
    "duration": 2480,
    "start_time": "2022-09-26T17:08:20.864Z"
   },
   {
    "duration": 27,
    "start_time": "2022-09-26T17:08:23.345Z"
   },
   {
    "duration": 32,
    "start_time": "2022-09-26T17:08:23.374Z"
   },
   {
    "duration": 131,
    "start_time": "2022-09-26T17:08:23.408Z"
   },
   {
    "duration": 5,
    "start_time": "2022-09-26T17:08:23.540Z"
   },
   {
    "duration": 22,
    "start_time": "2022-09-26T17:08:23.547Z"
   },
   {
    "duration": 33,
    "start_time": "2022-09-26T17:08:23.570Z"
   },
   {
    "duration": 1904,
    "start_time": "2022-09-26T17:08:23.605Z"
   },
   {
    "duration": 110,
    "start_time": "2022-09-26T17:08:25.511Z"
   },
   {
    "duration": 0,
    "start_time": "2022-09-26T17:08:25.623Z"
   },
   {
    "duration": 0,
    "start_time": "2022-09-26T17:08:25.624Z"
   },
   {
    "duration": 1138,
    "start_time": "2022-09-26T17:09:24.260Z"
   },
   {
    "duration": 2,
    "start_time": "2022-09-26T17:09:25.400Z"
   },
   {
    "duration": 38,
    "start_time": "2022-09-26T17:09:25.404Z"
   },
   {
    "duration": 71,
    "start_time": "2022-09-26T17:09:25.444Z"
   },
   {
    "duration": 3,
    "start_time": "2022-09-26T17:09:25.517Z"
   },
   {
    "duration": 9,
    "start_time": "2022-09-26T17:09:25.521Z"
   },
   {
    "duration": 50,
    "start_time": "2022-09-26T17:09:25.531Z"
   },
   {
    "duration": 21,
    "start_time": "2022-09-26T17:09:25.582Z"
   },
   {
    "duration": 12,
    "start_time": "2022-09-26T17:09:25.604Z"
   },
   {
    "duration": 4,
    "start_time": "2022-09-26T17:09:25.618Z"
   },
   {
    "duration": 10,
    "start_time": "2022-09-26T17:09:25.623Z"
   },
   {
    "duration": 9,
    "start_time": "2022-09-26T17:09:25.634Z"
   },
   {
    "duration": 9,
    "start_time": "2022-09-26T17:09:25.644Z"
   },
   {
    "duration": 3,
    "start_time": "2022-09-26T17:09:25.655Z"
   },
   {
    "duration": 15,
    "start_time": "2022-09-26T17:09:25.660Z"
   },
   {
    "duration": 33,
    "start_time": "2022-09-26T17:09:25.676Z"
   },
   {
    "duration": 252,
    "start_time": "2022-09-26T17:09:25.711Z"
   },
   {
    "duration": 236,
    "start_time": "2022-09-26T17:09:25.965Z"
   },
   {
    "duration": 2309,
    "start_time": "2022-09-26T17:09:26.203Z"
   },
   {
    "duration": 34,
    "start_time": "2022-09-26T17:09:28.513Z"
   },
   {
    "duration": 23,
    "start_time": "2022-09-26T17:09:28.549Z"
   },
   {
    "duration": 143,
    "start_time": "2022-09-26T17:09:28.574Z"
   },
   {
    "duration": 7,
    "start_time": "2022-09-26T17:09:28.719Z"
   },
   {
    "duration": 10,
    "start_time": "2022-09-26T17:09:28.728Z"
   },
   {
    "duration": 24,
    "start_time": "2022-09-26T17:09:28.740Z"
   },
   {
    "duration": 1885,
    "start_time": "2022-09-26T17:09:28.766Z"
   },
   {
    "duration": 1126,
    "start_time": "2022-09-26T17:10:09.989Z"
   },
   {
    "duration": 3,
    "start_time": "2022-09-26T17:10:11.116Z"
   },
   {
    "duration": 38,
    "start_time": "2022-09-26T17:10:11.121Z"
   },
   {
    "duration": 68,
    "start_time": "2022-09-26T17:10:11.160Z"
   },
   {
    "duration": 3,
    "start_time": "2022-09-26T17:10:11.229Z"
   },
   {
    "duration": 12,
    "start_time": "2022-09-26T17:10:11.233Z"
   },
   {
    "duration": 60,
    "start_time": "2022-09-26T17:10:11.246Z"
   },
   {
    "duration": 6,
    "start_time": "2022-09-26T17:10:11.308Z"
   },
   {
    "duration": 13,
    "start_time": "2022-09-26T17:10:11.317Z"
   },
   {
    "duration": 5,
    "start_time": "2022-09-26T17:10:11.331Z"
   },
   {
    "duration": 10,
    "start_time": "2022-09-26T17:10:11.337Z"
   },
   {
    "duration": 9,
    "start_time": "2022-09-26T17:10:11.348Z"
   },
   {
    "duration": 34,
    "start_time": "2022-09-26T17:10:11.358Z"
   },
   {
    "duration": 9,
    "start_time": "2022-09-26T17:10:11.393Z"
   },
   {
    "duration": 14,
    "start_time": "2022-09-26T17:10:11.403Z"
   },
   {
    "duration": 12,
    "start_time": "2022-09-26T17:10:11.419Z"
   },
   {
    "duration": 274,
    "start_time": "2022-09-26T17:10:11.432Z"
   },
   {
    "duration": 233,
    "start_time": "2022-09-26T17:10:11.708Z"
   },
   {
    "duration": 2965,
    "start_time": "2022-09-26T17:10:11.943Z"
   },
   {
    "duration": 28,
    "start_time": "2022-09-26T17:10:14.910Z"
   },
   {
    "duration": 75,
    "start_time": "2022-09-26T17:10:14.940Z"
   },
   {
    "duration": 232,
    "start_time": "2022-09-26T17:10:15.017Z"
   },
   {
    "duration": 8,
    "start_time": "2022-09-26T17:10:15.301Z"
   },
   {
    "duration": 20,
    "start_time": "2022-09-26T17:10:15.310Z"
   },
   {
    "duration": 80,
    "start_time": "2022-09-26T17:10:15.332Z"
   },
   {
    "duration": 1982,
    "start_time": "2022-09-26T17:10:15.413Z"
   },
   {
    "duration": 380,
    "start_time": "2022-09-26T17:10:17.399Z"
   },
   {
    "duration": 0,
    "start_time": "2022-09-26T17:10:17.781Z"
   },
   {
    "duration": 59,
    "start_time": "2022-09-26T17:10:36.611Z"
   },
   {
    "duration": 49,
    "start_time": "2022-09-26T17:10:48.129Z"
   },
   {
    "duration": 20,
    "start_time": "2022-09-26T17:13:12.787Z"
   },
   {
    "duration": 23,
    "start_time": "2022-09-26T17:13:41.374Z"
   },
   {
    "duration": 17,
    "start_time": "2022-09-26T17:13:46.949Z"
   },
   {
    "duration": 24,
    "start_time": "2022-09-26T17:13:56.810Z"
   },
   {
    "duration": 12,
    "start_time": "2022-09-26T17:14:47.283Z"
   },
   {
    "duration": 18,
    "start_time": "2022-09-26T17:14:55.063Z"
   },
   {
    "duration": 55,
    "start_time": "2022-09-26T17:19:23.555Z"
   },
   {
    "duration": 1163,
    "start_time": "2022-09-26T17:19:39.367Z"
   },
   {
    "duration": 3,
    "start_time": "2022-09-26T17:19:40.532Z"
   },
   {
    "duration": 50,
    "start_time": "2022-09-26T17:19:40.537Z"
   },
   {
    "duration": 86,
    "start_time": "2022-09-26T17:19:40.589Z"
   },
   {
    "duration": 4,
    "start_time": "2022-09-26T17:19:40.678Z"
   },
   {
    "duration": 21,
    "start_time": "2022-09-26T17:19:40.684Z"
   },
   {
    "duration": 57,
    "start_time": "2022-09-26T17:19:40.707Z"
   },
   {
    "duration": 6,
    "start_time": "2022-09-26T17:19:40.766Z"
   },
   {
    "duration": 32,
    "start_time": "2022-09-26T17:19:40.775Z"
   },
   {
    "duration": 4,
    "start_time": "2022-09-26T17:19:40.809Z"
   },
   {
    "duration": 8,
    "start_time": "2022-09-26T17:19:40.814Z"
   },
   {
    "duration": 7,
    "start_time": "2022-09-26T17:19:40.823Z"
   },
   {
    "duration": 12,
    "start_time": "2022-09-26T17:19:40.831Z"
   },
   {
    "duration": 5,
    "start_time": "2022-09-26T17:19:40.845Z"
   },
   {
    "duration": 12,
    "start_time": "2022-09-26T17:19:40.852Z"
   },
   {
    "duration": 11,
    "start_time": "2022-09-26T17:19:40.865Z"
   },
   {
    "duration": 253,
    "start_time": "2022-09-26T17:19:40.878Z"
   },
   {
    "duration": 248,
    "start_time": "2022-09-26T17:19:41.133Z"
   },
   {
    "duration": 3590,
    "start_time": "2022-09-26T17:19:41.382Z"
   },
   {
    "duration": 38,
    "start_time": "2022-09-26T17:19:44.974Z"
   },
   {
    "duration": 20,
    "start_time": "2022-09-26T17:19:45.014Z"
   },
   {
    "duration": 134,
    "start_time": "2022-09-26T17:19:45.036Z"
   },
   {
    "duration": 6,
    "start_time": "2022-09-26T17:19:45.172Z"
   },
   {
    "duration": 28,
    "start_time": "2022-09-26T17:19:45.179Z"
   },
   {
    "duration": 35,
    "start_time": "2022-09-26T17:19:45.209Z"
   },
   {
    "duration": 91,
    "start_time": "2022-09-26T17:19:45.246Z"
   },
   {
    "duration": 0,
    "start_time": "2022-09-26T17:19:45.339Z"
   },
   {
    "duration": 0,
    "start_time": "2022-09-26T17:19:45.340Z"
   },
   {
    "duration": 0,
    "start_time": "2022-09-26T17:19:45.342Z"
   },
   {
    "duration": 0,
    "start_time": "2022-09-26T17:19:45.343Z"
   },
   {
    "duration": 1971,
    "start_time": "2022-09-26T17:19:52.851Z"
   },
   {
    "duration": 1843,
    "start_time": "2022-09-26T17:21:01.653Z"
   },
   {
    "duration": 52,
    "start_time": "2022-09-26T17:21:07.768Z"
   },
   {
    "duration": 117,
    "start_time": "2022-09-26T17:22:54.349Z"
   },
   {
    "duration": 9,
    "start_time": "2022-09-26T17:23:00.840Z"
   },
   {
    "duration": 250,
    "start_time": "2022-09-26T17:23:07.328Z"
   },
   {
    "duration": 17,
    "start_time": "2022-09-26T17:23:46.973Z"
   },
   {
    "duration": 16,
    "start_time": "2022-09-26T17:25:36.687Z"
   },
   {
    "duration": 24,
    "start_time": "2022-09-26T17:25:40.372Z"
   },
   {
    "duration": 25,
    "start_time": "2022-09-26T17:25:49.477Z"
   },
   {
    "duration": 54,
    "start_time": "2022-09-26T17:26:05.704Z"
   },
   {
    "duration": 20,
    "start_time": "2022-09-26T17:27:47.607Z"
   },
   {
    "duration": 56,
    "start_time": "2022-09-26T17:28:09.325Z"
   },
   {
    "duration": 18,
    "start_time": "2022-09-26T17:28:15.337Z"
   },
   {
    "duration": 13,
    "start_time": "2022-09-26T17:28:33.729Z"
   },
   {
    "duration": 17,
    "start_time": "2022-09-26T17:30:33.936Z"
   },
   {
    "duration": 1189,
    "start_time": "2022-09-26T17:30:43.911Z"
   },
   {
    "duration": 3,
    "start_time": "2022-09-26T17:30:45.102Z"
   },
   {
    "duration": 41,
    "start_time": "2022-09-26T17:30:45.106Z"
   },
   {
    "duration": 74,
    "start_time": "2022-09-26T17:30:45.148Z"
   },
   {
    "duration": 3,
    "start_time": "2022-09-26T17:30:45.224Z"
   },
   {
    "duration": 9,
    "start_time": "2022-09-26T17:30:45.228Z"
   },
   {
    "duration": 67,
    "start_time": "2022-09-26T17:30:45.238Z"
   },
   {
    "duration": 8,
    "start_time": "2022-09-26T17:30:45.307Z"
   },
   {
    "duration": 16,
    "start_time": "2022-09-26T17:30:45.316Z"
   },
   {
    "duration": 6,
    "start_time": "2022-09-26T17:30:45.334Z"
   },
   {
    "duration": 10,
    "start_time": "2022-09-26T17:30:45.341Z"
   },
   {
    "duration": 10,
    "start_time": "2022-09-26T17:30:45.353Z"
   },
   {
    "duration": 13,
    "start_time": "2022-09-26T17:30:45.365Z"
   },
   {
    "duration": 21,
    "start_time": "2022-09-26T17:30:45.381Z"
   },
   {
    "duration": 18,
    "start_time": "2022-09-26T17:30:45.404Z"
   },
   {
    "duration": 19,
    "start_time": "2022-09-26T17:30:45.423Z"
   },
   {
    "duration": 261,
    "start_time": "2022-09-26T17:30:45.444Z"
   },
   {
    "duration": 221,
    "start_time": "2022-09-26T17:30:45.706Z"
   },
   {
    "duration": 2444,
    "start_time": "2022-09-26T17:30:45.929Z"
   },
   {
    "duration": 39,
    "start_time": "2022-09-26T17:30:48.374Z"
   },
   {
    "duration": 18,
    "start_time": "2022-09-26T17:30:48.414Z"
   },
   {
    "duration": 130,
    "start_time": "2022-09-26T17:30:48.433Z"
   },
   {
    "duration": 5,
    "start_time": "2022-09-26T17:30:48.565Z"
   },
   {
    "duration": 12,
    "start_time": "2022-09-26T17:30:48.571Z"
   },
   {
    "duration": 41,
    "start_time": "2022-09-26T17:30:48.584Z"
   },
   {
    "duration": 1839,
    "start_time": "2022-09-26T17:30:48.626Z"
   },
   {
    "duration": 13,
    "start_time": "2022-09-26T17:30:50.466Z"
   },
   {
    "duration": 207,
    "start_time": "2022-09-26T17:30:50.480Z"
   },
   {
    "duration": 1399,
    "start_time": "2022-09-26T17:30:50.688Z"
   },
   {
    "duration": 106,
    "start_time": "2022-09-26T17:32:25.460Z"
   },
   {
    "duration": 19,
    "start_time": "2022-09-26T17:32:32.411Z"
   },
   {
    "duration": 17,
    "start_time": "2022-09-26T17:32:37.018Z"
   },
   {
    "duration": 121,
    "start_time": "2022-09-26T17:32:56.384Z"
   },
   {
    "duration": 22,
    "start_time": "2022-09-26T17:33:34.467Z"
   },
   {
    "duration": 8,
    "start_time": "2022-09-26T17:38:03.526Z"
   },
   {
    "duration": 16,
    "start_time": "2022-09-26T17:38:08.954Z"
   },
   {
    "duration": 43,
    "start_time": "2022-09-26T17:38:23.696Z"
   },
   {
    "duration": 1123,
    "start_time": "2022-09-26T17:38:31.873Z"
   },
   {
    "duration": 3,
    "start_time": "2022-09-26T17:38:32.998Z"
   },
   {
    "duration": 38,
    "start_time": "2022-09-26T17:38:33.003Z"
   },
   {
    "duration": 71,
    "start_time": "2022-09-26T17:38:33.042Z"
   },
   {
    "duration": 3,
    "start_time": "2022-09-26T17:38:33.116Z"
   },
   {
    "duration": 11,
    "start_time": "2022-09-26T17:38:33.121Z"
   },
   {
    "duration": 74,
    "start_time": "2022-09-26T17:38:33.134Z"
   },
   {
    "duration": 6,
    "start_time": "2022-09-26T17:38:33.210Z"
   },
   {
    "duration": 20,
    "start_time": "2022-09-26T17:38:33.218Z"
   },
   {
    "duration": 6,
    "start_time": "2022-09-26T17:38:33.240Z"
   },
   {
    "duration": 14,
    "start_time": "2022-09-26T17:38:33.247Z"
   },
   {
    "duration": 6,
    "start_time": "2022-09-26T17:38:33.263Z"
   },
   {
    "duration": 8,
    "start_time": "2022-09-26T17:38:33.271Z"
   },
   {
    "duration": 9,
    "start_time": "2022-09-26T17:38:33.300Z"
   },
   {
    "duration": 12,
    "start_time": "2022-09-26T17:38:33.311Z"
   },
   {
    "duration": 11,
    "start_time": "2022-09-26T17:38:33.325Z"
   },
   {
    "duration": 258,
    "start_time": "2022-09-26T17:38:33.337Z"
   },
   {
    "duration": 232,
    "start_time": "2022-09-26T17:38:33.597Z"
   },
   {
    "duration": 3394,
    "start_time": "2022-09-26T17:38:33.831Z"
   },
   {
    "duration": 26,
    "start_time": "2022-09-26T17:38:37.226Z"
   },
   {
    "duration": 28,
    "start_time": "2022-09-26T17:38:37.253Z"
   },
   {
    "duration": 130,
    "start_time": "2022-09-26T17:38:37.282Z"
   },
   {
    "duration": 5,
    "start_time": "2022-09-26T17:38:37.414Z"
   },
   {
    "duration": 41,
    "start_time": "2022-09-26T17:38:37.421Z"
   },
   {
    "duration": 56,
    "start_time": "2022-09-26T17:38:37.463Z"
   },
   {
    "duration": 1875,
    "start_time": "2022-09-26T17:38:37.521Z"
   },
   {
    "duration": 12,
    "start_time": "2022-09-26T17:38:39.398Z"
   },
   {
    "duration": 152,
    "start_time": "2022-09-26T17:38:39.412Z"
   },
   {
    "duration": 0,
    "start_time": "2022-09-26T17:38:39.566Z"
   },
   {
    "duration": 42,
    "start_time": "2022-09-26T17:42:34.797Z"
   },
   {
    "duration": 84,
    "start_time": "2022-09-26T17:42:49.823Z"
   },
   {
    "duration": 195,
    "start_time": "2022-09-26T17:43:33.686Z"
   },
   {
    "duration": 726,
    "start_time": "2022-09-26T17:44:31.126Z"
   },
   {
    "duration": 17,
    "start_time": "2022-09-26T17:44:34.305Z"
   },
   {
    "duration": 45,
    "start_time": "2022-09-27T07:41:31.979Z"
   },
   {
    "duration": 1370,
    "start_time": "2022-09-27T07:44:51.350Z"
   },
   {
    "duration": 3,
    "start_time": "2022-09-27T07:44:52.722Z"
   },
   {
    "duration": 146,
    "start_time": "2022-09-27T07:44:52.727Z"
   },
   {
    "duration": 93,
    "start_time": "2022-09-27T07:44:52.877Z"
   },
   {
    "duration": 3,
    "start_time": "2022-09-27T07:44:52.972Z"
   },
   {
    "duration": 26,
    "start_time": "2022-09-27T07:44:52.976Z"
   },
   {
    "duration": 81,
    "start_time": "2022-09-27T07:44:53.004Z"
   },
   {
    "duration": 12,
    "start_time": "2022-09-27T07:44:53.087Z"
   },
   {
    "duration": 18,
    "start_time": "2022-09-27T07:44:53.101Z"
   },
   {
    "duration": 14,
    "start_time": "2022-09-27T07:44:53.123Z"
   },
   {
    "duration": 20,
    "start_time": "2022-09-27T07:44:53.139Z"
   },
   {
    "duration": 13,
    "start_time": "2022-09-27T07:44:53.161Z"
   },
   {
    "duration": 7,
    "start_time": "2022-09-27T07:44:53.176Z"
   },
   {
    "duration": 18,
    "start_time": "2022-09-27T07:44:53.185Z"
   },
   {
    "duration": 12,
    "start_time": "2022-09-27T07:44:53.205Z"
   },
   {
    "duration": 303,
    "start_time": "2022-09-27T07:44:53.219Z"
   },
   {
    "duration": 262,
    "start_time": "2022-09-27T07:44:53.523Z"
   },
   {
    "duration": 2711,
    "start_time": "2022-09-27T07:44:53.786Z"
   },
   {
    "duration": 165,
    "start_time": "2022-09-27T07:44:56.498Z"
   },
   {
    "duration": 38,
    "start_time": "2022-09-27T07:44:56.666Z"
   },
   {
    "duration": 38,
    "start_time": "2022-09-27T07:44:56.705Z"
   },
   {
    "duration": 8,
    "start_time": "2022-09-27T07:44:56.745Z"
   },
   {
    "duration": 14,
    "start_time": "2022-09-27T07:44:56.756Z"
   },
   {
    "duration": 77,
    "start_time": "2022-09-27T07:44:56.772Z"
   },
   {
    "duration": 1956,
    "start_time": "2022-09-27T07:44:56.851Z"
   },
   {
    "duration": 12,
    "start_time": "2022-09-27T07:44:58.810Z"
   },
   {
    "duration": 127,
    "start_time": "2022-09-27T07:44:58.824Z"
   },
   {
    "duration": 2659,
    "start_time": "2022-09-27T07:44:58.954Z"
   },
   {
    "duration": 2302,
    "start_time": "2022-09-27T07:48:18.528Z"
   },
   {
    "duration": 8,
    "start_time": "2022-09-27T07:49:06.921Z"
   },
   {
    "duration": 13,
    "start_time": "2022-09-27T07:49:08.445Z"
   },
   {
    "duration": 2192,
    "start_time": "2022-09-27T07:52:14.274Z"
   },
   {
    "duration": 100,
    "start_time": "2022-09-27T07:55:39.142Z"
   },
   {
    "duration": 311,
    "start_time": "2022-09-27T07:55:51.646Z"
   },
   {
    "duration": 269,
    "start_time": "2022-09-27T07:57:27.132Z"
   },
   {
    "duration": 19,
    "start_time": "2022-09-27T07:57:37.264Z"
   },
   {
    "duration": 1149,
    "start_time": "2022-09-27T07:57:45.052Z"
   },
   {
    "duration": 3,
    "start_time": "2022-09-27T07:57:46.203Z"
   },
   {
    "duration": 40,
    "start_time": "2022-09-27T07:57:46.207Z"
   },
   {
    "duration": 78,
    "start_time": "2022-09-27T07:57:46.248Z"
   },
   {
    "duration": 3,
    "start_time": "2022-09-27T07:57:46.328Z"
   },
   {
    "duration": 8,
    "start_time": "2022-09-27T07:57:46.332Z"
   },
   {
    "duration": 65,
    "start_time": "2022-09-27T07:57:46.342Z"
   },
   {
    "duration": 10,
    "start_time": "2022-09-27T07:57:46.409Z"
   },
   {
    "duration": 5,
    "start_time": "2022-09-27T07:57:46.420Z"
   },
   {
    "duration": 9,
    "start_time": "2022-09-27T07:57:46.427Z"
   },
   {
    "duration": 7,
    "start_time": "2022-09-27T07:57:46.438Z"
   },
   {
    "duration": 10,
    "start_time": "2022-09-27T07:57:46.446Z"
   },
   {
    "duration": 6,
    "start_time": "2022-09-27T07:57:46.458Z"
   },
   {
    "duration": 37,
    "start_time": "2022-09-27T07:57:46.466Z"
   },
   {
    "duration": 10,
    "start_time": "2022-09-27T07:57:46.504Z"
   },
   {
    "duration": 307,
    "start_time": "2022-09-27T07:57:46.516Z"
   },
   {
    "duration": 259,
    "start_time": "2022-09-27T07:57:46.825Z"
   },
   {
    "duration": 2436,
    "start_time": "2022-09-27T07:57:47.085Z"
   },
   {
    "duration": 134,
    "start_time": "2022-09-27T07:57:49.522Z"
   },
   {
    "duration": 19,
    "start_time": "2022-09-27T07:57:49.658Z"
   },
   {
    "duration": 43,
    "start_time": "2022-09-27T07:57:49.679Z"
   },
   {
    "duration": 6,
    "start_time": "2022-09-27T07:57:49.724Z"
   },
   {
    "duration": 10,
    "start_time": "2022-09-27T07:57:49.732Z"
   },
   {
    "duration": 61,
    "start_time": "2022-09-27T07:57:49.744Z"
   },
   {
    "duration": 1964,
    "start_time": "2022-09-27T07:57:49.806Z"
   },
   {
    "duration": 116,
    "start_time": "2022-09-27T07:57:51.772Z"
   },
   {
    "duration": 1538,
    "start_time": "2022-09-27T07:57:51.890Z"
   },
   {
    "duration": 89,
    "start_time": "2022-09-27T07:58:28.315Z"
   },
   {
    "duration": 1352,
    "start_time": "2022-09-27T07:58:35.638Z"
   },
   {
    "duration": 894,
    "start_time": "2022-09-27T08:00:14.067Z"
   },
   {
    "duration": 159,
    "start_time": "2022-09-27T08:01:23.846Z"
   },
   {
    "duration": 102,
    "start_time": "2022-09-27T08:01:27.176Z"
   },
   {
    "duration": 866,
    "start_time": "2022-09-27T08:06:08.357Z"
   },
   {
    "duration": 995,
    "start_time": "2022-09-27T08:07:16.642Z"
   },
   {
    "duration": 7,
    "start_time": "2022-09-27T08:29:56.773Z"
   },
   {
    "duration": 1958,
    "start_time": "2022-09-27T08:29:57.709Z"
   },
   {
    "duration": 1048,
    "start_time": "2022-09-27T08:30:01.621Z"
   },
   {
    "duration": 10,
    "start_time": "2022-09-27T08:31:36.356Z"
   },
   {
    "duration": 10,
    "start_time": "2022-09-27T08:31:39.357Z"
   },
   {
    "duration": 6,
    "start_time": "2022-09-27T08:31:42.436Z"
   },
   {
    "duration": 2058,
    "start_time": "2022-09-27T08:31:42.779Z"
   },
   {
    "duration": 1041,
    "start_time": "2022-09-27T08:31:44.839Z"
   },
   {
    "duration": 2591,
    "start_time": "2022-09-27T08:33:23.109Z"
   },
   {
    "duration": 43,
    "start_time": "2022-09-27T08:33:25.708Z"
   },
   {
    "duration": 19,
    "start_time": "2022-09-27T08:33:25.752Z"
   },
   {
    "duration": 34,
    "start_time": "2022-09-27T08:33:26.279Z"
   },
   {
    "duration": 6,
    "start_time": "2022-09-27T08:33:26.652Z"
   },
   {
    "duration": 9,
    "start_time": "2022-09-27T08:33:27.731Z"
   },
   {
    "duration": 5,
    "start_time": "2022-09-27T08:33:31.381Z"
   },
   {
    "duration": 992,
    "start_time": "2022-09-27T08:36:05.017Z"
   },
   {
    "duration": 4792,
    "start_time": "2022-09-27T08:36:57.056Z"
   },
   {
    "duration": 4950,
    "start_time": "2022-09-27T08:39:22.033Z"
   },
   {
    "duration": 4882,
    "start_time": "2022-09-27T08:39:42.978Z"
   },
   {
    "duration": 4892,
    "start_time": "2022-09-27T08:40:07.871Z"
   },
   {
    "duration": 4416,
    "start_time": "2022-09-27T08:40:13.783Z"
   },
   {
    "duration": 692,
    "start_time": "2022-09-27T08:44:44.732Z"
   },
   {
    "duration": 563,
    "start_time": "2022-09-27T08:46:49.699Z"
   },
   {
    "duration": 566,
    "start_time": "2022-09-27T08:46:58.645Z"
   },
   {
    "duration": 709,
    "start_time": "2022-09-27T08:49:43.561Z"
   },
   {
    "duration": 634,
    "start_time": "2022-09-27T08:55:27.538Z"
   },
   {
    "duration": 4695,
    "start_time": "2022-09-27T08:55:34.455Z"
   },
   {
    "duration": 4441,
    "start_time": "2022-09-27T08:58:01.173Z"
   },
   {
    "duration": 4,
    "start_time": "2022-09-27T09:02:35.039Z"
   },
   {
    "duration": 11,
    "start_time": "2022-09-27T09:02:39.939Z"
   },
   {
    "duration": 4618,
    "start_time": "2022-09-27T09:02:45.496Z"
   },
   {
    "duration": 113,
    "start_time": "2022-09-27T09:03:09.637Z"
   },
   {
    "duration": 90,
    "start_time": "2022-09-27T09:03:14.347Z"
   },
   {
    "duration": 4317,
    "start_time": "2022-09-27T09:03:22.923Z"
   },
   {
    "duration": 1552,
    "start_time": "2022-09-27T09:03:42.580Z"
   },
   {
    "duration": 9171,
    "start_time": "2022-09-27T09:03:55.953Z"
   },
   {
    "duration": 126,
    "start_time": "2022-09-27T09:04:20.564Z"
   },
   {
    "duration": 5329,
    "start_time": "2022-09-27T09:04:28.736Z"
   },
   {
    "duration": 4462,
    "start_time": "2022-09-27T09:04:52.048Z"
   },
   {
    "duration": 605,
    "start_time": "2022-09-27T09:09:27.443Z"
   },
   {
    "duration": 580,
    "start_time": "2022-09-27T09:19:34.846Z"
   },
   {
    "duration": 565,
    "start_time": "2022-09-27T09:19:51.472Z"
   },
   {
    "duration": 670,
    "start_time": "2022-09-27T09:19:58.364Z"
   },
   {
    "duration": 584,
    "start_time": "2022-09-27T09:20:22.657Z"
   },
   {
    "duration": 11,
    "start_time": "2022-09-27T09:21:25.455Z"
   },
   {
    "duration": 11,
    "start_time": "2022-09-27T09:22:58.202Z"
   },
   {
    "duration": 11,
    "start_time": "2022-09-27T09:23:03.918Z"
   },
   {
    "duration": 434,
    "start_time": "2022-09-27T09:23:07.430Z"
   },
   {
    "duration": 11,
    "start_time": "2022-09-27T09:23:13.147Z"
   },
   {
    "duration": 11,
    "start_time": "2022-09-27T09:23:18.477Z"
   },
   {
    "duration": 2043,
    "start_time": "2022-09-27T09:23:55.136Z"
   },
   {
    "duration": 3851,
    "start_time": "2022-09-27T09:24:19.847Z"
   },
   {
    "duration": 3195,
    "start_time": "2022-09-27T09:24:27.895Z"
   },
   {
    "duration": 4607,
    "start_time": "2022-09-27T09:24:52.854Z"
   },
   {
    "duration": 5777,
    "start_time": "2022-09-27T09:25:09.194Z"
   },
   {
    "duration": 12,
    "start_time": "2022-09-27T09:28:08.397Z"
   },
   {
    "duration": 124,
    "start_time": "2022-09-27T09:28:32.354Z"
   },
   {
    "duration": 1919,
    "start_time": "2022-09-27T09:28:49.754Z"
   },
   {
    "duration": 927,
    "start_time": "2022-09-27T09:28:53.668Z"
   },
   {
    "duration": 953,
    "start_time": "2022-09-27T09:29:10.339Z"
   },
   {
    "duration": 936,
    "start_time": "2022-09-27T09:37:05.165Z"
   },
   {
    "duration": 1067,
    "start_time": "2022-09-27T09:42:56.187Z"
   },
   {
    "duration": 1243,
    "start_time": "2022-09-27T09:45:04.882Z"
   },
   {
    "duration": 3,
    "start_time": "2022-09-27T09:45:06.127Z"
   },
   {
    "duration": 41,
    "start_time": "2022-09-27T09:45:06.132Z"
   },
   {
    "duration": 93,
    "start_time": "2022-09-27T09:45:06.175Z"
   },
   {
    "duration": 3,
    "start_time": "2022-09-27T09:45:06.269Z"
   },
   {
    "duration": 24,
    "start_time": "2022-09-27T09:45:06.274Z"
   },
   {
    "duration": 100,
    "start_time": "2022-09-27T09:45:06.301Z"
   },
   {
    "duration": 16,
    "start_time": "2022-09-27T09:45:06.403Z"
   },
   {
    "duration": 7,
    "start_time": "2022-09-27T09:45:06.421Z"
   },
   {
    "duration": 15,
    "start_time": "2022-09-27T09:45:06.431Z"
   },
   {
    "duration": 24,
    "start_time": "2022-09-27T09:45:06.448Z"
   },
   {
    "duration": 22,
    "start_time": "2022-09-27T09:45:06.473Z"
   },
   {
    "duration": 4,
    "start_time": "2022-09-27T09:45:06.498Z"
   },
   {
    "duration": 22,
    "start_time": "2022-09-27T09:45:06.504Z"
   },
   {
    "duration": 26,
    "start_time": "2022-09-27T09:45:06.528Z"
   },
   {
    "duration": 2989,
    "start_time": "2022-09-27T09:45:06.556Z"
   },
   {
    "duration": 70,
    "start_time": "2022-09-27T09:45:09.547Z"
   },
   {
    "duration": 22,
    "start_time": "2022-09-27T09:45:09.619Z"
   },
   {
    "duration": 60,
    "start_time": "2022-09-27T09:45:09.643Z"
   },
   {
    "duration": 7,
    "start_time": "2022-09-27T09:45:09.705Z"
   },
   {
    "duration": 14,
    "start_time": "2022-09-27T09:45:09.714Z"
   },
   {
    "duration": 6,
    "start_time": "2022-09-27T09:45:09.730Z"
   },
   {
    "duration": 2195,
    "start_time": "2022-09-27T09:45:09.738Z"
   },
   {
    "duration": 1090,
    "start_time": "2022-09-27T09:45:11.935Z"
   },
   {
    "duration": 1518,
    "start_time": "2022-09-27T09:45:13.027Z"
   },
   {
    "duration": 4,
    "start_time": "2022-09-27T10:07:54.241Z"
   },
   {
    "duration": 4,
    "start_time": "2022-09-27T10:42:19.570Z"
   },
   {
    "duration": 4,
    "start_time": "2022-09-27T10:42:23.042Z"
   },
   {
    "duration": 94,
    "start_time": "2022-09-27T10:44:34.401Z"
   },
   {
    "duration": 341,
    "start_time": "2022-09-27T10:45:08.638Z"
   },
   {
    "duration": 3,
    "start_time": "2022-09-27T10:45:09.112Z"
   },
   {
    "duration": 35,
    "start_time": "2022-09-27T10:45:09.272Z"
   },
   {
    "duration": 1455,
    "start_time": "2022-09-27T10:45:13.376Z"
   },
   {
    "duration": 3,
    "start_time": "2022-09-27T10:45:14.833Z"
   },
   {
    "duration": 40,
    "start_time": "2022-09-27T10:45:14.838Z"
   },
   {
    "duration": 76,
    "start_time": "2022-09-27T10:45:14.880Z"
   },
   {
    "duration": 3,
    "start_time": "2022-09-27T10:45:14.958Z"
   },
   {
    "duration": 10,
    "start_time": "2022-09-27T10:45:14.962Z"
   },
   {
    "duration": 75,
    "start_time": "2022-09-27T10:45:14.973Z"
   },
   {
    "duration": 12,
    "start_time": "2022-09-27T10:45:15.049Z"
   },
   {
    "duration": 12,
    "start_time": "2022-09-27T10:45:15.063Z"
   },
   {
    "duration": 20,
    "start_time": "2022-09-27T10:45:15.077Z"
   },
   {
    "duration": 12,
    "start_time": "2022-09-27T10:45:15.098Z"
   },
   {
    "duration": 8,
    "start_time": "2022-09-27T10:45:15.112Z"
   },
   {
    "duration": 7,
    "start_time": "2022-09-27T10:45:15.121Z"
   },
   {
    "duration": 18,
    "start_time": "2022-09-27T10:45:15.131Z"
   },
   {
    "duration": 11,
    "start_time": "2022-09-27T10:45:15.151Z"
   },
   {
    "duration": 2773,
    "start_time": "2022-09-27T10:45:15.163Z"
   },
   {
    "duration": 47,
    "start_time": "2022-09-27T10:45:17.937Z"
   },
   {
    "duration": 26,
    "start_time": "2022-09-27T10:45:17.996Z"
   },
   {
    "duration": 48,
    "start_time": "2022-09-27T10:45:18.024Z"
   },
   {
    "duration": 7,
    "start_time": "2022-09-27T10:45:18.094Z"
   },
   {
    "duration": 21,
    "start_time": "2022-09-27T10:45:18.103Z"
   },
   {
    "duration": 7,
    "start_time": "2022-09-27T10:45:18.125Z"
   },
   {
    "duration": 2117,
    "start_time": "2022-09-27T10:45:18.133Z"
   },
   {
    "duration": 974,
    "start_time": "2022-09-27T10:45:20.252Z"
   },
   {
    "duration": 1725,
    "start_time": "2022-09-27T10:45:21.227Z"
   },
   {
    "duration": 5,
    "start_time": "2022-09-27T10:45:22.996Z"
   },
   {
    "duration": 15,
    "start_time": "2022-09-27T10:45:23.002Z"
   },
   {
    "duration": 104,
    "start_time": "2022-09-27T10:51:51.602Z"
   },
   {
    "duration": 1465,
    "start_time": "2022-09-27T10:52:02.887Z"
   },
   {
    "duration": 3,
    "start_time": "2022-09-27T10:52:04.354Z"
   },
   {
    "duration": 39,
    "start_time": "2022-09-27T10:52:04.359Z"
   },
   {
    "duration": 94,
    "start_time": "2022-09-27T10:52:04.401Z"
   },
   {
    "duration": 3,
    "start_time": "2022-09-27T10:52:04.497Z"
   },
   {
    "duration": 14,
    "start_time": "2022-09-27T10:52:04.502Z"
   },
   {
    "duration": 63,
    "start_time": "2022-09-27T10:52:04.518Z"
   },
   {
    "duration": 19,
    "start_time": "2022-09-27T10:52:04.582Z"
   },
   {
    "duration": 5,
    "start_time": "2022-09-27T10:52:04.603Z"
   },
   {
    "duration": 19,
    "start_time": "2022-09-27T10:52:04.610Z"
   },
   {
    "duration": 14,
    "start_time": "2022-09-27T10:52:04.631Z"
   },
   {
    "duration": 13,
    "start_time": "2022-09-27T10:52:04.646Z"
   },
   {
    "duration": 14,
    "start_time": "2022-09-27T10:52:04.660Z"
   },
   {
    "duration": 17,
    "start_time": "2022-09-27T10:52:04.676Z"
   },
   {
    "duration": 9,
    "start_time": "2022-09-27T10:52:04.695Z"
   },
   {
    "duration": 3641,
    "start_time": "2022-09-27T10:52:04.706Z"
   },
   {
    "duration": 50,
    "start_time": "2022-09-27T10:52:08.348Z"
   },
   {
    "duration": 21,
    "start_time": "2022-09-27T10:52:08.399Z"
   },
   {
    "duration": 32,
    "start_time": "2022-09-27T10:52:08.422Z"
   },
   {
    "duration": 5,
    "start_time": "2022-09-27T10:52:08.456Z"
   },
   {
    "duration": 36,
    "start_time": "2022-09-27T10:52:08.463Z"
   },
   {
    "duration": 6,
    "start_time": "2022-09-27T10:52:08.501Z"
   },
   {
    "duration": 2020,
    "start_time": "2022-09-27T10:52:08.509Z"
   },
   {
    "duration": 1012,
    "start_time": "2022-09-27T10:52:10.530Z"
   },
   {
    "duration": 1700,
    "start_time": "2022-09-27T10:52:11.544Z"
   },
   {
    "duration": 4,
    "start_time": "2022-09-27T10:52:13.246Z"
   },
   {
    "duration": 8,
    "start_time": "2022-09-27T10:52:13.251Z"
   },
   {
    "duration": 3,
    "start_time": "2022-09-27T10:52:13.262Z"
   },
   {
    "duration": 1572,
    "start_time": "2022-09-27T10:56:53.664Z"
   },
   {
    "duration": 3,
    "start_time": "2022-09-27T10:56:55.237Z"
   },
   {
    "duration": 38,
    "start_time": "2022-09-27T10:56:55.242Z"
   },
   {
    "duration": 79,
    "start_time": "2022-09-27T10:56:55.281Z"
   },
   {
    "duration": 2,
    "start_time": "2022-09-27T10:56:55.363Z"
   },
   {
    "duration": 28,
    "start_time": "2022-09-27T10:56:55.367Z"
   },
   {
    "duration": 56,
    "start_time": "2022-09-27T10:56:55.396Z"
   },
   {
    "duration": 11,
    "start_time": "2022-09-27T10:56:55.454Z"
   },
   {
    "duration": 8,
    "start_time": "2022-09-27T10:56:55.467Z"
   },
   {
    "duration": 5,
    "start_time": "2022-09-27T10:56:55.496Z"
   },
   {
    "duration": 8,
    "start_time": "2022-09-27T10:56:55.503Z"
   },
   {
    "duration": 7,
    "start_time": "2022-09-27T10:56:55.513Z"
   },
   {
    "duration": 6,
    "start_time": "2022-09-27T10:56:55.521Z"
   },
   {
    "duration": 11,
    "start_time": "2022-09-27T10:56:55.530Z"
   },
   {
    "duration": 11,
    "start_time": "2022-09-27T10:56:55.543Z"
   },
   {
    "duration": 2910,
    "start_time": "2022-09-27T10:56:55.556Z"
   },
   {
    "duration": 60,
    "start_time": "2022-09-27T10:56:58.468Z"
   },
   {
    "duration": 22,
    "start_time": "2022-09-27T10:56:58.529Z"
   },
   {
    "duration": 48,
    "start_time": "2022-09-27T10:56:58.553Z"
   },
   {
    "duration": 6,
    "start_time": "2022-09-27T10:56:58.602Z"
   },
   {
    "duration": 15,
    "start_time": "2022-09-27T10:56:58.610Z"
   },
   {
    "duration": 5,
    "start_time": "2022-09-27T10:56:58.626Z"
   },
   {
    "duration": 2577,
    "start_time": "2022-09-27T10:56:58.633Z"
   },
   {
    "duration": 1408,
    "start_time": "2022-09-27T10:57:01.212Z"
   },
   {
    "duration": 2203,
    "start_time": "2022-09-27T10:57:02.622Z"
   },
   {
    "duration": 6,
    "start_time": "2022-09-27T10:57:04.827Z"
   },
   {
    "duration": 9,
    "start_time": "2022-09-27T10:57:04.835Z"
   },
   {
    "duration": 5,
    "start_time": "2022-09-27T10:57:04.846Z"
   },
   {
    "duration": 4,
    "start_time": "2022-09-27T10:57:25.356Z"
   },
   {
    "duration": 6,
    "start_time": "2022-09-27T10:57:25.641Z"
   },
   {
    "duration": 2,
    "start_time": "2022-09-27T10:57:25.921Z"
   },
   {
    "duration": 2,
    "start_time": "2022-09-27T10:58:03.458Z"
   },
   {
    "duration": 902,
    "start_time": "2022-09-27T10:58:32.295Z"
   },
   {
    "duration": 3,
    "start_time": "2022-09-27T11:02:07.978Z"
   },
   {
    "duration": 23,
    "start_time": "2022-09-27T11:02:08.622Z"
   },
   {
    "duration": 840,
    "start_time": "2022-09-27T11:05:46.449Z"
   },
   {
    "duration": 11,
    "start_time": "2022-09-27T11:10:23.739Z"
   },
   {
    "duration": 21,
    "start_time": "2022-09-27T11:14:06.707Z"
   },
   {
    "duration": 1541,
    "start_time": "2022-09-27T11:14:15.409Z"
   },
   {
    "duration": 3,
    "start_time": "2022-09-27T11:14:16.952Z"
   },
   {
    "duration": 44,
    "start_time": "2022-09-27T11:14:16.956Z"
   },
   {
    "duration": 99,
    "start_time": "2022-09-27T11:14:17.002Z"
   },
   {
    "duration": 3,
    "start_time": "2022-09-27T11:14:17.103Z"
   },
   {
    "duration": 8,
    "start_time": "2022-09-27T11:14:17.107Z"
   },
   {
    "duration": 86,
    "start_time": "2022-09-27T11:14:17.118Z"
   },
   {
    "duration": 11,
    "start_time": "2022-09-27T11:14:17.206Z"
   },
   {
    "duration": 6,
    "start_time": "2022-09-27T11:14:17.220Z"
   },
   {
    "duration": 7,
    "start_time": "2022-09-27T11:14:17.231Z"
   },
   {
    "duration": 7,
    "start_time": "2022-09-27T11:14:17.241Z"
   },
   {
    "duration": 13,
    "start_time": "2022-09-27T11:14:17.250Z"
   },
   {
    "duration": 32,
    "start_time": "2022-09-27T11:14:17.265Z"
   },
   {
    "duration": 15,
    "start_time": "2022-09-27T11:14:17.299Z"
   },
   {
    "duration": 11,
    "start_time": "2022-09-27T11:14:17.315Z"
   },
   {
    "duration": 2760,
    "start_time": "2022-09-27T11:14:17.328Z"
   },
   {
    "duration": 47,
    "start_time": "2022-09-27T11:14:20.089Z"
   },
   {
    "duration": 20,
    "start_time": "2022-09-27T11:14:20.137Z"
   },
   {
    "duration": 51,
    "start_time": "2022-09-27T11:14:20.158Z"
   },
   {
    "duration": 5,
    "start_time": "2022-09-27T11:14:20.211Z"
   },
   {
    "duration": 13,
    "start_time": "2022-09-27T11:14:20.218Z"
   },
   {
    "duration": 5,
    "start_time": "2022-09-27T11:14:20.233Z"
   },
   {
    "duration": 2115,
    "start_time": "2022-09-27T11:14:20.239Z"
   },
   {
    "duration": 957,
    "start_time": "2022-09-27T11:14:22.357Z"
   },
   {
    "duration": 1476,
    "start_time": "2022-09-27T11:14:23.316Z"
   },
   {
    "duration": 4,
    "start_time": "2022-09-27T11:14:24.794Z"
   },
   {
    "duration": 33,
    "start_time": "2022-09-27T11:14:24.799Z"
   },
   {
    "duration": 33,
    "start_time": "2022-09-27T11:14:24.835Z"
   },
   {
    "duration": 67,
    "start_time": "2022-09-27T11:14:24.870Z"
   },
   {
    "duration": 8,
    "start_time": "2022-09-27T11:14:24.939Z"
   },
   {
    "duration": 235,
    "start_time": "2022-09-27T11:14:24.948Z"
   },
   {
    "duration": 1515,
    "start_time": "2022-09-27T11:15:45.612Z"
   },
   {
    "duration": 2,
    "start_time": "2022-09-27T11:15:47.130Z"
   },
   {
    "duration": 43,
    "start_time": "2022-09-27T11:15:47.134Z"
   },
   {
    "duration": 79,
    "start_time": "2022-09-27T11:15:47.179Z"
   },
   {
    "duration": 3,
    "start_time": "2022-09-27T11:15:47.261Z"
   },
   {
    "duration": 32,
    "start_time": "2022-09-27T11:15:47.265Z"
   },
   {
    "duration": 51,
    "start_time": "2022-09-27T11:15:47.299Z"
   },
   {
    "duration": 11,
    "start_time": "2022-09-27T11:15:47.351Z"
   },
   {
    "duration": 5,
    "start_time": "2022-09-27T11:15:47.364Z"
   },
   {
    "duration": 32,
    "start_time": "2022-09-27T11:15:47.370Z"
   },
   {
    "duration": 9,
    "start_time": "2022-09-27T11:15:47.403Z"
   },
   {
    "duration": 7,
    "start_time": "2022-09-27T11:15:47.413Z"
   },
   {
    "duration": 5,
    "start_time": "2022-09-27T11:15:47.421Z"
   },
   {
    "duration": 12,
    "start_time": "2022-09-27T11:15:47.428Z"
   },
   {
    "duration": 11,
    "start_time": "2022-09-27T11:15:47.441Z"
   },
   {
    "duration": 2523,
    "start_time": "2022-09-27T11:15:47.453Z"
   },
   {
    "duration": 52,
    "start_time": "2022-09-27T11:15:49.978Z"
   },
   {
    "duration": 21,
    "start_time": "2022-09-27T11:15:50.032Z"
   },
   {
    "duration": 46,
    "start_time": "2022-09-27T11:15:50.054Z"
   },
   {
    "duration": 6,
    "start_time": "2022-09-27T11:15:50.102Z"
   },
   {
    "duration": 13,
    "start_time": "2022-09-27T11:15:50.109Z"
   },
   {
    "duration": 5,
    "start_time": "2022-09-27T11:15:50.124Z"
   },
   {
    "duration": 1995,
    "start_time": "2022-09-27T11:15:50.130Z"
   },
   {
    "duration": 1002,
    "start_time": "2022-09-27T11:15:52.126Z"
   },
   {
    "duration": 1623,
    "start_time": "2022-09-27T11:15:53.130Z"
   },
   {
    "duration": 5,
    "start_time": "2022-09-27T11:15:54.754Z"
   },
   {
    "duration": 11,
    "start_time": "2022-09-27T11:15:54.760Z"
   },
   {
    "duration": 4,
    "start_time": "2022-09-27T11:15:54.772Z"
   },
   {
    "duration": 30,
    "start_time": "2022-09-27T11:15:54.777Z"
   },
   {
    "duration": 87,
    "start_time": "2022-09-27T11:15:54.808Z"
   },
   {
    "duration": 104,
    "start_time": "2022-09-27T11:15:54.897Z"
   },
   {
    "duration": 7,
    "start_time": "2022-09-27T11:17:20.780Z"
   },
   {
    "duration": 7,
    "start_time": "2022-09-27T11:17:29.684Z"
   },
   {
    "duration": 5,
    "start_time": "2022-09-27T11:20:55.367Z"
   },
   {
    "duration": 3,
    "start_time": "2022-09-27T11:20:55.677Z"
   },
   {
    "duration": 23,
    "start_time": "2022-09-27T11:20:55.819Z"
   },
   {
    "duration": 14,
    "start_time": "2022-09-27T11:20:55.948Z"
   },
   {
    "duration": 141,
    "start_time": "2022-09-27T11:28:16.553Z"
   },
   {
    "duration": 1620,
    "start_time": "2022-09-27T11:28:22.361Z"
   },
   {
    "duration": 3,
    "start_time": "2022-09-27T11:28:23.983Z"
   },
   {
    "duration": 55,
    "start_time": "2022-09-27T11:28:23.987Z"
   },
   {
    "duration": 94,
    "start_time": "2022-09-27T11:28:24.044Z"
   },
   {
    "duration": 3,
    "start_time": "2022-09-27T11:28:24.140Z"
   },
   {
    "duration": 7,
    "start_time": "2022-09-27T11:28:24.145Z"
   },
   {
    "duration": 85,
    "start_time": "2022-09-27T11:28:24.154Z"
   },
   {
    "duration": 13,
    "start_time": "2022-09-27T11:28:24.240Z"
   },
   {
    "duration": 5,
    "start_time": "2022-09-27T11:28:24.255Z"
   },
   {
    "duration": 7,
    "start_time": "2022-09-27T11:28:24.262Z"
   },
   {
    "duration": 30,
    "start_time": "2022-09-27T11:28:24.271Z"
   },
   {
    "duration": 9,
    "start_time": "2022-09-27T11:28:24.302Z"
   },
   {
    "duration": 18,
    "start_time": "2022-09-27T11:28:24.312Z"
   },
   {
    "duration": 13,
    "start_time": "2022-09-27T11:28:24.333Z"
   },
   {
    "duration": 12,
    "start_time": "2022-09-27T11:28:24.348Z"
   },
   {
    "duration": 3133,
    "start_time": "2022-09-27T11:28:24.362Z"
   },
   {
    "duration": 53,
    "start_time": "2022-09-27T11:28:27.500Z"
   },
   {
    "duration": 21,
    "start_time": "2022-09-27T11:28:27.555Z"
   },
   {
    "duration": 55,
    "start_time": "2022-09-27T11:28:27.578Z"
   },
   {
    "duration": 6,
    "start_time": "2022-09-27T11:28:27.634Z"
   },
   {
    "duration": 12,
    "start_time": "2022-09-27T11:28:27.642Z"
   },
   {
    "duration": 6,
    "start_time": "2022-09-27T11:28:27.656Z"
   },
   {
    "duration": 2323,
    "start_time": "2022-09-27T11:28:27.663Z"
   },
   {
    "duration": 1045,
    "start_time": "2022-09-27T11:28:29.988Z"
   },
   {
    "duration": 1714,
    "start_time": "2022-09-27T11:28:31.034Z"
   },
   {
    "duration": 4,
    "start_time": "2022-09-27T11:28:32.750Z"
   },
   {
    "duration": 8,
    "start_time": "2022-09-27T11:28:32.756Z"
   },
   {
    "duration": 4,
    "start_time": "2022-09-27T11:28:32.765Z"
   },
   {
    "duration": 28,
    "start_time": "2022-09-27T11:28:32.770Z"
   },
   {
    "duration": 33,
    "start_time": "2022-09-27T11:28:32.799Z"
   },
   {
    "duration": 244,
    "start_time": "2022-09-27T11:28:32.895Z"
   },
   {
    "duration": 0,
    "start_time": "2022-09-27T11:28:33.140Z"
   },
   {
    "duration": 1485,
    "start_time": "2022-09-27T11:29:06.723Z"
   },
   {
    "duration": 3,
    "start_time": "2022-09-27T11:29:08.210Z"
   },
   {
    "duration": 39,
    "start_time": "2022-09-27T11:29:08.215Z"
   },
   {
    "duration": 83,
    "start_time": "2022-09-27T11:29:08.256Z"
   },
   {
    "duration": 3,
    "start_time": "2022-09-27T11:29:08.341Z"
   },
   {
    "duration": 10,
    "start_time": "2022-09-27T11:29:08.346Z"
   },
   {
    "duration": 68,
    "start_time": "2022-09-27T11:29:08.358Z"
   },
   {
    "duration": 11,
    "start_time": "2022-09-27T11:29:08.428Z"
   },
   {
    "duration": 7,
    "start_time": "2022-09-27T11:29:08.440Z"
   },
   {
    "duration": 8,
    "start_time": "2022-09-27T11:29:08.449Z"
   },
   {
    "duration": 7,
    "start_time": "2022-09-27T11:29:08.459Z"
   },
   {
    "duration": 31,
    "start_time": "2022-09-27T11:29:08.468Z"
   },
   {
    "duration": 6,
    "start_time": "2022-09-27T11:29:08.501Z"
   },
   {
    "duration": 13,
    "start_time": "2022-09-27T11:29:08.512Z"
   },
   {
    "duration": 11,
    "start_time": "2022-09-27T11:29:08.526Z"
   },
   {
    "duration": 4143,
    "start_time": "2022-09-27T11:29:08.538Z"
   },
   {
    "duration": 59,
    "start_time": "2022-09-27T11:29:12.683Z"
   },
   {
    "duration": 28,
    "start_time": "2022-09-27T11:29:12.744Z"
   },
   {
    "duration": 56,
    "start_time": "2022-09-27T11:29:12.774Z"
   },
   {
    "duration": 8,
    "start_time": "2022-09-27T11:29:12.832Z"
   },
   {
    "duration": 24,
    "start_time": "2022-09-27T11:29:12.842Z"
   },
   {
    "duration": 12,
    "start_time": "2022-09-27T11:29:12.868Z"
   },
   {
    "duration": 2196,
    "start_time": "2022-09-27T11:29:12.902Z"
   },
   {
    "duration": 1018,
    "start_time": "2022-09-27T11:29:15.101Z"
   },
   {
    "duration": 1759,
    "start_time": "2022-09-27T11:29:16.121Z"
   },
   {
    "duration": 5,
    "start_time": "2022-09-27T11:29:17.883Z"
   },
   {
    "duration": 27,
    "start_time": "2022-09-27T11:29:17.890Z"
   },
   {
    "duration": 4,
    "start_time": "2022-09-27T11:29:17.918Z"
   },
   {
    "duration": 29,
    "start_time": "2022-09-27T11:29:17.924Z"
   },
   {
    "duration": 7,
    "start_time": "2022-09-27T11:29:17.955Z"
   },
   {
    "duration": 263,
    "start_time": "2022-09-27T11:29:17.964Z"
   },
   {
    "duration": 0,
    "start_time": "2022-09-27T11:29:18.228Z"
   },
   {
    "duration": 1469,
    "start_time": "2022-09-27T11:31:19.681Z"
   },
   {
    "duration": 3,
    "start_time": "2022-09-27T11:31:21.152Z"
   },
   {
    "duration": 42,
    "start_time": "2022-09-27T11:31:21.157Z"
   },
   {
    "duration": 98,
    "start_time": "2022-09-27T11:31:21.200Z"
   },
   {
    "duration": 5,
    "start_time": "2022-09-27T11:31:21.300Z"
   },
   {
    "duration": 16,
    "start_time": "2022-09-27T11:31:21.309Z"
   },
   {
    "duration": 52,
    "start_time": "2022-09-27T11:31:21.326Z"
   },
   {
    "duration": 29,
    "start_time": "2022-09-27T11:31:21.380Z"
   },
   {
    "duration": 5,
    "start_time": "2022-09-27T11:31:21.411Z"
   },
   {
    "duration": 6,
    "start_time": "2022-09-27T11:31:21.418Z"
   },
   {
    "duration": 8,
    "start_time": "2022-09-27T11:31:21.426Z"
   },
   {
    "duration": 8,
    "start_time": "2022-09-27T11:31:21.436Z"
   },
   {
    "duration": 4,
    "start_time": "2022-09-27T11:31:21.446Z"
   },
   {
    "duration": 11,
    "start_time": "2022-09-27T11:31:21.453Z"
   },
   {
    "duration": 40,
    "start_time": "2022-09-27T11:31:21.466Z"
   },
   {
    "duration": 2954,
    "start_time": "2022-09-27T11:31:21.508Z"
   },
   {
    "duration": 52,
    "start_time": "2022-09-27T11:31:24.464Z"
   },
   {
    "duration": 20,
    "start_time": "2022-09-27T11:31:24.518Z"
   },
   {
    "duration": 31,
    "start_time": "2022-09-27T11:31:24.539Z"
   },
   {
    "duration": 38,
    "start_time": "2022-09-27T11:31:24.572Z"
   },
   {
    "duration": 9,
    "start_time": "2022-09-27T11:31:24.612Z"
   },
   {
    "duration": 5,
    "start_time": "2022-09-27T11:31:24.622Z"
   },
   {
    "duration": 2192,
    "start_time": "2022-09-27T11:31:24.628Z"
   },
   {
    "duration": 1052,
    "start_time": "2022-09-27T11:31:26.822Z"
   },
   {
    "duration": 1688,
    "start_time": "2022-09-27T11:31:27.876Z"
   },
   {
    "duration": 4,
    "start_time": "2022-09-27T11:31:29.566Z"
   },
   {
    "duration": 11,
    "start_time": "2022-09-27T11:31:29.572Z"
   },
   {
    "duration": 5,
    "start_time": "2022-09-27T11:31:29.584Z"
   },
   {
    "duration": 57,
    "start_time": "2022-09-27T11:31:29.593Z"
   },
   {
    "duration": 8,
    "start_time": "2022-09-27T11:31:29.651Z"
   },
   {
    "duration": 545,
    "start_time": "2022-09-27T11:31:29.663Z"
   },
   {
    "duration": 13,
    "start_time": "2022-09-27T11:31:30.209Z"
   },
   {
    "duration": 13,
    "start_time": "2022-09-27T11:33:08.945Z"
   },
   {
    "duration": 12,
    "start_time": "2022-09-27T11:33:14.460Z"
   },
   {
    "duration": 12,
    "start_time": "2022-09-27T11:36:54.922Z"
   },
   {
    "duration": 17,
    "start_time": "2022-09-27T11:38:23.686Z"
   },
   {
    "duration": 13,
    "start_time": "2022-09-27T11:42:50.313Z"
   },
   {
    "duration": 1465,
    "start_time": "2022-09-27T16:04:46.303Z"
   },
   {
    "duration": 2,
    "start_time": "2022-09-27T16:04:47.771Z"
   },
   {
    "duration": 142,
    "start_time": "2022-09-27T16:04:47.775Z"
   },
   {
    "duration": 90,
    "start_time": "2022-09-27T16:04:47.920Z"
   },
   {
    "duration": 3,
    "start_time": "2022-09-27T16:04:48.012Z"
   },
   {
    "duration": 11,
    "start_time": "2022-09-27T16:04:48.016Z"
   },
   {
    "duration": 50,
    "start_time": "2022-09-27T16:04:48.029Z"
   },
   {
    "duration": 27,
    "start_time": "2022-09-27T16:04:48.081Z"
   },
   {
    "duration": 4,
    "start_time": "2022-09-27T16:04:48.110Z"
   },
   {
    "duration": 9,
    "start_time": "2022-09-27T16:04:48.116Z"
   },
   {
    "duration": 9,
    "start_time": "2022-09-27T16:04:48.126Z"
   },
   {
    "duration": 8,
    "start_time": "2022-09-27T16:04:48.138Z"
   },
   {
    "duration": 6,
    "start_time": "2022-09-27T16:04:48.147Z"
   },
   {
    "duration": 11,
    "start_time": "2022-09-27T16:04:48.155Z"
   },
   {
    "duration": 9,
    "start_time": "2022-09-27T16:04:48.167Z"
   },
   {
    "duration": 2414,
    "start_time": "2022-09-27T16:04:48.177Z"
   },
   {
    "duration": 49,
    "start_time": "2022-09-27T16:04:50.593Z"
   },
   {
    "duration": 18,
    "start_time": "2022-09-27T16:04:50.644Z"
   },
   {
    "duration": 46,
    "start_time": "2022-09-27T16:04:50.663Z"
   },
   {
    "duration": 6,
    "start_time": "2022-09-27T16:04:50.710Z"
   },
   {
    "duration": 41,
    "start_time": "2022-09-27T16:04:50.717Z"
   },
   {
    "duration": 37,
    "start_time": "2022-09-27T16:04:50.760Z"
   },
   {
    "duration": 1790,
    "start_time": "2022-09-27T16:04:50.799Z"
   },
   {
    "duration": 846,
    "start_time": "2022-09-27T16:04:52.590Z"
   },
   {
    "duration": 1518,
    "start_time": "2022-09-27T16:04:53.438Z"
   },
   {
    "duration": 4,
    "start_time": "2022-09-27T16:04:54.957Z"
   },
   {
    "duration": 8,
    "start_time": "2022-09-27T16:04:54.962Z"
   },
   {
    "duration": 5,
    "start_time": "2022-09-27T16:04:54.972Z"
   },
   {
    "duration": 27,
    "start_time": "2022-09-27T16:04:54.979Z"
   },
   {
    "duration": 16,
    "start_time": "2022-09-27T16:04:55.007Z"
   },
   {
    "duration": 538,
    "start_time": "2022-09-27T16:04:55.025Z"
   },
   {
    "duration": 11,
    "start_time": "2022-09-27T16:04:55.565Z"
   },
   {
    "duration": 1297,
    "start_time": "2022-09-27T16:13:33.665Z"
   },
   {
    "duration": 2,
    "start_time": "2022-09-27T16:13:34.964Z"
   },
   {
    "duration": 42,
    "start_time": "2022-09-27T16:13:34.968Z"
   },
   {
    "duration": 68,
    "start_time": "2022-09-27T16:13:35.012Z"
   },
   {
    "duration": 24,
    "start_time": "2022-09-27T16:13:35.082Z"
   },
   {
    "duration": 9,
    "start_time": "2022-09-27T16:13:35.107Z"
   },
   {
    "duration": 58,
    "start_time": "2022-09-27T16:13:35.117Z"
   },
   {
    "duration": 10,
    "start_time": "2022-09-27T16:13:35.177Z"
   },
   {
    "duration": 8,
    "start_time": "2022-09-27T16:13:35.206Z"
   },
   {
    "duration": 7,
    "start_time": "2022-09-27T16:13:35.216Z"
   },
   {
    "duration": 11,
    "start_time": "2022-09-27T16:13:35.225Z"
   },
   {
    "duration": 9,
    "start_time": "2022-09-27T16:13:35.238Z"
   },
   {
    "duration": 5,
    "start_time": "2022-09-27T16:13:35.249Z"
   },
   {
    "duration": 17,
    "start_time": "2022-09-27T16:13:35.257Z"
   },
   {
    "duration": 31,
    "start_time": "2022-09-27T16:13:35.275Z"
   },
   {
    "duration": 2514,
    "start_time": "2022-09-27T16:13:35.308Z"
   },
   {
    "duration": 42,
    "start_time": "2022-09-27T16:13:37.823Z"
   },
   {
    "duration": 19,
    "start_time": "2022-09-27T16:13:37.866Z"
   },
   {
    "duration": 30,
    "start_time": "2022-09-27T16:13:37.905Z"
   },
   {
    "duration": 5,
    "start_time": "2022-09-27T16:13:37.936Z"
   },
   {
    "duration": 13,
    "start_time": "2022-09-27T16:13:37.942Z"
   },
   {
    "duration": 5,
    "start_time": "2022-09-27T16:13:37.957Z"
   },
   {
    "duration": 1788,
    "start_time": "2022-09-27T16:13:37.963Z"
   },
   {
    "duration": 841,
    "start_time": "2022-09-27T16:13:39.753Z"
   },
   {
    "duration": 1849,
    "start_time": "2022-09-27T16:13:40.595Z"
   },
   {
    "duration": 4,
    "start_time": "2022-09-27T16:13:42.445Z"
   },
   {
    "duration": 7,
    "start_time": "2022-09-27T16:13:42.451Z"
   },
   {
    "duration": 3,
    "start_time": "2022-09-27T16:13:42.460Z"
   },
   {
    "duration": 55,
    "start_time": "2022-09-27T16:13:42.464Z"
   },
   {
    "duration": 186,
    "start_time": "2022-09-27T16:13:42.520Z"
   },
   {
    "duration": 716,
    "start_time": "2022-09-27T16:13:42.707Z"
   },
   {
    "duration": 11,
    "start_time": "2022-09-27T16:13:43.425Z"
   },
   {
    "duration": 548,
    "start_time": "2022-09-27T16:18:43.496Z"
   },
   {
    "duration": 557,
    "start_time": "2022-09-27T16:19:00.441Z"
   },
   {
    "duration": 13,
    "start_time": "2022-09-27T16:19:27.539Z"
   },
   {
    "duration": 507,
    "start_time": "2022-09-27T16:20:16.578Z"
   },
   {
    "duration": 1342,
    "start_time": "2022-09-27T16:24:24.265Z"
   },
   {
    "duration": 3,
    "start_time": "2022-09-27T16:24:25.609Z"
   },
   {
    "duration": 39,
    "start_time": "2022-09-27T16:24:25.613Z"
   },
   {
    "duration": 72,
    "start_time": "2022-09-27T16:24:25.654Z"
   },
   {
    "duration": 3,
    "start_time": "2022-09-27T16:24:25.728Z"
   },
   {
    "duration": 10,
    "start_time": "2022-09-27T16:24:25.733Z"
   },
   {
    "duration": 68,
    "start_time": "2022-09-27T16:24:25.744Z"
   },
   {
    "duration": 13,
    "start_time": "2022-09-27T16:24:25.814Z"
   },
   {
    "duration": 10,
    "start_time": "2022-09-27T16:24:25.829Z"
   },
   {
    "duration": 9,
    "start_time": "2022-09-27T16:24:25.841Z"
   },
   {
    "duration": 7,
    "start_time": "2022-09-27T16:24:25.852Z"
   },
   {
    "duration": 12,
    "start_time": "2022-09-27T16:24:25.861Z"
   },
   {
    "duration": 7,
    "start_time": "2022-09-27T16:24:25.875Z"
   },
   {
    "duration": 9,
    "start_time": "2022-09-27T16:24:25.908Z"
   },
   {
    "duration": 10,
    "start_time": "2022-09-27T16:24:25.919Z"
   },
   {
    "duration": 2699,
    "start_time": "2022-09-27T16:24:25.931Z"
   },
   {
    "duration": 43,
    "start_time": "2022-09-27T16:24:28.632Z"
   },
   {
    "duration": 30,
    "start_time": "2022-09-27T16:24:28.676Z"
   },
   {
    "duration": 30,
    "start_time": "2022-09-27T16:24:28.708Z"
   },
   {
    "duration": 6,
    "start_time": "2022-09-27T16:24:28.739Z"
   },
   {
    "duration": 11,
    "start_time": "2022-09-27T16:24:28.746Z"
   },
   {
    "duration": 5,
    "start_time": "2022-09-27T16:24:28.758Z"
   },
   {
    "duration": 1809,
    "start_time": "2022-09-27T16:24:28.765Z"
   },
   {
    "duration": 843,
    "start_time": "2022-09-27T16:24:30.576Z"
   },
   {
    "duration": 1419,
    "start_time": "2022-09-27T16:24:31.420Z"
   },
   {
    "duration": 5,
    "start_time": "2022-09-27T16:24:32.841Z"
   },
   {
    "duration": 9,
    "start_time": "2022-09-27T16:24:32.847Z"
   },
   {
    "duration": 4,
    "start_time": "2022-09-27T16:24:32.857Z"
   },
   {
    "duration": 26,
    "start_time": "2022-09-27T16:24:32.863Z"
   },
   {
    "duration": 24,
    "start_time": "2022-09-27T16:24:32.890Z"
   },
   {
    "duration": 430,
    "start_time": "2022-09-27T16:24:33.006Z"
   },
   {
    "duration": 11,
    "start_time": "2022-09-27T16:24:33.437Z"
   },
   {
    "duration": 7,
    "start_time": "2022-09-27T16:24:33.450Z"
   },
   {
    "duration": 551,
    "start_time": "2022-09-27T16:24:33.458Z"
   },
   {
    "duration": 100431,
    "start_time": "2022-09-27T16:24:34.010Z"
   },
   {
    "duration": 106,
    "start_time": "2022-09-27T16:46:44.910Z"
   },
   {
    "duration": 1374,
    "start_time": "2022-09-27T16:47:13.306Z"
   },
   {
    "duration": 3,
    "start_time": "2022-09-27T16:47:14.681Z"
   },
   {
    "duration": 35,
    "start_time": "2022-09-27T16:47:14.685Z"
   },
   {
    "duration": 84,
    "start_time": "2022-09-27T16:47:14.722Z"
   },
   {
    "duration": 3,
    "start_time": "2022-09-27T16:47:14.809Z"
   },
   {
    "duration": 8,
    "start_time": "2022-09-27T16:47:14.813Z"
   },
   {
    "duration": 47,
    "start_time": "2022-09-27T16:47:14.823Z"
   },
   {
    "duration": 34,
    "start_time": "2022-09-27T16:47:14.872Z"
   },
   {
    "duration": 6,
    "start_time": "2022-09-27T16:47:14.908Z"
   },
   {
    "duration": 7,
    "start_time": "2022-09-27T16:47:14.922Z"
   },
   {
    "duration": 8,
    "start_time": "2022-09-27T16:47:14.931Z"
   },
   {
    "duration": 8,
    "start_time": "2022-09-27T16:47:14.941Z"
   },
   {
    "duration": 6,
    "start_time": "2022-09-27T16:47:14.950Z"
   },
   {
    "duration": 10,
    "start_time": "2022-09-27T16:47:14.959Z"
   },
   {
    "duration": 34,
    "start_time": "2022-09-27T16:47:14.971Z"
   },
   {
    "duration": 3561,
    "start_time": "2022-09-27T16:47:15.007Z"
   },
   {
    "duration": 50,
    "start_time": "2022-09-27T16:47:18.570Z"
   },
   {
    "duration": 19,
    "start_time": "2022-09-27T16:47:18.621Z"
   },
   {
    "duration": 29,
    "start_time": "2022-09-27T16:47:18.641Z"
   },
   {
    "duration": 5,
    "start_time": "2022-09-27T16:47:18.671Z"
   },
   {
    "duration": 9,
    "start_time": "2022-09-27T16:47:18.706Z"
   },
   {
    "duration": 18,
    "start_time": "2022-09-27T16:47:18.717Z"
   },
   {
    "duration": 1847,
    "start_time": "2022-09-27T16:47:18.737Z"
   },
   {
    "duration": 872,
    "start_time": "2022-09-27T16:47:20.586Z"
   },
   {
    "duration": 1508,
    "start_time": "2022-09-27T16:47:21.460Z"
   },
   {
    "duration": 4,
    "start_time": "2022-09-27T16:47:22.969Z"
   },
   {
    "duration": 10,
    "start_time": "2022-09-27T16:47:22.975Z"
   },
   {
    "duration": 4,
    "start_time": "2022-09-27T16:47:22.987Z"
   },
   {
    "duration": 23,
    "start_time": "2022-09-27T16:47:22.993Z"
   },
   {
    "duration": 8,
    "start_time": "2022-09-27T16:47:23.018Z"
   },
   {
    "duration": 502,
    "start_time": "2022-09-27T16:47:23.030Z"
   },
   {
    "duration": 11,
    "start_time": "2022-09-27T16:47:23.534Z"
   },
   {
    "duration": 10,
    "start_time": "2022-09-27T16:47:23.547Z"
   },
   {
    "duration": 549,
    "start_time": "2022-09-27T16:47:23.558Z"
   },
   {
    "duration": 102869,
    "start_time": "2022-09-27T16:47:24.108Z"
   },
   {
    "duration": 1326,
    "start_time": "2022-09-27T16:49:06.979Z"
   },
   {
    "duration": 4,
    "start_time": "2022-09-27T16:53:11.876Z"
   },
   {
    "duration": 4,
    "start_time": "2022-09-27T16:54:07.980Z"
   },
   {
    "duration": 12,
    "start_time": "2022-09-27T16:54:27.205Z"
   },
   {
    "duration": 5,
    "start_time": "2022-09-27T17:10:43.030Z"
   },
   {
    "duration": 114,
    "start_time": "2022-09-27T17:13:46.963Z"
   },
   {
    "duration": 6,
    "start_time": "2022-09-27T17:13:52.687Z"
   },
   {
    "duration": 13,
    "start_time": "2022-09-27T17:14:15.129Z"
   },
   {
    "duration": 16,
    "start_time": "2022-09-27T17:16:54.942Z"
   },
   {
    "duration": 12,
    "start_time": "2022-09-27T17:17:11.920Z"
   },
   {
    "duration": 1666,
    "start_time": "2022-09-28T07:43:13.272Z"
   },
   {
    "duration": 3,
    "start_time": "2022-09-28T07:43:14.941Z"
   },
   {
    "duration": 77,
    "start_time": "2022-09-28T07:43:14.946Z"
   },
   {
    "duration": 71,
    "start_time": "2022-09-28T07:43:15.025Z"
   },
   {
    "duration": 13,
    "start_time": "2022-09-28T07:43:15.098Z"
   },
   {
    "duration": 8,
    "start_time": "2022-09-28T07:43:15.113Z"
   },
   {
    "duration": 58,
    "start_time": "2022-09-28T07:43:15.123Z"
   },
   {
    "duration": 34,
    "start_time": "2022-09-28T07:43:15.183Z"
   },
   {
    "duration": 5,
    "start_time": "2022-09-28T07:43:15.219Z"
   },
   {
    "duration": 13,
    "start_time": "2022-09-28T07:43:15.225Z"
   },
   {
    "duration": 7,
    "start_time": "2022-09-28T07:43:15.239Z"
   },
   {
    "duration": 10,
    "start_time": "2022-09-28T07:43:15.247Z"
   },
   {
    "duration": 6,
    "start_time": "2022-09-28T07:43:15.259Z"
   },
   {
    "duration": 24,
    "start_time": "2022-09-28T07:43:15.271Z"
   },
   {
    "duration": 12,
    "start_time": "2022-09-28T07:43:15.316Z"
   },
   {
    "duration": 1394,
    "start_time": "2022-09-28T07:43:42.746Z"
   },
   {
    "duration": 3,
    "start_time": "2022-09-28T07:43:44.142Z"
   },
   {
    "duration": 36,
    "start_time": "2022-09-28T07:43:44.146Z"
   },
   {
    "duration": 68,
    "start_time": "2022-09-28T07:43:44.184Z"
   },
   {
    "duration": 3,
    "start_time": "2022-09-28T07:43:44.254Z"
   },
   {
    "duration": 8,
    "start_time": "2022-09-28T07:43:44.258Z"
   },
   {
    "duration": 70,
    "start_time": "2022-09-28T07:43:44.268Z"
   },
   {
    "duration": 10,
    "start_time": "2022-09-28T07:43:44.340Z"
   },
   {
    "duration": 6,
    "start_time": "2022-09-28T07:43:44.351Z"
   },
   {
    "duration": 8,
    "start_time": "2022-09-28T07:43:44.358Z"
   },
   {
    "duration": 9,
    "start_time": "2022-09-28T07:43:44.367Z"
   },
   {
    "duration": 10,
    "start_time": "2022-09-28T07:43:44.377Z"
   },
   {
    "duration": 26,
    "start_time": "2022-09-28T07:43:44.388Z"
   },
   {
    "duration": 20,
    "start_time": "2022-09-28T07:43:44.418Z"
   },
   {
    "duration": 14,
    "start_time": "2022-09-28T07:43:44.440Z"
   },
   {
    "duration": 2436,
    "start_time": "2022-09-28T07:43:44.457Z"
   },
   {
    "duration": 51,
    "start_time": "2022-09-28T07:43:46.894Z"
   },
   {
    "duration": 17,
    "start_time": "2022-09-28T07:43:46.947Z"
   },
   {
    "duration": 45,
    "start_time": "2022-09-28T07:43:46.966Z"
   },
   {
    "duration": 5,
    "start_time": "2022-09-28T07:43:47.013Z"
   },
   {
    "duration": 11,
    "start_time": "2022-09-28T07:43:47.019Z"
   },
   {
    "duration": 4,
    "start_time": "2022-09-28T07:43:47.032Z"
   },
   {
    "duration": 1818,
    "start_time": "2022-09-28T07:43:47.038Z"
   },
   {
    "duration": 908,
    "start_time": "2022-09-28T07:43:48.859Z"
   },
   {
    "duration": 1395,
    "start_time": "2022-09-28T07:43:49.769Z"
   },
   {
    "duration": 5,
    "start_time": "2022-09-28T07:43:51.166Z"
   },
   {
    "duration": 8,
    "start_time": "2022-09-28T07:43:51.173Z"
   },
   {
    "duration": 5,
    "start_time": "2022-09-28T07:43:51.182Z"
   },
   {
    "duration": 23,
    "start_time": "2022-09-28T07:43:51.189Z"
   },
   {
    "duration": 13,
    "start_time": "2022-09-28T07:43:51.213Z"
   },
   {
    "duration": 573,
    "start_time": "2022-09-28T07:43:51.228Z"
   },
   {
    "duration": 14,
    "start_time": "2022-09-28T07:43:51.803Z"
   },
   {
    "duration": 8,
    "start_time": "2022-09-28T07:43:51.819Z"
   },
   {
    "duration": 484,
    "start_time": "2022-09-28T07:43:51.829Z"
   },
   {
    "duration": 95095,
    "start_time": "2022-09-28T07:43:52.315Z"
   },
   {
    "duration": 1097,
    "start_time": "2022-09-28T07:45:27.412Z"
   },
   {
    "duration": 11,
    "start_time": "2022-09-28T07:45:28.511Z"
   },
   {
    "duration": 86,
    "start_time": "2022-09-28T07:45:28.524Z"
   },
   {
    "duration": 12,
    "start_time": "2022-09-28T07:45:28.612Z"
   },
   {
    "duration": 13,
    "start_time": "2022-09-28T07:47:15.464Z"
   },
   {
    "duration": 20,
    "start_time": "2022-09-28T07:48:39.630Z"
   },
   {
    "duration": 26,
    "start_time": "2022-09-28T07:49:00.693Z"
   },
   {
    "duration": 31,
    "start_time": "2022-09-28T07:49:07.587Z"
   },
   {
    "duration": 11,
    "start_time": "2022-09-28T07:49:13.121Z"
   },
   {
    "duration": 130,
    "start_time": "2022-09-28T09:02:56.323Z"
   },
   {
    "duration": 1376,
    "start_time": "2022-09-28T09:03:21.375Z"
   },
   {
    "duration": 3,
    "start_time": "2022-09-28T09:03:22.752Z"
   },
   {
    "duration": 37,
    "start_time": "2022-09-28T09:03:22.757Z"
   },
   {
    "duration": 67,
    "start_time": "2022-09-28T09:03:22.796Z"
   },
   {
    "duration": 3,
    "start_time": "2022-09-28T09:03:22.864Z"
   },
   {
    "duration": 6,
    "start_time": "2022-09-28T09:03:22.868Z"
   },
   {
    "duration": 39,
    "start_time": "2022-09-28T09:03:22.876Z"
   },
   {
    "duration": 10,
    "start_time": "2022-09-28T09:03:22.917Z"
   },
   {
    "duration": 6,
    "start_time": "2022-09-28T09:03:22.929Z"
   },
   {
    "duration": 5,
    "start_time": "2022-09-28T09:03:22.938Z"
   },
   {
    "duration": 6,
    "start_time": "2022-09-28T09:03:22.945Z"
   },
   {
    "duration": 7,
    "start_time": "2022-09-28T09:03:22.952Z"
   },
   {
    "duration": 5,
    "start_time": "2022-09-28T09:03:22.960Z"
   },
   {
    "duration": 51,
    "start_time": "2022-09-28T09:03:22.967Z"
   },
   {
    "duration": 10,
    "start_time": "2022-09-28T09:03:23.020Z"
   },
   {
    "duration": 2445,
    "start_time": "2022-09-28T09:03:23.032Z"
   },
   {
    "duration": 48,
    "start_time": "2022-09-28T09:03:25.478Z"
   },
   {
    "duration": 18,
    "start_time": "2022-09-28T09:03:25.528Z"
   },
   {
    "duration": 29,
    "start_time": "2022-09-28T09:03:25.547Z"
   },
   {
    "duration": 5,
    "start_time": "2022-09-28T09:03:25.578Z"
   },
   {
    "duration": 30,
    "start_time": "2022-09-28T09:03:25.584Z"
   },
   {
    "duration": 5,
    "start_time": "2022-09-28T09:03:25.615Z"
   },
   {
    "duration": 1757,
    "start_time": "2022-09-28T09:03:25.622Z"
   },
   {
    "duration": 854,
    "start_time": "2022-09-28T09:03:27.380Z"
   },
   {
    "duration": 1352,
    "start_time": "2022-09-28T09:03:28.236Z"
   },
   {
    "duration": 3,
    "start_time": "2022-09-28T09:03:29.590Z"
   },
   {
    "duration": 8,
    "start_time": "2022-09-28T09:03:29.595Z"
   },
   {
    "duration": 3,
    "start_time": "2022-09-28T09:03:29.606Z"
   },
   {
    "duration": 25,
    "start_time": "2022-09-28T09:03:29.610Z"
   },
   {
    "duration": 6,
    "start_time": "2022-09-28T09:03:29.637Z"
   },
   {
    "duration": 529,
    "start_time": "2022-09-28T09:03:29.646Z"
   },
   {
    "duration": 10,
    "start_time": "2022-09-28T09:03:30.177Z"
   },
   {
    "duration": 27,
    "start_time": "2022-09-28T09:03:30.188Z"
   },
   {
    "duration": 503,
    "start_time": "2022-09-28T09:03:30.216Z"
   },
   {
    "duration": 94573,
    "start_time": "2022-09-28T09:03:30.721Z"
   },
   {
    "duration": 1213,
    "start_time": "2022-09-28T09:05:05.296Z"
   },
   {
    "duration": 12,
    "start_time": "2022-09-28T09:05:06.511Z"
   },
   {
    "duration": 31,
    "start_time": "2022-09-28T09:05:06.525Z"
   },
   {
    "duration": 27,
    "start_time": "2022-09-28T09:05:06.558Z"
   },
   {
    "duration": 123,
    "start_time": "2022-09-28T09:05:06.587Z"
   },
   {
    "duration": 3,
    "start_time": "2022-09-28T09:09:07.329Z"
   },
   {
    "duration": 11,
    "start_time": "2022-09-28T09:09:08.384Z"
   },
   {
    "duration": 30939,
    "start_time": "2022-09-28T09:09:17.320Z"
   },
   {
    "duration": 7,
    "start_time": "2022-09-28T09:17:07.679Z"
   },
   {
    "duration": 10,
    "start_time": "2022-09-28T09:17:50.563Z"
   },
   {
    "duration": 9,
    "start_time": "2022-09-28T09:18:52.163Z"
   },
   {
    "duration": 8,
    "start_time": "2022-09-28T09:19:49.814Z"
   },
   {
    "duration": 7,
    "start_time": "2022-09-28T09:21:52.836Z"
   },
   {
    "duration": 7,
    "start_time": "2022-09-28T09:22:03.596Z"
   },
   {
    "duration": 12,
    "start_time": "2022-09-28T09:23:07.661Z"
   },
   {
    "duration": 3,
    "start_time": "2022-09-28T09:26:31.769Z"
   },
   {
    "duration": 15,
    "start_time": "2022-09-28T09:26:32.301Z"
   },
   {
    "duration": 3,
    "start_time": "2022-09-28T09:26:51.374Z"
   },
   {
    "duration": 18,
    "start_time": "2022-09-28T09:26:51.788Z"
   },
   {
    "duration": 3,
    "start_time": "2022-09-28T09:27:07.176Z"
   },
   {
    "duration": 17,
    "start_time": "2022-09-28T09:27:07.818Z"
   },
   {
    "duration": 3,
    "start_time": "2022-09-28T09:27:57.180Z"
   },
   {
    "duration": 16,
    "start_time": "2022-09-28T09:27:57.421Z"
   },
   {
    "duration": 3,
    "start_time": "2022-09-28T09:28:05.233Z"
   },
   {
    "duration": 32087,
    "start_time": "2022-09-28T09:28:05.519Z"
   },
   {
    "duration": 7,
    "start_time": "2022-09-28T09:32:02.767Z"
   },
   {
    "duration": 109,
    "start_time": "2022-09-28T09:36:39.925Z"
   },
   {
    "duration": 1557,
    "start_time": "2022-09-28T10:04:24.143Z"
   },
   {
    "duration": 3,
    "start_time": "2022-09-28T10:04:25.702Z"
   },
   {
    "duration": 37,
    "start_time": "2022-09-28T10:04:25.706Z"
   },
   {
    "duration": 66,
    "start_time": "2022-09-28T10:04:25.745Z"
   },
   {
    "duration": 2,
    "start_time": "2022-09-28T10:04:25.813Z"
   },
   {
    "duration": 7,
    "start_time": "2022-09-28T10:04:25.817Z"
   },
   {
    "duration": 17,
    "start_time": "2022-09-28T10:04:25.825Z"
   },
   {
    "duration": 9,
    "start_time": "2022-09-28T10:04:25.843Z"
   },
   {
    "duration": 7,
    "start_time": "2022-09-28T10:04:25.853Z"
   },
   {
    "duration": 6,
    "start_time": "2022-09-28T10:04:25.862Z"
   },
   {
    "duration": 6,
    "start_time": "2022-09-28T10:04:25.869Z"
   },
   {
    "duration": 34,
    "start_time": "2022-09-28T10:04:25.876Z"
   },
   {
    "duration": 7,
    "start_time": "2022-09-28T10:04:25.911Z"
   },
   {
    "duration": 13,
    "start_time": "2022-09-28T10:04:25.920Z"
   },
   {
    "duration": 12,
    "start_time": "2022-09-28T10:04:25.935Z"
   },
   {
    "duration": 2399,
    "start_time": "2022-09-28T10:04:25.948Z"
   },
   {
    "duration": 37,
    "start_time": "2022-09-28T10:04:28.349Z"
   },
   {
    "duration": 32,
    "start_time": "2022-09-28T10:04:28.387Z"
   },
   {
    "duration": 27,
    "start_time": "2022-09-28T10:04:28.420Z"
   },
   {
    "duration": 5,
    "start_time": "2022-09-28T10:04:28.449Z"
   },
   {
    "duration": 10,
    "start_time": "2022-09-28T10:04:28.455Z"
   },
   {
    "duration": 4,
    "start_time": "2022-09-28T10:04:28.466Z"
   },
   {
    "duration": 1732,
    "start_time": "2022-09-28T10:04:28.471Z"
   },
   {
    "duration": 853,
    "start_time": "2022-09-28T10:04:30.204Z"
   },
   {
    "duration": 1389,
    "start_time": "2022-09-28T10:04:31.059Z"
   },
   {
    "duration": 4,
    "start_time": "2022-09-28T10:04:32.450Z"
   },
   {
    "duration": 9,
    "start_time": "2022-09-28T10:04:32.456Z"
   },
   {
    "duration": 4,
    "start_time": "2022-09-28T10:04:32.466Z"
   },
   {
    "duration": 25,
    "start_time": "2022-09-28T10:04:32.471Z"
   },
   {
    "duration": 15,
    "start_time": "2022-09-28T10:04:32.497Z"
   },
   {
    "duration": 575,
    "start_time": "2022-09-28T10:04:32.514Z"
   },
   {
    "duration": 10,
    "start_time": "2022-09-28T10:04:33.091Z"
   },
   {
    "duration": 12,
    "start_time": "2022-09-28T10:04:33.102Z"
   },
   {
    "duration": 485,
    "start_time": "2022-09-28T10:04:33.115Z"
   },
   {
    "duration": 95962,
    "start_time": "2022-09-28T10:04:33.601Z"
   },
   {
    "duration": 1045,
    "start_time": "2022-09-28T10:06:09.564Z"
   },
   {
    "duration": 99,
    "start_time": "2022-09-28T10:06:10.611Z"
   },
   {
    "duration": 5,
    "start_time": "2022-09-28T10:06:10.713Z"
   },
   {
    "duration": 18,
    "start_time": "2022-09-28T10:06:10.720Z"
   },
   {
    "duration": 4,
    "start_time": "2022-09-28T10:06:10.740Z"
   },
   {
    "duration": 31667,
    "start_time": "2022-09-28T10:06:10.748Z"
   },
   {
    "duration": 8,
    "start_time": "2022-09-28T10:06:42.417Z"
   },
   {
    "duration": 1925,
    "start_time": "2022-09-28T10:32:07.133Z"
   },
   {
    "duration": 5,
    "start_time": "2022-09-28T10:32:09.061Z"
   },
   {
    "duration": 100,
    "start_time": "2022-09-28T10:32:09.068Z"
   },
   {
    "duration": 76,
    "start_time": "2022-09-28T10:32:09.170Z"
   },
   {
    "duration": 3,
    "start_time": "2022-09-28T10:32:09.248Z"
   },
   {
    "duration": 8,
    "start_time": "2022-09-28T10:32:09.253Z"
   },
   {
    "duration": 18,
    "start_time": "2022-09-28T10:32:09.262Z"
   },
   {
    "duration": 12,
    "start_time": "2022-09-28T10:32:09.281Z"
   },
   {
    "duration": 6,
    "start_time": "2022-09-28T10:32:09.295Z"
   },
   {
    "duration": 7,
    "start_time": "2022-09-28T10:32:09.334Z"
   },
   {
    "duration": 16,
    "start_time": "2022-09-28T10:32:09.343Z"
   },
   {
    "duration": 12,
    "start_time": "2022-09-28T10:32:09.361Z"
   },
   {
    "duration": 11,
    "start_time": "2022-09-28T10:32:09.375Z"
   },
   {
    "duration": 14,
    "start_time": "2022-09-28T10:32:09.389Z"
   },
   {
    "duration": 32,
    "start_time": "2022-09-28T10:32:09.404Z"
   },
   {
    "duration": 2704,
    "start_time": "2022-09-28T10:32:09.438Z"
   },
   {
    "duration": 69,
    "start_time": "2022-09-28T10:32:12.144Z"
   },
   {
    "duration": 40,
    "start_time": "2022-09-28T10:32:12.215Z"
   },
   {
    "duration": 32,
    "start_time": "2022-09-28T10:32:12.256Z"
   },
   {
    "duration": 7,
    "start_time": "2022-09-28T10:32:12.289Z"
   },
   {
    "duration": 36,
    "start_time": "2022-09-28T10:32:12.298Z"
   },
   {
    "duration": 38,
    "start_time": "2022-09-28T10:32:12.336Z"
   },
   {
    "duration": 2006,
    "start_time": "2022-09-28T10:32:12.375Z"
   },
   {
    "duration": 930,
    "start_time": "2022-09-28T10:32:14.383Z"
   },
   {
    "duration": 1723,
    "start_time": "2022-09-28T10:32:15.314Z"
   },
   {
    "duration": 4,
    "start_time": "2022-09-28T10:32:17.039Z"
   },
   {
    "duration": 9,
    "start_time": "2022-09-28T10:32:17.044Z"
   },
   {
    "duration": 5,
    "start_time": "2022-09-28T10:32:17.054Z"
   },
   {
    "duration": 26,
    "start_time": "2022-09-28T10:32:17.061Z"
   },
   {
    "duration": 45,
    "start_time": "2022-09-28T10:32:17.089Z"
   },
   {
    "duration": 530,
    "start_time": "2022-09-28T10:32:17.136Z"
   },
   {
    "duration": 13,
    "start_time": "2022-09-28T10:32:17.668Z"
   },
   {
    "duration": 7,
    "start_time": "2022-09-28T10:32:17.683Z"
   },
   {
    "duration": 595,
    "start_time": "2022-09-28T10:32:17.692Z"
   },
   {
    "duration": 112305,
    "start_time": "2022-09-28T10:32:18.289Z"
   },
   {
    "duration": 1047,
    "start_time": "2022-09-28T10:34:10.596Z"
   },
   {
    "duration": 98,
    "start_time": "2022-09-28T10:34:11.645Z"
   },
   {
    "duration": 7,
    "start_time": "2022-09-28T10:34:11.746Z"
   },
   {
    "duration": 17,
    "start_time": "2022-09-28T10:34:11.756Z"
   },
   {
    "duration": 4,
    "start_time": "2022-09-28T10:34:11.775Z"
   },
   {
    "duration": 34285,
    "start_time": "2022-09-28T10:34:11.783Z"
   },
   {
    "duration": 7,
    "start_time": "2022-09-28T10:34:46.070Z"
   },
   {
    "duration": 100,
    "start_time": "2022-09-28T12:45:36.378Z"
   },
   {
    "duration": 279,
    "start_time": "2022-09-28T12:48:31.223Z"
   },
   {
    "duration": 1689,
    "start_time": "2022-09-28T12:49:46.084Z"
   },
   {
    "duration": 3,
    "start_time": "2022-09-28T12:49:47.775Z"
   },
   {
    "duration": 121,
    "start_time": "2022-09-28T12:49:47.780Z"
   },
   {
    "duration": 84,
    "start_time": "2022-09-28T12:49:47.904Z"
   },
   {
    "duration": 3,
    "start_time": "2022-09-28T12:49:47.990Z"
   },
   {
    "duration": 35,
    "start_time": "2022-09-28T12:49:47.995Z"
   },
   {
    "duration": 42,
    "start_time": "2022-09-28T12:49:48.032Z"
   },
   {
    "duration": 35,
    "start_time": "2022-09-28T12:49:48.076Z"
   },
   {
    "duration": 17,
    "start_time": "2022-09-28T12:49:48.113Z"
   },
   {
    "duration": 43,
    "start_time": "2022-09-28T12:49:48.132Z"
   },
   {
    "duration": 40,
    "start_time": "2022-09-28T12:49:48.177Z"
   },
   {
    "duration": 24,
    "start_time": "2022-09-28T12:49:48.219Z"
   },
   {
    "duration": 11,
    "start_time": "2022-09-28T12:49:48.245Z"
   },
   {
    "duration": 39,
    "start_time": "2022-09-28T12:49:48.258Z"
   },
   {
    "duration": 38,
    "start_time": "2022-09-28T12:49:48.299Z"
   },
   {
    "duration": 3053,
    "start_time": "2022-09-28T12:49:48.339Z"
   },
   {
    "duration": 61,
    "start_time": "2022-09-28T12:49:51.394Z"
   },
   {
    "duration": 23,
    "start_time": "2022-09-28T12:49:51.457Z"
   },
   {
    "duration": 55,
    "start_time": "2022-09-28T12:49:51.482Z"
   },
   {
    "duration": 6,
    "start_time": "2022-09-28T12:49:51.539Z"
   },
   {
    "duration": 15,
    "start_time": "2022-09-28T12:49:51.547Z"
   },
   {
    "duration": 5,
    "start_time": "2022-09-28T12:49:51.564Z"
   },
   {
    "duration": 2174,
    "start_time": "2022-09-28T12:49:51.570Z"
   },
   {
    "duration": 1027,
    "start_time": "2022-09-28T12:49:53.746Z"
   },
   {
    "duration": 1760,
    "start_time": "2022-09-28T12:49:54.775Z"
   },
   {
    "duration": 4,
    "start_time": "2022-09-28T12:49:56.537Z"
   },
   {
    "duration": 15,
    "start_time": "2022-09-28T12:49:56.543Z"
   },
   {
    "duration": 11,
    "start_time": "2022-09-28T12:49:56.562Z"
   },
   {
    "duration": 31,
    "start_time": "2022-09-28T12:49:56.575Z"
   },
   {
    "duration": 18,
    "start_time": "2022-09-28T12:49:56.608Z"
   },
   {
    "duration": 593,
    "start_time": "2022-09-28T12:49:56.628Z"
   },
   {
    "duration": 14,
    "start_time": "2022-09-28T12:49:57.223Z"
   },
   {
    "duration": 17,
    "start_time": "2022-09-28T12:49:57.239Z"
   },
   {
    "duration": 590,
    "start_time": "2022-09-28T12:49:57.258Z"
   },
   {
    "duration": 119853,
    "start_time": "2022-09-28T12:49:57.849Z"
   },
   {
    "duration": 1218,
    "start_time": "2022-09-28T12:51:57.704Z"
   },
   {
    "duration": 18,
    "start_time": "2022-09-28T12:51:58.925Z"
   },
   {
    "duration": 21,
    "start_time": "2022-09-28T12:51:59.020Z"
   },
   {
    "duration": 29,
    "start_time": "2022-09-28T12:51:59.043Z"
   },
   {
    "duration": 8,
    "start_time": "2022-09-28T12:51:59.074Z"
   },
   {
    "duration": 43679,
    "start_time": "2022-09-28T12:51:59.084Z"
   },
   {
    "duration": 9,
    "start_time": "2022-09-28T12:52:42.764Z"
   },
   {
    "duration": 1080,
    "start_time": "2022-09-28T13:09:43.030Z"
   },
   {
    "duration": 6,
    "start_time": "2022-09-28T13:09:55.816Z"
   },
   {
    "duration": 962,
    "start_time": "2022-09-28T13:09:56.295Z"
   },
   {
    "duration": 5,
    "start_time": "2022-09-28T13:09:59.202Z"
   },
   {
    "duration": 1055,
    "start_time": "2022-09-28T13:09:59.601Z"
   },
   {
    "duration": 1516,
    "start_time": "2022-09-28T13:10:17.568Z"
   },
   {
    "duration": 1829,
    "start_time": "2022-09-28T13:10:22.776Z"
   },
   {
    "duration": 5886,
    "start_time": "2022-09-28T13:10:48.420Z"
   },
   {
    "duration": 1997,
    "start_time": "2022-09-28T13:11:31.221Z"
   },
   {
    "duration": 2171,
    "start_time": "2022-09-28T13:12:43.292Z"
   },
   {
    "duration": 2234,
    "start_time": "2022-09-28T13:13:17.087Z"
   },
   {
    "duration": 2012,
    "start_time": "2022-09-28T13:16:17.587Z"
   },
   {
    "duration": 2028,
    "start_time": "2022-09-28T13:16:42.592Z"
   },
   {
    "duration": 2186,
    "start_time": "2022-09-28T13:18:28.661Z"
   },
   {
    "duration": 351,
    "start_time": "2022-09-28T13:25:19.244Z"
   },
   {
    "duration": 135,
    "start_time": "2022-09-28T13:25:41.095Z"
   },
   {
    "duration": 21,
    "start_time": "2022-09-28T13:26:52.458Z"
   },
   {
    "duration": 2160,
    "start_time": "2022-09-28T13:27:59.822Z"
   },
   {
    "duration": 123,
    "start_time": "2022-09-28T13:28:30.450Z"
   },
   {
    "duration": 2075,
    "start_time": "2022-09-28T13:29:34.131Z"
   },
   {
    "duration": 164,
    "start_time": "2022-09-28T13:29:58.095Z"
   },
   {
    "duration": 14,
    "start_time": "2022-09-28T13:30:15.644Z"
   },
   {
    "duration": 156,
    "start_time": "2022-09-28T13:30:24.220Z"
   },
   {
    "duration": 150,
    "start_time": "2022-09-28T13:32:41.241Z"
   },
   {
    "duration": 148,
    "start_time": "2022-09-28T13:32:53.232Z"
   },
   {
    "duration": 2041,
    "start_time": "2022-09-28T13:33:16.305Z"
   },
   {
    "duration": 2117,
    "start_time": "2022-09-28T13:33:27.232Z"
   },
   {
    "duration": 2067,
    "start_time": "2022-09-28T13:35:31.304Z"
   },
   {
    "duration": 206,
    "start_time": "2022-09-28T13:36:15.957Z"
   },
   {
    "duration": 2048,
    "start_time": "2022-09-28T13:36:23.691Z"
   },
   {
    "duration": 2131,
    "start_time": "2022-09-28T13:37:10.033Z"
   },
   {
    "duration": 2051,
    "start_time": "2022-09-28T13:38:02.446Z"
   },
   {
    "duration": 2029,
    "start_time": "2022-09-28T13:38:31.107Z"
   },
   {
    "duration": 2045,
    "start_time": "2022-09-28T13:38:54.114Z"
   },
   {
    "duration": 2050,
    "start_time": "2022-09-28T13:39:24.090Z"
   },
   {
    "duration": 2041,
    "start_time": "2022-09-28T13:39:54.206Z"
   },
   {
    "duration": 1214,
    "start_time": "2022-09-28T13:40:15.693Z"
   },
   {
    "duration": 2189,
    "start_time": "2022-09-28T13:47:34.604Z"
   },
   {
    "duration": 3782,
    "start_time": "2022-09-28T13:47:46.739Z"
   },
   {
    "duration": 7699,
    "start_time": "2022-09-28T13:48:09.798Z"
   },
   {
    "duration": 5126,
    "start_time": "2022-09-28T13:48:18.336Z"
   },
   {
    "duration": 5028,
    "start_time": "2022-09-28T13:49:08.390Z"
   },
   {
    "duration": 5150,
    "start_time": "2022-09-28T13:50:53.380Z"
   },
   {
    "duration": 5156,
    "start_time": "2022-09-28T13:51:10.990Z"
   },
   {
    "duration": 5370,
    "start_time": "2022-09-28T13:51:24.277Z"
   },
   {
    "duration": 5310,
    "start_time": "2022-09-28T13:51:32.920Z"
   },
   {
    "duration": 674,
    "start_time": "2022-09-28T13:54:47.256Z"
   },
   {
    "duration": 5818,
    "start_time": "2022-09-28T13:55:17.985Z"
   },
   {
    "duration": 5318,
    "start_time": "2022-09-28T14:01:46.953Z"
   },
   {
    "duration": 5260,
    "start_time": "2022-09-28T14:02:10.522Z"
   },
   {
    "duration": 5500,
    "start_time": "2022-09-28T14:02:21.807Z"
   },
   {
    "duration": 5100,
    "start_time": "2022-09-28T14:02:37.993Z"
   },
   {
    "duration": 4878,
    "start_time": "2022-09-28T14:02:51.588Z"
   },
   {
    "duration": 5093,
    "start_time": "2022-09-28T14:03:02.317Z"
   },
   {
    "duration": 6119,
    "start_time": "2022-09-28T14:04:58.266Z"
   },
   {
    "duration": 691,
    "start_time": "2022-09-28T14:05:41.279Z"
   },
   {
    "duration": 5933,
    "start_time": "2022-09-28T14:05:45.711Z"
   },
   {
    "duration": 679,
    "start_time": "2022-09-28T14:06:28.992Z"
   },
   {
    "duration": 810,
    "start_time": "2022-09-28T14:08:52.283Z"
   },
   {
    "duration": 723,
    "start_time": "2022-09-28T14:09:23.592Z"
   },
   {
    "duration": 5861,
    "start_time": "2022-09-28T14:09:45.977Z"
   },
   {
    "duration": 5963,
    "start_time": "2022-09-28T14:10:09.846Z"
   },
   {
    "duration": 5295,
    "start_time": "2022-09-28T14:10:44.606Z"
   },
   {
    "duration": 5307,
    "start_time": "2022-09-28T14:10:52.879Z"
   },
   {
    "duration": 5976,
    "start_time": "2022-09-28T14:11:00.110Z"
   },
   {
    "duration": 2132,
    "start_time": "2022-09-28T14:11:30.864Z"
   },
   {
    "duration": 2323,
    "start_time": "2022-09-28T14:11:59.453Z"
   },
   {
    "duration": 66,
    "start_time": "2022-09-28T14:14:16.429Z"
   },
   {
    "duration": 5244,
    "start_time": "2022-09-28T14:14:22.380Z"
   },
   {
    "duration": 6009,
    "start_time": "2022-09-28T14:14:43.969Z"
   },
   {
    "duration": 2038,
    "start_time": "2022-09-28T14:15:26.529Z"
   },
   {
    "duration": 2098,
    "start_time": "2022-09-28T14:23:41.144Z"
   },
   {
    "duration": 1421,
    "start_time": "2022-09-28T14:26:50.051Z"
   },
   {
    "duration": 3,
    "start_time": "2022-09-28T14:26:51.474Z"
   },
   {
    "duration": 42,
    "start_time": "2022-09-28T14:26:51.479Z"
   },
   {
    "duration": 104,
    "start_time": "2022-09-28T14:26:51.524Z"
   },
   {
    "duration": 3,
    "start_time": "2022-09-28T14:26:51.631Z"
   },
   {
    "duration": 9,
    "start_time": "2022-09-28T14:26:51.636Z"
   },
   {
    "duration": 32,
    "start_time": "2022-09-28T14:26:51.647Z"
   },
   {
    "duration": 16,
    "start_time": "2022-09-28T14:26:51.682Z"
   },
   {
    "duration": 22,
    "start_time": "2022-09-28T14:26:51.700Z"
   },
   {
    "duration": 27,
    "start_time": "2022-09-28T14:26:51.723Z"
   },
   {
    "duration": 20,
    "start_time": "2022-09-28T14:26:51.752Z"
   },
   {
    "duration": 18,
    "start_time": "2022-09-28T14:26:51.773Z"
   },
   {
    "duration": 11,
    "start_time": "2022-09-28T14:26:51.793Z"
   },
   {
    "duration": 14,
    "start_time": "2022-09-28T14:26:51.808Z"
   },
   {
    "duration": 12,
    "start_time": "2022-09-28T14:26:51.824Z"
   },
   {
    "duration": 2898,
    "start_time": "2022-09-28T14:26:51.838Z"
   },
   {
    "duration": 48,
    "start_time": "2022-09-28T14:26:54.738Z"
   },
   {
    "duration": 36,
    "start_time": "2022-09-28T14:26:54.788Z"
   },
   {
    "duration": 34,
    "start_time": "2022-09-28T14:26:54.826Z"
   },
   {
    "duration": 6,
    "start_time": "2022-09-28T14:26:54.862Z"
   },
   {
    "duration": 19,
    "start_time": "2022-09-28T14:26:54.869Z"
   },
   {
    "duration": 5,
    "start_time": "2022-09-28T14:26:54.890Z"
   },
   {
    "duration": 2100,
    "start_time": "2022-09-28T14:26:54.921Z"
   },
   {
    "duration": 976,
    "start_time": "2022-09-28T14:26:57.023Z"
   },
   {
    "duration": 2276,
    "start_time": "2022-09-28T14:26:58.001Z"
   },
   {
    "duration": 1624,
    "start_time": "2022-09-28T14:27:00.279Z"
   },
   {
    "duration": 5,
    "start_time": "2022-09-28T14:27:01.905Z"
   },
   {
    "duration": 16,
    "start_time": "2022-09-28T14:27:01.912Z"
   },
   {
    "duration": 31,
    "start_time": "2022-09-28T14:27:01.930Z"
   },
   {
    "duration": 56,
    "start_time": "2022-09-28T14:27:01.963Z"
   },
   {
    "duration": 12,
    "start_time": "2022-09-28T14:27:02.021Z"
   },
   {
    "duration": 694,
    "start_time": "2022-09-28T14:27:02.035Z"
   },
   {
    "duration": 17,
    "start_time": "2022-09-28T14:27:02.731Z"
   },
   {
    "duration": 70,
    "start_time": "2022-09-28T14:27:02.750Z"
   },
   {
    "duration": 596,
    "start_time": "2022-09-28T14:27:02.822Z"
   },
   {
    "duration": 123136,
    "start_time": "2022-09-28T14:27:03.420Z"
   },
   {
    "duration": 1263,
    "start_time": "2022-09-28T14:29:06.558Z"
   },
   {
    "duration": 94,
    "start_time": "2022-09-28T14:29:07.828Z"
   },
   {
    "duration": 18,
    "start_time": "2022-09-28T14:29:07.924Z"
   },
   {
    "duration": 26,
    "start_time": "2022-09-28T14:29:07.944Z"
   },
   {
    "duration": 4,
    "start_time": "2022-09-28T14:29:07.974Z"
   },
   {
    "duration": 37456,
    "start_time": "2022-09-28T14:29:07.980Z"
   },
   {
    "duration": 9,
    "start_time": "2022-09-28T14:29:45.437Z"
   },
   {
    "duration": 2019,
    "start_time": "2022-09-28T14:34:56.853Z"
   },
   {
    "duration": 908,
    "start_time": "2022-09-28T14:36:28.874Z"
   },
   {
    "duration": 636,
    "start_time": "2022-09-28T14:36:43.454Z"
   },
   {
    "duration": 363,
    "start_time": "2022-09-28T14:36:52.298Z"
   },
   {
    "duration": 1532,
    "start_time": "2022-09-28T15:46:07.112Z"
   },
   {
    "duration": 3,
    "start_time": "2022-09-28T15:46:08.646Z"
   },
   {
    "duration": 38,
    "start_time": "2022-09-28T15:46:08.651Z"
   },
   {
    "duration": 84,
    "start_time": "2022-09-28T15:46:08.692Z"
   },
   {
    "duration": 3,
    "start_time": "2022-09-28T15:46:08.778Z"
   },
   {
    "duration": 9,
    "start_time": "2022-09-28T15:46:08.783Z"
   },
   {
    "duration": 45,
    "start_time": "2022-09-28T15:46:08.794Z"
   },
   {
    "duration": 15,
    "start_time": "2022-09-28T15:46:08.841Z"
   },
   {
    "duration": 39,
    "start_time": "2022-09-28T15:46:08.858Z"
   },
   {
    "duration": 19,
    "start_time": "2022-09-28T15:46:08.899Z"
   },
   {
    "duration": 10,
    "start_time": "2022-09-28T15:46:08.920Z"
   },
   {
    "duration": 16,
    "start_time": "2022-09-28T15:46:08.932Z"
   },
   {
    "duration": 20,
    "start_time": "2022-09-28T15:46:08.952Z"
   },
   {
    "duration": 47,
    "start_time": "2022-09-28T15:46:08.975Z"
   },
   {
    "duration": 26,
    "start_time": "2022-09-28T15:46:09.024Z"
   },
   {
    "duration": 3022,
    "start_time": "2022-09-28T15:46:09.052Z"
   },
   {
    "duration": 55,
    "start_time": "2022-09-28T15:46:12.076Z"
   },
   {
    "duration": 23,
    "start_time": "2022-09-28T15:46:12.133Z"
   },
   {
    "duration": 41,
    "start_time": "2022-09-28T15:46:12.158Z"
   },
   {
    "duration": 21,
    "start_time": "2022-09-28T15:46:12.200Z"
   },
   {
    "duration": 13,
    "start_time": "2022-09-28T15:46:12.223Z"
   },
   {
    "duration": 12,
    "start_time": "2022-09-28T15:46:12.238Z"
   },
   {
    "duration": 2586,
    "start_time": "2022-09-28T15:46:12.252Z"
   },
   {
    "duration": 1627,
    "start_time": "2022-09-28T15:46:14.840Z"
   },
   {
    "duration": 785,
    "start_time": "2022-09-28T15:46:16.469Z"
   },
   {
    "duration": 0,
    "start_time": "2022-09-28T15:46:17.256Z"
   },
   {
    "duration": 0,
    "start_time": "2022-09-28T15:46:17.258Z"
   },
   {
    "duration": 0,
    "start_time": "2022-09-28T15:46:17.260Z"
   },
   {
    "duration": 0,
    "start_time": "2022-09-28T15:46:17.261Z"
   },
   {
    "duration": 0,
    "start_time": "2022-09-28T15:46:17.262Z"
   },
   {
    "duration": 0,
    "start_time": "2022-09-28T15:46:17.264Z"
   },
   {
    "duration": 1,
    "start_time": "2022-09-28T15:46:17.264Z"
   },
   {
    "duration": 0,
    "start_time": "2022-09-28T15:46:17.266Z"
   },
   {
    "duration": 1,
    "start_time": "2022-09-28T15:46:17.266Z"
   },
   {
    "duration": 0,
    "start_time": "2022-09-28T15:46:17.268Z"
   },
   {
    "duration": 0,
    "start_time": "2022-09-28T15:46:17.269Z"
   },
   {
    "duration": 0,
    "start_time": "2022-09-28T15:46:17.269Z"
   },
   {
    "duration": 0,
    "start_time": "2022-09-28T15:46:17.270Z"
   },
   {
    "duration": 0,
    "start_time": "2022-09-28T15:46:17.272Z"
   },
   {
    "duration": 0,
    "start_time": "2022-09-28T15:46:17.273Z"
   },
   {
    "duration": 0,
    "start_time": "2022-09-28T15:46:17.274Z"
   },
   {
    "duration": 0,
    "start_time": "2022-09-28T15:46:17.275Z"
   },
   {
    "duration": 0,
    "start_time": "2022-09-28T15:46:17.277Z"
   },
   {
    "duration": 2916,
    "start_time": "2022-09-28T15:46:28.785Z"
   },
   {
    "duration": 687,
    "start_time": "2022-09-28T15:52:37.497Z"
   },
   {
    "duration": 2802,
    "start_time": "2022-09-28T15:52:51.189Z"
   },
   {
    "duration": 2735,
    "start_time": "2022-09-28T15:53:00.253Z"
   },
   {
    "duration": 2164,
    "start_time": "2022-09-28T15:53:17.907Z"
   },
   {
    "duration": 2123,
    "start_time": "2022-09-28T15:54:07.342Z"
   },
   {
    "duration": 909,
    "start_time": "2022-09-28T15:54:36.498Z"
   },
   {
    "duration": 664,
    "start_time": "2022-09-28T15:54:45.005Z"
   },
   {
    "duration": 716,
    "start_time": "2022-09-28T15:54:49.580Z"
   },
   {
    "duration": 2040,
    "start_time": "2022-09-28T15:54:53.957Z"
   },
   {
    "duration": 2300,
    "start_time": "2022-09-28T15:57:31.999Z"
   },
   {
    "duration": 1432,
    "start_time": "2022-09-28T15:57:44.467Z"
   },
   {
    "duration": 3,
    "start_time": "2022-09-28T15:57:45.901Z"
   },
   {
    "duration": 51,
    "start_time": "2022-09-28T15:57:45.906Z"
   },
   {
    "duration": 78,
    "start_time": "2022-09-28T15:57:45.960Z"
   },
   {
    "duration": 3,
    "start_time": "2022-09-28T15:57:46.040Z"
   },
   {
    "duration": 19,
    "start_time": "2022-09-28T15:57:46.045Z"
   },
   {
    "duration": 32,
    "start_time": "2022-09-28T15:57:46.066Z"
   },
   {
    "duration": 15,
    "start_time": "2022-09-28T15:57:46.100Z"
   },
   {
    "duration": 8,
    "start_time": "2022-09-28T15:57:46.116Z"
   },
   {
    "duration": 25,
    "start_time": "2022-09-28T15:57:46.126Z"
   },
   {
    "duration": 13,
    "start_time": "2022-09-28T15:57:46.153Z"
   },
   {
    "duration": 24,
    "start_time": "2022-09-28T15:57:46.167Z"
   },
   {
    "duration": 17,
    "start_time": "2022-09-28T15:57:46.193Z"
   },
   {
    "duration": 25,
    "start_time": "2022-09-28T15:57:46.211Z"
   },
   {
    "duration": 17,
    "start_time": "2022-09-28T15:57:46.237Z"
   },
   {
    "duration": 3237,
    "start_time": "2022-09-28T15:57:46.256Z"
   },
   {
    "duration": 73,
    "start_time": "2022-09-28T15:57:49.495Z"
   },
   {
    "duration": 28,
    "start_time": "2022-09-28T15:57:49.569Z"
   },
   {
    "duration": 61,
    "start_time": "2022-09-28T15:57:49.599Z"
   },
   {
    "duration": 8,
    "start_time": "2022-09-28T15:57:49.662Z"
   },
   {
    "duration": 47,
    "start_time": "2022-09-28T15:57:49.672Z"
   },
   {
    "duration": 11,
    "start_time": "2022-09-28T15:57:49.721Z"
   },
   {
    "duration": 2290,
    "start_time": "2022-09-28T15:57:49.734Z"
   },
   {
    "duration": 979,
    "start_time": "2022-09-28T15:57:52.026Z"
   },
   {
    "duration": 2294,
    "start_time": "2022-09-28T15:57:53.007Z"
   },
   {
    "duration": 1665,
    "start_time": "2022-09-28T15:57:55.302Z"
   },
   {
    "duration": 5,
    "start_time": "2022-09-28T15:57:56.969Z"
   },
   {
    "duration": 17,
    "start_time": "2022-09-28T15:57:56.979Z"
   },
   {
    "duration": 10,
    "start_time": "2022-09-28T15:57:56.999Z"
   },
   {
    "duration": 30,
    "start_time": "2022-09-28T15:57:57.011Z"
   },
   {
    "duration": 13,
    "start_time": "2022-09-28T15:57:57.043Z"
   },
   {
    "duration": 680,
    "start_time": "2022-09-28T15:57:57.058Z"
   },
   {
    "duration": 23,
    "start_time": "2022-09-28T15:57:57.740Z"
   },
   {
    "duration": 19,
    "start_time": "2022-09-28T15:57:57.765Z"
   },
   {
    "duration": 674,
    "start_time": "2022-09-28T15:57:57.786Z"
   },
   {
    "duration": 1487,
    "start_time": "2022-09-28T15:59:02.167Z"
   },
   {
    "duration": 4,
    "start_time": "2022-09-28T15:59:03.655Z"
   },
   {
    "duration": 44,
    "start_time": "2022-09-28T15:59:03.661Z"
   },
   {
    "duration": 85,
    "start_time": "2022-09-28T15:59:03.707Z"
   },
   {
    "duration": 3,
    "start_time": "2022-09-28T15:59:03.794Z"
   },
   {
    "duration": 5,
    "start_time": "2022-09-28T15:59:03.821Z"
   },
   {
    "duration": 35,
    "start_time": "2022-09-28T15:59:03.829Z"
   },
   {
    "duration": 12,
    "start_time": "2022-09-28T15:59:03.867Z"
   },
   {
    "duration": 10,
    "start_time": "2022-09-28T15:59:03.882Z"
   },
   {
    "duration": 27,
    "start_time": "2022-09-28T15:59:03.894Z"
   },
   {
    "duration": 6,
    "start_time": "2022-09-28T15:59:03.923Z"
   },
   {
    "duration": 9,
    "start_time": "2022-09-28T15:59:03.931Z"
   },
   {
    "duration": 9,
    "start_time": "2022-09-28T15:59:03.944Z"
   },
   {
    "duration": 15,
    "start_time": "2022-09-28T15:59:03.955Z"
   },
   {
    "duration": 14,
    "start_time": "2022-09-28T15:59:03.972Z"
   },
   {
    "duration": 3056,
    "start_time": "2022-09-28T15:59:03.988Z"
   },
   {
    "duration": 49,
    "start_time": "2022-09-28T15:59:07.046Z"
   },
   {
    "duration": 42,
    "start_time": "2022-09-28T15:59:07.097Z"
   },
   {
    "duration": 35,
    "start_time": "2022-09-28T15:59:07.141Z"
   },
   {
    "duration": 6,
    "start_time": "2022-09-28T15:59:07.178Z"
   },
   {
    "duration": 38,
    "start_time": "2022-09-28T15:59:07.186Z"
   },
   {
    "duration": 5,
    "start_time": "2022-09-28T15:59:07.226Z"
   },
   {
    "duration": 3136,
    "start_time": "2022-09-28T15:59:07.233Z"
   },
   {
    "duration": 969,
    "start_time": "2022-09-28T15:59:10.370Z"
   },
   {
    "duration": 2268,
    "start_time": "2022-09-28T15:59:11.341Z"
   },
   {
    "duration": 137,
    "start_time": "2022-09-28T15:59:13.611Z"
   },
   {
    "duration": 0,
    "start_time": "2022-09-28T15:59:13.750Z"
   },
   {
    "duration": 0,
    "start_time": "2022-09-28T15:59:13.752Z"
   },
   {
    "duration": 0,
    "start_time": "2022-09-28T15:59:13.754Z"
   },
   {
    "duration": 0,
    "start_time": "2022-09-28T15:59:13.755Z"
   },
   {
    "duration": 0,
    "start_time": "2022-09-28T15:59:13.756Z"
   },
   {
    "duration": 0,
    "start_time": "2022-09-28T15:59:13.758Z"
   },
   {
    "duration": 0,
    "start_time": "2022-09-28T15:59:13.760Z"
   },
   {
    "duration": 0,
    "start_time": "2022-09-28T15:59:13.761Z"
   },
   {
    "duration": 0,
    "start_time": "2022-09-28T15:59:13.762Z"
   },
   {
    "duration": 0,
    "start_time": "2022-09-28T15:59:13.763Z"
   },
   {
    "duration": 0,
    "start_time": "2022-09-28T15:59:13.765Z"
   },
   {
    "duration": 0,
    "start_time": "2022-09-28T15:59:13.766Z"
   },
   {
    "duration": 0,
    "start_time": "2022-09-28T15:59:13.767Z"
   },
   {
    "duration": 0,
    "start_time": "2022-09-28T15:59:13.769Z"
   },
   {
    "duration": 0,
    "start_time": "2022-09-28T15:59:13.771Z"
   },
   {
    "duration": 0,
    "start_time": "2022-09-28T15:59:13.772Z"
   },
   {
    "duration": 0,
    "start_time": "2022-09-28T15:59:13.773Z"
   },
   {
    "duration": 0,
    "start_time": "2022-09-28T15:59:13.774Z"
   },
   {
    "duration": 2172,
    "start_time": "2022-09-28T15:59:31.634Z"
   },
   {
    "duration": 2320,
    "start_time": "2022-09-28T15:59:42.838Z"
   },
   {
    "duration": 2080,
    "start_time": "2022-09-28T16:03:19.778Z"
   },
   {
    "duration": 2099,
    "start_time": "2022-09-28T16:03:31.414Z"
   },
   {
    "duration": 1376,
    "start_time": "2022-09-28T16:03:37.217Z"
   },
   {
    "duration": 928,
    "start_time": "2022-09-28T16:04:03.201Z"
   },
   {
    "duration": 1030,
    "start_time": "2022-09-28T16:06:53.581Z"
   },
   {
    "duration": 1005,
    "start_time": "2022-09-28T16:07:00.960Z"
   },
   {
    "duration": 1075,
    "start_time": "2022-09-28T16:07:10.833Z"
   },
   {
    "duration": 4,
    "start_time": "2022-09-28T16:09:44.300Z"
   },
   {
    "duration": 68,
    "start_time": "2022-09-28T16:10:38.919Z"
   },
   {
    "duration": 1584,
    "start_time": "2022-09-28T16:10:44.299Z"
   },
   {
    "duration": 3,
    "start_time": "2022-09-28T16:10:45.885Z"
   },
   {
    "duration": 56,
    "start_time": "2022-09-28T16:10:45.890Z"
   },
   {
    "duration": 100,
    "start_time": "2022-09-28T16:10:45.949Z"
   },
   {
    "duration": 4,
    "start_time": "2022-09-28T16:10:46.051Z"
   },
   {
    "duration": 14,
    "start_time": "2022-09-28T16:10:46.056Z"
   },
   {
    "duration": 26,
    "start_time": "2022-09-28T16:10:46.072Z"
   },
   {
    "duration": 33,
    "start_time": "2022-09-28T16:10:46.100Z"
   },
   {
    "duration": 18,
    "start_time": "2022-09-28T16:10:46.136Z"
   },
   {
    "duration": 9,
    "start_time": "2022-09-28T16:10:46.157Z"
   },
   {
    "duration": 8,
    "start_time": "2022-09-28T16:10:46.168Z"
   },
   {
    "duration": 14,
    "start_time": "2022-09-28T16:10:46.178Z"
   },
   {
    "duration": 8,
    "start_time": "2022-09-28T16:10:46.194Z"
   },
   {
    "duration": 33,
    "start_time": "2022-09-28T16:10:46.204Z"
   },
   {
    "duration": 12,
    "start_time": "2022-09-28T16:10:46.240Z"
   },
   {
    "duration": 3124,
    "start_time": "2022-09-28T16:10:46.254Z"
   },
   {
    "duration": 60,
    "start_time": "2022-09-28T16:10:49.380Z"
   },
   {
    "duration": 26,
    "start_time": "2022-09-28T16:10:49.442Z"
   },
   {
    "duration": 60,
    "start_time": "2022-09-28T16:10:49.470Z"
   },
   {
    "duration": 8,
    "start_time": "2022-09-28T16:10:49.536Z"
   },
   {
    "duration": 18,
    "start_time": "2022-09-28T16:10:49.546Z"
   },
   {
    "duration": 5,
    "start_time": "2022-09-28T16:10:49.566Z"
   },
   {
    "duration": 2893,
    "start_time": "2022-09-28T16:10:49.573Z"
   },
   {
    "duration": 1458,
    "start_time": "2022-09-28T16:10:52.521Z"
   },
   {
    "duration": 136,
    "start_time": "2022-09-28T16:10:53.981Z"
   },
   {
    "duration": 1,
    "start_time": "2022-09-28T16:10:54.121Z"
   },
   {
    "duration": 0,
    "start_time": "2022-09-28T16:10:54.123Z"
   },
   {
    "duration": 0,
    "start_time": "2022-09-28T16:10:54.124Z"
   },
   {
    "duration": 0,
    "start_time": "2022-09-28T16:10:54.125Z"
   },
   {
    "duration": 0,
    "start_time": "2022-09-28T16:10:54.129Z"
   },
   {
    "duration": 0,
    "start_time": "2022-09-28T16:10:54.130Z"
   },
   {
    "duration": 0,
    "start_time": "2022-09-28T16:10:54.130Z"
   },
   {
    "duration": 0,
    "start_time": "2022-09-28T16:10:54.131Z"
   },
   {
    "duration": 0,
    "start_time": "2022-09-28T16:10:54.135Z"
   },
   {
    "duration": 0,
    "start_time": "2022-09-28T16:10:54.136Z"
   },
   {
    "duration": 0,
    "start_time": "2022-09-28T16:10:54.137Z"
   },
   {
    "duration": 0,
    "start_time": "2022-09-28T16:10:54.138Z"
   },
   {
    "duration": 0,
    "start_time": "2022-09-28T16:10:54.141Z"
   },
   {
    "duration": 0,
    "start_time": "2022-09-28T16:10:54.143Z"
   },
   {
    "duration": 0,
    "start_time": "2022-09-28T16:10:54.144Z"
   },
   {
    "duration": 0,
    "start_time": "2022-09-28T16:10:54.145Z"
   },
   {
    "duration": 0,
    "start_time": "2022-09-28T16:10:54.146Z"
   },
   {
    "duration": 0,
    "start_time": "2022-09-28T16:10:54.147Z"
   },
   {
    "duration": 0,
    "start_time": "2022-09-28T16:10:54.148Z"
   },
   {
    "duration": 0,
    "start_time": "2022-09-28T16:10:54.149Z"
   },
   {
    "duration": 12,
    "start_time": "2022-09-28T16:11:01.051Z"
   },
   {
    "duration": 10,
    "start_time": "2022-09-28T16:11:16.239Z"
   },
   {
    "duration": 668,
    "start_time": "2022-09-28T16:11:26.494Z"
   },
   {
    "duration": 741,
    "start_time": "2022-09-28T16:11:41.888Z"
   },
   {
    "duration": 4,
    "start_time": "2022-09-28T16:11:50.438Z"
   },
   {
    "duration": 959,
    "start_time": "2022-09-28T16:12:01.740Z"
   },
   {
    "duration": 4,
    "start_time": "2022-09-28T16:12:15.575Z"
   },
   {
    "duration": 1109,
    "start_time": "2022-09-28T16:12:32.683Z"
   },
   {
    "duration": 4,
    "start_time": "2022-09-28T16:12:34.053Z"
   },
   {
    "duration": 943,
    "start_time": "2022-09-28T16:12:49.804Z"
   },
   {
    "duration": 5,
    "start_time": "2022-09-28T16:12:51.038Z"
   },
   {
    "duration": 5,
    "start_time": "2022-09-28T16:14:33.086Z"
   },
   {
    "duration": 1549,
    "start_time": "2022-09-28T16:14:49.402Z"
   },
   {
    "duration": 3,
    "start_time": "2022-09-28T16:14:50.953Z"
   },
   {
    "duration": 57,
    "start_time": "2022-09-28T16:14:50.958Z"
   },
   {
    "duration": 110,
    "start_time": "2022-09-28T16:14:51.019Z"
   },
   {
    "duration": 5,
    "start_time": "2022-09-28T16:14:51.131Z"
   },
   {
    "duration": 31,
    "start_time": "2022-09-28T16:14:51.138Z"
   },
   {
    "duration": 65,
    "start_time": "2022-09-28T16:14:51.170Z"
   },
   {
    "duration": 18,
    "start_time": "2022-09-28T16:14:51.237Z"
   },
   {
    "duration": 36,
    "start_time": "2022-09-28T16:14:51.257Z"
   },
   {
    "duration": 47,
    "start_time": "2022-09-28T16:14:51.296Z"
   },
   {
    "duration": 36,
    "start_time": "2022-09-28T16:14:51.345Z"
   },
   {
    "duration": 52,
    "start_time": "2022-09-28T16:14:51.383Z"
   },
   {
    "duration": 26,
    "start_time": "2022-09-28T16:14:51.438Z"
   },
   {
    "duration": 37,
    "start_time": "2022-09-28T16:14:51.466Z"
   },
   {
    "duration": 37,
    "start_time": "2022-09-28T16:14:51.505Z"
   },
   {
    "duration": 3070,
    "start_time": "2022-09-28T16:14:51.544Z"
   },
   {
    "duration": 54,
    "start_time": "2022-09-28T16:14:54.616Z"
   },
   {
    "duration": 24,
    "start_time": "2022-09-28T16:14:54.672Z"
   },
   {
    "duration": 58,
    "start_time": "2022-09-28T16:14:54.698Z"
   },
   {
    "duration": 6,
    "start_time": "2022-09-28T16:14:54.758Z"
   },
   {
    "duration": 25,
    "start_time": "2022-09-28T16:14:54.765Z"
   },
   {
    "duration": 7,
    "start_time": "2022-09-28T16:14:54.792Z"
   },
   {
    "duration": 2846,
    "start_time": "2022-09-28T16:14:54.800Z"
   },
   {
    "duration": 1637,
    "start_time": "2022-09-28T16:14:57.648Z"
   },
   {
    "duration": 666,
    "start_time": "2022-09-28T16:14:59.287Z"
   },
   {
    "duration": 4,
    "start_time": "2022-09-28T16:14:59.955Z"
   },
   {
    "duration": 130,
    "start_time": "2022-09-28T16:14:59.961Z"
   },
   {
    "duration": 0,
    "start_time": "2022-09-28T16:15:00.093Z"
   },
   {
    "duration": 0,
    "start_time": "2022-09-28T16:15:00.094Z"
   },
   {
    "duration": 0,
    "start_time": "2022-09-28T16:15:00.095Z"
   },
   {
    "duration": 0,
    "start_time": "2022-09-28T16:15:00.096Z"
   },
   {
    "duration": 0,
    "start_time": "2022-09-28T16:15:00.097Z"
   },
   {
    "duration": 0,
    "start_time": "2022-09-28T16:15:00.099Z"
   },
   {
    "duration": 0,
    "start_time": "2022-09-28T16:15:00.099Z"
   },
   {
    "duration": 0,
    "start_time": "2022-09-28T16:15:00.101Z"
   },
   {
    "duration": 0,
    "start_time": "2022-09-28T16:15:00.231Z"
   },
   {
    "duration": 0,
    "start_time": "2022-09-28T16:15:00.233Z"
   },
   {
    "duration": 0,
    "start_time": "2022-09-28T16:15:00.234Z"
   },
   {
    "duration": 0,
    "start_time": "2022-09-28T16:15:00.235Z"
   },
   {
    "duration": 0,
    "start_time": "2022-09-28T16:15:00.241Z"
   },
   {
    "duration": 0,
    "start_time": "2022-09-28T16:15:00.242Z"
   },
   {
    "duration": 0,
    "start_time": "2022-09-28T16:15:00.244Z"
   },
   {
    "duration": 0,
    "start_time": "2022-09-28T16:15:00.245Z"
   },
   {
    "duration": 0,
    "start_time": "2022-09-28T16:15:00.246Z"
   },
   {
    "duration": 0,
    "start_time": "2022-09-28T16:15:00.247Z"
   },
   {
    "duration": 0,
    "start_time": "2022-09-28T16:15:00.248Z"
   },
   {
    "duration": 0,
    "start_time": "2022-09-28T16:15:00.249Z"
   },
   {
    "duration": 0,
    "start_time": "2022-09-28T16:15:00.251Z"
   },
   {
    "duration": 518,
    "start_time": "2022-09-28T16:16:20.501Z"
   },
   {
    "duration": 5,
    "start_time": "2022-09-28T16:16:22.088Z"
   },
   {
    "duration": 5,
    "start_time": "2022-09-28T16:16:59.858Z"
   },
   {
    "duration": 3,
    "start_time": "2022-09-28T16:17:19.958Z"
   },
   {
    "duration": 4,
    "start_time": "2022-09-28T16:17:32.296Z"
   },
   {
    "duration": 5,
    "start_time": "2022-09-28T16:17:42.871Z"
   },
   {
    "duration": 4,
    "start_time": "2022-09-28T16:17:54.743Z"
   },
   {
    "duration": 4,
    "start_time": "2022-09-28T16:18:11.200Z"
   },
   {
    "duration": 4,
    "start_time": "2022-09-28T16:18:20.758Z"
   },
   {
    "duration": 1515,
    "start_time": "2022-09-28T16:18:35.946Z"
   },
   {
    "duration": 2,
    "start_time": "2022-09-28T16:18:37.463Z"
   },
   {
    "duration": 40,
    "start_time": "2022-09-28T16:18:37.467Z"
   },
   {
    "duration": 85,
    "start_time": "2022-09-28T16:18:37.510Z"
   },
   {
    "duration": 3,
    "start_time": "2022-09-28T16:18:37.597Z"
   },
   {
    "duration": 35,
    "start_time": "2022-09-28T16:18:37.602Z"
   },
   {
    "duration": 22,
    "start_time": "2022-09-28T16:18:37.639Z"
   },
   {
    "duration": 12,
    "start_time": "2022-09-28T16:18:37.663Z"
   },
   {
    "duration": 5,
    "start_time": "2022-09-28T16:18:37.677Z"
   },
   {
    "duration": 5,
    "start_time": "2022-09-28T16:18:37.685Z"
   },
   {
    "duration": 40,
    "start_time": "2022-09-28T16:18:37.692Z"
   },
   {
    "duration": 28,
    "start_time": "2022-09-28T16:18:37.734Z"
   },
   {
    "duration": 6,
    "start_time": "2022-09-28T16:18:37.764Z"
   },
   {
    "duration": 12,
    "start_time": "2022-09-28T16:18:37.772Z"
   },
   {
    "duration": 10,
    "start_time": "2022-09-28T16:18:37.786Z"
   },
   {
    "duration": 3038,
    "start_time": "2022-09-28T16:18:37.798Z"
   },
   {
    "duration": 47,
    "start_time": "2022-09-28T16:18:40.838Z"
   },
   {
    "duration": 47,
    "start_time": "2022-09-28T16:18:40.886Z"
   },
   {
    "duration": 38,
    "start_time": "2022-09-28T16:18:40.935Z"
   },
   {
    "duration": 6,
    "start_time": "2022-09-28T16:18:40.975Z"
   },
   {
    "duration": 25,
    "start_time": "2022-09-28T16:18:40.983Z"
   },
   {
    "duration": 13,
    "start_time": "2022-09-28T16:18:41.010Z"
   },
   {
    "duration": 3440,
    "start_time": "2022-09-28T16:18:41.034Z"
   },
   {
    "duration": 975,
    "start_time": "2022-09-28T16:18:44.476Z"
   },
   {
    "duration": 495,
    "start_time": "2022-09-28T16:18:45.453Z"
   },
   {
    "duration": 3,
    "start_time": "2022-09-28T16:18:45.950Z"
   },
   {
    "duration": 17,
    "start_time": "2022-09-28T16:18:45.955Z"
   },
   {
    "duration": 7,
    "start_time": "2022-09-28T16:18:45.975Z"
   },
   {
    "duration": 10,
    "start_time": "2022-09-28T16:18:45.983Z"
   },
   {
    "duration": 10,
    "start_time": "2022-09-28T16:18:45.994Z"
   },
   {
    "duration": 20,
    "start_time": "2022-09-28T16:18:46.005Z"
   },
   {
    "duration": 15,
    "start_time": "2022-09-28T16:18:46.032Z"
   },
   {
    "duration": 10,
    "start_time": "2022-09-28T16:18:46.049Z"
   },
   {
    "duration": 126,
    "start_time": "2022-09-28T16:18:46.061Z"
   },
   {
    "duration": 0,
    "start_time": "2022-09-28T16:18:46.188Z"
   },
   {
    "duration": 0,
    "start_time": "2022-09-28T16:18:46.190Z"
   },
   {
    "duration": 0,
    "start_time": "2022-09-28T16:18:46.191Z"
   },
   {
    "duration": 0,
    "start_time": "2022-09-28T16:18:46.192Z"
   },
   {
    "duration": 0,
    "start_time": "2022-09-28T16:18:46.193Z"
   },
   {
    "duration": 0,
    "start_time": "2022-09-28T16:18:46.194Z"
   },
   {
    "duration": 0,
    "start_time": "2022-09-28T16:18:46.195Z"
   },
   {
    "duration": 0,
    "start_time": "2022-09-28T16:18:46.196Z"
   },
   {
    "duration": 0,
    "start_time": "2022-09-28T16:18:46.197Z"
   },
   {
    "duration": 0,
    "start_time": "2022-09-28T16:18:46.198Z"
   },
   {
    "duration": 0,
    "start_time": "2022-09-28T16:18:46.313Z"
   },
   {
    "duration": 0,
    "start_time": "2022-09-28T16:18:46.320Z"
   },
   {
    "duration": 0,
    "start_time": "2022-09-28T16:18:46.321Z"
   },
   {
    "duration": 0,
    "start_time": "2022-09-28T16:18:46.322Z"
   },
   {
    "duration": 0,
    "start_time": "2022-09-28T16:18:46.322Z"
   },
   {
    "duration": 0,
    "start_time": "2022-09-28T16:18:46.323Z"
   },
   {
    "duration": 0,
    "start_time": "2022-09-28T16:18:46.323Z"
   },
   {
    "duration": 0,
    "start_time": "2022-09-28T16:18:46.324Z"
   },
   {
    "duration": 0,
    "start_time": "2022-09-28T16:18:46.325Z"
   },
   {
    "duration": 0,
    "start_time": "2022-09-28T16:18:46.326Z"
   },
   {
    "duration": 486,
    "start_time": "2022-09-28T16:19:45.329Z"
   },
   {
    "duration": 7,
    "start_time": "2022-09-28T16:19:47.017Z"
   },
   {
    "duration": 547,
    "start_time": "2022-09-28T16:19:58.897Z"
   },
   {
    "duration": 525,
    "start_time": "2022-09-28T16:20:16.015Z"
   },
   {
    "duration": 594,
    "start_time": "2022-09-28T16:20:22.636Z"
   },
   {
    "duration": 967,
    "start_time": "2022-09-28T16:22:30.195Z"
   },
   {
    "duration": 960,
    "start_time": "2022-09-28T16:22:42.842Z"
   },
   {
    "duration": 1118,
    "start_time": "2022-09-28T16:22:55.258Z"
   },
   {
    "duration": 6,
    "start_time": "2022-09-28T16:39:05.136Z"
   },
   {
    "duration": 859,
    "start_time": "2022-09-28T16:41:24.575Z"
   },
   {
    "duration": 1067,
    "start_time": "2022-09-28T16:42:04.994Z"
   },
   {
    "duration": 1140,
    "start_time": "2022-09-28T16:47:50.606Z"
   },
   {
    "duration": 2888,
    "start_time": "2022-09-28T16:53:23.465Z"
   },
   {
    "duration": 1952,
    "start_time": "2022-09-28T16:53:31.201Z"
   },
   {
    "duration": 1982,
    "start_time": "2022-09-28T16:53:49.491Z"
   },
   {
    "duration": 1523,
    "start_time": "2022-09-28T16:54:14.861Z"
   },
   {
    "duration": 3,
    "start_time": "2022-09-28T16:54:16.386Z"
   },
   {
    "duration": 40,
    "start_time": "2022-09-28T16:54:16.391Z"
   },
   {
    "duration": 98,
    "start_time": "2022-09-28T16:54:16.433Z"
   },
   {
    "duration": 4,
    "start_time": "2022-09-28T16:54:16.532Z"
   },
   {
    "duration": 16,
    "start_time": "2022-09-28T16:54:16.537Z"
   },
   {
    "duration": 23,
    "start_time": "2022-09-28T16:54:16.555Z"
   },
   {
    "duration": 12,
    "start_time": "2022-09-28T16:54:16.580Z"
   },
   {
    "duration": 28,
    "start_time": "2022-09-28T16:54:16.594Z"
   },
   {
    "duration": 17,
    "start_time": "2022-09-28T16:54:16.624Z"
   },
   {
    "duration": 9,
    "start_time": "2022-09-28T16:54:16.643Z"
   },
   {
    "duration": 10,
    "start_time": "2022-09-28T16:54:16.654Z"
   },
   {
    "duration": 18,
    "start_time": "2022-09-28T16:54:16.666Z"
   },
   {
    "duration": 13,
    "start_time": "2022-09-28T16:54:16.686Z"
   },
   {
    "duration": 20,
    "start_time": "2022-09-28T16:54:16.701Z"
   },
   {
    "duration": 3002,
    "start_time": "2022-09-28T16:54:16.723Z"
   },
   {
    "duration": 54,
    "start_time": "2022-09-28T16:54:19.728Z"
   },
   {
    "duration": 49,
    "start_time": "2022-09-28T16:54:19.783Z"
   },
   {
    "duration": 39,
    "start_time": "2022-09-28T16:54:19.835Z"
   },
   {
    "duration": 7,
    "start_time": "2022-09-28T16:54:19.876Z"
   },
   {
    "duration": 43,
    "start_time": "2022-09-28T16:54:19.885Z"
   },
   {
    "duration": 6,
    "start_time": "2022-09-28T16:54:19.930Z"
   },
   {
    "duration": 3073,
    "start_time": "2022-09-28T16:54:19.937Z"
   },
   {
    "duration": 959,
    "start_time": "2022-09-28T16:54:23.012Z"
   },
   {
    "duration": 4,
    "start_time": "2022-09-28T16:54:23.974Z"
   },
   {
    "duration": 1941,
    "start_time": "2022-09-28T16:54:23.980Z"
   },
   {
    "duration": 1188,
    "start_time": "2022-09-28T16:54:25.923Z"
   },
   {
    "duration": 128,
    "start_time": "2022-09-28T16:54:27.114Z"
   },
   {
    "duration": 0,
    "start_time": "2022-09-28T16:54:27.243Z"
   },
   {
    "duration": 0,
    "start_time": "2022-09-28T16:54:27.245Z"
   },
   {
    "duration": 0,
    "start_time": "2022-09-28T16:54:27.246Z"
   },
   {
    "duration": 0,
    "start_time": "2022-09-28T16:54:27.247Z"
   },
   {
    "duration": 0,
    "start_time": "2022-09-28T16:54:27.248Z"
   },
   {
    "duration": 0,
    "start_time": "2022-09-28T16:54:27.249Z"
   },
   {
    "duration": 0,
    "start_time": "2022-09-28T16:54:27.251Z"
   },
   {
    "duration": 0,
    "start_time": "2022-09-28T16:54:27.252Z"
   },
   {
    "duration": 0,
    "start_time": "2022-09-28T16:54:27.253Z"
   },
   {
    "duration": 0,
    "start_time": "2022-09-28T16:54:27.254Z"
   },
   {
    "duration": 0,
    "start_time": "2022-09-28T16:54:27.256Z"
   },
   {
    "duration": 0,
    "start_time": "2022-09-28T16:54:27.257Z"
   },
   {
    "duration": 0,
    "start_time": "2022-09-28T16:54:27.258Z"
   },
   {
    "duration": 0,
    "start_time": "2022-09-28T16:54:27.259Z"
   },
   {
    "duration": 0,
    "start_time": "2022-09-28T16:54:27.260Z"
   },
   {
    "duration": 0,
    "start_time": "2022-09-28T16:54:27.261Z"
   },
   {
    "duration": 0,
    "start_time": "2022-09-28T16:54:27.263Z"
   },
   {
    "duration": 0,
    "start_time": "2022-09-28T16:54:27.264Z"
   },
   {
    "duration": 2084,
    "start_time": "2022-09-28T16:54:41.111Z"
   },
   {
    "duration": 1015,
    "start_time": "2022-09-28T16:55:49.945Z"
   },
   {
    "duration": 2209,
    "start_time": "2022-09-28T16:55:57.336Z"
   },
   {
    "duration": 2117,
    "start_time": "2022-09-28T16:56:46.753Z"
   },
   {
    "duration": 2213,
    "start_time": "2022-09-28T16:57:02.902Z"
   },
   {
    "duration": 1966,
    "start_time": "2022-09-28T16:57:32.548Z"
   },
   {
    "duration": 2179,
    "start_time": "2022-09-28T16:57:48.904Z"
   },
   {
    "duration": 2495,
    "start_time": "2022-09-28T17:04:03.549Z"
   },
   {
    "duration": 2194,
    "start_time": "2022-09-28T17:04:19.167Z"
   },
   {
    "duration": 2177,
    "start_time": "2022-09-28T17:04:32.376Z"
   },
   {
    "duration": 2455,
    "start_time": "2022-09-28T17:04:43.560Z"
   },
   {
    "duration": 2149,
    "start_time": "2022-09-28T17:04:54.881Z"
   },
   {
    "duration": 2275,
    "start_time": "2022-09-28T17:05:12.485Z"
   },
   {
    "duration": 2517,
    "start_time": "2022-09-28T17:05:20.917Z"
   },
   {
    "duration": 2169,
    "start_time": "2022-09-28T17:05:33.398Z"
   },
   {
    "duration": 2409,
    "start_time": "2022-09-28T17:05:48.611Z"
   },
   {
    "duration": 2177,
    "start_time": "2022-09-28T17:07:23.183Z"
   },
   {
    "duration": 2274,
    "start_time": "2022-09-28T17:07:34.638Z"
   },
   {
    "duration": 2181,
    "start_time": "2022-09-28T17:07:44.804Z"
   },
   {
    "duration": 924,
    "start_time": "2022-09-28T17:08:05.609Z"
   },
   {
    "duration": 2230,
    "start_time": "2022-09-28T17:08:21.155Z"
   },
   {
    "duration": 2205,
    "start_time": "2022-09-28T17:08:31.250Z"
   },
   {
    "duration": 1908,
    "start_time": "2022-09-28T17:08:40.957Z"
   },
   {
    "duration": 2256,
    "start_time": "2022-09-28T17:08:52.792Z"
   },
   {
    "duration": 2242,
    "start_time": "2022-09-28T17:09:47.582Z"
   },
   {
    "duration": 2032,
    "start_time": "2022-09-28T17:09:52.872Z"
   },
   {
    "duration": 2290,
    "start_time": "2022-09-28T17:10:08.072Z"
   },
   {
    "duration": 911,
    "start_time": "2022-09-28T17:12:42.350Z"
   },
   {
    "duration": 1097,
    "start_time": "2022-09-28T17:14:31.157Z"
   },
   {
    "duration": 941,
    "start_time": "2022-09-28T17:15:41.563Z"
   },
   {
    "duration": 1040,
    "start_time": "2022-09-28T17:16:29.214Z"
   },
   {
    "duration": 1615,
    "start_time": "2022-09-28T17:21:45.766Z"
   },
   {
    "duration": 61,
    "start_time": "2022-09-28T17:22:07.923Z"
   },
   {
    "duration": 1579,
    "start_time": "2022-09-28T17:22:22.621Z"
   },
   {
    "duration": 1529,
    "start_time": "2022-09-28T17:22:43.159Z"
   },
   {
    "duration": 1719,
    "start_time": "2022-09-28T17:23:16.667Z"
   },
   {
    "duration": 1531,
    "start_time": "2022-09-28T17:23:33.320Z"
   },
   {
    "duration": 1475,
    "start_time": "2022-09-29T06:08:22.168Z"
   },
   {
    "duration": 3,
    "start_time": "2022-09-29T06:08:23.645Z"
   },
   {
    "duration": 90,
    "start_time": "2022-09-29T06:08:23.649Z"
   },
   {
    "duration": 68,
    "start_time": "2022-09-29T06:08:23.741Z"
   },
   {
    "duration": 2,
    "start_time": "2022-09-29T06:08:23.811Z"
   },
   {
    "duration": 6,
    "start_time": "2022-09-29T06:08:23.815Z"
   },
   {
    "duration": 17,
    "start_time": "2022-09-29T06:08:23.822Z"
   },
   {
    "duration": 8,
    "start_time": "2022-09-29T06:08:23.841Z"
   },
   {
    "duration": 5,
    "start_time": "2022-09-29T06:08:23.850Z"
   },
   {
    "duration": 5,
    "start_time": "2022-09-29T06:08:23.857Z"
   },
   {
    "duration": 6,
    "start_time": "2022-09-29T06:08:23.863Z"
   },
   {
    "duration": 42,
    "start_time": "2022-09-29T06:08:23.870Z"
   },
   {
    "duration": 3,
    "start_time": "2022-09-29T06:08:23.913Z"
   },
   {
    "duration": 11,
    "start_time": "2022-09-29T06:08:23.918Z"
   },
   {
    "duration": 9,
    "start_time": "2022-09-29T06:08:23.930Z"
   },
   {
    "duration": 2386,
    "start_time": "2022-09-29T06:08:23.940Z"
   },
   {
    "duration": 37,
    "start_time": "2022-09-29T06:08:26.328Z"
   },
   {
    "duration": 18,
    "start_time": "2022-09-29T06:08:26.366Z"
   },
   {
    "duration": 50,
    "start_time": "2022-09-29T06:08:26.385Z"
   },
   {
    "duration": 5,
    "start_time": "2022-09-29T06:08:26.436Z"
   },
   {
    "duration": 16,
    "start_time": "2022-09-29T06:08:26.442Z"
   },
   {
    "duration": 5,
    "start_time": "2022-09-29T06:08:26.459Z"
   },
   {
    "duration": 1663,
    "start_time": "2022-09-29T06:08:26.465Z"
   },
   {
    "duration": 954,
    "start_time": "2022-09-29T06:08:28.130Z"
   },
   {
    "duration": 1390,
    "start_time": "2022-09-29T06:08:29.085Z"
   },
   {
    "duration": 4,
    "start_time": "2022-09-29T06:08:30.477Z"
   },
   {
    "duration": 14,
    "start_time": "2022-09-29T06:08:30.483Z"
   },
   {
    "duration": 5,
    "start_time": "2022-09-29T06:08:30.509Z"
   },
   {
    "duration": 42,
    "start_time": "2022-09-29T06:08:30.515Z"
   },
   {
    "duration": 52,
    "start_time": "2022-09-29T06:08:30.559Z"
   },
   {
    "duration": 561,
    "start_time": "2022-09-29T06:08:30.613Z"
   },
   {
    "duration": 10,
    "start_time": "2022-09-29T06:08:31.175Z"
   },
   {
    "duration": 12,
    "start_time": "2022-09-29T06:08:31.186Z"
   },
   {
    "duration": 450,
    "start_time": "2022-09-29T06:08:31.199Z"
   },
   {
    "duration": 99717,
    "start_time": "2022-09-29T06:08:31.651Z"
   },
   {
    "duration": 753,
    "start_time": "2022-09-29T06:10:11.370Z"
   },
   {
    "duration": 99,
    "start_time": "2022-09-29T06:10:12.210Z"
   },
   {
    "duration": 5,
    "start_time": "2022-09-29T06:10:12.311Z"
   },
   {
    "duration": 18,
    "start_time": "2022-09-29T06:10:12.317Z"
   },
   {
    "duration": 3,
    "start_time": "2022-09-29T06:10:12.336Z"
   },
   {
    "duration": 31070,
    "start_time": "2022-09-29T06:10:12.341Z"
   },
   {
    "duration": 7,
    "start_time": "2022-09-29T06:10:43.412Z"
   },
   {
    "duration": 128,
    "start_time": "2022-09-29T07:11:01.282Z"
   },
   {
    "duration": 9,
    "start_time": "2022-09-29T07:11:12.270Z"
   },
   {
    "duration": 10,
    "start_time": "2022-09-29T07:11:21.377Z"
   },
   {
    "duration": 14,
    "start_time": "2022-09-29T07:11:45.005Z"
   },
   {
    "duration": 80,
    "start_time": "2022-09-29T07:11:52.297Z"
   },
   {
    "duration": 26,
    "start_time": "2022-09-29T07:12:14.727Z"
   },
   {
    "duration": 6,
    "start_time": "2022-09-29T07:13:02.034Z"
   },
   {
    "duration": 22,
    "start_time": "2022-09-29T07:13:03.035Z"
   },
   {
    "duration": 6,
    "start_time": "2022-09-29T07:13:08.378Z"
   },
   {
    "duration": 25,
    "start_time": "2022-09-29T07:13:08.774Z"
   },
   {
    "duration": 3,
    "start_time": "2022-09-29T07:19:59.666Z"
   },
   {
    "duration": 1323,
    "start_time": "2022-09-29T07:21:27.155Z"
   },
   {
    "duration": 2,
    "start_time": "2022-09-29T07:21:28.480Z"
   },
   {
    "duration": 39,
    "start_time": "2022-09-29T07:21:28.483Z"
   },
   {
    "duration": 67,
    "start_time": "2022-09-29T07:21:28.523Z"
   },
   {
    "duration": 16,
    "start_time": "2022-09-29T07:21:28.593Z"
   },
   {
    "duration": 6,
    "start_time": "2022-09-29T07:21:28.610Z"
   },
   {
    "duration": 19,
    "start_time": "2022-09-29T07:21:28.617Z"
   },
   {
    "duration": 8,
    "start_time": "2022-09-29T07:21:28.638Z"
   },
   {
    "duration": 4,
    "start_time": "2022-09-29T07:21:28.648Z"
   },
   {
    "duration": 6,
    "start_time": "2022-09-29T07:21:28.653Z"
   },
   {
    "duration": 6,
    "start_time": "2022-09-29T07:21:28.660Z"
   },
   {
    "duration": 7,
    "start_time": "2022-09-29T07:21:28.667Z"
   },
   {
    "duration": 3,
    "start_time": "2022-09-29T07:21:28.709Z"
   },
   {
    "duration": 11,
    "start_time": "2022-09-29T07:21:28.715Z"
   },
   {
    "duration": 10,
    "start_time": "2022-09-29T07:21:28.727Z"
   },
   {
    "duration": 2419,
    "start_time": "2022-09-29T07:21:28.739Z"
   },
   {
    "duration": 38,
    "start_time": "2022-09-29T07:21:31.160Z"
   },
   {
    "duration": 26,
    "start_time": "2022-09-29T07:21:31.199Z"
   },
   {
    "duration": 28,
    "start_time": "2022-09-29T07:21:31.227Z"
   },
   {
    "duration": 5,
    "start_time": "2022-09-29T07:21:31.256Z"
   },
   {
    "duration": 20,
    "start_time": "2022-09-29T07:21:31.262Z"
   },
   {
    "duration": 14,
    "start_time": "2022-09-29T07:21:31.283Z"
   },
   {
    "duration": 1641,
    "start_time": "2022-09-29T07:21:31.299Z"
   },
   {
    "duration": 859,
    "start_time": "2022-09-29T07:21:32.942Z"
   },
   {
    "duration": 1329,
    "start_time": "2022-09-29T07:21:33.803Z"
   },
   {
    "duration": 3,
    "start_time": "2022-09-29T07:21:35.134Z"
   },
   {
    "duration": 6,
    "start_time": "2022-09-29T07:21:35.138Z"
   },
   {
    "duration": 3,
    "start_time": "2022-09-29T07:21:35.146Z"
   },
   {
    "duration": 23,
    "start_time": "2022-09-29T07:21:35.150Z"
   },
   {
    "duration": 38,
    "start_time": "2022-09-29T07:21:35.174Z"
   },
   {
    "duration": 550,
    "start_time": "2022-09-29T07:21:35.214Z"
   },
   {
    "duration": 10,
    "start_time": "2022-09-29T07:21:35.766Z"
   },
   {
    "duration": 10,
    "start_time": "2022-09-29T07:21:35.777Z"
   },
   {
    "duration": 474,
    "start_time": "2022-09-29T07:21:35.788Z"
   },
   {
    "duration": 97726,
    "start_time": "2022-09-29T07:21:36.264Z"
   },
   {
    "duration": 1127,
    "start_time": "2022-09-29T07:23:13.992Z"
   },
   {
    "duration": 12,
    "start_time": "2022-09-29T07:23:15.209Z"
   },
   {
    "duration": 9,
    "start_time": "2022-09-29T07:23:15.223Z"
   },
   {
    "duration": 12,
    "start_time": "2022-09-29T07:23:15.233Z"
   },
   {
    "duration": 5,
    "start_time": "2022-09-29T07:23:15.247Z"
   },
   {
    "duration": 83,
    "start_time": "2022-09-29T07:23:15.256Z"
   },
   {
    "duration": 4,
    "start_time": "2022-09-29T07:23:15.340Z"
   },
   {
    "duration": 6,
    "start_time": "2022-09-29T07:23:15.345Z"
   },
   {
    "duration": 32249,
    "start_time": "2022-09-29T07:23:15.352Z"
   },
   {
    "duration": 10,
    "start_time": "2022-09-29T07:23:47.603Z"
   },
   {
    "duration": 1324,
    "start_time": "2022-09-29T07:25:05.435Z"
   },
   {
    "duration": 2,
    "start_time": "2022-09-29T07:25:06.761Z"
   },
   {
    "duration": 39,
    "start_time": "2022-09-29T07:25:06.764Z"
   },
   {
    "duration": 70,
    "start_time": "2022-09-29T07:25:06.804Z"
   },
   {
    "duration": 3,
    "start_time": "2022-09-29T07:25:06.877Z"
   },
   {
    "duration": 31,
    "start_time": "2022-09-29T07:25:06.882Z"
   },
   {
    "duration": 19,
    "start_time": "2022-09-29T07:25:06.914Z"
   },
   {
    "duration": 10,
    "start_time": "2022-09-29T07:25:06.934Z"
   },
   {
    "duration": 5,
    "start_time": "2022-09-29T07:25:06.946Z"
   },
   {
    "duration": 25,
    "start_time": "2022-09-29T07:25:06.953Z"
   },
   {
    "duration": 19,
    "start_time": "2022-09-29T07:25:06.979Z"
   },
   {
    "duration": 11,
    "start_time": "2022-09-29T07:25:07.000Z"
   },
   {
    "duration": 4,
    "start_time": "2022-09-29T07:25:07.013Z"
   },
   {
    "duration": 10,
    "start_time": "2022-09-29T07:25:07.021Z"
   },
   {
    "duration": 9,
    "start_time": "2022-09-29T07:25:07.033Z"
   },
   {
    "duration": 2372,
    "start_time": "2022-09-29T07:25:07.044Z"
   },
   {
    "duration": 39,
    "start_time": "2022-09-29T07:25:09.418Z"
   },
   {
    "duration": 18,
    "start_time": "2022-09-29T07:25:09.458Z"
   },
   {
    "duration": 49,
    "start_time": "2022-09-29T07:25:09.477Z"
   },
   {
    "duration": 5,
    "start_time": "2022-09-29T07:25:09.527Z"
   },
   {
    "duration": 17,
    "start_time": "2022-09-29T07:25:09.533Z"
   },
   {
    "duration": 5,
    "start_time": "2022-09-29T07:25:09.551Z"
   },
   {
    "duration": 1731,
    "start_time": "2022-09-29T07:25:09.557Z"
   },
   {
    "duration": 843,
    "start_time": "2022-09-29T07:25:11.290Z"
   },
   {
    "duration": 1266,
    "start_time": "2022-09-29T07:25:12.134Z"
   },
   {
    "duration": 3,
    "start_time": "2022-09-29T07:25:13.402Z"
   },
   {
    "duration": 8,
    "start_time": "2022-09-29T07:25:13.406Z"
   },
   {
    "duration": 3,
    "start_time": "2022-09-29T07:25:13.416Z"
   },
   {
    "duration": 25,
    "start_time": "2022-09-29T07:25:13.420Z"
   },
   {
    "duration": 65,
    "start_time": "2022-09-29T07:25:13.447Z"
   },
   {
    "duration": 495,
    "start_time": "2022-09-29T07:25:13.514Z"
   },
   {
    "duration": 10,
    "start_time": "2022-09-29T07:25:14.010Z"
   },
   {
    "duration": 6,
    "start_time": "2022-09-29T07:25:14.022Z"
   },
   {
    "duration": 516,
    "start_time": "2022-09-29T07:25:14.029Z"
   },
   {
    "duration": 94383,
    "start_time": "2022-09-29T07:25:14.547Z"
   },
   {
    "duration": 1277,
    "start_time": "2022-09-29T07:26:48.932Z"
   },
   {
    "duration": 103,
    "start_time": "2022-09-29T07:26:50.211Z"
   },
   {
    "duration": 4,
    "start_time": "2022-09-29T07:26:50.316Z"
   },
   {
    "duration": 16,
    "start_time": "2022-09-29T07:26:50.322Z"
   },
   {
    "duration": 5,
    "start_time": "2022-09-29T07:26:50.340Z"
   },
   {
    "duration": 79,
    "start_time": "2022-09-29T07:26:50.348Z"
   },
   {
    "duration": 4,
    "start_time": "2022-09-29T07:26:50.428Z"
   },
   {
    "duration": 168854,
    "start_time": "2022-09-29T07:26:50.434Z"
   },
   {
    "duration": 128,
    "start_time": "2022-09-29T07:29:39.289Z"
   },
   {
    "duration": 0,
    "start_time": "2022-09-29T07:29:39.418Z"
   },
   {
    "duration": 0,
    "start_time": "2022-09-29T07:29:39.419Z"
   },
   {
    "duration": 0,
    "start_time": "2022-09-29T07:29:39.420Z"
   },
   {
    "duration": 2695,
    "start_time": "2022-09-29T07:36:04.538Z"
   },
   {
    "duration": 642,
    "start_time": "2022-09-29T07:36:51.784Z"
   },
   {
    "duration": 876,
    "start_time": "2022-09-29T07:37:11.796Z"
   },
   {
    "duration": 1443,
    "start_time": "2022-09-29T07:37:28.656Z"
   },
   {
    "duration": 3,
    "start_time": "2022-09-29T07:37:30.101Z"
   },
   {
    "duration": 50,
    "start_time": "2022-09-29T07:37:30.105Z"
   },
   {
    "duration": 69,
    "start_time": "2022-09-29T07:37:30.157Z"
   },
   {
    "duration": 3,
    "start_time": "2022-09-29T07:37:30.228Z"
   },
   {
    "duration": 11,
    "start_time": "2022-09-29T07:37:30.232Z"
   },
   {
    "duration": 25,
    "start_time": "2022-09-29T07:37:30.245Z"
   },
   {
    "duration": 10,
    "start_time": "2022-09-29T07:37:30.271Z"
   },
   {
    "duration": 18,
    "start_time": "2022-09-29T07:37:30.282Z"
   },
   {
    "duration": 23,
    "start_time": "2022-09-29T07:37:30.302Z"
   },
   {
    "duration": 35,
    "start_time": "2022-09-29T07:37:30.327Z"
   },
   {
    "duration": 30,
    "start_time": "2022-09-29T07:37:30.363Z"
   },
   {
    "duration": 11,
    "start_time": "2022-09-29T07:37:30.395Z"
   },
   {
    "duration": 16,
    "start_time": "2022-09-29T07:37:30.409Z"
   },
   {
    "duration": 23,
    "start_time": "2022-09-29T07:37:30.426Z"
   },
   {
    "duration": 2336,
    "start_time": "2022-09-29T07:37:30.451Z"
   },
   {
    "duration": 42,
    "start_time": "2022-09-29T07:37:32.789Z"
   },
   {
    "duration": 18,
    "start_time": "2022-09-29T07:37:32.832Z"
   },
   {
    "duration": 27,
    "start_time": "2022-09-29T07:37:32.852Z"
   },
   {
    "duration": 29,
    "start_time": "2022-09-29T07:37:32.880Z"
   },
   {
    "duration": 10,
    "start_time": "2022-09-29T07:37:32.910Z"
   },
   {
    "duration": 4,
    "start_time": "2022-09-29T07:37:32.922Z"
   },
   {
    "duration": 1712,
    "start_time": "2022-09-29T07:37:32.928Z"
   },
   {
    "duration": 807,
    "start_time": "2022-09-29T07:37:34.642Z"
   },
   {
    "duration": 1271,
    "start_time": "2022-09-29T07:37:35.450Z"
   },
   {
    "duration": 5,
    "start_time": "2022-09-29T07:37:36.722Z"
   },
   {
    "duration": 33,
    "start_time": "2022-09-29T07:37:36.729Z"
   },
   {
    "duration": 4,
    "start_time": "2022-09-29T07:37:36.763Z"
   },
   {
    "duration": 23,
    "start_time": "2022-09-29T07:37:36.768Z"
   },
   {
    "duration": 22,
    "start_time": "2022-09-29T07:37:36.792Z"
   },
   {
    "duration": 555,
    "start_time": "2022-09-29T07:37:36.815Z"
   },
   {
    "duration": 11,
    "start_time": "2022-09-29T07:37:37.372Z"
   },
   {
    "duration": 8,
    "start_time": "2022-09-29T07:37:37.384Z"
   },
   {
    "duration": 461,
    "start_time": "2022-09-29T07:37:37.393Z"
   },
   {
    "duration": 94157,
    "start_time": "2022-09-29T07:37:37.855Z"
   },
   {
    "duration": 1201,
    "start_time": "2022-09-29T07:39:12.013Z"
   },
   {
    "duration": 101,
    "start_time": "2022-09-29T07:39:13.216Z"
   },
   {
    "duration": 5,
    "start_time": "2022-09-29T07:39:13.318Z"
   },
   {
    "duration": 13,
    "start_time": "2022-09-29T07:39:13.325Z"
   },
   {
    "duration": 5,
    "start_time": "2022-09-29T07:39:13.339Z"
   },
   {
    "duration": 76,
    "start_time": "2022-09-29T07:39:13.347Z"
   },
   {
    "duration": 4,
    "start_time": "2022-09-29T07:39:13.424Z"
   },
   {
    "duration": 1098,
    "start_time": "2022-09-29T07:39:13.430Z"
   },
   {
    "duration": 149,
    "start_time": "2022-09-29T07:39:14.530Z"
   },
   {
    "duration": 0,
    "start_time": "2022-09-29T07:39:14.680Z"
   },
   {
    "duration": 0,
    "start_time": "2022-09-29T07:39:14.684Z"
   },
   {
    "duration": 0,
    "start_time": "2022-09-29T07:39:14.685Z"
   },
   {
    "duration": 534,
    "start_time": "2022-09-29T07:39:32.505Z"
   },
   {
    "duration": 549,
    "start_time": "2022-09-29T07:40:07.963Z"
   },
   {
    "duration": 669,
    "start_time": "2022-09-29T07:40:19.542Z"
   },
   {
    "duration": 588,
    "start_time": "2022-09-29T07:40:26.219Z"
   },
   {
    "duration": 597,
    "start_time": "2022-09-29T07:40:44.458Z"
   },
   {
    "duration": 13219,
    "start_time": "2022-09-29T07:42:09.358Z"
   },
   {
    "duration": 812,
    "start_time": "2022-09-29T07:42:57.498Z"
   },
   {
    "duration": 768,
    "start_time": "2022-09-29T07:43:26.800Z"
   },
   {
    "duration": 1465,
    "start_time": "2022-09-29T07:44:00.344Z"
   },
   {
    "duration": 565,
    "start_time": "2022-09-29T07:44:36.220Z"
   },
   {
    "duration": 1516,
    "start_time": "2022-09-29T07:45:12.687Z"
   },
   {
    "duration": 924,
    "start_time": "2022-09-29T07:45:44.300Z"
   },
   {
    "duration": 1019,
    "start_time": "2022-09-29T07:46:34.178Z"
   },
   {
    "duration": 1023,
    "start_time": "2022-09-29T07:49:57.718Z"
   },
   {
    "duration": 957,
    "start_time": "2022-09-29T07:50:34.243Z"
   },
   {
    "duration": 882,
    "start_time": "2022-09-29T07:51:16.319Z"
   },
   {
    "duration": 892,
    "start_time": "2022-09-29T07:51:21.501Z"
   },
   {
    "duration": 993,
    "start_time": "2022-09-29T07:51:30.999Z"
   },
   {
    "duration": 793,
    "start_time": "2022-09-29T07:56:58.221Z"
   },
   {
    "duration": 2649,
    "start_time": "2022-09-29T07:57:41.582Z"
   },
   {
    "duration": 2543,
    "start_time": "2022-09-29T07:58:10.215Z"
   },
   {
    "duration": 13713,
    "start_time": "2022-09-29T07:59:10.491Z"
   },
   {
    "duration": 673,
    "start_time": "2022-09-29T08:04:10.404Z"
   },
   {
    "duration": 734,
    "start_time": "2022-09-29T08:04:23.905Z"
   },
   {
    "duration": 900,
    "start_time": "2022-09-29T08:06:17.657Z"
   },
   {
    "duration": 1090,
    "start_time": "2022-09-29T08:06:42.343Z"
   },
   {
    "duration": 1006,
    "start_time": "2022-09-29T08:06:55.884Z"
   },
   {
    "duration": 3,
    "start_time": "2022-09-29T08:07:53.712Z"
   },
   {
    "duration": 31239,
    "start_time": "2022-09-29T08:07:54.191Z"
   },
   {
    "duration": 55,
    "start_time": "2022-09-29T08:11:29.923Z"
   },
   {
    "duration": 1861,
    "start_time": "2022-09-29T13:05:29.658Z"
   },
   {
    "duration": 2,
    "start_time": "2022-09-29T13:05:31.521Z"
   },
   {
    "duration": 144,
    "start_time": "2022-09-29T13:05:31.525Z"
   },
   {
    "duration": 69,
    "start_time": "2022-09-29T13:05:31.671Z"
   },
   {
    "duration": 2,
    "start_time": "2022-09-29T13:05:31.742Z"
   },
   {
    "duration": 7,
    "start_time": "2022-09-29T13:05:31.746Z"
   },
   {
    "duration": 18,
    "start_time": "2022-09-29T13:05:31.755Z"
   },
   {
    "duration": 9,
    "start_time": "2022-09-29T13:05:31.775Z"
   },
   {
    "duration": 6,
    "start_time": "2022-09-29T13:05:31.785Z"
   },
   {
    "duration": 30,
    "start_time": "2022-09-29T13:05:31.793Z"
   },
   {
    "duration": 47,
    "start_time": "2022-09-29T13:05:31.825Z"
   },
   {
    "duration": 9,
    "start_time": "2022-09-29T13:05:31.874Z"
   },
   {
    "duration": 18,
    "start_time": "2022-09-29T13:05:31.884Z"
   },
   {
    "duration": 19,
    "start_time": "2022-09-29T13:05:31.904Z"
   },
   {
    "duration": 9,
    "start_time": "2022-09-29T13:05:31.925Z"
   },
   {
    "duration": 2354,
    "start_time": "2022-09-29T13:05:31.936Z"
   },
   {
    "duration": 44,
    "start_time": "2022-09-29T13:05:34.291Z"
   },
   {
    "duration": 18,
    "start_time": "2022-09-29T13:05:34.336Z"
   },
   {
    "duration": 28,
    "start_time": "2022-09-29T13:05:34.355Z"
   },
   {
    "duration": 4,
    "start_time": "2022-09-29T13:05:34.384Z"
   },
   {
    "duration": 32,
    "start_time": "2022-09-29T13:05:34.389Z"
   },
   {
    "duration": 4,
    "start_time": "2022-09-29T13:05:34.423Z"
   },
   {
    "duration": 1692,
    "start_time": "2022-09-29T13:05:34.429Z"
   },
   {
    "duration": 837,
    "start_time": "2022-09-29T13:05:36.123Z"
   },
   {
    "duration": 1385,
    "start_time": "2022-09-29T13:05:36.963Z"
   },
   {
    "duration": 4,
    "start_time": "2022-09-29T13:05:38.350Z"
   },
   {
    "duration": 8,
    "start_time": "2022-09-29T13:05:38.356Z"
   },
   {
    "duration": 4,
    "start_time": "2022-09-29T13:05:38.366Z"
   },
   {
    "duration": 33,
    "start_time": "2022-09-29T13:05:38.372Z"
   },
   {
    "duration": 19,
    "start_time": "2022-09-29T13:05:38.406Z"
   },
   {
    "duration": 519,
    "start_time": "2022-09-29T13:05:38.426Z"
   },
   {
    "duration": 10,
    "start_time": "2022-09-29T13:05:38.946Z"
   },
   {
    "duration": 6,
    "start_time": "2022-09-29T13:05:38.958Z"
   },
   {
    "duration": 521,
    "start_time": "2022-09-29T13:05:38.965Z"
   },
   {
    "duration": 99714,
    "start_time": "2022-09-29T13:05:39.488Z"
   },
   {
    "duration": 1218,
    "start_time": "2022-09-29T13:07:19.204Z"
   },
   {
    "duration": 11,
    "start_time": "2022-09-29T13:07:20.424Z"
   },
   {
    "duration": 86,
    "start_time": "2022-09-29T13:07:20.437Z"
   },
   {
    "duration": 18,
    "start_time": "2022-09-29T13:07:20.524Z"
   },
   {
    "duration": 5,
    "start_time": "2022-09-29T13:07:20.544Z"
   },
   {
    "duration": 72,
    "start_time": "2022-09-29T13:07:20.551Z"
   },
   {
    "duration": 1149,
    "start_time": "2022-09-29T13:07:20.625Z"
   },
   {
    "duration": 1177,
    "start_time": "2022-09-29T13:07:21.776Z"
   },
   {
    "duration": 8,
    "start_time": "2022-09-29T13:07:22.954Z"
   }
  ],
  "kernelspec": {
   "display_name": "Python 3 (ipykernel)",
   "language": "python",
   "name": "python3"
  },
  "language_info": {
   "codemirror_mode": {
    "name": "ipython",
    "version": 3
   },
   "file_extension": ".py",
   "mimetype": "text/x-python",
   "name": "python",
   "nbconvert_exporter": "python",
   "pygments_lexer": "ipython3",
   "version": "3.9.7"
  },
  "toc": {
   "base_numbering": 1,
   "nav_menu": {},
   "number_sections": true,
   "sideBar": true,
   "skip_h1_title": true,
   "title_cell": "Table of Contents",
   "title_sidebar": "Contents",
   "toc_cell": false,
   "toc_position": {
    "height": "calc(100% - 180px)",
    "left": "10px",
    "top": "150px",
    "width": "408.875px"
   },
   "toc_section_display": true,
   "toc_window_display": true
  }
 },
 "nbformat": 4,
 "nbformat_minor": 2
}
