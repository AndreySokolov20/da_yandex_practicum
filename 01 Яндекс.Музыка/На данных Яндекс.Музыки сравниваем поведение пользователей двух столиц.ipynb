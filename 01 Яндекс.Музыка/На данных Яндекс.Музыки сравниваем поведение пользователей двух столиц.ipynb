{
 "cells": [
  {
   "cell_type": "markdown",
   "metadata": {
    "id": "E0vqbgi9ay0H"
   },
   "source": [
    "# Яндекс.Музыка"
   ]
  },
  {
   "cell_type": "markdown",
   "metadata": {
    "id": "VUC88oWjTJw2"
   },
   "source": [
    "На данных Яндекс.Музыки сравниваем поведение пользователей двух столиц.\n",
    " * Москва — мегаполис, подчинённый жёсткому ритму рабочей недели;\n",
    " * Петербург — культурная столица, со своими вкусами.\n",
    "\n",
    "**Цель исследования** — проверить три гипотезы:\n",
    "1. Активность пользователей зависит от дня недели. Причём в Москве и Петербурге это проявляется по-разному.\n",
    "2. В понедельник утром в Москве преобладают одни жанры, а в Петербурге — другие. Так же и вечером пятницы преобладают разные жанры — в зависимости от города. \n",
    "3. Москва и Петербург предпочитают разные жанры музыки. В Москве чаще слушают поп-музыку, в Петербурге — русский рэп.\n",
    "\n",
    "**Ход исследования**\n",
    "\n",
    "Данные о поведении пользователей получим из файла `yandex_music_project.csv`. О качестве данных ничего не известно. Поэтому перед проверкой гипотез понадобится обзор данных. \n",
    "\n",
    "Проверим данные на ошибки и оценим их влияние на исследование. Затем, на этапе предобработки поищем возможность исправить самые критичные ошибки данных.\n",
    " \n",
    "Исследование пройдёт в три этапа:\n",
    " 1. Обзор данных.\n",
    " 2. Предобработка данных.\n",
    " 3. Проверка гипотез."
   ]
  },
  {
   "cell_type": "markdown",
   "metadata": {
    "id": "Ml1hmfXC_Zcs"
   },
   "source": [
    "## Обзор данных"
   ]
  },
  {
   "cell_type": "code",
   "execution_count": 1,
   "metadata": {
    "id": "AXN7PHPN_Zcs"
   },
   "outputs": [],
   "source": [
    "import pandas as pd # импорт библиотеки pandas"
   ]
  },
  {
   "cell_type": "code",
   "execution_count": 2,
   "metadata": {
    "id": "fFVu7vqh_Zct"
   },
   "outputs": [],
   "source": [
    "df = pd.read_csv('/datasets/yandex_music_project.csv') # чтение файла с данными и сохранение в df"
   ]
  },
  {
   "cell_type": "code",
   "execution_count": 3,
   "metadata": {
    "id": "oWTVX3gW_Zct"
   },
   "outputs": [
    {
     "data": {
      "text/html": [
       "<div>\n",
       "<style scoped>\n",
       "    .dataframe tbody tr th:only-of-type {\n",
       "        vertical-align: middle;\n",
       "    }\n",
       "\n",
       "    .dataframe tbody tr th {\n",
       "        vertical-align: top;\n",
       "    }\n",
       "\n",
       "    .dataframe thead th {\n",
       "        text-align: right;\n",
       "    }\n",
       "</style>\n",
       "<table border=\"1\" class=\"dataframe\">\n",
       "  <thead>\n",
       "    <tr style=\"text-align: right;\">\n",
       "      <th></th>\n",
       "      <th>userID</th>\n",
       "      <th>Track</th>\n",
       "      <th>artist</th>\n",
       "      <th>genre</th>\n",
       "      <th>City</th>\n",
       "      <th>time</th>\n",
       "      <th>Day</th>\n",
       "    </tr>\n",
       "  </thead>\n",
       "  <tbody>\n",
       "    <tr>\n",
       "      <th>0</th>\n",
       "      <td>FFB692EC</td>\n",
       "      <td>Kamigata To Boots</td>\n",
       "      <td>The Mass Missile</td>\n",
       "      <td>rock</td>\n",
       "      <td>Saint-Petersburg</td>\n",
       "      <td>20:28:33</td>\n",
       "      <td>Wednesday</td>\n",
       "    </tr>\n",
       "    <tr>\n",
       "      <th>1</th>\n",
       "      <td>55204538</td>\n",
       "      <td>Delayed Because of Accident</td>\n",
       "      <td>Andreas Rönnberg</td>\n",
       "      <td>rock</td>\n",
       "      <td>Moscow</td>\n",
       "      <td>14:07:09</td>\n",
       "      <td>Friday</td>\n",
       "    </tr>\n",
       "    <tr>\n",
       "      <th>2</th>\n",
       "      <td>20EC38</td>\n",
       "      <td>Funiculì funiculà</td>\n",
       "      <td>Mario Lanza</td>\n",
       "      <td>pop</td>\n",
       "      <td>Saint-Petersburg</td>\n",
       "      <td>20:58:07</td>\n",
       "      <td>Wednesday</td>\n",
       "    </tr>\n",
       "    <tr>\n",
       "      <th>3</th>\n",
       "      <td>A3DD03C9</td>\n",
       "      <td>Dragons in the Sunset</td>\n",
       "      <td>Fire + Ice</td>\n",
       "      <td>folk</td>\n",
       "      <td>Saint-Petersburg</td>\n",
       "      <td>08:37:09</td>\n",
       "      <td>Monday</td>\n",
       "    </tr>\n",
       "    <tr>\n",
       "      <th>4</th>\n",
       "      <td>E2DC1FAE</td>\n",
       "      <td>Soul People</td>\n",
       "      <td>Space Echo</td>\n",
       "      <td>dance</td>\n",
       "      <td>Moscow</td>\n",
       "      <td>08:34:34</td>\n",
       "      <td>Monday</td>\n",
       "    </tr>\n",
       "    <tr>\n",
       "      <th>5</th>\n",
       "      <td>842029A1</td>\n",
       "      <td>Преданная</td>\n",
       "      <td>IMPERVTOR</td>\n",
       "      <td>rusrap</td>\n",
       "      <td>Saint-Petersburg</td>\n",
       "      <td>13:09:41</td>\n",
       "      <td>Friday</td>\n",
       "    </tr>\n",
       "    <tr>\n",
       "      <th>6</th>\n",
       "      <td>4CB90AA5</td>\n",
       "      <td>True</td>\n",
       "      <td>Roman Messer</td>\n",
       "      <td>dance</td>\n",
       "      <td>Moscow</td>\n",
       "      <td>13:00:07</td>\n",
       "      <td>Wednesday</td>\n",
       "    </tr>\n",
       "    <tr>\n",
       "      <th>7</th>\n",
       "      <td>F03E1C1F</td>\n",
       "      <td>Feeling This Way</td>\n",
       "      <td>Polina Griffith</td>\n",
       "      <td>dance</td>\n",
       "      <td>Moscow</td>\n",
       "      <td>20:47:49</td>\n",
       "      <td>Wednesday</td>\n",
       "    </tr>\n",
       "    <tr>\n",
       "      <th>8</th>\n",
       "      <td>8FA1D3BE</td>\n",
       "      <td>И вновь продолжается бой</td>\n",
       "      <td>NaN</td>\n",
       "      <td>ruspop</td>\n",
       "      <td>Moscow</td>\n",
       "      <td>09:17:40</td>\n",
       "      <td>Friday</td>\n",
       "    </tr>\n",
       "    <tr>\n",
       "      <th>9</th>\n",
       "      <td>E772D5C0</td>\n",
       "      <td>Pessimist</td>\n",
       "      <td>NaN</td>\n",
       "      <td>dance</td>\n",
       "      <td>Saint-Petersburg</td>\n",
       "      <td>21:20:49</td>\n",
       "      <td>Wednesday</td>\n",
       "    </tr>\n",
       "  </tbody>\n",
       "</table>\n",
       "</div>"
      ],
      "text/plain": [
       "     userID                        Track            artist   genre  \\\n",
       "0  FFB692EC            Kamigata To Boots  The Mass Missile    rock   \n",
       "1  55204538  Delayed Because of Accident  Andreas Rönnberg    rock   \n",
       "2    20EC38            Funiculì funiculà       Mario Lanza     pop   \n",
       "3  A3DD03C9        Dragons in the Sunset        Fire + Ice    folk   \n",
       "4  E2DC1FAE                  Soul People        Space Echo   dance   \n",
       "5  842029A1                    Преданная         IMPERVTOR  rusrap   \n",
       "6  4CB90AA5                         True      Roman Messer   dance   \n",
       "7  F03E1C1F             Feeling This Way   Polina Griffith   dance   \n",
       "8  8FA1D3BE     И вновь продолжается бой               NaN  ruspop   \n",
       "9  E772D5C0                    Pessimist               NaN   dance   \n",
       "\n",
       "             City        time        Day  \n",
       "0  Saint-Petersburg  20:28:33  Wednesday  \n",
       "1            Moscow  14:07:09     Friday  \n",
       "2  Saint-Petersburg  20:58:07  Wednesday  \n",
       "3  Saint-Petersburg  08:37:09     Monday  \n",
       "4            Moscow  08:34:34     Monday  \n",
       "5  Saint-Petersburg  13:09:41     Friday  \n",
       "6            Moscow  13:00:07  Wednesday  \n",
       "7            Moscow  20:47:49  Wednesday  \n",
       "8            Moscow  09:17:40     Friday  \n",
       "9  Saint-Petersburg  21:20:49  Wednesday  "
      ]
     },
     "execution_count": 3,
     "metadata": {},
     "output_type": "execute_result"
    }
   ],
   "source": [
    "df.head(10) # получение первых 10 строк таблицы df"
   ]
  },
  {
   "cell_type": "code",
   "execution_count": 4,
   "metadata": {
    "id": "DSf2kIb-_Zct"
   },
   "outputs": [
    {
     "name": "stdout",
     "output_type": "stream",
     "text": [
      "<class 'pandas.core.frame.DataFrame'>\n",
      "RangeIndex: 65079 entries, 0 to 65078\n",
      "Data columns (total 7 columns):\n",
      " #   Column    Non-Null Count  Dtype \n",
      "---  ------    --------------  ----- \n",
      " 0     userID  65079 non-null  object\n",
      " 1   Track     63848 non-null  object\n",
      " 2   artist    57876 non-null  object\n",
      " 3   genre     63881 non-null  object\n",
      " 4     City    65079 non-null  object\n",
      " 5   time      65079 non-null  object\n",
      " 6   Day       65079 non-null  object\n",
      "dtypes: object(7)\n",
      "memory usage: 3.5+ MB\n"
     ]
    }
   ],
   "source": [
    "df.info() # получение общей информации о данных в таблице df"
   ]
  },
  {
   "cell_type": "markdown",
   "metadata": {
    "id": "TaQ2Iwbr_Zct"
   },
   "source": [
    "Итак, в таблице семь столбцов. Тип данных во всех столбцах — `object`.\n",
    "\n",
    "Согласно документации к данным:\n",
    "* `userID` — идентификатор пользователя;\n",
    "* `Track` — название трека;  \n",
    "* `artist` — имя исполнителя;\n",
    "* `genre` — название жанра;\n",
    "* `City` — город пользователя;\n",
    "* `time` — время начала прослушивания;\n",
    "* `Day` — день недели.\n",
    "\n",
    "В названиях колонок видны три нарушения стиля:\n",
    "1. Строчные буквы сочетаются с прописными.\n",
    "2. Встречаются пробелы.\n",
    "3. Слова написаны слитно.\n",
    "\n",
    "\n",
    "\n",
    "Количество значений в столбцах различается. Значит, в данных есть пропущенные значения.\n"
   ]
  },
  {
   "cell_type": "markdown",
   "metadata": {
    "id": "MCB6-dXG_Zct"
   },
   "source": [
    "**Выводы**\n",
    "\n",
    "В каждой строке таблицы — данные о прослушанном треке. Часть колонок описывает саму композицию: название, исполнителя и жанр. Остальные данные рассказывают о пользователе: из какого он города, когда он слушал музыку. \n",
    "\n",
    "Предварительно можно утверждать, что, данных достаточно для проверки гипотез. Но встречаются пропуски в данных, а в названиях колонок — расхождения с хорошим стилем.\n",
    "\n",
    "Чтобы двигаться дальше, нужно устранить проблемы в данных."
   ]
  },
  {
   "cell_type": "markdown",
   "metadata": {
    "id": "SjYF6Ub9_Zct"
   },
   "source": [
    "## Предобработка данных\n",
    "Исправьте стиль в заголовках столбцов, исключите пропуски. Затем проверьте данные на дубликаты."
   ]
  },
  {
   "cell_type": "markdown",
   "metadata": {
    "id": "dIaKXr29_Zct"
   },
   "source": [
    "### Стиль заголовков"
   ]
  },
  {
   "cell_type": "code",
   "execution_count": 5,
   "metadata": {
    "id": "oKOTdF_Q_Zct"
   },
   "outputs": [
    {
     "data": {
      "text/plain": [
       "Index(['  userID', 'Track', 'artist', 'genre', '  City  ', 'time', 'Day'], dtype='object')"
      ]
     },
     "execution_count": 5,
     "metadata": {},
     "output_type": "execute_result"
    }
   ],
   "source": [
    "df.columns # перечень названий столбцов таблицы df"
   ]
  },
  {
   "cell_type": "markdown",
   "metadata": {
    "id": "zj5534cv_Zct"
   },
   "source": [
    "Приведите названия в соответствие с хорошим стилем:\n",
    "* несколько слов в названии запишите в «змеином_регистре»,\n",
    "* все символы сделайте строчными,\n",
    "* устраните пробелы.\n",
    "\n",
    "Для этого переименуйте колонки так:\n",
    "* `'  userID'` → `'user_id'`;\n",
    "* `'Track'` → `'track'`;\n",
    "* `'  City  '` → `'city'`;\n",
    "* `'Day'` → `'day'`."
   ]
  },
  {
   "cell_type": "code",
   "execution_count": 6,
   "metadata": {
    "id": "ISlFqs5y_Zct"
   },
   "outputs": [],
   "source": [
    "df = df.rename(\n",
    "    columns={\n",
    "        '  userID': 'user_id',\n",
    "        'Track': 'track',\n",
    "        '  City  ': 'city',\n",
    "        'Day': 'day',\n",
    "    }\n",
    ") # переименование столбцов"
   ]
  },
  {
   "cell_type": "markdown",
   "metadata": {
    "id": "1dqbh00J_Zct"
   },
   "source": [
    "Проверьте результат. Для этого ещё раз выведите на экран названия столбцов:"
   ]
  },
  {
   "cell_type": "code",
   "execution_count": 7,
   "metadata": {
    "id": "d4NOAmTW_Zct"
   },
   "outputs": [
    {
     "data": {
      "text/plain": [
       "Index(['user_id', 'track', 'artist', 'genre', 'city', 'time', 'day'], dtype='object')"
      ]
     },
     "execution_count": 7,
     "metadata": {},
     "output_type": "execute_result"
    }
   ],
   "source": [
    "df.columns # проверка результатов - перечень названий столбцов"
   ]
  },
  {
   "cell_type": "markdown",
   "metadata": {
    "id": "5ISfbcfY_Zct"
   },
   "source": [
    "### Пропуски значений"
   ]
  },
  {
   "cell_type": "code",
   "execution_count": 8,
   "metadata": {
    "id": "RskX29qr_Zct"
   },
   "outputs": [
    {
     "data": {
      "text/plain": [
       "user_id       0\n",
       "track      1231\n",
       "artist     7203\n",
       "genre      1198\n",
       "city          0\n",
       "time          0\n",
       "day           0\n",
       "dtype: int64"
      ]
     },
     "execution_count": 8,
     "metadata": {},
     "output_type": "execute_result"
    }
   ],
   "source": [
    "df.isna().sum()  # подсчёт пропусков"
   ]
  },
  {
   "cell_type": "markdown",
   "metadata": {
    "id": "qubhgnlO_Zct"
   },
   "source": [
    "Не все пропущенные значения влияют на исследование. Так в `track` и `artist` пропуски не важны для нашей работы. Достаточно заменить их явными обозначениями.\n",
    "\n",
    "Но пропуски в `genre` могут помешать сравнению музыкальных вкусов в Москве и Санкт-Петербурге. На практике было бы правильно установить причину пропусков и восстановить данные. Такой возможности у нас нет. Придётся:\n",
    "* заполнить и эти пропуски явными обозначениями,\n",
    "* оценить, насколько они повредят расчётам. "
   ]
  },
  {
   "cell_type": "markdown",
   "metadata": {
    "id": "fSv2laPA_Zct"
   },
   "source": [
    "Заменим пропущенные значения в столбцах `track`, `artist` и `genre` на строку `'unknown'`. Для этого создадим список `columns_to_replace`, переберем его элементы циклом `for` и для каждого столбца выполним замену пропущенных значений:"
   ]
  },
  {
   "cell_type": "code",
   "execution_count": 9,
   "metadata": {
    "id": "KplB5qWs_Zct"
   },
   "outputs": [],
   "source": [
    "columns_to_replace = ['track', 'artist','genre']\n",
    "for column in columns_to_replace:\n",
    "    df[column] = df[column].fillna('unknown') # перебор названий столбцов в цикле и замена пропущенных значений на 'unknown'"
   ]
  },
  {
   "cell_type": "markdown",
   "metadata": {
    "id": "Ilsm-MZo_Zct"
   },
   "source": [
    "Убедимся, что в таблице не осталось пропусков. Для этого ещё раз посчитаем пропущенные значения."
   ]
  },
  {
   "cell_type": "code",
   "execution_count": 10,
   "metadata": {
    "id": "Tq4nYRX4_Zct"
   },
   "outputs": [
    {
     "name": "stdout",
     "output_type": "stream",
     "text": [
      "user_id    0\n",
      "track      0\n",
      "artist     0\n",
      "genre      0\n",
      "city       0\n",
      "time       0\n",
      "day        0\n",
      "dtype: int64\n"
     ]
    }
   ],
   "source": [
    "print(df.isna().sum()) # подсчёт пропусков"
   ]
  },
  {
   "cell_type": "markdown",
   "metadata": {
    "id": "BWKRtBJ3_Zct"
   },
   "source": [
    "### Дубликаты"
   ]
  },
  {
   "cell_type": "code",
   "execution_count": 11,
   "metadata": {
    "id": "36eES_S0_Zct"
   },
   "outputs": [
    {
     "data": {
      "text/plain": [
       "3826"
      ]
     },
     "execution_count": 11,
     "metadata": {},
     "output_type": "execute_result"
    }
   ],
   "source": [
    "df.duplicated().sum() # подсчёт явных дубликатов"
   ]
  },
  {
   "cell_type": "markdown",
   "metadata": {
    "id": "Ot25h6XR_Zct"
   },
   "source": [
    "Удалим явные дубликаты:"
   ]
  },
  {
   "cell_type": "code",
   "execution_count": 12,
   "metadata": {
    "id": "exFHq6tt_Zct"
   },
   "outputs": [],
   "source": [
    "df = df.drop_duplicates().reset_index(drop=True) # удаление явных дубликатов (с удалением старых индексов и формированием новых)"
   ]
  },
  {
   "cell_type": "markdown",
   "metadata": {
    "id": "Im2YwBEG_Zct"
   },
   "source": [
    "Убедимся, что полностью от них избавились:"
   ]
  },
  {
   "cell_type": "code",
   "execution_count": 13,
   "metadata": {
    "id": "-8PuNWQ0_Zct"
   },
   "outputs": [
    {
     "name": "stdout",
     "output_type": "stream",
     "text": [
      "0\n"
     ]
    }
   ],
   "source": [
    "print(df.duplicated().sum()) # проверка на отсутствие дубликатов"
   ]
  },
  {
   "cell_type": "markdown",
   "metadata": {
    "id": "QlFBsxAr_Zct"
   },
   "source": [
    "Теперь избавимся от неявных дубликатов в колонке `genre`. Например, название одного и того же жанра может быть записано немного по-разному. Такие ошибки тоже повлияют на результат исследования."
   ]
  },
  {
   "cell_type": "markdown",
   "metadata": {
    "id": "eSjWwsOh_Zct"
   },
   "source": [
    "Выведим на экран список уникальных названий жанров, отсортированный в алфавитном порядке. Для этого:\n",
    "* извлеките нужный столбец датафрейма, \n",
    "* примените к нему метод сортировки,\n",
    "* для отсортированного столбца вызовите метод, который вернёт уникальные значения из столбца."
   ]
  },
  {
   "cell_type": "code",
   "execution_count": 14,
   "metadata": {
    "id": "JIUcqzZN_Zct"
   },
   "outputs": [
    {
     "data": {
      "text/plain": [
       "array(['acid', 'acoustic', 'action', 'adult', 'africa', 'afrikaans',\n",
       "       'alternative', 'alternativepunk', 'ambient', 'americana',\n",
       "       'animated', 'anime', 'arabesk', 'arabic', 'arena',\n",
       "       'argentinetango', 'art', 'audiobook', 'author', 'avantgarde',\n",
       "       'axé', 'baile', 'balkan', 'beats', 'bigroom', 'black', 'bluegrass',\n",
       "       'blues', 'bollywood', 'bossa', 'brazilian', 'breakbeat', 'breaks',\n",
       "       'broadway', 'cantautori', 'cantopop', 'canzone', 'caribbean',\n",
       "       'caucasian', 'celtic', 'chamber', 'chanson', 'children', 'chill',\n",
       "       'chinese', 'choral', 'christian', 'christmas', 'classical',\n",
       "       'classicmetal', 'club', 'colombian', 'comedy', 'conjazz',\n",
       "       'contemporary', 'country', 'cuban', 'dance', 'dancehall',\n",
       "       'dancepop', 'dark', 'death', 'deep', 'deutschrock', 'deutschspr',\n",
       "       'dirty', 'disco', 'dnb', 'documentary', 'downbeat', 'downtempo',\n",
       "       'drum', 'dub', 'dubstep', 'eastern', 'easy', 'electronic',\n",
       "       'electropop', 'emo', 'entehno', 'epicmetal', 'estrada', 'ethnic',\n",
       "       'eurofolk', 'european', 'experimental', 'extrememetal', 'fado',\n",
       "       'fairytail', 'film', 'fitness', 'flamenco', 'folk', 'folklore',\n",
       "       'folkmetal', 'folkrock', 'folktronica', 'forró', 'frankreich',\n",
       "       'französisch', 'french', 'funk', 'future', 'gangsta', 'garage',\n",
       "       'german', 'ghazal', 'gitarre', 'glitch', 'gospel', 'gothic',\n",
       "       'grime', 'grunge', 'gypsy', 'handsup', \"hard'n'heavy\", 'hardcore',\n",
       "       'hardstyle', 'hardtechno', 'hip', 'hip-hop', 'hiphop',\n",
       "       'historisch', 'holiday', 'hop', 'horror', 'house', 'hymn', 'idm',\n",
       "       'independent', 'indian', 'indie', 'indipop', 'industrial',\n",
       "       'inspirational', 'instrumental', 'international', 'irish', 'jam',\n",
       "       'japanese', 'jazz', 'jewish', 'jpop', 'jungle', 'k-pop',\n",
       "       'karadeniz', 'karaoke', 'kayokyoku', 'korean', 'laiko', 'latin',\n",
       "       'latino', 'leftfield', 'local', 'lounge', 'loungeelectronic',\n",
       "       'lovers', 'malaysian', 'mandopop', 'marschmusik', 'meditative',\n",
       "       'mediterranean', 'melodic', 'metal', 'metalcore', 'mexican',\n",
       "       'middle', 'minimal', 'miscellaneous', 'modern', 'mood', 'mpb',\n",
       "       'muslim', 'native', 'neoklassik', 'neue', 'new', 'newage',\n",
       "       'newwave', 'nu', 'nujazz', 'numetal', 'oceania', 'old', 'opera',\n",
       "       'orchestral', 'other', 'piano', 'podcasts', 'pop', 'popdance',\n",
       "       'popelectronic', 'popeurodance', 'poprussian', 'post',\n",
       "       'posthardcore', 'postrock', 'power', 'progmetal', 'progressive',\n",
       "       'psychedelic', 'punjabi', 'punk', 'quebecois', 'ragga', 'ram',\n",
       "       'rancheras', 'rap', 'rave', 'reggae', 'reggaeton', 'regional',\n",
       "       'relax', 'religious', 'retro', 'rhythm', 'rnb', 'rnr', 'rock',\n",
       "       'rockabilly', 'rockalternative', 'rockindie', 'rockother',\n",
       "       'romance', 'roots', 'ruspop', 'rusrap', 'rusrock', 'russian',\n",
       "       'salsa', 'samba', 'scenic', 'schlager', 'self', 'sertanejo',\n",
       "       'shanson', 'shoegazing', 'showtunes', 'singer', 'ska', 'skarock',\n",
       "       'slow', 'smooth', 'soft', 'soul', 'soulful', 'sound', 'soundtrack',\n",
       "       'southern', 'specialty', 'speech', 'spiritual', 'sport',\n",
       "       'stonerrock', 'surf', 'swing', 'synthpop', 'synthrock',\n",
       "       'sängerportrait', 'tango', 'tanzorchester', 'taraftar', 'tatar',\n",
       "       'tech', 'techno', 'teen', 'thrash', 'top', 'traditional',\n",
       "       'tradjazz', 'trance', 'tribal', 'trip', 'triphop', 'tropical',\n",
       "       'türk', 'türkçe', 'ukrrock', 'unknown', 'urban', 'uzbek',\n",
       "       'variété', 'vi', 'videogame', 'vocal', 'western', 'world',\n",
       "       'worldbeat', 'ïîï', 'электроника'], dtype=object)"
      ]
     },
     "execution_count": 14,
     "metadata": {},
     "output_type": "execute_result"
    }
   ],
   "source": [
    "df.sort_values(by='genre')['genre'].unique() # Просмотр уникальных названий жанров"
   ]
  },
  {
   "cell_type": "markdown",
   "metadata": {
    "id": "qej-Qmuo_Zct"
   },
   "source": [
    "Просмотрим список и найдем неявные дубликаты названия `hiphop`. Это могут быть названия с ошибками или альтернативные названия того же жанра.\n",
    "\n",
    "Следующие неявные дубликаты:\n",
    "* *hip*,\n",
    "* *hop*,\n",
    "* *hip-hop*.\n",
    "\n",
    "Чтобы очистить от них таблицу, напишим функцию `replace_wrong_genres()` с двумя параметрами: \n",
    "* `wrong_genres` — список дубликатов,\n",
    "* `correct_genre` — строка с правильным значением.\n",
    "\n",
    "Функция должна исправить колонку `genre` в таблице `df`: заменим каждое значение из списка `wrong_genres` на значение из `correct_genre`."
   ]
  },
  {
   "cell_type": "code",
   "execution_count": 15,
   "metadata": {
    "id": "ErNDkmns_Zct"
   },
   "outputs": [],
   "source": [
    "def replace_wrong_genres(wrong_genres, correct_genre): # на вход функции подаются список неправильных значений и строка с правильным значением\n",
    "    for wrong_genres in wrong_genres: # перебираем неправильные имена\n",
    "        df['genre'] = df['genre'].replace(wrong_genres, correct_genre) # и для каждого неправильного имени вызываем метод replace()\n",
    "duplicates = ['hip', 'hop', 'hip-hop'] # список неправильных имён\n",
    "name = 'hiphop' # правильное имя\n",
    "# Функция для замены неявных дубликатов"
   ]
  },
  {
   "cell_type": "markdown",
   "metadata": {
    "id": "aDoBJxbA_Zct"
   },
   "source": [
    "Вызовим `replace_wrong_genres()` и передадим ей такие аргументы, чтобы она устранила неявные дубликаты: вместо `hip`, `hop` и `hip-hop` в таблице должно быть значение `hiphop`:"
   ]
  },
  {
   "cell_type": "code",
   "execution_count": 16,
   "metadata": {
    "id": "YN5i2hpmSo09"
   },
   "outputs": [],
   "source": [
    "replace_wrong_genres(duplicates, name) # Устранение неявных дубликатов"
   ]
  },
  {
   "cell_type": "markdown",
   "metadata": {
    "id": "zQKF16_RG15m"
   },
   "source": [
    "Проверим, что заменили неправильные названия:\n",
    "\n",
    "*   hip\n",
    "*   hop\n",
    "*   hip-hop\n",
    "\n",
    "Выведим отсортированный список уникальных значений столбца `genre`:"
   ]
  },
  {
   "cell_type": "markdown",
   "metadata": {
    "id": "Ilsm-MZo_Zct"
   },
   "source": [
    "Убедимся, что в таблице не осталось пропусков. Для этого ещё раз посчитаем пропущенные значения."
   ]
  },
  {
   "cell_type": "code",
   "execution_count": 17,
   "metadata": {
    "id": "wvixALnFG15m"
   },
   "outputs": [
    {
     "data": {
      "text/plain": [
       "array(['acid', 'acoustic', 'action', 'adult', 'africa', 'afrikaans',\n",
       "       'alternative', 'alternativepunk', 'ambient', 'americana',\n",
       "       'animated', 'anime', 'arabesk', 'arabic', 'arena',\n",
       "       'argentinetango', 'art', 'audiobook', 'author', 'avantgarde',\n",
       "       'axé', 'baile', 'balkan', 'beats', 'bigroom', 'black', 'bluegrass',\n",
       "       'blues', 'bollywood', 'bossa', 'brazilian', 'breakbeat', 'breaks',\n",
       "       'broadway', 'cantautori', 'cantopop', 'canzone', 'caribbean',\n",
       "       'caucasian', 'celtic', 'chamber', 'chanson', 'children', 'chill',\n",
       "       'chinese', 'choral', 'christian', 'christmas', 'classical',\n",
       "       'classicmetal', 'club', 'colombian', 'comedy', 'conjazz',\n",
       "       'contemporary', 'country', 'cuban', 'dance', 'dancehall',\n",
       "       'dancepop', 'dark', 'death', 'deep', 'deutschrock', 'deutschspr',\n",
       "       'dirty', 'disco', 'dnb', 'documentary', 'downbeat', 'downtempo',\n",
       "       'drum', 'dub', 'dubstep', 'eastern', 'easy', 'electronic',\n",
       "       'electropop', 'emo', 'entehno', 'epicmetal', 'estrada', 'ethnic',\n",
       "       'eurofolk', 'european', 'experimental', 'extrememetal', 'fado',\n",
       "       'fairytail', 'film', 'fitness', 'flamenco', 'folk', 'folklore',\n",
       "       'folkmetal', 'folkrock', 'folktronica', 'forró', 'frankreich',\n",
       "       'französisch', 'french', 'funk', 'future', 'gangsta', 'garage',\n",
       "       'german', 'ghazal', 'gitarre', 'glitch', 'gospel', 'gothic',\n",
       "       'grime', 'grunge', 'gypsy', 'handsup', \"hard'n'heavy\", 'hardcore',\n",
       "       'hardstyle', 'hardtechno', 'hiphop', 'historisch', 'holiday',\n",
       "       'horror', 'house', 'hymn', 'idm', 'independent', 'indian', 'indie',\n",
       "       'indipop', 'industrial', 'inspirational', 'instrumental',\n",
       "       'international', 'irish', 'jam', 'japanese', 'jazz', 'jewish',\n",
       "       'jpop', 'jungle', 'k-pop', 'karadeniz', 'karaoke', 'kayokyoku',\n",
       "       'korean', 'laiko', 'latin', 'latino', 'leftfield', 'local',\n",
       "       'lounge', 'loungeelectronic', 'lovers', 'malaysian', 'mandopop',\n",
       "       'marschmusik', 'meditative', 'mediterranean', 'melodic', 'metal',\n",
       "       'metalcore', 'mexican', 'middle', 'minimal', 'miscellaneous',\n",
       "       'modern', 'mood', 'mpb', 'muslim', 'native', 'neoklassik', 'neue',\n",
       "       'new', 'newage', 'newwave', 'nu', 'nujazz', 'numetal', 'oceania',\n",
       "       'old', 'opera', 'orchestral', 'other', 'piano', 'podcasts', 'pop',\n",
       "       'popdance', 'popelectronic', 'popeurodance', 'poprussian', 'post',\n",
       "       'posthardcore', 'postrock', 'power', 'progmetal', 'progressive',\n",
       "       'psychedelic', 'punjabi', 'punk', 'quebecois', 'ragga', 'ram',\n",
       "       'rancheras', 'rap', 'rave', 'reggae', 'reggaeton', 'regional',\n",
       "       'relax', 'religious', 'retro', 'rhythm', 'rnb', 'rnr', 'rock',\n",
       "       'rockabilly', 'rockalternative', 'rockindie', 'rockother',\n",
       "       'romance', 'roots', 'ruspop', 'rusrap', 'rusrock', 'russian',\n",
       "       'salsa', 'samba', 'scenic', 'schlager', 'self', 'sertanejo',\n",
       "       'shanson', 'shoegazing', 'showtunes', 'singer', 'ska', 'skarock',\n",
       "       'slow', 'smooth', 'soft', 'soul', 'soulful', 'sound', 'soundtrack',\n",
       "       'southern', 'specialty', 'speech', 'spiritual', 'sport',\n",
       "       'stonerrock', 'surf', 'swing', 'synthpop', 'synthrock',\n",
       "       'sängerportrait', 'tango', 'tanzorchester', 'taraftar', 'tatar',\n",
       "       'tech', 'techno', 'teen', 'thrash', 'top', 'traditional',\n",
       "       'tradjazz', 'trance', 'tribal', 'trip', 'triphop', 'tropical',\n",
       "       'türk', 'türkçe', 'ukrrock', 'unknown', 'urban', 'uzbek',\n",
       "       'variété', 'vi', 'videogame', 'vocal', 'western', 'world',\n",
       "       'worldbeat', 'ïîï', 'электроника'], dtype=object)"
      ]
     },
     "execution_count": 17,
     "metadata": {},
     "output_type": "execute_result"
    }
   ],
   "source": [
    "df.sort_values(by='genre')['genre'].unique() # Проверка на неявные дубликаты"
   ]
  },
  {
   "cell_type": "markdown",
   "metadata": {
    "id": "Ilsm-MZo_Zct"
   },
   "source": [
    "Убедитесь, что в таблице не осталось пропусков. Для этого ещё раз посчитайте пропущенные значения."
   ]
  },
  {
   "cell_type": "markdown",
   "metadata": {
    "id": "jz6a9-7HQUDd"
   },
   "source": [
    "**Выводы**\n",
    "\n",
    "Предобработка обнаружила три проблемы в данных:\n",
    "\n",
    "- нарушения в стиле заголовков,\n",
    "- пропущенные значения,\n",
    "- дубликаты — явные и неявные.\n",
    "\n",
    "Мы исправили заголовки, чтобы упростить работу с таблицей. Без дубликатов исследование станет более точным.\n",
    "\n",
    "Пропущенные значения мы заменили на `'unknown'`. Ещё предстоит увидеть, не повредят ли исследованию пропуски в колонке `genre`.\n",
    "\n",
    "Теперь можно перейти к проверке гипотез. "
   ]
  },
  {
   "cell_type": "markdown",
   "metadata": {
    "id": "WttZHXH0SqKk"
   },
   "source": [
    "## Проверка гипотез"
   ]
  },
  {
   "cell_type": "markdown",
   "metadata": {
    "id": "Im936VVi_Zcu"
   },
   "source": [
    "### Сравнение поведения пользователей двух столиц"
   ]
  },
  {
   "cell_type": "markdown",
   "metadata": {
    "id": "nwt_MuaL_Zcu"
   },
   "source": [
    "Первая гипотеза утверждает, что пользователи по-разному слушают музыку в Москве и Санкт-Петербурге. Проверим это предположение по данным о трёх днях недели — понедельнике, среде и пятнице. Для этого:\n",
    "\n",
    "* Разделим пользователей Москвы и Санкт-Петербурга\n",
    "* Сравним, сколько треков послушала каждая группа пользователей в понедельник, среду и пятницу.\n"
   ]
  },
  {
   "cell_type": "markdown",
   "metadata": {
    "id": "8Dw_YMmT_Zcu"
   },
   "source": [
    "Оценим активность пользователей в каждом городе. Сгруппируем данные по городу и посчитаем прослушивания в каждой группе."
   ]
  },
  {
   "cell_type": "code",
   "execution_count": 18,
   "metadata": {
    "id": "0_Qs96oh_Zcu"
   },
   "outputs": [
    {
     "name": "stdout",
     "output_type": "stream",
     "text": [
      "city\n",
      "Moscow              42741\n",
      "Saint-Petersburg    18512\n",
      "Name: time, dtype: int64\n"
     ]
    }
   ],
   "source": [
    "print(df.groupby('city')['time'].count()) # Подсчёт прослушиваний в каждом городе"
   ]
  },
  {
   "cell_type": "markdown",
   "metadata": {
    "id": "dzli3w8o_Zcu"
   },
   "source": [
    "В Москве прослушиваний больше, чем в Петербурге. Из этого не следует, что московские пользователи чаще слушают музыку. Просто самих пользователей в Москве больше.\n",
    "\n",
    "Теперь сгруппируем данные по дню недели и подсчитаем прослушивания в понедельник, среду и пятницу. Учтем, что в данных есть информация о прослушиваниях только за эти дни."
   ]
  },
  {
   "cell_type": "code",
   "execution_count": 19,
   "metadata": {
    "id": "uZMKjiJz_Zcu"
   },
   "outputs": [
    {
     "name": "stdout",
     "output_type": "stream",
     "text": [
      "day\n",
      "Friday       21840\n",
      "Monday       21354\n",
      "Wednesday    18059\n",
      "Name: time, dtype: int64\n"
     ]
    }
   ],
   "source": [
    "print(df.groupby('day')['time'].count()) # Подсчёт прослушиваний в каждый из трёх дней"
   ]
  },
  {
   "cell_type": "markdown",
   "metadata": {
    "id": "cC2tNrlL_Zcu"
   },
   "source": [
    "В среднем пользователи из двух городов менее активны по средам. Но картина может измениться, если рассмотреть каждый город в отдельности."
   ]
  },
  {
   "cell_type": "markdown",
   "metadata": {
    "id": "POzs8bGa_Zcu"
   },
   "source": [
    "Создадим функцию `number_tracks()`, которая посчитает прослушивания для заданного дня и города. Ей понадобятся два параметра:\n",
    "* день недели,\n",
    "* название города.\n",
    "\n",
    "В функции сохраним в переменную строки исходной таблицы, у которых значение:\n",
    "  * в колонке `day` равно параметру `day`,\n",
    "  * в колонке `city` равно параметру `city`.\n",
    "\n",
    "Для этого применим последовательную фильтрацию с логической индексацией.\n",
    "\n",
    "Затем посчитаем значения в столбце `user_id` получившейся таблицы. Результат сохраним в новую переменную. Вернем эту переменную из функции."
   ]
  },
  {
   "cell_type": "code",
   "execution_count": 20,
   "metadata": {
    "id": "Nz3GdQB1_Zcu"
   },
   "outputs": [],
   "source": [
    "# <создание функции number_tracks()>\n",
    "def number_tracks(day, city): # Объявляется функция с двумя параметрами: day, city.\n",
    "    track_list = df[df['day'] == day]\n",
    "    track_list = track_list[track_list['city'] == city] # В переменной track_list сохраняются те строки таблицы df, для которых \n",
    "# значение в столбце 'day' равно параметру day и одновременно значение\n",
    "# в столбце 'city' равно параметру city (используйте последовательную фильтрацию\n",
    "# с помощью логической индексации).\n",
    "    track_list_count = track_list.count()['user_id'] # В переменной track_list_count сохраняется число значений столбца 'user_id',\n",
    "# рассчитанное методом count() для таблицы track_list.\n",
    "    return track_list_count # Функция возвращает число - значение track_list_count.\n",
    "\n",
    "# Функция для подсчёта прослушиваний для конкретного города и дня.\n",
    "# С помощью последовательной фильтрации с логической индексацией она \n",
    "# сначала получит из исходной таблицы строки с нужным днём,\n",
    "# затем из результата отфильтрует строки с нужным городом,\n",
    "# методом count() посчитает количество значений в колонке user_id. \n",
    "# Это количество функция вернёт в качестве результата"
   ]
  },
  {
   "cell_type": "markdown",
   "metadata": {
    "id": "ytf7xFrFJQ2r"
   },
   "source": [
    "Вызовим `number_tracks()` шесть раз, меняя значение параметров — так, чтобы получить данные для каждого города в каждый из трёх дней."
   ]
  },
  {
   "cell_type": "code",
   "execution_count": 21,
   "metadata": {
    "id": "rJcRATNQ_Zcu"
   },
   "outputs": [
    {
     "data": {
      "text/plain": [
       "15740"
      ]
     },
     "execution_count": 21,
     "metadata": {},
     "output_type": "execute_result"
    }
   ],
   "source": [
    "number_tracks('Monday', 'Moscow') # количество прослушиваний в Москве по понедельникам"
   ]
  },
  {
   "cell_type": "code",
   "execution_count": 22,
   "metadata": {
    "id": "hq_ncZ5T_Zcu"
   },
   "outputs": [
    {
     "data": {
      "text/plain": [
       "5614"
      ]
     },
     "execution_count": 22,
     "metadata": {},
     "output_type": "execute_result"
    }
   ],
   "source": [
    "number_tracks('Monday', 'Saint-Petersburg') # количество прослушиваний в Санкт-Петербурге по понедельникам"
   ]
  },
  {
   "cell_type": "code",
   "execution_count": 23,
   "metadata": {
    "id": "_NTy2VPU_Zcu"
   },
   "outputs": [
    {
     "data": {
      "text/plain": [
       "11056"
      ]
     },
     "execution_count": 23,
     "metadata": {},
     "output_type": "execute_result"
    }
   ],
   "source": [
    "number_tracks('Wednesday', 'Moscow') # количество прослушиваний в Москве по средам"
   ]
  },
  {
   "cell_type": "code",
   "execution_count": 24,
   "metadata": {
    "id": "j2y3TAwo_Zcu"
   },
   "outputs": [
    {
     "data": {
      "text/plain": [
       "7003"
      ]
     },
     "execution_count": 24,
     "metadata": {},
     "output_type": "execute_result"
    }
   ],
   "source": [
    "number_tracks('Wednesday', 'Saint-Petersburg') # количество прослушиваний в Санкт-Петербурге по средам"
   ]
  },
  {
   "cell_type": "code",
   "execution_count": 25,
   "metadata": {
    "id": "vYDw5u_K_Zcu"
   },
   "outputs": [
    {
     "data": {
      "text/plain": [
       "15945"
      ]
     },
     "execution_count": 25,
     "metadata": {},
     "output_type": "execute_result"
    }
   ],
   "source": [
    "number_tracks('Friday', 'Moscow') # количество прослушиваний в Москве по пятницам"
   ]
  },
  {
   "cell_type": "code",
   "execution_count": 26,
   "metadata": {
    "id": "8_yzFtW3_Zcu"
   },
   "outputs": [
    {
     "data": {
      "text/plain": [
       "5895"
      ]
     },
     "execution_count": 26,
     "metadata": {},
     "output_type": "execute_result"
    }
   ],
   "source": [
    "number_tracks('Friday', 'Saint-Petersburg') # количество прослушиваний в Санкт-Петербурге по пятницам"
   ]
  },
  {
   "cell_type": "markdown",
   "metadata": {
    "id": "7QXffbO-_Zcu"
   },
   "source": [
    "Создадим c помощью конструктора `pd.DataFrame` таблицу, где\n",
    "* названия колонок — `['city', 'monday', 'wednesday', 'friday']`;\n",
    "* данные — результаты, которые вы получили с помощью `number_tracks`."
   ]
  },
  {
   "cell_type": "code",
   "execution_count": 27,
   "metadata": {
    "id": "APAcLpOr_Zcu"
   },
   "outputs": [
    {
     "data": {
      "text/html": [
       "<div>\n",
       "<style scoped>\n",
       "    .dataframe tbody tr th:only-of-type {\n",
       "        vertical-align: middle;\n",
       "    }\n",
       "\n",
       "    .dataframe tbody tr th {\n",
       "        vertical-align: top;\n",
       "    }\n",
       "\n",
       "    .dataframe thead th {\n",
       "        text-align: right;\n",
       "    }\n",
       "</style>\n",
       "<table border=\"1\" class=\"dataframe\">\n",
       "  <thead>\n",
       "    <tr style=\"text-align: right;\">\n",
       "      <th></th>\n",
       "      <th>city</th>\n",
       "      <th>monday</th>\n",
       "      <th>wednesday</th>\n",
       "      <th>friday</th>\n",
       "    </tr>\n",
       "  </thead>\n",
       "  <tbody>\n",
       "    <tr>\n",
       "      <th>0</th>\n",
       "      <td>Moscow</td>\n",
       "      <td>15740</td>\n",
       "      <td>11056</td>\n",
       "      <td>15945</td>\n",
       "    </tr>\n",
       "    <tr>\n",
       "      <th>1</th>\n",
       "      <td>Saint-Petersburg</td>\n",
       "      <td>5614</td>\n",
       "      <td>7003</td>\n",
       "      <td>5895</td>\n",
       "    </tr>\n",
       "  </tbody>\n",
       "</table>\n",
       "</div>"
      ],
      "text/plain": [
       "               city  monday  wednesday  friday\n",
       "0            Moscow   15740      11056   15945\n",
       "1  Saint-Petersburg    5614       7003    5895"
      ]
     },
     "metadata": {},
     "output_type": "display_data"
    }
   ],
   "source": [
    "data = [['Moscow', 15740, 11056, 15945],\n",
    "        ['Saint-Petersburg', 5614, 7003, 5895]] \n",
    "day_city_table = pd.DataFrame(data=data, columns =['city', 'monday', 'wednesday', 'friday']) \n",
    "display(day_city_table) # Таблица с результатами"
   ]
  },
  {
   "cell_type": "markdown",
   "metadata": {
    "id": "-EgPIHYu_Zcu"
   },
   "source": [
    "**Выводы**\n",
    "\n",
    "Данные показывают разницу поведения пользователей:\n",
    "\n",
    "- В Москве пик прослушиваний приходится на понедельник и пятницу, а в среду заметен спад.\n",
    "- В Петербурге, наоборот, больше слушают музыку по средам. Активность в понедельник и пятницу здесь почти в равной мере уступает среде.\n",
    "\n",
    "Значит, данные говорят в пользу первой гипотезы."
   ]
  },
  {
   "cell_type": "markdown",
   "metadata": {
    "id": "atZAxtq4_Zcu"
   },
   "source": [
    "### Музыка в начале и в конце недели"
   ]
  },
  {
   "cell_type": "markdown",
   "metadata": {
    "id": "eXrQqXFH_Zcu"
   },
   "source": [
    "Согласно второй гипотезе, утром в понедельник в Москве преобладают одни жанры, а в Петербурге — другие. Так же и вечером пятницы преобладают разные жанры — в зависимости от города."
   ]
  },
  {
   "cell_type": "markdown",
   "metadata": {
    "id": "S8UcW6Hw_Zcu"
   },
   "source": [
    "Сохраним таблицы с данными в две переменные:\n",
    "* по Москве — в `moscow_general`;\n",
    "* по Санкт-Петербургу — в `spb_general`."
   ]
  },
  {
   "cell_type": "code",
   "execution_count": 28,
   "metadata": {
    "id": "qeaFfM_P_Zcu"
   },
   "outputs": [],
   "source": [
    "moscow_general = df[df['city'] == 'Moscow'] # получение таблицы moscow_general из тех строк таблицы df, \n",
    "# для которых значение в столбце 'city' равно 'Moscow'\n"
   ]
  },
  {
   "cell_type": "code",
   "execution_count": 29,
   "metadata": {
    "id": "ORaVRKto_Zcu"
   },
   "outputs": [],
   "source": [
    "spb_general = df[df['city'] == 'Saint-Petersburg'] # получение таблицы spb_general из тех строк таблицы df,\n",
    "# для которых значение в столбце 'city' равно 'Saint-Petersburg'\n"
   ]
  },
  {
   "cell_type": "markdown",
   "metadata": {
    "id": "MEJV-CX2_Zcu"
   },
   "source": [
    "Создадим функцию `genre_weekday()` с четырьмя параметрами:\n",
    "* таблица (датафрейм) с данными,\n",
    "* день недели,\n",
    "* начальная временная метка в формате 'hh:mm', \n",
    "* последняя временная метка в формате 'hh:mm'.\n",
    "\n",
    "Функция должна вернуть информацию о топ-10 жанров тех треков, которые прослушивали в указанный день, в промежутке между двумя отметками времени."
   ]
  },
  {
   "cell_type": "code",
   "execution_count": 30,
   "metadata": {
    "id": "laJT9BYl_Zcu"
   },
   "outputs": [],
   "source": [
    "# Объявление функции genre_weekday() с параметрами table, day, time1, time2,\n",
    "# которая возвращает информацию о самых популярных жанрах в указанный день в\n",
    "# заданное время:\n",
    "def genre_weekday(table, day, time1, time2):\n",
    "    \n",
    "# 1) в переменную genre_df сохраняются те строки переданного датафрейма table, для\n",
    "#    которых одновременно:\n",
    "#    - значение в столбце day равно значению аргумента day\n",
    "#    - значение в столбце time больше значения аргумента time1\n",
    "#    - значение в столбце time меньше значения аргумента time2\n",
    "#    Используйте последовательную фильтрацию с помощью логической индексации.\n",
    "    genre_df = table[table['day'] == day]\n",
    "    genre_df = genre_df[genre_df['time'] > time1]\n",
    "    genre_df = genre_df[genre_df['time'] < time2]\n",
    "    # 2) сгруппировать датафрейм genre_df по столбцу genre, взять один из его\n",
    "#    столбцов и посчитать методом count() количество записей для каждого из\n",
    "#    присутствующих жанров, получившийся Series записать в переменную\n",
    "#    genre_df_count\n",
    "    genre_df_count = genre_df.groupby('genre')['genre'].count()\n",
    "# 3) отсортировать genre_df_count по убыванию встречаемости и сохранить\n",
    "#    в переменную genre_df_sorted\n",
    "    genre_df_sorted = genre_df_count.sort_values(ascending=False)\n",
    "# 4) вернуть Series из 10 первых значений genre_df_sorted, это будут топ-10\n",
    "#    популярных жанров (в указанный день, в заданное время)\n",
    "    return genre_df_sorted.head(10)"
   ]
  },
  {
   "cell_type": "markdown",
   "metadata": {
    "id": "la2s2_PF_Zcu"
   },
   "source": [
    "Cравним результаты функции `genre_weekday()` для Москвы и Санкт-Петербурга в понедельник утром (с 7:00 до 11:00) и в пятницу вечером (с 17:00 до 23:00):"
   ]
  },
  {
   "cell_type": "code",
   "execution_count": 31,
   "metadata": {
    "id": "yz7itPUQ_Zcu"
   },
   "outputs": [
    {
     "data": {
      "text/plain": [
       "genre\n",
       "pop            781\n",
       "dance          549\n",
       "electronic     480\n",
       "rock           474\n",
       "hiphop         286\n",
       "ruspop         186\n",
       "world          181\n",
       "rusrap         175\n",
       "alternative    164\n",
       "unknown        161\n",
       "Name: genre, dtype: int64"
      ]
     },
     "execution_count": 31,
     "metadata": {},
     "output_type": "execute_result"
    }
   ],
   "source": [
    "genre_weekday(moscow_general, 'Monday', '07:00:00', '11:00:00') # вызов функции для утра понедельника в Москве (вместо df — таблица moscow_general)\n",
    "# объекты, хранящие время, являются строками и сравниваются как строки\n",
    "# пример вызова: genre_weekday(moscow_general, 'Monday', '07:00', '11:00')"
   ]
  },
  {
   "cell_type": "code",
   "execution_count": 32,
   "metadata": {
    "id": "kwUcHPdy_Zcu"
   },
   "outputs": [
    {
     "data": {
      "text/plain": [
       "genre\n",
       "pop            218\n",
       "dance          182\n",
       "rock           162\n",
       "electronic     147\n",
       "hiphop          80\n",
       "ruspop          64\n",
       "alternative     58\n",
       "rusrap          55\n",
       "jazz            44\n",
       "classical       40\n",
       "Name: genre, dtype: int64"
      ]
     },
     "execution_count": 32,
     "metadata": {},
     "output_type": "execute_result"
    }
   ],
   "source": [
    "genre_weekday(spb_general, 'Monday', '07:00:00', '11:00:00') # вызов функции для утра понедельника в Петербурге (вместо df — таблица spb_general)"
   ]
  },
  {
   "cell_type": "code",
   "execution_count": 33,
   "metadata": {
    "id": "EzXVRE1o_Zcu"
   },
   "outputs": [
    {
     "data": {
      "text/plain": [
       "genre\n",
       "pop            713\n",
       "rock           517\n",
       "dance          495\n",
       "electronic     482\n",
       "hiphop         273\n",
       "world          208\n",
       "ruspop         170\n",
       "alternative    163\n",
       "classical      163\n",
       "rusrap         142\n",
       "Name: genre, dtype: int64"
      ]
     },
     "execution_count": 33,
     "metadata": {},
     "output_type": "execute_result"
    }
   ],
   "source": [
    "genre_weekday(moscow_general, 'Friday', '17:00:00', '23:00:00') # вызов функции для вечера пятницы в Москве"
   ]
  },
  {
   "cell_type": "code",
   "execution_count": 34,
   "metadata": {
    "id": "JZaEKu5v_Zcu"
   },
   "outputs": [
    {
     "data": {
      "text/plain": [
       "genre\n",
       "pop            256\n",
       "electronic     216\n",
       "rock           216\n",
       "dance          210\n",
       "hiphop          97\n",
       "alternative     63\n",
       "jazz            61\n",
       "classical       60\n",
       "rusrap          59\n",
       "world           54\n",
       "Name: genre, dtype: int64"
      ]
     },
     "execution_count": 34,
     "metadata": {},
     "output_type": "execute_result"
    }
   ],
   "source": [
    "genre_weekday(spb_general, 'Friday', '17:00:00', '23:00:00') # вызов функции для вечера пятницы в Петербурге"
   ]
  },
  {
   "cell_type": "markdown",
   "metadata": {
    "id": "wrCe4MNX_Zcu"
   },
   "source": [
    "**Выводы**\n",
    "\n",
    "Если сравнить топ-10 жанров в понедельник утром, можно сделать такие выводы:\n",
    "\n",
    "1. В Москве и Петербурге слушают похожую музыку. Единственное отличие — в московский рейтинг вошёл жанр “world”, а в петербургский — джаз и классика.\n",
    "\n",
    "2. В Москве пропущенных значений оказалось так много, что значение `'unknown'` заняло десятое место среди самых популярных жанров. Значит, пропущенные значения занимают существенную долю в данных и угрожают достоверности исследования.\n",
    "\n",
    "Вечер пятницы не меняет эту картину. Некоторые жанры поднимаются немного выше, другие спускаются, но в целом топ-10 остаётся тем же самым.\n",
    "\n",
    "Таким образом, вторая гипотеза подтвердилась лишь частично:\n",
    "* Пользователи слушают похожую музыку в начале недели и в конце.\n",
    "* Разница между Москвой и Петербургом не слишком выражена. В Москве чаще слушают русскую популярную музыку, в Петербурге — джаз.\n",
    "\n",
    "Однако пропуски в данных ставят под сомнение этот результат. В Москве их так много, что рейтинг топ-10 мог бы выглядеть иначе, если бы не утерянные  данные о жанрах."
   ]
  },
  {
   "cell_type": "markdown",
   "metadata": {
    "id": "JolODAqr_Zcu"
   },
   "source": [
    "### Жанровые предпочтения в Москве и Петербурге\n",
    "\n",
    "Гипотеза: Петербург — столица рэпа, музыку этого жанра там слушают чаще, чем в Москве.  А Москва — город контрастов, в котором, тем не менее, преобладает поп-музыка."
   ]
  },
  {
   "cell_type": "markdown",
   "metadata": {
    "id": "DlegSvaT_Zcu"
   },
   "source": [
    "Сгруппируем таблицу `moscow_general` по жанру и посчитаем прослушивания треков каждого жанра методом `count()`. Затем отсортируем результат в порядке убывания и сохраним его в таблице `moscow_genres`."
   ]
  },
  {
   "cell_type": "code",
   "execution_count": 35,
   "metadata": {
    "id": "r19lIPke_Zcu"
   },
   "outputs": [],
   "source": [
    "# одной строкой: группировка таблицы moscow_general по столбцу 'genre', \n",
    "# подсчёт числа значений 'genre' в этой группировке методом count(), \n",
    "# сортировка получившегося Series в порядке убывания и сохранение в moscow_genres\n",
    "moscow_count_genres = moscow_general.groupby('genre')['genre'].count()\n",
    "moscow_genres = moscow_count_genres.sort_values(ascending=False)"
   ]
  },
  {
   "cell_type": "markdown",
   "metadata": {
    "id": "6kMuomxTiIr8"
   },
   "source": [
    "Выведим на экран первые десять строк `moscow_genres`:"
   ]
  },
  {
   "cell_type": "code",
   "execution_count": 36,
   "metadata": {
    "id": "WhCSooF8_Zcv"
   },
   "outputs": [
    {
     "data": {
      "text/plain": [
       "genre\n",
       "pop            5892\n",
       "dance          4435\n",
       "rock           3965\n",
       "electronic     3786\n",
       "hiphop         2096\n",
       "classical      1616\n",
       "world          1432\n",
       "alternative    1379\n",
       "ruspop         1372\n",
       "rusrap         1161\n",
       "Name: genre, dtype: int64"
      ]
     },
     "execution_count": 36,
     "metadata": {},
     "output_type": "execute_result"
    }
   ],
   "source": [
    "moscow_genres.head(10) # просмотр первых 10 строк moscow_genres"
   ]
  },
  {
   "cell_type": "markdown",
   "metadata": {
    "id": "cnPG2vnN_Zcv"
   },
   "source": [
    "Теперь повторим то же и для Петербурга.\n",
    "\n",
    "Сгруппируем таблицу `spb_general` по жанру. Посчитаем прослушивания треков каждого жанра. Результат отсортируем в порядке убывания и сохраним в таблице `spb_genres`:\n"
   ]
  },
  {
   "cell_type": "code",
   "execution_count": 37,
   "metadata": {
    "id": "gluLIpE7_Zcv"
   },
   "outputs": [],
   "source": [
    "# одной строкой: группировка таблицы spb_general по столбцу 'genre', \n",
    "# подсчёт числа значений 'genre' в этой группировке методом count(), \n",
    "# сортировка получившегося Series в порядке убывания и сохранение в spb_genres\n",
    "spb_count_genres = spb_general.groupby('genre')['genre'].count()\n",
    "spb_genres = spb_count_genres.sort_values(ascending=False)"
   ]
  },
  {
   "cell_type": "markdown",
   "metadata": {
    "id": "5Doha_ODgyQ8"
   },
   "source": [
    "Выведим на экран первые десять строк `spb_genres`:"
   ]
  },
  {
   "cell_type": "code",
   "execution_count": 38,
   "metadata": {
    "id": "uaGJHjVU_Zcv"
   },
   "outputs": [
    {
     "data": {
      "text/plain": [
       "genre\n",
       "pop            2431\n",
       "dance          1932\n",
       "rock           1879\n",
       "electronic     1736\n",
       "hiphop          960\n",
       "alternative     649\n",
       "classical       646\n",
       "rusrap          564\n",
       "ruspop          538\n",
       "world           515\n",
       "Name: genre, dtype: int64"
      ]
     },
     "execution_count": 38,
     "metadata": {},
     "output_type": "execute_result"
    }
   ],
   "source": [
    "spb_genres.head(10) # просмотр первых 10 строк spb_genres"
   ]
  },
  {
   "cell_type": "markdown",
   "metadata": {
    "id": "RY51YJYu_Zcv"
   },
   "source": [
    "**Выводы**"
   ]
  },
  {
   "cell_type": "markdown",
   "metadata": {
    "id": "nVhnJEm__Zcv"
   },
   "source": [
    "Гипотеза частично подтвердилась:\n",
    "* Поп-музыка — самый популярный жанр в Москве, как и предполагала гипотеза. Более того, в топ-10 жанров встречается близкий жанр — русская популярная музыка.\n",
    "* Вопреки ожиданиям, рэп одинаково популярен в Москве и Петербурге. \n"
   ]
  },
  {
   "cell_type": "markdown",
   "metadata": {
    "id": "ykKQ0N65_Zcv"
   },
   "source": [
    "## Итоги исследования"
   ]
  },
  {
   "cell_type": "markdown",
   "metadata": {
    "id": "tjUwbHb3_Zcv"
   },
   "source": [
    "Мы проверили три гипотезы и установили:\n",
    "\n",
    "1. День недели по-разному влияет на активность пользователей в Москве и Петербурге. \n",
    "\n",
    "Первая гипотеза полностью подтвердилась.\n",
    "\n",
    "2. Музыкальные предпочтения не сильно меняются в течение недели — будь то Москва или Петербург. Небольшие различия заметны в начале недели, по понедельникам:\n",
    "* в Москве слушают музыку жанра “world”,\n",
    "* в Петербурге — джаз и классику.\n",
    "\n",
    "Таким образом, вторая гипотеза подтвердилась лишь отчасти. Этот результат мог оказаться иным, если бы не пропуски в данных.\n",
    "\n",
    "3. Во вкусах пользователей Москвы и Петербурга больше общего чем различий. Вопреки ожиданиям, предпочтения жанров в Петербурге напоминают московские.\n",
    "\n",
    "Третья гипотеза не подтвердилась. Если различия в предпочтениях и существуют, на основной массе пользователей они незаметны."
   ]
  }
 ],
 "metadata": {
  "ExecuteTimeLog": [
   {
    "duration": 68,
    "start_time": "2022-04-24T12:15:27.737Z"
   },
   {
    "duration": 467,
    "start_time": "2022-04-24T12:15:46.029Z"
   },
   {
    "duration": 447,
    "start_time": "2022-04-24T12:16:10.614Z"
   },
   {
    "duration": 179,
    "start_time": "2022-04-24T12:16:13.939Z"
   },
   {
    "duration": 142,
    "start_time": "2022-04-24T12:18:16.258Z"
   },
   {
    "duration": 17,
    "start_time": "2022-04-24T12:18:24.654Z"
   },
   {
    "duration": 378,
    "start_time": "2022-04-24T12:18:49.329Z"
   },
   {
    "duration": 157,
    "start_time": "2022-04-24T12:18:50.643Z"
   },
   {
    "duration": 230,
    "start_time": "2022-04-24T12:21:02.997Z"
   },
   {
    "duration": 71,
    "start_time": "2022-04-24T12:21:15.608Z"
   },
   {
    "duration": 15,
    "start_time": "2022-04-24T12:21:23.160Z"
   },
   {
    "duration": 224,
    "start_time": "2022-04-24T12:21:59.494Z"
   },
   {
    "duration": 10,
    "start_time": "2022-04-24T12:22:04.099Z"
   },
   {
    "duration": 430,
    "start_time": "2022-04-24T12:22:19.045Z"
   },
   {
    "duration": 167,
    "start_time": "2022-04-24T12:22:20.260Z"
   },
   {
    "duration": 97,
    "start_time": "2022-04-24T12:22:22.320Z"
   },
   {
    "duration": 9,
    "start_time": "2022-04-24T12:22:29.649Z"
   },
   {
    "duration": 9,
    "start_time": "2022-04-24T12:22:52.133Z"
   },
   {
    "duration": 3,
    "start_time": "2022-04-24T12:22:55.095Z"
   },
   {
    "duration": 9,
    "start_time": "2022-04-24T12:23:04.788Z"
   },
   {
    "duration": 87,
    "start_time": "2022-04-24T12:24:08.552Z"
   },
   {
    "duration": 473,
    "start_time": "2022-04-24T12:26:02.181Z"
   },
   {
    "duration": 256,
    "start_time": "2022-04-24T12:26:02.658Z"
   },
   {
    "duration": 13,
    "start_time": "2022-04-24T12:26:02.917Z"
   },
   {
    "duration": 12,
    "start_time": "2022-04-24T12:26:02.932Z"
   },
   {
    "duration": 15,
    "start_time": "2022-04-24T12:26:02.947Z"
   },
   {
    "duration": 24,
    "start_time": "2022-04-24T12:26:02.965Z"
   },
   {
    "duration": 11,
    "start_time": "2022-04-24T12:26:02.991Z"
   },
   {
    "duration": 10,
    "start_time": "2022-04-24T12:26:03.006Z"
   },
   {
    "duration": 5,
    "start_time": "2022-04-24T12:26:03.019Z"
   },
   {
    "duration": 5,
    "start_time": "2022-04-24T12:26:03.026Z"
   },
   {
    "duration": 7,
    "start_time": "2022-04-24T12:26:03.033Z"
   },
   {
    "duration": 10,
    "start_time": "2022-04-24T12:26:03.043Z"
   },
   {
    "duration": 30,
    "start_time": "2022-04-24T12:26:03.063Z"
   },
   {
    "duration": 5,
    "start_time": "2022-04-24T12:26:03.098Z"
   },
   {
    "duration": 22,
    "start_time": "2022-04-24T12:26:03.105Z"
   },
   {
    "duration": 6,
    "start_time": "2022-04-24T12:26:03.130Z"
   },
   {
    "duration": 4,
    "start_time": "2022-04-24T12:26:03.139Z"
   },
   {
    "duration": 5,
    "start_time": "2022-04-24T12:26:03.145Z"
   },
   {
    "duration": 23,
    "start_time": "2022-04-24T12:26:03.152Z"
   },
   {
    "duration": 33,
    "start_time": "2022-04-24T12:26:03.181Z"
   },
   {
    "duration": 13,
    "start_time": "2022-04-24T12:26:03.216Z"
   },
   {
    "duration": 18,
    "start_time": "2022-04-24T12:26:03.231Z"
   },
   {
    "duration": 13,
    "start_time": "2022-04-24T12:26:03.252Z"
   },
   {
    "duration": 16,
    "start_time": "2022-04-24T12:26:03.267Z"
   },
   {
    "duration": 11,
    "start_time": "2022-04-24T12:26:03.285Z"
   },
   {
    "duration": 15,
    "start_time": "2022-04-24T12:26:03.297Z"
   },
   {
    "duration": 6,
    "start_time": "2022-04-24T12:26:03.314Z"
   },
   {
    "duration": 7,
    "start_time": "2022-04-24T12:26:03.321Z"
   },
   {
    "duration": 8,
    "start_time": "2022-04-24T12:26:03.330Z"
   },
   {
    "duration": 6,
    "start_time": "2022-04-24T12:26:03.341Z"
   },
   {
    "duration": 33,
    "start_time": "2022-04-24T12:26:03.349Z"
   },
   {
    "duration": 5,
    "start_time": "2022-04-24T12:26:03.384Z"
   },
   {
    "duration": 9,
    "start_time": "2022-04-24T12:26:03.391Z"
   },
   {
    "duration": 7,
    "start_time": "2022-04-24T12:26:03.402Z"
   },
   {
    "duration": 9,
    "start_time": "2022-04-24T12:26:03.411Z"
   },
   {
    "duration": 8,
    "start_time": "2022-04-24T12:26:03.422Z"
   },
   {
    "duration": 11,
    "start_time": "2022-04-24T12:26:03.431Z"
   },
   {
    "duration": 18,
    "start_time": "2022-04-24T12:26:03.444Z"
   },
   {
    "duration": 56,
    "start_time": "2022-04-24T12:28:01.847Z"
   },
   {
    "duration": 29,
    "start_time": "2022-04-24T12:41:06.184Z"
   },
   {
    "duration": 31,
    "start_time": "2022-04-24T12:43:26.208Z"
   },
   {
    "duration": 4,
    "start_time": "2022-04-24T12:59:34.348Z"
   },
   {
    "duration": 5,
    "start_time": "2022-04-24T13:01:43.879Z"
   },
   {
    "duration": 150,
    "start_time": "2022-04-24T13:04:16.892Z"
   },
   {
    "duration": 127,
    "start_time": "2022-04-24T13:07:02.123Z"
   },
   {
    "duration": 63,
    "start_time": "2022-04-24T13:07:36.223Z"
   },
   {
    "duration": 535,
    "start_time": "2022-04-24T13:07:56.781Z"
   },
   {
    "duration": 244,
    "start_time": "2022-04-24T13:07:57.319Z"
   },
   {
    "duration": 12,
    "start_time": "2022-04-24T13:07:57.565Z"
   },
   {
    "duration": 54,
    "start_time": "2022-04-24T13:07:57.580Z"
   },
   {
    "duration": 25,
    "start_time": "2022-04-24T13:07:57.635Z"
   },
   {
    "duration": 22,
    "start_time": "2022-04-24T13:07:57.664Z"
   },
   {
    "duration": 4,
    "start_time": "2022-04-24T13:07:57.688Z"
   },
   {
    "duration": 3,
    "start_time": "2022-04-24T13:07:57.694Z"
   },
   {
    "duration": 4,
    "start_time": "2022-04-24T13:07:57.699Z"
   },
   {
    "duration": 4,
    "start_time": "2022-04-24T13:07:57.705Z"
   },
   {
    "duration": 5,
    "start_time": "2022-04-24T13:07:57.710Z"
   },
   {
    "duration": 5,
    "start_time": "2022-04-24T13:07:57.716Z"
   },
   {
    "duration": 5,
    "start_time": "2022-04-24T13:07:57.722Z"
   },
   {
    "duration": 4,
    "start_time": "2022-04-24T13:07:57.728Z"
   },
   {
    "duration": 4,
    "start_time": "2022-04-24T13:07:57.734Z"
   },
   {
    "duration": 4,
    "start_time": "2022-04-24T13:07:57.739Z"
   },
   {
    "duration": 6,
    "start_time": "2022-04-24T13:07:57.745Z"
   },
   {
    "duration": 26,
    "start_time": "2022-04-24T13:07:57.753Z"
   },
   {
    "duration": 11,
    "start_time": "2022-04-24T13:07:57.781Z"
   },
   {
    "duration": 5,
    "start_time": "2022-04-24T13:07:57.793Z"
   },
   {
    "duration": 7,
    "start_time": "2022-04-24T13:07:57.800Z"
   },
   {
    "duration": 6,
    "start_time": "2022-04-24T13:07:57.808Z"
   },
   {
    "duration": 4,
    "start_time": "2022-04-24T13:07:57.816Z"
   },
   {
    "duration": 5,
    "start_time": "2022-04-24T13:07:57.821Z"
   },
   {
    "duration": 4,
    "start_time": "2022-04-24T13:07:57.828Z"
   },
   {
    "duration": 6,
    "start_time": "2022-04-24T13:07:57.834Z"
   },
   {
    "duration": 6,
    "start_time": "2022-04-24T13:07:57.842Z"
   },
   {
    "duration": 33,
    "start_time": "2022-04-24T13:07:57.852Z"
   },
   {
    "duration": 5,
    "start_time": "2022-04-24T13:07:57.887Z"
   },
   {
    "duration": 6,
    "start_time": "2022-04-24T13:07:57.894Z"
   },
   {
    "duration": 9,
    "start_time": "2022-04-24T13:07:57.902Z"
   },
   {
    "duration": 6,
    "start_time": "2022-04-24T13:07:57.912Z"
   },
   {
    "duration": 8,
    "start_time": "2022-04-24T13:07:57.919Z"
   },
   {
    "duration": 6,
    "start_time": "2022-04-24T13:07:57.928Z"
   },
   {
    "duration": 4,
    "start_time": "2022-04-24T13:07:57.936Z"
   },
   {
    "duration": 7,
    "start_time": "2022-04-24T13:07:57.942Z"
   },
   {
    "duration": 33,
    "start_time": "2022-04-24T13:07:57.950Z"
   },
   {
    "duration": 6,
    "start_time": "2022-04-24T13:07:57.985Z"
   },
   {
    "duration": 16,
    "start_time": "2022-04-24T13:26:00.791Z"
   },
   {
    "duration": 4,
    "start_time": "2022-04-24T13:26:05.332Z"
   },
   {
    "duration": 536,
    "start_time": "2022-04-24T13:26:14.740Z"
   },
   {
    "duration": 160,
    "start_time": "2022-04-24T13:26:15.284Z"
   },
   {
    "duration": 16,
    "start_time": "2022-04-24T13:26:15.446Z"
   },
   {
    "duration": 60,
    "start_time": "2022-04-24T13:26:15.464Z"
   },
   {
    "duration": 5,
    "start_time": "2022-04-24T13:26:15.526Z"
   },
   {
    "duration": 18,
    "start_time": "2022-04-24T13:26:15.533Z"
   },
   {
    "duration": 41,
    "start_time": "2022-04-24T13:26:15.553Z"
   },
   {
    "duration": 5,
    "start_time": "2022-04-24T13:26:15.596Z"
   },
   {
    "duration": 7,
    "start_time": "2022-04-24T13:26:15.603Z"
   },
   {
    "duration": 3,
    "start_time": "2022-04-24T13:26:15.613Z"
   },
   {
    "duration": 10,
    "start_time": "2022-04-24T13:26:15.618Z"
   },
   {
    "duration": 5,
    "start_time": "2022-04-24T13:26:15.630Z"
   },
   {
    "duration": 5,
    "start_time": "2022-04-24T13:26:15.637Z"
   },
   {
    "duration": 5,
    "start_time": "2022-04-24T13:26:15.644Z"
   },
   {
    "duration": 14,
    "start_time": "2022-04-24T13:26:15.650Z"
   },
   {
    "duration": 29,
    "start_time": "2022-04-24T13:26:15.665Z"
   },
   {
    "duration": 5,
    "start_time": "2022-04-24T13:26:15.695Z"
   },
   {
    "duration": 4,
    "start_time": "2022-04-24T13:26:15.702Z"
   },
   {
    "duration": 6,
    "start_time": "2022-04-24T13:26:15.708Z"
   },
   {
    "duration": 6,
    "start_time": "2022-04-24T13:26:15.716Z"
   },
   {
    "duration": 8,
    "start_time": "2022-04-24T13:26:15.723Z"
   },
   {
    "duration": 7,
    "start_time": "2022-04-24T13:26:15.733Z"
   },
   {
    "duration": 7,
    "start_time": "2022-04-24T13:26:15.741Z"
   },
   {
    "duration": 14,
    "start_time": "2022-04-24T13:26:15.750Z"
   },
   {
    "duration": 30,
    "start_time": "2022-04-24T13:26:15.766Z"
   },
   {
    "duration": 8,
    "start_time": "2022-04-24T13:26:15.797Z"
   },
   {
    "duration": 7,
    "start_time": "2022-04-24T13:26:15.807Z"
   },
   {
    "duration": 8,
    "start_time": "2022-04-24T13:26:15.817Z"
   },
   {
    "duration": 6,
    "start_time": "2022-04-24T13:26:15.827Z"
   },
   {
    "duration": 7,
    "start_time": "2022-04-24T13:26:15.834Z"
   },
   {
    "duration": 7,
    "start_time": "2022-04-24T13:26:15.843Z"
   },
   {
    "duration": 40,
    "start_time": "2022-04-24T13:26:15.851Z"
   },
   {
    "duration": 7,
    "start_time": "2022-04-24T13:26:15.893Z"
   },
   {
    "duration": 8,
    "start_time": "2022-04-24T13:26:15.902Z"
   },
   {
    "duration": 6,
    "start_time": "2022-04-24T13:26:15.911Z"
   },
   {
    "duration": 8,
    "start_time": "2022-04-24T13:26:15.918Z"
   },
   {
    "duration": 7,
    "start_time": "2022-04-24T13:26:15.927Z"
   },
   {
    "duration": 6,
    "start_time": "2022-04-24T13:26:15.936Z"
   },
   {
    "duration": 384,
    "start_time": "2022-04-24T13:26:45.406Z"
   },
   {
    "duration": 228,
    "start_time": "2022-04-24T13:26:45.793Z"
   },
   {
    "duration": 10,
    "start_time": "2022-04-24T13:26:46.024Z"
   },
   {
    "duration": 58,
    "start_time": "2022-04-24T13:26:46.036Z"
   },
   {
    "duration": 6,
    "start_time": "2022-04-24T13:26:46.096Z"
   },
   {
    "duration": 17,
    "start_time": "2022-04-24T13:26:46.103Z"
   },
   {
    "duration": 6,
    "start_time": "2022-04-24T13:26:46.122Z"
   },
   {
    "duration": 6,
    "start_time": "2022-04-24T13:26:46.129Z"
   },
   {
    "duration": 3,
    "start_time": "2022-04-24T13:26:46.162Z"
   },
   {
    "duration": 47,
    "start_time": "2022-04-24T13:26:46.167Z"
   },
   {
    "duration": 26,
    "start_time": "2022-04-24T13:26:46.216Z"
   },
   {
    "duration": 30,
    "start_time": "2022-04-24T13:26:46.244Z"
   },
   {
    "duration": 31,
    "start_time": "2022-04-24T13:26:46.277Z"
   },
   {
    "duration": 14,
    "start_time": "2022-04-24T13:26:46.309Z"
   },
   {
    "duration": 15,
    "start_time": "2022-04-24T13:26:46.324Z"
   },
   {
    "duration": 48,
    "start_time": "2022-04-24T13:26:46.340Z"
   },
   {
    "duration": 19,
    "start_time": "2022-04-24T13:26:46.390Z"
   },
   {
    "duration": 25,
    "start_time": "2022-04-24T13:26:46.410Z"
   },
   {
    "duration": 17,
    "start_time": "2022-04-24T13:26:46.437Z"
   },
   {
    "duration": 45,
    "start_time": "2022-04-24T13:26:46.456Z"
   },
   {
    "duration": 21,
    "start_time": "2022-04-24T13:26:46.503Z"
   },
   {
    "duration": 16,
    "start_time": "2022-04-24T13:26:46.527Z"
   },
   {
    "duration": 8,
    "start_time": "2022-04-24T13:26:46.545Z"
   },
   {
    "duration": 35,
    "start_time": "2022-04-24T13:26:46.559Z"
   },
   {
    "duration": 17,
    "start_time": "2022-04-24T13:26:46.596Z"
   },
   {
    "duration": 24,
    "start_time": "2022-04-24T13:26:46.615Z"
   },
   {
    "duration": 8,
    "start_time": "2022-04-24T13:26:46.641Z"
   },
   {
    "duration": 26,
    "start_time": "2022-04-24T13:26:46.651Z"
   },
   {
    "duration": 24,
    "start_time": "2022-04-24T13:26:46.679Z"
   },
   {
    "duration": 8,
    "start_time": "2022-04-24T13:26:46.706Z"
   },
   {
    "duration": 34,
    "start_time": "2022-04-24T13:26:46.716Z"
   },
   {
    "duration": 37,
    "start_time": "2022-04-24T13:26:46.752Z"
   },
   {
    "duration": 34,
    "start_time": "2022-04-24T13:26:46.791Z"
   },
   {
    "duration": 22,
    "start_time": "2022-04-24T13:26:46.827Z"
   },
   {
    "duration": 47,
    "start_time": "2022-04-24T13:26:46.851Z"
   },
   {
    "duration": 18,
    "start_time": "2022-04-24T13:26:46.900Z"
   },
   {
    "duration": 16,
    "start_time": "2022-04-24T13:26:46.920Z"
   },
   {
    "duration": 28,
    "start_time": "2022-04-24T13:26:46.938Z"
   },
   {
    "duration": 57,
    "start_time": "2022-04-24T13:32:18.139Z"
   },
   {
    "duration": 2536,
    "start_time": "2022-04-24T13:46:38.879Z"
   },
   {
    "duration": 2686,
    "start_time": "2022-04-24T13:46:50.106Z"
   },
   {
    "duration": 414,
    "start_time": "2022-04-24T13:47:06.097Z"
   },
   {
    "duration": 195,
    "start_time": "2022-04-24T13:47:06.513Z"
   },
   {
    "duration": 8,
    "start_time": "2022-04-24T13:47:06.710Z"
   },
   {
    "duration": 30,
    "start_time": "2022-04-24T13:47:06.720Z"
   },
   {
    "duration": 7,
    "start_time": "2022-04-24T13:47:06.754Z"
   },
   {
    "duration": 41,
    "start_time": "2022-04-24T13:47:06.768Z"
   },
   {
    "duration": 6,
    "start_time": "2022-04-24T13:47:06.811Z"
   },
   {
    "duration": 26,
    "start_time": "2022-04-24T13:47:06.818Z"
   },
   {
    "duration": 2286,
    "start_time": "2022-04-24T13:47:06.846Z"
   },
   {
    "duration": 0,
    "start_time": "2022-04-24T13:47:09.135Z"
   },
   {
    "duration": 0,
    "start_time": "2022-04-24T13:47:09.137Z"
   },
   {
    "duration": 0,
    "start_time": "2022-04-24T13:47:09.138Z"
   },
   {
    "duration": 0,
    "start_time": "2022-04-24T13:47:09.140Z"
   },
   {
    "duration": 0,
    "start_time": "2022-04-24T13:47:09.141Z"
   },
   {
    "duration": 0,
    "start_time": "2022-04-24T13:47:09.142Z"
   },
   {
    "duration": 0,
    "start_time": "2022-04-24T13:47:09.143Z"
   },
   {
    "duration": 1,
    "start_time": "2022-04-24T13:47:09.144Z"
   },
   {
    "duration": 0,
    "start_time": "2022-04-24T13:47:09.146Z"
   },
   {
    "duration": 0,
    "start_time": "2022-04-24T13:47:09.147Z"
   },
   {
    "duration": 0,
    "start_time": "2022-04-24T13:47:09.148Z"
   },
   {
    "duration": 0,
    "start_time": "2022-04-24T13:47:09.150Z"
   },
   {
    "duration": 0,
    "start_time": "2022-04-24T13:47:09.151Z"
   },
   {
    "duration": 0,
    "start_time": "2022-04-24T13:47:09.151Z"
   },
   {
    "duration": 0,
    "start_time": "2022-04-24T13:47:09.152Z"
   },
   {
    "duration": 0,
    "start_time": "2022-04-24T13:47:09.154Z"
   },
   {
    "duration": 0,
    "start_time": "2022-04-24T13:47:09.154Z"
   },
   {
    "duration": 0,
    "start_time": "2022-04-24T13:47:09.157Z"
   },
   {
    "duration": 0,
    "start_time": "2022-04-24T13:47:09.158Z"
   },
   {
    "duration": 0,
    "start_time": "2022-04-24T13:47:09.158Z"
   },
   {
    "duration": 0,
    "start_time": "2022-04-24T13:47:09.162Z"
   },
   {
    "duration": 0,
    "start_time": "2022-04-24T13:47:09.164Z"
   },
   {
    "duration": 0,
    "start_time": "2022-04-24T13:47:09.165Z"
   },
   {
    "duration": 0,
    "start_time": "2022-04-24T13:47:09.166Z"
   },
   {
    "duration": 0,
    "start_time": "2022-04-24T13:47:09.167Z"
   },
   {
    "duration": 0,
    "start_time": "2022-04-24T13:47:09.168Z"
   },
   {
    "duration": 0,
    "start_time": "2022-04-24T13:47:09.169Z"
   },
   {
    "duration": 0,
    "start_time": "2022-04-24T13:47:09.170Z"
   },
   {
    "duration": 0,
    "start_time": "2022-04-24T13:47:09.171Z"
   },
   {
    "duration": 1999,
    "start_time": "2022-04-24T13:47:23.832Z"
   },
   {
    "duration": 19,
    "start_time": "2022-04-24T13:47:49.928Z"
   },
   {
    "duration": 25,
    "start_time": "2022-04-24T13:48:03.890Z"
   },
   {
    "duration": 51,
    "start_time": "2022-04-24T14:43:10.748Z"
   },
   {
    "duration": 7,
    "start_time": "2022-04-24T14:43:57.746Z"
   },
   {
    "duration": 383,
    "start_time": "2022-04-24T14:44:14.217Z"
   },
   {
    "duration": 166,
    "start_time": "2022-04-24T14:44:14.602Z"
   },
   {
    "duration": 12,
    "start_time": "2022-04-24T14:44:14.770Z"
   },
   {
    "duration": 55,
    "start_time": "2022-04-24T14:44:14.784Z"
   },
   {
    "duration": 18,
    "start_time": "2022-04-24T14:44:14.842Z"
   },
   {
    "duration": 23,
    "start_time": "2022-04-24T14:44:14.863Z"
   },
   {
    "duration": 7,
    "start_time": "2022-04-24T14:44:14.888Z"
   },
   {
    "duration": 27,
    "start_time": "2022-04-24T14:44:14.896Z"
   },
   {
    "duration": 70,
    "start_time": "2022-04-24T14:44:14.925Z"
   },
   {
    "duration": 0,
    "start_time": "2022-04-24T14:44:14.997Z"
   },
   {
    "duration": 0,
    "start_time": "2022-04-24T14:44:14.998Z"
   },
   {
    "duration": 0,
    "start_time": "2022-04-24T14:44:14.999Z"
   },
   {
    "duration": 0,
    "start_time": "2022-04-24T14:44:15.000Z"
   },
   {
    "duration": 0,
    "start_time": "2022-04-24T14:44:15.001Z"
   },
   {
    "duration": 0,
    "start_time": "2022-04-24T14:44:15.002Z"
   },
   {
    "duration": 0,
    "start_time": "2022-04-24T14:44:15.003Z"
   },
   {
    "duration": 0,
    "start_time": "2022-04-24T14:44:15.004Z"
   },
   {
    "duration": 0,
    "start_time": "2022-04-24T14:44:15.005Z"
   },
   {
    "duration": 0,
    "start_time": "2022-04-24T14:44:15.006Z"
   },
   {
    "duration": 0,
    "start_time": "2022-04-24T14:44:15.007Z"
   },
   {
    "duration": 0,
    "start_time": "2022-04-24T14:44:15.008Z"
   },
   {
    "duration": 0,
    "start_time": "2022-04-24T14:44:15.009Z"
   },
   {
    "duration": 0,
    "start_time": "2022-04-24T14:44:15.011Z"
   },
   {
    "duration": 0,
    "start_time": "2022-04-24T14:44:15.011Z"
   },
   {
    "duration": 0,
    "start_time": "2022-04-24T14:44:15.012Z"
   },
   {
    "duration": 0,
    "start_time": "2022-04-24T14:44:15.015Z"
   },
   {
    "duration": 0,
    "start_time": "2022-04-24T14:44:15.016Z"
   },
   {
    "duration": 0,
    "start_time": "2022-04-24T14:44:15.017Z"
   },
   {
    "duration": 0,
    "start_time": "2022-04-24T14:44:15.054Z"
   },
   {
    "duration": 0,
    "start_time": "2022-04-24T14:44:15.055Z"
   },
   {
    "duration": 0,
    "start_time": "2022-04-24T14:44:15.056Z"
   },
   {
    "duration": 0,
    "start_time": "2022-04-24T14:44:15.056Z"
   },
   {
    "duration": 0,
    "start_time": "2022-04-24T14:44:15.057Z"
   },
   {
    "duration": 0,
    "start_time": "2022-04-24T14:44:15.058Z"
   },
   {
    "duration": 0,
    "start_time": "2022-04-24T14:44:15.058Z"
   },
   {
    "duration": 0,
    "start_time": "2022-04-24T14:44:15.059Z"
   },
   {
    "duration": 0,
    "start_time": "2022-04-24T14:44:15.059Z"
   },
   {
    "duration": 0,
    "start_time": "2022-04-24T14:44:15.060Z"
   },
   {
    "duration": 0,
    "start_time": "2022-04-24T14:44:15.060Z"
   },
   {
    "duration": 18,
    "start_time": "2022-04-24T14:47:59.107Z"
   },
   {
    "duration": 25,
    "start_time": "2022-04-24T14:48:01.308Z"
   },
   {
    "duration": 65,
    "start_time": "2022-04-24T14:50:31.831Z"
   },
   {
    "duration": 41,
    "start_time": "2022-04-24T14:53:40.346Z"
   },
   {
    "duration": 66,
    "start_time": "2022-04-24T14:53:41.759Z"
   },
   {
    "duration": 431,
    "start_time": "2022-04-24T14:53:49.650Z"
   },
   {
    "duration": 157,
    "start_time": "2022-04-24T14:53:50.083Z"
   },
   {
    "duration": 13,
    "start_time": "2022-04-24T14:53:50.242Z"
   },
   {
    "duration": 31,
    "start_time": "2022-04-24T14:53:50.258Z"
   },
   {
    "duration": 4,
    "start_time": "2022-04-24T14:53:50.290Z"
   },
   {
    "duration": 21,
    "start_time": "2022-04-24T14:53:50.295Z"
   },
   {
    "duration": 6,
    "start_time": "2022-04-24T14:53:50.318Z"
   },
   {
    "duration": 47,
    "start_time": "2022-04-24T14:53:50.326Z"
   },
   {
    "duration": 29,
    "start_time": "2022-04-24T14:53:50.375Z"
   },
   {
    "duration": 27,
    "start_time": "2022-04-24T14:53:50.407Z"
   },
   {
    "duration": 92,
    "start_time": "2022-04-24T14:53:50.435Z"
   },
   {
    "duration": 36,
    "start_time": "2022-04-24T14:53:50.529Z"
   },
   {
    "duration": 65,
    "start_time": "2022-04-24T14:53:50.567Z"
   },
   {
    "duration": 21,
    "start_time": "2022-04-24T14:53:50.634Z"
   },
   {
    "duration": 8,
    "start_time": "2022-04-24T14:53:50.657Z"
   },
   {
    "duration": 7,
    "start_time": "2022-04-24T14:53:50.667Z"
   },
   {
    "duration": 24,
    "start_time": "2022-04-24T14:53:50.675Z"
   },
   {
    "duration": 14,
    "start_time": "2022-04-24T14:53:50.701Z"
   },
   {
    "duration": 8,
    "start_time": "2022-04-24T14:53:50.716Z"
   },
   {
    "duration": 17,
    "start_time": "2022-04-24T14:53:50.726Z"
   },
   {
    "duration": 8,
    "start_time": "2022-04-24T14:53:50.745Z"
   },
   {
    "duration": 10,
    "start_time": "2022-04-24T14:53:50.755Z"
   },
   {
    "duration": 11,
    "start_time": "2022-04-24T14:53:50.766Z"
   },
   {
    "duration": 11,
    "start_time": "2022-04-24T14:53:50.779Z"
   },
   {
    "duration": 11,
    "start_time": "2022-04-24T14:53:50.792Z"
   },
   {
    "duration": 5,
    "start_time": "2022-04-24T14:53:50.805Z"
   },
   {
    "duration": 6,
    "start_time": "2022-04-24T14:53:50.812Z"
   },
   {
    "duration": 4,
    "start_time": "2022-04-24T14:53:50.821Z"
   },
   {
    "duration": 6,
    "start_time": "2022-04-24T14:53:50.827Z"
   },
   {
    "duration": 5,
    "start_time": "2022-04-24T14:53:50.835Z"
   },
   {
    "duration": 7,
    "start_time": "2022-04-24T14:53:50.842Z"
   },
   {
    "duration": 8,
    "start_time": "2022-04-24T14:53:50.850Z"
   },
   {
    "duration": 7,
    "start_time": "2022-04-24T14:53:50.860Z"
   },
   {
    "duration": 7,
    "start_time": "2022-04-24T14:53:50.869Z"
   },
   {
    "duration": 4,
    "start_time": "2022-04-24T14:53:50.878Z"
   },
   {
    "duration": 11,
    "start_time": "2022-04-24T14:53:50.884Z"
   },
   {
    "duration": 4,
    "start_time": "2022-04-24T14:53:50.897Z"
   },
   {
    "duration": 4,
    "start_time": "2022-04-24T14:53:50.903Z"
   },
   {
    "duration": 82,
    "start_time": "2022-04-24T14:55:05.260Z"
   },
   {
    "duration": 65,
    "start_time": "2022-04-24T14:55:06.464Z"
   },
   {
    "duration": 456,
    "start_time": "2022-04-24T14:55:12.137Z"
   },
   {
    "duration": 208,
    "start_time": "2022-04-24T14:55:12.596Z"
   },
   {
    "duration": 10,
    "start_time": "2022-04-24T14:55:12.806Z"
   },
   {
    "duration": 45,
    "start_time": "2022-04-24T14:55:12.818Z"
   },
   {
    "duration": 5,
    "start_time": "2022-04-24T14:55:12.865Z"
   },
   {
    "duration": 20,
    "start_time": "2022-04-24T14:55:12.872Z"
   },
   {
    "duration": 10,
    "start_time": "2022-04-24T14:55:12.894Z"
   },
   {
    "duration": 30,
    "start_time": "2022-04-24T14:55:12.905Z"
   },
   {
    "duration": 20,
    "start_time": "2022-04-24T14:55:12.955Z"
   },
   {
    "duration": 26,
    "start_time": "2022-04-24T14:55:12.978Z"
   },
   {
    "duration": 79,
    "start_time": "2022-04-24T14:55:13.005Z"
   },
   {
    "duration": 84,
    "start_time": "2022-04-24T14:55:13.086Z"
   },
   {
    "duration": 64,
    "start_time": "2022-04-24T14:55:13.172Z"
   },
   {
    "duration": 3,
    "start_time": "2022-04-24T14:55:13.238Z"
   },
   {
    "duration": 18,
    "start_time": "2022-04-24T14:55:13.242Z"
   },
   {
    "duration": 4,
    "start_time": "2022-04-24T14:55:13.262Z"
   },
   {
    "duration": 8,
    "start_time": "2022-04-24T14:55:13.268Z"
   },
   {
    "duration": 5,
    "start_time": "2022-04-24T14:55:13.278Z"
   },
   {
    "duration": 5,
    "start_time": "2022-04-24T14:55:13.284Z"
   },
   {
    "duration": 5,
    "start_time": "2022-04-24T14:55:13.291Z"
   },
   {
    "duration": 8,
    "start_time": "2022-04-24T14:55:13.297Z"
   },
   {
    "duration": 7,
    "start_time": "2022-04-24T14:55:13.307Z"
   },
   {
    "duration": 8,
    "start_time": "2022-04-24T14:55:13.315Z"
   },
   {
    "duration": 5,
    "start_time": "2022-04-24T14:55:13.325Z"
   },
   {
    "duration": 5,
    "start_time": "2022-04-24T14:55:13.331Z"
   },
   {
    "duration": 16,
    "start_time": "2022-04-24T14:55:13.338Z"
   },
   {
    "duration": 5,
    "start_time": "2022-04-24T14:55:13.356Z"
   },
   {
    "duration": 3,
    "start_time": "2022-04-24T14:55:13.364Z"
   },
   {
    "duration": 4,
    "start_time": "2022-04-24T14:55:13.369Z"
   },
   {
    "duration": 5,
    "start_time": "2022-04-24T14:55:13.375Z"
   },
   {
    "duration": 7,
    "start_time": "2022-04-24T14:55:13.382Z"
   },
   {
    "duration": 11,
    "start_time": "2022-04-24T14:55:13.391Z"
   },
   {
    "duration": 11,
    "start_time": "2022-04-24T14:55:13.404Z"
   },
   {
    "duration": 6,
    "start_time": "2022-04-24T14:55:13.417Z"
   },
   {
    "duration": 7,
    "start_time": "2022-04-24T14:55:13.424Z"
   },
   {
    "duration": 5,
    "start_time": "2022-04-24T14:55:13.432Z"
   },
   {
    "duration": 4,
    "start_time": "2022-04-24T14:55:13.439Z"
   },
   {
    "duration": 3,
    "start_time": "2022-04-24T14:55:13.454Z"
   },
   {
    "duration": 74,
    "start_time": "2022-04-24T15:06:22.932Z"
   },
   {
    "duration": 57,
    "start_time": "2022-04-24T15:06:24.258Z"
   },
   {
    "duration": 7,
    "start_time": "2022-04-24T15:11:18.974Z"
   },
   {
    "duration": 55,
    "start_time": "2022-04-24T17:17:28.981Z"
   },
   {
    "duration": 453,
    "start_time": "2022-04-24T17:17:46.701Z"
   },
   {
    "duration": 178,
    "start_time": "2022-04-24T17:17:47.156Z"
   },
   {
    "duration": 9,
    "start_time": "2022-04-24T17:17:47.335Z"
   },
   {
    "duration": 35,
    "start_time": "2022-04-24T17:17:47.346Z"
   },
   {
    "duration": 4,
    "start_time": "2022-04-24T17:17:47.383Z"
   },
   {
    "duration": 17,
    "start_time": "2022-04-24T17:17:47.389Z"
   },
   {
    "duration": 26,
    "start_time": "2022-04-24T17:17:47.408Z"
   },
   {
    "duration": 30,
    "start_time": "2022-04-24T17:17:47.436Z"
   },
   {
    "duration": 19,
    "start_time": "2022-04-24T17:17:47.468Z"
   },
   {
    "duration": 42,
    "start_time": "2022-04-24T17:17:47.491Z"
   },
   {
    "duration": 69,
    "start_time": "2022-04-24T17:17:47.535Z"
   },
   {
    "duration": 98,
    "start_time": "2022-04-24T17:17:47.606Z"
   },
   {
    "duration": 71,
    "start_time": "2022-04-24T17:17:47.705Z"
   },
   {
    "duration": 8,
    "start_time": "2022-04-24T17:17:47.778Z"
   },
   {
    "duration": 89,
    "start_time": "2022-04-24T17:17:47.787Z"
   },
   {
    "duration": 0,
    "start_time": "2022-04-24T17:17:47.877Z"
   },
   {
    "duration": 0,
    "start_time": "2022-04-24T17:17:47.879Z"
   },
   {
    "duration": 0,
    "start_time": "2022-04-24T17:17:47.880Z"
   },
   {
    "duration": 0,
    "start_time": "2022-04-24T17:17:47.882Z"
   },
   {
    "duration": 1,
    "start_time": "2022-04-24T17:17:47.882Z"
   },
   {
    "duration": 0,
    "start_time": "2022-04-24T17:17:47.884Z"
   },
   {
    "duration": 0,
    "start_time": "2022-04-24T17:17:47.884Z"
   },
   {
    "duration": 0,
    "start_time": "2022-04-24T17:17:47.886Z"
   },
   {
    "duration": 0,
    "start_time": "2022-04-24T17:17:47.886Z"
   },
   {
    "duration": 0,
    "start_time": "2022-04-24T17:17:47.887Z"
   },
   {
    "duration": 0,
    "start_time": "2022-04-24T17:17:47.888Z"
   },
   {
    "duration": 0,
    "start_time": "2022-04-24T17:17:47.889Z"
   },
   {
    "duration": 0,
    "start_time": "2022-04-24T17:17:47.890Z"
   },
   {
    "duration": 0,
    "start_time": "2022-04-24T17:17:47.891Z"
   },
   {
    "duration": 0,
    "start_time": "2022-04-24T17:17:47.892Z"
   },
   {
    "duration": 0,
    "start_time": "2022-04-24T17:17:47.893Z"
   },
   {
    "duration": 0,
    "start_time": "2022-04-24T17:17:47.894Z"
   },
   {
    "duration": 0,
    "start_time": "2022-04-24T17:17:47.895Z"
   },
   {
    "duration": 0,
    "start_time": "2022-04-24T17:17:47.896Z"
   },
   {
    "duration": 0,
    "start_time": "2022-04-24T17:17:47.897Z"
   },
   {
    "duration": 0,
    "start_time": "2022-04-24T17:17:47.898Z"
   },
   {
    "duration": 0,
    "start_time": "2022-04-24T17:17:47.899Z"
   },
   {
    "duration": 0,
    "start_time": "2022-04-24T17:17:47.899Z"
   },
   {
    "duration": 11,
    "start_time": "2022-04-24T17:18:14.898Z"
   },
   {
    "duration": 17,
    "start_time": "2022-04-24T17:18:40.585Z"
   },
   {
    "duration": 432,
    "start_time": "2022-04-24T17:21:35.525Z"
   },
   {
    "duration": 170,
    "start_time": "2022-04-24T17:21:35.959Z"
   },
   {
    "duration": 9,
    "start_time": "2022-04-24T17:21:36.130Z"
   },
   {
    "duration": 31,
    "start_time": "2022-04-24T17:21:36.141Z"
   },
   {
    "duration": 3,
    "start_time": "2022-04-24T17:21:36.174Z"
   },
   {
    "duration": 17,
    "start_time": "2022-04-24T17:21:36.179Z"
   },
   {
    "duration": 7,
    "start_time": "2022-04-24T17:21:36.198Z"
   },
   {
    "duration": 52,
    "start_time": "2022-04-24T17:21:36.206Z"
   },
   {
    "duration": 20,
    "start_time": "2022-04-24T17:21:36.260Z"
   },
   {
    "duration": 25,
    "start_time": "2022-04-24T17:21:36.283Z"
   },
   {
    "duration": 88,
    "start_time": "2022-04-24T17:21:36.309Z"
   },
   {
    "duration": 96,
    "start_time": "2022-04-24T17:21:36.398Z"
   },
   {
    "duration": 65,
    "start_time": "2022-04-24T17:21:36.495Z"
   },
   {
    "duration": 7,
    "start_time": "2022-04-24T17:21:36.562Z"
   },
   {
    "duration": 7,
    "start_time": "2022-04-24T17:21:36.571Z"
   },
   {
    "duration": 17,
    "start_time": "2022-04-24T17:21:36.579Z"
   },
   {
    "duration": 2,
    "start_time": "2022-04-24T17:21:36.598Z"
   },
   {
    "duration": 7,
    "start_time": "2022-04-24T17:21:36.601Z"
   },
   {
    "duration": 24,
    "start_time": "2022-04-24T17:21:36.609Z"
   },
   {
    "duration": 4,
    "start_time": "2022-04-24T17:21:36.635Z"
   },
   {
    "duration": 9,
    "start_time": "2022-04-24T17:21:36.641Z"
   },
   {
    "duration": 4,
    "start_time": "2022-04-24T17:21:36.652Z"
   },
   {
    "duration": 6,
    "start_time": "2022-04-24T17:21:36.658Z"
   },
   {
    "duration": 6,
    "start_time": "2022-04-24T17:21:36.666Z"
   },
   {
    "duration": 6,
    "start_time": "2022-04-24T17:21:36.674Z"
   },
   {
    "duration": 10,
    "start_time": "2022-04-24T17:21:36.681Z"
   },
   {
    "duration": 6,
    "start_time": "2022-04-24T17:21:36.693Z"
   },
   {
    "duration": 3,
    "start_time": "2022-04-24T17:21:36.703Z"
   },
   {
    "duration": 26,
    "start_time": "2022-04-24T17:21:36.708Z"
   },
   {
    "duration": 3,
    "start_time": "2022-04-24T17:21:36.736Z"
   },
   {
    "duration": 9,
    "start_time": "2022-04-24T17:21:36.741Z"
   },
   {
    "duration": 7,
    "start_time": "2022-04-24T17:21:36.751Z"
   },
   {
    "duration": 8,
    "start_time": "2022-04-24T17:21:36.760Z"
   },
   {
    "duration": 5,
    "start_time": "2022-04-24T17:21:36.770Z"
   },
   {
    "duration": 5,
    "start_time": "2022-04-24T17:21:36.777Z"
   },
   {
    "duration": 5,
    "start_time": "2022-04-24T17:21:36.784Z"
   },
   {
    "duration": 6,
    "start_time": "2022-04-24T17:21:36.791Z"
   },
   {
    "duration": 6,
    "start_time": "2022-04-24T17:21:36.798Z"
   },
   {
    "duration": 10,
    "start_time": "2022-04-24T17:23:19.472Z"
   },
   {
    "duration": 705,
    "start_time": "2022-04-24T20:24:38.589Z"
   },
   {
    "duration": 257,
    "start_time": "2022-04-24T20:24:39.297Z"
   },
   {
    "duration": 14,
    "start_time": "2022-04-24T20:24:39.557Z"
   },
   {
    "duration": 58,
    "start_time": "2022-04-24T20:24:39.575Z"
   },
   {
    "duration": 5,
    "start_time": "2022-04-24T20:24:39.636Z"
   },
   {
    "duration": 21,
    "start_time": "2022-04-24T20:24:39.643Z"
   },
   {
    "duration": 5,
    "start_time": "2022-04-24T20:24:39.693Z"
   },
   {
    "duration": 35,
    "start_time": "2022-04-24T20:24:39.700Z"
   },
   {
    "duration": 62,
    "start_time": "2022-04-24T20:24:39.738Z"
   },
   {
    "duration": 35,
    "start_time": "2022-04-24T20:24:39.805Z"
   },
   {
    "duration": 118,
    "start_time": "2022-04-24T20:24:39.843Z"
   },
   {
    "duration": 142,
    "start_time": "2022-04-24T20:24:39.964Z"
   },
   {
    "duration": 105,
    "start_time": "2022-04-24T20:24:40.109Z"
   },
   {
    "duration": 12,
    "start_time": "2022-04-24T20:24:40.217Z"
   },
   {
    "duration": 8,
    "start_time": "2022-04-24T20:24:40.231Z"
   },
   {
    "duration": 19,
    "start_time": "2022-04-24T20:24:40.242Z"
   },
   {
    "duration": 33,
    "start_time": "2022-04-24T20:24:40.263Z"
   },
   {
    "duration": 6,
    "start_time": "2022-04-24T20:24:40.298Z"
   },
   {
    "duration": 5,
    "start_time": "2022-04-24T20:24:40.307Z"
   },
   {
    "duration": 6,
    "start_time": "2022-04-24T20:24:40.314Z"
   },
   {
    "duration": 8,
    "start_time": "2022-04-24T20:24:40.323Z"
   },
   {
    "duration": 6,
    "start_time": "2022-04-24T20:24:40.334Z"
   },
   {
    "duration": 13,
    "start_time": "2022-04-24T20:24:40.342Z"
   },
   {
    "duration": 36,
    "start_time": "2022-04-24T20:24:40.357Z"
   },
   {
    "duration": 4,
    "start_time": "2022-04-24T20:24:40.395Z"
   },
   {
    "duration": 12,
    "start_time": "2022-04-24T20:24:40.401Z"
   },
   {
    "duration": 6,
    "start_time": "2022-04-24T20:24:40.415Z"
   },
   {
    "duration": 3,
    "start_time": "2022-04-24T20:24:40.426Z"
   },
   {
    "duration": 6,
    "start_time": "2022-04-24T20:24:40.431Z"
   },
   {
    "duration": 7,
    "start_time": "2022-04-24T20:24:40.439Z"
   },
   {
    "duration": 7,
    "start_time": "2022-04-24T20:24:40.448Z"
   },
   {
    "duration": 4,
    "start_time": "2022-04-24T20:24:40.494Z"
   },
   {
    "duration": 8,
    "start_time": "2022-04-24T20:24:40.500Z"
   },
   {
    "duration": 10,
    "start_time": "2022-04-24T20:24:40.511Z"
   },
   {
    "duration": 6,
    "start_time": "2022-04-24T20:24:40.524Z"
   },
   {
    "duration": 8,
    "start_time": "2022-04-24T20:24:40.532Z"
   },
   {
    "duration": 9,
    "start_time": "2022-04-24T20:24:40.542Z"
   },
   {
    "duration": 11,
    "start_time": "2022-04-24T20:24:40.553Z"
   },
   {
    "duration": 103,
    "start_time": "2022-04-24T20:35:03.013Z"
   },
   {
    "duration": 90,
    "start_time": "2022-04-25T06:16:08.134Z"
   },
   {
    "duration": 10,
    "start_time": "2022-04-25T06:16:26.556Z"
   },
   {
    "duration": 10,
    "start_time": "2022-04-25T06:16:41.481Z"
   },
   {
    "duration": 10,
    "start_time": "2022-04-25T06:16:45.682Z"
   },
   {
    "duration": 537,
    "start_time": "2022-04-25T06:18:23.149Z"
   },
   {
    "duration": 192,
    "start_time": "2022-04-25T06:18:23.693Z"
   },
   {
    "duration": 10,
    "start_time": "2022-04-25T06:18:23.887Z"
   },
   {
    "duration": 41,
    "start_time": "2022-04-25T06:18:23.900Z"
   },
   {
    "duration": 6,
    "start_time": "2022-04-25T06:18:23.943Z"
   },
   {
    "duration": 52,
    "start_time": "2022-04-25T06:18:23.952Z"
   },
   {
    "duration": 8,
    "start_time": "2022-04-25T06:18:24.006Z"
   },
   {
    "duration": 51,
    "start_time": "2022-04-25T06:18:24.017Z"
   },
   {
    "duration": 48,
    "start_time": "2022-04-25T06:18:24.071Z"
   },
   {
    "duration": 48,
    "start_time": "2022-04-25T06:18:24.125Z"
   },
   {
    "duration": 128,
    "start_time": "2022-04-25T06:18:24.194Z"
   },
   {
    "duration": 162,
    "start_time": "2022-04-25T06:18:24.324Z"
   },
   {
    "duration": 124,
    "start_time": "2022-04-25T06:18:24.492Z"
   },
   {
    "duration": 19,
    "start_time": "2022-04-25T06:18:24.618Z"
   },
   {
    "duration": 7,
    "start_time": "2022-04-25T06:18:24.639Z"
   },
   {
    "duration": 17,
    "start_time": "2022-04-25T06:18:24.649Z"
   },
   {
    "duration": 30,
    "start_time": "2022-04-25T06:18:24.668Z"
   },
   {
    "duration": 5,
    "start_time": "2022-04-25T06:18:24.700Z"
   },
   {
    "duration": 5,
    "start_time": "2022-04-25T06:18:24.707Z"
   },
   {
    "duration": 5,
    "start_time": "2022-04-25T06:18:24.715Z"
   },
   {
    "duration": 13,
    "start_time": "2022-04-25T06:18:24.722Z"
   },
   {
    "duration": 11,
    "start_time": "2022-04-25T06:18:24.737Z"
   },
   {
    "duration": 10,
    "start_time": "2022-04-25T06:18:24.750Z"
   },
   {
    "duration": 5,
    "start_time": "2022-04-25T06:18:24.762Z"
   },
   {
    "duration": 7,
    "start_time": "2022-04-25T06:18:24.793Z"
   },
   {
    "duration": 10,
    "start_time": "2022-04-25T06:18:24.802Z"
   },
   {
    "duration": 8,
    "start_time": "2022-04-25T06:18:24.813Z"
   },
   {
    "duration": 7,
    "start_time": "2022-04-25T06:18:24.826Z"
   },
   {
    "duration": 7,
    "start_time": "2022-04-25T06:18:24.835Z"
   },
   {
    "duration": 9,
    "start_time": "2022-04-25T06:18:24.844Z"
   },
   {
    "duration": 12,
    "start_time": "2022-04-25T06:18:24.855Z"
   },
   {
    "duration": 24,
    "start_time": "2022-04-25T06:18:24.869Z"
   },
   {
    "duration": 3,
    "start_time": "2022-04-25T06:18:24.895Z"
   },
   {
    "duration": 9,
    "start_time": "2022-04-25T06:18:24.900Z"
   },
   {
    "duration": 7,
    "start_time": "2022-04-25T06:18:24.911Z"
   },
   {
    "duration": 8,
    "start_time": "2022-04-25T06:18:24.920Z"
   },
   {
    "duration": 10,
    "start_time": "2022-04-25T06:18:24.930Z"
   },
   {
    "duration": 6,
    "start_time": "2022-04-25T06:18:24.942Z"
   },
   {
    "duration": 3,
    "start_time": "2022-04-25T06:19:15.749Z"
   },
   {
    "duration": 249,
    "start_time": "2022-04-25T06:19:15.760Z"
   },
   {
    "duration": 10,
    "start_time": "2022-04-25T06:19:16.011Z"
   },
   {
    "duration": 45,
    "start_time": "2022-04-25T06:19:16.023Z"
   },
   {
    "duration": 23,
    "start_time": "2022-04-25T06:19:16.071Z"
   },
   {
    "duration": 15,
    "start_time": "2022-04-25T06:19:16.097Z"
   },
   {
    "duration": 5,
    "start_time": "2022-04-25T06:19:16.114Z"
   },
   {
    "duration": 36,
    "start_time": "2022-04-25T06:19:16.121Z"
   },
   {
    "duration": 56,
    "start_time": "2022-04-25T06:19:16.159Z"
   },
   {
    "duration": 32,
    "start_time": "2022-04-25T06:19:16.217Z"
   },
   {
    "duration": 123,
    "start_time": "2022-04-25T06:19:16.253Z"
   },
   {
    "duration": 129,
    "start_time": "2022-04-25T06:19:16.378Z"
   },
   {
    "duration": 96,
    "start_time": "2022-04-25T06:19:16.509Z"
   },
   {
    "duration": 5,
    "start_time": "2022-04-25T06:19:16.607Z"
   },
   {
    "duration": 16,
    "start_time": "2022-04-25T06:19:16.614Z"
   },
   {
    "duration": 10,
    "start_time": "2022-04-25T06:19:16.632Z"
   },
   {
    "duration": 7,
    "start_time": "2022-04-25T06:19:16.644Z"
   },
   {
    "duration": 10,
    "start_time": "2022-04-25T06:19:16.653Z"
   },
   {
    "duration": 4,
    "start_time": "2022-04-25T06:19:16.693Z"
   },
   {
    "duration": 16,
    "start_time": "2022-04-25T06:19:16.699Z"
   },
   {
    "duration": 10,
    "start_time": "2022-04-25T06:19:16.717Z"
   },
   {
    "duration": 9,
    "start_time": "2022-04-25T06:19:16.729Z"
   },
   {
    "duration": 10,
    "start_time": "2022-04-25T06:19:16.740Z"
   },
   {
    "duration": 7,
    "start_time": "2022-04-25T06:19:16.752Z"
   },
   {
    "duration": 10,
    "start_time": "2022-04-25T06:19:16.762Z"
   },
   {
    "duration": 19,
    "start_time": "2022-04-25T06:19:16.774Z"
   },
   {
    "duration": 3,
    "start_time": "2022-04-25T06:19:16.796Z"
   },
   {
    "duration": 6,
    "start_time": "2022-04-25T06:19:16.801Z"
   },
   {
    "duration": 5,
    "start_time": "2022-04-25T06:19:16.814Z"
   },
   {
    "duration": 11,
    "start_time": "2022-04-25T06:19:16.821Z"
   },
   {
    "duration": 8,
    "start_time": "2022-04-25T06:19:16.835Z"
   },
   {
    "duration": 9,
    "start_time": "2022-04-25T06:19:16.846Z"
   },
   {
    "duration": 9,
    "start_time": "2022-04-25T06:19:16.857Z"
   },
   {
    "duration": 3,
    "start_time": "2022-04-25T06:19:16.893Z"
   },
   {
    "duration": 12,
    "start_time": "2022-04-25T06:19:16.898Z"
   },
   {
    "duration": 7,
    "start_time": "2022-04-25T06:19:16.912Z"
   },
   {
    "duration": 6,
    "start_time": "2022-04-25T06:19:16.921Z"
   },
   {
    "duration": 520,
    "start_time": "2022-04-25T06:20:33.666Z"
   },
   {
    "duration": 215,
    "start_time": "2022-04-25T06:20:34.189Z"
   },
   {
    "duration": 12,
    "start_time": "2022-04-25T06:20:34.406Z"
   },
   {
    "duration": 47,
    "start_time": "2022-04-25T06:20:34.421Z"
   },
   {
    "duration": 26,
    "start_time": "2022-04-25T06:20:34.471Z"
   },
   {
    "duration": 24,
    "start_time": "2022-04-25T06:20:34.499Z"
   },
   {
    "duration": 11,
    "start_time": "2022-04-25T06:20:34.526Z"
   },
   {
    "duration": 58,
    "start_time": "2022-04-25T06:20:34.539Z"
   },
   {
    "duration": 25,
    "start_time": "2022-04-25T06:20:34.599Z"
   },
   {
    "duration": 32,
    "start_time": "2022-04-25T06:20:34.628Z"
   },
   {
    "duration": 120,
    "start_time": "2022-04-25T06:20:34.662Z"
   },
   {
    "duration": 125,
    "start_time": "2022-04-25T06:20:34.784Z"
   },
   {
    "duration": 102,
    "start_time": "2022-04-25T06:20:34.911Z"
   },
   {
    "duration": 5,
    "start_time": "2022-04-25T06:20:35.016Z"
   },
   {
    "duration": 29,
    "start_time": "2022-04-25T06:20:35.023Z"
   },
   {
    "duration": 11,
    "start_time": "2022-04-25T06:20:35.054Z"
   },
   {
    "duration": 5,
    "start_time": "2022-04-25T06:20:35.067Z"
   },
   {
    "duration": 23,
    "start_time": "2022-04-25T06:20:35.074Z"
   },
   {
    "duration": 8,
    "start_time": "2022-04-25T06:20:35.099Z"
   },
   {
    "duration": 12,
    "start_time": "2022-04-25T06:20:35.109Z"
   },
   {
    "duration": 5,
    "start_time": "2022-04-25T06:20:35.123Z"
   },
   {
    "duration": 7,
    "start_time": "2022-04-25T06:20:35.131Z"
   },
   {
    "duration": 7,
    "start_time": "2022-04-25T06:20:35.140Z"
   },
   {
    "duration": 7,
    "start_time": "2022-04-25T06:20:35.149Z"
   },
   {
    "duration": 7,
    "start_time": "2022-04-25T06:20:35.158Z"
   },
   {
    "duration": 28,
    "start_time": "2022-04-25T06:20:35.167Z"
   },
   {
    "duration": 7,
    "start_time": "2022-04-25T06:20:35.197Z"
   },
   {
    "duration": 4,
    "start_time": "2022-04-25T06:20:35.209Z"
   },
   {
    "duration": 6,
    "start_time": "2022-04-25T06:20:35.215Z"
   },
   {
    "duration": 10,
    "start_time": "2022-04-25T06:20:35.223Z"
   },
   {
    "duration": 8,
    "start_time": "2022-04-25T06:20:35.235Z"
   },
   {
    "duration": 10,
    "start_time": "2022-04-25T06:20:35.245Z"
   },
   {
    "duration": 36,
    "start_time": "2022-04-25T06:20:35.257Z"
   },
   {
    "duration": 4,
    "start_time": "2022-04-25T06:20:35.295Z"
   },
   {
    "duration": 6,
    "start_time": "2022-04-25T06:20:35.301Z"
   },
   {
    "duration": 6,
    "start_time": "2022-04-25T06:20:35.309Z"
   },
   {
    "duration": 7,
    "start_time": "2022-04-25T06:20:35.317Z"
   },
   {
    "duration": 19,
    "start_time": "2022-04-25T06:21:08.170Z"
   },
   {
    "duration": 10,
    "start_time": "2022-04-25T06:21:39.203Z"
   },
   {
    "duration": 12,
    "start_time": "2022-04-25T06:21:51.609Z"
   },
   {
    "duration": 11,
    "start_time": "2022-04-25T06:22:12.146Z"
   },
   {
    "duration": 5,
    "start_time": "2022-04-25T06:22:16.983Z"
   },
   {
    "duration": 13,
    "start_time": "2022-04-25T06:22:26.051Z"
   },
   {
    "duration": 93,
    "start_time": "2022-04-25T06:24:49.404Z"
   },
   {
    "duration": 10,
    "start_time": "2022-04-25T06:25:11.395Z"
   },
   {
    "duration": 249,
    "start_time": "2022-04-25T06:28:20.465Z"
   },
   {
    "duration": 541,
    "start_time": "2022-04-25T06:28:30.356Z"
   },
   {
    "duration": 200,
    "start_time": "2022-04-25T06:28:30.900Z"
   },
   {
    "duration": 12,
    "start_time": "2022-04-25T06:28:31.102Z"
   },
   {
    "duration": 52,
    "start_time": "2022-04-25T06:28:31.116Z"
   },
   {
    "duration": 5,
    "start_time": "2022-04-25T06:28:31.170Z"
   },
   {
    "duration": 17,
    "start_time": "2022-04-25T06:28:31.193Z"
   },
   {
    "duration": 10,
    "start_time": "2022-04-25T06:28:31.212Z"
   },
   {
    "duration": 38,
    "start_time": "2022-04-25T06:28:31.224Z"
   },
   {
    "duration": 45,
    "start_time": "2022-04-25T06:28:31.264Z"
   },
   {
    "duration": 32,
    "start_time": "2022-04-25T06:28:31.313Z"
   },
   {
    "duration": 114,
    "start_time": "2022-04-25T06:28:31.347Z"
   },
   {
    "duration": 120,
    "start_time": "2022-04-25T06:28:31.464Z"
   },
   {
    "duration": 86,
    "start_time": "2022-04-25T06:28:31.587Z"
   },
   {
    "duration": 21,
    "start_time": "2022-04-25T06:28:31.675Z"
   },
   {
    "duration": 10,
    "start_time": "2022-04-25T06:28:31.698Z"
   },
   {
    "duration": 16,
    "start_time": "2022-04-25T06:28:31.710Z"
   },
   {
    "duration": 174,
    "start_time": "2022-04-25T06:28:31.728Z"
   },
   {
    "duration": 0,
    "start_time": "2022-04-25T06:28:31.905Z"
   },
   {
    "duration": 0,
    "start_time": "2022-04-25T06:28:31.906Z"
   },
   {
    "duration": 0,
    "start_time": "2022-04-25T06:28:31.907Z"
   },
   {
    "duration": 0,
    "start_time": "2022-04-25T06:28:31.909Z"
   },
   {
    "duration": 0,
    "start_time": "2022-04-25T06:28:31.911Z"
   },
   {
    "duration": 0,
    "start_time": "2022-04-25T06:28:31.912Z"
   },
   {
    "duration": 0,
    "start_time": "2022-04-25T06:28:31.914Z"
   },
   {
    "duration": 1,
    "start_time": "2022-04-25T06:28:31.917Z"
   },
   {
    "duration": 0,
    "start_time": "2022-04-25T06:28:31.919Z"
   },
   {
    "duration": 0,
    "start_time": "2022-04-25T06:28:31.920Z"
   },
   {
    "duration": 0,
    "start_time": "2022-04-25T06:28:31.922Z"
   },
   {
    "duration": 0,
    "start_time": "2022-04-25T06:28:31.923Z"
   },
   {
    "duration": 0,
    "start_time": "2022-04-25T06:28:31.925Z"
   },
   {
    "duration": 0,
    "start_time": "2022-04-25T06:28:31.926Z"
   },
   {
    "duration": 0,
    "start_time": "2022-04-25T06:28:31.928Z"
   },
   {
    "duration": 0,
    "start_time": "2022-04-25T06:28:31.930Z"
   },
   {
    "duration": 0,
    "start_time": "2022-04-25T06:28:31.931Z"
   },
   {
    "duration": 0,
    "start_time": "2022-04-25T06:28:31.932Z"
   },
   {
    "duration": 0,
    "start_time": "2022-04-25T06:28:31.934Z"
   },
   {
    "duration": 0,
    "start_time": "2022-04-25T06:28:31.936Z"
   },
   {
    "duration": 0,
    "start_time": "2022-04-25T06:28:31.937Z"
   },
   {
    "duration": 10,
    "start_time": "2022-04-25T06:28:54.750Z"
   },
   {
    "duration": 197,
    "start_time": "2022-04-25T06:37:51.730Z"
   },
   {
    "duration": 527,
    "start_time": "2022-04-25T06:38:20.440Z"
   },
   {
    "duration": 221,
    "start_time": "2022-04-25T06:38:20.969Z"
   },
   {
    "duration": 12,
    "start_time": "2022-04-25T06:38:21.192Z"
   },
   {
    "duration": 40,
    "start_time": "2022-04-25T06:38:21.207Z"
   },
   {
    "duration": 5,
    "start_time": "2022-04-25T06:38:21.249Z"
   },
   {
    "duration": 47,
    "start_time": "2022-04-25T06:38:21.256Z"
   },
   {
    "duration": 9,
    "start_time": "2022-04-25T06:38:21.305Z"
   },
   {
    "duration": 54,
    "start_time": "2022-04-25T06:38:21.316Z"
   },
   {
    "duration": 50,
    "start_time": "2022-04-25T06:38:21.373Z"
   },
   {
    "duration": 64,
    "start_time": "2022-04-25T06:38:21.429Z"
   },
   {
    "duration": 145,
    "start_time": "2022-04-25T06:38:21.496Z"
   },
   {
    "duration": 128,
    "start_time": "2022-04-25T06:38:21.643Z"
   },
   {
    "duration": 93,
    "start_time": "2022-04-25T06:38:21.773Z"
   },
   {
    "duration": 26,
    "start_time": "2022-04-25T06:38:21.869Z"
   },
   {
    "duration": 6,
    "start_time": "2022-04-25T06:38:21.897Z"
   },
   {
    "duration": 16,
    "start_time": "2022-04-25T06:38:21.905Z"
   },
   {
    "duration": 9,
    "start_time": "2022-04-25T06:38:21.924Z"
   },
   {
    "duration": 302,
    "start_time": "2022-04-25T06:38:21.936Z"
   },
   {
    "duration": 0,
    "start_time": "2022-04-25T06:38:22.241Z"
   },
   {
    "duration": 0,
    "start_time": "2022-04-25T06:38:22.243Z"
   },
   {
    "duration": 0,
    "start_time": "2022-04-25T06:38:22.245Z"
   },
   {
    "duration": 0,
    "start_time": "2022-04-25T06:38:22.248Z"
   },
   {
    "duration": 0,
    "start_time": "2022-04-25T06:38:22.249Z"
   },
   {
    "duration": 0,
    "start_time": "2022-04-25T06:38:22.251Z"
   },
   {
    "duration": 0,
    "start_time": "2022-04-25T06:38:22.253Z"
   },
   {
    "duration": 0,
    "start_time": "2022-04-25T06:38:22.254Z"
   },
   {
    "duration": 0,
    "start_time": "2022-04-25T06:38:22.255Z"
   },
   {
    "duration": 0,
    "start_time": "2022-04-25T06:38:22.257Z"
   },
   {
    "duration": 0,
    "start_time": "2022-04-25T06:38:22.259Z"
   },
   {
    "duration": 0,
    "start_time": "2022-04-25T06:38:22.260Z"
   },
   {
    "duration": 0,
    "start_time": "2022-04-25T06:38:22.262Z"
   },
   {
    "duration": 0,
    "start_time": "2022-04-25T06:38:22.264Z"
   },
   {
    "duration": 0,
    "start_time": "2022-04-25T06:38:22.265Z"
   },
   {
    "duration": 0,
    "start_time": "2022-04-25T06:38:22.267Z"
   },
   {
    "duration": 0,
    "start_time": "2022-04-25T06:38:22.268Z"
   },
   {
    "duration": 0,
    "start_time": "2022-04-25T06:38:22.270Z"
   },
   {
    "duration": 0,
    "start_time": "2022-04-25T06:38:22.271Z"
   },
   {
    "duration": 0,
    "start_time": "2022-04-25T06:38:22.273Z"
   },
   {
    "duration": 0,
    "start_time": "2022-04-25T06:38:22.275Z"
   },
   {
    "duration": 10,
    "start_time": "2022-04-25T06:39:04.272Z"
   },
   {
    "duration": 10,
    "start_time": "2022-04-25T06:40:50.482Z"
   },
   {
    "duration": 99,
    "start_time": "2022-04-25T06:41:48.324Z"
   },
   {
    "duration": 10,
    "start_time": "2022-04-25T06:41:53.015Z"
   },
   {
    "duration": 10,
    "start_time": "2022-04-25T06:41:58.265Z"
   },
   {
    "duration": 182,
    "start_time": "2022-04-25T06:42:06.253Z"
   },
   {
    "duration": 185,
    "start_time": "2022-04-25T06:42:13.357Z"
   },
   {
    "duration": 18,
    "start_time": "2022-04-25T06:46:33.886Z"
   },
   {
    "duration": 15,
    "start_time": "2022-04-25T06:46:57.431Z"
   },
   {
    "duration": 16,
    "start_time": "2022-04-25T06:51:03.180Z"
   },
   {
    "duration": 475,
    "start_time": "2022-04-25T06:51:10.226Z"
   },
   {
    "duration": 197,
    "start_time": "2022-04-25T06:51:10.704Z"
   },
   {
    "duration": 12,
    "start_time": "2022-04-25T06:51:10.903Z"
   },
   {
    "duration": 42,
    "start_time": "2022-04-25T06:51:10.918Z"
   },
   {
    "duration": 31,
    "start_time": "2022-04-25T06:51:10.963Z"
   },
   {
    "duration": 17,
    "start_time": "2022-04-25T06:51:10.996Z"
   },
   {
    "duration": 8,
    "start_time": "2022-04-25T06:51:11.015Z"
   },
   {
    "duration": 36,
    "start_time": "2022-04-25T06:51:11.025Z"
   },
   {
    "duration": 51,
    "start_time": "2022-04-25T06:51:11.063Z"
   },
   {
    "duration": 32,
    "start_time": "2022-04-25T06:51:11.118Z"
   },
   {
    "duration": 119,
    "start_time": "2022-04-25T06:51:11.153Z"
   },
   {
    "duration": 122,
    "start_time": "2022-04-25T06:51:11.274Z"
   },
   {
    "duration": 100,
    "start_time": "2022-04-25T06:51:11.399Z"
   },
   {
    "duration": 10,
    "start_time": "2022-04-25T06:51:11.501Z"
   },
   {
    "duration": 5,
    "start_time": "2022-04-25T06:51:11.514Z"
   },
   {
    "duration": 17,
    "start_time": "2022-04-25T06:51:11.521Z"
   },
   {
    "duration": 11,
    "start_time": "2022-04-25T06:51:11.539Z"
   },
   {
    "duration": 141,
    "start_time": "2022-04-25T06:51:11.552Z"
   },
   {
    "duration": 1,
    "start_time": "2022-04-25T06:51:11.696Z"
   },
   {
    "duration": 0,
    "start_time": "2022-04-25T06:51:11.700Z"
   },
   {
    "duration": 0,
    "start_time": "2022-04-25T06:51:11.703Z"
   },
   {
    "duration": 0,
    "start_time": "2022-04-25T06:51:11.704Z"
   },
   {
    "duration": 0,
    "start_time": "2022-04-25T06:51:11.706Z"
   },
   {
    "duration": 0,
    "start_time": "2022-04-25T06:51:11.708Z"
   },
   {
    "duration": 0,
    "start_time": "2022-04-25T06:51:11.709Z"
   },
   {
    "duration": 0,
    "start_time": "2022-04-25T06:51:11.711Z"
   },
   {
    "duration": 0,
    "start_time": "2022-04-25T06:51:11.713Z"
   },
   {
    "duration": 0,
    "start_time": "2022-04-25T06:51:11.715Z"
   },
   {
    "duration": 0,
    "start_time": "2022-04-25T06:51:11.717Z"
   },
   {
    "duration": 0,
    "start_time": "2022-04-25T06:51:11.718Z"
   },
   {
    "duration": 0,
    "start_time": "2022-04-25T06:51:11.720Z"
   },
   {
    "duration": 0,
    "start_time": "2022-04-25T06:51:11.722Z"
   },
   {
    "duration": 0,
    "start_time": "2022-04-25T06:51:11.724Z"
   },
   {
    "duration": 0,
    "start_time": "2022-04-25T06:51:11.726Z"
   },
   {
    "duration": 0,
    "start_time": "2022-04-25T06:51:11.728Z"
   },
   {
    "duration": 0,
    "start_time": "2022-04-25T06:51:11.730Z"
   },
   {
    "duration": 1,
    "start_time": "2022-04-25T06:51:11.731Z"
   },
   {
    "duration": 0,
    "start_time": "2022-04-25T06:51:11.734Z"
   },
   {
    "duration": 599,
    "start_time": "2022-04-25T06:52:04.130Z"
   },
   {
    "duration": 211,
    "start_time": "2022-04-25T06:52:04.732Z"
   },
   {
    "duration": 13,
    "start_time": "2022-04-25T06:52:04.946Z"
   },
   {
    "duration": 63,
    "start_time": "2022-04-25T06:52:04.962Z"
   },
   {
    "duration": 5,
    "start_time": "2022-04-25T06:52:05.029Z"
   },
   {
    "duration": 19,
    "start_time": "2022-04-25T06:52:05.036Z"
   },
   {
    "duration": 15,
    "start_time": "2022-04-25T06:52:05.057Z"
   },
   {
    "duration": 34,
    "start_time": "2022-04-25T06:52:05.092Z"
   },
   {
    "duration": 25,
    "start_time": "2022-04-25T06:52:05.129Z"
   },
   {
    "duration": 55,
    "start_time": "2022-04-25T06:52:05.156Z"
   },
   {
    "duration": 111,
    "start_time": "2022-04-25T06:52:05.214Z"
   },
   {
    "duration": 123,
    "start_time": "2022-04-25T06:52:05.328Z"
   },
   {
    "duration": 98,
    "start_time": "2022-04-25T06:52:05.453Z"
   },
   {
    "duration": 11,
    "start_time": "2022-04-25T06:52:05.558Z"
   },
   {
    "duration": 24,
    "start_time": "2022-04-25T06:52:05.572Z"
   },
   {
    "duration": 24,
    "start_time": "2022-04-25T06:52:05.598Z"
   },
   {
    "duration": 10,
    "start_time": "2022-04-25T06:52:05.625Z"
   },
   {
    "duration": 126,
    "start_time": "2022-04-25T06:52:05.637Z"
   },
   {
    "duration": 0,
    "start_time": "2022-04-25T06:52:05.766Z"
   },
   {
    "duration": 0,
    "start_time": "2022-04-25T06:52:05.769Z"
   },
   {
    "duration": 0,
    "start_time": "2022-04-25T06:52:05.771Z"
   },
   {
    "duration": 0,
    "start_time": "2022-04-25T06:52:05.772Z"
   },
   {
    "duration": 0,
    "start_time": "2022-04-25T06:52:05.773Z"
   },
   {
    "duration": 0,
    "start_time": "2022-04-25T06:52:05.775Z"
   },
   {
    "duration": 0,
    "start_time": "2022-04-25T06:52:05.776Z"
   },
   {
    "duration": 0,
    "start_time": "2022-04-25T06:52:05.793Z"
   },
   {
    "duration": 0,
    "start_time": "2022-04-25T06:52:05.794Z"
   },
   {
    "duration": 0,
    "start_time": "2022-04-25T06:52:05.796Z"
   },
   {
    "duration": 0,
    "start_time": "2022-04-25T06:52:05.797Z"
   },
   {
    "duration": 0,
    "start_time": "2022-04-25T06:52:05.798Z"
   },
   {
    "duration": 0,
    "start_time": "2022-04-25T06:52:05.799Z"
   },
   {
    "duration": 0,
    "start_time": "2022-04-25T06:52:05.801Z"
   },
   {
    "duration": 0,
    "start_time": "2022-04-25T06:52:05.802Z"
   },
   {
    "duration": 0,
    "start_time": "2022-04-25T06:52:05.804Z"
   },
   {
    "duration": 0,
    "start_time": "2022-04-25T06:52:05.805Z"
   },
   {
    "duration": 0,
    "start_time": "2022-04-25T06:52:05.806Z"
   },
   {
    "duration": 0,
    "start_time": "2022-04-25T06:52:05.807Z"
   },
   {
    "duration": 0,
    "start_time": "2022-04-25T06:52:05.808Z"
   },
   {
    "duration": 468,
    "start_time": "2022-04-25T06:52:50.433Z"
   },
   {
    "duration": 208,
    "start_time": "2022-04-25T06:52:50.904Z"
   },
   {
    "duration": 14,
    "start_time": "2022-04-25T06:52:51.115Z"
   },
   {
    "duration": 80,
    "start_time": "2022-04-25T06:52:51.133Z"
   },
   {
    "duration": 5,
    "start_time": "2022-04-25T06:52:51.215Z"
   },
   {
    "duration": 19,
    "start_time": "2022-04-25T06:52:51.223Z"
   },
   {
    "duration": 8,
    "start_time": "2022-04-25T06:52:51.245Z"
   },
   {
    "duration": 57,
    "start_time": "2022-04-25T06:52:51.255Z"
   },
   {
    "duration": 23,
    "start_time": "2022-04-25T06:52:51.316Z"
   },
   {
    "duration": 57,
    "start_time": "2022-04-25T06:52:51.345Z"
   },
   {
    "duration": 116,
    "start_time": "2022-04-25T06:52:51.405Z"
   },
   {
    "duration": 132,
    "start_time": "2022-04-25T06:52:51.524Z"
   },
   {
    "duration": 97,
    "start_time": "2022-04-25T06:52:51.659Z"
   },
   {
    "duration": 10,
    "start_time": "2022-04-25T06:52:51.758Z"
   },
   {
    "duration": 23,
    "start_time": "2022-04-25T06:52:51.770Z"
   },
   {
    "duration": 17,
    "start_time": "2022-04-25T06:52:51.795Z"
   },
   {
    "duration": 10,
    "start_time": "2022-04-25T06:52:51.815Z"
   },
   {
    "duration": 65,
    "start_time": "2022-04-25T06:52:51.828Z"
   },
   {
    "duration": 4,
    "start_time": "2022-04-25T06:52:51.896Z"
   },
   {
    "duration": 8,
    "start_time": "2022-04-25T06:52:51.902Z"
   },
   {
    "duration": 17,
    "start_time": "2022-04-25T06:52:51.913Z"
   },
   {
    "duration": 7,
    "start_time": "2022-04-25T06:52:51.932Z"
   },
   {
    "duration": 7,
    "start_time": "2022-04-25T06:52:51.941Z"
   },
   {
    "duration": 8,
    "start_time": "2022-04-25T06:52:51.951Z"
   },
   {
    "duration": 30,
    "start_time": "2022-04-25T06:52:51.962Z"
   },
   {
    "duration": 3,
    "start_time": "2022-04-25T06:52:51.995Z"
   },
   {
    "duration": 5,
    "start_time": "2022-04-25T06:52:52.002Z"
   },
   {
    "duration": 4,
    "start_time": "2022-04-25T06:52:52.011Z"
   },
   {
    "duration": 6,
    "start_time": "2022-04-25T06:52:52.017Z"
   },
   {
    "duration": 6,
    "start_time": "2022-04-25T06:52:52.025Z"
   },
   {
    "duration": 11,
    "start_time": "2022-04-25T06:52:52.033Z"
   },
   {
    "duration": 47,
    "start_time": "2022-04-25T06:52:52.046Z"
   },
   {
    "duration": 11,
    "start_time": "2022-04-25T06:52:52.095Z"
   },
   {
    "duration": 5,
    "start_time": "2022-04-25T06:52:52.109Z"
   },
   {
    "duration": 7,
    "start_time": "2022-04-25T06:52:52.116Z"
   },
   {
    "duration": 7,
    "start_time": "2022-04-25T06:52:52.125Z"
   },
   {
    "duration": 7,
    "start_time": "2022-04-25T06:52:52.134Z"
   },
   {
    "duration": 7,
    "start_time": "2022-04-25T06:52:52.143Z"
   },
   {
    "duration": 16,
    "start_time": "2022-04-25T06:56:15.840Z"
   },
   {
    "duration": 23,
    "start_time": "2022-04-25T07:00:03.019Z"
   },
   {
    "duration": 114,
    "start_time": "2022-04-25T07:12:01.884Z"
   },
   {
    "duration": 17,
    "start_time": "2022-04-25T07:12:58.772Z"
   },
   {
    "duration": 6,
    "start_time": "2022-04-25T07:28:36.443Z"
   },
   {
    "duration": 20,
    "start_time": "2022-04-25T07:29:51.776Z"
   },
   {
    "duration": 489,
    "start_time": "2022-04-25T07:30:24.104Z"
   },
   {
    "duration": 216,
    "start_time": "2022-04-25T07:30:24.595Z"
   },
   {
    "duration": 12,
    "start_time": "2022-04-25T07:30:24.814Z"
   },
   {
    "duration": 64,
    "start_time": "2022-04-25T07:30:24.829Z"
   },
   {
    "duration": 5,
    "start_time": "2022-04-25T07:30:24.896Z"
   },
   {
    "duration": 20,
    "start_time": "2022-04-25T07:30:24.904Z"
   },
   {
    "duration": 7,
    "start_time": "2022-04-25T07:30:24.927Z"
   },
   {
    "duration": 67,
    "start_time": "2022-04-25T07:30:24.937Z"
   },
   {
    "duration": 25,
    "start_time": "2022-04-25T07:30:25.007Z"
   },
   {
    "duration": 57,
    "start_time": "2022-04-25T07:30:25.036Z"
   },
   {
    "duration": 106,
    "start_time": "2022-04-25T07:30:25.096Z"
   },
   {
    "duration": 125,
    "start_time": "2022-04-25T07:30:25.204Z"
   },
   {
    "duration": 97,
    "start_time": "2022-04-25T07:30:25.331Z"
   },
   {
    "duration": 12,
    "start_time": "2022-04-25T07:30:25.431Z"
   },
   {
    "duration": 6,
    "start_time": "2022-04-25T07:30:25.445Z"
   },
   {
    "duration": 41,
    "start_time": "2022-04-25T07:30:25.455Z"
   },
   {
    "duration": 12,
    "start_time": "2022-04-25T07:30:25.499Z"
   },
   {
    "duration": 18,
    "start_time": "2022-04-25T07:30:25.514Z"
   },
   {
    "duration": 16,
    "start_time": "2022-04-25T07:30:25.533Z"
   },
   {
    "duration": 44,
    "start_time": "2022-04-25T07:30:25.551Z"
   },
   {
    "duration": 116,
    "start_time": "2022-04-25T07:30:25.597Z"
   },
   {
    "duration": 0,
    "start_time": "2022-04-25T07:30:25.717Z"
   },
   {
    "duration": 0,
    "start_time": "2022-04-25T07:30:25.718Z"
   },
   {
    "duration": 1,
    "start_time": "2022-04-25T07:30:25.719Z"
   },
   {
    "duration": 0,
    "start_time": "2022-04-25T07:30:25.721Z"
   },
   {
    "duration": 0,
    "start_time": "2022-04-25T07:30:25.723Z"
   },
   {
    "duration": 0,
    "start_time": "2022-04-25T07:30:25.724Z"
   },
   {
    "duration": 0,
    "start_time": "2022-04-25T07:30:25.726Z"
   },
   {
    "duration": 0,
    "start_time": "2022-04-25T07:30:25.727Z"
   },
   {
    "duration": 0,
    "start_time": "2022-04-25T07:30:25.729Z"
   },
   {
    "duration": 0,
    "start_time": "2022-04-25T07:30:25.730Z"
   },
   {
    "duration": 0,
    "start_time": "2022-04-25T07:30:25.732Z"
   },
   {
    "duration": 0,
    "start_time": "2022-04-25T07:30:25.734Z"
   },
   {
    "duration": 0,
    "start_time": "2022-04-25T07:30:25.735Z"
   },
   {
    "duration": 0,
    "start_time": "2022-04-25T07:30:25.737Z"
   },
   {
    "duration": 0,
    "start_time": "2022-04-25T07:30:25.738Z"
   },
   {
    "duration": 0,
    "start_time": "2022-04-25T07:30:25.740Z"
   },
   {
    "duration": 0,
    "start_time": "2022-04-25T07:30:25.741Z"
   },
   {
    "duration": 13,
    "start_time": "2022-04-25T07:33:23.932Z"
   },
   {
    "duration": 514,
    "start_time": "2022-04-25T07:33:42.882Z"
   },
   {
    "duration": 857,
    "start_time": "2022-04-25T07:33:43.399Z"
   },
   {
    "duration": 14,
    "start_time": "2022-04-25T07:33:44.259Z"
   },
   {
    "duration": 42,
    "start_time": "2022-04-25T07:33:44.294Z"
   },
   {
    "duration": 5,
    "start_time": "2022-04-25T07:33:44.338Z"
   },
   {
    "duration": 26,
    "start_time": "2022-04-25T07:33:44.345Z"
   },
   {
    "duration": 5,
    "start_time": "2022-04-25T07:33:44.392Z"
   },
   {
    "duration": 43,
    "start_time": "2022-04-25T07:33:44.399Z"
   },
   {
    "duration": 23,
    "start_time": "2022-04-25T07:33:44.444Z"
   },
   {
    "duration": 49,
    "start_time": "2022-04-25T07:33:44.471Z"
   },
   {
    "duration": 121,
    "start_time": "2022-04-25T07:33:44.522Z"
   },
   {
    "duration": 122,
    "start_time": "2022-04-25T07:33:44.645Z"
   },
   {
    "duration": 99,
    "start_time": "2022-04-25T07:33:44.769Z"
   },
   {
    "duration": 28,
    "start_time": "2022-04-25T07:33:44.871Z"
   },
   {
    "duration": 5,
    "start_time": "2022-04-25T07:33:44.902Z"
   },
   {
    "duration": 23,
    "start_time": "2022-04-25T07:33:44.909Z"
   },
   {
    "duration": 13,
    "start_time": "2022-04-25T07:33:44.934Z"
   },
   {
    "duration": 44,
    "start_time": "2022-04-25T07:33:44.949Z"
   },
   {
    "duration": 23,
    "start_time": "2022-04-25T07:33:44.995Z"
   },
   {
    "duration": 5,
    "start_time": "2022-04-25T07:33:45.020Z"
   },
   {
    "duration": 139,
    "start_time": "2022-04-25T07:33:45.028Z"
   },
   {
    "duration": 0,
    "start_time": "2022-04-25T07:33:45.172Z"
   },
   {
    "duration": 0,
    "start_time": "2022-04-25T07:33:45.174Z"
   },
   {
    "duration": 0,
    "start_time": "2022-04-25T07:33:45.175Z"
   },
   {
    "duration": 0,
    "start_time": "2022-04-25T07:33:45.176Z"
   },
   {
    "duration": 1,
    "start_time": "2022-04-25T07:33:45.178Z"
   },
   {
    "duration": 0,
    "start_time": "2022-04-25T07:33:45.194Z"
   },
   {
    "duration": 0,
    "start_time": "2022-04-25T07:33:45.195Z"
   },
   {
    "duration": 0,
    "start_time": "2022-04-25T07:33:45.197Z"
   },
   {
    "duration": 0,
    "start_time": "2022-04-25T07:33:45.200Z"
   },
   {
    "duration": 0,
    "start_time": "2022-04-25T07:33:45.202Z"
   },
   {
    "duration": 0,
    "start_time": "2022-04-25T07:33:45.204Z"
   },
   {
    "duration": 0,
    "start_time": "2022-04-25T07:33:45.206Z"
   },
   {
    "duration": 0,
    "start_time": "2022-04-25T07:33:45.207Z"
   },
   {
    "duration": 0,
    "start_time": "2022-04-25T07:33:45.208Z"
   },
   {
    "duration": 0,
    "start_time": "2022-04-25T07:33:45.210Z"
   },
   {
    "duration": 0,
    "start_time": "2022-04-25T07:33:45.212Z"
   },
   {
    "duration": 0,
    "start_time": "2022-04-25T07:33:45.213Z"
   },
   {
    "duration": 7,
    "start_time": "2022-04-25T07:39:02.700Z"
   },
   {
    "duration": 20,
    "start_time": "2022-04-25T07:39:06.429Z"
   },
   {
    "duration": 611,
    "start_time": "2022-04-25T07:41:51.478Z"
   },
   {
    "duration": 216,
    "start_time": "2022-04-25T07:41:52.094Z"
   },
   {
    "duration": 12,
    "start_time": "2022-04-25T07:41:52.312Z"
   },
   {
    "duration": 43,
    "start_time": "2022-04-25T07:41:52.327Z"
   },
   {
    "duration": 23,
    "start_time": "2022-04-25T07:41:52.372Z"
   },
   {
    "duration": 19,
    "start_time": "2022-04-25T07:41:52.397Z"
   },
   {
    "duration": 11,
    "start_time": "2022-04-25T07:41:52.418Z"
   },
   {
    "duration": 43,
    "start_time": "2022-04-25T07:41:52.431Z"
   },
   {
    "duration": 26,
    "start_time": "2022-04-25T07:41:52.494Z"
   },
   {
    "duration": 33,
    "start_time": "2022-04-25T07:41:52.526Z"
   },
   {
    "duration": 137,
    "start_time": "2022-04-25T07:41:52.561Z"
   },
   {
    "duration": 122,
    "start_time": "2022-04-25T07:41:52.701Z"
   },
   {
    "duration": 99,
    "start_time": "2022-04-25T07:41:52.825Z"
   },
   {
    "duration": 12,
    "start_time": "2022-04-25T07:41:52.927Z"
   },
   {
    "duration": 6,
    "start_time": "2022-04-25T07:41:52.942Z"
   },
   {
    "duration": 45,
    "start_time": "2022-04-25T07:41:52.951Z"
   },
   {
    "duration": 10,
    "start_time": "2022-04-25T07:41:52.998Z"
   },
   {
    "duration": 22,
    "start_time": "2022-04-25T07:41:53.011Z"
   },
   {
    "duration": 16,
    "start_time": "2022-04-25T07:41:53.035Z"
   },
   {
    "duration": 5,
    "start_time": "2022-04-25T07:41:53.053Z"
   },
   {
    "duration": 146,
    "start_time": "2022-04-25T07:41:53.061Z"
   },
   {
    "duration": 0,
    "start_time": "2022-04-25T07:41:53.211Z"
   },
   {
    "duration": 0,
    "start_time": "2022-04-25T07:41:53.213Z"
   },
   {
    "duration": 0,
    "start_time": "2022-04-25T07:41:53.215Z"
   },
   {
    "duration": 0,
    "start_time": "2022-04-25T07:41:53.216Z"
   },
   {
    "duration": 0,
    "start_time": "2022-04-25T07:41:53.218Z"
   },
   {
    "duration": 0,
    "start_time": "2022-04-25T07:41:53.219Z"
   },
   {
    "duration": 0,
    "start_time": "2022-04-25T07:41:53.221Z"
   },
   {
    "duration": 0,
    "start_time": "2022-04-25T07:41:53.222Z"
   },
   {
    "duration": 0,
    "start_time": "2022-04-25T07:41:53.223Z"
   },
   {
    "duration": 0,
    "start_time": "2022-04-25T07:41:53.225Z"
   },
   {
    "duration": 0,
    "start_time": "2022-04-25T07:41:53.226Z"
   },
   {
    "duration": 0,
    "start_time": "2022-04-25T07:41:53.227Z"
   },
   {
    "duration": 0,
    "start_time": "2022-04-25T07:41:53.229Z"
   },
   {
    "duration": 0,
    "start_time": "2022-04-25T07:41:53.230Z"
   },
   {
    "duration": 0,
    "start_time": "2022-04-25T07:41:53.232Z"
   },
   {
    "duration": 0,
    "start_time": "2022-04-25T07:41:53.234Z"
   },
   {
    "duration": 0,
    "start_time": "2022-04-25T07:41:53.235Z"
   },
   {
    "duration": 27,
    "start_time": "2022-04-25T07:50:07.122Z"
   },
   {
    "duration": 18,
    "start_time": "2022-04-25T07:50:17.128Z"
   },
   {
    "duration": 18,
    "start_time": "2022-04-25T07:50:26.314Z"
   },
   {
    "duration": 177,
    "start_time": "2022-04-25T07:50:46.825Z"
   },
   {
    "duration": 5,
    "start_time": "2022-04-25T07:50:53.581Z"
   },
   {
    "duration": 10,
    "start_time": "2022-04-25T07:54:46.069Z"
   },
   {
    "duration": 5,
    "start_time": "2022-04-25T07:54:54.141Z"
   },
   {
    "duration": 5,
    "start_time": "2022-04-25T07:55:14.742Z"
   },
   {
    "duration": 9,
    "start_time": "2022-04-25T07:55:27.007Z"
   },
   {
    "duration": 19,
    "start_time": "2022-04-25T07:55:46.037Z"
   },
   {
    "duration": 18,
    "start_time": "2022-04-25T07:56:25.421Z"
   },
   {
    "duration": 177,
    "start_time": "2022-04-25T07:56:41.477Z"
   },
   {
    "duration": 5,
    "start_time": "2022-04-25T07:56:55.135Z"
   },
   {
    "duration": 14,
    "start_time": "2022-04-25T08:02:07.441Z"
   },
   {
    "duration": 6,
    "start_time": "2022-04-25T08:13:22.570Z"
   },
   {
    "duration": 5,
    "start_time": "2022-04-25T08:13:36.731Z"
   },
   {
    "duration": 49,
    "start_time": "2022-04-25T08:13:37.921Z"
   },
   {
    "duration": 545,
    "start_time": "2022-04-25T08:14:21.002Z"
   },
   {
    "duration": 203,
    "start_time": "2022-04-25T08:14:21.549Z"
   },
   {
    "duration": 14,
    "start_time": "2022-04-25T08:14:21.754Z"
   },
   {
    "duration": 58,
    "start_time": "2022-04-25T08:14:21.771Z"
   },
   {
    "duration": 5,
    "start_time": "2022-04-25T08:14:21.832Z"
   },
   {
    "duration": 18,
    "start_time": "2022-04-25T08:14:21.839Z"
   },
   {
    "duration": 34,
    "start_time": "2022-04-25T08:14:21.859Z"
   },
   {
    "duration": 33,
    "start_time": "2022-04-25T08:14:21.895Z"
   },
   {
    "duration": 28,
    "start_time": "2022-04-25T08:14:21.930Z"
   },
   {
    "duration": 48,
    "start_time": "2022-04-25T08:14:21.962Z"
   },
   {
    "duration": 107,
    "start_time": "2022-04-25T08:14:22.012Z"
   },
   {
    "duration": 124,
    "start_time": "2022-04-25T08:14:22.121Z"
   },
   {
    "duration": 93,
    "start_time": "2022-04-25T08:14:22.248Z"
   },
   {
    "duration": 10,
    "start_time": "2022-04-25T08:14:22.343Z"
   },
   {
    "duration": 5,
    "start_time": "2022-04-25T08:14:22.355Z"
   },
   {
    "duration": 39,
    "start_time": "2022-04-25T08:14:22.362Z"
   },
   {
    "duration": 10,
    "start_time": "2022-04-25T08:14:22.403Z"
   },
   {
    "duration": 16,
    "start_time": "2022-04-25T08:14:22.415Z"
   },
   {
    "duration": 15,
    "start_time": "2022-04-25T08:14:22.433Z"
   },
   {
    "duration": 46,
    "start_time": "2022-04-25T08:14:22.451Z"
   },
   {
    "duration": 56,
    "start_time": "2022-04-25T08:14:22.499Z"
   },
   {
    "duration": 49,
    "start_time": "2022-04-25T08:14:22.558Z"
   },
   {
    "duration": 61,
    "start_time": "2022-04-25T08:14:22.609Z"
   },
   {
    "duration": 48,
    "start_time": "2022-04-25T08:14:22.673Z"
   },
   {
    "duration": 69,
    "start_time": "2022-04-25T08:14:22.724Z"
   },
   {
    "duration": 33,
    "start_time": "2022-04-25T08:14:22.796Z"
   },
   {
    "duration": 117,
    "start_time": "2022-04-25T08:14:22.831Z"
   },
   {
    "duration": 0,
    "start_time": "2022-04-25T08:14:22.951Z"
   },
   {
    "duration": 0,
    "start_time": "2022-04-25T08:14:22.952Z"
   },
   {
    "duration": 0,
    "start_time": "2022-04-25T08:14:22.954Z"
   },
   {
    "duration": 0,
    "start_time": "2022-04-25T08:14:22.955Z"
   },
   {
    "duration": 0,
    "start_time": "2022-04-25T08:14:22.956Z"
   },
   {
    "duration": 0,
    "start_time": "2022-04-25T08:14:22.958Z"
   },
   {
    "duration": 0,
    "start_time": "2022-04-25T08:14:22.959Z"
   },
   {
    "duration": 0,
    "start_time": "2022-04-25T08:14:22.960Z"
   },
   {
    "duration": 0,
    "start_time": "2022-04-25T08:14:22.961Z"
   },
   {
    "duration": 0,
    "start_time": "2022-04-25T08:14:22.962Z"
   },
   {
    "duration": 0,
    "start_time": "2022-04-25T08:14:22.964Z"
   },
   {
    "duration": 185,
    "start_time": "2022-04-25T08:29:09.787Z"
   },
   {
    "duration": 46,
    "start_time": "2022-04-25T08:29:16.276Z"
   },
   {
    "duration": 33,
    "start_time": "2022-04-25T08:29:16.979Z"
   },
   {
    "duration": 42,
    "start_time": "2022-04-25T08:29:17.565Z"
   },
   {
    "duration": 195,
    "start_time": "2022-04-25T08:29:25.924Z"
   },
   {
    "duration": 67,
    "start_time": "2022-04-25T08:29:30.823Z"
   },
   {
    "duration": 53,
    "start_time": "2022-04-25T08:29:30.999Z"
   },
   {
    "duration": 71,
    "start_time": "2022-04-25T08:29:31.149Z"
   },
   {
    "duration": 51,
    "start_time": "2022-04-25T08:29:31.694Z"
   },
   {
    "duration": 72,
    "start_time": "2022-04-25T08:29:31.855Z"
   },
   {
    "duration": 55,
    "start_time": "2022-04-25T08:29:32.117Z"
   },
   {
    "duration": 18,
    "start_time": "2022-04-25T08:30:41.819Z"
   },
   {
    "duration": 657,
    "start_time": "2022-04-25T08:40:09.558Z"
   },
   {
    "duration": 179,
    "start_time": "2022-04-25T08:42:43.263Z"
   },
   {
    "duration": 175,
    "start_time": "2022-04-25T08:42:56.253Z"
   },
   {
    "duration": 48,
    "start_time": "2022-04-25T11:23:53.229Z"
   },
   {
    "duration": 5,
    "start_time": "2022-04-25T11:24:11.272Z"
   },
   {
    "duration": 6,
    "start_time": "2022-04-25T11:29:29.157Z"
   },
   {
    "duration": 5,
    "start_time": "2022-04-25T11:38:47.743Z"
   },
   {
    "duration": 140,
    "start_time": "2022-04-25T11:40:01.733Z"
   },
   {
    "duration": 104,
    "start_time": "2022-04-25T11:51:10.855Z"
   },
   {
    "duration": 6,
    "start_time": "2022-04-25T11:51:18.184Z"
   },
   {
    "duration": 6,
    "start_time": "2022-04-25T11:51:42.993Z"
   },
   {
    "duration": 6,
    "start_time": "2022-04-25T11:52:08.696Z"
   },
   {
    "duration": 458,
    "start_time": "2022-04-25T11:52:16.088Z"
   },
   {
    "duration": 175,
    "start_time": "2022-04-25T11:52:16.548Z"
   },
   {
    "duration": 8,
    "start_time": "2022-04-25T11:52:16.725Z"
   },
   {
    "duration": 33,
    "start_time": "2022-04-25T11:52:16.735Z"
   },
   {
    "duration": 3,
    "start_time": "2022-04-25T11:52:16.770Z"
   },
   {
    "duration": 36,
    "start_time": "2022-04-25T11:52:16.775Z"
   },
   {
    "duration": 5,
    "start_time": "2022-04-25T11:52:16.813Z"
   },
   {
    "duration": 28,
    "start_time": "2022-04-25T11:52:16.820Z"
   },
   {
    "duration": 19,
    "start_time": "2022-04-25T11:52:16.850Z"
   },
   {
    "duration": 42,
    "start_time": "2022-04-25T11:52:16.872Z"
   },
   {
    "duration": 70,
    "start_time": "2022-04-25T11:52:16.916Z"
   },
   {
    "duration": 99,
    "start_time": "2022-04-25T11:52:16.988Z"
   },
   {
    "duration": 71,
    "start_time": "2022-04-25T11:52:17.090Z"
   },
   {
    "duration": 6,
    "start_time": "2022-04-25T11:52:17.163Z"
   },
   {
    "duration": 8,
    "start_time": "2022-04-25T11:52:17.171Z"
   },
   {
    "duration": 27,
    "start_time": "2022-04-25T11:52:17.180Z"
   },
   {
    "duration": 114,
    "start_time": "2022-04-25T11:52:17.209Z"
   },
   {
    "duration": 0,
    "start_time": "2022-04-25T11:52:17.325Z"
   },
   {
    "duration": 0,
    "start_time": "2022-04-25T11:52:17.326Z"
   },
   {
    "duration": 0,
    "start_time": "2022-04-25T11:52:17.327Z"
   },
   {
    "duration": 0,
    "start_time": "2022-04-25T11:52:17.330Z"
   },
   {
    "duration": 0,
    "start_time": "2022-04-25T11:52:17.331Z"
   },
   {
    "duration": 0,
    "start_time": "2022-04-25T11:52:17.332Z"
   },
   {
    "duration": 0,
    "start_time": "2022-04-25T11:52:17.333Z"
   },
   {
    "duration": 0,
    "start_time": "2022-04-25T11:52:17.334Z"
   },
   {
    "duration": 0,
    "start_time": "2022-04-25T11:52:17.335Z"
   },
   {
    "duration": 0,
    "start_time": "2022-04-25T11:52:17.336Z"
   },
   {
    "duration": 0,
    "start_time": "2022-04-25T11:52:17.337Z"
   },
   {
    "duration": 0,
    "start_time": "2022-04-25T11:52:17.337Z"
   },
   {
    "duration": 0,
    "start_time": "2022-04-25T11:52:17.339Z"
   },
   {
    "duration": 0,
    "start_time": "2022-04-25T11:52:17.339Z"
   },
   {
    "duration": 0,
    "start_time": "2022-04-25T11:52:17.340Z"
   },
   {
    "duration": 0,
    "start_time": "2022-04-25T11:52:17.341Z"
   },
   {
    "duration": 0,
    "start_time": "2022-04-25T11:52:17.342Z"
   },
   {
    "duration": 0,
    "start_time": "2022-04-25T11:52:17.343Z"
   },
   {
    "duration": 0,
    "start_time": "2022-04-25T11:52:17.344Z"
   },
   {
    "duration": 0,
    "start_time": "2022-04-25T11:52:17.345Z"
   },
   {
    "duration": 0,
    "start_time": "2022-04-25T11:52:17.346Z"
   },
   {
    "duration": 11,
    "start_time": "2022-04-25T11:53:57.662Z"
   },
   {
    "duration": 9,
    "start_time": "2022-04-25T11:54:12.686Z"
   },
   {
    "duration": 57,
    "start_time": "2022-04-25T11:54:27.727Z"
   },
   {
    "duration": 1570,
    "start_time": "2022-04-25T11:54:45.080Z"
   },
   {
    "duration": 62,
    "start_time": "2022-04-25T11:54:57.192Z"
   },
   {
    "duration": 52,
    "start_time": "2022-04-25T11:55:52.821Z"
   },
   {
    "duration": 51,
    "start_time": "2022-04-25T11:57:00.288Z"
   },
   {
    "duration": 48,
    "start_time": "2022-04-25T11:58:43.429Z"
   },
   {
    "duration": 49,
    "start_time": "2022-04-25T11:58:49.143Z"
   },
   {
    "duration": 12,
    "start_time": "2022-04-25T12:00:17.148Z"
   },
   {
    "duration": 365,
    "start_time": "2022-04-25T12:06:06.758Z"
   },
   {
    "duration": 167,
    "start_time": "2022-04-25T12:06:07.125Z"
   },
   {
    "duration": 11,
    "start_time": "2022-04-25T12:06:07.294Z"
   },
   {
    "duration": 49,
    "start_time": "2022-04-25T12:06:07.307Z"
   },
   {
    "duration": 4,
    "start_time": "2022-04-25T12:06:07.358Z"
   },
   {
    "duration": 14,
    "start_time": "2022-04-25T12:06:07.364Z"
   },
   {
    "duration": 28,
    "start_time": "2022-04-25T12:06:07.380Z"
   },
   {
    "duration": 26,
    "start_time": "2022-04-25T12:06:07.409Z"
   },
   {
    "duration": 25,
    "start_time": "2022-04-25T12:06:07.436Z"
   },
   {
    "duration": 33,
    "start_time": "2022-04-25T12:06:07.464Z"
   },
   {
    "duration": 70,
    "start_time": "2022-04-25T12:06:07.498Z"
   },
   {
    "duration": 96,
    "start_time": "2022-04-25T12:06:07.569Z"
   },
   {
    "duration": 64,
    "start_time": "2022-04-25T12:06:07.667Z"
   },
   {
    "duration": 7,
    "start_time": "2022-04-25T12:06:07.733Z"
   },
   {
    "duration": 7,
    "start_time": "2022-04-25T12:06:07.741Z"
   },
   {
    "duration": 27,
    "start_time": "2022-04-25T12:06:07.750Z"
   },
   {
    "duration": 55,
    "start_time": "2022-04-25T12:06:07.779Z"
   },
   {
    "duration": 11,
    "start_time": "2022-04-25T12:06:07.836Z"
   },
   {
    "duration": 12,
    "start_time": "2022-04-25T12:06:07.848Z"
   },
   {
    "duration": 94,
    "start_time": "2022-04-25T12:06:07.862Z"
   },
   {
    "duration": 0,
    "start_time": "2022-04-25T12:06:07.958Z"
   },
   {
    "duration": 0,
    "start_time": "2022-04-25T12:06:07.959Z"
   },
   {
    "duration": 0,
    "start_time": "2022-04-25T12:06:07.960Z"
   },
   {
    "duration": 0,
    "start_time": "2022-04-25T12:06:07.961Z"
   },
   {
    "duration": 0,
    "start_time": "2022-04-25T12:06:07.962Z"
   },
   {
    "duration": 0,
    "start_time": "2022-04-25T12:06:07.964Z"
   },
   {
    "duration": 0,
    "start_time": "2022-04-25T12:06:07.965Z"
   },
   {
    "duration": 0,
    "start_time": "2022-04-25T12:06:07.965Z"
   },
   {
    "duration": 0,
    "start_time": "2022-04-25T12:06:07.967Z"
   },
   {
    "duration": 0,
    "start_time": "2022-04-25T12:06:07.968Z"
   },
   {
    "duration": 0,
    "start_time": "2022-04-25T12:06:07.969Z"
   },
   {
    "duration": 0,
    "start_time": "2022-04-25T12:06:07.970Z"
   },
   {
    "duration": 0,
    "start_time": "2022-04-25T12:06:07.971Z"
   },
   {
    "duration": 0,
    "start_time": "2022-04-25T12:06:07.972Z"
   },
   {
    "duration": 0,
    "start_time": "2022-04-25T12:06:07.973Z"
   },
   {
    "duration": 0,
    "start_time": "2022-04-25T12:06:07.974Z"
   },
   {
    "duration": 0,
    "start_time": "2022-04-25T12:06:07.975Z"
   },
   {
    "duration": 0,
    "start_time": "2022-04-25T12:06:07.976Z"
   },
   {
    "duration": 100,
    "start_time": "2022-04-25T12:11:07.876Z"
   },
   {
    "duration": 88,
    "start_time": "2022-04-25T12:12:00.243Z"
   },
   {
    "duration": 90,
    "start_time": "2022-04-25T12:12:28.846Z"
   },
   {
    "duration": 92,
    "start_time": "2022-04-25T12:14:51.087Z"
   },
   {
    "duration": 91,
    "start_time": "2022-04-25T12:15:48.038Z"
   },
   {
    "duration": 4,
    "start_time": "2022-04-25T12:19:28.653Z"
   },
   {
    "duration": 75,
    "start_time": "2022-04-25T12:19:32.097Z"
   },
   {
    "duration": 14,
    "start_time": "2022-04-25T12:19:33.712Z"
   },
   {
    "duration": 13,
    "start_time": "2022-04-25T12:19:34.623Z"
   },
   {
    "duration": 412,
    "start_time": "2022-04-25T12:19:45.288Z"
   },
   {
    "duration": 154,
    "start_time": "2022-04-25T12:19:45.702Z"
   },
   {
    "duration": 7,
    "start_time": "2022-04-25T12:19:45.858Z"
   },
   {
    "duration": 31,
    "start_time": "2022-04-25T12:19:45.868Z"
   },
   {
    "duration": 3,
    "start_time": "2022-04-25T12:19:45.906Z"
   },
   {
    "duration": 16,
    "start_time": "2022-04-25T12:19:45.911Z"
   },
   {
    "duration": 5,
    "start_time": "2022-04-25T12:19:45.929Z"
   },
   {
    "duration": 25,
    "start_time": "2022-04-25T12:19:45.935Z"
   },
   {
    "duration": 18,
    "start_time": "2022-04-25T12:19:45.961Z"
   },
   {
    "duration": 41,
    "start_time": "2022-04-25T12:19:45.982Z"
   },
   {
    "duration": 69,
    "start_time": "2022-04-25T12:19:46.024Z"
   },
   {
    "duration": 78,
    "start_time": "2022-04-25T12:19:46.107Z"
   },
   {
    "duration": 66,
    "start_time": "2022-04-25T12:19:46.187Z"
   },
   {
    "duration": 7,
    "start_time": "2022-04-25T12:19:46.255Z"
   },
   {
    "duration": 3,
    "start_time": "2022-04-25T12:19:46.264Z"
   },
   {
    "duration": 14,
    "start_time": "2022-04-25T12:19:46.269Z"
   },
   {
    "duration": 75,
    "start_time": "2022-04-25T12:19:46.284Z"
   },
   {
    "duration": 11,
    "start_time": "2022-04-25T12:19:46.361Z"
   },
   {
    "duration": 10,
    "start_time": "2022-04-25T12:19:46.374Z"
   },
   {
    "duration": 5,
    "start_time": "2022-04-25T12:19:46.407Z"
   },
   {
    "duration": 77,
    "start_time": "2022-04-25T12:19:46.414Z"
   },
   {
    "duration": 0,
    "start_time": "2022-04-25T12:19:46.493Z"
   },
   {
    "duration": 0,
    "start_time": "2022-04-25T12:19:46.494Z"
   },
   {
    "duration": 0,
    "start_time": "2022-04-25T12:19:46.507Z"
   },
   {
    "duration": 0,
    "start_time": "2022-04-25T12:19:46.508Z"
   },
   {
    "duration": 0,
    "start_time": "2022-04-25T12:19:46.509Z"
   },
   {
    "duration": 0,
    "start_time": "2022-04-25T12:19:46.510Z"
   },
   {
    "duration": 0,
    "start_time": "2022-04-25T12:19:46.511Z"
   },
   {
    "duration": 0,
    "start_time": "2022-04-25T12:19:46.512Z"
   },
   {
    "duration": 0,
    "start_time": "2022-04-25T12:19:46.512Z"
   },
   {
    "duration": 0,
    "start_time": "2022-04-25T12:19:46.514Z"
   },
   {
    "duration": 0,
    "start_time": "2022-04-25T12:19:46.515Z"
   },
   {
    "duration": 0,
    "start_time": "2022-04-25T12:19:46.516Z"
   },
   {
    "duration": 0,
    "start_time": "2022-04-25T12:19:46.517Z"
   },
   {
    "duration": 0,
    "start_time": "2022-04-25T12:19:46.518Z"
   },
   {
    "duration": 0,
    "start_time": "2022-04-25T12:19:46.518Z"
   },
   {
    "duration": 0,
    "start_time": "2022-04-25T12:19:46.519Z"
   },
   {
    "duration": 0,
    "start_time": "2022-04-25T12:19:46.520Z"
   },
   {
    "duration": 4,
    "start_time": "2022-04-25T12:22:30.974Z"
   },
   {
    "duration": 12,
    "start_time": "2022-04-25T12:22:32.345Z"
   },
   {
    "duration": 8,
    "start_time": "2022-04-25T12:22:33.486Z"
   },
   {
    "duration": 4,
    "start_time": "2022-04-25T12:22:46.970Z"
   },
   {
    "duration": 9,
    "start_time": "2022-04-25T12:22:48.285Z"
   },
   {
    "duration": 9,
    "start_time": "2022-04-25T12:22:48.895Z"
   },
   {
    "duration": 8,
    "start_time": "2022-04-25T12:22:51.387Z"
   },
   {
    "duration": 8,
    "start_time": "2022-04-25T12:22:51.777Z"
   },
   {
    "duration": 8,
    "start_time": "2022-04-25T12:22:51.938Z"
   },
   {
    "duration": 8,
    "start_time": "2022-04-25T12:22:52.140Z"
   },
   {
    "duration": 3,
    "start_time": "2022-04-25T12:25:53.128Z"
   },
   {
    "duration": 1956,
    "start_time": "2022-04-25T12:25:54.577Z"
   },
   {
    "duration": 0,
    "start_time": "2022-04-25T12:25:56.535Z"
   },
   {
    "duration": 1900,
    "start_time": "2022-04-25T12:25:56.591Z"
   },
   {
    "duration": 0,
    "start_time": "2022-04-25T12:25:58.493Z"
   },
   {
    "duration": 0,
    "start_time": "2022-04-25T12:25:58.494Z"
   },
   {
    "duration": 4,
    "start_time": "2022-04-25T12:26:16.323Z"
   },
   {
    "duration": 4,
    "start_time": "2022-04-25T12:26:18.701Z"
   },
   {
    "duration": 1537,
    "start_time": "2022-04-25T12:26:19.919Z"
   },
   {
    "duration": 0,
    "start_time": "2022-04-25T12:26:21.458Z"
   },
   {
    "duration": 0,
    "start_time": "2022-04-25T12:26:21.460Z"
   },
   {
    "duration": 1456,
    "start_time": "2022-04-25T12:26:22.478Z"
   },
   {
    "duration": 0,
    "start_time": "2022-04-25T12:26:23.936Z"
   },
   {
    "duration": 4,
    "start_time": "2022-04-25T12:28:11.439Z"
   },
   {
    "duration": 23,
    "start_time": "2022-04-25T12:28:13.304Z"
   },
   {
    "duration": 18,
    "start_time": "2022-04-25T12:28:14.799Z"
   },
   {
    "duration": 20,
    "start_time": "2022-04-25T12:28:15.496Z"
   },
   {
    "duration": 434,
    "start_time": "2022-04-25T12:28:24.585Z"
   },
   {
    "duration": 146,
    "start_time": "2022-04-25T12:28:25.021Z"
   },
   {
    "duration": 7,
    "start_time": "2022-04-25T12:28:25.169Z"
   },
   {
    "duration": 37,
    "start_time": "2022-04-25T12:28:25.178Z"
   },
   {
    "duration": 2,
    "start_time": "2022-04-25T12:28:25.217Z"
   },
   {
    "duration": 15,
    "start_time": "2022-04-25T12:28:25.221Z"
   },
   {
    "duration": 6,
    "start_time": "2022-04-25T12:28:25.237Z"
   },
   {
    "duration": 24,
    "start_time": "2022-04-25T12:28:25.245Z"
   },
   {
    "duration": 38,
    "start_time": "2022-04-25T12:28:25.271Z"
   },
   {
    "duration": 24,
    "start_time": "2022-04-25T12:28:25.311Z"
   },
   {
    "duration": 78,
    "start_time": "2022-04-25T12:28:25.336Z"
   },
   {
    "duration": 72,
    "start_time": "2022-04-25T12:28:25.416Z"
   },
   {
    "duration": 67,
    "start_time": "2022-04-25T12:28:25.490Z"
   },
   {
    "duration": 6,
    "start_time": "2022-04-25T12:28:25.559Z"
   },
   {
    "duration": 5,
    "start_time": "2022-04-25T12:28:25.566Z"
   },
   {
    "duration": 11,
    "start_time": "2022-04-25T12:28:25.572Z"
   },
   {
    "duration": 71,
    "start_time": "2022-04-25T12:28:25.584Z"
   },
   {
    "duration": 10,
    "start_time": "2022-04-25T12:28:25.657Z"
   },
   {
    "duration": 10,
    "start_time": "2022-04-25T12:28:25.669Z"
   },
   {
    "duration": 26,
    "start_time": "2022-04-25T12:28:25.681Z"
   },
   {
    "duration": 33,
    "start_time": "2022-04-25T12:28:25.709Z"
   },
   {
    "duration": 17,
    "start_time": "2022-04-25T12:28:25.744Z"
   },
   {
    "duration": 19,
    "start_time": "2022-04-25T12:28:25.763Z"
   },
   {
    "duration": 30,
    "start_time": "2022-04-25T12:28:25.784Z"
   },
   {
    "duration": 21,
    "start_time": "2022-04-25T12:28:25.816Z"
   },
   {
    "duration": 15,
    "start_time": "2022-04-25T12:28:25.839Z"
   },
   {
    "duration": 9,
    "start_time": "2022-04-25T12:28:25.855Z"
   },
   {
    "duration": 4,
    "start_time": "2022-04-25T12:28:25.867Z"
   },
   {
    "duration": 35,
    "start_time": "2022-04-25T12:28:25.872Z"
   },
   {
    "duration": 6,
    "start_time": "2022-04-25T12:28:25.909Z"
   },
   {
    "duration": 12,
    "start_time": "2022-04-25T12:28:25.916Z"
   },
   {
    "duration": 5,
    "start_time": "2022-04-25T12:28:25.929Z"
   },
   {
    "duration": 6,
    "start_time": "2022-04-25T12:28:25.935Z"
   },
   {
    "duration": 4,
    "start_time": "2022-04-25T12:28:25.942Z"
   },
   {
    "duration": 3,
    "start_time": "2022-04-25T12:28:25.948Z"
   },
   {
    "duration": 5,
    "start_time": "2022-04-25T12:28:25.953Z"
   },
   {
    "duration": 4,
    "start_time": "2022-04-25T12:28:25.959Z"
   },
   {
    "duration": 4,
    "start_time": "2022-04-25T12:28:25.964Z"
   },
   {
    "duration": 4,
    "start_time": "2022-04-25T12:31:17.974Z"
   },
   {
    "duration": 24,
    "start_time": "2022-04-25T12:31:19.475Z"
   },
   {
    "duration": 21,
    "start_time": "2022-04-25T12:31:20.085Z"
   },
   {
    "duration": 21,
    "start_time": "2022-04-25T12:31:20.786Z"
   },
   {
    "duration": 19,
    "start_time": "2022-04-25T12:31:21.331Z"
   },
   {
    "duration": 22,
    "start_time": "2022-04-25T12:31:21.966Z"
   },
   {
    "duration": 49,
    "start_time": "2022-04-25T13:14:33.766Z"
   },
   {
    "duration": 368,
    "start_time": "2022-04-25T13:14:47.036Z"
   },
   {
    "duration": 373,
    "start_time": "2022-04-25T13:14:47.405Z"
   },
   {
    "duration": 8,
    "start_time": "2022-04-25T13:14:47.780Z"
   },
   {
    "duration": 35,
    "start_time": "2022-04-25T13:14:47.790Z"
   },
   {
    "duration": 4,
    "start_time": "2022-04-25T13:14:47.827Z"
   },
   {
    "duration": 15,
    "start_time": "2022-04-25T13:14:47.832Z"
   },
   {
    "duration": 4,
    "start_time": "2022-04-25T13:14:47.849Z"
   },
   {
    "duration": 27,
    "start_time": "2022-04-25T13:14:47.855Z"
   },
   {
    "duration": 38,
    "start_time": "2022-04-25T13:14:47.884Z"
   },
   {
    "duration": 22,
    "start_time": "2022-04-25T13:14:47.925Z"
   },
   {
    "duration": 73,
    "start_time": "2022-04-25T13:14:47.948Z"
   },
   {
    "duration": 84,
    "start_time": "2022-04-25T13:14:48.023Z"
   },
   {
    "duration": 56,
    "start_time": "2022-04-25T13:14:48.109Z"
   },
   {
    "duration": 7,
    "start_time": "2022-04-25T13:14:48.166Z"
   },
   {
    "duration": 4,
    "start_time": "2022-04-25T13:14:48.174Z"
   },
   {
    "duration": 33,
    "start_time": "2022-04-25T13:14:48.180Z"
   },
   {
    "duration": 53,
    "start_time": "2022-04-25T13:14:48.215Z"
   },
   {
    "duration": 12,
    "start_time": "2022-04-25T13:14:48.270Z"
   },
   {
    "duration": 33,
    "start_time": "2022-04-25T13:14:48.283Z"
   },
   {
    "duration": 4,
    "start_time": "2022-04-25T13:14:48.318Z"
   },
   {
    "duration": 27,
    "start_time": "2022-04-25T13:14:48.324Z"
   },
   {
    "duration": 17,
    "start_time": "2022-04-25T13:14:48.352Z"
   },
   {
    "duration": 43,
    "start_time": "2022-04-25T13:14:48.371Z"
   },
   {
    "duration": 19,
    "start_time": "2022-04-25T13:14:48.415Z"
   },
   {
    "duration": 23,
    "start_time": "2022-04-25T13:14:48.435Z"
   },
   {
    "duration": 49,
    "start_time": "2022-04-25T13:14:48.459Z"
   },
   {
    "duration": 9,
    "start_time": "2022-04-25T13:14:48.510Z"
   },
   {
    "duration": 3,
    "start_time": "2022-04-25T13:14:48.522Z"
   },
   {
    "duration": 5,
    "start_time": "2022-04-25T13:14:48.526Z"
   },
   {
    "duration": 4,
    "start_time": "2022-04-25T13:14:48.533Z"
   },
   {
    "duration": 6,
    "start_time": "2022-04-25T13:14:48.539Z"
   },
   {
    "duration": 6,
    "start_time": "2022-04-25T13:14:48.546Z"
   },
   {
    "duration": 6,
    "start_time": "2022-04-25T13:14:48.553Z"
   },
   {
    "duration": 4,
    "start_time": "2022-04-25T13:14:48.561Z"
   },
   {
    "duration": 4,
    "start_time": "2022-04-25T13:14:48.566Z"
   },
   {
    "duration": 35,
    "start_time": "2022-04-25T13:14:48.572Z"
   },
   {
    "duration": 2,
    "start_time": "2022-04-25T13:14:48.609Z"
   },
   {
    "duration": 5,
    "start_time": "2022-04-25T13:14:48.613Z"
   },
   {
    "duration": 11,
    "start_time": "2022-04-25T13:27:58.237Z"
   },
   {
    "duration": 12,
    "start_time": "2022-04-25T13:28:00.247Z"
   },
   {
    "duration": 12,
    "start_time": "2022-04-25T13:28:00.839Z"
   },
   {
    "duration": 445,
    "start_time": "2022-04-25T13:28:18.272Z"
   },
   {
    "duration": 164,
    "start_time": "2022-04-25T13:28:18.719Z"
   },
   {
    "duration": 9,
    "start_time": "2022-04-25T13:28:18.884Z"
   },
   {
    "duration": 39,
    "start_time": "2022-04-25T13:28:18.896Z"
   },
   {
    "duration": 4,
    "start_time": "2022-04-25T13:28:18.937Z"
   },
   {
    "duration": 15,
    "start_time": "2022-04-25T13:28:18.943Z"
   },
   {
    "duration": 7,
    "start_time": "2022-04-25T13:28:18.960Z"
   },
   {
    "duration": 51,
    "start_time": "2022-04-25T13:28:18.968Z"
   },
   {
    "duration": 20,
    "start_time": "2022-04-25T13:28:19.021Z"
   },
   {
    "duration": 25,
    "start_time": "2022-04-25T13:28:19.044Z"
   },
   {
    "duration": 91,
    "start_time": "2022-04-25T13:28:19.071Z"
   },
   {
    "duration": 93,
    "start_time": "2022-04-25T13:28:19.163Z"
   },
   {
    "duration": 72,
    "start_time": "2022-04-25T13:28:19.257Z"
   },
   {
    "duration": 7,
    "start_time": "2022-04-25T13:28:19.331Z"
   },
   {
    "duration": 5,
    "start_time": "2022-04-25T13:28:19.340Z"
   },
   {
    "duration": 14,
    "start_time": "2022-04-25T13:28:19.347Z"
   },
   {
    "duration": 73,
    "start_time": "2022-04-25T13:28:19.362Z"
   },
   {
    "duration": 12,
    "start_time": "2022-04-25T13:28:19.437Z"
   },
   {
    "duration": 11,
    "start_time": "2022-04-25T13:28:19.450Z"
   },
   {
    "duration": 5,
    "start_time": "2022-04-25T13:28:19.463Z"
   },
   {
    "duration": 52,
    "start_time": "2022-04-25T13:28:19.470Z"
   },
   {
    "duration": 20,
    "start_time": "2022-04-25T13:28:19.523Z"
   },
   {
    "duration": 20,
    "start_time": "2022-04-25T13:28:19.545Z"
   },
   {
    "duration": 45,
    "start_time": "2022-04-25T13:28:19.567Z"
   },
   {
    "duration": 25,
    "start_time": "2022-04-25T13:28:19.614Z"
   },
   {
    "duration": 19,
    "start_time": "2022-04-25T13:28:19.640Z"
   },
   {
    "duration": 10,
    "start_time": "2022-04-25T13:28:19.661Z"
   },
   {
    "duration": 11,
    "start_time": "2022-04-25T13:28:19.707Z"
   },
   {
    "duration": 9,
    "start_time": "2022-04-25T13:28:19.720Z"
   },
   {
    "duration": 4,
    "start_time": "2022-04-25T13:28:19.731Z"
   },
   {
    "duration": 19,
    "start_time": "2022-04-25T13:28:19.737Z"
   },
   {
    "duration": 4,
    "start_time": "2022-04-25T13:28:19.758Z"
   },
   {
    "duration": 6,
    "start_time": "2022-04-25T13:28:19.764Z"
   },
   {
    "duration": 4,
    "start_time": "2022-04-25T13:28:19.772Z"
   },
   {
    "duration": 4,
    "start_time": "2022-04-25T13:28:19.777Z"
   },
   {
    "duration": 25,
    "start_time": "2022-04-25T13:28:19.783Z"
   },
   {
    "duration": 4,
    "start_time": "2022-04-25T13:28:19.810Z"
   },
   {
    "duration": 6,
    "start_time": "2022-04-25T13:28:19.816Z"
   },
   {
    "duration": 4,
    "start_time": "2022-04-25T13:48:58.127Z"
   },
   {
    "duration": 442,
    "start_time": "2022-04-25T13:49:12.571Z"
   },
   {
    "duration": 168,
    "start_time": "2022-04-25T13:49:13.015Z"
   },
   {
    "duration": 11,
    "start_time": "2022-04-25T13:49:13.185Z"
   },
   {
    "duration": 34,
    "start_time": "2022-04-25T13:49:13.206Z"
   },
   {
    "duration": 3,
    "start_time": "2022-04-25T13:49:13.243Z"
   },
   {
    "duration": 16,
    "start_time": "2022-04-25T13:49:13.248Z"
   },
   {
    "duration": 6,
    "start_time": "2022-04-25T13:49:13.266Z"
   },
   {
    "duration": 55,
    "start_time": "2022-04-25T13:49:13.274Z"
   },
   {
    "duration": 20,
    "start_time": "2022-04-25T13:49:13.332Z"
   },
   {
    "duration": 27,
    "start_time": "2022-04-25T13:49:13.354Z"
   },
   {
    "duration": 92,
    "start_time": "2022-04-25T13:49:13.383Z"
   },
   {
    "duration": 98,
    "start_time": "2022-04-25T13:49:13.477Z"
   },
   {
    "duration": 72,
    "start_time": "2022-04-25T13:49:13.577Z"
   },
   {
    "duration": 7,
    "start_time": "2022-04-25T13:49:13.652Z"
   },
   {
    "duration": 8,
    "start_time": "2022-04-25T13:49:13.660Z"
   },
   {
    "duration": 16,
    "start_time": "2022-04-25T13:49:13.669Z"
   },
   {
    "duration": 73,
    "start_time": "2022-04-25T13:49:13.686Z"
   },
   {
    "duration": 12,
    "start_time": "2022-04-25T13:49:13.761Z"
   },
   {
    "duration": 13,
    "start_time": "2022-04-25T13:49:13.774Z"
   },
   {
    "duration": 21,
    "start_time": "2022-04-25T13:49:13.788Z"
   },
   {
    "duration": 37,
    "start_time": "2022-04-25T13:49:13.810Z"
   },
   {
    "duration": 19,
    "start_time": "2022-04-25T13:49:13.849Z"
   },
   {
    "duration": 35,
    "start_time": "2022-04-25T13:49:13.869Z"
   },
   {
    "duration": 18,
    "start_time": "2022-04-25T13:49:13.906Z"
   },
   {
    "duration": 25,
    "start_time": "2022-04-25T13:49:13.926Z"
   },
   {
    "duration": 20,
    "start_time": "2022-04-25T13:49:13.953Z"
   },
   {
    "duration": 36,
    "start_time": "2022-04-25T13:49:13.975Z"
   },
   {
    "duration": 12,
    "start_time": "2022-04-25T13:49:14.013Z"
   },
   {
    "duration": 11,
    "start_time": "2022-04-25T13:49:14.027Z"
   },
   {
    "duration": 5,
    "start_time": "2022-04-25T13:49:14.040Z"
   },
   {
    "duration": 19,
    "start_time": "2022-04-25T13:49:14.047Z"
   },
   {
    "duration": 13,
    "start_time": "2022-04-25T13:49:14.068Z"
   },
   {
    "duration": 13,
    "start_time": "2022-04-25T13:49:14.082Z"
   },
   {
    "duration": 8,
    "start_time": "2022-04-25T13:49:14.097Z"
   },
   {
    "duration": 12,
    "start_time": "2022-04-25T13:49:14.106Z"
   },
   {
    "duration": 8,
    "start_time": "2022-04-25T13:49:14.119Z"
   },
   {
    "duration": 11,
    "start_time": "2022-04-25T13:49:14.129Z"
   },
   {
    "duration": 17,
    "start_time": "2022-04-25T13:49:14.142Z"
   },
   {
    "duration": 18,
    "start_time": "2022-04-25T13:51:39.999Z"
   },
   {
    "duration": 13,
    "start_time": "2022-04-25T13:52:44.228Z"
   },
   {
    "duration": 17,
    "start_time": "2022-04-25T13:54:31.707Z"
   },
   {
    "duration": 12,
    "start_time": "2022-04-25T13:54:32.293Z"
   },
   {
    "duration": 17,
    "start_time": "2022-04-25T13:54:32.839Z"
   },
   {
    "duration": 11,
    "start_time": "2022-04-25T13:54:33.529Z"
   },
   {
    "duration": 4,
    "start_time": "2022-04-25T13:56:35.663Z"
   },
   {
    "duration": 19,
    "start_time": "2022-04-25T13:56:38.631Z"
   },
   {
    "duration": 13,
    "start_time": "2022-04-25T13:56:42.420Z"
   },
   {
    "duration": 17,
    "start_time": "2022-04-25T13:56:43.046Z"
   },
   {
    "duration": 13,
    "start_time": "2022-04-25T13:56:43.673Z"
   },
   {
    "duration": 450,
    "start_time": "2022-04-25T13:56:53.086Z"
   },
   {
    "duration": 158,
    "start_time": "2022-04-25T13:56:53.538Z"
   },
   {
    "duration": 10,
    "start_time": "2022-04-25T13:56:53.698Z"
   },
   {
    "duration": 32,
    "start_time": "2022-04-25T13:56:53.710Z"
   },
   {
    "duration": 3,
    "start_time": "2022-04-25T13:56:53.744Z"
   },
   {
    "duration": 17,
    "start_time": "2022-04-25T13:56:53.749Z"
   },
   {
    "duration": 5,
    "start_time": "2022-04-25T13:56:53.768Z"
   },
   {
    "duration": 52,
    "start_time": "2022-04-25T13:56:53.775Z"
   },
   {
    "duration": 20,
    "start_time": "2022-04-25T13:56:53.829Z"
   },
   {
    "duration": 25,
    "start_time": "2022-04-25T13:56:53.852Z"
   },
   {
    "duration": 95,
    "start_time": "2022-04-25T13:56:53.879Z"
   },
   {
    "duration": 89,
    "start_time": "2022-04-25T13:56:53.976Z"
   },
   {
    "duration": 72,
    "start_time": "2022-04-25T13:56:54.067Z"
   },
   {
    "duration": 7,
    "start_time": "2022-04-25T13:56:54.141Z"
   },
   {
    "duration": 4,
    "start_time": "2022-04-25T13:56:54.150Z"
   },
   {
    "duration": 16,
    "start_time": "2022-04-25T13:56:54.155Z"
   },
   {
    "duration": 72,
    "start_time": "2022-04-25T13:56:54.173Z"
   },
   {
    "duration": 11,
    "start_time": "2022-04-25T13:56:54.247Z"
   },
   {
    "duration": 12,
    "start_time": "2022-04-25T13:56:54.260Z"
   },
   {
    "duration": 5,
    "start_time": "2022-04-25T13:56:54.274Z"
   },
   {
    "duration": 22,
    "start_time": "2022-04-25T13:56:54.307Z"
   },
   {
    "duration": 16,
    "start_time": "2022-04-25T13:56:54.331Z"
   },
   {
    "duration": 18,
    "start_time": "2022-04-25T13:56:54.349Z"
   },
   {
    "duration": 40,
    "start_time": "2022-04-25T13:56:54.369Z"
   },
   {
    "duration": 22,
    "start_time": "2022-04-25T13:56:54.411Z"
   },
   {
    "duration": 18,
    "start_time": "2022-04-25T13:56:54.435Z"
   },
   {
    "duration": 9,
    "start_time": "2022-04-25T13:56:54.454Z"
   },
   {
    "duration": 40,
    "start_time": "2022-04-25T13:56:54.467Z"
   },
   {
    "duration": 9,
    "start_time": "2022-04-25T13:56:54.509Z"
   },
   {
    "duration": 4,
    "start_time": "2022-04-25T13:56:54.520Z"
   },
   {
    "duration": 21,
    "start_time": "2022-04-25T13:56:54.526Z"
   },
   {
    "duration": 12,
    "start_time": "2022-04-25T13:56:54.549Z"
   },
   {
    "duration": 15,
    "start_time": "2022-04-25T13:56:54.562Z"
   },
   {
    "duration": 38,
    "start_time": "2022-04-25T13:56:54.578Z"
   },
   {
    "duration": 3,
    "start_time": "2022-04-25T13:56:54.617Z"
   },
   {
    "duration": 7,
    "start_time": "2022-04-25T13:56:54.622Z"
   },
   {
    "duration": 5,
    "start_time": "2022-04-25T13:56:54.631Z"
   },
   {
    "duration": 4,
    "start_time": "2022-04-25T13:56:54.638Z"
   },
   {
    "duration": 66,
    "start_time": "2022-04-25T14:11:40.163Z"
   },
   {
    "duration": 25,
    "start_time": "2022-04-25T14:18:17.961Z"
   },
   {
    "duration": 9,
    "start_time": "2022-04-25T14:18:20.353Z"
   },
   {
    "duration": 16,
    "start_time": "2022-04-25T14:25:07.169Z"
   },
   {
    "duration": 9,
    "start_time": "2022-04-25T14:25:13.613Z"
   },
   {
    "duration": 14,
    "start_time": "2022-04-25T14:30:37.161Z"
   },
   {
    "duration": 101,
    "start_time": "2022-04-25T14:31:34.455Z"
   },
   {
    "duration": 13,
    "start_time": "2022-04-25T14:31:42.316Z"
   },
   {
    "duration": 26,
    "start_time": "2022-04-25T14:32:57.111Z"
   },
   {
    "duration": 12,
    "start_time": "2022-04-25T14:33:14.734Z"
   },
   {
    "duration": 13,
    "start_time": "2022-04-25T14:33:47.509Z"
   },
   {
    "duration": 29,
    "start_time": "2022-04-25T14:34:06.019Z"
   },
   {
    "duration": 27,
    "start_time": "2022-04-25T14:34:44.573Z"
   },
   {
    "duration": 28,
    "start_time": "2022-04-25T14:34:47.772Z"
   },
   {
    "duration": 25,
    "start_time": "2022-04-25T14:35:37.726Z"
   },
   {
    "duration": 10,
    "start_time": "2022-04-25T14:35:49.962Z"
   },
   {
    "duration": 9,
    "start_time": "2022-04-25T14:36:28.667Z"
   },
   {
    "duration": 8,
    "start_time": "2022-04-25T14:37:15.854Z"
   },
   {
    "duration": 11,
    "start_time": "2022-04-25T14:38:18.865Z"
   },
   {
    "duration": 7,
    "start_time": "2022-04-25T14:40:34.096Z"
   },
   {
    "duration": 9,
    "start_time": "2022-04-25T14:40:40.845Z"
   },
   {
    "duration": 10,
    "start_time": "2022-04-25T14:40:41.744Z"
   },
   {
    "duration": 3,
    "start_time": "2022-04-25T14:40:44.576Z"
   },
   {
    "duration": 8,
    "start_time": "2022-04-25T14:40:45.946Z"
   },
   {
    "duration": 25,
    "start_time": "2022-04-25T14:44:17.988Z"
   },
   {
    "duration": 8,
    "start_time": "2022-04-25T14:44:21.371Z"
   },
   {
    "duration": 24,
    "start_time": "2022-04-25T14:44:23.655Z"
   },
   {
    "duration": 83,
    "start_time": "2022-04-25T14:48:07.978Z"
   },
   {
    "duration": 110,
    "start_time": "2022-04-25T14:48:27.453Z"
   },
   {
    "duration": 92,
    "start_time": "2022-04-25T14:48:54.951Z"
   },
   {
    "duration": 439,
    "start_time": "2022-04-25T14:49:05.798Z"
   },
   {
    "duration": 152,
    "start_time": "2022-04-25T14:49:06.239Z"
   },
   {
    "duration": 8,
    "start_time": "2022-04-25T14:49:06.392Z"
   },
   {
    "duration": 30,
    "start_time": "2022-04-25T14:49:06.408Z"
   },
   {
    "duration": 3,
    "start_time": "2022-04-25T14:49:06.440Z"
   },
   {
    "duration": 15,
    "start_time": "2022-04-25T14:49:06.445Z"
   },
   {
    "duration": 5,
    "start_time": "2022-04-25T14:49:06.462Z"
   },
   {
    "duration": 46,
    "start_time": "2022-04-25T14:49:06.469Z"
   },
   {
    "duration": 19,
    "start_time": "2022-04-25T14:49:06.517Z"
   },
   {
    "duration": 24,
    "start_time": "2022-04-25T14:49:06.539Z"
   },
   {
    "duration": 85,
    "start_time": "2022-04-25T14:49:06.564Z"
   },
   {
    "duration": 85,
    "start_time": "2022-04-25T14:49:06.651Z"
   },
   {
    "duration": 56,
    "start_time": "2022-04-25T14:49:06.738Z"
   },
   {
    "duration": 16,
    "start_time": "2022-04-25T14:49:06.796Z"
   },
   {
    "duration": 8,
    "start_time": "2022-04-25T14:49:06.814Z"
   },
   {
    "duration": 18,
    "start_time": "2022-04-25T14:49:06.823Z"
   },
   {
    "duration": 53,
    "start_time": "2022-04-25T14:49:06.843Z"
   },
   {
    "duration": 12,
    "start_time": "2022-04-25T14:49:06.908Z"
   },
   {
    "duration": 11,
    "start_time": "2022-04-25T14:49:06.921Z"
   },
   {
    "duration": 5,
    "start_time": "2022-04-25T14:49:06.934Z"
   },
   {
    "duration": 26,
    "start_time": "2022-04-25T14:49:06.940Z"
   },
   {
    "duration": 43,
    "start_time": "2022-04-25T14:49:06.967Z"
   },
   {
    "duration": 19,
    "start_time": "2022-04-25T14:49:07.012Z"
   },
   {
    "duration": 16,
    "start_time": "2022-04-25T14:49:07.032Z"
   },
   {
    "duration": 21,
    "start_time": "2022-04-25T14:49:07.049Z"
   },
   {
    "duration": 44,
    "start_time": "2022-04-25T14:49:07.072Z"
   },
   {
    "duration": 10,
    "start_time": "2022-04-25T14:49:07.118Z"
   },
   {
    "duration": 13,
    "start_time": "2022-04-25T14:49:07.131Z"
   },
   {
    "duration": 9,
    "start_time": "2022-04-25T14:49:07.146Z"
   },
   {
    "duration": 4,
    "start_time": "2022-04-25T14:49:07.156Z"
   },
   {
    "duration": 47,
    "start_time": "2022-04-25T14:49:07.162Z"
   },
   {
    "duration": 13,
    "start_time": "2022-04-25T14:49:07.211Z"
   },
   {
    "duration": 16,
    "start_time": "2022-04-25T14:49:07.225Z"
   },
   {
    "duration": 11,
    "start_time": "2022-04-25T14:49:07.243Z"
   },
   {
    "duration": 86,
    "start_time": "2022-04-25T14:49:07.256Z"
   },
   {
    "duration": 0,
    "start_time": "2022-04-25T14:49:07.343Z"
   },
   {
    "duration": 0,
    "start_time": "2022-04-25T14:49:07.345Z"
   },
   {
    "duration": 0,
    "start_time": "2022-04-25T14:49:07.346Z"
   },
   {
    "duration": 0,
    "start_time": "2022-04-25T14:49:07.347Z"
   },
   {
    "duration": 9,
    "start_time": "2022-04-25T14:50:03.663Z"
   },
   {
    "duration": 7,
    "start_time": "2022-04-25T14:50:07.721Z"
   },
   {
    "duration": 87,
    "start_time": "2022-04-25T14:50:25.989Z"
   },
   {
    "duration": 9,
    "start_time": "2022-04-25T14:50:31.038Z"
   },
   {
    "duration": 5,
    "start_time": "2022-04-25T14:50:33.979Z"
   },
   {
    "duration": 8,
    "start_time": "2022-04-25T14:51:12.554Z"
   },
   {
    "duration": 5,
    "start_time": "2022-04-25T14:51:14.056Z"
   },
   {
    "duration": 7,
    "start_time": "2022-04-25T14:51:54.365Z"
   },
   {
    "duration": 4,
    "start_time": "2022-04-25T14:51:56.281Z"
   },
   {
    "duration": 392,
    "start_time": "2022-04-25T14:52:10.536Z"
   },
   {
    "duration": 161,
    "start_time": "2022-04-25T14:52:10.930Z"
   },
   {
    "duration": 15,
    "start_time": "2022-04-25T14:52:11.093Z"
   },
   {
    "duration": 32,
    "start_time": "2022-04-25T14:52:11.111Z"
   },
   {
    "duration": 4,
    "start_time": "2022-04-25T14:52:11.145Z"
   },
   {
    "duration": 15,
    "start_time": "2022-04-25T14:52:11.151Z"
   },
   {
    "duration": 4,
    "start_time": "2022-04-25T14:52:11.168Z"
   },
   {
    "duration": 25,
    "start_time": "2022-04-25T14:52:11.207Z"
   },
   {
    "duration": 20,
    "start_time": "2022-04-25T14:52:11.233Z"
   },
   {
    "duration": 26,
    "start_time": "2022-04-25T14:52:11.256Z"
   },
   {
    "duration": 100,
    "start_time": "2022-04-25T14:52:11.284Z"
   },
   {
    "duration": 93,
    "start_time": "2022-04-25T14:52:11.386Z"
   },
   {
    "duration": 74,
    "start_time": "2022-04-25T14:52:11.480Z"
   },
   {
    "duration": 6,
    "start_time": "2022-04-25T14:52:11.556Z"
   },
   {
    "duration": 5,
    "start_time": "2022-04-25T14:52:11.564Z"
   },
   {
    "duration": 10,
    "start_time": "2022-04-25T14:52:11.571Z"
   },
   {
    "duration": 72,
    "start_time": "2022-04-25T14:52:11.583Z"
   },
   {
    "duration": 12,
    "start_time": "2022-04-25T14:52:11.657Z"
   },
   {
    "duration": 12,
    "start_time": "2022-04-25T14:52:11.670Z"
   },
   {
    "duration": 5,
    "start_time": "2022-04-25T14:52:11.708Z"
   },
   {
    "duration": 24,
    "start_time": "2022-04-25T14:52:11.716Z"
   },
   {
    "duration": 18,
    "start_time": "2022-04-25T14:52:11.742Z"
   },
   {
    "duration": 18,
    "start_time": "2022-04-25T14:52:11.762Z"
   },
   {
    "duration": 40,
    "start_time": "2022-04-25T14:52:11.782Z"
   },
   {
    "duration": 22,
    "start_time": "2022-04-25T14:52:11.824Z"
   },
   {
    "duration": 18,
    "start_time": "2022-04-25T14:52:11.847Z"
   },
   {
    "duration": 42,
    "start_time": "2022-04-25T14:52:11.867Z"
   },
   {
    "duration": 26,
    "start_time": "2022-04-25T14:52:11.912Z"
   },
   {
    "duration": 10,
    "start_time": "2022-04-25T14:52:11.940Z"
   },
   {
    "duration": 5,
    "start_time": "2022-04-25T14:52:11.952Z"
   },
   {
    "duration": 42,
    "start_time": "2022-04-25T14:52:11.959Z"
   },
   {
    "duration": 13,
    "start_time": "2022-04-25T14:52:12.003Z"
   },
   {
    "duration": 16,
    "start_time": "2022-04-25T14:52:12.018Z"
   },
   {
    "duration": 15,
    "start_time": "2022-04-25T14:52:12.036Z"
   },
   {
    "duration": 11,
    "start_time": "2022-04-25T14:52:12.052Z"
   },
   {
    "duration": 13,
    "start_time": "2022-04-25T14:52:12.065Z"
   },
   {
    "duration": 28,
    "start_time": "2022-04-25T14:52:12.079Z"
   },
   {
    "duration": 6,
    "start_time": "2022-04-25T14:52:12.109Z"
   },
   {
    "duration": 4,
    "start_time": "2022-04-25T14:52:40.985Z"
   },
   {
    "duration": 4,
    "start_time": "2022-04-25T14:52:43.695Z"
   },
   {
    "duration": 4,
    "start_time": "2022-04-25T14:52:52.615Z"
   },
   {
    "duration": 4,
    "start_time": "2022-04-25T14:53:54.321Z"
   },
   {
    "duration": 5,
    "start_time": "2022-04-25T14:54:06.952Z"
   },
   {
    "duration": 5,
    "start_time": "2022-04-25T14:54:19.171Z"
   },
   {
    "duration": 4,
    "start_time": "2022-04-25T14:54:32.248Z"
   },
   {
    "duration": 5,
    "start_time": "2022-04-25T14:54:42.939Z"
   },
   {
    "duration": 433,
    "start_time": "2022-04-25T14:54:52.978Z"
   },
   {
    "duration": 154,
    "start_time": "2022-04-25T14:54:53.413Z"
   },
   {
    "duration": 8,
    "start_time": "2022-04-25T14:54:53.569Z"
   },
   {
    "duration": 42,
    "start_time": "2022-04-25T14:54:53.579Z"
   },
   {
    "duration": 4,
    "start_time": "2022-04-25T14:54:53.623Z"
   },
   {
    "duration": 15,
    "start_time": "2022-04-25T14:54:53.629Z"
   },
   {
    "duration": 12,
    "start_time": "2022-04-25T14:54:53.646Z"
   },
   {
    "duration": 26,
    "start_time": "2022-04-25T14:54:53.660Z"
   },
   {
    "duration": 35,
    "start_time": "2022-04-25T14:54:53.688Z"
   },
   {
    "duration": 24,
    "start_time": "2022-04-25T14:54:53.726Z"
   },
   {
    "duration": 82,
    "start_time": "2022-04-25T14:54:53.752Z"
   },
   {
    "duration": 86,
    "start_time": "2022-04-25T14:54:53.835Z"
   },
   {
    "duration": 59,
    "start_time": "2022-04-25T14:54:53.922Z"
   },
   {
    "duration": 27,
    "start_time": "2022-04-25T14:54:53.983Z"
   },
   {
    "duration": 5,
    "start_time": "2022-04-25T14:54:54.012Z"
   },
   {
    "duration": 11,
    "start_time": "2022-04-25T14:54:54.019Z"
   },
   {
    "duration": 81,
    "start_time": "2022-04-25T14:54:54.032Z"
   },
   {
    "duration": 14,
    "start_time": "2022-04-25T14:54:54.115Z"
   },
   {
    "duration": 12,
    "start_time": "2022-04-25T14:54:54.131Z"
   },
   {
    "duration": 11,
    "start_time": "2022-04-25T14:54:54.145Z"
   },
   {
    "duration": 38,
    "start_time": "2022-04-25T14:54:54.157Z"
   },
   {
    "duration": 26,
    "start_time": "2022-04-25T14:54:54.197Z"
   },
   {
    "duration": 18,
    "start_time": "2022-04-25T14:54:54.225Z"
   },
   {
    "duration": 17,
    "start_time": "2022-04-25T14:54:54.245Z"
   },
   {
    "duration": 53,
    "start_time": "2022-04-25T14:54:54.264Z"
   },
   {
    "duration": 18,
    "start_time": "2022-04-25T14:54:54.319Z"
   },
   {
    "duration": 10,
    "start_time": "2022-04-25T14:54:54.338Z"
   },
   {
    "duration": 17,
    "start_time": "2022-04-25T14:54:54.350Z"
   },
   {
    "duration": 9,
    "start_time": "2022-04-25T14:54:54.368Z"
   },
   {
    "duration": 28,
    "start_time": "2022-04-25T14:54:54.379Z"
   },
   {
    "duration": 18,
    "start_time": "2022-04-25T14:54:54.408Z"
   },
   {
    "duration": 11,
    "start_time": "2022-04-25T14:54:54.427Z"
   },
   {
    "duration": 16,
    "start_time": "2022-04-25T14:54:54.439Z"
   },
   {
    "duration": 10,
    "start_time": "2022-04-25T14:54:54.456Z"
   },
   {
    "duration": 8,
    "start_time": "2022-04-25T14:54:54.468Z"
   },
   {
    "duration": 5,
    "start_time": "2022-04-25T14:54:54.507Z"
   },
   {
    "duration": 9,
    "start_time": "2022-04-25T14:54:54.513Z"
   },
   {
    "duration": 7,
    "start_time": "2022-04-25T14:54:54.523Z"
   },
   {
    "duration": 857,
    "start_time": "2022-05-01T08:10:01.656Z"
   },
   {
    "duration": 315,
    "start_time": "2022-05-01T08:10:02.515Z"
   },
   {
    "duration": 9,
    "start_time": "2022-05-01T08:10:02.831Z"
   },
   {
    "duration": 33,
    "start_time": "2022-05-01T08:10:02.894Z"
   },
   {
    "duration": 63,
    "start_time": "2022-05-01T08:10:02.930Z"
   },
   {
    "duration": 40,
    "start_time": "2022-05-01T08:10:02.995Z"
   },
   {
    "duration": 42,
    "start_time": "2022-05-01T08:10:03.036Z"
   },
   {
    "duration": 39,
    "start_time": "2022-05-01T08:10:03.079Z"
   },
   {
    "duration": 46,
    "start_time": "2022-05-01T08:10:03.120Z"
   },
   {
    "duration": 23,
    "start_time": "2022-05-01T08:10:03.168Z"
   },
   {
    "duration": 60,
    "start_time": "2022-05-01T08:10:03.193Z"
   },
   {
    "duration": 145,
    "start_time": "2022-05-01T08:10:03.255Z"
   },
   {
    "duration": 57,
    "start_time": "2022-05-01T08:10:03.401Z"
   },
   {
    "duration": 7,
    "start_time": "2022-05-01T08:10:03.460Z"
   },
   {
    "duration": 3,
    "start_time": "2022-05-01T08:10:03.469Z"
   },
   {
    "duration": 9,
    "start_time": "2022-05-01T08:10:03.493Z"
   },
   {
    "duration": 199,
    "start_time": "2022-05-01T08:10:03.504Z"
   },
   {
    "duration": 12,
    "start_time": "2022-05-01T08:10:03.705Z"
   },
   {
    "duration": 12,
    "start_time": "2022-05-01T08:10:03.718Z"
   },
   {
    "duration": 61,
    "start_time": "2022-05-01T08:10:03.732Z"
   },
   {
    "duration": 22,
    "start_time": "2022-05-01T08:10:03.795Z"
   },
   {
    "duration": 16,
    "start_time": "2022-05-01T08:10:03.818Z"
   },
   {
    "duration": 18,
    "start_time": "2022-05-01T08:10:03.836Z"
   },
   {
    "duration": 49,
    "start_time": "2022-05-01T08:10:03.856Z"
   },
   {
    "duration": 20,
    "start_time": "2022-05-01T08:10:03.906Z"
   },
   {
    "duration": 16,
    "start_time": "2022-05-01T08:10:03.927Z"
   },
   {
    "duration": 10,
    "start_time": "2022-05-01T08:10:03.945Z"
   },
   {
    "duration": 40,
    "start_time": "2022-05-01T08:10:03.957Z"
   },
   {
    "duration": 10,
    "start_time": "2022-05-01T08:10:03.999Z"
   },
   {
    "duration": 5,
    "start_time": "2022-05-01T08:10:04.011Z"
   },
   {
    "duration": 21,
    "start_time": "2022-05-01T08:10:04.018Z"
   },
   {
    "duration": 11,
    "start_time": "2022-05-01T08:10:04.041Z"
   },
   {
    "duration": 45,
    "start_time": "2022-05-01T08:10:04.053Z"
   },
   {
    "duration": 10,
    "start_time": "2022-05-01T08:10:04.100Z"
   },
   {
    "duration": 8,
    "start_time": "2022-05-01T08:10:04.112Z"
   },
   {
    "duration": 5,
    "start_time": "2022-05-01T08:10:04.121Z"
   },
   {
    "duration": 10,
    "start_time": "2022-05-01T08:10:04.127Z"
   },
   {
    "duration": 8,
    "start_time": "2022-05-01T08:10:04.138Z"
   },
   {
    "duration": 47,
    "start_time": "2022-05-01T09:01:53.926Z"
   },
   {
    "duration": 6,
    "start_time": "2022-05-01T09:02:30.239Z"
   },
   {
    "duration": 92,
    "start_time": "2022-05-01T09:04:25.583Z"
   },
   {
    "duration": 80,
    "start_time": "2022-05-01T09:04:35.070Z"
   },
   {
    "duration": 86,
    "start_time": "2022-05-01T09:05:43.374Z"
   },
   {
    "duration": 7,
    "start_time": "2022-05-01T09:06:09.890Z"
   },
   {
    "duration": 416,
    "start_time": "2022-05-01T09:06:17.153Z"
   },
   {
    "duration": 162,
    "start_time": "2022-05-01T09:06:17.576Z"
   },
   {
    "duration": 8,
    "start_time": "2022-05-01T09:06:17.740Z"
   },
   {
    "duration": 42,
    "start_time": "2022-05-01T09:06:17.750Z"
   },
   {
    "duration": 8,
    "start_time": "2022-05-01T09:06:17.794Z"
   },
   {
    "duration": 18,
    "start_time": "2022-05-01T09:06:17.803Z"
   },
   {
    "duration": 7,
    "start_time": "2022-05-01T09:06:17.823Z"
   },
   {
    "duration": 26,
    "start_time": "2022-05-01T09:06:17.831Z"
   },
   {
    "duration": 25,
    "start_time": "2022-05-01T09:06:17.873Z"
   },
   {
    "duration": 25,
    "start_time": "2022-05-01T09:06:17.901Z"
   },
   {
    "duration": 91,
    "start_time": "2022-05-01T09:06:17.927Z"
   },
   {
    "duration": 82,
    "start_time": "2022-05-01T09:06:18.020Z"
   },
   {
    "duration": 77,
    "start_time": "2022-05-01T09:06:18.104Z"
   },
   {
    "duration": 9,
    "start_time": "2022-05-01T09:06:18.183Z"
   },
   {
    "duration": 8,
    "start_time": "2022-05-01T09:06:18.193Z"
   },
   {
    "duration": 13,
    "start_time": "2022-05-01T09:06:18.203Z"
   },
   {
    "duration": 72,
    "start_time": "2022-05-01T09:06:18.217Z"
   },
   {
    "duration": 13,
    "start_time": "2022-05-01T09:06:18.291Z"
   },
   {
    "duration": 15,
    "start_time": "2022-05-01T09:06:18.305Z"
   },
   {
    "duration": 3,
    "start_time": "2022-05-01T09:06:18.322Z"
   },
   {
    "duration": 26,
    "start_time": "2022-05-01T09:06:18.327Z"
   },
   {
    "duration": 40,
    "start_time": "2022-05-01T09:06:18.355Z"
   },
   {
    "duration": 19,
    "start_time": "2022-05-01T09:06:18.397Z"
   },
   {
    "duration": 16,
    "start_time": "2022-05-01T09:06:18.417Z"
   },
   {
    "duration": 54,
    "start_time": "2022-05-01T09:06:18.435Z"
   },
   {
    "duration": 18,
    "start_time": "2022-05-01T09:06:18.490Z"
   },
   {
    "duration": 9,
    "start_time": "2022-05-01T09:06:18.510Z"
   },
   {
    "duration": 15,
    "start_time": "2022-05-01T09:06:18.522Z"
   },
   {
    "duration": 9,
    "start_time": "2022-05-01T09:06:18.539Z"
   },
   {
    "duration": 4,
    "start_time": "2022-05-01T09:06:18.550Z"
   },
   {
    "duration": 36,
    "start_time": "2022-05-01T09:06:18.555Z"
   },
   {
    "duration": 14,
    "start_time": "2022-05-01T09:06:18.593Z"
   },
   {
    "duration": 16,
    "start_time": "2022-05-01T09:06:18.608Z"
   },
   {
    "duration": 11,
    "start_time": "2022-05-01T09:06:18.625Z"
   },
   {
    "duration": 46,
    "start_time": "2022-05-01T09:06:18.638Z"
   },
   {
    "duration": 11,
    "start_time": "2022-05-01T09:06:18.686Z"
   },
   {
    "duration": 9,
    "start_time": "2022-05-01T09:06:18.699Z"
   },
   {
    "duration": 6,
    "start_time": "2022-05-01T09:06:18.710Z"
   },
   {
    "duration": 43,
    "start_time": "2022-05-01T09:08:30.454Z"
   },
   {
    "duration": 372,
    "start_time": "2022-05-01T09:08:41.005Z"
   },
   {
    "duration": 156,
    "start_time": "2022-05-01T09:08:41.379Z"
   },
   {
    "duration": 9,
    "start_time": "2022-05-01T09:08:41.537Z"
   },
   {
    "duration": 40,
    "start_time": "2022-05-01T09:08:41.548Z"
   },
   {
    "duration": 3,
    "start_time": "2022-05-01T09:08:41.590Z"
   },
   {
    "duration": 15,
    "start_time": "2022-05-01T09:08:41.595Z"
   },
   {
    "duration": 9,
    "start_time": "2022-05-01T09:08:41.611Z"
   },
   {
    "duration": 30,
    "start_time": "2022-05-01T09:08:41.621Z"
   },
   {
    "duration": 32,
    "start_time": "2022-05-01T09:08:41.653Z"
   },
   {
    "duration": 24,
    "start_time": "2022-05-01T09:08:41.687Z"
   },
   {
    "duration": 82,
    "start_time": "2022-05-01T09:08:41.713Z"
   },
   {
    "duration": 88,
    "start_time": "2022-05-01T09:08:41.797Z"
   },
   {
    "duration": 55,
    "start_time": "2022-05-01T09:08:41.887Z"
   },
   {
    "duration": 78,
    "start_time": "2022-05-01T09:08:41.944Z"
   },
   {
    "duration": 0,
    "start_time": "2022-05-01T09:08:42.024Z"
   },
   {
    "duration": 0,
    "start_time": "2022-05-01T09:08:42.026Z"
   },
   {
    "duration": 0,
    "start_time": "2022-05-01T09:08:42.027Z"
   },
   {
    "duration": 0,
    "start_time": "2022-05-01T09:08:42.028Z"
   },
   {
    "duration": 0,
    "start_time": "2022-05-01T09:08:42.029Z"
   },
   {
    "duration": 0,
    "start_time": "2022-05-01T09:08:42.030Z"
   },
   {
    "duration": 0,
    "start_time": "2022-05-01T09:08:42.032Z"
   },
   {
    "duration": 0,
    "start_time": "2022-05-01T09:08:42.032Z"
   },
   {
    "duration": 0,
    "start_time": "2022-05-01T09:08:42.034Z"
   },
   {
    "duration": 0,
    "start_time": "2022-05-01T09:08:42.035Z"
   },
   {
    "duration": 0,
    "start_time": "2022-05-01T09:08:42.037Z"
   },
   {
    "duration": 0,
    "start_time": "2022-05-01T09:08:42.038Z"
   },
   {
    "duration": 0,
    "start_time": "2022-05-01T09:08:42.039Z"
   },
   {
    "duration": 0,
    "start_time": "2022-05-01T09:08:42.040Z"
   },
   {
    "duration": 0,
    "start_time": "2022-05-01T09:08:42.041Z"
   },
   {
    "duration": 0,
    "start_time": "2022-05-01T09:08:42.042Z"
   },
   {
    "duration": 0,
    "start_time": "2022-05-01T09:08:42.043Z"
   },
   {
    "duration": 0,
    "start_time": "2022-05-01T09:08:42.072Z"
   },
   {
    "duration": 0,
    "start_time": "2022-05-01T09:08:42.074Z"
   },
   {
    "duration": 0,
    "start_time": "2022-05-01T09:08:42.075Z"
   },
   {
    "duration": 0,
    "start_time": "2022-05-01T09:08:42.076Z"
   },
   {
    "duration": 0,
    "start_time": "2022-05-01T09:08:42.077Z"
   },
   {
    "duration": 0,
    "start_time": "2022-05-01T09:08:42.078Z"
   },
   {
    "duration": 0,
    "start_time": "2022-05-01T09:08:42.079Z"
   },
   {
    "duration": 53,
    "start_time": "2022-05-01T09:10:32.011Z"
   },
   {
    "duration": 49,
    "start_time": "2022-05-01T09:10:38.202Z"
   },
   {
    "duration": 396,
    "start_time": "2022-05-01T09:11:20.437Z"
   },
   {
    "duration": 155,
    "start_time": "2022-05-01T09:11:20.835Z"
   },
   {
    "duration": 9,
    "start_time": "2022-05-01T09:11:20.991Z"
   },
   {
    "duration": 34,
    "start_time": "2022-05-01T09:11:21.002Z"
   },
   {
    "duration": 8,
    "start_time": "2022-05-01T09:11:21.037Z"
   },
   {
    "duration": 29,
    "start_time": "2022-05-01T09:11:21.047Z"
   },
   {
    "duration": 17,
    "start_time": "2022-05-01T09:11:21.078Z"
   },
   {
    "duration": 33,
    "start_time": "2022-05-01T09:11:21.097Z"
   },
   {
    "duration": 21,
    "start_time": "2022-05-01T09:11:21.132Z"
   },
   {
    "duration": 25,
    "start_time": "2022-05-01T09:11:21.156Z"
   },
   {
    "duration": 70,
    "start_time": "2022-05-01T09:11:21.183Z"
   },
   {
    "duration": 87,
    "start_time": "2022-05-01T09:11:21.255Z"
   },
   {
    "duration": 73,
    "start_time": "2022-05-01T09:11:21.344Z"
   },
   {
    "duration": 64,
    "start_time": "2022-05-01T09:11:21.418Z"
   },
   {
    "duration": 3,
    "start_time": "2022-05-01T09:11:21.483Z"
   },
   {
    "duration": 14,
    "start_time": "2022-05-01T09:11:21.487Z"
   },
   {
    "duration": 50,
    "start_time": "2022-05-01T09:11:21.502Z"
   },
   {
    "duration": 24,
    "start_time": "2022-05-01T09:11:21.553Z"
   },
   {
    "duration": 12,
    "start_time": "2022-05-01T09:11:21.578Z"
   },
   {
    "duration": 6,
    "start_time": "2022-05-01T09:11:21.592Z"
   },
   {
    "duration": 29,
    "start_time": "2022-05-01T09:11:21.600Z"
   },
   {
    "duration": 18,
    "start_time": "2022-05-01T09:11:21.630Z"
   },
   {
    "duration": 19,
    "start_time": "2022-05-01T09:11:21.672Z"
   },
   {
    "duration": 16,
    "start_time": "2022-05-01T09:11:21.693Z"
   },
   {
    "duration": 22,
    "start_time": "2022-05-01T09:11:21.711Z"
   },
   {
    "duration": 48,
    "start_time": "2022-05-01T09:11:21.735Z"
   },
   {
    "duration": 11,
    "start_time": "2022-05-01T09:11:21.784Z"
   },
   {
    "duration": 11,
    "start_time": "2022-05-01T09:11:21.799Z"
   },
   {
    "duration": 11,
    "start_time": "2022-05-01T09:11:21.812Z"
   },
   {
    "duration": 6,
    "start_time": "2022-05-01T09:11:21.825Z"
   },
   {
    "duration": 50,
    "start_time": "2022-05-01T09:11:21.833Z"
   },
   {
    "duration": 12,
    "start_time": "2022-05-01T09:11:21.885Z"
   },
   {
    "duration": 16,
    "start_time": "2022-05-01T09:11:21.899Z"
   },
   {
    "duration": 11,
    "start_time": "2022-05-01T09:11:21.916Z"
   },
   {
    "duration": 8,
    "start_time": "2022-05-01T09:11:21.929Z"
   },
   {
    "duration": 39,
    "start_time": "2022-05-01T09:11:21.938Z"
   },
   {
    "duration": 10,
    "start_time": "2022-05-01T09:11:21.978Z"
   },
   {
    "duration": 4,
    "start_time": "2022-05-01T09:11:21.990Z"
   },
   {
    "duration": 87,
    "start_time": "2022-05-01T09:16:08.007Z"
   },
   {
    "duration": 93,
    "start_time": "2022-05-01T09:16:11.229Z"
   },
   {
    "duration": 921,
    "start_time": "2022-05-01T09:16:15.231Z"
   },
   {
    "duration": 88,
    "start_time": "2022-05-01T09:16:46.807Z"
   },
   {
    "duration": 359,
    "start_time": "2022-05-01T09:17:38.231Z"
   },
   {
    "duration": 154,
    "start_time": "2022-05-01T09:17:38.592Z"
   },
   {
    "duration": 8,
    "start_time": "2022-05-01T09:17:38.748Z"
   },
   {
    "duration": 39,
    "start_time": "2022-05-01T09:17:38.759Z"
   },
   {
    "duration": 5,
    "start_time": "2022-05-01T09:17:38.799Z"
   },
   {
    "duration": 22,
    "start_time": "2022-05-01T09:17:38.805Z"
   },
   {
    "duration": 6,
    "start_time": "2022-05-01T09:17:38.829Z"
   },
   {
    "duration": 39,
    "start_time": "2022-05-01T09:17:38.837Z"
   },
   {
    "duration": 19,
    "start_time": "2022-05-01T09:17:38.878Z"
   },
   {
    "duration": 24,
    "start_time": "2022-05-01T09:17:38.900Z"
   },
   {
    "duration": 93,
    "start_time": "2022-05-01T09:17:38.926Z"
   },
   {
    "duration": 88,
    "start_time": "2022-05-01T09:17:39.021Z"
   },
   {
    "duration": 66,
    "start_time": "2022-05-01T09:17:39.110Z"
   },
   {
    "duration": 53,
    "start_time": "2022-05-01T09:17:39.178Z"
   },
   {
    "duration": 81,
    "start_time": "2022-05-01T09:17:39.232Z"
   },
   {
    "duration": 0,
    "start_time": "2022-05-01T09:17:39.316Z"
   },
   {
    "duration": 0,
    "start_time": "2022-05-01T09:17:39.318Z"
   },
   {
    "duration": 0,
    "start_time": "2022-05-01T09:17:39.319Z"
   },
   {
    "duration": 0,
    "start_time": "2022-05-01T09:17:39.320Z"
   },
   {
    "duration": 0,
    "start_time": "2022-05-01T09:17:39.321Z"
   },
   {
    "duration": 0,
    "start_time": "2022-05-01T09:17:39.323Z"
   },
   {
    "duration": 0,
    "start_time": "2022-05-01T09:17:39.324Z"
   },
   {
    "duration": 0,
    "start_time": "2022-05-01T09:17:39.325Z"
   },
   {
    "duration": 0,
    "start_time": "2022-05-01T09:17:39.326Z"
   },
   {
    "duration": 0,
    "start_time": "2022-05-01T09:17:39.327Z"
   },
   {
    "duration": 0,
    "start_time": "2022-05-01T09:17:39.328Z"
   },
   {
    "duration": 0,
    "start_time": "2022-05-01T09:17:39.329Z"
   },
   {
    "duration": 0,
    "start_time": "2022-05-01T09:17:39.330Z"
   },
   {
    "duration": 0,
    "start_time": "2022-05-01T09:17:39.331Z"
   },
   {
    "duration": 0,
    "start_time": "2022-05-01T09:17:39.332Z"
   },
   {
    "duration": 0,
    "start_time": "2022-05-01T09:17:39.333Z"
   },
   {
    "duration": 0,
    "start_time": "2022-05-01T09:17:39.334Z"
   },
   {
    "duration": 0,
    "start_time": "2022-05-01T09:17:39.335Z"
   },
   {
    "duration": 0,
    "start_time": "2022-05-01T09:17:39.337Z"
   },
   {
    "duration": 0,
    "start_time": "2022-05-01T09:17:39.338Z"
   },
   {
    "duration": 0,
    "start_time": "2022-05-01T09:17:39.339Z"
   },
   {
    "duration": 0,
    "start_time": "2022-05-01T09:17:39.340Z"
   },
   {
    "duration": 0,
    "start_time": "2022-05-01T09:17:39.341Z"
   },
   {
    "duration": 0,
    "start_time": "2022-05-01T09:17:39.342Z"
   },
   {
    "duration": 384,
    "start_time": "2022-05-01T09:25:34.041Z"
   },
   {
    "duration": 172,
    "start_time": "2022-05-01T09:25:34.427Z"
   },
   {
    "duration": 9,
    "start_time": "2022-05-01T09:25:34.600Z"
   },
   {
    "duration": 32,
    "start_time": "2022-05-01T09:25:34.611Z"
   },
   {
    "duration": 3,
    "start_time": "2022-05-01T09:25:34.645Z"
   },
   {
    "duration": 41,
    "start_time": "2022-05-01T09:25:34.650Z"
   },
   {
    "duration": 6,
    "start_time": "2022-05-01T09:25:34.692Z"
   },
   {
    "duration": 28,
    "start_time": "2022-05-01T09:25:34.700Z"
   },
   {
    "duration": 18,
    "start_time": "2022-05-01T09:25:34.730Z"
   },
   {
    "duration": 47,
    "start_time": "2022-05-01T09:25:34.751Z"
   },
   {
    "duration": 89,
    "start_time": "2022-05-01T09:25:34.800Z"
   },
   {
    "duration": 76,
    "start_time": "2022-05-01T09:25:34.891Z"
   },
   {
    "duration": 77,
    "start_time": "2022-05-01T09:25:34.980Z"
   },
   {
    "duration": 67,
    "start_time": "2022-05-01T09:25:35.058Z"
   },
   {
    "duration": 4,
    "start_time": "2022-05-01T09:25:35.126Z"
   },
   {
    "duration": 13,
    "start_time": "2022-05-01T09:25:35.132Z"
   },
   {
    "duration": 72,
    "start_time": "2022-05-01T09:25:35.147Z"
   },
   {
    "duration": 12,
    "start_time": "2022-05-01T09:25:35.221Z"
   },
   {
    "duration": 13,
    "start_time": "2022-05-01T09:25:35.235Z"
   },
   {
    "duration": 37,
    "start_time": "2022-05-01T09:25:35.250Z"
   },
   {
    "duration": 39,
    "start_time": "2022-05-01T09:25:35.290Z"
   },
   {
    "duration": 18,
    "start_time": "2022-05-01T09:25:35.331Z"
   },
   {
    "duration": 35,
    "start_time": "2022-05-01T09:25:35.351Z"
   },
   {
    "duration": 19,
    "start_time": "2022-05-01T09:25:35.389Z"
   },
   {
    "duration": 23,
    "start_time": "2022-05-01T09:25:35.410Z"
   },
   {
    "duration": 45,
    "start_time": "2022-05-01T09:25:35.435Z"
   },
   {
    "duration": 17,
    "start_time": "2022-05-01T09:25:35.481Z"
   },
   {
    "duration": 20,
    "start_time": "2022-05-01T09:25:35.502Z"
   },
   {
    "duration": 10,
    "start_time": "2022-05-01T09:25:35.525Z"
   },
   {
    "duration": 8,
    "start_time": "2022-05-01T09:25:35.537Z"
   },
   {
    "duration": 42,
    "start_time": "2022-05-01T09:25:35.547Z"
   },
   {
    "duration": 19,
    "start_time": "2022-05-01T09:25:35.591Z"
   },
   {
    "duration": 17,
    "start_time": "2022-05-01T09:25:35.611Z"
   },
   {
    "duration": 11,
    "start_time": "2022-05-01T09:25:35.629Z"
   },
   {
    "duration": 39,
    "start_time": "2022-05-01T09:25:35.642Z"
   },
   {
    "duration": 7,
    "start_time": "2022-05-01T09:25:35.683Z"
   },
   {
    "duration": 20,
    "start_time": "2022-05-01T09:25:35.692Z"
   },
   {
    "duration": 7,
    "start_time": "2022-05-01T09:25:35.713Z"
   }
  ],
  "colab": {
   "collapsed_sections": [
    "E0vqbgi9ay0H",
    "VUC88oWjTJw2"
   ],
   "name": "yandex_music_project.ipynb",
   "provenance": []
  },
  "kernelspec": {
   "display_name": "Python 3 (ipykernel)",
   "language": "python",
   "name": "python3"
  },
  "language_info": {
   "codemirror_mode": {
    "name": "ipython",
    "version": 3
   },
   "file_extension": ".py",
   "mimetype": "text/x-python",
   "name": "python",
   "nbconvert_exporter": "python",
   "pygments_lexer": "ipython3",
   "version": "3.9.7"
  },
  "toc": {
   "base_numbering": 1,
   "nav_menu": {},
   "number_sections": true,
   "sideBar": true,
   "skip_h1_title": true,
   "title_cell": "Table of Contents",
   "title_sidebar": "Contents",
   "toc_cell": false,
   "toc_position": {
    "height": "calc(100% - 180px)",
    "left": "10px",
    "top": "150px",
    "width": "366.4px"
   },
   "toc_section_display": true,
   "toc_window_display": true
  }
 },
 "nbformat": 4,
 "nbformat_minor": 1
}
